{
 "cells": [
  {
   "cell_type": "raw",
   "id": "b03b4950",
   "metadata": {},
   "source": [
    "Introduction"
   ]
  },
  {
   "cell_type": "markdown",
   "id": "bbde9f4c",
   "metadata": {},
   "source": [
    "Python, Data Science, Machine Learning"
   ]
  },
  {
   "cell_type": "raw",
   "id": "542577e9",
   "metadata": {},
   "source": [
    "extensions: .ipynb >> Interactive Python Notebook\n",
    "    .py python file"
   ]
  },
  {
   "cell_type": "raw",
   "id": "268989b4",
   "metadata": {},
   "source": [
    "execute cell: \n",
    "    1. ctrl+ enter >> run current cell\n",
    "    2. shift + enter >> execute current cell and goto next cell\n",
    "    3. alt + enter >> execute current cell create new blank cell"
   ]
  },
  {
   "cell_type": "markdown",
   "id": "32c048ad",
   "metadata": {},
   "source": [
    "### Intro"
   ]
  },
  {
   "cell_type": "markdown",
   "id": "eed9ffb4",
   "metadata": {},
   "source": [
    "## Intro"
   ]
  },
  {
   "cell_type": "markdown",
   "id": "3d0e58ca",
   "metadata": {},
   "source": [
    "# Intro"
   ]
  },
  {
   "cell_type": "raw",
   "id": "9da949d3",
   "metadata": {},
   "source": [
    "Comments: \n",
    "    >> used to explain code\n",
    "    >> it makes code readable\n",
    "    >> Comments/ commented lines can prevent execution of code"
   ]
  },
  {
   "cell_type": "raw",
   "id": "2d80d9c3",
   "metadata": {},
   "source": [
    "1. single line comment \n",
    "use # at the begining of line\n",
    "2. for multiple line comment >> control + / \n",
    "3. triple quotes>>>    \"\"\" write here \"\"\""
   ]
  },
  {
   "cell_type": "code",
   "execution_count": null,
   "id": "97dab47a",
   "metadata": {},
   "outputs": [],
   "source": [
    "#science is an interdisciplinary field that"
   ]
  },
  {
   "cell_type": "code",
   "execution_count": null,
   "id": "0a2a9843",
   "metadata": {},
   "outputs": [],
   "source": [
    "# Data science is an interdisciplinary field that uses \n",
    "# scientific methods, processes, algorithms a"
   ]
  },
  {
   "cell_type": "code",
   "execution_count": 19,
   "id": "bc4868b2",
   "metadata": {},
   "outputs": [],
   "source": [
    "\"\"\"Data science is an interdisciplinary field that uses \n",
    "scientific methods, processes, algorithms and systems to \n",
    "extract knowledge and insights \n",
    "from noisy, structured and unstructured data, and apply\"\"\""
   ]
  },
  {
   "cell_type": "markdown",
   "id": "7fb35694",
   "metadata": {},
   "source": [
    "# Print"
   ]
  },
  {
   "cell_type": "code",
   "execution_count": 21,
   "id": "3ddb9baa",
   "metadata": {},
   "outputs": [
    {
     "name": "stdout",
     "output_type": "stream",
     "text": [
      "Hello Velocity\n"
     ]
    }
   ],
   "source": [
    "print('Hello Velocity')"
   ]
  },
  {
   "cell_type": "code",
   "execution_count": 24,
   "id": "197da222",
   "metadata": {},
   "outputs": [
    {
     "name": "stdout",
     "output_type": "stream",
     "text": [
      "Hello\n"
     ]
    }
   ],
   "source": [
    "print(\"Hello\")"
   ]
  },
  {
   "cell_type": "code",
   "execution_count": 48,
   "id": "8b66d4c0",
   "metadata": {},
   "outputs": [],
   "source": [
    "a= 3\n",
    "b= 4\n",
    "anwer=(a+b)"
   ]
  },
  {
   "cell_type": "code",
   "execution_count": 38,
   "id": "e0afb2e5",
   "metadata": {},
   "outputs": [
    {
     "name": "stdout",
     "output_type": "stream",
     "text": [
      "3\n"
     ]
    }
   ],
   "source": [
    "print(a)\n",
    "a=5"
   ]
  },
  {
   "cell_type": "code",
   "execution_count": 26,
   "id": "ca0288a8",
   "metadata": {},
   "outputs": [
    {
     "name": "stdout",
     "output_type": "stream",
     "text": [
      "4\n"
     ]
    }
   ],
   "source": [
    "print(b)"
   ]
  },
  {
   "cell_type": "code",
   "execution_count": 39,
   "id": "76b1b032",
   "metadata": {},
   "outputs": [
    {
     "name": "stdout",
     "output_type": "stream",
     "text": [
      "5\n"
     ]
    }
   ],
   "source": [
    "print(a)"
   ]
  },
  {
   "cell_type": "code",
   "execution_count": 40,
   "id": "253c2169",
   "metadata": {},
   "outputs": [],
   "source": [
    "a= 'atul'"
   ]
  },
  {
   "cell_type": "code",
   "execution_count": 41,
   "id": "51ba2df3",
   "metadata": {},
   "outputs": [
    {
     "name": "stdout",
     "output_type": "stream",
     "text": [
      "atul\n"
     ]
    }
   ],
   "source": [
    "print(a)"
   ]
  },
  {
   "cell_type": "code",
   "execution_count": 49,
   "id": "03999598",
   "metadata": {},
   "outputs": [
    {
     "name": "stdout",
     "output_type": "stream",
     "text": [
      "7\n"
     ]
    }
   ],
   "source": [
    "print(anwer)"
   ]
  },
  {
   "cell_type": "code",
   "execution_count": null,
   "id": "52050cda",
   "metadata": {},
   "outputs": [],
   "source": []
  }
 ],
 "metadata": {
  "kernelspec": {
   "display_name": "Python 3",
   "language": "python",
   "name": "python3"
  },
  "language_info": {
   "codemirror_mode": {
    "name": "ipython",
    "version": 3
   },
   "file_extension": ".py",
   "mimetype": "text/x-python",
   "name": "python",
   "nbconvert_exporter": "python",
   "pygments_lexer": "ipython3",
   "version": "3.8.8"
  }
 },
 "nbformat": 4,
 "nbformat_minor": 5
}
