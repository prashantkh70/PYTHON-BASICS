{
 "cells": [
  {
   "cell_type": "markdown",
   "id": "c623c9c9",
   "metadata": {},
   "source": [
    "# Module"
   ]
  },
  {
   "cell_type": "code",
   "execution_count": null,
   "id": "d23231c0",
   "metadata": {},
   "outputs": [],
   "source": [
    "A simple file with .py extension"
   ]
  },
  {
   "cell_type": "code",
   "execution_count": null,
   "id": "0633984e",
   "metadata": {},
   "outputs": [],
   "source": [
    "pandas "
   ]
  },
  {
   "cell_type": "code",
   "execution_count": 2,
   "id": "96376b17",
   "metadata": {},
   "outputs": [],
   "source": [
    "import pandas\n",
    "import numpy"
   ]
  },
  {
   "cell_type": "markdown",
   "id": "7de75037",
   "metadata": {},
   "source": [
    "### Moudules contains following components"
   ]
  },
  {
   "cell_type": "code",
   "execution_count": null,
   "id": "7cb10939",
   "metadata": {},
   "outputs": [],
   "source": [
    "1. variables\n",
    "2. Functions\n",
    "3. Class names\n"
   ]
  },
  {
   "cell_type": "code",
   "execution_count": null,
   "id": "97578d7a",
   "metadata": {},
   "outputs": [],
   "source": [
    "class ClassName:  #class\n",
    "    pass\n",
    "\n",
    "\n",
    "def function_name():  #function\n",
    "    pass\n",
    "\n",
    "x = 5    # variables\n",
    "y = 6\n"
   ]
  },
  {
   "cell_type": "markdown",
   "id": "1b0ff53b",
   "metadata": {},
   "source": [
    "### Important keywords"
   ]
  },
  {
   "cell_type": "code",
   "execution_count": null,
   "id": "d460347e",
   "metadata": {},
   "outputs": [],
   "source": [
    "1. import >> used to import modules, libraries, and packages\n",
    "2. as     >> used to rename the modules, libraries, and packages\n",
    "3. from   >> from ClassName import function_name  as fn"
   ]
  },
  {
   "cell_type": "markdown",
   "id": "4856e54f",
   "metadata": {},
   "source": [
    "## Packages"
   ]
  },
  {
   "cell_type": "code",
   "execution_count": null,
   "id": "89758ca3",
   "metadata": {},
   "outputs": [],
   "source": [
    "It is directory with python files(.py) and __init__.py"
   ]
  },
  {
   "cell_type": "markdown",
   "id": "5499839b",
   "metadata": {},
   "source": [
    "### to run the python file"
   ]
  },
  {
   "cell_type": "code",
   "execution_count": null,
   "id": "444b3c2e",
   "metadata": {},
   "outputs": [],
   "source": [
    "python file_name.py"
   ]
  },
  {
   "cell_type": "code",
   "execution_count": 3,
   "id": "0a0b8ca3",
   "metadata": {},
   "outputs": [
    {
     "name": "stdout",
     "output_type": "stream",
     "text": [
      "Fibonacci\n"
     ]
    },
    {
     "data": {
      "text/plain": [
       "[0, 1, 1, 2, 3, 5]"
      ]
     },
     "execution_count": 3,
     "metadata": {},
     "output_type": "execute_result"
    }
   ],
   "source": [
    "def fibonacci():\n",
    "    print('Fibonacci')\n",
    "    return [0,1,1,2,3,5]\n",
    "\n",
    "fibonacci()"
   ]
  },
  {
   "cell_type": "code",
   "execution_count": 4,
   "id": "385e052f",
   "metadata": {},
   "outputs": [
    {
     "name": "stdout",
     "output_type": "stream",
     "text": [
      "Fibonacci\n"
     ]
    },
    {
     "data": {
      "text/plain": [
       "[0, 1, 1, 2, 3, 5]"
      ]
     },
     "execution_count": 4,
     "metadata": {},
     "output_type": "execute_result"
    }
   ],
   "source": [
    "fibonacci()"
   ]
  },
  {
   "cell_type": "code",
   "execution_count": 5,
   "id": "a14910e3",
   "metadata": {},
   "outputs": [
    {
     "name": "stdout",
     "output_type": "stream",
     "text": [
      "Multiplication Function\n",
      "Multiplication of 20 and 30 is 600\n"
     ]
    },
    {
     "data": {
      "text/plain": [
       "600"
      ]
     },
     "execution_count": 5,
     "metadata": {},
     "output_type": "execute_result"
    }
   ],
   "source": [
    "x = 20\n",
    "y = 30\n",
    "\n",
    "def multiplication(a,b):\n",
    "    print('Multiplication Function')\n",
    "    mul = a*b\n",
    "    print(f'Multiplication of {a} and {b} is {mul}')\n",
    "    return mul\n",
    "\n",
    "\n",
    "multiplication(x,y)"
   ]
  },
  {
   "cell_type": "code",
   "execution_count": 7,
   "id": "1d3e07f8",
   "metadata": {},
   "outputs": [],
   "source": [
    "import re\n",
    "import numpy\n",
    "import seaborn\n",
    "import pandas"
   ]
  },
  {
   "cell_type": "code",
   "execution_count": null,
   "id": "9ea286ee",
   "metadata": {},
   "outputs": [],
   "source": [
    "pandas 0.24.1   #2 year ago\n",
    "\n",
    "pandas 1.9.5    # now\n",
    "\n",
    "environment setting   >>>   "
   ]
  },
  {
   "cell_type": "code",
   "execution_count": 8,
   "id": "29139609",
   "metadata": {},
   "outputs": [],
   "source": [
    "import pandas "
   ]
  },
  {
   "cell_type": "code",
   "execution_count": 10,
   "id": "939d12a3",
   "metadata": {},
   "outputs": [],
   "source": [
    "# pandas.read_csv('Medicalpremium.csv')"
   ]
  },
  {
   "cell_type": "code",
   "execution_count": 12,
   "id": "94a6dc94",
   "metadata": {},
   "outputs": [],
   "source": [
    "import pandas as pd"
   ]
  },
  {
   "cell_type": "code",
   "execution_count": 14,
   "id": "875b32c7",
   "metadata": {},
   "outputs": [],
   "source": [
    "# pd.read_csv('Medicalpremium.csv')"
   ]
  },
  {
   "cell_type": "code",
   "execution_count": 15,
   "id": "4b1d1e48",
   "metadata": {},
   "outputs": [],
   "source": [
    "import numpy as np"
   ]
  },
  {
   "cell_type": "code",
   "execution_count": 16,
   "id": "87e19281",
   "metadata": {},
   "outputs": [
    {
     "data": {
      "text/plain": [
       "array([3, 5])"
      ]
     },
     "execution_count": 16,
     "metadata": {},
     "output_type": "execute_result"
    }
   ],
   "source": [
    "np.array([3,5])"
   ]
  },
  {
   "cell_type": "code",
   "execution_count": 17,
   "id": "2c83c0f5",
   "metadata": {},
   "outputs": [
    {
     "data": {
      "text/plain": [
       "11"
      ]
     },
     "execution_count": 17,
     "metadata": {},
     "output_type": "execute_result"
    }
   ],
   "source": [
    "np.random.randint(10,20)"
   ]
  },
  {
   "cell_type": "code",
   "execution_count": 25,
   "id": "ef8df329",
   "metadata": {},
   "outputs": [
    {
     "data": {
      "text/plain": [
       "19"
      ]
     },
     "execution_count": 25,
     "metadata": {},
     "output_type": "execute_result"
    }
   ],
   "source": [
    "np.random.randint(10,20)"
   ]
  },
  {
   "cell_type": "code",
   "execution_count": 23,
   "id": "22f70011",
   "metadata": {},
   "outputs": [
    {
     "data": {
      "text/plain": [
       "array([10, 13])"
      ]
     },
     "execution_count": 23,
     "metadata": {},
     "output_type": "execute_result"
    }
   ],
   "source": [
    "np.random.randint(10,20,2)"
   ]
  },
  {
   "cell_type": "code",
   "execution_count": 21,
   "id": "07b0ebbe",
   "metadata": {},
   "outputs": [
    {
     "data": {
      "text/plain": [
       "179008"
      ]
     },
     "execution_count": 21,
     "metadata": {},
     "output_type": "execute_result"
    }
   ],
   "source": [
    "np.random.randint(100000,200000)"
   ]
  },
  {
   "cell_type": "code",
   "execution_count": 22,
   "id": "b7504dbe",
   "metadata": {},
   "outputs": [
    {
     "data": {
      "text/plain": [
       "150276"
      ]
     },
     "execution_count": 22,
     "metadata": {},
     "output_type": "execute_result"
    }
   ],
   "source": [
    "np.random.randint(100000,200000)"
   ]
  },
  {
   "cell_type": "code",
   "execution_count": 24,
   "id": "cd731ec1",
   "metadata": {},
   "outputs": [
    {
     "data": {
      "text/plain": [
       "array([13, 11])"
      ]
     },
     "execution_count": 24,
     "metadata": {},
     "output_type": "execute_result"
    }
   ],
   "source": [
    "np.random.randint(10,20,2)"
   ]
  },
  {
   "cell_type": "code",
   "execution_count": null,
   "id": "1fa18773",
   "metadata": {},
   "outputs": [],
   "source": [
    "import pandas as pd\n",
    "pd.DataFrame()"
   ]
  },
  {
   "cell_type": "code",
   "execution_count": null,
   "id": "20874c5f",
   "metadata": {},
   "outputs": [],
   "source": [
    "import pandas as pds\n",
    "pds.DataFrame()"
   ]
  },
  {
   "cell_type": "markdown",
   "id": "11e7a2cd",
   "metadata": {},
   "source": [
    "# VS code"
   ]
  },
  {
   "cell_type": "code",
   "execution_count": null,
   "id": "fe7bfd84",
   "metadata": {},
   "outputs": [],
   "source": [
    "\n",
    "https://code.visualstudio.com › download\n",
    "\n",
    "To open file with vs code >>> right click and open with code\n",
    "or launch VS code and open file location\n",
    "\n",
    "to open VS code terminal\n",
    "use:\n",
    "    control +  ~"
   ]
  },
  {
   "cell_type": "code",
   "execution_count": 26,
   "id": "71ddeb7b",
   "metadata": {},
   "outputs": [],
   "source": [
    "import platform"
   ]
  },
  {
   "cell_type": "code",
   "execution_count": 27,
   "id": "09d9f34b",
   "metadata": {},
   "outputs": [
    {
     "data": {
      "text/plain": [
       "['_WIN32_CLIENT_RELEASES',\n",
       " '_WIN32_SERVER_RELEASES',\n",
       " '__builtins__',\n",
       " '__cached__',\n",
       " '__copyright__',\n",
       " '__doc__',\n",
       " '__file__',\n",
       " '__loader__',\n",
       " '__name__',\n",
       " '__package__',\n",
       " '__spec__',\n",
       " '__version__',\n",
       " '_comparable_version',\n",
       " '_component_re',\n",
       " '_default_architecture',\n",
       " '_follow_symlinks',\n",
       " '_ironpython26_sys_version_parser',\n",
       " '_ironpython_sys_version_parser',\n",
       " '_java_getprop',\n",
       " '_libc_search',\n",
       " '_mac_ver_xml',\n",
       " '_node',\n",
       " '_norm_version',\n",
       " '_platform',\n",
       " '_platform_cache',\n",
       " '_pypy_sys_version_parser',\n",
       " '_sys_version',\n",
       " '_sys_version_cache',\n",
       " '_sys_version_parser',\n",
       " '_syscmd_file',\n",
       " '_syscmd_uname',\n",
       " '_syscmd_ver',\n",
       " '_uname_cache',\n",
       " '_ver_output',\n",
       " '_ver_stages',\n",
       " 'architecture',\n",
       " 'collections',\n",
       " 'java_ver',\n",
       " 'libc_ver',\n",
       " 'mac_ver',\n",
       " 'machine',\n",
       " 'node',\n",
       " 'os',\n",
       " 'platform',\n",
       " 'processor',\n",
       " 'python_branch',\n",
       " 'python_build',\n",
       " 'python_compiler',\n",
       " 'python_implementation',\n",
       " 'python_revision',\n",
       " 'python_version',\n",
       " 'python_version_tuple',\n",
       " 're',\n",
       " 'release',\n",
       " 'sys',\n",
       " 'system',\n",
       " 'system_alias',\n",
       " 'uname',\n",
       " 'uname_result',\n",
       " 'version',\n",
       " 'win32_edition',\n",
       " 'win32_is_iot',\n",
       " 'win32_ver']"
      ]
     },
     "execution_count": 27,
     "metadata": {},
     "output_type": "execute_result"
    }
   ],
   "source": [
    "dir(platform)"
   ]
  },
  {
   "cell_type": "code",
   "execution_count": 28,
   "id": "4b1fd0c6",
   "metadata": {},
   "outputs": [
    {
     "data": {
      "text/plain": [
       "'Windows'"
      ]
     },
     "execution_count": 28,
     "metadata": {},
     "output_type": "execute_result"
    }
   ],
   "source": [
    "x= platform.system()\n",
    "x"
   ]
  },
  {
   "cell_type": "code",
   "execution_count": 30,
   "id": "5a9583a7",
   "metadata": {},
   "outputs": [
    {
     "data": {
      "text/plain": [
       "<module 'sys' (built-in)>"
      ]
     },
     "execution_count": 30,
     "metadata": {},
     "output_type": "execute_result"
    }
   ],
   "source": [
    "x= platform.sys\n",
    "x"
   ]
  },
  {
   "cell_type": "code",
   "execution_count": 31,
   "id": "67b0e9b4",
   "metadata": {},
   "outputs": [
    {
     "data": {
      "text/plain": [
       "'10.0.19041'"
      ]
     },
     "execution_count": 31,
     "metadata": {},
     "output_type": "execute_result"
    }
   ],
   "source": [
    "x= platform.version()\n",
    "x"
   ]
  },
  {
   "cell_type": "code",
   "execution_count": 32,
   "id": "1c598f70",
   "metadata": {},
   "outputs": [
    {
     "data": {
      "text/plain": [
       "'Intel64 Family 6 Model 42 Stepping 7, GenuineIntel'"
      ]
     },
     "execution_count": 32,
     "metadata": {},
     "output_type": "execute_result"
    }
   ],
   "source": [
    "\n",
    "x= platform.processor()\n",
    "x"
   ]
  },
  {
   "cell_type": "code",
   "execution_count": null,
   "id": "97f43252",
   "metadata": {},
   "outputs": [],
   "source": []
  }
 ],
 "metadata": {
  "kernelspec": {
   "display_name": "Python 3",
   "language": "python",
   "name": "python3"
  },
  "language_info": {
   "codemirror_mode": {
    "name": "ipython",
    "version": 3
   },
   "file_extension": ".py",
   "mimetype": "text/x-python",
   "name": "python",
   "nbconvert_exporter": "python",
   "pygments_lexer": "ipython3",
   "version": "3.8.8"
  }
 },
 "nbformat": 4,
 "nbformat_minor": 5
}
