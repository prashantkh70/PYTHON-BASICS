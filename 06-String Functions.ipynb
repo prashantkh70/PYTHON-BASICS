{
 "cells": [
  {
   "cell_type": "code",
   "execution_count": null,
   "id": "5167b2da",
   "metadata": {},
   "outputs": [],
   "source": [
    "string = \"data science\""
   ]
  },
  {
   "cell_type": "raw",
   "id": "767fb2e5",
   "metadata": {},
   "source": [
    "string functions\n",
    "1. capitalize()\n",
    "2. lower()\n",
    "3. upper()\n",
    "4. title()\n",
    "5. lstrip()\n",
    "6. rstrip()\n",
    "7. strip()\n",
    "8. replace()\n",
    "9. count()\n",
    "10. index()"
   ]
  },
  {
   "cell_type": "markdown",
   "id": "b47a9b18",
   "metadata": {},
   "source": [
    "# 1. capitalize()"
   ]
  },
  {
   "cell_type": "code",
   "execution_count": null,
   "id": "19a892b1",
   "metadata": {},
   "outputs": [],
   "source": [
    "it will capitalize only first char of string\n",
    "first cchar>> zero index char string\n",
    "syntax\n",
    "variable_name.capitalize()"
   ]
  },
  {
   "cell_type": "code",
   "execution_count": 2,
   "id": "1579e898",
   "metadata": {},
   "outputs": [
    {
     "name": "stdout",
     "output_type": "stream",
     "text": [
      "Data science\n"
     ]
    }
   ],
   "source": [
    "string = \"data science\"\n",
    "print(string.capitalize())"
   ]
  },
  {
   "cell_type": "code",
   "execution_count": 3,
   "id": "b10e9366",
   "metadata": {},
   "outputs": [
    {
     "name": "stdout",
     "output_type": "stream",
     "text": [
      "Data science\n"
     ]
    }
   ],
   "source": [
    "string = \"datA Science\"\n",
    "print(string.capitalize())"
   ]
  },
  {
   "cell_type": "code",
   "execution_count": 4,
   "id": "acac0a8c",
   "metadata": {},
   "outputs": [
    {
     "name": "stdout",
     "output_type": "stream",
     "text": [
      "Data science\n"
     ]
    }
   ],
   "source": [
    "string = \"DATA SCIENCE\"\n",
    "print(string.capitalize())"
   ]
  },
  {
   "cell_type": "code",
   "execution_count": 5,
   "id": "166b2643",
   "metadata": {},
   "outputs": [
    {
     "name": "stdout",
     "output_type": "stream",
     "text": [
      "Machine learning is a field of inquiry devoted to understanding and building methods\n"
     ]
    }
   ],
   "source": [
    "ml = 'MacHine Learning is a field of inquiry devoted to Understanding and building methods'\n",
    "print(ml.capitalize())"
   ]
  },
  {
   "cell_type": "markdown",
   "id": "c2ec55df",
   "metadata": {},
   "source": [
    "# 2. lower()"
   ]
  },
  {
   "cell_type": "code",
   "execution_count": null,
   "id": "bd745ef1",
   "metadata": {},
   "outputs": [],
   "source": [
    "It return lower case string\n",
    "syntax \n",
    "variable_name.lower() "
   ]
  },
  {
   "cell_type": "code",
   "execution_count": 6,
   "id": "b32db3e2",
   "metadata": {},
   "outputs": [
    {
     "name": "stdout",
     "output_type": "stream",
     "text": [
      "data scieace\n"
     ]
    }
   ],
   "source": [
    "string = \"DatA ScieAce\"\n",
    "print(string.lower())"
   ]
  },
  {
   "cell_type": "code",
   "execution_count": 7,
   "id": "b39315ca",
   "metadata": {},
   "outputs": [
    {
     "name": "stdout",
     "output_type": "stream",
     "text": [
      "data science\n"
     ]
    }
   ],
   "source": [
    "string = \"DATA SCIENCE\"\n",
    "print(string.lower())"
   ]
  },
  {
   "cell_type": "code",
   "execution_count": 8,
   "id": "487eee18",
   "metadata": {},
   "outputs": [
    {
     "name": "stdout",
     "output_type": "stream",
     "text": [
      "machine learning is a field of inquiry devoted to understanding and building methods\n"
     ]
    }
   ],
   "source": [
    "ml = 'MacHine Learning is a field of inquiry devoted to Understanding and building methods'\n",
    "print(ml.lower())"
   ]
  },
  {
   "cell_type": "markdown",
   "id": "6b4900ef",
   "metadata": {},
   "source": [
    "# 3. upper()"
   ]
  },
  {
   "cell_type": "code",
   "execution_count": null,
   "id": "570ec35d",
   "metadata": {},
   "outputs": [],
   "source": [
    "it returns upper case string\n",
    "syntax\n",
    "variable_name.upper()"
   ]
  },
  {
   "cell_type": "code",
   "execution_count": 9,
   "id": "604b3885",
   "metadata": {},
   "outputs": [
    {
     "name": "stdout",
     "output_type": "stream",
     "text": [
      "MACHINE LEARNING IS A FIELD OF INQUIRY DEVOTED TO UNDERSTANDING AND BUILDING METHODS\n"
     ]
    }
   ],
   "source": [
    "ml = 'MacHine Learning is a field of inquiry devoted to Understanding and building methods'\n",
    "print(ml.upper())"
   ]
  },
  {
   "cell_type": "code",
   "execution_count": 11,
   "id": "619a8a35",
   "metadata": {},
   "outputs": [
    {
     "name": "stdout",
     "output_type": "stream",
     "text": [
      "DATA SCIENACE\n"
     ]
    }
   ],
   "source": [
    "string = \"DatA ScienAce\"\n",
    "print(string.upper())"
   ]
  },
  {
   "cell_type": "code",
   "execution_count": 12,
   "id": "ff540585",
   "metadata": {},
   "outputs": [
    {
     "name": "stdout",
     "output_type": "stream",
     "text": [
      "DATA SCIENCE\n"
     ]
    }
   ],
   "source": [
    "string = \"DATA SCIENCE\"\n",
    "print(string.upper())"
   ]
  },
  {
   "cell_type": "code",
   "execution_count": null,
   "id": "ed0aeffc",
   "metadata": {},
   "outputs": [],
   "source": []
  }
 ],
 "metadata": {
  "kernelspec": {
   "display_name": "Python 3",
   "language": "python",
   "name": "python3"
  },
  "language_info": {
   "codemirror_mode": {
    "name": "ipython",
    "version": 3
   },
   "file_extension": ".py",
   "mimetype": "text/x-python",
   "name": "python",
   "nbconvert_exporter": "python",
   "pygments_lexer": "ipython3",
   "version": "3.8.8"
  }
 },
 "nbformat": 4,
 "nbformat_minor": 5
}
