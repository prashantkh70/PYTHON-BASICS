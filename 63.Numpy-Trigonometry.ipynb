{
 "cells": [
  {
   "cell_type": "markdown",
   "id": "fec3af11",
   "metadata": {},
   "source": [
    "# Numpy-Trigonometry"
   ]
  },
  {
   "cell_type": "code",
   "execution_count": 1,
   "id": "81c6cb18",
   "metadata": {},
   "outputs": [],
   "source": [
    "import numpy as np"
   ]
  },
  {
   "cell_type": "code",
   "execution_count": null,
   "id": "31bc8512",
   "metadata": {},
   "outputs": [],
   "source": [
    "1. np.sin()\n",
    "2. np.cos()\n",
    "3. np.tan()\n",
    "4. np.deg2rad()\n",
    "5. np.rad2deg\n",
    "6. np.pi"
   ]
  },
  {
   "cell_type": "code",
   "execution_count": null,
   "id": "4b41dbaa",
   "metadata": {},
   "outputs": [],
   "source": [
    "sin >> opp/hyp\n",
    "cos >> adj /hyp\n",
    "tan >> opp/adj\n",
    "\n",
    "cosec >> hyp/opp >> 1/sin\n",
    "sec   >> hyp/adj >> 1/cos\n",
    "cot   >> adj / opp >> 1/tan"
   ]
  },
  {
   "cell_type": "markdown",
   "id": "8b726254",
   "metadata": {},
   "source": [
    "## np.pi"
   ]
  },
  {
   "cell_type": "code",
   "execution_count": 2,
   "id": "7da1a3b0",
   "metadata": {},
   "outputs": [
    {
     "data": {
      "text/plain": [
       "3.141592653589793"
      ]
     },
     "execution_count": 2,
     "metadata": {},
     "output_type": "execute_result"
    }
   ],
   "source": [
    "np.pi"
   ]
  },
  {
   "cell_type": "code",
   "execution_count": 6,
   "id": "e2da8c35",
   "metadata": {},
   "outputs": [
    {
     "data": {
      "text/plain": [
       "3.141592653589793"
      ]
     },
     "execution_count": 6,
     "metadata": {},
     "output_type": "execute_result"
    }
   ],
   "source": [
    "import math\n",
    "math.pi"
   ]
  },
  {
   "cell_type": "code",
   "execution_count": null,
   "id": "ab0d2605",
   "metadata": {},
   "outputs": [],
   "source": [
    "Pi =  180  sin"
   ]
  },
  {
   "cell_type": "markdown",
   "id": "46e3d5c1",
   "metadata": {},
   "source": [
    "## 1. np.sin"
   ]
  },
  {
   "cell_type": "code",
   "execution_count": 7,
   "id": "dd392d40",
   "metadata": {},
   "outputs": [
    {
     "data": {
      "text/plain": [
       "0.49999999999999994"
      ]
     },
     "execution_count": 7,
     "metadata": {},
     "output_type": "execute_result"
    }
   ],
   "source": [
    "np.sin(np.pi/6)"
   ]
  },
  {
   "cell_type": "code",
   "execution_count": 8,
   "id": "c6c1f64e",
   "metadata": {},
   "outputs": [
    {
     "data": {
      "text/plain": [
       "0.7071067811865476"
      ]
     },
     "execution_count": 8,
     "metadata": {},
     "output_type": "execute_result"
    }
   ],
   "source": [
    "np.sin(np.pi/4)"
   ]
  },
  {
   "cell_type": "code",
   "execution_count": 9,
   "id": "49b53857",
   "metadata": {},
   "outputs": [
    {
     "data": {
      "text/plain": [
       "0.8660254037844386"
      ]
     },
     "execution_count": 9,
     "metadata": {},
     "output_type": "execute_result"
    }
   ],
   "source": [
    "sin_60=np.sin(np.pi/3)\n",
    "sin_60"
   ]
  },
  {
   "cell_type": "code",
   "execution_count": 10,
   "id": "f382b1df",
   "metadata": {},
   "outputs": [
    {
     "data": {
      "text/plain": [
       "1.0"
      ]
     },
     "execution_count": 10,
     "metadata": {},
     "output_type": "execute_result"
    }
   ],
   "source": [
    "sin_90=np.sin(np.pi/2)\n",
    "sin_90"
   ]
  },
  {
   "cell_type": "markdown",
   "id": "a890d259",
   "metadata": {},
   "source": [
    "## 2. np.cos"
   ]
  },
  {
   "cell_type": "code",
   "execution_count": 11,
   "id": "a35954f8",
   "metadata": {},
   "outputs": [
    {
     "data": {
      "text/plain": [
       "0.8660254037844387"
      ]
     },
     "execution_count": 11,
     "metadata": {},
     "output_type": "execute_result"
    }
   ],
   "source": [
    "cos_30 = np.cos(np.pi/6)\n",
    "cos_30"
   ]
  },
  {
   "cell_type": "code",
   "execution_count": 12,
   "id": "b17405cd",
   "metadata": {},
   "outputs": [
    {
     "data": {
      "text/plain": [
       "0.7071067811865476"
      ]
     },
     "execution_count": 12,
     "metadata": {},
     "output_type": "execute_result"
    }
   ],
   "source": [
    "cos_45 = np.cos(np.pi/4)\n",
    "cos_45"
   ]
  },
  {
   "cell_type": "markdown",
   "id": "1217f1c5",
   "metadata": {},
   "source": [
    "## 3. np.tan"
   ]
  },
  {
   "cell_type": "code",
   "execution_count": 13,
   "id": "8b6b9bbb",
   "metadata": {},
   "outputs": [
    {
     "data": {
      "text/plain": [
       "1.7320508075688767"
      ]
     },
     "execution_count": 13,
     "metadata": {},
     "output_type": "execute_result"
    }
   ],
   "source": [
    "tan_60=np.tan(np.pi/3)\n",
    "tan_60"
   ]
  },
  {
   "cell_type": "code",
   "execution_count": 14,
   "id": "5cc0f3a1",
   "metadata": {},
   "outputs": [
    {
     "data": {
      "text/plain": [
       "0.9999999999999999"
      ]
     },
     "execution_count": 14,
     "metadata": {},
     "output_type": "execute_result"
    }
   ],
   "source": [
    "tan_45 = np.tan(np.pi/4)\n",
    "tan_45"
   ]
  },
  {
   "cell_type": "markdown",
   "id": "d0d51b13",
   "metadata": {},
   "source": [
    "### Degree to Radian"
   ]
  },
  {
   "cell_type": "code",
   "execution_count": 15,
   "id": "755afbeb",
   "metadata": {},
   "outputs": [
    {
     "data": {
      "text/plain": [
       "0.7853981633974483"
      ]
     },
     "execution_count": 15,
     "metadata": {},
     "output_type": "execute_result"
    }
   ],
   "source": [
    "np.deg2rad(45)"
   ]
  },
  {
   "cell_type": "code",
   "execution_count": 16,
   "id": "b38973db",
   "metadata": {},
   "outputs": [
    {
     "data": {
      "text/plain": [
       "0.7853981633974483"
      ]
     },
     "execution_count": 16,
     "metadata": {},
     "output_type": "execute_result"
    }
   ],
   "source": [
    "np.pi/4"
   ]
  },
  {
   "cell_type": "code",
   "execution_count": 17,
   "id": "bc429ba9",
   "metadata": {},
   "outputs": [
    {
     "data": {
      "text/plain": [
       "1.0471975511965976"
      ]
     },
     "execution_count": 17,
     "metadata": {},
     "output_type": "execute_result"
    }
   ],
   "source": [
    "np.deg2rad(60)"
   ]
  },
  {
   "cell_type": "code",
   "execution_count": 18,
   "id": "08dc0861",
   "metadata": {},
   "outputs": [
    {
     "data": {
      "text/plain": [
       "1.0471975511965976"
      ]
     },
     "execution_count": 18,
     "metadata": {},
     "output_type": "execute_result"
    }
   ],
   "source": [
    "np.pi/3"
   ]
  },
  {
   "cell_type": "code",
   "execution_count": 19,
   "id": "b1983add",
   "metadata": {},
   "outputs": [
    {
     "data": {
      "text/plain": [
       "array([0.        , 0.52359878, 0.78539816, 1.04719755, 1.57079633])"
      ]
     },
     "execution_count": 19,
     "metadata": {},
     "output_type": "execute_result"
    }
   ],
   "source": [
    "rad = np.array([0,30,45,60,90])\n",
    "np.deg2rad(rad)"
   ]
  },
  {
   "cell_type": "code",
   "execution_count": 20,
   "id": "15e98301",
   "metadata": {},
   "outputs": [
    {
     "data": {
      "text/plain": [
       "array([ 0.        , -0.98803162,  0.85090352, -0.30481062,  0.89399666])"
      ]
     },
     "execution_count": 20,
     "metadata": {},
     "output_type": "execute_result"
    }
   ],
   "source": [
    "np.sin(rad)"
   ]
  },
  {
   "cell_type": "code",
   "execution_count": 21,
   "id": "2e6285f8",
   "metadata": {},
   "outputs": [
    {
     "data": {
      "text/plain": [
       "array([ 1.        ,  0.15425145,  0.52532199, -0.95241298, -0.44807362])"
      ]
     },
     "execution_count": 21,
     "metadata": {},
     "output_type": "execute_result"
    }
   ],
   "source": [
    "np.cos(rad)"
   ]
  },
  {
   "cell_type": "markdown",
   "id": "ca4b80df",
   "metadata": {},
   "source": [
    "### Radians to Degree"
   ]
  },
  {
   "cell_type": "code",
   "execution_count": 23,
   "id": "9ceb2dd5",
   "metadata": {},
   "outputs": [
    {
     "data": {
      "text/plain": [
       "array([0.        , 0.52359878, 0.78539816, 1.04719755, 1.57079633])"
      ]
     },
     "execution_count": 23,
     "metadata": {},
     "output_type": "execute_result"
    }
   ],
   "source": [
    "radians= np.array([0.        , 0.52359878, 0.78539816, 1.04719755, 1.57079633])\n",
    "radians"
   ]
  },
  {
   "cell_type": "code",
   "execution_count": 24,
   "id": "02c506d2",
   "metadata": {},
   "outputs": [
    {
     "data": {
      "text/plain": [
       "array([ 0.        , 30.00000025, 44.99999981, 59.99999993, 90.00000018])"
      ]
     },
     "execution_count": 24,
     "metadata": {},
     "output_type": "execute_result"
    }
   ],
   "source": [
    "deg = np.rad2deg(radians)\n",
    "deg"
   ]
  },
  {
   "cell_type": "code",
   "execution_count": null,
   "id": "b1607b97",
   "metadata": {},
   "outputs": [],
   "source": []
  }
 ],
 "metadata": {
  "kernelspec": {
   "display_name": "Python 3",
   "language": "python",
   "name": "python3"
  },
  "language_info": {
   "codemirror_mode": {
    "name": "ipython",
    "version": 3
   },
   "file_extension": ".py",
   "mimetype": "text/x-python",
   "name": "python",
   "nbconvert_exporter": "python",
   "pygments_lexer": "ipython3",
   "version": "3.8.8"
  }
 },
 "nbformat": 4,
 "nbformat_minor": 5
}
