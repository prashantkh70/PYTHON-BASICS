{
 "cells": [
  {
   "cell_type": "markdown",
   "id": "9e7c10b0",
   "metadata": {},
   "source": [
    "# Gradient Descent Algorithm"
   ]
  },
  {
   "cell_type": "code",
   "execution_count": null,
   "id": "e1478eac",
   "metadata": {},
   "outputs": [],
   "source": [
    "MSE ..  Cost function for linear regression algorithm\n",
    "\n",
    "Gradient Descent Algorithm is used to find optimal cost function value (m and c)\n",
    "\n",
    "1. It uses partial derivatives to find new m and c value\n",
    "2. we will get best m and c values from the infinite number of possibilities.\n",
    "3. step size becomes smaller and smaller till we reach the global minima point\n",
    "4. Global Minima >>> Best (cost function)M and C value, lowest MSE"
   ]
  },
  {
   "cell_type": "markdown",
   "id": "47517d89",
   "metadata": {},
   "source": [
    "# Evaluation of linear regresion algorithm"
   ]
  },
  {
   "cell_type": "markdown",
   "id": "4d45c257",
   "metadata": {},
   "source": [
    "## 1. Residual"
   ]
  },
  {
   "cell_type": "code",
   "execution_count": null,
   "id": "b026489b",
   "metadata": {},
   "outputs": [],
   "source": [
    "Residual >> error\n",
    "Residual  >>> (Ya-Yp)^2\n",
    "\n",
    "Residual >> error between actual value and predicted value\n",
    "Positive >> If the data points are above the regression line\n",
    "Negative >> If the data points are below the regression line\n",
    "Zero   >>>  If the data points are on the regression line"
   ]
  },
  {
   "cell_type": "markdown",
   "id": "ec80f290",
   "metadata": {},
   "source": [
    "# 2. SSE"
   ]
  },
  {
   "cell_type": "code",
   "execution_count": null,
   "id": "7584c123",
   "metadata": {},
   "outputs": [],
   "source": [
    "SSE >>> SUM of Squared error\n",
    "\n",
    "SSE = sum(Ya-Yp)^2\n",
    "\n",
    "SSE >>> sum of squared difference between actual values and predicted values\n"
   ]
  },
  {
   "cell_type": "markdown",
   "id": "b2e70efe",
   "metadata": {},
   "source": [
    "# 3. MSE"
   ]
  },
  {
   "cell_type": "code",
   "execution_count": null,
   "id": "75ac435a",
   "metadata": {},
   "outputs": [],
   "source": [
    "Mean Squared Error\n",
    "\n",
    "MSE=SSE/N\n"
   ]
  },
  {
   "cell_type": "markdown",
   "id": "72d6c86a",
   "metadata": {},
   "source": [
    "# 4. SSR"
   ]
  },
  {
   "cell_type": "code",
   "execution_count": null,
   "id": "e9738868",
   "metadata": {},
   "outputs": [],
   "source": [
    "Sum of Squared error due to Regression\n",
    "SSR >>> Regression Error\n",
    "SSR = sum(Yp-Ymean)^2\n",
    "SSR  >>> Sum of squared difference between predicted value and mean of \n",
    "dependent variable/target variable\n"
   ]
  },
  {
   "cell_type": "markdown",
   "id": "6a449cbf",
   "metadata": {},
   "source": [
    "# 5. SST"
   ]
  },
  {
   "cell_type": "code",
   "execution_count": null,
   "id": "1ff2e1fb",
   "metadata": {},
   "outputs": [],
   "source": [
    "Total Error\n",
    "SST = sum(Ya -Ymean)^2\n",
    "SST >> sum of squared difference between Actual Values and mean of \n",
    "dependent variable/target variable"
   ]
  }
 ],
 "metadata": {
  "kernelspec": {
   "display_name": "Python 3",
   "language": "python",
   "name": "python3"
  },
  "language_info": {
   "codemirror_mode": {
    "name": "ipython",
    "version": 3
   },
   "file_extension": ".py",
   "mimetype": "text/x-python",
   "name": "python",
   "nbconvert_exporter": "python",
   "pygments_lexer": "ipython3",
   "version": "3.8.8"
  }
 },
 "nbformat": 4,
 "nbformat_minor": 5
}
