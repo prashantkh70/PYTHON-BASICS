{
 "cells": [
  {
   "cell_type": "markdown",
   "id": "338b12de",
   "metadata": {},
   "source": [
    "# Precision and Recall"
   ]
  },
  {
   "cell_type": "markdown",
   "id": "c8ad2ecb",
   "metadata": {},
   "source": [
    "# Rates"
   ]
  },
  {
   "cell_type": "markdown",
   "id": "a47a5e37",
   "metadata": {},
   "source": [
    "# 1. TPR"
   ]
  },
  {
   "cell_type": "code",
   "execution_count": null,
   "id": "bdcb6e4e",
   "metadata": {},
   "outputs": [],
   "source": [
    "TPR >> True Positive Rate\n",
    "TPR >>> ROC Curve\n",
    "TPR >>> Sensitivity >> Recall\n",
    "TP + FN >>> Total Actual positive class data points\n",
    "TPR = TP/(TP + FN)\n",
    "\n",
    "TPR >>> Proportion of Positive Class got Correctly Classified by Classifier"
   ]
  },
  {
   "cell_type": "markdown",
   "id": "d63c21e1",
   "metadata": {},
   "source": [
    "# 2. FNR"
   ]
  },
  {
   "cell_type": "code",
   "execution_count": null,
   "id": "5b78fbc3",
   "metadata": {},
   "outputs": [],
   "source": [
    "FNR >>> False Negative Rate\n",
    "TP + FN >>> Total Actual positive class data points\n",
    "FNR = FN/(TP + FN)\n",
    "FNR >>>Proportion of Positive Class got InCorrectly Classified by Classifier"
   ]
  },
  {
   "cell_type": "markdown",
   "id": "e584664a",
   "metadata": {},
   "source": [
    "# 3. TNR"
   ]
  },
  {
   "cell_type": "code",
   "execution_count": null,
   "id": "3242d1c0",
   "metadata": {},
   "outputs": [],
   "source": [
    "TNR >> True Negative Rate\n",
    "TNR >>> specificity\n",
    "TN+ FP  >>> Total Actual negative class data points\n",
    "TNR = TN/(TN+ FP)\n",
    "\n",
    "TNR>> Proportion of Negative Class got Correctly Classified by Classifier"
   ]
  },
  {
   "cell_type": "markdown",
   "id": "829124b7",
   "metadata": {},
   "source": [
    "# 4. FPR"
   ]
  },
  {
   "cell_type": "code",
   "execution_count": null,
   "id": "21f673df",
   "metadata": {},
   "outputs": [],
   "source": [
    "FPR >>> False Positive Rate\n",
    "TN+ FP  >>> Total Actual negative class data points\n",
    "FPR = FP/(TN + FP)\n",
    "\n",
    "FPR>> Proportion of Negative Class got InCorrectly Classified by Classifier"
   ]
  },
  {
   "cell_type": "markdown",
   "id": "74723a94",
   "metadata": {},
   "source": [
    "# Precision"
   ]
  },
  {
   "cell_type": "markdown",
   "id": "13b22911",
   "metadata": {},
   "source": [
    "# Recall"
   ]
  },
  {
   "cell_type": "markdown",
   "id": "693325d2",
   "metadata": {},
   "source": [
    "# classification Report"
   ]
  },
  {
   "cell_type": "code",
   "execution_count": null,
   "id": "677b5053",
   "metadata": {},
   "outputs": [],
   "source": [
    "Accuracy\n",
    "Precision\n",
    "Recall\n",
    "f score\n",
    "Macro Avg\n",
    "Weighted Avg"
   ]
  }
 ],
 "metadata": {
  "kernelspec": {
   "display_name": "Python 3",
   "language": "python",
   "name": "python3"
  },
  "language_info": {
   "codemirror_mode": {
    "name": "ipython",
    "version": 3
   },
   "file_extension": ".py",
   "mimetype": "text/x-python",
   "name": "python",
   "nbconvert_exporter": "python",
   "pygments_lexer": "ipython3",
   "version": "3.8.8"
  }
 },
 "nbformat": 4,
 "nbformat_minor": 5
}
