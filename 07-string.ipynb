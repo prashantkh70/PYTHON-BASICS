{
 "cells": [
  {
   "cell_type": "code",
   "execution_count": 1,
   "id": "a71ade40",
   "metadata": {},
   "outputs": [],
   "source": [
    "string = 'python'\n",
    "string = \"python\"\n",
    "string = \"\"\"python\"\"\"\n",
    "string = '''python'''"
   ]
  },
  {
   "cell_type": "code",
   "execution_count": 2,
   "id": "2e9ca841",
   "metadata": {},
   "outputs": [
    {
     "name": "stdout",
     "output_type": "stream",
     "text": [
      "python \n",
      "and data science\n"
     ]
    }
   ],
   "source": [
    "string1= \"python \\nand data science\"\n",
    "print(string1)"
   ]
  },
  {
   "cell_type": "code",
   "execution_count": 8,
   "id": "55ca7d00",
   "metadata": {},
   "outputs": [
    {
     "name": "stdout",
     "output_type": "stream",
     "text": [
      "E:\\Velocity_9_July_22\u0007_15_string_indexing_slicing_functions\n"
     ]
    }
   ],
   "source": [
    "file_path = \"E:\\Velocity_9_July_22\\07_15_string_indexing_slicing_functions\"\n",
    "print(file_path)"
   ]
  },
  {
   "cell_type": "code",
   "execution_count": 4,
   "id": "b73b791e",
   "metadata": {},
   "outputs": [
    {
     "name": "stdout",
     "output_type": "stream",
     "text": [
      "E:\\Velocity_9_July_22\\07_15_string_indexing_slicing_functions\n"
     ]
    }
   ],
   "source": [
    "file_path = \"E:\\\\Velocity_9_July_22\\\\07_15_string_indexing_slicing_functions\" #windows path\n",
    "print(file_path)"
   ]
  },
  {
   "cell_type": "code",
   "execution_count": 5,
   "id": "b71427fe",
   "metadata": {},
   "outputs": [
    {
     "name": "stdout",
     "output_type": "stream",
     "text": [
      "E:/Velocity_9_July_22/07_15_string_indexing_slicing_functions\n"
     ]
    }
   ],
   "source": [
    "file_path = \"E:/Velocity_9_July_22/07_15_string_indexing_slicing_functions\" #linux path\n",
    "print(file_path)"
   ]
  },
  {
   "cell_type": "code",
   "execution_count": 6,
   "id": "e3cc5d31",
   "metadata": {},
   "outputs": [
    {
     "name": "stdout",
     "output_type": "stream",
     "text": [
      "E:\\Velocity_9_July_22\\07_15_string_indexing_slicing_functions\n"
     ]
    }
   ],
   "source": [
    "file_path = r\"E:\\Velocity_9_July_22\\07_15_string_indexing_slicing_functions\" # raw string\n",
    "print(file_path)"
   ]
  },
  {
   "cell_type": "code",
   "execution_count": null,
   "id": "d7acd685",
   "metadata": {},
   "outputs": [],
   "source": []
  }
 ],
 "metadata": {
  "kernelspec": {
   "display_name": "Python 3",
   "language": "python",
   "name": "python3"
  },
  "language_info": {
   "codemirror_mode": {
    "name": "ipython",
    "version": 3
   },
   "file_extension": ".py",
   "mimetype": "text/x-python",
   "name": "python",
   "nbconvert_exporter": "python",
   "pygments_lexer": "ipython3",
   "version": "3.8.8"
  }
 },
 "nbformat": 4,
 "nbformat_minor": 5
}
