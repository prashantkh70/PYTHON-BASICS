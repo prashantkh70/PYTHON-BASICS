{
 "cells": [
  {
   "cell_type": "code",
   "execution_count": null,
   "id": "2a3203f5",
   "metadata": {},
   "outputs": [],
   "source": [
    "1000\n",
    "\n",
    "\n",
    "\n",
    "50   error  \n",
    "950  will not execute\n",
    "\n",
    "\n"
   ]
  },
  {
   "cell_type": "code",
   "execution_count": null,
   "id": "360f04e7",
   "metadata": {},
   "outputs": [],
   "source": [
    "try\n",
    "except"
   ]
  },
  {
   "cell_type": "code",
   "execution_count": null,
   "id": "71085636",
   "metadata": {},
   "outputs": [],
   "source": [
    "SyntaxError\n",
    "AttributeError\n",
    "NameError\n",
    "ZerodivisionError\n",
    "IndexError\n",
    "ValueError\n",
    "IndentationError\n",
    "FileExistsError\n",
    "FileNotFoundError"
   ]
  },
  {
   "cell_type": "code",
   "execution_count": 1,
   "id": "ade006f5",
   "metadata": {},
   "outputs": [
    {
     "ename": "NameError",
     "evalue": "name 'python' is not defined",
     "output_type": "error",
     "traceback": [
      "\u001b[1;31m---------------------------------------------------------------------------\u001b[0m",
      "\u001b[1;31mNameError\u001b[0m                                 Traceback (most recent call last)",
      "\u001b[1;32m<ipython-input-1-3f83d545ebda>\u001b[0m in \u001b[0;36m<module>\u001b[1;34m\u001b[0m\n\u001b[1;32m----> 1\u001b[1;33m \u001b[0mprint\u001b[0m\u001b[1;33m(\u001b[0m\u001b[0mpython\u001b[0m\u001b[1;33m)\u001b[0m\u001b[1;33m\u001b[0m\u001b[1;33m\u001b[0m\u001b[0m\n\u001b[0m",
      "\u001b[1;31mNameError\u001b[0m: name 'python' is not defined"
     ]
    }
   ],
   "source": [
    "print(python)"
   ]
  },
  {
   "cell_type": "code",
   "execution_count": 2,
   "id": "5a99d064",
   "metadata": {},
   "outputs": [
    {
     "ename": "IndentationError",
     "evalue": "unexpected indent (<ipython-input-2-258956a588fd>, line 2)",
     "output_type": "error",
     "traceback": [
      "\u001b[1;36m  File \u001b[1;32m\"<ipython-input-2-258956a588fd>\"\u001b[1;36m, line \u001b[1;32m2\u001b[0m\n\u001b[1;33m    print('class')\u001b[0m\n\u001b[1;37m    ^\u001b[0m\n\u001b[1;31mIndentationError\u001b[0m\u001b[1;31m:\u001b[0m unexpected indent\n"
     ]
    }
   ],
   "source": [
    "print('python')\n",
    "    print('class')"
   ]
  },
  {
   "cell_type": "code",
   "execution_count": 3,
   "id": "ebd942a0",
   "metadata": {},
   "outputs": [
    {
     "ename": "ZeroDivisionError",
     "evalue": "division by zero",
     "output_type": "error",
     "traceback": [
      "\u001b[1;31m---------------------------------------------------------------------------\u001b[0m",
      "\u001b[1;31mZeroDivisionError\u001b[0m                         Traceback (most recent call last)",
      "\u001b[1;32m<ipython-input-3-c5a1a832190e>\u001b[0m in \u001b[0;36m<module>\u001b[1;34m\u001b[0m\n\u001b[1;32m----> 1\u001b[1;33m \u001b[1;36m24\u001b[0m\u001b[1;33m/\u001b[0m\u001b[1;36m0\u001b[0m\u001b[1;33m\u001b[0m\u001b[1;33m\u001b[0m\u001b[0m\n\u001b[0m",
      "\u001b[1;31mZeroDivisionError\u001b[0m: division by zero"
     ]
    }
   ],
   "source": [
    "24/0"
   ]
  },
  {
   "cell_type": "code",
   "execution_count": 4,
   "id": "99266d8b",
   "metadata": {},
   "outputs": [
    {
     "ename": "TypeError",
     "evalue": "'type' object is not subscriptable",
     "output_type": "error",
     "traceback": [
      "\u001b[1;31m---------------------------------------------------------------------------\u001b[0m",
      "\u001b[1;31mTypeError\u001b[0m                                 Traceback (most recent call last)",
      "\u001b[1;32m<ipython-input-4-f134cec74848>\u001b[0m in \u001b[0;36m<module>\u001b[1;34m\u001b[0m\n\u001b[0;32m      1\u001b[0m \u001b[0mlist1\u001b[0m\u001b[1;33m=\u001b[0m \u001b[1;33m[\u001b[0m\u001b[1;36m1\u001b[0m\u001b[1;33m,\u001b[0m\u001b[1;36m2\u001b[0m\u001b[1;33m,\u001b[0m\u001b[1;36m3\u001b[0m\u001b[1;33m,\u001b[0m\u001b[1;36m4\u001b[0m\u001b[1;33m]\u001b[0m\u001b[1;33m\u001b[0m\u001b[1;33m\u001b[0m\u001b[0m\n\u001b[1;32m----> 2\u001b[1;33m \u001b[0mlist\u001b[0m\u001b[1;33m[\u001b[0m\u001b[1;36m4\u001b[0m\u001b[1;33m]\u001b[0m\u001b[1;33m\u001b[0m\u001b[1;33m\u001b[0m\u001b[0m\n\u001b[0m",
      "\u001b[1;31mTypeError\u001b[0m: 'type' object is not subscriptable"
     ]
    }
   ],
   "source": [
    "list1= [1,2,3,4]\n",
    "list[4]"
   ]
  },
  {
   "cell_type": "code",
   "execution_count": 5,
   "id": "59ba7168",
   "metadata": {},
   "outputs": [
    {
     "ename": "IndexError",
     "evalue": "list index out of range",
     "output_type": "error",
     "traceback": [
      "\u001b[1;31m---------------------------------------------------------------------------\u001b[0m",
      "\u001b[1;31mIndexError\u001b[0m                                Traceback (most recent call last)",
      "\u001b[1;32m<ipython-input-5-691aac53fdb4>\u001b[0m in \u001b[0;36m<module>\u001b[1;34m\u001b[0m\n\u001b[0;32m      1\u001b[0m \u001b[0mlist1\u001b[0m\u001b[1;33m=\u001b[0m \u001b[1;33m[\u001b[0m\u001b[1;36m1\u001b[0m\u001b[1;33m,\u001b[0m\u001b[1;36m2\u001b[0m\u001b[1;33m,\u001b[0m\u001b[1;36m3\u001b[0m\u001b[1;33m,\u001b[0m\u001b[1;36m4\u001b[0m\u001b[1;33m]\u001b[0m\u001b[1;33m\u001b[0m\u001b[1;33m\u001b[0m\u001b[0m\n\u001b[1;32m----> 2\u001b[1;33m \u001b[0mlist1\u001b[0m\u001b[1;33m[\u001b[0m\u001b[1;36m4\u001b[0m\u001b[1;33m]\u001b[0m\u001b[1;33m\u001b[0m\u001b[1;33m\u001b[0m\u001b[0m\n\u001b[0m",
      "\u001b[1;31mIndexError\u001b[0m: list index out of range"
     ]
    }
   ],
   "source": [
    "list1= [1,2,3,4]\n",
    "list1[4]"
   ]
  },
  {
   "cell_type": "code",
   "execution_count": 6,
   "id": "6b486523",
   "metadata": {},
   "outputs": [
    {
     "ename": "AttributeError",
     "evalue": "'tuple' object has no attribute 'append'",
     "output_type": "error",
     "traceback": [
      "\u001b[1;31m---------------------------------------------------------------------------\u001b[0m",
      "\u001b[1;31mAttributeError\u001b[0m                            Traceback (most recent call last)",
      "\u001b[1;32m<ipython-input-6-efb8b532add9>\u001b[0m in \u001b[0;36m<module>\u001b[1;34m\u001b[0m\n\u001b[0;32m      1\u001b[0m \u001b[0mvar1\u001b[0m \u001b[1;33m=\u001b[0m \u001b[1;33m(\u001b[0m\u001b[1;36m1\u001b[0m\u001b[1;33m,\u001b[0m\u001b[1;36m5\u001b[0m\u001b[1;33m,\u001b[0m\u001b[1;36m4\u001b[0m\u001b[1;33m)\u001b[0m\u001b[1;33m\u001b[0m\u001b[1;33m\u001b[0m\u001b[0m\n\u001b[1;32m----> 2\u001b[1;33m \u001b[0mvar1\u001b[0m\u001b[1;33m.\u001b[0m\u001b[0mappend\u001b[0m\u001b[1;33m(\u001b[0m\u001b[1;36m100\u001b[0m\u001b[1;33m)\u001b[0m\u001b[1;33m\u001b[0m\u001b[1;33m\u001b[0m\u001b[0m\n\u001b[0m",
      "\u001b[1;31mAttributeError\u001b[0m: 'tuple' object has no attribute 'append'"
     ]
    }
   ],
   "source": [
    "var1 = (1,5,4)\n",
    "var1.append(100)"
   ]
  },
  {
   "cell_type": "code",
   "execution_count": null,
   "id": "c55a85d6",
   "metadata": {},
   "outputs": [],
   "source": [
    "try >> test the block of code for errors  \n",
    "\n",
    "except >> it handels the error\n",
    "\n",
    "else   >> executes code if there is no error\n",
    "\n",
    "finally >> executes the code, regardless of error"
   ]
  },
  {
   "cell_type": "code",
   "execution_count": 7,
   "id": "c16a5aa4",
   "metadata": {},
   "outputs": [
    {
     "name": "stdout",
     "output_type": "stream",
     "text": [
      "Try Block\n"
     ]
    }
   ],
   "source": [
    "try:\n",
    "    print(\"Try Block\")\n",
    "    \n",
    "except:\n",
    "    print(\"Except Block\")"
   ]
  },
  {
   "cell_type": "code",
   "execution_count": 8,
   "id": "98005653",
   "metadata": {},
   "outputs": [
    {
     "name": "stdout",
     "output_type": "stream",
     "text": [
      "Try Block\n",
      "List1 [3, 5, 6, 4]\n",
      "Except Block\n"
     ]
    }
   ],
   "source": [
    "try:\n",
    "    print(\"Try Block\")\n",
    "    list1=[3,5,6,4]\n",
    "    print('List1',list1)\n",
    "    print(list1[5])     \n",
    "    print(\"Hello\")\n",
    "except:\n",
    "    print(\"Except Block\")"
   ]
  },
  {
   "cell_type": "code",
   "execution_count": 9,
   "id": "af5d64c5",
   "metadata": {},
   "outputs": [
    {
     "name": "stdout",
     "output_type": "stream",
     "text": [
      "Try Block\n",
      "List1 [3, 5, 6, 4]\n"
     ]
    },
    {
     "ename": "IndexError",
     "evalue": "list index out of range",
     "output_type": "error",
     "traceback": [
      "\u001b[1;31m---------------------------------------------------------------------------\u001b[0m",
      "\u001b[1;31mIndexError\u001b[0m                                Traceback (most recent call last)",
      "\u001b[1;32m<ipython-input-9-51e97e4b8f50>\u001b[0m in \u001b[0;36m<module>\u001b[1;34m\u001b[0m\n\u001b[0;32m      2\u001b[0m \u001b[0mlist1\u001b[0m\u001b[1;33m=\u001b[0m\u001b[1;33m[\u001b[0m\u001b[1;36m3\u001b[0m\u001b[1;33m,\u001b[0m\u001b[1;36m5\u001b[0m\u001b[1;33m,\u001b[0m\u001b[1;36m6\u001b[0m\u001b[1;33m,\u001b[0m\u001b[1;36m4\u001b[0m\u001b[1;33m]\u001b[0m\u001b[1;33m\u001b[0m\u001b[1;33m\u001b[0m\u001b[0m\n\u001b[0;32m      3\u001b[0m \u001b[0mprint\u001b[0m\u001b[1;33m(\u001b[0m\u001b[1;34m'List1'\u001b[0m\u001b[1;33m,\u001b[0m\u001b[0mlist1\u001b[0m\u001b[1;33m)\u001b[0m\u001b[1;33m\u001b[0m\u001b[1;33m\u001b[0m\u001b[0m\n\u001b[1;32m----> 4\u001b[1;33m \u001b[0mprint\u001b[0m\u001b[1;33m(\u001b[0m\u001b[0mlist1\u001b[0m\u001b[1;33m[\u001b[0m\u001b[1;36m5\u001b[0m\u001b[1;33m]\u001b[0m\u001b[1;33m)\u001b[0m\u001b[1;33m\u001b[0m\u001b[1;33m\u001b[0m\u001b[0m\n\u001b[0m\u001b[0;32m      5\u001b[0m \u001b[0mprint\u001b[0m\u001b[1;33m(\u001b[0m\u001b[1;34m\"Hello\"\u001b[0m\u001b[1;33m)\u001b[0m\u001b[1;33m\u001b[0m\u001b[1;33m\u001b[0m\u001b[0m\n",
      "\u001b[1;31mIndexError\u001b[0m: list index out of range"
     ]
    }
   ],
   "source": [
    "print(\"Try Block\")\n",
    "list1=[3,5,6,4]\n",
    "print('List1',list1)\n",
    "print(list1[5])     \n",
    "print(\"Hello\")"
   ]
  },
  {
   "cell_type": "code",
   "execution_count": 10,
   "id": "202c4eef",
   "metadata": {},
   "outputs": [
    {
     "name": "stdout",
     "output_type": "stream",
     "text": [
      "Try Block\n",
      "List1 [3, 5, 6, 4]\n",
      "Except Block\n"
     ]
    }
   ],
   "source": [
    "try:\n",
    "    print(\"Try Block\")\n",
    "    list1=[3,5,6,4]\n",
    "    print('List1',list1)\n",
    "    print(list1[5])     \n",
    "    print(\"Hello\")\n",
    "except:\n",
    "    print(\"Except Block\")"
   ]
  },
  {
   "cell_type": "code",
   "execution_count": 12,
   "id": "976b4f2c",
   "metadata": {},
   "outputs": [
    {
     "name": "stdout",
     "output_type": "stream",
     "text": [
      "try block\n",
      "None\n",
      "Except Block\n"
     ]
    },
    {
     "name": "stderr",
     "output_type": "stream",
     "text": [
      "Traceback (most recent call last):\n",
      "  File \"<ipython-input-12-23364c0747f1>\", line 6, in <module>\n",
      "    var.append(100)\n",
      "AttributeError: 'tuple' object has no attribute 'append'\n"
     ]
    }
   ],
   "source": [
    "import traceback\n",
    "\n",
    "try:\n",
    "    print('try block')\n",
    "    var = (4,5,6,7)\n",
    "    var.append(100)\n",
    "    print('Hello')\n",
    "except:\n",
    "    print(traceback.print_exc())\n",
    "    print('Except Block')"
   ]
  },
  {
   "cell_type": "code",
   "execution_count": 13,
   "id": "481cee1b",
   "metadata": {},
   "outputs": [],
   "source": [
    "import datetime"
   ]
  },
  {
   "cell_type": "code",
   "execution_count": 15,
   "id": "233fd351",
   "metadata": {},
   "outputs": [
    {
     "name": "stdout",
     "output_type": "stream",
     "text": [
      "2022-08-16\n"
     ]
    }
   ],
   "source": [
    "date1 = '16-08-2022'\n",
    "date2 = '16/08/2022'\n",
    "new_date = datetime.datetime.strptime(date1,'%d-%m-%Y').date()\n",
    "print(new_date)"
   ]
  },
  {
   "cell_type": "code",
   "execution_count": 16,
   "id": "49d638ab",
   "metadata": {},
   "outputs": [
    {
     "name": "stdout",
     "output_type": "stream",
     "text": [
      "Try Block\n",
      "2022-08-16\n"
     ]
    }
   ],
   "source": [
    "date1 = '16-08-2022'\n",
    "date2 = '16/08/2022'\n",
    "\n",
    "def get_new_date(date):\n",
    "    try:\n",
    "        print('Try Block')\n",
    "        new_date = datetime.datetime.strptime(date,'%d-%m-%Y').date()\n",
    "        \n",
    "    except:\n",
    "        print('Except Block')\n",
    "        new_date = datetime.datetime.strptime(date,'%d/%m/%Y').date()\n",
    "        \n",
    "    return new_date\n",
    "\n",
    "print(get_new_date(date1))"
   ]
  },
  {
   "cell_type": "code",
   "execution_count": 17,
   "id": "6c76fd6a",
   "metadata": {},
   "outputs": [
    {
     "name": "stdout",
     "output_type": "stream",
     "text": [
      "Try Block\n",
      "Except Block\n",
      "2022-08-16\n"
     ]
    }
   ],
   "source": [
    "date1 = '16-08-2022'\n",
    "date2 = '16/08/2022'\n",
    "\n",
    "def get_new_date(date):\n",
    "    try:\n",
    "        print('Try Block')\n",
    "        new_date = datetime.datetime.strptime(date,'%d-%m-%Y').date()\n",
    "        \n",
    "    except:\n",
    "        print('Except Block')\n",
    "        new_date = datetime.datetime.strptime(date,'%d/%m/%Y').date()\n",
    "        \n",
    "    return new_date\n",
    "\n",
    "print(get_new_date(date2))"
   ]
  },
  {
   "cell_type": "code",
   "execution_count": 19,
   "id": "2a2d2a5e",
   "metadata": {},
   "outputs": [
    {
     "name": "stdout",
     "output_type": "stream",
     "text": [
      "Try Block\n",
      "Except Block\n",
      "None\n",
      "2022-08-16\n"
     ]
    },
    {
     "name": "stderr",
     "output_type": "stream",
     "text": [
      "Traceback (most recent call last):\n",
      "  File \"<ipython-input-19-8b94cfcf7821>\", line 7, in get_new_date\n",
      "    new_date = datetime.datetime.strptime(date,'%d-%m-%Y').date()\n",
      "  File \"C:\\Users\\Vaibhav\\anaconda3\\lib\\_strptime.py\", line 568, in _strptime_datetime\n",
      "    tt, fraction, gmtoff_fraction = _strptime(data_string, format)\n",
      "  File \"C:\\Users\\Vaibhav\\anaconda3\\lib\\_strptime.py\", line 349, in _strptime\n",
      "    raise ValueError(\"time data %r does not match format %r\" %\n",
      "ValueError: time data '16/08/2022' does not match format '%d-%m-%Y'\n"
     ]
    }
   ],
   "source": [
    "date1 = '16-08-2022'\n",
    "date2 = '16/08/2022'\n",
    "\n",
    "def get_new_date(date):\n",
    "    try:\n",
    "        print('Try Block')\n",
    "        new_date = datetime.datetime.strptime(date,'%d-%m-%Y').date()\n",
    "        \n",
    "    except:\n",
    "        print('Except Block')\n",
    "        print(traceback.print_exc())\n",
    "        new_date = datetime.datetime.strptime(date,'%d/%m/%Y').date()\n",
    "        \n",
    "    return new_date\n",
    "\n",
    "print(get_new_date(date2))"
   ]
  },
  {
   "cell_type": "code",
   "execution_count": null,
   "id": "4d9adcd3",
   "metadata": {},
   "outputs": [],
   "source": [
    "import pandas as pd\n",
    "\n",
    "try:\n",
    "    df = pd.read_csv(file_path)\n",
    "    \n",
    "except:\n",
    "    df = pd.read_excel(file_path)"
   ]
  },
  {
   "cell_type": "code",
   "execution_count": 20,
   "id": "af5c35b6",
   "metadata": {},
   "outputs": [
    {
     "name": "stdout",
     "output_type": "stream",
     "text": [
      "4\n",
      "9\n",
      "16\n"
     ]
    },
    {
     "ename": "TypeError",
     "evalue": "unsupported operand type(s) for ** or pow(): 'str' and 'int'",
     "output_type": "error",
     "traceback": [
      "\u001b[1;31m---------------------------------------------------------------------------\u001b[0m",
      "\u001b[1;31mTypeError\u001b[0m                                 Traceback (most recent call last)",
      "\u001b[1;32m<ipython-input-20-ef01f7e999f6>\u001b[0m in \u001b[0;36m<module>\u001b[1;34m\u001b[0m\n\u001b[0;32m      2\u001b[0m \u001b[1;33m\u001b[0m\u001b[0m\n\u001b[0;32m      3\u001b[0m \u001b[1;32mfor\u001b[0m \u001b[0mi\u001b[0m \u001b[1;32min\u001b[0m \u001b[0mlist1\u001b[0m\u001b[1;33m:\u001b[0m\u001b[1;33m\u001b[0m\u001b[1;33m\u001b[0m\u001b[0m\n\u001b[1;32m----> 4\u001b[1;33m     \u001b[0msqr\u001b[0m \u001b[1;33m=\u001b[0m \u001b[0mi\u001b[0m\u001b[1;33m**\u001b[0m\u001b[1;36m2\u001b[0m\u001b[1;33m\u001b[0m\u001b[1;33m\u001b[0m\u001b[0m\n\u001b[0m\u001b[0;32m      5\u001b[0m     \u001b[0mprint\u001b[0m\u001b[1;33m(\u001b[0m\u001b[0msqr\u001b[0m\u001b[1;33m)\u001b[0m\u001b[1;33m\u001b[0m\u001b[1;33m\u001b[0m\u001b[0m\n",
      "\u001b[1;31mTypeError\u001b[0m: unsupported operand type(s) for ** or pow(): 'str' and 'int'"
     ]
    }
   ],
   "source": [
    "list1 = [2,3,4,'8',5]\n",
    "\n",
    "for i in list1:\n",
    "    sqr = i**2\n",
    "    print(sqr)"
   ]
  },
  {
   "cell_type": "code",
   "execution_count": 21,
   "id": "79709a98",
   "metadata": {},
   "outputs": [
    {
     "name": "stdout",
     "output_type": "stream",
     "text": [
      "4\n",
      "9\n",
      "16\n",
      "25\n"
     ]
    }
   ],
   "source": [
    "list1 = [2,3,4,'8',5]\n",
    "\n",
    "for i in list1:\n",
    "    try:\n",
    "        sqr = i**2\n",
    "        print(sqr)\n",
    "    except:\n",
    "        continue"
   ]
  },
  {
   "cell_type": "code",
   "execution_count": 22,
   "id": "3cc02492",
   "metadata": {},
   "outputs": [
    {
     "name": "stdout",
     "output_type": "stream",
     "text": [
      "File Created by using X mode\n"
     ]
    }
   ],
   "source": [
    "try:\n",
    "    f = open('data.txt', 'x')\n",
    "    f.write(\"Python and Data Science\")\n",
    "    f.close()\n",
    "    print('File Created by using X mode')\n",
    "except:\n",
    "    f=open('data.txt','w')\n",
    "    f.write(\"Machine Learning\")\n",
    "    f.close()\n",
    "    print('File Created by using W mode')\n",
    "    print(traceback.print_exc())"
   ]
  },
  {
   "cell_type": "code",
   "execution_count": 23,
   "id": "67464ddf",
   "metadata": {},
   "outputs": [
    {
     "name": "stdout",
     "output_type": "stream",
     "text": [
      "File Created by using W mode\n",
      "None\n"
     ]
    },
    {
     "name": "stderr",
     "output_type": "stream",
     "text": [
      "Traceback (most recent call last):\n",
      "  File \"<ipython-input-23-4bf38706cfe1>\", line 2, in <module>\n",
      "    f = open('data.txt', 'x')\n",
      "FileExistsError: [Errno 17] File exists: 'data.txt'\n"
     ]
    }
   ],
   "source": [
    "try:\n",
    "    f = open('data.txt', 'x')\n",
    "    f.write(\"Python and Data Science\")\n",
    "    f.close()\n",
    "    print('File Created by using X mode')\n",
    "except:\n",
    "    f=open('data.txt','w')\n",
    "    f.write(\"Machine Learning\")\n",
    "    f.close()\n",
    "    print('File Created by using W mode')\n",
    "    print(traceback.print_exc())"
   ]
  },
  {
   "cell_type": "code",
   "execution_count": 24,
   "id": "0710ad88",
   "metadata": {},
   "outputs": [
    {
     "ename": "FileNotFoundError",
     "evalue": "[Errno 2] No such file or directory: 'machine_learning.txt'",
     "output_type": "error",
     "traceback": [
      "\u001b[1;31m---------------------------------------------------------------------------\u001b[0m",
      "\u001b[1;31mFileNotFoundError\u001b[0m                         Traceback (most recent call last)",
      "\u001b[1;32m<ipython-input-24-6d14565f4cfa>\u001b[0m in \u001b[0;36m<module>\u001b[1;34m\u001b[0m\n\u001b[1;32m----> 1\u001b[1;33m \u001b[0mf\u001b[0m \u001b[1;33m=\u001b[0m \u001b[0mopen\u001b[0m\u001b[1;33m(\u001b[0m\u001b[1;34m'machine_learning.txt'\u001b[0m\u001b[1;33m,\u001b[0m \u001b[1;34m'r'\u001b[0m\u001b[1;33m)\u001b[0m\u001b[1;33m\u001b[0m\u001b[1;33m\u001b[0m\u001b[0m\n\u001b[0m\u001b[0;32m      2\u001b[0m \u001b[0mtext\u001b[0m \u001b[1;33m=\u001b[0m \u001b[0mf\u001b[0m\u001b[1;33m.\u001b[0m\u001b[0mread\u001b[0m\u001b[1;33m(\u001b[0m\u001b[1;33m)\u001b[0m\u001b[1;33m\u001b[0m\u001b[1;33m\u001b[0m\u001b[0m\n\u001b[0;32m      3\u001b[0m \u001b[0mf\u001b[0m\u001b[1;33m.\u001b[0m\u001b[0mclose\u001b[0m\u001b[1;33m(\u001b[0m\u001b[1;33m)\u001b[0m\u001b[1;33m\u001b[0m\u001b[1;33m\u001b[0m\u001b[0m\n\u001b[0;32m      4\u001b[0m \u001b[0mprint\u001b[0m\u001b[1;33m(\u001b[0m\u001b[0mtext\u001b[0m\u001b[1;33m)\u001b[0m\u001b[1;33m\u001b[0m\u001b[1;33m\u001b[0m\u001b[0m\n",
      "\u001b[1;31mFileNotFoundError\u001b[0m: [Errno 2] No such file or directory: 'machine_learning.txt'"
     ]
    }
   ],
   "source": [
    "f = open('machine_learning.txt', 'r')\n",
    "text = f.read()\n",
    "f.close()\n",
    "print(text)"
   ]
  },
  {
   "cell_type": "code",
   "execution_count": 25,
   "id": "ce279ef7",
   "metadata": {},
   "outputs": [
    {
     "name": "stdout",
     "output_type": "stream",
     "text": [
      "Machine Learning\n"
     ]
    }
   ],
   "source": [
    "f = open('data.txt', 'r')\n",
    "text = f.read()\n",
    "f.close()\n",
    "print(text)"
   ]
  },
  {
   "cell_type": "code",
   "execution_count": 26,
   "id": "e2047654",
   "metadata": {},
   "outputs": [
    {
     "name": "stdout",
     "output_type": "stream",
     "text": [
      "FileExistsError exception block\n"
     ]
    }
   ],
   "source": [
    "try:\n",
    "    f = open('data.txt', 'x')\n",
    "    f.write(\"Data Science\")\n",
    "    f.close()\n",
    "    print('File Created by using X mode')\n",
    "    \n",
    "    f = open('machine_learning.txt', 'r')\n",
    "    text = f.read()\n",
    "    f.close()\n",
    "    print(text)\n",
    "    \n",
    "except FileNotFoundError:\n",
    "    print('FileNotFoundError exception block')\n",
    "    \n",
    "except FileExistsError:\n",
    "    print('FileExistsError exception block')\n",
    "        \n",
    "    "
   ]
  },
  {
   "cell_type": "code",
   "execution_count": 28,
   "id": "17e7d7bd",
   "metadata": {},
   "outputs": [
    {
     "name": "stdout",
     "output_type": "stream",
     "text": [
      "File Created by using W mode\n",
      "FileNotFoundError exception block\n"
     ]
    }
   ],
   "source": [
    "try:\n",
    "    f = open('data.txt', 'w')\n",
    "    f.write(\"Data Science and Python\")\n",
    "    f.close()\n",
    "    print('File Created by using W mode')\n",
    "    \n",
    "    f = open('machine_learning.txt', 'r')\n",
    "    text = f.read()\n",
    "    f.close()\n",
    "    print(text)\n",
    "    \n",
    "except FileNotFoundError:\n",
    "    print('FileNotFoundError exception block')\n",
    "    \n",
    "except FileExistsError:\n",
    "    print('FileExistsError exception block')\n",
    "        \n",
    "    "
   ]
  },
  {
   "cell_type": "code",
   "execution_count": null,
   "id": "6d8e0dcc",
   "metadata": {},
   "outputs": [],
   "source": [
    "try:\n",
    "    f = open('data.txt', 'x')\n",
    "    f.write(\"Data Science\")\n",
    "    f.close()\n",
    "    print('File Created by using X mode')\n",
    "    \n",
    "    f = open('machine_learning.txt', 'r')\n",
    "    text = f.read()\n",
    "    f.close()\n",
    "    print(text)\n",
    "    \n",
    "except FileNotFoundError:\n",
    "    print('FileNotFoundError exception block')\n",
    "    \n",
    "    \n",
    "except FileExistsError:\n",
    "    print('FileExistsError exception block')\n",
    "        \n",
    "    "
   ]
  },
  {
   "cell_type": "code",
   "execution_count": 29,
   "id": "6d09fd2c",
   "metadata": {},
   "outputs": [
    {
     "name": "stdout",
     "output_type": "stream",
     "text": [
      "FileExistsError exception block\n",
      "Error [Errno 17] File exists: 'data.txt'\n",
      "Hello Python\n"
     ]
    }
   ],
   "source": [
    "try:\n",
    "    f = open('data.txt', 'x')\n",
    "    f.write(\"Data Science\")\n",
    "    f.close()\n",
    "    print('File Created by using X mode')\n",
    "    \n",
    "    f = open('machine_learning.txt', 'r')\n",
    "    text = f.read()\n",
    "    f.close()\n",
    "    print(text)\n",
    "    \n",
    "except FileNotFoundError as error:\n",
    "    print('FileNotFoundError exception block')\n",
    "    print(\"Error\",error)\n",
    "    \n",
    "except FileExistsError as e:\n",
    "    print('FileExistsError exception block')\n",
    "    print(\"Error\",e)\n",
    "    \n",
    "print(\"Hello Python\")"
   ]
  },
  {
   "cell_type": "code",
   "execution_count": 30,
   "id": "8edb5a1a",
   "metadata": {},
   "outputs": [
    {
     "name": "stdout",
     "output_type": "stream",
     "text": [
      "File Created by using W mode\n",
      "FileNotFoundError exception block\n",
      "Error [Errno 2] No such file or directory: 'machine_learning.txt'\n",
      "Hello Python\n"
     ]
    }
   ],
   "source": [
    "try:\n",
    "    f = open('data.txt', 'w')\n",
    "    f.write(\"Data Science\")\n",
    "    f.close()\n",
    "    print('File Created by using W mode')\n",
    "    \n",
    "    f = open('machine_learning.txt', 'r')\n",
    "    text = f.read()\n",
    "    f.close()\n",
    "    print(text)\n",
    "    \n",
    "except FileNotFoundError as error:\n",
    "    print('FileNotFoundError exception block')\n",
    "    print(\"Error\",error)\n",
    "    \n",
    "except FileExistsError as e:\n",
    "    print('FileExistsError exception block')\n",
    "    print(\"Error\",e)\n",
    "    \n",
    "print(\"Hello Python\")"
   ]
  },
  {
   "cell_type": "markdown",
   "id": "cbeaa3fe",
   "metadata": {},
   "source": [
    "## try except else"
   ]
  },
  {
   "cell_type": "code",
   "execution_count": 31,
   "id": "15fbfc0d",
   "metadata": {},
   "outputs": [
    {
     "name": "stdout",
     "output_type": "stream",
     "text": [
      "Try Block\n",
      "Else Block\n"
     ]
    }
   ],
   "source": [
    "try:\n",
    "    print('Try Block')\n",
    "except:\n",
    "    print('Except Block')\n",
    "else:\n",
    "    print('Else Block')"
   ]
  },
  {
   "cell_type": "code",
   "execution_count": 33,
   "id": "8128b4c4",
   "metadata": {},
   "outputs": [
    {
     "name": "stdout",
     "output_type": "stream",
     "text": [
      "Try Block\n",
      "Except Block\n",
      "None\n"
     ]
    },
    {
     "name": "stderr",
     "output_type": "stream",
     "text": [
      "Traceback (most recent call last):\n",
      "  File \"<ipython-input-33-ca7ce1a903b2>\", line 3, in <module>\n",
      "    print(machine_learnings)\n",
      "NameError: name 'machine_learnings' is not defined\n"
     ]
    }
   ],
   "source": [
    "try:\n",
    "    print('Try Block')\n",
    "    print(machine_learnings)\n",
    "except:\n",
    "    print('Except Block')\n",
    "    print(traceback.print_exc())\n",
    "else:\n",
    "    print('Else Block')"
   ]
  },
  {
   "cell_type": "code",
   "execution_count": null,
   "id": "4fd00098",
   "metadata": {},
   "outputs": [],
   "source": [
    "try except  finally"
   ]
  },
  {
   "cell_type": "code",
   "execution_count": null,
   "id": "ed48cf8b",
   "metadata": {},
   "outputs": [],
   "source": [
    "finally >> ececute the block of code regardless of errors"
   ]
  },
  {
   "cell_type": "code",
   "execution_count": 1,
   "id": "543c11ff",
   "metadata": {},
   "outputs": [
    {
     "name": "stdout",
     "output_type": "stream",
     "text": [
      "Try Block\n",
      "Else Block\n",
      "Finally Block\n"
     ]
    }
   ],
   "source": [
    "try:\n",
    "    print('Try Block')\n",
    "except:\n",
    "    print('Except Block')\n",
    "else:\n",
    "    print('Else Block')\n",
    "finally:\n",
    "    print(\"Finally Block\")"
   ]
  },
  {
   "cell_type": "code",
   "execution_count": 3,
   "id": "c99f1373",
   "metadata": {},
   "outputs": [
    {
     "name": "stdout",
     "output_type": "stream",
     "text": [
      "Try Block\n",
      "Except Block\n",
      "None\n",
      "Finally Block\n"
     ]
    },
    {
     "name": "stderr",
     "output_type": "stream",
     "text": [
      "Traceback (most recent call last):\n",
      "  File \"<ipython-input-3-af847311b7e7>\", line 4, in <module>\n",
      "    print(machine_learnings)\n",
      "NameError: name 'machine_learnings' is not defined\n"
     ]
    }
   ],
   "source": [
    "import traceback\n",
    "try:\n",
    "    print('Try Block')\n",
    "    print(machine_learnings)\n",
    "except:\n",
    "    print('Except Block')\n",
    "    print(traceback.print_exc())\n",
    "else:\n",
    "    print('Else Block')\n",
    "    \n",
    "finally:\n",
    "    print(\"Finally Block\")"
   ]
  },
  {
   "cell_type": "code",
   "execution_count": 6,
   "id": "300cae22",
   "metadata": {},
   "outputs": [
    {
     "name": "stdout",
     "output_type": "stream",
     "text": [
      "try block\n",
      "var1 is :  {33, 4, 5, 70, 7, 8, 90, 60}\n",
      "except block\n",
      "None\n",
      "Finally Block\n"
     ]
    },
    {
     "name": "stderr",
     "output_type": "stream",
     "text": [
      "Traceback (most recent call last):\n",
      "  File \"<ipython-input-6-10388461c8ce>\", line 12, in <module>\n",
      "    print(python)\n",
      "NameError: name 'python' is not defined\n"
     ]
    }
   ],
   "source": [
    "try: \n",
    "    print('try block')\n",
    "    var1 = {4,5,8,7}\n",
    "    var2 = [90,70,60,33]\n",
    "    try: \n",
    "        var1.update(var2)\n",
    "        print('var1 is : ',var1)\n",
    "        \n",
    "    except:\n",
    "        print(\"Nested except block\")\n",
    "        \n",
    "    print(python)\n",
    "except:\n",
    "    print(\"except block\")\n",
    "    print(traceback.print_exc())\n",
    "finally:\n",
    "    print('Finally Block')"
   ]
  },
  {
   "cell_type": "code",
   "execution_count": 7,
   "id": "7e698c18",
   "metadata": {},
   "outputs": [
    {
     "name": "stdout",
     "output_type": "stream",
     "text": [
      "try block\n",
      "finally block\n"
     ]
    }
   ],
   "source": [
    "try:\n",
    "    print('try block')\n",
    "    f= open('data_science.txt','x')\n",
    "    f.write(\"Python and data science in try block\")\n",
    "except:\n",
    "    f= open('data_science.txt','w')\n",
    "    f.write(\"Python and data science in except block\")\n",
    "finally:\n",
    "    print(\"finally block\")\n",
    "    f.close()"
   ]
  },
  {
   "cell_type": "code",
   "execution_count": 8,
   "id": "174f5c7b",
   "metadata": {},
   "outputs": [
    {
     "name": "stdout",
     "output_type": "stream",
     "text": [
      "try block\n",
      "None\n",
      "finally block\n"
     ]
    },
    {
     "name": "stderr",
     "output_type": "stream",
     "text": [
      "Traceback (most recent call last):\n",
      "  File \"<ipython-input-8-64897dbf2f20>\", line 3, in <module>\n",
      "    f= open('data_science.txt','x')\n",
      "FileExistsError: [Errno 17] File exists: 'data_science.txt'\n"
     ]
    }
   ],
   "source": [
    "try:\n",
    "    print('try block')\n",
    "    f= open('data_science.txt','x')\n",
    "    f.write(\"Python and data science in try block\")\n",
    "except:\n",
    "    print(traceback.print_exc())\n",
    "    f= open('data_science.txt','w')\n",
    "    f.write(\"Python and data science in except block\")\n",
    "finally:\n",
    "    print(\"finally block\")\n",
    "    f.close()"
   ]
  },
  {
   "cell_type": "markdown",
   "id": "68533de5",
   "metadata": {},
   "source": [
    "# raise"
   ]
  },
  {
   "cell_type": "code",
   "execution_count": null,
   "id": "2e81e8cb",
   "metadata": {},
   "outputs": [],
   "source": [
    "raise >> keyword is used to raise an error"
   ]
  },
  {
   "cell_type": "code",
   "execution_count": 9,
   "id": "d46200f1",
   "metadata": {},
   "outputs": [
    {
     "name": "stdout",
     "output_type": "stream",
     "text": [
      "Hello python\n",
      "Except Hello\n"
     ]
    }
   ],
   "source": [
    "try:\n",
    "    raise NameError(\"Hello python\")\n",
    "except NameError as error:\n",
    "    print(error)\n",
    "    print(\"Except Hello\")"
   ]
  },
  {
   "cell_type": "code",
   "execution_count": 10,
   "id": "49f576eb",
   "metadata": {},
   "outputs": [
    {
     "name": "stdout",
     "output_type": "stream",
     "text": [
      "Addition of 10 and 20 is : 30\n"
     ]
    }
   ],
   "source": [
    "x = 10\n",
    "y = 20 \n",
    "if type(x)==int and type(y)== int:\n",
    "    add = x+y\n",
    "    print(f'Addition of {x} and {y} is : {add}')\n",
    "else:\n",
    "    raise TypeError(f'Either {x} or {y} is not an integer')"
   ]
  },
  {
   "cell_type": "code",
   "execution_count": 11,
   "id": "ba2d4355",
   "metadata": {},
   "outputs": [
    {
     "ename": "TypeError",
     "evalue": "Either 10 or 20 is not an integer",
     "output_type": "error",
     "traceback": [
      "\u001b[1;31m---------------------------------------------------------------------------\u001b[0m",
      "\u001b[1;31mTypeError\u001b[0m                                 Traceback (most recent call last)",
      "\u001b[1;32m<ipython-input-11-214ac0250c4f>\u001b[0m in \u001b[0;36m<module>\u001b[1;34m\u001b[0m\n\u001b[0;32m      5\u001b[0m     \u001b[0mprint\u001b[0m\u001b[1;33m(\u001b[0m\u001b[1;34mf'Addition of {x} and {y} is : {add}'\u001b[0m\u001b[1;33m)\u001b[0m\u001b[1;33m\u001b[0m\u001b[1;33m\u001b[0m\u001b[0m\n\u001b[0;32m      6\u001b[0m \u001b[1;32melse\u001b[0m\u001b[1;33m:\u001b[0m\u001b[1;33m\u001b[0m\u001b[1;33m\u001b[0m\u001b[0m\n\u001b[1;32m----> 7\u001b[1;33m     \u001b[1;32mraise\u001b[0m \u001b[0mTypeError\u001b[0m\u001b[1;33m(\u001b[0m\u001b[1;34mf'Either {x} or {y} is not an integer'\u001b[0m\u001b[1;33m)\u001b[0m\u001b[1;33m\u001b[0m\u001b[1;33m\u001b[0m\u001b[0m\n\u001b[0m",
      "\u001b[1;31mTypeError\u001b[0m: Either 10 or 20 is not an integer"
     ]
    }
   ],
   "source": [
    "x = 10\n",
    "y = '20' \n",
    "if type(x)==int and type(y)== int:\n",
    "    add = x+y\n",
    "    print(f'Addition of {x} and {y} is : {add}')\n",
    "else:\n",
    "    raise TypeError(f'Either {x} or {y} is not an integer')"
   ]
  },
  {
   "cell_type": "code",
   "execution_count": 12,
   "id": "480ea2a3",
   "metadata": {},
   "outputs": [],
   "source": [
    "import datetime"
   ]
  },
  {
   "cell_type": "code",
   "execution_count": 13,
   "id": "5420ace6",
   "metadata": {},
   "outputs": [
    {
     "name": "stdout",
     "output_type": "stream",
     "text": [
      "Date :  17 Aug 2022\n",
      "%d %b %Y\n",
      "New Date :  2022-08-17\n",
      "Date :  17-08-2022\n",
      "%d %b %Y\n",
      "%d-%m-%Y\n",
      "New Date :  2022-08-17\n",
      "Date :  17 August 2022\n",
      "%d %b %Y\n",
      "%d-%m-%Y\n",
      "%d %B %Y\n",
      "New Date :  2022-08-17\n",
      "Date :  17/08/2022\n",
      "%d %b %Y\n",
      "%d-%m-%Y\n",
      "%d %B %Y\n",
      "%d/%m/%Y\n",
      "New Date :  2022-08-17\n",
      "Date :  17.08.22\n",
      "%d %b %Y\n",
      "%d-%m-%Y\n",
      "%d %B %Y\n",
      "%d/%m/%Y\n",
      "%d.%m.%y\n",
      "New Date :  2022-08-17\n",
      "Date :  2022 August 17\n",
      "%d %b %Y\n",
      "%d-%m-%Y\n",
      "%d %B %Y\n",
      "%d/%m/%Y\n",
      "%d.%m.%y\n",
      "%Y %B %d\n",
      "New Date :  2022-08-17\n",
      "Date :  18-08-2022\n",
      "%d %b %Y\n",
      "%d-%m-%Y\n",
      "New Date :  2022-08-18\n"
     ]
    }
   ],
   "source": [
    "date_list = ['17 Aug 2022',\n",
    "             '17-08-2022',\n",
    "            '17 August 2022',\n",
    "            '17/08/2022',\n",
    "            '17.08.22',\n",
    "            '2022 August 17',\n",
    "            '18-08-2022']\n",
    "date_format_list = ['%d %b %Y', '%d-%m-%Y','%d %B %Y','%d/%m/%Y', '%d.%m.%y','%Y %B %d']\n",
    "\n",
    "for date in date_list:\n",
    "    print('Date : ',date)\n",
    "    for date_format in date_format_list:\n",
    "        print(date_format)\n",
    "        try:\n",
    "            new_date = datetime.datetime.strptime(date,date_format).date()\n",
    "            print('New Date : ',new_date)\n",
    "            break\n",
    "        except:\n",
    "            pass"
   ]
  },
  {
   "cell_type": "code",
   "execution_count": null,
   "id": "a010bcc2",
   "metadata": {},
   "outputs": [],
   "source": []
  }
 ],
 "metadata": {
  "kernelspec": {
   "display_name": "Python 3",
   "language": "python",
   "name": "python3"
  },
  "language_info": {
   "codemirror_mode": {
    "name": "ipython",
    "version": 3
   },
   "file_extension": ".py",
   "mimetype": "text/x-python",
   "name": "python",
   "nbconvert_exporter": "python",
   "pygments_lexer": "ipython3",
   "version": "3.8.8"
  }
 },
 "nbformat": 4,
 "nbformat_minor": 5
}
