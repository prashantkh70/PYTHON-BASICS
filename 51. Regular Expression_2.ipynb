{
 "cells": [
  {
   "cell_type": "markdown",
   "id": "8fdda010",
   "metadata": {},
   "source": [
    "# Regular Expression"
   ]
  },
  {
   "cell_type": "code",
   "execution_count": 1,
   "id": "2a76f2b7",
   "metadata": {},
   "outputs": [],
   "source": [
    "import re"
   ]
  },
  {
   "cell_type": "markdown",
   "id": "abaaefd8",
   "metadata": {},
   "source": [
    "# Regex Functions"
   ]
  },
  {
   "cell_type": "code",
   "execution_count": null,
   "id": "d82a7feb",
   "metadata": {},
   "outputs": [],
   "source": [
    "1. findall >>> list of all matches\n",
    ">> special sequences \\d,\\D,\\w,\\W,\\s,\\S\n",
    "2. sub"
   ]
  },
  {
   "cell_type": "code",
   "execution_count": 2,
   "id": "8b0d73e0",
   "metadata": {},
   "outputs": [
    {
     "data": {
      "text/plain": [
       "'Data Science class'"
      ]
     },
     "execution_count": 2,
     "metadata": {},
     "output_type": "execute_result"
    }
   ],
   "source": [
    "string = 'python class'\n",
    "\n",
    "string.replace('python','Data Science')\n"
   ]
  },
  {
   "cell_type": "code",
   "execution_count": 3,
   "id": "2c9f3e26",
   "metadata": {},
   "outputs": [
    {
     "data": {
      "text/plain": [
       "'python class '"
      ]
     },
     "execution_count": 3,
     "metadata": {},
     "output_type": "execute_result"
    }
   ],
   "source": [
    "string = 'python class 1234'\n",
    "\n",
    "string.replace('1234','')\n"
   ]
  },
  {
   "cell_type": "code",
   "execution_count": 4,
   "id": "7f78bb93",
   "metadata": {},
   "outputs": [
    {
     "data": {
      "text/plain": [
       "'python class  Pune'"
      ]
     },
     "execution_count": 4,
     "metadata": {},
     "output_type": "execute_result"
    }
   ],
   "source": [
    "string = 'python class  @'\n",
    "\n",
    "string.replace('@','Pune')\n"
   ]
  },
  {
   "cell_type": "markdown",
   "id": "9ccbb272",
   "metadata": {},
   "source": [
    "# 2. sub"
   ]
  },
  {
   "cell_type": "code",
   "execution_count": null,
   "id": "a4ec50e2",
   "metadata": {},
   "outputs": [],
   "source": [
    "re.sub(pattern,new_string,text)\n",
    "\n",
    "It returns a string after replacing the matches(pattern)"
   ]
  },
  {
   "cell_type": "code",
   "execution_count": 5,
   "id": "e9cc756b",
   "metadata": {},
   "outputs": [
    {
     "data": {
      "text/plain": [
       "'Data Science class'"
      ]
     },
     "execution_count": 5,
     "metadata": {},
     "output_type": "execute_result"
    }
   ],
   "source": [
    "string = 'python class'\n",
    "re.sub('python','Data Science',string)"
   ]
  },
  {
   "cell_type": "code",
   "execution_count": 7,
   "id": "f8b1068d",
   "metadata": {},
   "outputs": [
    {
     "data": {
      "text/plain": [
       "'python class  at pune  9'"
      ]
     },
     "execution_count": 7,
     "metadata": {},
     "output_type": "execute_result"
    }
   ],
   "source": [
    "string = 'python class 1234 at pune 1234 45679'\n",
    "re.sub('[0-9]{4}','',string)"
   ]
  },
  {
   "cell_type": "code",
   "execution_count": 8,
   "id": "e428771d",
   "metadata": {},
   "outputs": [
    {
     "data": {
      "text/plain": [
       "'python class  at pune  '"
      ]
     },
     "execution_count": 8,
     "metadata": {},
     "output_type": "execute_result"
    }
   ],
   "source": [
    "string = 'python class 1234 at pune 1234 45679'\n",
    "re.sub('[0-9]','',string)"
   ]
  },
  {
   "cell_type": "code",
   "execution_count": 10,
   "id": "f9350f62",
   "metadata": {},
   "outputs": [
    {
     "data": {
      "text/plain": [
       "'python class  at pune  45679'"
      ]
     },
     "execution_count": 10,
     "metadata": {},
     "output_type": "execute_result"
    }
   ],
   "source": [
    "string = 'python class 1934 at pune  45679'  #1934\n",
    "re.sub(r'\\b[0-9]{4}\\b','',string)"
   ]
  },
  {
   "cell_type": "code",
   "execution_count": 12,
   "id": "67c691e2",
   "metadata": {},
   "outputs": [
    {
     "data": {
      "text/plain": [
       "'python class  at pune  45679'"
      ]
     },
     "execution_count": 12,
     "metadata": {},
     "output_type": "execute_result"
    }
   ],
   "source": [
    "string = 'python class 1934 at pune  45679'  #1934\n",
    "re.sub(r'\\b[0-9]{4}\\b','',string)"
   ]
  },
  {
   "cell_type": "code",
   "execution_count": 13,
   "id": "71933d8b",
   "metadata": {},
   "outputs": [
    {
     "data": {
      "text/plain": [
       "'python class 1934 at pune  '"
      ]
     },
     "execution_count": 13,
     "metadata": {},
     "output_type": "execute_result"
    }
   ],
   "source": [
    "string = 'python class 1934 at pune  45679'\n",
    "re.sub(r'\\b[0-9]{5}\\b','',string)"
   ]
  },
  {
   "cell_type": "code",
   "execution_count": 15,
   "id": "dba3d675",
   "metadata": {},
   "outputs": [
    {
     "data": {
      "text/plain": [
       "'python and   data science %$#@ 4'"
      ]
     },
     "execution_count": 15,
     "metadata": {},
     "output_type": "execute_result"
    }
   ],
   "source": [
    "string = 'python and  1934 data science %$#@ 45679'\n",
    "re.sub(r'[0-9]{4}\\b','',string)"
   ]
  },
  {
   "cell_type": "code",
   "execution_count": 17,
   "id": "d6f3b535",
   "metadata": {},
   "outputs": [
    {
     "data": {
      "text/plain": [
       "'python and       data science           '"
      ]
     },
     "execution_count": 17,
     "metadata": {},
     "output_type": "execute_result"
    }
   ],
   "source": [
    "string = 'python and  1934 data science %$#@ 45679'\n",
    "re.sub('[^a-zA-Z]',' ',string)"
   ]
  },
  {
   "cell_type": "code",
   "execution_count": 18,
   "id": "c2b5e2a2",
   "metadata": {},
   "outputs": [
    {
     "data": {
      "text/plain": [
       "'python and data science '"
      ]
     },
     "execution_count": 18,
     "metadata": {},
     "output_type": "execute_result"
    }
   ],
   "source": [
    "string = 'python and  1934 data science %$#@ 45679'\n",
    "re.sub('[^a-zA-Z]+',' ',string)"
   ]
  },
  {
   "cell_type": "code",
   "execution_count": 20,
   "id": "cf54818b",
   "metadata": {},
   "outputs": [
    {
     "data": {
      "text/plain": [
       "'Machine            learning        is a field of inquiry devoted to understanding and  building methods that  learn   that is         methods that leverage data to improve  performance               on some set of tasks   It is seen as a part of          artificial intelligence'"
      ]
     },
     "execution_count": 20,
     "metadata": {},
     "output_type": "execute_result"
    }
   ],
   "source": [
    "string = \"\"\"Machine            learning        is a field of inquiry devoted to understanding and \n",
    "building methods that 'learn', that is,        methods that leverage data to improve \n",
    "performance               on some set of tasks. \n",
    "It is seen as a part of          artificial intelligence\"\"\"\n",
    "re.sub('[^a-zA-Z]',' ',string)"
   ]
  },
  {
   "cell_type": "code",
   "execution_count": 21,
   "id": "cad88220",
   "metadata": {},
   "outputs": [
    {
     "data": {
      "text/plain": [
       "'Machine learning is a field of inquiry devoted to understanding and building methods that learn that is methods that leverage data to improve performance on some set of tasks It is seen as a part of artificial intelligence'"
      ]
     },
     "execution_count": 21,
     "metadata": {},
     "output_type": "execute_result"
    }
   ],
   "source": [
    "string = \"\"\"Machine            learning        is a field of inquiry devoted to understanding and \n",
    "building methods that 'learn', that is,        methods that leverage data to improve \n",
    "performance               on some set of tasks. \n",
    "It is seen as a part of          artificial intelligence\"\"\"\n",
    "re.sub('[^a-zA-Z]+',' ',string)"
   ]
  },
  {
   "cell_type": "markdown",
   "id": "538e8e91",
   "metadata": {},
   "source": [
    "## Characters with special meaning or Metacharacters"
   ]
  },
  {
   "cell_type": "markdown",
   "id": "bcc6fba7",
   "metadata": {},
   "source": [
    "### 1. Plus (+)"
   ]
  },
  {
   "cell_type": "code",
   "execution_count": null,
   "id": "d359ca8d",
   "metadata": {},
   "outputs": [],
   "source": [
    "+ >>> one or more occurences"
   ]
  },
  {
   "cell_type": "code",
   "execution_count": 22,
   "id": "298daf14",
   "metadata": {},
   "outputs": [
    {
     "data": {
      "text/plain": [
       "\"Machine            learning        is a field of inquiry devoted to understanding and  building methods that 'learn', that is,        methods that leverage data to improve  performance               on some set of tasks.  It is seen as a part of          artificial intelligence\""
      ]
     },
     "execution_count": 22,
     "metadata": {},
     "output_type": "execute_result"
    }
   ],
   "source": [
    "string = \"\"\"Machine            learning        is a field of inquiry devoted to understanding and \n",
    "building methods that 'learn', that is,        methods that leverage data to improve \n",
    "performance               on some set of tasks. \n",
    "It is seen as a part of          artificial intelligence\"\"\"\n",
    "re.sub('\\s',' ',string)"
   ]
  },
  {
   "cell_type": "code",
   "execution_count": 23,
   "id": "c4a92c6d",
   "metadata": {},
   "outputs": [
    {
     "data": {
      "text/plain": [
       "\"Machine learning is a field of inquiry devoted to understanding and building methods that 'learn', that is, methods that leverage data to improve performance on some set of tasks. It is seen as a part of artificial intelligence\""
      ]
     },
     "execution_count": 23,
     "metadata": {},
     "output_type": "execute_result"
    }
   ],
   "source": [
    "string = \"\"\"Machine            learning        is a field of inquiry devoted to understanding and \n",
    "building methods that 'learn', that is,        methods that leverage data to improve \n",
    "performance               on some set of tasks. \n",
    "It is seen as a part of          artificial intelligence\"\"\"\n",
    "re.sub('\\s+',' ',string)"
   ]
  },
  {
   "cell_type": "code",
   "execution_count": 25,
   "id": "9c93bafa",
   "metadata": {},
   "outputs": [
    {
     "name": "stdout",
     "output_type": "stream",
     "text": [
      "['python'] 1\n"
     ]
    }
   ],
   "source": [
    "string = 'python and data science pytthhhoonn pytthon pyttthhhhhoonn pyton pytthhoonn'\n",
    "result = re.findall('python',string)\n",
    "print(result,len(result))"
   ]
  },
  {
   "cell_type": "code",
   "execution_count": 30,
   "id": "6190bc9e",
   "metadata": {},
   "outputs": [
    {
     "name": "stdout",
     "output_type": "stream",
     "text": [
      "['python', 'pythhhon', 'pythhhhhon', 'pythhon'] 4\n"
     ]
    }
   ],
   "source": [
    "string = 'python and data science pythhhonn pytthon pythhhhhonn pyton pythhonn'\n",
    "result = re.findall('pyth+on',string)\n",
    "print(result,len(result))"
   ]
  },
  {
   "cell_type": "code",
   "execution_count": 31,
   "id": "0faed1c5",
   "metadata": {},
   "outputs": [
    {
     "name": "stdout",
     "output_type": "stream",
     "text": [
      "['python', 'pytthon'] 2\n"
     ]
    }
   ],
   "source": [
    "string = 'python and data science pythhhonn pytthon pythhhhhonn pyton pythhonn'\n",
    "result = re.findall('pyt+hon',string)   #python,pytthon\n",
    "print(result,len(result))"
   ]
  },
  {
   "cell_type": "code",
   "execution_count": 32,
   "id": "588c840f",
   "metadata": {},
   "outputs": [
    {
     "name": "stdout",
     "output_type": "stream",
     "text": [
      "['python', 'pythhhon', 'pytthon', 'pythhhhhon', 'pythhon'] 5\n"
     ]
    }
   ],
   "source": [
    "string = 'python and data science pythhhonn pytthon pythhhhhonn pyton pythhonn'\n",
    "result = re.findall('pyt+h+on',string)   #python,pytthon\n",
    "print(result,len(result))"
   ]
  },
  {
   "cell_type": "code",
   "execution_count": 33,
   "id": "4b9394ed",
   "metadata": {},
   "outputs": [
    {
     "name": "stdout",
     "output_type": "stream",
     "text": [
      "['python', 'pythhhonn', 'pytthon', 'pythhhhhonn', 'pythhonn'] 5\n"
     ]
    }
   ],
   "source": [
    "string = 'python and data science pythhhonn pytthon pythhhhhonn pyton pythhonn'\n",
    "result = re.findall('pyt+h+on+',string)   #python,pytthon\n",
    "print(result,len(result))"
   ]
  },
  {
   "cell_type": "markdown",
   "id": "b97d63cc",
   "metadata": {},
   "source": [
    "### 2. star (*)"
   ]
  },
  {
   "cell_type": "code",
   "execution_count": null,
   "id": "dcafd7f3",
   "metadata": {},
   "outputs": [],
   "source": [
    "* >>> zero or more occurances  (any occurance)"
   ]
  },
  {
   "cell_type": "code",
   "execution_count": 34,
   "id": "8a6423a9",
   "metadata": {},
   "outputs": [
    {
     "name": "stdout",
     "output_type": "stream",
     "text": [
      "['python'] 1\n"
     ]
    }
   ],
   "source": [
    "string = 'python and data science pythhhonn pytthon pythhhhhonn pyton pythhonn'\n",
    "result = re.findall('python',string)  \n",
    "print(result,len(result))"
   ]
  },
  {
   "cell_type": "code",
   "execution_count": 36,
   "id": "0f4f551b",
   "metadata": {},
   "outputs": [
    {
     "name": "stdout",
     "output_type": "stream",
     "text": [
      "['python', 'pythhhon', 'pytthon', 'pythhhhhon', 'pyton', 'pythhon'] 6\n"
     ]
    }
   ],
   "source": [
    "string = 'python and data science pythhhonn pytthon pythhhhhonn pyton pythhonn'\n",
    "result = re.findall('pyt+h*on',string)\n",
    "print(result,len(result))"
   ]
  },
  {
   "cell_type": "code",
   "execution_count": 37,
   "id": "773192f5",
   "metadata": {},
   "outputs": [
    {
     "name": "stdout",
     "output_type": "stream",
     "text": [
      "['python', 'pythhhon', 'pyhon', 'pythhhhhon', 'pythhon'] 5\n"
     ]
    }
   ],
   "source": [
    "string = 'python and data science pythhhonn pyhon pythhhhhonn pyton pythhonn'\n",
    "result = re.findall('pyt*h+on',string)  \n",
    "print(result,len(result))"
   ]
  },
  {
   "cell_type": "code",
   "execution_count": 38,
   "id": "95f6382c",
   "metadata": {},
   "outputs": [
    {
     "name": "stdout",
     "output_type": "stream",
     "text": [
      "['python', 'pythhhon', 'pyhon', 'pythhhhhon', 'pytttttthhon'] 5\n"
     ]
    }
   ],
   "source": [
    "string = 'python and data science pythhhonn pyhon pythhhhhonn pyton pytttttthhonn'\n",
    "result = re.findall('pyt*h+on',string)  \n",
    "print(result,len(result))"
   ]
  },
  {
   "cell_type": "code",
   "execution_count": 41,
   "id": "3a7eb439",
   "metadata": {},
   "outputs": [
    {
     "name": "stdout",
     "output_type": "stream",
     "text": [
      "['pyt', 'pyt', 'py', 'pyt', 'pyt', 'pytttttt', 'py'] 7\n"
     ]
    }
   ],
   "source": [
    "string = 'python and data science pythhhonn pyhon pythhhhhonn pyton pytttttthhonn'\n",
    "result = re.findall('pyt*h+on',string)  \n",
    "print(result,len(result))"
   ]
  },
  {
   "cell_type": "code",
   "execution_count": 43,
   "id": "44012d46",
   "metadata": {},
   "outputs": [
    {
     "name": "stdout",
     "output_type": "stream",
     "text": [
      "['pyt', 'dat', 'pyt', 'py', 'pyt', 'pyt', 'pytttttt', 'da'] 8\n"
     ]
    }
   ],
   "source": [
    "string = 'python and data science pythhhonn pyhon pythhhhhonn pyton pytttttthhonn   dac'\n",
    "result = re.findall('pyt*|dat*',string)  \n",
    "print(result,len(result))"
   ]
  },
  {
   "cell_type": "code",
   "execution_count": 44,
   "id": "3b3a3766",
   "metadata": {},
   "outputs": [
    {
     "name": "stdout",
     "output_type": "stream",
     "text": [
      "['pyt', 'dat', 'pyt', 'pyt', 'pyt', 'pytttttt'] 6\n"
     ]
    }
   ],
   "source": [
    "string = 'python and data science pythhhonn pyhon pythhhhhonn pyton pytttttthhonn   dac'\n",
    "result = re.findall('pyt+|dat+',string)  \n",
    "print(result,len(result))"
   ]
  },
  {
   "cell_type": "code",
   "execution_count": 46,
   "id": "1ac44274",
   "metadata": {},
   "outputs": [
    {
     "name": "stdout",
     "output_type": "stream",
     "text": [
      "-hon and -a science -hhhonn -hon -hhhhhonn -on -hhonn   -c 58\n"
     ]
    }
   ],
   "source": [
    "string = 'python and data science pythhhonn pyhon pythhhhhonn pyton pytttttthhonn   dac'\n",
    "result = re.sub('pyt*|dat*','-',string)  \n",
    "print(result,len(result))"
   ]
  },
  {
   "cell_type": "code",
   "execution_count": 51,
   "id": "1cbef827",
   "metadata": {},
   "outputs": [
    {
     "name": "stdout",
     "output_type": "stream",
     "text": [
      "#hon# #and# #data# #science# #hhhonn# #hon# #hhhhhonn# #on# #hhonn#   #dac# 75\n"
     ]
    }
   ],
   "source": [
    "string = 'python and data science pythhhonn pyhon pythhhhhonn pyton pytttttthhonn   dac'\n",
    "result = re.sub(r'\\b[pyt]*','#',string)  \n",
    "print(result,len(result))"
   ]
  },
  {
   "cell_type": "markdown",
   "id": "967b740f",
   "metadata": {},
   "source": [
    "### 3. dot (.)"
   ]
  },
  {
   "cell_type": "code",
   "execution_count": null,
   "id": "028d8fd8",
   "metadata": {},
   "outputs": [],
   "source": [
    "dot (.) >> any char except new line       #\\n"
   ]
  },
  {
   "cell_type": "code",
   "execution_count": 56,
   "id": "9e60d2b6",
   "metadata": {},
   "outputs": [
    {
     "name": "stdout",
     "output_type": "stream",
     "text": [
      "['python', 'pytkon']\n"
     ]
    }
   ],
   "source": [
    "string = 'python and data science pythhhonn pyhon pytkon'   #pyt.on\n",
    "result = re.findall('pyt.on',string)\n",
    "print(result)   #python,"
   ]
  },
  {
   "cell_type": "code",
   "execution_count": 57,
   "id": "bf50921c",
   "metadata": {},
   "outputs": [
    {
     "name": "stdout",
     "output_type": "stream",
     "text": [
      "['python', 'pytjon', 'pytkon']\n"
     ]
    }
   ],
   "source": [
    "string = 'python and data science pythhhonn pytjon pytkon'   #pyt.on\n",
    "result = re.findall('pyt.on',string)\n",
    "print(result)   "
   ]
  },
  {
   "cell_type": "code",
   "execution_count": 58,
   "id": "25d07bde",
   "metadata": {},
   "outputs": [
    {
     "name": "stdout",
     "output_type": "stream",
     "text": [
      "['python', 'pytkon']\n"
     ]
    }
   ],
   "source": [
    "string = 'python and data science pythhhonn pyt\\njon pytkon'   #pyt.on\n",
    "result = re.findall('pyt.on',string)\n",
    "print(result)"
   ]
  },
  {
   "cell_type": "code",
   "execution_count": 60,
   "id": "e34f59b4",
   "metadata": {},
   "outputs": [
    {
     "name": "stdout",
     "output_type": "stream",
     "text": [
      "['994**82548']\n"
     ]
    }
   ],
   "source": [
    "numbers = \"\"\"994**82548\n",
    "             8888888800\n",
    "             9420202020\n",
    "             8888575700\"\"\"\n",
    "result = re.findall('99......48',numbers)\n",
    "print(result)"
   ]
  },
  {
   "cell_type": "code",
   "execution_count": 61,
   "id": "902bf172",
   "metadata": {},
   "outputs": [
    {
     "name": "stdout",
     "output_type": "stream",
     "text": [
      "['9942382548']\n"
     ]
    }
   ],
   "source": [
    "numbers = \"\"\"9942382548\n",
    "             8888888800\n",
    "             9420202020\n",
    "             8888575700\"\"\"\n",
    "result = re.findall('99......48',numbers)\n",
    "print(result)"
   ]
  },
  {
   "cell_type": "code",
   "execution_count": 68,
   "id": "c3b5b9af",
   "metadata": {},
   "outputs": [
    {
     "name": "stdout",
     "output_type": "stream",
     "text": [
      "['8888888800', '8888575700']\n"
     ]
    }
   ],
   "source": [
    "numbers = \"\"\"994**82548\n",
    "             8888888800\n",
    "             9420202020\n",
    "             8888575700\"\"\"\n",
    "result = re.findall('8888....00',numbers)  #.   >>any char except new line \n",
    "print(result)"
   ]
  },
  {
   "cell_type": "code",
   "execution_count": 64,
   "id": "d711c58b",
   "metadata": {},
   "outputs": [
    {
     "name": "stdout",
     "output_type": "stream",
     "text": [
      "['8888575700']\n"
     ]
    }
   ],
   "source": [
    "numbers = \"\"\"994**82548\n",
    "             8888888800\n",
    "             9420202020\n",
    "             8888575700\"\"\"\n",
    "result = re.findall('88885...00',numbers)\n",
    "print(result)"
   ]
  },
  {
   "cell_type": "code",
   "execution_count": 67,
   "id": "2f87db1d",
   "metadata": {},
   "outputs": [
    {
     "name": "stdout",
     "output_type": "stream",
     "text": [
      "['8888888800', '8888575700', '8888575700']\n"
     ]
    }
   ],
   "source": [
    "numbers = \"\"\"994**82548\n",
    "             8888888800 8888575700\\n\n",
    "             9420202020\n",
    "             8888575700\"\"\"\n",
    "result = re.findall('8888....00',numbers)\n",
    "print(result)"
   ]
  },
  {
   "cell_type": "code",
   "execution_count": 70,
   "id": "52d96f6e",
   "metadata": {},
   "outputs": [
    {
     "name": "stdout",
     "output_type": "stream",
     "text": [
      "['8888575700', '8888575700']\n"
     ]
    }
   ],
   "source": [
    "numbers = \"\"\"994**82548\n",
    "             8888888800 8888575700\\n\n",
    "             9420202020\n",
    "             8888575700\"\"\"\n",
    "result = re.findall('......5700',numbers)\n",
    "print(result)"
   ]
  },
  {
   "cell_type": "code",
   "execution_count": 71,
   "id": "765e8649",
   "metadata": {},
   "outputs": [
    {
     "name": "stdout",
     "output_type": "stream",
     "text": [
      "['9420202020']\n"
     ]
    }
   ],
   "source": [
    "numbers = \"\"\"994**82548\n",
    "             8888888800 8888575700\\n\n",
    "             9420202020\n",
    "             8888575700\"\"\"\n",
    "result = re.findall('9420......',numbers)\n",
    "print(result)"
   ]
  },
  {
   "cell_type": "code",
   "execution_count": 74,
   "id": "ae7f6065",
   "metadata": {},
   "outputs": [
    {
     "name": "stdout",
     "output_type": "stream",
     "text": [
      "[]\n"
     ]
    }
   ],
   "source": [
    "numbers = \"\"\"994**82548\n",
    "             8888888800 8888575700\\n\n",
    "             9\\n420202020\n",
    "             8888575700\"\"\"\n",
    "result = re.findall('9420......',numbers)\n",
    "print(result)"
   ]
  },
  {
   "cell_type": "code",
   "execution_count": 76,
   "id": "701ed1b8",
   "metadata": {},
   "outputs": [
    {
     "name": "stdout",
     "output_type": "stream",
     "text": [
      "['py']\n"
     ]
    }
   ],
   "source": [
    "string = 'python'\n",
    "result = re.findall('p.',string)\n",
    "print(result)"
   ]
  },
  {
   "cell_type": "code",
   "execution_count": 77,
   "id": "b24ec0d6",
   "metadata": {},
   "outputs": [
    {
     "name": "stdout",
     "output_type": "stream",
     "text": [
      "['p9']\n"
     ]
    }
   ],
   "source": [
    "string = 'p9thon'\n",
    "result = re.findall('p.',string)\n",
    "print(result)"
   ]
  },
  {
   "cell_type": "code",
   "execution_count": 78,
   "id": "9c9f105e",
   "metadata": {},
   "outputs": [
    {
     "name": "stdout",
     "output_type": "stream",
     "text": [
      "['python']\n"
     ]
    }
   ],
   "source": [
    "string = 'python'\n",
    "result = re.findall('p.+',string)    #one or more occurances of dot(.)>> any char\n",
    "print(result)"
   ]
  },
  {
   "cell_type": "markdown",
   "id": "1fe42824",
   "metadata": {},
   "source": [
    "# 4. ?"
   ]
  },
  {
   "cell_type": "code",
   "execution_count": null,
   "id": "c54fb6b9",
   "metadata": {},
   "outputs": [],
   "source": [
    "? >> it matches exactly zero or one occurance"
   ]
  },
  {
   "cell_type": "code",
   "execution_count": 82,
   "id": "009e142f",
   "metadata": {},
   "outputs": [
    {
     "name": "stdout",
     "output_type": "stream",
     "text": [
      "['python']\n"
     ]
    }
   ],
   "source": [
    "string = 'python and data science pythhhonn pytjon pytkon'   #pyt.on\n",
    "result = re.findall('python',string)\n",
    "print(result)   "
   ]
  },
  {
   "cell_type": "code",
   "execution_count": 89,
   "id": "dc256474",
   "metadata": {},
   "outputs": [
    {
     "name": "stdout",
     "output_type": "stream",
     "text": [
      "['pyt', 'pyt', 'pyt', 'pyt']\n"
     ]
    }
   ],
   "source": [
    "string = 'python and data science pythhhonn pytjon pytkon'   #pyt.on\n",
    "result = re.findall('pyt?',string)\n",
    "print(result)   "
   ]
  },
  {
   "cell_type": "code",
   "execution_count": 90,
   "id": "c6813ce4",
   "metadata": {},
   "outputs": [
    {
     "name": "stdout",
     "output_type": "stream",
     "text": [
      "['pythhhon', 'pyhon']\n"
     ]
    }
   ],
   "source": [
    "string = 'pytthon and data science pythhhonn pytjon pyhon'   #pyt.on\n",
    "result = re.findall('pyt?h+on',string)\n",
    "print(result)  "
   ]
  },
  {
   "cell_type": "code",
   "execution_count": 91,
   "id": "b7e6c198",
   "metadata": {},
   "outputs": [
    {
     "name": "stdout",
     "output_type": "stream",
     "text": [
      "['python', 'pythhhon', 'pyhon']\n"
     ]
    }
   ],
   "source": [
    "string = 'python and data science pythhhonn pytjon pyhon'   #pyt.on\n",
    "result = re.findall('pyt?h+on',string)\n",
    "print(result)  "
   ]
  },
  {
   "cell_type": "code",
   "execution_count": 93,
   "id": "d79e999c",
   "metadata": {},
   "outputs": [
    {
     "name": "stdout",
     "output_type": "stream",
     "text": [
      "['pyhon']\n"
     ]
    }
   ],
   "source": [
    "string = 'python and data science pythhhonn pytjon pyhon'   #pyt.on\n",
    "result = re.findall('p?yh+on',string)\n",
    "print(result)"
   ]
  },
  {
   "cell_type": "code",
   "execution_count": 102,
   "id": "edd28f99",
   "metadata": {},
   "outputs": [
    {
     "name": "stdout",
     "output_type": "stream",
     "text": [
      "['batwmen']\n"
     ]
    }
   ],
   "source": [
    "string = \"batman and batwmen batwwwwwoman\"\n",
    "result = re.findall('batw?o?men',string)\n",
    "print(result)"
   ]
  },
  {
   "cell_type": "code",
   "execution_count": 103,
   "id": "97118223",
   "metadata": {},
   "outputs": [
    {
     "name": "stdout",
     "output_type": "stream",
     "text": [
      "['batman', 'batwman', 'batwwwwwoman']\n"
     ]
    }
   ],
   "source": [
    "string = \"batman and batwman batwwwwwoman\"\n",
    "result = re.findall('batw*o*man',string)\n",
    "print(result)"
   ]
  },
  {
   "cell_type": "code",
   "execution_count": 104,
   "id": "e3cc6557",
   "metadata": {},
   "outputs": [
    {
     "name": "stdout",
     "output_type": "stream",
     "text": [
      "['batman', 'batwman']\n"
     ]
    }
   ],
   "source": [
    "string = \"batman and batwman batwwwwwoman\"\n",
    "result = re.findall('batw?o?man',string)\n",
    "print(result)"
   ]
  },
  {
   "cell_type": "code",
   "execution_count": 107,
   "id": "9c3d0b4c",
   "metadata": {},
   "outputs": [
    {
     "name": "stdout",
     "output_type": "stream",
     "text": [
      "['batwwwwwman']\n"
     ]
    }
   ],
   "source": [
    "string = \"batman and batwman batwwwwwman\"\n",
    "result = re.findall('batwwwwwo?man',string)\n",
    "print(result)"
   ]
  },
  {
   "cell_type": "code",
   "execution_count": 108,
   "id": "078b20f0",
   "metadata": {},
   "outputs": [
    {
     "name": "stdout",
     "output_type": "stream",
     "text": [
      "['batwwwwwoman']\n"
     ]
    }
   ],
   "source": [
    "string = \"batman and batwman batwwwwwoman\"\n",
    "result = re.findall('batwwwwwo?man',string)\n",
    "print(result)"
   ]
  },
  {
   "cell_type": "markdown",
   "id": "959db8bf",
   "metadata": {},
   "source": [
    "# 5. startswith(^)"
   ]
  },
  {
   "cell_type": "code",
   "execution_count": null,
   "id": "f239dfe6",
   "metadata": {},
   "outputs": [],
   "source": [
    "^ >> matches at begining / startswith"
   ]
  },
  {
   "cell_type": "code",
   "execution_count": 109,
   "id": "72b0ea05",
   "metadata": {},
   "outputs": [
    {
     "data": {
      "text/plain": [
       "True"
      ]
     },
     "execution_count": 109,
     "metadata": {},
     "output_type": "execute_result"
    }
   ],
   "source": [
    "string = \"batman and batwman batwwwwwoman\"\n",
    "string.startswith('batman')"
   ]
  },
  {
   "cell_type": "code",
   "execution_count": 110,
   "id": "41ba325f",
   "metadata": {},
   "outputs": [
    {
     "data": {
      "text/plain": [
       "False"
      ]
     },
     "execution_count": 110,
     "metadata": {},
     "output_type": "execute_result"
    }
   ],
   "source": [
    "string = \"Batman and batwman batwwwwwoman\"\n",
    "string.startswith('batman')"
   ]
  },
  {
   "cell_type": "code",
   "execution_count": 111,
   "id": "ad0cd84a",
   "metadata": {},
   "outputs": [
    {
     "name": "stdout",
     "output_type": "stream",
     "text": [
      "['b']\n"
     ]
    }
   ],
   "source": [
    "string = \"batman and batwman batwwwwwoman\"\n",
    "result = re.findall('^b',string)\n",
    "print(result)"
   ]
  },
  {
   "cell_type": "code",
   "execution_count": 112,
   "id": "d84591e4",
   "metadata": {},
   "outputs": [
    {
     "name": "stdout",
     "output_type": "stream",
     "text": [
      "[]\n"
     ]
    }
   ],
   "source": [
    "string = \"batman and batwman batwwwwwoman\"\n",
    "result = re.findall('^B',string)\n",
    "print(result)"
   ]
  },
  {
   "cell_type": "code",
   "execution_count": 113,
   "id": "01765677",
   "metadata": {},
   "outputs": [
    {
     "name": "stdout",
     "output_type": "stream",
     "text": [
      "['B']\n"
     ]
    }
   ],
   "source": [
    "string = \"Batman and batwman batwwwwwoman\"\n",
    "result = re.findall('^B',string)\n",
    "print(result)"
   ]
  },
  {
   "cell_type": "code",
   "execution_count": 114,
   "id": "883346a5",
   "metadata": {},
   "outputs": [
    {
     "name": "stdout",
     "output_type": "stream",
     "text": [
      "['b']\n"
     ]
    }
   ],
   "source": [
    "string = \"batman and batwman batwwwwwoman\"\n",
    "result = re.findall('^[bB]',string)\n",
    "print(result)"
   ]
  },
  {
   "cell_type": "code",
   "execution_count": 115,
   "id": "8b1421e8",
   "metadata": {},
   "outputs": [
    {
     "name": "stdout",
     "output_type": "stream",
     "text": [
      "['B']\n"
     ]
    }
   ],
   "source": [
    "string = \"Batman and batwman batwwwwwoman\"\n",
    "result = re.findall('^[bB]',string)\n",
    "print(result)"
   ]
  },
  {
   "cell_type": "code",
   "execution_count": 116,
   "id": "363ab6fe",
   "metadata": {},
   "outputs": [
    {
     "name": "stdout",
     "output_type": "stream",
     "text": [
      "['1']\n"
     ]
    }
   ],
   "source": [
    "string = \"1.Batman and batwman batwwwwwoman\"\n",
    "result = re.findall('^[0-9]',string)\n",
    "print(result)"
   ]
  },
  {
   "cell_type": "code",
   "execution_count": 117,
   "id": "100aa3fe",
   "metadata": {},
   "outputs": [
    {
     "name": "stdout",
     "output_type": "stream",
     "text": [
      "[]\n"
     ]
    }
   ],
   "source": [
    "string = \"Batman and batwman batwwwwwoman\"\n",
    "result = re.findall('^[0-9]',string)\n",
    "print(result)"
   ]
  },
  {
   "cell_type": "code",
   "execution_count": 118,
   "id": "efedfcd6",
   "metadata": {},
   "outputs": [
    {
     "name": "stdout",
     "output_type": "stream",
     "text": [
      "['1']\n"
     ]
    }
   ],
   "source": [
    "string = \"1.Batman and batwman batwwwwwoman\"\n",
    "result = re.findall('^[0-9a-zA-Z]',string)\n",
    "print(result)"
   ]
  },
  {
   "cell_type": "code",
   "execution_count": 119,
   "id": "f2fc6f92",
   "metadata": {},
   "outputs": [
    {
     "name": "stdout",
     "output_type": "stream",
     "text": [
      "['B']\n"
     ]
    }
   ],
   "source": [
    "string = \"Batman and batwman batwwwwwoman\"\n",
    "result = re.findall('^[0-9a-zA-Z]',string)\n",
    "print(result)"
   ]
  },
  {
   "cell_type": "markdown",
   "id": "e3d5118f",
   "metadata": {},
   "source": [
    "# 6. endswith($)"
   ]
  },
  {
   "cell_type": "code",
   "execution_count": null,
   "id": "cbad2bda",
   "metadata": {},
   "outputs": [],
   "source": [
    "$ >>>matches at the end /endswith"
   ]
  },
  {
   "cell_type": "code",
   "execution_count": 121,
   "id": "798ceca6",
   "metadata": {},
   "outputs": [
    {
     "data": {
      "text/plain": [
       "['n']"
      ]
     },
     "execution_count": 121,
     "metadata": {},
     "output_type": "execute_result"
    }
   ],
   "source": [
    "string = 'python'\n",
    "result = re.findall('n$',string)\n",
    "result"
   ]
  },
  {
   "cell_type": "code",
   "execution_count": 122,
   "id": "6dd4fdb5",
   "metadata": {},
   "outputs": [
    {
     "data": {
      "text/plain": [
       "[]"
      ]
     },
     "execution_count": 122,
     "metadata": {},
     "output_type": "execute_result"
    }
   ],
   "source": [
    "string = 'pythoN'\n",
    "result = re.findall('n$',string)\n",
    "result"
   ]
  },
  {
   "cell_type": "code",
   "execution_count": 123,
   "id": "6db4f8fc",
   "metadata": {},
   "outputs": [
    {
     "data": {
      "text/plain": [
       "[]"
      ]
     },
     "execution_count": 123,
     "metadata": {},
     "output_type": "execute_result"
    }
   ],
   "source": [
    "string = 'python'\n",
    "result = re.findall('r$',string)\n",
    "result"
   ]
  },
  {
   "cell_type": "code",
   "execution_count": 124,
   "id": "6b99979d",
   "metadata": {},
   "outputs": [
    {
     "data": {
      "text/plain": [
       "['python class']"
      ]
     },
     "execution_count": 124,
     "metadata": {},
     "output_type": "execute_result"
    }
   ],
   "source": [
    "string = 'python class'\n",
    "result = re.findall('^p.*s$',string)\n",
    "result"
   ]
  },
  {
   "cell_type": "code",
   "execution_count": 125,
   "id": "b228f71f",
   "metadata": {},
   "outputs": [
    {
     "data": {
      "text/plain": [
       "['python and data science']"
      ]
     },
     "execution_count": 125,
     "metadata": {},
     "output_type": "execute_result"
    }
   ],
   "source": [
    "string = 'python and data science'\n",
    "result = re.findall('^p.*e$',string)\n",
    "result"
   ]
  },
  {
   "cell_type": "code",
   "execution_count": 126,
   "id": "e75cb678",
   "metadata": {},
   "outputs": [
    {
     "data": {
      "text/plain": [
       "[]"
      ]
     },
     "execution_count": 126,
     "metadata": {},
     "output_type": "execute_result"
    }
   ],
   "source": [
    "string = 'python and data science'\n",
    "result = re.findall('^[ab].*e$',string)\n",
    "result"
   ]
  },
  {
   "cell_type": "code",
   "execution_count": 127,
   "id": "f322bd8e",
   "metadata": {},
   "outputs": [
    {
     "data": {
      "text/plain": [
       "['apython and data science']"
      ]
     },
     "execution_count": 127,
     "metadata": {},
     "output_type": "execute_result"
    }
   ],
   "source": [
    "string = 'apython and data science'\n",
    "result = re.findall('^[ab].*e$',string)\n",
    "result"
   ]
  },
  {
   "cell_type": "code",
   "execution_count": 128,
   "id": "c5dda263",
   "metadata": {},
   "outputs": [
    {
     "data": {
      "text/plain": [
       "['python and data science']"
      ]
     },
     "execution_count": 128,
     "metadata": {},
     "output_type": "execute_result"
    }
   ],
   "source": [
    "string = 'python and data science'\n",
    "result = re.findall('^[\\w].*e$',string)\n",
    "result"
   ]
  },
  {
   "cell_type": "code",
   "execution_count": null,
   "id": "f0c300eb",
   "metadata": {},
   "outputs": [],
   "source": []
  }
 ],
 "metadata": {
  "kernelspec": {
   "display_name": "Python 3",
   "language": "python",
   "name": "python3"
  },
  "language_info": {
   "codemirror_mode": {
    "name": "ipython",
    "version": 3
   },
   "file_extension": ".py",
   "mimetype": "text/x-python",
   "name": "python",
   "nbconvert_exporter": "python",
   "pygments_lexer": "ipython3",
   "version": "3.8.8"
  }
 },
 "nbformat": 4,
 "nbformat_minor": 5
}
