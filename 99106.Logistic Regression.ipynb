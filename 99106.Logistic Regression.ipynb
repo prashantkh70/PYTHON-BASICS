{
 "cells": [
  {
   "cell_type": "markdown",
   "id": "f2a5b580",
   "metadata": {},
   "source": [
    "# Logistic Regression"
   ]
  },
  {
   "cell_type": "code",
   "execution_count": null,
   "id": "b64236be",
   "metadata": {},
   "outputs": [],
   "source": [
    "It is Superwised Machine Learning Algorithm which is used to predict probabilities\n",
    "of target variables\n",
    "\n",
    "It is probabilistic ML Algorithm\n",
    "Logistic Regression is Binary classification\n",
    "\n",
    "target variable >>> Categorical\n",
    "\n",
    "1/0\n",
    "yes/no\n",
    "True/False\n",
    "Good / Bad\n",
    "High / Medium / Low\n"
   ]
  },
  {
   "cell_type": "markdown",
   "id": "56eb61cd",
   "metadata": {},
   "source": [
    "# Types of Logistic Regression"
   ]
  },
  {
   "cell_type": "code",
   "execution_count": null,
   "id": "0f58c230",
   "metadata": {},
   "outputs": [],
   "source": [
    "1. Binary Classification:\n",
    "    Only two values in Target Column (dependent variable)\n",
    "    Yes / No\n",
    "    True / False\n",
    "    0 / 1\n",
    "    Good / Bad\n",
    "\n",
    "\n",
    "2. MultiClass Classification:(One Vs Rest) >>> (multiclass = 'ovr')\n",
    "    Three or more values in Target Column\n",
    "    High / Medium / Low\n",
    "    1. Multinomial Classification:\n",
    "        No order in data\n",
    "        Doc1, Doc2, Doc3\n",
    "    \n",
    "    2. Ordinal Classification:\n",
    "        High / Medium / Low\n",
    "        Movie Ratings: 1>> 2>>3>>4>>5"
   ]
  },
  {
   "cell_type": "code",
   "execution_count": 1,
   "id": "9f25ce85",
   "metadata": {},
   "outputs": [],
   "source": [
    "import numpy as np"
   ]
  },
  {
   "cell_type": "code",
   "execution_count": 2,
   "id": "87eb64c7",
   "metadata": {},
   "outputs": [
    {
     "data": {
      "text/plain": [
       "1.0"
      ]
     },
     "execution_count": 2,
     "metadata": {},
     "output_type": "execute_result"
    }
   ],
   "source": [
    "1/(1+np.exp(-50))"
   ]
  },
  {
   "cell_type": "code",
   "execution_count": 3,
   "id": "d899608b",
   "metadata": {},
   "outputs": [
    {
     "data": {
      "text/plain": [
       "0.9999546021312976"
      ]
     },
     "execution_count": 3,
     "metadata": {},
     "output_type": "execute_result"
    }
   ],
   "source": [
    "1/(1+np.exp(-10))"
   ]
  },
  {
   "cell_type": "code",
   "execution_count": 4,
   "id": "35ffd509",
   "metadata": {},
   "outputs": [
    {
     "data": {
      "text/plain": [
       "0.9820137900379085"
      ]
     },
     "execution_count": 4,
     "metadata": {},
     "output_type": "execute_result"
    }
   ],
   "source": [
    "1/(1+np.exp(-4))"
   ]
  },
  {
   "cell_type": "markdown",
   "id": "59860c9d",
   "metadata": {},
   "source": [
    "# case 1"
   ]
  },
  {
   "cell_type": "code",
   "execution_count": null,
   "id": "3382d394",
   "metadata": {},
   "outputs": [],
   "source": [
    "Ya= 0                 #Incorrectly Classified\n",
    "P = .92\n",
    "LL =-log (1-0.92)\n",
    "\n",
    "LL = 2.52"
   ]
  },
  {
   "cell_type": "code",
   "execution_count": 7,
   "id": "aa63da09",
   "metadata": {},
   "outputs": [
    {
     "data": {
      "text/plain": [
       "2.5258536521214063"
      ]
     },
     "execution_count": 7,
     "metadata": {},
     "output_type": "execute_result"
    }
   ],
   "source": [
    "-np.log(0.07999)"
   ]
  },
  {
   "cell_type": "markdown",
   "id": "0fe0d107",
   "metadata": {},
   "source": [
    "# case 2"
   ]
  },
  {
   "cell_type": "code",
   "execution_count": null,
   "id": "dfd82a33",
   "metadata": {},
   "outputs": [],
   "source": [
    "Ya= 0                    #correctly Classified\n",
    "P = 0.25\n",
    "LL =-log (1-0.25)\n",
    "\n",
    "LL = 0.28"
   ]
  },
  {
   "cell_type": "code",
   "execution_count": 8,
   "id": "9c768402",
   "metadata": {},
   "outputs": [
    {
     "data": {
      "text/plain": [
       "0.2876820724517809"
      ]
     },
     "execution_count": 8,
     "metadata": {},
     "output_type": "execute_result"
    }
   ],
   "source": [
    "-np.log(0.75)"
   ]
  },
  {
   "cell_type": "markdown",
   "id": "de7fceb4",
   "metadata": {},
   "source": [
    "# case 3"
   ]
  },
  {
   "cell_type": "code",
   "execution_count": null,
   "id": "f9efceb6",
   "metadata": {},
   "outputs": [],
   "source": [
    "Ya= 1                    #correctly Classified\n",
    "P = 0.77\n",
    "LL =-log (0.77)\n",
    "\n",
    "LL = 0.26"
   ]
  },
  {
   "cell_type": "code",
   "execution_count": 9,
   "id": "64a37e6e",
   "metadata": {},
   "outputs": [
    {
     "data": {
      "text/plain": [
       "0.2613647641344075"
      ]
     },
     "execution_count": 9,
     "metadata": {},
     "output_type": "execute_result"
    }
   ],
   "source": [
    "-np.log(0.77)"
   ]
  },
  {
   "cell_type": "markdown",
   "id": "1b9edb55",
   "metadata": {},
   "source": [
    "# case 4"
   ]
  },
  {
   "cell_type": "code",
   "execution_count": null,
   "id": "15f42a5d",
   "metadata": {},
   "outputs": [],
   "source": [
    "Ya= 1                   #Incorrectly Classified\n",
    "P = 0.17\n",
    "LL =-log (0.17)\n",
    "\n",
    "LL = 1.77"
   ]
  },
  {
   "cell_type": "code",
   "execution_count": 10,
   "id": "a4d1e37b",
   "metadata": {},
   "outputs": [
    {
     "data": {
      "text/plain": [
       "1.7719568419318752"
      ]
     },
     "execution_count": 10,
     "metadata": {},
     "output_type": "execute_result"
    }
   ],
   "source": [
    "-np.log(0.17)"
   ]
  },
  {
   "cell_type": "code",
   "execution_count": 12,
   "id": "3b73dade",
   "metadata": {},
   "outputs": [],
   "source": [
    "case1 = 2.52\n",
    "case2 = 0.28\n",
    "case3 = 0.26\n",
    "case4 = 1.77"
   ]
  },
  {
   "cell_type": "code",
   "execution_count": 13,
   "id": "41c21470",
   "metadata": {},
   "outputs": [
    {
     "data": {
      "text/plain": [
       "1.2075"
      ]
     },
     "execution_count": 13,
     "metadata": {},
     "output_type": "execute_result"
    }
   ],
   "source": [
    "LogLoss=(case1+case2+case3+case4)/4\n",
    "LogLoss"
   ]
  },
  {
   "cell_type": "markdown",
   "id": "780b7e19",
   "metadata": {},
   "source": [
    "# Evaluation"
   ]
  },
  {
   "cell_type": "code",
   "execution_count": null,
   "id": "1478b238",
   "metadata": {},
   "outputs": [],
   "source": [
    "confusion matrix"
   ]
  }
 ],
 "metadata": {
  "kernelspec": {
   "display_name": "Python 3",
   "language": "python",
   "name": "python3"
  },
  "language_info": {
   "codemirror_mode": {
    "name": "ipython",
    "version": 3
   },
   "file_extension": ".py",
   "mimetype": "text/x-python",
   "name": "python",
   "nbconvert_exporter": "python",
   "pygments_lexer": "ipython3",
   "version": "3.8.8"
  }
 },
 "nbformat": 4,
 "nbformat_minor": 5
}
