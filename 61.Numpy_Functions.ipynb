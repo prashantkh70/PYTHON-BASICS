{
 "cells": [
  {
   "cell_type": "markdown",
   "id": "49ce2762",
   "metadata": {},
   "source": [
    "## Numpy Functions"
   ]
  },
  {
   "cell_type": "code",
   "execution_count": 1,
   "id": "524bb219",
   "metadata": {},
   "outputs": [],
   "source": [
    "import numpy as np"
   ]
  },
  {
   "cell_type": "markdown",
   "id": "f6b7cc56",
   "metadata": {},
   "source": [
    "# 17. append"
   ]
  },
  {
   "cell_type": "code",
   "execution_count": null,
   "id": "7d05a7bb",
   "metadata": {},
   "outputs": [],
   "source": [
    "np.append(array_name,value,axis)\n",
    "values >> nD array\n",
    "axis = 0 >>> rows\n",
    "axis = 1 >>> columns"
   ]
  },
  {
   "cell_type": "code",
   "execution_count": 2,
   "id": "ee2658c6",
   "metadata": {},
   "outputs": [
    {
     "data": {
      "text/plain": [
       "array([15, 15, 11, 15, 17, 15, 15, 19, 18, 11])"
      ]
     },
     "execution_count": 2,
     "metadata": {},
     "output_type": "execute_result"
    }
   ],
   "source": [
    "array1 = np.random.randint(10,20,size=10)\n",
    "array1"
   ]
  },
  {
   "cell_type": "code",
   "execution_count": 3,
   "id": "49d3e823",
   "metadata": {},
   "outputs": [
    {
     "data": {
      "text/plain": [
       "array([  15,   15,   11,   15,   17,   15,   15,   19,   18,   11, 1000])"
      ]
     },
     "execution_count": 3,
     "metadata": {},
     "output_type": "execute_result"
    }
   ],
   "source": [
    "array2=np.append(array1,1000)\n",
    "array2"
   ]
  },
  {
   "cell_type": "code",
   "execution_count": 7,
   "id": "f9f252ca",
   "metadata": {},
   "outputs": [
    {
     "name": "stdout",
     "output_type": "stream",
     "text": [
      "[1 8 6 7 6]\n",
      "[12 17 19 17]\n"
     ]
    }
   ],
   "source": [
    "array1=np.random.randint(1,10,size=5)\n",
    "array2=np.random.randint(11,20,size=4)\n",
    "print(array1)\n",
    "print(array2)"
   ]
  },
  {
   "cell_type": "code",
   "execution_count": 9,
   "id": "1f7ad49c",
   "metadata": {},
   "outputs": [
    {
     "name": "stdout",
     "output_type": "stream",
     "text": [
      "[1 8 6 7 6]\n",
      "******************************\n",
      "[12 17 19 17]\n",
      "******************************\n",
      "[ 1  8  6  7  6 12 17 19 17]\n"
     ]
    }
   ],
   "source": [
    "new_arr=np.append(array1,array2)\n",
    "print(array1)\n",
    "print('*'*30)\n",
    "print(array2)\n",
    "print('*'*30)\n",
    "print(new_arr)"
   ]
  },
  {
   "cell_type": "code",
   "execution_count": 10,
   "id": "03e11521",
   "metadata": {},
   "outputs": [
    {
     "name": "stdout",
     "output_type": "stream",
     "text": [
      "[[7 5]\n",
      " [9 8]]\n",
      "[[18 18]\n",
      " [19 11]]\n"
     ]
    }
   ],
   "source": [
    "array1=np.random.randint(1,10,size=(2,2))\n",
    "array2=np.random.randint(11,20,size=(2,2))\n",
    "print(array1)\n",
    "print(array2)"
   ]
  },
  {
   "cell_type": "code",
   "execution_count": 11,
   "id": "97bafa3a",
   "metadata": {},
   "outputs": [
    {
     "name": "stdout",
     "output_type": "stream",
     "text": [
      "[[7 5]\n",
      " [9 8]]\n",
      "******************************\n",
      "[[18 18]\n",
      " [19 11]]\n",
      "******************************\n",
      "[[ 7  5]\n",
      " [ 9  8]\n",
      " [18 18]\n",
      " [19 11]]\n"
     ]
    }
   ],
   "source": [
    "new_arr=np.append(array1,array2,axis=0)\n",
    "print(array1)\n",
    "print('*'*30)\n",
    "print(array2)\n",
    "print('*'*30)\n",
    "print(new_arr)"
   ]
  },
  {
   "cell_type": "code",
   "execution_count": 12,
   "id": "e22243cd",
   "metadata": {},
   "outputs": [
    {
     "name": "stdout",
     "output_type": "stream",
     "text": [
      "[[7 5]\n",
      " [9 8]]\n",
      "******************************\n",
      "[[18 18]\n",
      " [19 11]]\n",
      "******************************\n",
      "[[ 7  5 18 18]\n",
      " [ 9  8 19 11]]\n"
     ]
    }
   ],
   "source": [
    "new_arr=np.append(array1,array2,axis=1)\n",
    "print(array1)\n",
    "print('*'*30)\n",
    "print(array2)\n",
    "print('*'*30)\n",
    "print(new_arr)"
   ]
  },
  {
   "cell_type": "markdown",
   "id": "66309c1a",
   "metadata": {},
   "source": [
    "### 18. concatenate"
   ]
  },
  {
   "cell_type": "code",
   "execution_count": null,
   "id": "dab878a4",
   "metadata": {},
   "outputs": [],
   "source": [
    "np.concatenate(list_of_arrays,axis)\n",
    "np.concatenate([array1,array2,....,arrayN],axis)"
   ]
  },
  {
   "cell_type": "code",
   "execution_count": 15,
   "id": "fcd95bf1",
   "metadata": {},
   "outputs": [
    {
     "name": "stdout",
     "output_type": "stream",
     "text": [
      "Array1\n",
      " [[2 4]\n",
      " [7 4]]\n",
      "Array2\n",
      " [[16 18]\n",
      " [18 11]]\n",
      "Array3\n",
      " [[22 26]\n",
      " [24 29]]\n"
     ]
    }
   ],
   "source": [
    "array1=np.random.randint(1,10,size=(2,2))\n",
    "array2=np.random.randint(11,20,size=(2,2))\n",
    "array3=np.random.randint(21,30,size=(2,2))\n",
    "print(\"Array1\\n\",array1)\n",
    "print(\"Array2\\n\",array2)\n",
    "print(\"Array3\\n\",array3)"
   ]
  },
  {
   "cell_type": "code",
   "execution_count": 16,
   "id": "5e0abb75",
   "metadata": {},
   "outputs": [
    {
     "data": {
      "text/plain": [
       "array([[ 2,  4],\n",
       "       [ 7,  4],\n",
       "       [16, 18],\n",
       "       [18, 11]])"
      ]
     },
     "execution_count": 16,
     "metadata": {},
     "output_type": "execute_result"
    }
   ],
   "source": [
    "new_array=np.concatenate([array1,array2],axis=0)\n",
    "new_array"
   ]
  },
  {
   "cell_type": "code",
   "execution_count": 17,
   "id": "8d758306",
   "metadata": {},
   "outputs": [
    {
     "data": {
      "text/plain": [
       "array([[ 2,  4, 16, 18],\n",
       "       [ 7,  4, 18, 11]])"
      ]
     },
     "execution_count": 17,
     "metadata": {},
     "output_type": "execute_result"
    }
   ],
   "source": [
    "new_array=np.concatenate([array1,array2],axis=1)\n",
    "new_array"
   ]
  },
  {
   "cell_type": "code",
   "execution_count": 18,
   "id": "f3bc2e16",
   "metadata": {},
   "outputs": [
    {
     "data": {
      "text/plain": [
       "array([[ 2,  4],\n",
       "       [ 7,  4],\n",
       "       [16, 18],\n",
       "       [18, 11],\n",
       "       [22, 26],\n",
       "       [24, 29]])"
      ]
     },
     "execution_count": 18,
     "metadata": {},
     "output_type": "execute_result"
    }
   ],
   "source": [
    "new_array=np.concatenate([array1,array2,array3],axis=0)\n",
    "new_array"
   ]
  },
  {
   "cell_type": "code",
   "execution_count": 19,
   "id": "9eeb0cf3",
   "metadata": {},
   "outputs": [
    {
     "data": {
      "text/plain": [
       "array([[ 2,  4, 16, 18, 22, 26],\n",
       "       [ 7,  4, 18, 11, 24, 29]])"
      ]
     },
     "execution_count": 19,
     "metadata": {},
     "output_type": "execute_result"
    }
   ],
   "source": [
    "new_array=np.concatenate([array1,array2,array3],axis=1)\n",
    "new_array"
   ]
  },
  {
   "cell_type": "markdown",
   "id": "9d4ddb68",
   "metadata": {},
   "source": [
    "### 19. sort"
   ]
  },
  {
   "cell_type": "code",
   "execution_count": 20,
   "id": "dbcf5f20",
   "metadata": {},
   "outputs": [
    {
     "data": {
      "text/plain": [
       "array([30, 33, 31, 46, 43, 42, 69, 65, 31, 65])"
      ]
     },
     "execution_count": 20,
     "metadata": {},
     "output_type": "execute_result"
    }
   ],
   "source": [
    "array1=np.random.randint(30,70,size=10)\n",
    "array1"
   ]
  },
  {
   "cell_type": "code",
   "execution_count": 21,
   "id": "c95bae49",
   "metadata": {},
   "outputs": [
    {
     "data": {
      "text/plain": [
       "array([30, 31, 31, 33, 42, 43, 46, 65, 65, 69])"
      ]
     },
     "execution_count": 21,
     "metadata": {},
     "output_type": "execute_result"
    }
   ],
   "source": [
    "sorted_array=np.sort(array1)\n",
    "sorted_array"
   ]
  },
  {
   "cell_type": "code",
   "execution_count": 22,
   "id": "5d577557",
   "metadata": {},
   "outputs": [
    {
     "data": {
      "text/plain": [
       "array([[11, 19],\n",
       "       [15, 17]])"
      ]
     },
     "execution_count": 22,
     "metadata": {},
     "output_type": "execute_result"
    }
   ],
   "source": [
    "array2=np.random.randint(11,20,size=(2,2))\n",
    "sort_array=np.sort(array2)\n",
    "sort_array"
   ]
  },
  {
   "cell_type": "code",
   "execution_count": 24,
   "id": "6d2c9396",
   "metadata": {},
   "outputs": [
    {
     "name": "stdout",
     "output_type": "stream",
     "text": [
      "Array1 is: \n",
      " [[38 64 67 63]\n",
      " [50 33 65 43]\n",
      " [53 37 35 68]]\n"
     ]
    },
    {
     "data": {
      "text/plain": [
       "array([[38, 63, 64, 67],\n",
       "       [33, 43, 50, 65],\n",
       "       [35, 37, 53, 68]])"
      ]
     },
     "execution_count": 24,
     "metadata": {},
     "output_type": "execute_result"
    }
   ],
   "source": [
    "array1=np.random.randint(30,70,size=(3,4))\n",
    "print(\"Array1 is: \\n\",array1)\n",
    "sorted_array=np.sort(array1)\n",
    "sorted_array"
   ]
  },
  {
   "cell_type": "markdown",
   "id": "92533250",
   "metadata": {},
   "source": [
    "### descending\n",
    "-np.sort(-array)"
   ]
  },
  {
   "cell_type": "code",
   "execution_count": 25,
   "id": "fe50f938",
   "metadata": {},
   "outputs": [
    {
     "data": {
      "text/plain": [
       "array([[13, 11],\n",
       "       [17, 11]])"
      ]
     },
     "execution_count": 25,
     "metadata": {},
     "output_type": "execute_result"
    }
   ],
   "source": [
    "array2=np.random.randint(11,20,size=(2,2))\n",
    "sort_array=-np.sort(-array2)\n",
    "sort_array"
   ]
  },
  {
   "cell_type": "code",
   "execution_count": 26,
   "id": "3f715bdf",
   "metadata": {},
   "outputs": [
    {
     "name": "stdout",
     "output_type": "stream",
     "text": [
      "Array1 is: \n",
      " [[50 45 42 67]\n",
      " [30 30 53 63]\n",
      " [58 39 58 36]]\n"
     ]
    },
    {
     "data": {
      "text/plain": [
       "array([[67, 50, 45, 42],\n",
       "       [63, 53, 30, 30],\n",
       "       [58, 58, 39, 36]])"
      ]
     },
     "execution_count": 26,
     "metadata": {},
     "output_type": "execute_result"
    }
   ],
   "source": [
    "array1=np.random.randint(30,70,size=(3,4))\n",
    "print(\"Array1 is: \\n\",array1)\n",
    "sorted_array=-np.sort(-array1)\n",
    "sorted_array"
   ]
  },
  {
   "cell_type": "markdown",
   "id": "d441b57e",
   "metadata": {},
   "source": [
    "### matrix addition"
   ]
  },
  {
   "cell_type": "code",
   "execution_count": null,
   "id": "ae5eb9a2",
   "metadata": {},
   "outputs": [],
   "source": [
    "mat1=np.array([[2,5],[6,7]])\n",
    "mat2=np.array([[5,4],[9,7]])\n",
    "\n",
    "7 9 \n",
    "15 14"
   ]
  },
  {
   "cell_type": "code",
   "execution_count": 27,
   "id": "758e7ba4",
   "metadata": {},
   "outputs": [
    {
     "data": {
      "text/plain": [
       "array([[ 7,  9],\n",
       "       [15, 14]])"
      ]
     },
     "execution_count": 27,
     "metadata": {},
     "output_type": "execute_result"
    }
   ],
   "source": [
    "mat1=np.array([[2,5],[6,7]])\n",
    "mat2=np.array([[5,4],[9,7]])\n",
    "\n",
    "mat1+mat2"
   ]
  },
  {
   "cell_type": "markdown",
   "id": "744a48b3",
   "metadata": {},
   "source": [
    "## np.add"
   ]
  },
  {
   "cell_type": "code",
   "execution_count": 28,
   "id": "f680e242",
   "metadata": {},
   "outputs": [
    {
     "name": "stdout",
     "output_type": "stream",
     "text": [
      "mat1 is \n",
      " [[2 5]\n",
      " [6 7]]\n",
      "mat2 is \n",
      " [[5 4]\n",
      " [9 7]]\n"
     ]
    },
    {
     "data": {
      "text/plain": [
       "array([[ 7,  9],\n",
       "       [15, 14]])"
      ]
     },
     "execution_count": 28,
     "metadata": {},
     "output_type": "execute_result"
    }
   ],
   "source": [
    "mat1=np.array([[2,5],[6,7]])\n",
    "mat2=np.array([[5,4],[9,7]])\n",
    "print('mat1 is \\n',mat1)\n",
    "print('mat2 is \\n',mat2)\n",
    "np.add(mat1,mat2)"
   ]
  },
  {
   "cell_type": "markdown",
   "id": "5526746a",
   "metadata": {},
   "source": [
    "### matrix multiplication"
   ]
  },
  {
   "cell_type": "code",
   "execution_count": null,
   "id": "d99dab93",
   "metadata": {},
   "outputs": [],
   "source": [
    "mat1=np.array([[2,5],[6,7]])\n",
    "mat2=np.array([[5,4],[9,7]])\n",
    "\n",
    "\n",
    "2*5   5*4             10  20\n",
    "\n",
    "6*9   7*7             54  49"
   ]
  },
  {
   "cell_type": "code",
   "execution_count": 29,
   "id": "30371c2a",
   "metadata": {},
   "outputs": [
    {
     "name": "stdout",
     "output_type": "stream",
     "text": [
      "mat1 is \n",
      " [[2 5]\n",
      " [6 7]]\n",
      "mat2 is \n",
      " [[5 4]\n",
      " [9 7]]\n"
     ]
    },
    {
     "data": {
      "text/plain": [
       "array([[10, 20],\n",
       "       [54, 49]])"
      ]
     },
     "execution_count": 29,
     "metadata": {},
     "output_type": "execute_result"
    }
   ],
   "source": [
    "mat1=np.array([[2,5],[6,7]])\n",
    "mat2=np.array([[5,4],[9,7]])\n",
    "print('mat1 is \\n',mat1)\n",
    "print('mat2 is \\n',mat2)\n",
    "\n",
    "mat1*mat2"
   ]
  },
  {
   "cell_type": "markdown",
   "id": "f75e886e",
   "metadata": {},
   "source": [
    "### np.multiply"
   ]
  },
  {
   "cell_type": "code",
   "execution_count": 30,
   "id": "3451767a",
   "metadata": {},
   "outputs": [
    {
     "name": "stdout",
     "output_type": "stream",
     "text": [
      "mat1 is \n",
      " [[2 5]\n",
      " [6 7]]\n",
      "mat2 is \n",
      " [[5 4]\n",
      " [9 7]]\n"
     ]
    },
    {
     "data": {
      "text/plain": [
       "array([[10, 20],\n",
       "       [54, 49]])"
      ]
     },
     "execution_count": 30,
     "metadata": {},
     "output_type": "execute_result"
    }
   ],
   "source": [
    "mat1=np.array([[2,5],[6,7]])\n",
    "mat2=np.array([[5,4],[9,7]])\n",
    "print('mat1 is \\n',mat1)\n",
    "print('mat2 is \\n',mat2)\n",
    "\n",
    "np.multiply(mat1,mat2)"
   ]
  },
  {
   "cell_type": "markdown",
   "id": "038a67b6",
   "metadata": {},
   "source": [
    "### matrix dot product"
   ]
  },
  {
   "cell_type": "code",
   "execution_count": 31,
   "id": "dfdc5d0a",
   "metadata": {},
   "outputs": [
    {
     "name": "stdout",
     "output_type": "stream",
     "text": [
      "mat1 is \n",
      " [[2 5]\n",
      " [6 7]]\n",
      "mat2 is \n",
      " [[5 4]\n",
      " [9 7]]\n"
     ]
    }
   ],
   "source": [
    "mat1=np.array([[2,5],[6,7]])\n",
    "mat2=np.array([[5,4],[9,7]])\n",
    "print('mat1 is \\n',mat1)\n",
    "print('mat2 is \\n',mat2)\n",
    "\n",
    "mat3  0,0    0,1\n",
    "      1,0    1,1"
   ]
  },
  {
   "cell_type": "code",
   "execution_count": null,
   "id": "87c4ad3d",
   "metadata": {},
   "outputs": [],
   "source": [
    "mat3:\n",
    "    0,0 = 2*5 + 5*9 =55\n",
    "    0,1 = 2*4 + 5*7 = 43\n",
    "    1,0 = 6*5 + 7*9 = 93\n",
    "    1,1 = 6*4 +7*7  = 73\n",
    "    \n",
    "    \n",
    "mat3   \n",
    "55 43\n",
    "93 73"
   ]
  },
  {
   "cell_type": "code",
   "execution_count": 32,
   "id": "fc84e87c",
   "metadata": {},
   "outputs": [
    {
     "name": "stdout",
     "output_type": "stream",
     "text": [
      "mat1 is \n",
      " [[2 5]\n",
      " [6 7]]\n",
      "mat2 is \n",
      " [[5 4]\n",
      " [9 7]]\n"
     ]
    },
    {
     "data": {
      "text/plain": [
       "array([[55, 43],\n",
       "       [93, 73]])"
      ]
     },
     "execution_count": 32,
     "metadata": {},
     "output_type": "execute_result"
    }
   ],
   "source": [
    "mat1=np.array([[2,5],[6,7]])\n",
    "mat2=np.array([[5,4],[9,7]])\n",
    "print('mat1 is \\n',mat1)\n",
    "print('mat2 is \\n',mat2)\n",
    "\n",
    "np.dot(mat1,mat2)"
   ]
  },
  {
   "cell_type": "markdown",
   "id": "62c4a896",
   "metadata": {},
   "source": [
    "### Mathematical operations"
   ]
  },
  {
   "cell_type": "code",
   "execution_count": 33,
   "id": "b16f27a2",
   "metadata": {},
   "outputs": [
    {
     "data": {
      "text/plain": [
       "[1, 4, 5, 2, 5, 1, 4, 5, 2, 5]"
      ]
     },
     "execution_count": 33,
     "metadata": {},
     "output_type": "execute_result"
    }
   ],
   "source": [
    "list1= [1,4,5,2,5]\n",
    "list1*2"
   ]
  },
  {
   "cell_type": "code",
   "execution_count": 35,
   "id": "e6874e71",
   "metadata": {},
   "outputs": [
    {
     "name": "stdout",
     "output_type": "stream",
     "text": [
      "Array1 is \n",
      " [3 4 5 6 7 8 9]\n"
     ]
    },
    {
     "data": {
      "text/plain": [
       "array([13, 14, 15, 16, 17, 18, 19])"
      ]
     },
     "execution_count": 35,
     "metadata": {},
     "output_type": "execute_result"
    }
   ],
   "source": [
    "array1 = np.array([3,4,5,6,7,8,9])\n",
    "print('Array1 is \\n',array1)\n",
    "array1 + 10"
   ]
  },
  {
   "cell_type": "code",
   "execution_count": 36,
   "id": "4693ab8b",
   "metadata": {},
   "outputs": [
    {
     "name": "stdout",
     "output_type": "stream",
     "text": [
      "Array1 is \n",
      " [3 4 5 6 7 8 9]\n"
     ]
    },
    {
     "data": {
      "text/plain": [
       "array([ 6,  8, 10, 12, 14, 16, 18])"
      ]
     },
     "execution_count": 36,
     "metadata": {},
     "output_type": "execute_result"
    }
   ],
   "source": [
    "array1 = np.array([3,4,5,6,7,8,9])\n",
    "print('Array1 is \\n',array1)\n",
    "array1 * 2"
   ]
  },
  {
   "cell_type": "code",
   "execution_count": 38,
   "id": "b3ec871f",
   "metadata": {},
   "outputs": [
    {
     "name": "stdout",
     "output_type": "stream",
     "text": [
      "Array1 is \n",
      " [3 4 5 6 7 8 9]\n"
     ]
    },
    {
     "data": {
      "text/plain": [
       "array([-7, -6, -5, -4, -3, -2, -1])"
      ]
     },
     "execution_count": 38,
     "metadata": {},
     "output_type": "execute_result"
    }
   ],
   "source": [
    "array1 = np.array([3,4,5,6,7,8,9])\n",
    "print('Array1 is \\n',array1)\n",
    "array1 -10"
   ]
  },
  {
   "cell_type": "code",
   "execution_count": 39,
   "id": "94887a03",
   "metadata": {},
   "outputs": [
    {
     "name": "stdout",
     "output_type": "stream",
     "text": [
      "Array1 is \n",
      " [3 4 5 6 7 8 9]\n"
     ]
    },
    {
     "data": {
      "text/plain": [
       "array([0, 1, 2, 3, 4, 5, 6])"
      ]
     },
     "execution_count": 39,
     "metadata": {},
     "output_type": "execute_result"
    }
   ],
   "source": [
    "array1 = np.array([3,4,5,6,7,8,9])\n",
    "print('Array1 is \\n',array1)\n",
    "array1 -3"
   ]
  },
  {
   "cell_type": "code",
   "execution_count": 40,
   "id": "c84b740c",
   "metadata": {},
   "outputs": [
    {
     "name": "stdout",
     "output_type": "stream",
     "text": [
      "Array1 is \n",
      " [3 4 5 6 7 8 9]\n"
     ]
    },
    {
     "data": {
      "text/plain": [
       "array([1.5, 2. , 2.5, 3. , 3.5, 4. , 4.5])"
      ]
     },
     "execution_count": 40,
     "metadata": {},
     "output_type": "execute_result"
    }
   ],
   "source": [
    "array1 = np.array([3,4,5,6,7,8,9])\n",
    "print('Array1 is \\n',array1)\n",
    "array1 / 2"
   ]
  },
  {
   "cell_type": "code",
   "execution_count": 41,
   "id": "0e27fce9",
   "metadata": {},
   "outputs": [
    {
     "name": "stdout",
     "output_type": "stream",
     "text": [
      "Array1 is \n",
      " [3 4 5 6 7 8 9]\n"
     ]
    },
    {
     "data": {
      "text/plain": [
       "array([1, 2, 2, 3, 3, 4, 4], dtype=int32)"
      ]
     },
     "execution_count": 41,
     "metadata": {},
     "output_type": "execute_result"
    }
   ],
   "source": [
    "array1 = np.array([3,4,5,6,7,8,9])\n",
    "print('Array1 is \\n',array1)\n",
    "array1 // 2"
   ]
  },
  {
   "cell_type": "code",
   "execution_count": 42,
   "id": "b71d18a1",
   "metadata": {},
   "outputs": [
    {
     "name": "stdout",
     "output_type": "stream",
     "text": [
      "Array1 is \n",
      " [3 4 5 6 7 8 9]\n"
     ]
    },
    {
     "data": {
      "text/plain": [
       "array([ 9, 16, 25, 36, 49, 64, 81])"
      ]
     },
     "execution_count": 42,
     "metadata": {},
     "output_type": "execute_result"
    }
   ],
   "source": [
    "array1 = np.array([3,4,5,6,7,8,9])\n",
    "print('Array1 is \\n',array1)\n",
    "array1 ** 2"
   ]
  },
  {
   "cell_type": "code",
   "execution_count": 43,
   "id": "fbe8b137",
   "metadata": {},
   "outputs": [
    {
     "name": "stdout",
     "output_type": "stream",
     "text": [
      "Array1 is \n",
      " [3 4 5 6 7 8 9]\n"
     ]
    },
    {
     "data": {
      "text/plain": [
       "array([1, 0, 1, 0, 1, 0, 1], dtype=int32)"
      ]
     },
     "execution_count": 43,
     "metadata": {},
     "output_type": "execute_result"
    }
   ],
   "source": [
    "array1 = np.array([3,4,5,6,7,8,9])\n",
    "print('Array1 is \\n',array1)\n",
    "array1 % 2"
   ]
  },
  {
   "cell_type": "code",
   "execution_count": 44,
   "id": "eb3f1db0",
   "metadata": {},
   "outputs": [
    {
     "name": "stdout",
     "output_type": "stream",
     "text": [
      "Array1 is \n",
      " [3 4 5 6 7 8 9]\n"
     ]
    },
    {
     "data": {
      "text/plain": [
       "array([  81,  256,  625, 1296, 2401, 4096, 6561], dtype=int32)"
      ]
     },
     "execution_count": 44,
     "metadata": {},
     "output_type": "execute_result"
    }
   ],
   "source": [
    "array1 = np.array([3,4,5,6,7,8,9])\n",
    "print('Array1 is \\n',array1)\n",
    "array1 **4"
   ]
  },
  {
   "cell_type": "markdown",
   "id": "aee9f27e",
   "metadata": {},
   "source": [
    "# np.floor"
   ]
  },
  {
   "cell_type": "code",
   "execution_count": 47,
   "id": "824fef4d",
   "metadata": {},
   "outputs": [
    {
     "name": "stdout",
     "output_type": "stream",
     "text": [
      "[[ 3.56  8.9   6.78]\n",
      " [10.35  8.79  5.6 ]]\n"
     ]
    },
    {
     "data": {
      "text/plain": [
       "array([[ 3.,  8.,  6.],\n",
       "       [10.,  8.,  5.]])"
      ]
     },
     "execution_count": 47,
     "metadata": {},
     "output_type": "execute_result"
    }
   ],
   "source": [
    "array1 = np.array([[3.56,8.9,6.78],[10.35,8.79,5.6]])\n",
    "print(array1)\n",
    "array2=np.floor(array1)\n",
    "array2"
   ]
  },
  {
   "cell_type": "code",
   "execution_count": null,
   "id": "5eca3c54",
   "metadata": {},
   "outputs": [],
   "source": [
    "2  2.1  2.2 .......2.9 3    floor =2   ceiling =3"
   ]
  },
  {
   "cell_type": "code",
   "execution_count": 48,
   "id": "8cdab0cf",
   "metadata": {},
   "outputs": [
    {
     "data": {
      "text/plain": [
       "4.0"
      ]
     },
     "execution_count": 48,
     "metadata": {},
     "output_type": "execute_result"
    }
   ],
   "source": [
    "np.floor(4.9)"
   ]
  },
  {
   "cell_type": "code",
   "execution_count": 49,
   "id": "1a79ad04",
   "metadata": {},
   "outputs": [
    {
     "data": {
      "text/plain": [
       "4.0"
      ]
     },
     "execution_count": 49,
     "metadata": {},
     "output_type": "execute_result"
    }
   ],
   "source": [
    "np.floor(4.1)"
   ]
  },
  {
   "cell_type": "markdown",
   "id": "81e61e43",
   "metadata": {},
   "source": [
    "### np.ceil"
   ]
  },
  {
   "cell_type": "code",
   "execution_count": 50,
   "id": "11518230",
   "metadata": {},
   "outputs": [
    {
     "data": {
      "text/plain": [
       "5.0"
      ]
     },
     "execution_count": 50,
     "metadata": {},
     "output_type": "execute_result"
    }
   ],
   "source": [
    "np.ceil(4.9)"
   ]
  },
  {
   "cell_type": "code",
   "execution_count": 51,
   "id": "de3cefd1",
   "metadata": {},
   "outputs": [
    {
     "data": {
      "text/plain": [
       "5.0"
      ]
     },
     "execution_count": 51,
     "metadata": {},
     "output_type": "execute_result"
    }
   ],
   "source": [
    "np.ceil(4.1)"
   ]
  },
  {
   "cell_type": "code",
   "execution_count": 52,
   "id": "425f9c0e",
   "metadata": {},
   "outputs": [
    {
     "name": "stdout",
     "output_type": "stream",
     "text": [
      "[[ 3.56  8.9   6.78]\n",
      " [10.35  8.79  5.6 ]]\n"
     ]
    },
    {
     "data": {
      "text/plain": [
       "array([[ 4.,  9.,  7.],\n",
       "       [11.,  9.,  6.]])"
      ]
     },
     "execution_count": 52,
     "metadata": {},
     "output_type": "execute_result"
    }
   ],
   "source": [
    "array1 = np.array([[3.56,8.9,6.78],[10.35,8.79,5.6]])\n",
    "print(array1)\n",
    "array2=np.ceil(array1)\n",
    "array2"
   ]
  },
  {
   "cell_type": "markdown",
   "id": "2e2f27bd",
   "metadata": {},
   "source": [
    "## np.around"
   ]
  },
  {
   "cell_type": "code",
   "execution_count": 54,
   "id": "3def5839",
   "metadata": {},
   "outputs": [
    {
     "name": "stdout",
     "output_type": "stream",
     "text": [
      "[[ 3.564258  8.9256    6.784587]\n",
      " [10.323655  8.72259   5.255856]]\n"
     ]
    }
   ],
   "source": [
    "array1 = np.array([[3.564258,8.9256,6.784587],[10.323655,8.72259,5.255856]])\n",
    "print(array1)"
   ]
  },
  {
   "cell_type": "code",
   "execution_count": 55,
   "id": "7b61f4ae",
   "metadata": {},
   "outputs": [
    {
     "data": {
      "text/plain": [
       "3.14"
      ]
     },
     "execution_count": 55,
     "metadata": {},
     "output_type": "execute_result"
    }
   ],
   "source": [
    "round(3.142567869,2)"
   ]
  },
  {
   "cell_type": "code",
   "execution_count": 56,
   "id": "cb0a2af5",
   "metadata": {},
   "outputs": [
    {
     "data": {
      "text/plain": [
       "3.14"
      ]
     },
     "execution_count": 56,
     "metadata": {},
     "output_type": "execute_result"
    }
   ],
   "source": [
    "np.around(3.142567869,2)"
   ]
  },
  {
   "cell_type": "code",
   "execution_count": 57,
   "id": "0e08f127",
   "metadata": {},
   "outputs": [
    {
     "name": "stdout",
     "output_type": "stream",
     "text": [
      "[[ 3.564258  8.9256    6.784587]\n",
      " [10.323655  8.72259   5.255856]]\n"
     ]
    },
    {
     "data": {
      "text/plain": [
       "array([[ 3.56,  8.93,  6.78],\n",
       "       [10.32,  8.72,  5.26]])"
      ]
     },
     "execution_count": 57,
     "metadata": {},
     "output_type": "execute_result"
    }
   ],
   "source": [
    "array1 = np.array([[3.564258,8.9256,6.784587],[10.323655,8.72259,5.255856]])\n",
    "print(array1)\n",
    "np.around(array1,2)"
   ]
  },
  {
   "cell_type": "code",
   "execution_count": 58,
   "id": "ee5458e8",
   "metadata": {},
   "outputs": [
    {
     "name": "stdout",
     "output_type": "stream",
     "text": [
      "[[ 3.564258  8.9256    6.784587]\n",
      " [10.323655  8.72259   5.255856]]\n"
     ]
    },
    {
     "data": {
      "text/plain": [
       "array([[ 3.564,  8.926,  6.785],\n",
       "       [10.324,  8.723,  5.256]])"
      ]
     },
     "execution_count": 58,
     "metadata": {},
     "output_type": "execute_result"
    }
   ],
   "source": [
    "array1 = np.array([[3.564258,8.9256,6.784587],[10.323655,8.72259,5.255856]])\n",
    "print(array1)\n",
    "np.around(array1,3)"
   ]
  },
  {
   "cell_type": "markdown",
   "id": "0401149f",
   "metadata": {},
   "source": [
    "## np.sqrt"
   ]
  },
  {
   "cell_type": "code",
   "execution_count": 59,
   "id": "87a025b5",
   "metadata": {},
   "outputs": [
    {
     "data": {
      "text/plain": [
       "array([ 5.,  6.,  7., 15., 12., 24., 28., 27.])"
      ]
     },
     "execution_count": 59,
     "metadata": {},
     "output_type": "execute_result"
    }
   ],
   "source": [
    "array1=np.array([25,36,49,225,144,576,784,729])\n",
    "np.sqrt(array1)"
   ]
  },
  {
   "cell_type": "code",
   "execution_count": 61,
   "id": "7591dff7",
   "metadata": {},
   "outputs": [
    {
     "name": "stdout",
     "output_type": "stream",
     "text": [
      "[60 60 25 56 51 27 25 26 25 39 25 36 63 52 37 51 42 52 27 42 41 39 28 49\n",
      " 52 31 62 33 45 57 39 64 28 41 37 25 36 53 46 39 32 28 61 63 27 62 32 47\n",
      " 37 62]\n",
      "******************************\n",
      "******************************\n"
     ]
    },
    {
     "data": {
      "text/plain": [
       "array([7.74596669, 7.74596669, 5.        , 7.48331477, 7.14142843,\n",
       "       5.19615242, 5.        , 5.09901951, 5.        , 6.244998  ,\n",
       "       5.        , 6.        , 7.93725393, 7.21110255, 6.08276253,\n",
       "       7.14142843, 6.4807407 , 7.21110255, 5.19615242, 6.4807407 ,\n",
       "       6.40312424, 6.244998  , 5.29150262, 7.        , 7.21110255,\n",
       "       5.56776436, 7.87400787, 5.74456265, 6.70820393, 7.54983444,\n",
       "       6.244998  , 8.        , 5.29150262, 6.40312424, 6.08276253,\n",
       "       5.        , 6.        , 7.28010989, 6.78232998, 6.244998  ,\n",
       "       5.65685425, 5.29150262, 7.81024968, 7.93725393, 5.19615242,\n",
       "       7.87400787, 5.65685425, 6.8556546 , 6.08276253, 7.87400787])"
      ]
     },
     "execution_count": 61,
     "metadata": {},
     "output_type": "execute_result"
    }
   ],
   "source": [
    "age = np.random.randint(25,65,size =50)\n",
    "print(age)\n",
    "print('*'*30)\n",
    "print('*'*30)\n",
    "np.sqrt(age)"
   ]
  },
  {
   "cell_type": "code",
   "execution_count": 62,
   "id": "77758679",
   "metadata": {},
   "outputs": [
    {
     "data": {
      "text/plain": [
       "14.0"
      ]
     },
     "execution_count": 62,
     "metadata": {},
     "output_type": "execute_result"
    }
   ],
   "source": [
    "np.sqrt(196)"
   ]
  },
  {
   "cell_type": "markdown",
   "id": "f84e208e",
   "metadata": {},
   "source": [
    "## np.cbrt"
   ]
  },
  {
   "cell_type": "code",
   "execution_count": 63,
   "id": "4320e081",
   "metadata": {},
   "outputs": [
    {
     "data": {
      "text/plain": [
       "8.0"
      ]
     },
     "execution_count": 63,
     "metadata": {},
     "output_type": "execute_result"
    }
   ],
   "source": [
    "np.cbrt(512)"
   ]
  },
  {
   "cell_type": "code",
   "execution_count": 65,
   "id": "5452c277",
   "metadata": {},
   "outputs": [
    {
     "name": "stdout",
     "output_type": "stream",
     "text": [
      "[[2414 2163 1923 2783]\n",
      " [1684 1910 2695 1655]\n",
      " [1369 2532 2109 2909]]\n",
      "******************************\n",
      "******************************\n"
     ]
    },
    {
     "data": {
      "text/plain": [
       "array([[13.41464205, 12.93258991, 12.43540006, 14.06601476],\n",
       "       [11.89727122, 12.40731445, 13.91616565, 11.82858149],\n",
       "       [11.10370247, 13.62975033, 12.82405957, 14.27516841]])"
      ]
     },
     "execution_count": 65,
     "metadata": {},
     "output_type": "execute_result"
    }
   ],
   "source": [
    "age = np.random.randint(1000,3000,size =(3,4))\n",
    "print(age)\n",
    "print('*'*30)\n",
    "print('*'*30)\n",
    "np.cbrt(age)"
   ]
  },
  {
   "cell_type": "markdown",
   "id": "e4f0495c",
   "metadata": {},
   "source": [
    "## np.where"
   ]
  },
  {
   "cell_type": "code",
   "execution_count": 66,
   "id": "8e2245f2",
   "metadata": {},
   "outputs": [
    {
     "data": {
      "text/plain": [
       "3"
      ]
     },
     "execution_count": 66,
     "metadata": {},
     "output_type": "execute_result"
    }
   ],
   "source": [
    "list1 = [4,2,3,5,1,6,8,5,4,5]\n",
    "list1.index(5)"
   ]
  },
  {
   "cell_type": "code",
   "execution_count": 67,
   "id": "f80341c7",
   "metadata": {},
   "outputs": [
    {
     "data": {
      "text/plain": [
       "[3, 7, 9]"
      ]
     },
     "execution_count": 67,
     "metadata": {},
     "output_type": "execute_result"
    }
   ],
   "source": [
    "list1 = [4,2,3,5,1,6,8,5,4,5]\n",
    "result = [i for i,val in enumerate(list1) if val == 5]\n",
    "result"
   ]
  },
  {
   "cell_type": "code",
   "execution_count": 71,
   "id": "0d3fd5f1",
   "metadata": {},
   "outputs": [
    {
     "data": {
      "text/plain": [
       "array([3, 7, 9], dtype=int64)"
      ]
     },
     "execution_count": 71,
     "metadata": {},
     "output_type": "execute_result"
    }
   ],
   "source": [
    "array1=np.array([4,2,3,5,1,6,8,5,4,5])\n",
    "np.where(array1==5)[0]"
   ]
  },
  {
   "cell_type": "code",
   "execution_count": 74,
   "id": "a5fdea3f",
   "metadata": {},
   "outputs": [
    {
     "data": {
      "text/plain": [
       "array([11, 12], dtype=int64)"
      ]
     },
     "execution_count": 74,
     "metadata": {},
     "output_type": "execute_result"
    }
   ],
   "source": [
    "array1=np.array([4,2,3,5,1,6,7,5,3,4,9,8,8,5,4,5])\n",
    "np.where(array1==8)[0]"
   ]
  },
  {
   "cell_type": "code",
   "execution_count": null,
   "id": "2e18e503",
   "metadata": {},
   "outputs": [],
   "source": []
  }
 ],
 "metadata": {
  "kernelspec": {
   "display_name": "Python 3",
   "language": "python",
   "name": "python3"
  },
  "language_info": {
   "codemirror_mode": {
    "name": "ipython",
    "version": 3
   },
   "file_extension": ".py",
   "mimetype": "text/x-python",
   "name": "python",
   "nbconvert_exporter": "python",
   "pygments_lexer": "ipython3",
   "version": "3.8.8"
  }
 },
 "nbformat": 4,
 "nbformat_minor": 5
}
