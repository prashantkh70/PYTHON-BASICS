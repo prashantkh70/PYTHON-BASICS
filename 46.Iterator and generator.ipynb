{
 "cells": [
  {
   "cell_type": "markdown",
   "id": "05625fcf",
   "metadata": {},
   "source": [
    "# Iterator"
   ]
  },
  {
   "cell_type": "code",
   "execution_count": null,
   "id": "13bda99a",
   "metadata": {},
   "outputs": [],
   "source": [
    "An iterator is an object which implements the iterator protocol which consists\n",
    "of __iter__ and __next__ methods\n",
    "\n",
    "Iterators >> for loops\n",
    "\n",
    "Iterables  >> string,list,tuple,set,dict,range\n",
    "\n",
    "we can create iterator objects from iterables\n",
    "\n",
    "iterator is an object with state so that it remembers where it is during execution\n",
    "\n"
   ]
  },
  {
   "cell_type": "code",
   "execution_count": 1,
   "id": "fab9eda0",
   "metadata": {},
   "outputs": [
    {
     "name": "stdout",
     "output_type": "stream",
     "text": [
      "4\n",
      "5\n",
      "6\n",
      "1\n",
      "23\n"
     ]
    }
   ],
   "source": [
    "list1 = [4,5,6,1,23]\n",
    "for i in list1:\n",
    "    print(i)"
   ]
  },
  {
   "cell_type": "code",
   "execution_count": null,
   "id": "d5fe37c8",
   "metadata": {},
   "outputs": [],
   "source": [
    "__methodname__  >>> reserved built in method,special method, magic method, wonder method\n",
    "\n",
    "__methodname   >> private method\n",
    "\n",
    "methodname     >> public method\n",
    "\n",
    "_              >> temprory use \n",
    "\n",
    "var1,var2,var3\n",
    "\n",
    "var1,_,_ \n"
   ]
  },
  {
   "cell_type": "code",
   "execution_count": 2,
   "id": "cf7924de",
   "metadata": {},
   "outputs": [
    {
     "name": "stdout",
     "output_type": "stream",
     "text": [
      "Hello\n",
      "Hello\n",
      "Hello\n",
      "Hello\n",
      "Hello\n"
     ]
    }
   ],
   "source": [
    "list1 = [4,5,6,1,23]\n",
    "for i in list1:\n",
    "    print(\"Hello\")"
   ]
  },
  {
   "cell_type": "code",
   "execution_count": 3,
   "id": "a904e174",
   "metadata": {},
   "outputs": [
    {
     "name": "stdout",
     "output_type": "stream",
     "text": [
      "Hello\n",
      "Hello\n",
      "Hello\n",
      "Hello\n",
      "Hello\n"
     ]
    }
   ],
   "source": [
    "list1 = [4,5,6,1,23]\n",
    "for _ in list1:\n",
    "    print(\"Hello\")"
   ]
  },
  {
   "cell_type": "code",
   "execution_count": 4,
   "id": "caccb096",
   "metadata": {},
   "outputs": [
    {
     "name": "stdout",
     "output_type": "stream",
     "text": [
      "this is my function\n"
     ]
    },
    {
     "data": {
      "text/plain": [
       "(100, 200.5, 'Iterator_py')"
      ]
     },
     "execution_count": 4,
     "metadata": {},
     "output_type": "execute_result"
    }
   ],
   "source": [
    "def my_fun():\n",
    "    print('this is my function')\n",
    "    \n",
    "    return 100,200.5,\"Iterator_py\"\n",
    "\n",
    "my_fun()"
   ]
  },
  {
   "cell_type": "code",
   "execution_count": 5,
   "id": "279de269",
   "metadata": {},
   "outputs": [
    {
     "name": "stdout",
     "output_type": "stream",
     "text": [
      "this is my function\n",
      "100\n"
     ]
    }
   ],
   "source": [
    "def my_fun():\n",
    "    print('this is my function')\n",
    "    \n",
    "    return 100,200.5,\"Iterator_py\"\n",
    "\n",
    "var1,_,_=my_fun()\n",
    "print(var1)"
   ]
  },
  {
   "cell_type": "code",
   "execution_count": 11,
   "id": "709cd89e",
   "metadata": {},
   "outputs": [
    {
     "name": "stdout",
     "output_type": "stream",
     "text": [
      "this is my function\n",
      "100\n",
      "200.5\n"
     ]
    }
   ],
   "source": [
    "def my_fun():\n",
    "    print('this is my function')\n",
    "    \n",
    "    return 100,200.5,\"Iterator_py\"\n",
    "\n",
    "var1,var2,_=my_fun()\n",
    "print(var1)\n",
    "\n",
    "print(var2)"
   ]
  },
  {
   "cell_type": "code",
   "execution_count": 12,
   "id": "b4590ad1",
   "metadata": {},
   "outputs": [
    {
     "name": "stdout",
     "output_type": "stream",
     "text": [
      "['__add__', '__class__', '__contains__', '__delattr__', '__delitem__', '__dir__', '__doc__', '__eq__', '__format__', '__ge__', '__getattribute__', '__getitem__', '__gt__', '__hash__', '__iadd__', '__imul__', '__init__', '__init_subclass__', '__iter__', '__le__', '__len__', '__lt__', '__mul__', '__ne__', '__new__', '__reduce__', '__reduce_ex__', '__repr__', '__reversed__', '__rmul__', '__setattr__', '__setitem__', '__sizeof__', '__str__', '__subclasshook__', 'append', 'clear', 'copy', 'count', 'extend', 'index', 'insert', 'pop', 'remove', 'reverse', 'sort']\n"
     ]
    }
   ],
   "source": [
    "list1 = [2,5,6,7]\n",
    "\n",
    "print(dir(list1))"
   ]
  },
  {
   "cell_type": "code",
   "execution_count": 13,
   "id": "f572d184",
   "metadata": {},
   "outputs": [
    {
     "ename": "TypeError",
     "evalue": "'list' object is not an iterator",
     "output_type": "error",
     "traceback": [
      "\u001b[1;31m---------------------------------------------------------------------------\u001b[0m",
      "\u001b[1;31mTypeError\u001b[0m                                 Traceback (most recent call last)",
      "\u001b[1;32m<ipython-input-13-8d6322cf8a04>\u001b[0m in \u001b[0;36m<module>\u001b[1;34m\u001b[0m\n\u001b[0;32m      1\u001b[0m \u001b[0mlist2\u001b[0m \u001b[1;33m=\u001b[0m \u001b[1;33m[\u001b[0m\u001b[1;36m2\u001b[0m\u001b[1;33m,\u001b[0m\u001b[1;36m5\u001b[0m\u001b[1;33m,\u001b[0m\u001b[1;36m6\u001b[0m\u001b[1;33m,\u001b[0m\u001b[1;36m7\u001b[0m\u001b[1;33m]\u001b[0m\u001b[1;33m\u001b[0m\u001b[1;33m\u001b[0m\u001b[0m\n\u001b[0;32m      2\u001b[0m \u001b[1;33m\u001b[0m\u001b[0m\n\u001b[1;32m----> 3\u001b[1;33m \u001b[0mprint\u001b[0m\u001b[1;33m(\u001b[0m\u001b[0mnext\u001b[0m\u001b[1;33m(\u001b[0m\u001b[0mlist2\u001b[0m\u001b[1;33m)\u001b[0m\u001b[1;33m)\u001b[0m\u001b[1;33m\u001b[0m\u001b[1;33m\u001b[0m\u001b[0m\n\u001b[0m",
      "\u001b[1;31mTypeError\u001b[0m: 'list' object is not an iterator"
     ]
    }
   ],
   "source": [
    "list2 = [2,5,6,7]\n",
    "\n",
    "print(next(list2))"
   ]
  },
  {
   "cell_type": "code",
   "execution_count": 14,
   "id": "5cc2e3be",
   "metadata": {},
   "outputs": [
    {
     "name": "stdout",
     "output_type": "stream",
     "text": [
      "['__class__', '__delattr__', '__dir__', '__doc__', '__eq__', '__format__', '__ge__', '__getattribute__', '__gt__', '__hash__', '__init__', '__init_subclass__', '__iter__', '__le__', '__length_hint__', '__lt__', '__ne__', '__new__', '__next__', '__reduce__', '__reduce_ex__', '__repr__', '__setattr__', '__setstate__', '__sizeof__', '__str__', '__subclasshook__']\n"
     ]
    }
   ],
   "source": [
    "list2 = [2,5,6,7]\n",
    "\n",
    "iter_obj = list2.__iter__()\n",
    "\n",
    "\n",
    "print(dir(iter_obj))\n",
    "\n"
   ]
  },
  {
   "cell_type": "code",
   "execution_count": 21,
   "id": "5d1cace4",
   "metadata": {},
   "outputs": [
    {
     "name": "stdout",
     "output_type": "stream",
     "text": [
      "4\n",
      "5\n",
      "6\n",
      "7\n",
      "8\n",
      "9\n",
      "5\n",
      "2\n"
     ]
    },
    {
     "ename": "StopIteration",
     "evalue": "",
     "output_type": "error",
     "traceback": [
      "\u001b[1;31m---------------------------------------------------------------------------\u001b[0m",
      "\u001b[1;31mStopIteration\u001b[0m                             Traceback (most recent call last)",
      "\u001b[1;32m<ipython-input-21-ff1b9ee59fa9>\u001b[0m in \u001b[0;36m<module>\u001b[1;34m\u001b[0m\n\u001b[0;32m     11\u001b[0m \u001b[0mprint\u001b[0m\u001b[1;33m(\u001b[0m\u001b[0mnext\u001b[0m\u001b[1;33m(\u001b[0m\u001b[0miter_obj\u001b[0m\u001b[1;33m)\u001b[0m\u001b[1;33m)\u001b[0m\u001b[1;33m\u001b[0m\u001b[1;33m\u001b[0m\u001b[0m\n\u001b[0;32m     12\u001b[0m \u001b[0mprint\u001b[0m\u001b[1;33m(\u001b[0m\u001b[0mnext\u001b[0m\u001b[1;33m(\u001b[0m\u001b[0miter_obj\u001b[0m\u001b[1;33m)\u001b[0m\u001b[1;33m)\u001b[0m\u001b[1;33m\u001b[0m\u001b[1;33m\u001b[0m\u001b[0m\n\u001b[1;32m---> 13\u001b[1;33m \u001b[0mprint\u001b[0m\u001b[1;33m(\u001b[0m\u001b[0mnext\u001b[0m\u001b[1;33m(\u001b[0m\u001b[0miter_obj\u001b[0m\u001b[1;33m)\u001b[0m\u001b[1;33m)\u001b[0m\u001b[1;33m\u001b[0m\u001b[1;33m\u001b[0m\u001b[0m\n\u001b[0m",
      "\u001b[1;31mStopIteration\u001b[0m: "
     ]
    }
   ],
   "source": [
    "list3 = [4,5,6,7,8,9,5,2]\n",
    "\n",
    "iter_obj = iter(list3)\n",
    "\n",
    "print(next(iter_obj))\n",
    "print(next(iter_obj))\n",
    "print(next(iter_obj))\n",
    "print(next(iter_obj))\n",
    "print(next(iter_obj))\n",
    "print(next(iter_obj))\n",
    "print(next(iter_obj))\n",
    "print(next(iter_obj))\n",
    "print(next(iter_obj))"
   ]
  },
  {
   "cell_type": "code",
   "execution_count": 26,
   "id": "96cc022e",
   "metadata": {},
   "outputs": [
    {
     "name": "stdout",
     "output_type": "stream",
     "text": [
      "4\n",
      "5\n",
      "6\n",
      "7\n",
      "8\n",
      "9\n",
      "5\n",
      "2\n",
      "end\n",
      "end\n",
      "end\n",
      "end\n"
     ]
    }
   ],
   "source": [
    "list3 = [4,5,6,7,8,9,5,2]\n",
    "\n",
    "iter_obj = iter(list3)\n",
    "\n",
    "print(next(iter_obj,\"end\"))\n",
    "print(next(iter_obj,\"end\"))\n",
    "print(next(iter_obj,\"end\"))\n",
    "print(next(iter_obj,\"end\"))\n",
    "print(next(iter_obj,\"end\"))\n",
    "print(next(iter_obj,\"end\"))\n",
    "print(next(iter_obj,\"end\"))\n",
    "print(next(iter_obj,\"end\"))\n",
    "print(next(iter_obj,\"end\"))\n",
    "print(next(iter_obj,\"end\"))\n",
    "print(next(iter_obj,\"end\"))\n",
    "print(next(iter_obj,\"end\"))"
   ]
  },
  {
   "cell_type": "code",
   "execution_count": 27,
   "id": "a894a275",
   "metadata": {},
   "outputs": [
    {
     "name": "stdout",
     "output_type": "stream",
     "text": [
      "4\n",
      "python\n",
      "python\n",
      "python\n",
      "python\n",
      "python\n",
      "5\n"
     ]
    }
   ],
   "source": [
    "list3 = [4,5,6,7]\n",
    "iter_obj = iter(list3)\n",
    "var = next(iter_obj)\n",
    "print(var)                   #4\n",
    "for i in range(5):         #5 times\n",
    "    print(\"python\")\n",
    "print(next(iter_obj))      # 5"
   ]
  },
  {
   "cell_type": "code",
   "execution_count": null,
   "id": "4d95a80b",
   "metadata": {},
   "outputs": [],
   "source": [
    "class ClassName():\n",
    "    def __init__(self):\n",
    "        pass\n",
    "    \n",
    "    def __iter__(self):\n",
    "        pass\n",
    "    \n",
    "    def __next__(self):\n",
    "        pass"
   ]
  },
  {
   "cell_type": "code",
   "execution_count": 30,
   "id": "5a48c716",
   "metadata": {},
   "outputs": [
    {
     "name": "stdout",
     "output_type": "stream",
     "text": [
      "['__add__', '__class__', '__contains__', '__delattr__', '__delitem__', '__dir__', '__doc__', '__eq__', '__format__', '__ge__', '__getattribute__', '__getitem__', '__gt__', '__hash__', '__iadd__', '__imul__', '__init__', '__init_subclass__', '__iter__', '__le__', '__len__', '__lt__', '__mul__', '__ne__', '__new__', '__reduce__', '__reduce_ex__', '__repr__', '__reversed__', '__rmul__', '__setattr__', '__setitem__', '__sizeof__', '__str__', '__subclasshook__', 'append', 'clear', 'copy', 'count', 'extend', 'index', 'insert', 'pop', 'remove', 'reverse', 'sort']\n"
     ]
    }
   ],
   "source": [
    "list1 = [5,4,6,7,8,9]\n",
    "print(dir(list1))"
   ]
  },
  {
   "cell_type": "code",
   "execution_count": 29,
   "id": "2a426347",
   "metadata": {},
   "outputs": [
    {
     "name": "stdout",
     "output_type": "stream",
     "text": [
      "6\n"
     ]
    }
   ],
   "source": [
    "print(len(list1))"
   ]
  },
  {
   "cell_type": "code",
   "execution_count": 31,
   "id": "25d9feb7",
   "metadata": {},
   "outputs": [
    {
     "data": {
      "text/plain": [
       "6"
      ]
     },
     "execution_count": 31,
     "metadata": {},
     "output_type": "execute_result"
    }
   ],
   "source": [
    "list1.__len__()"
   ]
  },
  {
   "cell_type": "code",
   "execution_count": 32,
   "id": "295294de",
   "metadata": {},
   "outputs": [
    {
     "data": {
      "text/plain": [
       "[5, 4, 6, 7, 8, 9, 100, 200]"
      ]
     },
     "execution_count": 32,
     "metadata": {},
     "output_type": "execute_result"
    }
   ],
   "source": [
    "list1.extend([100,200])\n",
    "list1"
   ]
  },
  {
   "cell_type": "code",
   "execution_count": 33,
   "id": "da29db82",
   "metadata": {},
   "outputs": [
    {
     "data": {
      "text/plain": [
       "[5, 4, 6, 7, 8, 9, 100, 200, 111, 222]"
      ]
     },
     "execution_count": 33,
     "metadata": {},
     "output_type": "execute_result"
    }
   ],
   "source": [
    "var = list1.__add__([111,222])\n",
    "var"
   ]
  },
  {
   "cell_type": "code",
   "execution_count": 35,
   "id": "a18d1651",
   "metadata": {},
   "outputs": [
    {
     "data": {
      "text/plain": [
       "[]"
      ]
     },
     "execution_count": 35,
     "metadata": {},
     "output_type": "execute_result"
    }
   ],
   "source": [
    "list1.__init__()\n",
    "list1"
   ]
  },
  {
   "cell_type": "code",
   "execution_count": 36,
   "id": "d62da3b8",
   "metadata": {},
   "outputs": [
    {
     "name": "stdout",
     "output_type": "stream",
     "text": [
      "1\n",
      "2\n",
      "4\n",
      "8\n",
      "16\n"
     ]
    }
   ],
   "source": [
    "for i in range(5):\n",
    "    print(2**i)"
   ]
  },
  {
   "cell_type": "code",
   "execution_count": 42,
   "id": "ace20e4a",
   "metadata": {},
   "outputs": [
    {
     "name": "stdout",
     "output_type": "stream",
     "text": [
      "1\n",
      "2\n",
      "4\n",
      "8\n",
      "16\n",
      "32\n",
      "None\n"
     ]
    }
   ],
   "source": [
    "class ExpoTwo():\n",
    "    def __init__(self,max1):\n",
    "        self.max1 = max1\n",
    "        \n",
    "    def __iter__(self):\n",
    "        self.index = 0\n",
    "        return self\n",
    "    def __next__(self):\n",
    "        \n",
    "        if self.index <= self.max1:\n",
    "            result = 2**self.index\n",
    "            self.index+=1\n",
    "            return result\n",
    "\n",
    "Obj = ExpoTwo(5)\n",
    "\n",
    "iterator = iter(Obj)\n",
    "\n",
    "print(next(iterator))\n",
    "print(next(iterator))\n",
    "print(next(iterator))\n",
    "print(next(iterator))\n",
    "print(next(iterator))\n",
    "print(next(iterator))\n",
    "print(next(iterator))"
   ]
  },
  {
   "cell_type": "code",
   "execution_count": 43,
   "id": "12a649de",
   "metadata": {},
   "outputs": [
    {
     "name": "stdout",
     "output_type": "stream",
     "text": [
      "1\n",
      "2\n",
      "4\n",
      "8\n",
      "16\n",
      "32\n"
     ]
    },
    {
     "ename": "StopIteration",
     "evalue": "",
     "output_type": "error",
     "traceback": [
      "\u001b[1;31m---------------------------------------------------------------------------\u001b[0m",
      "\u001b[1;31mStopIteration\u001b[0m                             Traceback (most recent call last)",
      "\u001b[1;32m<ipython-input-43-a2c7a6b2524d>\u001b[0m in \u001b[0;36m<module>\u001b[1;34m\u001b[0m\n\u001b[0;32m     27\u001b[0m \u001b[0mprint\u001b[0m\u001b[1;33m(\u001b[0m\u001b[0mnext\u001b[0m\u001b[1;33m(\u001b[0m\u001b[0miterator\u001b[0m\u001b[1;33m)\u001b[0m\u001b[1;33m)\u001b[0m\u001b[1;33m\u001b[0m\u001b[1;33m\u001b[0m\u001b[0m\n\u001b[0;32m     28\u001b[0m \u001b[0mprint\u001b[0m\u001b[1;33m(\u001b[0m\u001b[0mnext\u001b[0m\u001b[1;33m(\u001b[0m\u001b[0miterator\u001b[0m\u001b[1;33m)\u001b[0m\u001b[1;33m)\u001b[0m\u001b[1;33m\u001b[0m\u001b[1;33m\u001b[0m\u001b[0m\n\u001b[1;32m---> 29\u001b[1;33m \u001b[0mprint\u001b[0m\u001b[1;33m(\u001b[0m\u001b[0mnext\u001b[0m\u001b[1;33m(\u001b[0m\u001b[0miterator\u001b[0m\u001b[1;33m)\u001b[0m\u001b[1;33m)\u001b[0m\u001b[1;33m\u001b[0m\u001b[1;33m\u001b[0m\u001b[0m\n\u001b[0m",
      "\u001b[1;32m<ipython-input-43-a2c7a6b2524d>\u001b[0m in \u001b[0;36m__next__\u001b[1;34m(self)\u001b[0m\n\u001b[0;32m     13\u001b[0m             \u001b[1;32mreturn\u001b[0m \u001b[0mresult\u001b[0m\u001b[1;33m\u001b[0m\u001b[1;33m\u001b[0m\u001b[0m\n\u001b[0;32m     14\u001b[0m         \u001b[1;32melse\u001b[0m\u001b[1;33m:\u001b[0m\u001b[1;33m\u001b[0m\u001b[1;33m\u001b[0m\u001b[0m\n\u001b[1;32m---> 15\u001b[1;33m             \u001b[1;32mraise\u001b[0m \u001b[0mStopIteration\u001b[0m\u001b[1;33m\u001b[0m\u001b[1;33m\u001b[0m\u001b[0m\n\u001b[0m\u001b[0;32m     16\u001b[0m \u001b[1;33m\u001b[0m\u001b[0m\n\u001b[0;32m     17\u001b[0m \u001b[1;33m\u001b[0m\u001b[0m\n",
      "\u001b[1;31mStopIteration\u001b[0m: "
     ]
    }
   ],
   "source": [
    "class ExpoTwo():\n",
    "    def __init__(self,max1):\n",
    "        self.max1 = max1\n",
    "        \n",
    "    def __iter__(self):\n",
    "        self.index = 0\n",
    "        return self\n",
    "    def __next__(self):\n",
    "        \n",
    "        if self.index <= self.max1:\n",
    "            result = 2**self.index\n",
    "            self.index+=1\n",
    "            return result\n",
    "        else:\n",
    "            raise StopIteration\n",
    "        \n",
    "    \n",
    "\n",
    "Obj = ExpoTwo(5)\n",
    "\n",
    "iterator = iter(Obj)\n",
    "\n",
    "print(next(iterator))\n",
    "print(next(iterator))\n",
    "print(next(iterator))\n",
    "print(next(iterator))\n",
    "print(next(iterator))\n",
    "print(next(iterator))\n",
    "print(next(iterator))"
   ]
  },
  {
   "cell_type": "code",
   "execution_count": null,
   "id": "412c5937",
   "metadata": {},
   "outputs": [],
   "source": [
    "we can add these methods to our own classes and make them iterable as well\n",
    "\n",
    "\n",
    "practical ex = range function\n",
    "\n",
    "\n"
   ]
  },
  {
   "cell_type": "code",
   "execution_count": 44,
   "id": "168e467c",
   "metadata": {},
   "outputs": [
    {
     "name": "stdout",
     "output_type": "stream",
     "text": [
      "1\n",
      "2\n",
      "3\n",
      "4\n",
      "5\n",
      "6\n",
      "7\n",
      "8\n",
      "9\n",
      "10\n"
     ]
    }
   ],
   "source": [
    "for i in range (1,11):\n",
    "    print(i)"
   ]
  },
  {
   "cell_type": "code",
   "execution_count": 46,
   "id": "0f0c5d75",
   "metadata": {},
   "outputs": [
    {
     "name": "stdout",
     "output_type": "stream",
     "text": [
      "1\n",
      "2\n",
      "3\n",
      "4\n",
      "5\n",
      "6\n",
      "7\n",
      "8\n",
      "9\n",
      "10\n"
     ]
    }
   ],
   "source": [
    "class MyRange():\n",
    "    def __init__(self,start,end):\n",
    "        self.start = start\n",
    "        self.end = end\n",
    "        \n",
    "    def __iter__(self):\n",
    "        \n",
    "        return self\n",
    "    def __next__(self):\n",
    "        \n",
    "        if self.start > self.end:\n",
    "            raise StopIteration\n",
    "        current = self.start\n",
    "        self.start+=1\n",
    "        return current\n",
    "\n",
    "        \n",
    "    \n",
    "\n",
    "Obj = MyRange(1,11)\n",
    "\n",
    "iterator = iter(Obj)\n",
    "\n",
    "print(next(iterator))\n",
    "print(next(iterator))\n",
    "print(next(iterator))\n",
    "print(next(iterator))\n",
    "print(next(iterator))\n",
    "print(next(iterator))\n",
    "print(next(iterator))\n",
    "print(next(iterator))\n",
    "print(next(iterator))\n",
    "print(next(iterator))"
   ]
  },
  {
   "cell_type": "code",
   "execution_count": 48,
   "id": "741763c9",
   "metadata": {},
   "outputs": [
    {
     "name": "stdout",
     "output_type": "stream",
     "text": [
      "1\n",
      "2\n",
      "3\n",
      "4\n",
      "5\n",
      "6\n",
      "7\n",
      "8\n",
      "9\n",
      "10\n"
     ]
    },
    {
     "ename": "StopIteration",
     "evalue": "",
     "output_type": "error",
     "traceback": [
      "\u001b[1;31m---------------------------------------------------------------------------\u001b[0m",
      "\u001b[1;31mStopIteration\u001b[0m                             Traceback (most recent call last)",
      "\u001b[1;32m<ipython-input-48-067a4554bc45>\u001b[0m in \u001b[0;36m<module>\u001b[1;34m\u001b[0m\n\u001b[0;32m     32\u001b[0m \u001b[0mprint\u001b[0m\u001b[1;33m(\u001b[0m\u001b[0mnext\u001b[0m\u001b[1;33m(\u001b[0m\u001b[0miterator\u001b[0m\u001b[1;33m)\u001b[0m\u001b[1;33m)\u001b[0m\u001b[1;33m\u001b[0m\u001b[1;33m\u001b[0m\u001b[0m\n\u001b[0;32m     33\u001b[0m \u001b[0mprint\u001b[0m\u001b[1;33m(\u001b[0m\u001b[0mnext\u001b[0m\u001b[1;33m(\u001b[0m\u001b[0miterator\u001b[0m\u001b[1;33m)\u001b[0m\u001b[1;33m)\u001b[0m\u001b[1;33m\u001b[0m\u001b[1;33m\u001b[0m\u001b[0m\n\u001b[1;32m---> 34\u001b[1;33m \u001b[0mprint\u001b[0m\u001b[1;33m(\u001b[0m\u001b[0mnext\u001b[0m\u001b[1;33m(\u001b[0m\u001b[0miterator\u001b[0m\u001b[1;33m)\u001b[0m\u001b[1;33m)\u001b[0m\u001b[1;33m\u001b[0m\u001b[1;33m\u001b[0m\u001b[0m\n\u001b[0m\u001b[0;32m     35\u001b[0m \u001b[0mprint\u001b[0m\u001b[1;33m(\u001b[0m\u001b[0mnext\u001b[0m\u001b[1;33m(\u001b[0m\u001b[0miterator\u001b[0m\u001b[1;33m)\u001b[0m\u001b[1;33m)\u001b[0m\u001b[1;33m\u001b[0m\u001b[1;33m\u001b[0m\u001b[0m\n\u001b[0;32m     36\u001b[0m \u001b[0mprint\u001b[0m\u001b[1;33m(\u001b[0m\u001b[0mnext\u001b[0m\u001b[1;33m(\u001b[0m\u001b[0miterator\u001b[0m\u001b[1;33m)\u001b[0m\u001b[1;33m)\u001b[0m\u001b[1;33m\u001b[0m\u001b[1;33m\u001b[0m\u001b[0m\n",
      "\u001b[1;32m<ipython-input-48-067a4554bc45>\u001b[0m in \u001b[0;36m__next__\u001b[1;34m(self)\u001b[0m\n\u001b[0;32m     10\u001b[0m \u001b[1;33m\u001b[0m\u001b[0m\n\u001b[0;32m     11\u001b[0m         \u001b[1;32mif\u001b[0m \u001b[0mself\u001b[0m\u001b[1;33m.\u001b[0m\u001b[0mstart\u001b[0m \u001b[1;33m>\u001b[0m \u001b[0mself\u001b[0m\u001b[1;33m.\u001b[0m\u001b[0mend\u001b[0m\u001b[1;33m:\u001b[0m\u001b[1;33m\u001b[0m\u001b[1;33m\u001b[0m\u001b[0m\n\u001b[1;32m---> 12\u001b[1;33m             \u001b[1;32mraise\u001b[0m \u001b[0mStopIteration\u001b[0m\u001b[1;33m\u001b[0m\u001b[1;33m\u001b[0m\u001b[0m\n\u001b[0m\u001b[0;32m     13\u001b[0m         \u001b[0mcurrent\u001b[0m \u001b[1;33m=\u001b[0m \u001b[0mself\u001b[0m\u001b[1;33m.\u001b[0m\u001b[0mstart\u001b[0m\u001b[1;33m\u001b[0m\u001b[1;33m\u001b[0m\u001b[0m\n\u001b[0;32m     14\u001b[0m         \u001b[0mself\u001b[0m\u001b[1;33m.\u001b[0m\u001b[0mstart\u001b[0m\u001b[1;33m+=\u001b[0m\u001b[1;36m1\u001b[0m\u001b[1;33m\u001b[0m\u001b[1;33m\u001b[0m\u001b[0m\n",
      "\u001b[1;31mStopIteration\u001b[0m: "
     ]
    }
   ],
   "source": [
    "class MyRange():\n",
    "    def __init__(self,start,end):\n",
    "        self.start = start\n",
    "        self.end = end\n",
    "        \n",
    "    def __iter__(self):\n",
    "        \n",
    "        return self\n",
    "    def __next__(self):\n",
    "        \n",
    "        if self.start > self.end:\n",
    "            raise StopIteration\n",
    "        current = self.start\n",
    "        self.start+=1\n",
    "        return current\n",
    "\n",
    "        \n",
    "    \n",
    "\n",
    "Obj = MyRange(1,10)\n",
    "\n",
    "iterator = iter(Obj)\n",
    "\n",
    "print(next(iterator))\n",
    "print(next(iterator))\n",
    "print(next(iterator))\n",
    "print(next(iterator))\n",
    "print(next(iterator))\n",
    "print(next(iterator))\n",
    "print(next(iterator))\n",
    "print(next(iterator))\n",
    "print(next(iterator))\n",
    "print(next(iterator))\n",
    "print(next(iterator))\n",
    "print(next(iterator))\n",
    "print(next(iterator))\n",
    "print(next(iterator))"
   ]
  },
  {
   "cell_type": "code",
   "execution_count": null,
   "id": "936e79f4",
   "metadata": {},
   "outputs": [],
   "source": [
    "Iterators fetches one value at a time >>> we can write memory efficient program\n",
    "ex. password cracker\n",
    "\n",
    "check all possible values >> list or tuple  >> memory run out\n",
    "\n",
    "but iterator will check all possible combination one by one"
   ]
  },
  {
   "cell_type": "markdown",
   "id": "423a039b",
   "metadata": {},
   "source": [
    "# Generator"
   ]
  },
  {
   "cell_type": "code",
   "execution_count": 49,
   "id": "71f51466",
   "metadata": {},
   "outputs": [
    {
     "name": "stdout",
     "output_type": "stream",
     "text": [
      "this is my function\n",
      "Hello\n"
     ]
    }
   ],
   "source": [
    "def my_fun():\n",
    "    print(\"this is my function\")\n",
    "    \n",
    "    return \"Hello\"\n",
    "\n",
    "var = my_fun()\n",
    "print(var)"
   ]
  },
  {
   "cell_type": "code",
   "execution_count": null,
   "id": "5d4453e4",
   "metadata": {},
   "outputs": [],
   "source": [
    "If we are using one or more yield keyword in function, then it is called as  Genarator"
   ]
  },
  {
   "cell_type": "code",
   "execution_count": 51,
   "id": "d17f5927",
   "metadata": {},
   "outputs": [
    {
     "name": "stdout",
     "output_type": "stream",
     "text": [
      "value = 4 and SQR = 16\n",
      "16\n"
     ]
    }
   ],
   "source": [
    "list1 = [4,5,6,7,8,9,3]\n",
    "def my_fn():\n",
    "    for i in list1:\n",
    "        sqr = i**2\n",
    "        print(f\"value = {i} and SQR = {sqr}\")\n",
    "        return sqr\n",
    "    \n",
    "var = my_fn()\n",
    "print(var)"
   ]
  },
  {
   "cell_type": "code",
   "execution_count": 54,
   "id": "54dc21cf",
   "metadata": {},
   "outputs": [
    {
     "name": "stdout",
     "output_type": "stream",
     "text": [
      "value = 4 and SQR = 16\n",
      "16\n",
      "value = 5 and SQR = 25\n",
      "25\n"
     ]
    }
   ],
   "source": [
    "list1 = [4,5,6,7,8,9,3]\n",
    "def my_fn():\n",
    "    for i in list1:\n",
    "        sqr = i**2\n",
    "        print(f\"value = {i} and SQR = {sqr}\")\n",
    "        yield sqr        # generator\n",
    "    \n",
    "var = my_fn()\n",
    "print(next(var))\n",
    "print(next(var))"
   ]
  },
  {
   "cell_type": "code",
   "execution_count": 55,
   "id": "cdd9b18f",
   "metadata": {},
   "outputs": [
    {
     "name": "stdout",
     "output_type": "stream",
     "text": [
      "value = 4 and SQR = 16\n",
      "16\n",
      "value = 5 and SQR = 25\n",
      "25\n",
      "------------------------------\n",
      "Data\n",
      "Data\n",
      "Data\n",
      "Data\n",
      "------------------------------\n",
      "value = 6 and SQR = 36\n",
      "36\n",
      "------------------------------\n",
      "Data\n",
      "Data\n",
      "Data\n",
      "Data\n",
      "------------------------------\n"
     ]
    }
   ],
   "source": [
    "list1 = [4,5,6,7,8,9,3]\n",
    "def my_fn():\n",
    "    for i in list1:\n",
    "        sqr = i**2\n",
    "        print(f\"value = {i} and SQR = {sqr}\")\n",
    "        yield sqr        # generator\n",
    "    \n",
    "var = my_fn()\n",
    "print(next(var))   #4,16\n",
    "print(next(var))   # 5,25\n",
    "print('-'*30)      #------\n",
    "for i in range(4):\n",
    "    print(\"Data\")   # 4 times\n",
    "print('-'*30)\n",
    "print(next(var))    # 6,36\n",
    "print('-'*30)\n",
    "for i in range(4):\n",
    "    print(\"Data\")\n",
    "print('-'*30)"
   ]
  },
  {
   "cell_type": "code",
   "execution_count": 57,
   "id": "6cef96e1",
   "metadata": {},
   "outputs": [
    {
     "name": "stdout",
     "output_type": "stream",
     "text": [
      "Hello\n"
     ]
    },
    {
     "data": {
      "text/plain": [
       "'python'"
      ]
     },
     "execution_count": 57,
     "metadata": {},
     "output_type": "execute_result"
    }
   ],
   "source": [
    "def test_function():\n",
    "    print(\"Hello\")\n",
    "    return \"python\"\n",
    "\n",
    "    print(\"Hello 2\")\n",
    "    return \"Data\"\n",
    "\n",
    "    print(\"Hello 3\")\n",
    "    return \"Science\"\n",
    "test_function()"
   ]
  },
  {
   "cell_type": "code",
   "execution_count": 62,
   "id": "df6b2dca",
   "metadata": {},
   "outputs": [
    {
     "name": "stdout",
     "output_type": "stream",
     "text": [
      "Hello\n",
      "python\n",
      "\n",
      "Hello 2\n",
      "Data\n",
      "\n",
      "Hello 3\n",
      "Science\n"
     ]
    }
   ],
   "source": [
    "def test_function():\n",
    "    print(\"Hello\")   \n",
    "    yield \"python\"             #Generator\n",
    "\n",
    "    print(\"Hello 2\")\n",
    "    yield \"Data\"\n",
    "\n",
    "    print(\"Hello 3\")\n",
    "    yield \"Science\"\n",
    "var =test_function()\n",
    "\n",
    "print(next(var))\n",
    "print()\n",
    "print(next(var))\n",
    "print()\n",
    "print(next(var))"
   ]
  },
  {
   "cell_type": "code",
   "execution_count": 63,
   "id": "8fc84d99",
   "metadata": {},
   "outputs": [
    {
     "name": "stdout",
     "output_type": "stream",
     "text": [
      "<generator object fibo at 0x000002D8DD9C8040>\n",
      "1\n",
      "1\n",
      "2\n",
      "3\n"
     ]
    }
   ],
   "source": [
    "def fibo(num):\n",
    "    first,second = 0,1\n",
    "    for i in range(num):\n",
    "        first,second = second, first+second\n",
    "        yield first   #Generator\n",
    "        \n",
    "f = fibo(5)\n",
    "print(f)\n",
    "print(next(f))\n",
    "print(next(f))\n",
    "print(next(f))\n",
    "print(next(f))"
   ]
  },
  {
   "cell_type": "code",
   "execution_count": null,
   "id": "bd359dff",
   "metadata": {},
   "outputs": [],
   "source": [
    "## NOTE>>> once generator is created we dont have to create iter and next method \n",
    "## It will automatically created"
   ]
  },
  {
   "cell_type": "code",
   "execution_count": 66,
   "id": "e4cc1e08",
   "metadata": {},
   "outputs": [
    {
     "name": "stdout",
     "output_type": "stream",
     "text": [
      "<generator object fibo at 0x000002D8DD9C82E0>\n",
      "[1, 1, 2, 3, 5, 8, 13, 21, 34, 55]\n"
     ]
    }
   ],
   "source": [
    "def fibo(num):\n",
    "    first,second = 0,1\n",
    "    for i in range(num):\n",
    "        first,second = second, first+second\n",
    "        yield first   #Generator\n",
    "        \n",
    "f = fibo(10)\n",
    "print(f)\n",
    "print(list(f))"
   ]
  },
  {
   "cell_type": "code",
   "execution_count": null,
   "id": "82db6785",
   "metadata": {},
   "outputs": [],
   "source": []
  }
 ],
 "metadata": {
  "kernelspec": {
   "display_name": "Python 3",
   "language": "python",
   "name": "python3"
  },
  "language_info": {
   "codemirror_mode": {
    "name": "ipython",
    "version": 3
   },
   "file_extension": ".py",
   "mimetype": "text/x-python",
   "name": "python",
   "nbconvert_exporter": "python",
   "pygments_lexer": "ipython3",
   "version": "3.8.8"
  }
 },
 "nbformat": 4,
 "nbformat_minor": 5
}
