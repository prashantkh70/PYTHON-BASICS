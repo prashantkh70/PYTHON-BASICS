{
 "cells": [
  {
   "cell_type": "markdown",
   "id": "a41fdf44",
   "metadata": {},
   "source": [
    "# List1"
   ]
  },
  {
   "cell_type": "code",
   "execution_count": null,
   "id": "c2cc335c",
   "metadata": {},
   "outputs": [],
   "source": [
    "Listn function:\n",
    "    append()\n",
    "    extend()\n",
    "    insert(index,value)\n",
    "    remove(value)\n",
    "    pop(index)\n",
    "    clear()\n",
    "    index(value)\n",
    "    count(value)\n",
    "    copy()\n",
    "    sort()\n",
    "    reverse()"
   ]
  },
  {
   "cell_type": "code",
   "execution_count": null,
   "id": "92055d38",
   "metadata": {},
   "outputs": [],
   "source": [
    "Tuple functions:\n",
    "    1. index\n",
    "    2. count()\n",
    "    "
   ]
  },
  {
   "cell_type": "code",
   "execution_count": null,
   "id": "cbdd4b51",
   "metadata": {},
   "outputs": [],
   "source": [
    "built in fn in tuple and list:\n",
    "    sorted()\n",
    "    reversed()\n",
    "    min()\n",
    "    max()\n",
    "    sum()"
   ]
  },
  {
   "cell_type": "code",
   "execution_count": null,
   "id": "c7fa2809",
   "metadata": {},
   "outputs": [],
   "source": [
    "List Properties:\n",
    "    mutable\n",
    "    ordered\n",
    "    duplicates are allowed\n",
    "    enclosed by []\n",
    "    used to store any datatype >> (heterogeneous data type)\n",
    "    it requires more memory\n",
    "    lists are slower than tuple"
   ]
  },
  {
   "cell_type": "code",
   "execution_count": null,
   "id": "c8e526a3",
   "metadata": {},
   "outputs": [],
   "source": [
    "Tuple Properties:\n",
    "    Immutable(unchangeble)\n",
    "    ordered\n",
    "    duplicates are allowed\n",
    "    enclosed by ()\n",
    "    used to store any datatype >> (heterogeneous data type)\n",
    "    it requires less memory\n",
    "    tuple are faster than list"
   ]
  },
  {
   "cell_type": "code",
   "execution_count": null,
   "id": "2dd7fec2",
   "metadata": {},
   "outputs": [],
   "source": [
    "use of tuple: # Constant Data type\n",
    "    - customer ID\n",
    "    - PAN number\n",
    "    - Passport No\n",
    "    - UAN no\n",
    "    - aadhar no"
   ]
  }
 ],
 "metadata": {
  "kernelspec": {
   "display_name": "Python 3",
   "language": "python",
   "name": "python3"
  },
  "language_info": {
   "codemirror_mode": {
    "name": "ipython",
    "version": 3
   },
   "file_extension": ".py",
   "mimetype": "text/x-python",
   "name": "python",
   "nbconvert_exporter": "python",
   "pygments_lexer": "ipython3",
   "version": "3.8.8"
  }
 },
 "nbformat": 4,
 "nbformat_minor": 5
}
