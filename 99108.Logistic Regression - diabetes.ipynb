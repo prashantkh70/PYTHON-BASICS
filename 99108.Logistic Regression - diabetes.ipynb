{
 "cells": [
  {
   "cell_type": "markdown",
   "id": "e70c68b7",
   "metadata": {},
   "source": [
    "# Logistic Regression - diabetes"
   ]
  },
  {
   "cell_type": "code",
   "execution_count": 24,
   "id": "ef15bebe",
   "metadata": {},
   "outputs": [],
   "source": [
    "import numpy as np\n",
    "import pandas as pd\n",
    "from sklearn.linear_model import LogisticRegression\n",
    "from sklearn.model_selection import train_test_split\n",
    "from sklearn.metrics import accuracy_score,confusion_matrix,classification_report\n",
    "from sklearn.metrics import precision_score,recall_score,f1_score\n",
    "\n",
    "import matplotlib.pyplot as plt\n",
    "import seaborn as sns\n",
    "\n",
    "import warnings\n",
    "warnings.filterwarnings('ignore')"
   ]
  },
  {
   "cell_type": "code",
   "execution_count": 2,
   "id": "3bb901cc",
   "metadata": {},
   "outputs": [
    {
     "data": {
      "text/html": [
       "<div>\n",
       "<style scoped>\n",
       "    .dataframe tbody tr th:only-of-type {\n",
       "        vertical-align: middle;\n",
       "    }\n",
       "\n",
       "    .dataframe tbody tr th {\n",
       "        vertical-align: top;\n",
       "    }\n",
       "\n",
       "    .dataframe thead th {\n",
       "        text-align: right;\n",
       "    }\n",
       "</style>\n",
       "<table border=\"1\" class=\"dataframe\">\n",
       "  <thead>\n",
       "    <tr style=\"text-align: right;\">\n",
       "      <th></th>\n",
       "      <th>Glucose</th>\n",
       "      <th>BloodPressure</th>\n",
       "      <th>SkinThickness</th>\n",
       "      <th>Insulin</th>\n",
       "      <th>BMI</th>\n",
       "      <th>DiabetesPedigreeFunction</th>\n",
       "      <th>Age</th>\n",
       "      <th>Outcome</th>\n",
       "    </tr>\n",
       "  </thead>\n",
       "  <tbody>\n",
       "    <tr>\n",
       "      <th>0</th>\n",
       "      <td>148</td>\n",
       "      <td>50</td>\n",
       "      <td>35</td>\n",
       "      <td>0</td>\n",
       "      <td>33.6</td>\n",
       "      <td>0.627</td>\n",
       "      <td>50</td>\n",
       "      <td>1</td>\n",
       "    </tr>\n",
       "    <tr>\n",
       "      <th>1</th>\n",
       "      <td>85</td>\n",
       "      <td>66</td>\n",
       "      <td>29</td>\n",
       "      <td>0</td>\n",
       "      <td>26.6</td>\n",
       "      <td>0.351</td>\n",
       "      <td>31</td>\n",
       "      <td>0</td>\n",
       "    </tr>\n",
       "    <tr>\n",
       "      <th>2</th>\n",
       "      <td>183</td>\n",
       "      <td>64</td>\n",
       "      <td>0</td>\n",
       "      <td>0</td>\n",
       "      <td>23.3</td>\n",
       "      <td>0.672</td>\n",
       "      <td>52</td>\n",
       "      <td>1</td>\n",
       "    </tr>\n",
       "    <tr>\n",
       "      <th>3</th>\n",
       "      <td>150</td>\n",
       "      <td>66</td>\n",
       "      <td>23</td>\n",
       "      <td>94</td>\n",
       "      <td>28.1</td>\n",
       "      <td>0.167</td>\n",
       "      <td>21</td>\n",
       "      <td>0</td>\n",
       "    </tr>\n",
       "    <tr>\n",
       "      <th>4</th>\n",
       "      <td>150</td>\n",
       "      <td>40</td>\n",
       "      <td>35</td>\n",
       "      <td>168</td>\n",
       "      <td>43.1</td>\n",
       "      <td>2.288</td>\n",
       "      <td>33</td>\n",
       "      <td>1</td>\n",
       "    </tr>\n",
       "    <tr>\n",
       "      <th>...</th>\n",
       "      <td>...</td>\n",
       "      <td>...</td>\n",
       "      <td>...</td>\n",
       "      <td>...</td>\n",
       "      <td>...</td>\n",
       "      <td>...</td>\n",
       "      <td>...</td>\n",
       "      <td>...</td>\n",
       "    </tr>\n",
       "    <tr>\n",
       "      <th>763</th>\n",
       "      <td>101</td>\n",
       "      <td>76</td>\n",
       "      <td>48</td>\n",
       "      <td>180</td>\n",
       "      <td>32.9</td>\n",
       "      <td>0.171</td>\n",
       "      <td>63</td>\n",
       "      <td>0</td>\n",
       "    </tr>\n",
       "    <tr>\n",
       "      <th>764</th>\n",
       "      <td>122</td>\n",
       "      <td>70</td>\n",
       "      <td>27</td>\n",
       "      <td>0</td>\n",
       "      <td>36.8</td>\n",
       "      <td>0.340</td>\n",
       "      <td>27</td>\n",
       "      <td>0</td>\n",
       "    </tr>\n",
       "    <tr>\n",
       "      <th>765</th>\n",
       "      <td>121</td>\n",
       "      <td>72</td>\n",
       "      <td>23</td>\n",
       "      <td>112</td>\n",
       "      <td>26.2</td>\n",
       "      <td>0.245</td>\n",
       "      <td>30</td>\n",
       "      <td>0</td>\n",
       "    </tr>\n",
       "    <tr>\n",
       "      <th>766</th>\n",
       "      <td>126</td>\n",
       "      <td>60</td>\n",
       "      <td>0</td>\n",
       "      <td>0</td>\n",
       "      <td>30.1</td>\n",
       "      <td>0.349</td>\n",
       "      <td>47</td>\n",
       "      <td>1</td>\n",
       "    </tr>\n",
       "    <tr>\n",
       "      <th>767</th>\n",
       "      <td>93</td>\n",
       "      <td>70</td>\n",
       "      <td>31</td>\n",
       "      <td>0</td>\n",
       "      <td>30.4</td>\n",
       "      <td>0.315</td>\n",
       "      <td>23</td>\n",
       "      <td>0</td>\n",
       "    </tr>\n",
       "  </tbody>\n",
       "</table>\n",
       "<p>768 rows × 8 columns</p>\n",
       "</div>"
      ],
      "text/plain": [
       "     Glucose  BloodPressure  SkinThickness  Insulin   BMI  \\\n",
       "0        148             50             35        0  33.6   \n",
       "1         85             66             29        0  26.6   \n",
       "2        183             64              0        0  23.3   \n",
       "3        150             66             23       94  28.1   \n",
       "4        150             40             35      168  43.1   \n",
       "..       ...            ...            ...      ...   ...   \n",
       "763      101             76             48      180  32.9   \n",
       "764      122             70             27        0  36.8   \n",
       "765      121             72             23      112  26.2   \n",
       "766      126             60              0        0  30.1   \n",
       "767       93             70             31        0  30.4   \n",
       "\n",
       "     DiabetesPedigreeFunction  Age  Outcome  \n",
       "0                       0.627   50        1  \n",
       "1                       0.351   31        0  \n",
       "2                       0.672   52        1  \n",
       "3                       0.167   21        0  \n",
       "4                       2.288   33        1  \n",
       "..                        ...  ...      ...  \n",
       "763                     0.171   63        0  \n",
       "764                     0.340   27        0  \n",
       "765                     0.245   30        0  \n",
       "766                     0.349   47        1  \n",
       "767                     0.315   23        0  \n",
       "\n",
       "[768 rows x 8 columns]"
      ]
     },
     "execution_count": 2,
     "metadata": {},
     "output_type": "execute_result"
    }
   ],
   "source": [
    "df=pd.read_csv('diabetes.csv')\n",
    "df"
   ]
  },
  {
   "cell_type": "code",
   "execution_count": 3,
   "id": "2db50c43",
   "metadata": {},
   "outputs": [
    {
     "name": "stdout",
     "output_type": "stream",
     "text": [
      "<class 'pandas.core.frame.DataFrame'>\n",
      "RangeIndex: 768 entries, 0 to 767\n",
      "Data columns (total 8 columns):\n",
      " #   Column                    Non-Null Count  Dtype  \n",
      "---  ------                    --------------  -----  \n",
      " 0   Glucose                   768 non-null    int64  \n",
      " 1   BloodPressure             768 non-null    int64  \n",
      " 2   SkinThickness             768 non-null    int64  \n",
      " 3   Insulin                   768 non-null    int64  \n",
      " 4   BMI                       768 non-null    float64\n",
      " 5   DiabetesPedigreeFunction  768 non-null    float64\n",
      " 6   Age                       768 non-null    int64  \n",
      " 7   Outcome                   768 non-null    int64  \n",
      "dtypes: float64(2), int64(6)\n",
      "memory usage: 48.1 KB\n"
     ]
    }
   ],
   "source": [
    "df.info()"
   ]
  },
  {
   "cell_type": "code",
   "execution_count": 4,
   "id": "c5fd642e",
   "metadata": {},
   "outputs": [
    {
     "data": {
      "text/plain": [
       "0    500\n",
       "1    268\n",
       "Name: Outcome, dtype: int64"
      ]
     },
     "execution_count": 4,
     "metadata": {},
     "output_type": "execute_result"
    }
   ],
   "source": [
    "df['Outcome'].value_counts()"
   ]
  },
  {
   "cell_type": "code",
   "execution_count": 6,
   "id": "52cdcfcd",
   "metadata": {},
   "outputs": [
    {
     "data": {
      "text/plain": [
       "<AxesSubplot:xlabel='Outcome', ylabel='count'>"
      ]
     },
     "execution_count": 6,
     "metadata": {},
     "output_type": "execute_result"
    },
    {
     "data": {
      "image/png": "[encoded data removed]",
      "text/plain": [
       "<Figure size 432x288 with 1 Axes>"
      ]
     },
     "metadata": {
      "needs_background": "light"
     },
     "output_type": "display_data"
    }
   ],
   "source": [
    "sns.countplot(x=df['Outcome'])"
   ]
  },
  {
   "cell_type": "markdown",
   "id": "40ea7d15",
   "metadata": {},
   "source": [
    "# Train Test Split"
   ]
  },
  {
   "cell_type": "code",
   "execution_count": 17,
   "id": "accab80e",
   "metadata": {},
   "outputs": [],
   "source": [
    "x=df.drop('Outcome',axis=1)\n",
    "y=df['Outcome']\n",
    "x_train,x_test,y_train,y_test=train_test_split(x,y,test_size=0.25,random_state=12,stratify=y)"
   ]
  },
  {
   "cell_type": "code",
   "execution_count": 18,
   "id": "8fb1d511",
   "metadata": {},
   "outputs": [
    {
     "data": {
      "text/plain": [
       "0    375\n",
       "1    201\n",
       "Name: Outcome, dtype: int64"
      ]
     },
     "execution_count": 18,
     "metadata": {},
     "output_type": "execute_result"
    }
   ],
   "source": [
    "y_train.value_counts()"
   ]
  },
  {
   "cell_type": "code",
   "execution_count": 12,
   "id": "b37c76ea",
   "metadata": {},
   "outputs": [
    {
     "data": {
      "text/plain": [
       "0.6510416666666666"
      ]
     },
     "execution_count": 12,
     "metadata": {},
     "output_type": "execute_result"
    }
   ],
   "source": [
    "500/(500+268)"
   ]
  },
  {
   "cell_type": "code",
   "execution_count": 13,
   "id": "3dea0ce1",
   "metadata": {},
   "outputs": [
    {
     "data": {
      "text/plain": [
       "0.6510416666666666"
      ]
     },
     "execution_count": 13,
     "metadata": {},
     "output_type": "execute_result"
    }
   ],
   "source": [
    "375/(375+201)"
   ]
  },
  {
   "cell_type": "code",
   "execution_count": 16,
   "id": "bad63d2b",
   "metadata": {},
   "outputs": [
    {
     "data": {
      "text/plain": [
       "0.6579861111111112"
      ]
     },
     "execution_count": 16,
     "metadata": {},
     "output_type": "execute_result"
    }
   ],
   "source": [
    "379/(379+197)"
   ]
  },
  {
   "cell_type": "markdown",
   "id": "236e0833",
   "metadata": {},
   "source": [
    "# Model Training\n"
   ]
  },
  {
   "cell_type": "code",
   "execution_count": 25,
   "id": "a07bf0b6",
   "metadata": {},
   "outputs": [
    {
     "data": {
      "text/plain": [
       "LogisticRegression()"
      ]
     },
     "execution_count": 25,
     "metadata": {},
     "output_type": "execute_result"
    }
   ],
   "source": [
    "logistic_model=LogisticRegression()\n",
    "logistic_model.fit(x_train,y_train)"
   ]
  },
  {
   "cell_type": "markdown",
   "id": "089c373f",
   "metadata": {},
   "source": [
    "# Evaluation"
   ]
  },
  {
   "cell_type": "code",
   "execution_count": 26,
   "id": "6e1cb114",
   "metadata": {},
   "outputs": [
    {
     "name": "stdout",
     "output_type": "stream",
     "text": [
      "Confusion Matrix: \n",
      " [[110  15]\n",
      " [ 24  43]]\n",
      "**************************************************\n",
      "Accuracy Score: \n",
      " 0.796875\n",
      "**************************************************\n",
      "Classification Report: \n",
      "               precision    recall  f1-score   support\n",
      "\n",
      "           0       0.82      0.88      0.85       125\n",
      "           1       0.74      0.64      0.69        67\n",
      "\n",
      "    accuracy                           0.80       192\n",
      "   macro avg       0.78      0.76      0.77       192\n",
      "weighted avg       0.79      0.80      0.79       192\n",
      "\n"
     ]
    }
   ],
   "source": [
    "y_pred=logistic_model.predict(x_test)\n",
    "\n",
    "cnf_matrix=confusion_matrix(y_test,y_pred)\n",
    "print(\"Confusion Matrix: \\n\",cnf_matrix)\n",
    "print(\"*\"*50)\n",
    "\n",
    "accuracy=accuracy_score(y_test,y_pred)\n",
    "print(\"Accuracy Score: \\n\",accuracy)\n",
    "print(\"*\"*50)\n",
    "\n",
    "clf_report=classification_report(y_test,y_pred)\n",
    "print(\"Classification Report: \\n\",clf_report)"
   ]
  },
  {
   "cell_type": "code",
   "execution_count": 27,
   "id": "e2436918",
   "metadata": {},
   "outputs": [
    {
     "data": {
      "text/plain": [
       "array([1, 0, 1, 0, 1, 0, 0, 1, 1, 0, 0, 1, 1, 1, 0, 0, 1, 0, 0, 0, 0, 0,\n",
       "       0, 0, 0, 0, 0, 0, 1, 1, 1, 0, 0, 0, 0, 1, 0, 0, 0, 1, 0, 0, 0, 0,\n",
       "       1, 0, 0, 0, 0, 0, 0, 0, 1, 1, 1, 0, 0, 1, 1, 0, 0, 0, 0, 0, 0, 1,\n",
       "       0, 0, 1, 0, 0, 0, 0, 0, 0, 1, 0, 1, 0, 1, 0, 0, 0, 1, 0, 0, 0, 0,\n",
       "       1, 1, 1, 1, 1, 0, 0, 0, 0, 0, 0, 0, 0, 1, 0, 0, 0, 0, 0, 0, 0, 0,\n",
       "       0, 0, 0, 0, 1, 0, 0, 0, 0, 0, 0, 0, 1, 0, 0, 1, 0, 1, 0, 1, 1, 0,\n",
       "       0, 0, 0, 0, 0, 0, 0, 1, 1, 0, 0, 0, 0, 0, 0, 1, 0, 0, 1, 0, 0, 0,\n",
       "       0, 1, 1, 1, 0, 0, 1, 1, 0, 1, 0, 0, 0, 0, 0, 1, 0, 0, 1, 0, 0, 1,\n",
       "       1, 1, 0, 0, 0, 0, 1, 0, 1, 0, 1, 0, 0, 1, 0, 1], dtype=int64)"
      ]
     },
     "execution_count": 27,
     "metadata": {},
     "output_type": "execute_result"
    }
   ],
   "source": [
    "y_pred=logistic_model.predict(x_test)\n",
    "y_pred"
   ]
  },
  {
   "cell_type": "code",
   "execution_count": 28,
   "id": "101342a5",
   "metadata": {},
   "outputs": [
    {
     "data": {
      "text/plain": [
       "array([[0.45731173, 0.54268827],\n",
       "       [0.67962347, 0.32037653],\n",
       "       [0.30824582, 0.69175418],\n",
       "       [0.93058858, 0.06941142],\n",
       "       [0.2141897 , 0.7858103 ],\n",
       "       [0.95423561, 0.04576439],\n",
       "       [0.8818329 , 0.1181671 ],\n",
       "       [0.46748204, 0.53251796],\n",
       "       [0.06696009, 0.93303991],\n",
       "       [0.71304819, 0.28695181],\n",
       "       [0.57335003, 0.42664997],\n",
       "       [0.21549587, 0.78450413],\n",
       "       [0.03294347, 0.96705653],\n",
       "       [0.14043839, 0.85956161],\n",
       "       [0.89897933, 0.10102067],\n",
       "       [0.78368428, 0.21631572],\n",
       "       [0.23191319, 0.76808681],\n",
       "       [0.86081178, 0.13918822],\n",
       "       [0.86075704, 0.13924296],\n",
       "       [0.69393023, 0.30606977],\n",
       "       [0.93088953, 0.06911047],\n",
       "       [0.83859009, 0.16140991],\n",
       "       [0.88553044, 0.11446956],\n",
       "       [0.89489079, 0.10510921],\n",
       "       [0.68913612, 0.31086388],\n",
       "       [0.87807823, 0.12192177],\n",
       "       [0.61138024, 0.38861976],\n",
       "       [0.95320446, 0.04679554],\n",
       "       [0.343347  , 0.656653  ],\n",
       "       [0.47243362, 0.52756638],\n",
       "       [0.41306889, 0.58693111],\n",
       "       [0.71129719, 0.28870281],\n",
       "       [0.72776611, 0.27223389],\n",
       "       [0.87556357, 0.12443643],\n",
       "       [0.82575977, 0.17424023],\n",
       "       [0.15086448, 0.84913552],\n",
       "       [0.85252242, 0.14747758],\n",
       "       [0.83272397, 0.16727603],\n",
       "       [0.93834104, 0.06165896],\n",
       "       [0.10143558, 0.89856442],\n",
       "       [0.81752983, 0.18247017],\n",
       "       [0.88304728, 0.11695272],\n",
       "       [0.71849859, 0.28150141],\n",
       "       [0.69305503, 0.30694497],\n",
       "       [0.19714133, 0.80285867],\n",
       "       [0.90878418, 0.09121582],\n",
       "       [0.87001433, 0.12998567],\n",
       "       [0.68700273, 0.31299727],\n",
       "       [0.84036966, 0.15963034],\n",
       "       [0.87823661, 0.12176339],\n",
       "       [0.87342881, 0.12657119],\n",
       "       [0.60846264, 0.39153736],\n",
       "       [0.13398221, 0.86601779],\n",
       "       [0.33503544, 0.66496456],\n",
       "       [0.38148721, 0.61851279],\n",
       "       [0.75891423, 0.24108577],\n",
       "       [0.87164216, 0.12835784],\n",
       "       [0.42963876, 0.57036124],\n",
       "       [0.1974228 , 0.8025772 ],\n",
       "       [0.67114992, 0.32885008],\n",
       "       [0.83066228, 0.16933772],\n",
       "       [0.62441635, 0.37558365],\n",
       "       [0.94756547, 0.05243453],\n",
       "       [0.93019864, 0.06980136],\n",
       "       [0.91996964, 0.08003036],\n",
       "       [0.42576451, 0.57423549],\n",
       "       [0.88970386, 0.11029614],\n",
       "       [0.94051132, 0.05948868],\n",
       "       [0.33488421, 0.66511579],\n",
       "       [0.95423713, 0.04576287],\n",
       "       [0.52246219, 0.47753781],\n",
       "       [0.94019324, 0.05980676],\n",
       "       [0.56452644, 0.43547356],\n",
       "       [0.82561276, 0.17438724],\n",
       "       [0.56053754, 0.43946246],\n",
       "       [0.46132999, 0.53867001],\n",
       "       [0.93633264, 0.06366736],\n",
       "       [0.47299838, 0.52700162],\n",
       "       [0.68967909, 0.31032091],\n",
       "       [0.45924853, 0.54075147],\n",
       "       [0.80515151, 0.19484849],\n",
       "       [0.74979518, 0.25020482],\n",
       "       [0.80406799, 0.19593201],\n",
       "       [0.42262104, 0.57737896],\n",
       "       [0.89508152, 0.10491848],\n",
       "       [0.54998889, 0.45001111],\n",
       "       [0.80280034, 0.19719966],\n",
       "       [0.797054  , 0.202946  ],\n",
       "       [0.12644079, 0.87355921],\n",
       "       [0.1181361 , 0.8818639 ],\n",
       "       [0.35672822, 0.64327178],\n",
       "       [0.17824563, 0.82175437],\n",
       "       [0.20792625, 0.79207375],\n",
       "       [0.87771343, 0.12228657],\n",
       "       [0.97957355, 0.02042645],\n",
       "       [0.8451469 , 0.1548531 ],\n",
       "       [0.75000295, 0.24999705],\n",
       "       [0.91938782, 0.08061218],\n",
       "       [0.99660601, 0.00339399],\n",
       "       [0.89351923, 0.10648077],\n",
       "       [0.75208257, 0.24791743],\n",
       "       [0.14306789, 0.85693211],\n",
       "       [0.77243747, 0.22756253],\n",
       "       [0.94757772, 0.05242228],\n",
       "       [0.65878223, 0.34121777],\n",
       "       [0.79188633, 0.20811367],\n",
       "       [0.61410362, 0.38589638],\n",
       "       [0.81989193, 0.18010807],\n",
       "       [0.85510137, 0.14489863],\n",
       "       [0.82865567, 0.17134433],\n",
       "       [0.68737331, 0.31262669],\n",
       "       [0.95147279, 0.04852721],\n",
       "       [0.93457627, 0.06542373],\n",
       "       [0.57366614, 0.42633386],\n",
       "       [0.17261504, 0.82738496],\n",
       "       [0.8929114 , 0.1070886 ],\n",
       "       [0.83195731, 0.16804269],\n",
       "       [0.55972285, 0.44027715],\n",
       "       [0.90170788, 0.09829212],\n",
       "       [0.75916654, 0.24083346],\n",
       "       [0.6590282 , 0.3409718 ],\n",
       "       [0.90616711, 0.09383289],\n",
       "       [0.24133843, 0.75866157],\n",
       "       [0.76853306, 0.23146694],\n",
       "       [0.73565775, 0.26434225],\n",
       "       [0.18571952, 0.81428048],\n",
       "       [0.7256325 , 0.2743675 ],\n",
       "       [0.38867416, 0.61132584],\n",
       "       [0.87795633, 0.12204367],\n",
       "       [0.19556758, 0.80443242],\n",
       "       [0.46580103, 0.53419897],\n",
       "       [0.95541309, 0.04458691],\n",
       "       [0.87684143, 0.12315857],\n",
       "       [0.92743264, 0.07256736],\n",
       "       [0.86688249, 0.13311751],\n",
       "       [0.65347715, 0.34652285],\n",
       "       [0.77482605, 0.22517395],\n",
       "       [0.79688196, 0.20311804],\n",
       "       [0.68086465, 0.31913535],\n",
       "       [0.10565046, 0.89434954],\n",
       "       [0.0863153 , 0.9136847 ],\n",
       "       [0.93280251, 0.06719749],\n",
       "       [0.68187494, 0.31812506],\n",
       "       [0.87233497, 0.12766503],\n",
       "       [0.92476355, 0.07523645],\n",
       "       [0.75500757, 0.24499243],\n",
       "       [0.87662051, 0.12337949],\n",
       "       [0.20037466, 0.79962534],\n",
       "       [0.70447584, 0.29552416],\n",
       "       [0.78404445, 0.21595555],\n",
       "       [0.06167476, 0.93832524],\n",
       "       [0.53772929, 0.46227071],\n",
       "       [0.90059304, 0.09940696],\n",
       "       [0.67410592, 0.32589408],\n",
       "       [0.88393917, 0.11606083],\n",
       "       [0.19575821, 0.80424179],\n",
       "       [0.25958524, 0.74041476],\n",
       "       [0.49263915, 0.50736085],\n",
       "       [0.85596601, 0.14403399],\n",
       "       [0.59121028, 0.40878972],\n",
       "       [0.48583929, 0.51416071],\n",
       "       [0.21496654, 0.78503346],\n",
       "       [0.68568799, 0.31431201],\n",
       "       [0.29504003, 0.70495997],\n",
       "       [0.51085486, 0.48914514],\n",
       "       [0.82707935, 0.17292065],\n",
       "       [0.96233387, 0.03766613],\n",
       "       [0.77106467, 0.22893533],\n",
       "       [0.91396821, 0.08603179],\n",
       "       [0.3360156 , 0.6639844 ],\n",
       "       [0.7840396 , 0.2159604 ],\n",
       "       [0.93517084, 0.06482916],\n",
       "       [0.23825324, 0.76174676],\n",
       "       [0.84477404, 0.15522596],\n",
       "       [0.50728122, 0.49271878],\n",
       "       [0.19381798, 0.80618202],\n",
       "       [0.2983779 , 0.7016221 ],\n",
       "       [0.46105171, 0.53894829],\n",
       "       [0.74605397, 0.25394603],\n",
       "       [0.64495667, 0.35504333],\n",
       "       [0.91798478, 0.08201522],\n",
       "       [0.54732446, 0.45267554],\n",
       "       [0.21392596, 0.78607404],\n",
       "       [0.86470017, 0.13529983],\n",
       "       [0.19878004, 0.80121996],\n",
       "       [0.90331763, 0.09668237],\n",
       "       [0.38421621, 0.61578379],\n",
       "       [0.89865596, 0.10134404],\n",
       "       [0.95715487, 0.04284513],\n",
       "       [0.4683007 , 0.5316993 ],\n",
       "       [0.71091345, 0.28908655],\n",
       "       [0.46031286, 0.53968714]])"
      ]
     },
     "execution_count": 28,
     "metadata": {},
     "output_type": "execute_result"
    }
   ],
   "source": [
    "y_pred_prob=logistic_model.predict_proba(x_test)\n",
    "y_pred_prob"
   ]
  },
  {
   "cell_type": "code",
   "execution_count": null,
   "id": "a310327e",
   "metadata": {},
   "outputs": [],
   "source": []
  }
 ],
 "metadata": {
  "kernelspec": {
   "display_name": "Python 3",
   "language": "python",
   "name": "python3"
  },
  "language_info": {
   "codemirror_mode": {
    "name": "ipython",
    "version": 3
   },
   "file_extension": ".py",
   "mimetype": "text/x-python",
   "name": "python",
   "nbconvert_exporter": "python",
   "pygments_lexer": "ipython3",
   "version": "3.8.8"
  }
 },
 "nbformat": 4,
 "nbformat_minor": 5
}
