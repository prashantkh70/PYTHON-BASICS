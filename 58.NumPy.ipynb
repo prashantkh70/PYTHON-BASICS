{
 "cells": [
  {
   "cell_type": "markdown",
   "id": "3430ce83",
   "metadata": {},
   "source": [
    "# important libraries in data science"
   ]
  },
  {
   "cell_type": "code",
   "execution_count": null,
   "id": "63223455",
   "metadata": {},
   "outputs": [],
   "source": [
    "1. NumPy  >> numerical operation\n",
    "2. Pandas >> 50 % >> EDA >> Exploratory Data Analysis (20% visualization)\n",
    "3. matplotlib  >> visualization\n",
    "4. seaborn   >> visualization\n",
    "5. sklearn >> scikit-learn >> ML Algorithms\n",
    "6. Tensorflow >> deep learning\n",
    "7. nltk >> Natural Language ToolKit >> NLP (Natural Language Processing)\n",
    "\n"
   ]
  },
  {
   "cell_type": "markdown",
   "id": "4a4c8a88",
   "metadata": {},
   "source": [
    "# 1. Numpy"
   ]
  },
  {
   "cell_type": "code",
   "execution_count": null,
   "id": "e2cebb36",
   "metadata": {},
   "outputs": [],
   "source": [
    "Numpy >> Numerical Python\n",
    "#SciPy >> Scientific Python\n"
   ]
  },
  {
   "cell_type": "markdown",
   "id": "782ad19e",
   "metadata": {},
   "source": [
    "# Application"
   ]
  },
  {
   "cell_type": "code",
   "execution_count": null,
   "id": "e3ef2bd4",
   "metadata": {},
   "outputs": [],
   "source": [
    "1. Linear Algebra >> matrices , vectors\n",
    "2. Statistics (mean, median, mode, std. deviaation)\n",
    "3. Trigonometry\n",
    "4. Matrix Operation\n",
    "5. logerithmic\n",
    "6. Image processing\n",
    "7. random number generation"
   ]
  },
  {
   "cell_type": "markdown",
   "id": "b20a9544",
   "metadata": {},
   "source": [
    "# Numpy Properties"
   ]
  },
  {
   "cell_type": "code",
   "execution_count": null,
   "id": "48201903",
   "metadata": {},
   "outputs": [],
   "source": [
    "1. It is a collection of homogeneous datatypes.\n",
    "2. Numpy is faster than list. \n",
    "3. Numpy is written in C and C++ Language(partially in Python)\n",
    "4. C language is faster than Python\n",
    "\n",
    "\n",
    "DataType   >>   numpy.ndarray   >> n-Dimentional array\n",
    "int >> float >> complex >> str"
   ]
  },
  {
   "cell_type": "code",
   "execution_count": 2,
   "id": "a02d906c",
   "metadata": {},
   "outputs": [
    {
     "name": "stdout",
     "output_type": "stream",
     "text": [
      "<class 'list'>\n"
     ]
    },
    {
     "data": {
      "text/plain": [
       "[1, 2, 3, 4, 'python']"
      ]
     },
     "execution_count": 2,
     "metadata": {},
     "output_type": "execute_result"
    }
   ],
   "source": [
    "list1= [1,2,3,4,'python']\n",
    "print(type(list1))\n",
    "list1"
   ]
  },
  {
   "cell_type": "code",
   "execution_count": 3,
   "id": "d0b4b914",
   "metadata": {},
   "outputs": [],
   "source": [
    "import numpy as np"
   ]
  },
  {
   "cell_type": "code",
   "execution_count": 4,
   "id": "d0730520",
   "metadata": {},
   "outputs": [
    {
     "name": "stdout",
     "output_type": "stream",
     "text": [
      "<class 'numpy.ndarray'>\n"
     ]
    },
    {
     "data": {
      "text/plain": [
       "array([1, 2, 3, 4, 5])"
      ]
     },
     "execution_count": 4,
     "metadata": {},
     "output_type": "execute_result"
    }
   ],
   "source": [
    "array1 =np.array([1,2,3,4,5])\n",
    "print(type(array1))\n",
    "array1"
   ]
  },
  {
   "cell_type": "code",
   "execution_count": 5,
   "id": "6ff7d763",
   "metadata": {},
   "outputs": [
    {
     "name": "stdout",
     "output_type": "stream",
     "text": [
      "<class 'numpy.ndarray'>\n"
     ]
    },
    {
     "data": {
      "text/plain": [
       "array([7. , 5. , 3.5, 9. ])"
      ]
     },
     "execution_count": 5,
     "metadata": {},
     "output_type": "execute_result"
    }
   ],
   "source": [
    "array2 = np.array([7,5,3.5,9])\n",
    "print(type(array2))\n",
    "array2"
   ]
  },
  {
   "cell_type": "code",
   "execution_count": 6,
   "id": "774ae48b",
   "metadata": {},
   "outputs": [
    {
     "name": "stdout",
     "output_type": "stream",
     "text": [
      "<class 'numpy.ndarray'>\n"
     ]
    },
    {
     "data": {
      "text/plain": [
       "array(['7', '5', '3.5', '9'], dtype='<U32')"
      ]
     },
     "execution_count": 6,
     "metadata": {},
     "output_type": "execute_result"
    }
   ],
   "source": [
    "array2 = np.array([7,5,3.5,'9'])\n",
    "print(type(array2))\n",
    "array2"
   ]
  },
  {
   "cell_type": "code",
   "execution_count": 9,
   "id": "4601be57",
   "metadata": {},
   "outputs": [
    {
     "data": {
      "text/plain": [
       "dtype('<U32')"
      ]
     },
     "execution_count": 9,
     "metadata": {},
     "output_type": "execute_result"
    }
   ],
   "source": [
    "array2.dtype"
   ]
  },
  {
   "cell_type": "code",
   "execution_count": 10,
   "id": "ce59e033",
   "metadata": {},
   "outputs": [
    {
     "data": {
      "text/plain": [
       "dtype('int32')"
      ]
     },
     "execution_count": 10,
     "metadata": {},
     "output_type": "execute_result"
    }
   ],
   "source": [
    "array1.dtype"
   ]
  },
  {
   "cell_type": "code",
   "execution_count": null,
   "id": "26263eff",
   "metadata": {},
   "outputs": [],
   "source": [
    "if list contains a mix of numerical and string types, \n",
    "numpy will convert all the element into string"
   ]
  },
  {
   "cell_type": "code",
   "execution_count": 14,
   "id": "e99e708f",
   "metadata": {},
   "outputs": [
    {
     "data": {
      "text/plain": [
       "numpy.str_"
      ]
     },
     "execution_count": 14,
     "metadata": {},
     "output_type": "execute_result"
    }
   ],
   "source": [
    "array2 = np.array([7,5,3.5,'9'])\n",
    "type(array2[3])"
   ]
  },
  {
   "cell_type": "code",
   "execution_count": 16,
   "id": "04dfc7ad",
   "metadata": {},
   "outputs": [
    {
     "name": "stdout",
     "output_type": "stream",
     "text": [
      "<class 'numpy.ndarray'>\n"
     ]
    },
    {
     "data": {
      "text/plain": [
       "array(['7', '5', '3.5', 'python', '(4+5j)', '6.5'], dtype='<U64')"
      ]
     },
     "execution_count": 16,
     "metadata": {},
     "output_type": "execute_result"
    }
   ],
   "source": [
    "array3 = np.array([7,5,3.5,'python',4+5j,6.5])\n",
    "print(type(array2))\n",
    "array3"
   ]
  },
  {
   "cell_type": "code",
   "execution_count": 20,
   "id": "ecfa487e",
   "metadata": {},
   "outputs": [
    {
     "data": {
      "text/plain": [
       "numpy.str_"
      ]
     },
     "execution_count": 20,
     "metadata": {},
     "output_type": "execute_result"
    }
   ],
   "source": [
    "type(array3[4])"
   ]
  },
  {
   "cell_type": "code",
   "execution_count": 19,
   "id": "ac71dccf",
   "metadata": {},
   "outputs": [
    {
     "data": {
      "text/plain": [
       "'(4+5j)'"
      ]
     },
     "execution_count": 19,
     "metadata": {},
     "output_type": "execute_result"
    }
   ],
   "source": [
    "array3[4]"
   ]
  },
  {
   "cell_type": "code",
   "execution_count": null,
   "id": "a5f54b3d",
   "metadata": {},
   "outputs": [],
   "source": []
  }
 ],
 "metadata": {
  "kernelspec": {
   "display_name": "Python 3",
   "language": "python",
   "name": "python3"
  },
  "language_info": {
   "codemirror_mode": {
    "name": "ipython",
    "version": 3
   },
   "file_extension": ".py",
   "mimetype": "text/x-python",
   "name": "python",
   "nbconvert_exporter": "python",
   "pygments_lexer": "ipython3",
   "version": "3.8.8"
  }
 },
 "nbformat": 4,
 "nbformat_minor": 5
}
