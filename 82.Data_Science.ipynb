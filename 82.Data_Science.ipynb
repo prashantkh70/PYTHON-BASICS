{
 "cells": [
  {
   "cell_type": "markdown",
   "id": "7c61e7a1",
   "metadata": {},
   "source": [
    "# Data Science"
   ]
  },
  {
   "cell_type": "code",
   "execution_count": null,
   "id": "147f4bb2",
   "metadata": {},
   "outputs": [],
   "source": [
    "It is a process of extracting knowledge and insights from data by using scientific methods."
   ]
  },
  {
   "cell_type": "markdown",
   "id": "41c02a8b",
   "metadata": {},
   "source": [
    "# Scientific Methods"
   ]
  },
  {
   "cell_type": "code",
   "execution_count": null,
   "id": "f0ea7540",
   "metadata": {},
   "outputs": [],
   "source": [
    "1. machine Learning\n",
    "2. Deep Learning\n",
    "3. Natural language processing\n",
    "4. Statistics\n",
    "5. Visualization(Matplotlib,Seaborn)"
   ]
  },
  {
   "cell_type": "markdown",
   "id": "19a7f8fc",
   "metadata": {},
   "source": [
    "# Data"
   ]
  },
  {
   "cell_type": "code",
   "execution_count": null,
   "id": "9084025c",
   "metadata": {},
   "outputs": [],
   "source": [
    "1. Structured >>> csv file, excel file.\n",
    "2. Unstructured data >>> Images , videos,text , audios\n",
    "3. Semi-Structured >>> Json, Html."
   ]
  },
  {
   "cell_type": "markdown",
   "id": "1735e6fa",
   "metadata": {},
   "source": [
    "## Machine Learning --- data:"
   ]
  },
  {
   "cell_type": "code",
   "execution_count": null,
   "id": "1e52098f",
   "metadata": {},
   "outputs": [],
   "source": [
    "Train 75%      1000 >>> train 800 >>> test 200\n",
    "\n",
    "Test   25%  (unseen) "
   ]
  },
  {
   "cell_type": "markdown",
   "id": "4f861b85",
   "metadata": {},
   "source": [
    "# Real World Applications"
   ]
  },
  {
   "cell_type": "code",
   "execution_count": null,
   "id": "da722120",
   "metadata": {},
   "outputs": [],
   "source": [
    "1. ChatBot\n",
    "2. Face Recognition (vKYC,Google photos,facebook)\n",
    "3. Ditization of any document:\n",
    "    1. Googel vision\n",
    "    2. Amazon Tressract\n",
    "    3. Pytresseract\n",
    "4. House price prediction\n",
    "5. Wheather prediction\n",
    "6. Speech recognition (Alexa,siri, Google voice assistance)\n",
    "7. Google search engine\n",
    "8. stock price prediction\n",
    "9. Medical Diagnosis\n",
    "10. self driving cars\n",
    "11. robotics"
   ]
  },
  {
   "cell_type": "markdown",
   "id": "f4d89531",
   "metadata": {},
   "source": [
    "## Types of Machine Learning"
   ]
  },
  {
   "cell_type": "code",
   "execution_count": null,
   "id": "bd00c6e3",
   "metadata": {},
   "outputs": [],
   "source": [
    "1. Supervised ML\n",
    "2. Unsupervised ML\n",
    "3. Reinforcement ML"
   ]
  },
  {
   "cell_type": "markdown",
   "id": "c57443a7",
   "metadata": {},
   "source": [
    "# Supervised ML"
   ]
  },
  {
   "cell_type": "code",
   "execution_count": null,
   "id": "e5f727b4",
   "metadata": {},
   "outputs": [],
   "source": [
    "lebelled:\n",
    "    1. Independent variable(Input variable,Predictors)\n",
    "    2. Dependent variable (Output, Target,Predition)\n",
    "    "
   ]
  },
  {
   "cell_type": "code",
   "execution_count": null,
   "id": "01d81a80",
   "metadata": {},
   "outputs": [],
   "source": [
    "If the data is labelled,use Supervised ML.\n",
    "1. Classification:(categorical data in target column)\n",
    "    \n",
    "    1. Binary Classification(Two categories in Target column)\n",
    "            0/1, Approved/Decline, True/False, pass/fail, yes/no,Pos/Neg,Spam/Not-Spam\n",
    "    2. Multiclass Classification(more than 2 categories in target column)\n",
    "        High Risk - Medium Risk- Low Risk\n",
    "        Class1 - Class 2 - Class3\n",
    "        setosa- versicolor- virginica\n",
    "        \n",
    "2. Regression:(Contineous data in target column)\n",
    "    1. car price\n",
    "    2. wheather prediction\n",
    "    3. House Price\n",
    "    4. Stock price\n"
   ]
  },
  {
   "cell_type": "markdown",
   "id": "497d1297",
   "metadata": {},
   "source": [
    "## Supervised Algorithms"
   ]
  },
  {
   "cell_type": "markdown",
   "id": "aa1cf4e8",
   "metadata": {},
   "source": [
    "1. Linear Regression                             Regression\n",
    "2. Logistic Regression                           Classification\n",
    "3. KNN (K - Nearest Neighbour)                   (Classification & Regression)\n",
    "    3.1 KNN Classifier\n",
    "    3.2 KNN Regressor\n",
    "4. Decision Tree (Classification & Regression)\n",
    "5. Random Forest (Classification & Regression)\n",
    "6. AdaBoost      (Classification & Regression)\n",
    "7. Gradient Boost (Classification & Regression)\n",
    "8. XGBoost       (Classification & Regression)\n",
    "9. Support Vector machine (SVM) (Classification & Regression)\n",
    "10. Naive Bayes Classifier  (Classification)\n"
   ]
  },
  {
   "cell_type": "code",
   "execution_count": null,
   "id": "80a0d724",
   "metadata": {},
   "outputs": [],
   "source": [
    "# from sklearn.neighbors import KNeighborsRegressor,KNeighborsClassifier"
   ]
  },
  {
   "cell_type": "markdown",
   "id": "5e38f23f",
   "metadata": {},
   "source": [
    "## Unsupervised ML"
   ]
  },
  {
   "cell_type": "code",
   "execution_count": null,
   "id": "9f42038f",
   "metadata": {},
   "outputs": [],
   "source": [
    "If the data is unlabelled , use Unsupervised ML\n",
    " \n",
    "Unlebelled: \n",
    "    No Target collumn, Only independent variables\n",
    "    \n",
    "                matches    innings      runs    wickets\n",
    "player 1         100         95          5000     12\n",
    "player 2          95         50           1300    78\n",
    "player 3          110        75           3300     35\n",
    ".\n",
    ".\n",
    ".\n",
    "player 100"
   ]
  },
  {
   "cell_type": "markdown",
   "id": "5d3e3c1c",
   "metadata": {},
   "source": [
    "# Unsupervised ML"
   ]
  },
  {
   "cell_type": "code",
   "execution_count": null,
   "id": "5d415d43",
   "metadata": {},
   "outputs": [],
   "source": [
    "1. KMeans Clustering\n",
    "2. Hierarchical Clustering\n",
    "3. Principal Component Analysis"
   ]
  },
  {
   "cell_type": "markdown",
   "id": "dd304a94",
   "metadata": {},
   "source": [
    "## Reinforcement Learning"
   ]
  },
  {
   "cell_type": "code",
   "execution_count": null,
   "id": "96e02ce4",
   "metadata": {},
   "outputs": [],
   "source": [
    "1. self driving cars            >> Reward based   \n",
    "2. temperature control system"
   ]
  },
  {
   "cell_type": "markdown",
   "id": "95c59d28",
   "metadata": {},
   "source": [
    "## Data Science Project Steps"
   ]
  },
  {
   "cell_type": "code",
   "execution_count": null,
   "id": "c603500d",
   "metadata": {},
   "outputs": [],
   "source": [
    "1. Problem Statement\n",
    "2. Data Gathering:(database : MySql, MongoDB)\n",
    "3. EDA - Exploratory Data Analysis -(Numpy, Pandas,Seaborn, Matplotlib)\n",
    "4. Feature Engineering:\n",
    "    standardization\n",
    "    Normalization\n",
    "    Binning >>> bins  \n",
    "    One Hot Encoding\n",
    "    Lebel Encoging\n",
    "    Transformations(Log, sqrt,cbrt)\n",
    "5. Fearure Selection:\n",
    "    1. Filter Method\n",
    "    2. Wraper Method\n",
    "    3. Embeded Method\n",
    "6. Model Training:\n",
    "    1. Linear Regression\n",
    "    2. KNN Regression\n",
    "    3. DT Degression\n",
    "    \n",
    "7. Model Evaluation:\n",
    "    Regression:\n",
    "        1. MSE\n",
    "        2. RMSE\n",
    "        3. MAE\n",
    "        4. R- Squred Value\n",
    "    \n",
    "    Classification:\n",
    "        1. Confusion Matrix\n",
    "        2. Classification Report(precision , recall, f1-score)\n",
    "        3. AUC-ROC Curve\n",
    "        4. Accuracy\n",
    "        \n",
    "8. Web Developement Frameworks:(Python Developer)\n",
    "    1. Flask - To write API,PostMan\n",
    "    2. Django\n",
    "    3. FastAI\n",
    "    4. gRPC\n",
    "\n",
    "9. Deployment:\n",
    "    1. AWS\n",
    "    2. GCP\n",
    "    3. Microsoft Azure"
   ]
  },
  {
   "cell_type": "code",
   "execution_count": null,
   "id": "e9f7c86f",
   "metadata": {},
   "outputs": [],
   "source": []
  }
 ],
 "metadata": {
  "kernelspec": {
   "display_name": "Python 3",
   "language": "python",
   "name": "python3"
  },
  "language_info": {
   "codemirror_mode": {
    "name": "ipython",
    "version": 3
   },
   "file_extension": ".py",
   "mimetype": "text/x-python",
   "name": "python",
   "nbconvert_exporter": "python",
   "pygments_lexer": "ipython3",
   "version": "3.8.8"
  }
 },
 "nbformat": 4,
 "nbformat_minor": 5
}
