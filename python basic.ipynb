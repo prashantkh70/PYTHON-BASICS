{
 "cells": [
  {
   "cell_type": "code",
   "execution_count": 1,
   "id": "f8a30f42",
   "metadata": {},
   "outputs": [],
   "source": [
    "#ipynb :- interactive python file\n",
    "# py. - python file"
   ]
  },
  {
   "cell_type": "code",
   "execution_count": 11,
   "id": "65e5127d",
   "metadata": {},
   "outputs": [],
   "source": [
    "# 1. ctrl + enter = run current cell\n",
    "# shift + enter =  execute current cell and go to next cell\n",
    "# alt+ enter = execute current cell create new blank cell"
   ]
  },
  {
   "cell_type": "code",
   "execution_count": 8,
   "id": "817f0845",
   "metadata": {},
   "outputs": [],
   "source": [
    "# single line comment \n",
    "#use # at the beginning of line\n",
    "\n",
    "# for multiple line comment >> use ctr + /\n",
    "\n",
    "\n"
   ]
  },
  {
   "cell_type": "markdown",
   "id": "dd96a137",
   "metadata": {},
   "source": [
    "### "
   ]
  },
  {
   "cell_type": "markdown",
   "id": "394c7812",
   "metadata": {},
   "source": [
    "## "
   ]
  },
  {
   "cell_type": "code",
   "execution_count": null,
   "id": "3d079960",
   "metadata": {},
   "outputs": [],
   "source": []
  },
  {
   "cell_type": "code",
   "execution_count": null,
   "id": "18349a58",
   "metadata": {},
   "outputs": [],
   "source": []
  }
 ],
 "metadata": {
  "kernelspec": {
   "display_name": "Python 3",
   "language": "python",
   "name": "python3"
  },
  "language_info": {
   "codemirror_mode": {
    "name": "ipython",
    "version": 3
   },
   "file_extension": ".py",
   "mimetype": "text/x-python",
   "name": "python",
   "nbconvert_exporter": "python",
   "pygments_lexer": "ipython3",
   "version": "3.8.8"
  }
 },
 "nbformat": 4,
 "nbformat_minor": 5
}
