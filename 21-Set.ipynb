{
 "cells": [
  {
   "cell_type": "markdown",
   "id": "8d13c4ae",
   "metadata": {},
   "source": [
    "# Python Data Type"
   ]
  },
  {
   "cell_type": "code",
   "execution_count": null,
   "id": "34022c50",
   "metadata": {},
   "outputs": [],
   "source": [
    "string   : Immutable,  Ordered , duplicates are allowed, ' '\n",
    "list     : Mutable   , ordered , duplicates are allowed, [ ]\n",
    "tuple    : Immutable , ordered , duplicates are allowed, ( )"
   ]
  },
  {
   "cell_type": "markdown",
   "id": "91d9f9f3",
   "metadata": {},
   "source": [
    "# Set Data Type"
   ]
  },
  {
   "cell_type": "code",
   "execution_count": null,
   "id": "28c3cd85",
   "metadata": {},
   "outputs": [],
   "source": [
    "sets are used to store multiple items in variable"
   ]
  },
  {
   "cell_type": "code",
   "execution_count": null,
   "id": "8918a089",
   "metadata": {},
   "outputs": [],
   "source": [
    "1. Unordered data type \n",
    "2. Mutable >> add , remove set items,(but we can not change/update items once set is created)\n",
    "3. enclosed by { }\n",
    "4. indexing is not allowed"
   ]
  },
  {
   "cell_type": "markdown",
   "id": "fe9d544b",
   "metadata": {},
   "source": [
    "# Set Functions"
   ]
  },
  {
   "cell_type": "code",
   "execution_count": null,
   "id": "9ab0b109",
   "metadata": {},
   "outputs": [],
   "source": [
    "1. add()\n",
    "2. update()\n",
    "3. union()\n",
    "\n",
    "4. remove()\n",
    "5. discard()\n",
    "6. pop()\n",
    "7. clear()\n",
    "\n",
    "8. intersection()\n",
    "9. intersection_update()\n",
    "10. difference()\n",
    "11. difference_update()\n",
    "12. symmetric_difference()\n",
    "13. symmetric_difference_update()\n",
    "\n",
    "14. issupperset()\n",
    "15. issubset()\n",
    "16. isdisjoint()\n",
    "17. copy()"
   ]
  },
  {
   "cell_type": "code",
   "execution_count": 2,
   "id": "82ace568",
   "metadata": {},
   "outputs": [
    {
     "data": {
      "text/plain": [
       "{1, 2, 4, 5, 7, 'data', 'python'}"
      ]
     },
     "execution_count": 2,
     "metadata": {},
     "output_type": "execute_result"
    }
   ],
   "source": [
    "set1 = {1,'python',2,1,4,5,4,7,'python','data'}\n",
    "set1"
   ]
  },
  {
   "cell_type": "code",
   "execution_count": 5,
   "id": "0549a695",
   "metadata": {},
   "outputs": [
    {
     "ename": "TypeError",
     "evalue": "'set' object is not subscriptable",
     "output_type": "error",
     "traceback": [
      "\u001b[1;31m---------------------------------------------------------------------------\u001b[0m",
      "\u001b[1;31mTypeError\u001b[0m                                 Traceback (most recent call last)",
      "\u001b[1;32m<ipython-input-5-53e650f6c254>\u001b[0m in \u001b[0;36m<module>\u001b[1;34m\u001b[0m\n\u001b[0;32m      1\u001b[0m \u001b[0mset1\u001b[0m \u001b[1;33m=\u001b[0m \u001b[1;33m{\u001b[0m\u001b[1;36m1\u001b[0m\u001b[1;33m,\u001b[0m\u001b[1;34m'python'\u001b[0m\u001b[1;33m,\u001b[0m\u001b[1;36m2\u001b[0m\u001b[1;33m,\u001b[0m\u001b[1;36m1\u001b[0m\u001b[1;33m,\u001b[0m\u001b[1;36m4\u001b[0m\u001b[1;33m,\u001b[0m\u001b[1;36m5\u001b[0m\u001b[1;33m,\u001b[0m\u001b[1;36m4\u001b[0m\u001b[1;33m,\u001b[0m\u001b[1;36m7\u001b[0m\u001b[1;33m,\u001b[0m\u001b[1;34m'python'\u001b[0m\u001b[1;33m,\u001b[0m\u001b[1;34m'data'\u001b[0m\u001b[1;33m}\u001b[0m\u001b[1;33m\u001b[0m\u001b[1;33m\u001b[0m\u001b[0m\n\u001b[1;32m----> 2\u001b[1;33m \u001b[0mset1\u001b[0m\u001b[1;33m[\u001b[0m\u001b[1;36m0\u001b[0m\u001b[1;33m]\u001b[0m        \u001b[1;31m#indexing is not allowed\u001b[0m\u001b[1;33m\u001b[0m\u001b[1;33m\u001b[0m\u001b[0m\n\u001b[0m",
      "\u001b[1;31mTypeError\u001b[0m: 'set' object is not subscriptable"
     ]
    }
   ],
   "source": [
    "set1 = {1,'python',2,1,4,5,4,7,'python','data'}\n",
    "set1[0]        #indexing is not allowed"
   ]
  },
  {
   "cell_type": "code",
   "execution_count": 18,
   "id": "4d7062cd",
   "metadata": {},
   "outputs": [
    {
     "data": {
      "text/plain": [
       "list"
      ]
     },
     "execution_count": 18,
     "metadata": {},
     "output_type": "execute_result"
    }
   ],
   "source": [
    "list1 = [1,'python',2,3.56,1,4,5,4.7,7,'python','data']\n",
    "type(list1)"
   ]
  },
  {
   "cell_type": "code",
   "execution_count": 9,
   "id": "843dd193",
   "metadata": {},
   "outputs": [
    {
     "name": "stdout",
     "output_type": "stream",
     "text": [
      "{1, 2, 3.56, 4, 5, 4.7, 7, 'python', 'data'}\n"
     ]
    },
    {
     "data": {
      "text/plain": [
       "set"
      ]
     },
     "execution_count": 9,
     "metadata": {},
     "output_type": "execute_result"
    }
   ],
   "source": [
    "set2= set(list1)\n",
    "print(set2)\n",
    "type(set2)"
   ]
  },
  {
   "cell_type": "code",
   "execution_count": 19,
   "id": "20cf7a89",
   "metadata": {},
   "outputs": [
    {
     "data": {
      "text/plain": [
       "[1, 2, 3.56, 4, 5, 4.7, 7, 'python', 'data']"
      ]
     },
     "execution_count": 19,
     "metadata": {},
     "output_type": "execute_result"
    }
   ],
   "source": [
    "x = list(set(list1))\n",
    "x"
   ]
  },
  {
   "cell_type": "code",
   "execution_count": 11,
   "id": "19e4b653",
   "metadata": {},
   "outputs": [
    {
     "data": {
      "text/plain": [
       "(1, 2, 3.56, 4, 5, 4.7, 7, 'python', 'data')"
      ]
     },
     "execution_count": 11,
     "metadata": {},
     "output_type": "execute_result"
    }
   ],
   "source": [
    "y = tuple(set2)\n",
    "y"
   ]
  },
  {
   "cell_type": "code",
   "execution_count": 25,
   "id": "97d52b0b",
   "metadata": {},
   "outputs": [
    {
     "data": {
      "text/plain": [
       "[1, 2, 3, 4, 5, 6, 7, 8, 9]"
      ]
     },
     "execution_count": 25,
     "metadata": {},
     "output_type": "execute_result"
    }
   ],
   "source": [
    "list2 = [4,6,1,2,8,9,3,4,5,6,7]\n",
    "x=set(list2)\n",
    "x\n",
    "list(x)"
   ]
  },
  {
   "cell_type": "code",
   "execution_count": 26,
   "id": "5bc891e7",
   "metadata": {},
   "outputs": [
    {
     "data": {
      "text/plain": [
       "[1, 2, 3, 4, 5, 6, 7, 8, 9]"
      ]
     },
     "execution_count": 26,
     "metadata": {},
     "output_type": "execute_result"
    }
   ],
   "source": [
    "list2 = [4,6,1,2,8,9,3,4,5,6,7]\n",
    "x = list(set(list2))\n",
    "x"
   ]
  },
  {
   "cell_type": "code",
   "execution_count": 27,
   "id": "54bbcc85",
   "metadata": {},
   "outputs": [
    {
     "data": {
      "text/plain": [
       "(1, 2, 3, 4, 5, 6, 7, 8, 9)"
      ]
     },
     "execution_count": 27,
     "metadata": {},
     "output_type": "execute_result"
    }
   ],
   "source": [
    "list2 = [4,6,1,2,8,9,3,4,5,6,7]\n",
    "x = tuple(set(list2))\n",
    "x"
   ]
  },
  {
   "cell_type": "markdown",
   "id": "d3c41fae",
   "metadata": {},
   "source": [
    "# Python Type casting "
   ]
  },
  {
   "cell_type": "code",
   "execution_count": null,
   "id": "13f97e72",
   "metadata": {},
   "outputs": [],
   "source": [
    "list >> tuple\n",
    "tuple >> list\n",
    "tuple >> set\n",
    "set >> tuple\n",
    "list >> set\n",
    "set >> list"
   ]
  },
  {
   "cell_type": "markdown",
   "id": "b1e9fc9a",
   "metadata": {},
   "source": [
    "# How to access the set items"
   ]
  },
  {
   "cell_type": "code",
   "execution_count": null,
   "id": "61475e01",
   "metadata": {},
   "outputs": [],
   "source": [
    "we can not use indexing in set data type"
   ]
  },
  {
   "cell_type": "code",
   "execution_count": 28,
   "id": "2df4c1de",
   "metadata": {},
   "outputs": [
    {
     "ename": "TypeError",
     "evalue": "'set' object is not subscriptable",
     "output_type": "error",
     "traceback": [
      "\u001b[1;31m---------------------------------------------------------------------------\u001b[0m",
      "\u001b[1;31mTypeError\u001b[0m                                 Traceback (most recent call last)",
      "\u001b[1;32m<ipython-input-28-3bac7b2d8ec3>\u001b[0m in \u001b[0;36m<module>\u001b[1;34m\u001b[0m\n\u001b[0;32m      1\u001b[0m \u001b[0mset3\u001b[0m \u001b[1;33m=\u001b[0m \u001b[1;33m{\u001b[0m\u001b[1;36m1\u001b[0m\u001b[1;33m,\u001b[0m\u001b[1;34m'python'\u001b[0m\u001b[1;33m,\u001b[0m\u001b[1;36m2\u001b[0m\u001b[1;33m,\u001b[0m\u001b[1;36m3.56\u001b[0m\u001b[1;33m,\u001b[0m\u001b[1;36m1\u001b[0m\u001b[1;33m,\u001b[0m\u001b[1;36m4\u001b[0m\u001b[1;33m,\u001b[0m\u001b[1;36m5\u001b[0m\u001b[1;33m,\u001b[0m\u001b[1;36m4.7\u001b[0m\u001b[1;33m,\u001b[0m\u001b[1;36m7\u001b[0m\u001b[1;33m,\u001b[0m\u001b[1;34m'python'\u001b[0m\u001b[1;33m,\u001b[0m\u001b[1;34m'data'\u001b[0m\u001b[1;33m}\u001b[0m\u001b[1;33m\u001b[0m\u001b[1;33m\u001b[0m\u001b[0m\n\u001b[1;32m----> 2\u001b[1;33m \u001b[0mset3\u001b[0m\u001b[1;33m[\u001b[0m\u001b[1;36m4\u001b[0m\u001b[1;33m]\u001b[0m\u001b[1;33m\u001b[0m\u001b[1;33m\u001b[0m\u001b[0m\n\u001b[0m",
      "\u001b[1;31mTypeError\u001b[0m: 'set' object is not subscriptable"
     ]
    }
   ],
   "source": [
    "set3 = {1,'python',2,3.56,1,4,5,4.7,7,'python','data'}\n",
    "set3[4]"
   ]
  },
  {
   "cell_type": "code",
   "execution_count": 32,
   "id": "df348fff",
   "metadata": {},
   "outputs": [
    {
     "name": "stdout",
     "output_type": "stream",
     "text": [
      "{1, 2, 3.56, 4, 5, 4.7, 7, 'python', 'data'}\n",
      "\n",
      "i is : 1\n",
      "i is : 2\n",
      "i is : 3.56\n",
      "i is : 4\n",
      "i is : 5\n",
      "i is : 4.7\n",
      "i is : 7\n",
      "i is : python\n",
      "i is : data\n"
     ]
    }
   ],
   "source": [
    "set3 = {1,'python',2,3.56,1,4,5,4.7,7,'python','data'}\n",
    "print(set3)\n",
    "print()\n",
    "for i in set3:\n",
    "    print(f\"i is : {i}\")"
   ]
  },
  {
   "cell_type": "code",
   "execution_count": 33,
   "id": "3de3969c",
   "metadata": {},
   "outputs": [
    {
     "name": "stdout",
     "output_type": "stream",
     "text": [
      "{1, 2, 3.56, 4, 5, 4.7, 7, 'python', 'data'}\n",
      "\n",
      "i== 0 and item is : 1\n",
      "i== 1 and item is : 2\n",
      "i== 2 and item is : 3.56\n",
      "i== 3 and item is : 4\n",
      "i== 4 and item is : 5\n",
      "i== 5 and item is : 4.7\n",
      "i== 6 and item is : 7\n",
      "i== 7 and item is : python\n",
      "i== 8 and item is : data\n"
     ]
    }
   ],
   "source": [
    "set3 = {1,'python',2,3.56,1,4,5,4.7,7,'python','data'}\n",
    "print(set3)\n",
    "print()\n",
    "for i,v in enumerate(set3):\n",
    "    print(f\"i== {i} and item is : {v}\")"
   ]
  },
  {
   "cell_type": "code",
   "execution_count": 34,
   "id": "db382911",
   "metadata": {},
   "outputs": [
    {
     "name": "stdout",
     "output_type": "stream",
     "text": [
      "{1, 2, 3.56, 4, 5, 4.7, 7, 'python', 'data'}\n"
     ]
    }
   ],
   "source": [
    "set3 = {1,'python',2,3.56,1,4,5,4.7,7,'python','data'}\n",
    "print(set3)"
   ]
  },
  {
   "cell_type": "code",
   "execution_count": 35,
   "id": "163a4b48",
   "metadata": {},
   "outputs": [
    {
     "name": "stdout",
     "output_type": "stream",
     "text": [
      "4\n",
      "5\n",
      "6\n",
      "7\n",
      "8\n",
      "9\n",
      "[7, 8, 9]\n"
     ]
    }
   ],
   "source": [
    "list1 = [4,5,6,7,8,9]\n",
    "list2 = [7,8,9,1,2,3]\n",
    "new_list = [] #7,8,9\n",
    "\n",
    "for i in list1:\n",
    "    print(i)\n",
    "    if i in list2:\n",
    "        new_list.append(i)\n",
    "        \n",
    "print(new_list)"
   ]
  },
  {
   "cell_type": "code",
   "execution_count": 36,
   "id": "a4ed0813",
   "metadata": {},
   "outputs": [
    {
     "name": "stdout",
     "output_type": "stream",
     "text": [
      "[7, 8, 9]\n"
     ]
    }
   ],
   "source": [
    "list1 = [4,5,6,7,8,9]\n",
    "list2 = [7,8,9,1,2,3]\n",
    "new_list = [] #7,8,9\n",
    "\n",
    "for i in list1:\n",
    "#     print(i)\n",
    "    if i in list2:\n",
    "        new_list.append(i)\n",
    "        \n",
    "print(new_list)"
   ]
  },
  {
   "cell_type": "code",
   "execution_count": 37,
   "id": "5d724a3e",
   "metadata": {},
   "outputs": [
    {
     "name": "stdout",
     "output_type": "stream",
     "text": [
      "[4, 5, 6]\n"
     ]
    }
   ],
   "source": [
    "list1 = [4,5,6,7,8,9]\n",
    "list2 = [7,8,9,1,2,3]\n",
    "new_list = [] #4,5,6\n",
    "\n",
    "for i in list1:\n",
    "#     print(i)\n",
    "    if i not in list2:\n",
    "        new_list.append(i)\n",
    "        \n",
    "print(new_list)"
   ]
  },
  {
   "cell_type": "code",
   "execution_count": 38,
   "id": "cff30761",
   "metadata": {},
   "outputs": [
    {
     "name": "stdout",
     "output_type": "stream",
     "text": [
      "[1, 2, 3]\n"
     ]
    }
   ],
   "source": [
    "list1 = [4,5,6,7,8,9]\n",
    "list2 = [7,8,9,1,2,3]\n",
    "new_list = [] #1,2,3\n",
    "\n",
    "for i in list2:\n",
    "#     print(i)\n",
    "    if i not in list1:\n",
    "        new_list.append(i)\n",
    "        \n",
    "print(new_list)"
   ]
  },
  {
   "cell_type": "markdown",
   "id": "8938a4cc",
   "metadata": {},
   "source": [
    "# 1. add()"
   ]
  },
  {
   "cell_type": "code",
   "execution_count": null,
   "id": "bc6d68d2",
   "metadata": {},
   "outputs": [],
   "source": [
    "it used to add only one item in set\n",
    "variable_name.add(value)"
   ]
  },
  {
   "cell_type": "code",
   "execution_count": 40,
   "id": "ca1e60b6",
   "metadata": {},
   "outputs": [
    {
     "data": {
      "text/plain": [
       "{1, 5, 7, 8, 1000}"
      ]
     },
     "execution_count": 40,
     "metadata": {},
     "output_type": "execute_result"
    }
   ],
   "source": [
    "set1 = {1,5,7,8}    # add 1000\n",
    "set1.add(1000)\n",
    "set1"
   ]
  },
  {
   "cell_type": "code",
   "execution_count": 41,
   "id": "eef0efa8",
   "metadata": {},
   "outputs": [
    {
     "data": {
      "text/plain": [
       "{1, 5, 7, 8, 'data'}"
      ]
     },
     "execution_count": 41,
     "metadata": {},
     "output_type": "execute_result"
    }
   ],
   "source": [
    "set1 = {1,5,7,8}    # add 1000\n",
    "set1.add('data')\n",
    "set1"
   ]
  },
  {
   "cell_type": "code",
   "execution_count": 42,
   "id": "80a8d23b",
   "metadata": {},
   "outputs": [
    {
     "data": {
      "text/plain": [
       "{1, 3.5, 5, 7, 8}"
      ]
     },
     "execution_count": 42,
     "metadata": {},
     "output_type": "execute_result"
    }
   ],
   "source": [
    "set1 = {1,5,7,8}    # add 1000\n",
    "set1.add(3.5)\n",
    "set1"
   ]
  },
  {
   "cell_type": "code",
   "execution_count": 43,
   "id": "c2839c9c",
   "metadata": {},
   "outputs": [
    {
     "data": {
      "text/plain": [
       "{'banglore', 'chennai', 'delhi', 'mumbai', 'pune'}"
      ]
     },
     "execution_count": 43,
     "metadata": {},
     "output_type": "execute_result"
    }
   ],
   "source": [
    "set2 = {'pune', 'mumbai', 'chennai','delhi'} # benglore\n",
    "set2.add('banglore')\n",
    "set2"
   ]
  },
  {
   "cell_type": "code",
   "execution_count": 44,
   "id": "bce5633c",
   "metadata": {},
   "outputs": [
    {
     "data": {
      "text/plain": [
       "{'50', 'chennai', 'delhi', 'mumbai', 'pune'}"
      ]
     },
     "execution_count": 44,
     "metadata": {},
     "output_type": "execute_result"
    }
   ],
   "source": [
    "set2 = {'pune', 'mumbai', 'chennai','delhi'} # benglore\n",
    "set2.add('50')\n",
    "set2"
   ]
  },
  {
   "cell_type": "code",
   "execution_count": 46,
   "id": "a7441967",
   "metadata": {},
   "outputs": [
    {
     "data": {
      "text/plain": [
       "{4500, 'chennai', 'delhi', 'mumbai', 'pune'}"
      ]
     },
     "execution_count": 46,
     "metadata": {},
     "output_type": "execute_result"
    }
   ],
   "source": [
    "set2 = {'pune', 'mumbai', 'chennai','delhi'} # benglore\n",
    "set2.add(4500)\n",
    "set2"
   ]
  },
  {
   "cell_type": "markdown",
   "id": "07da1800",
   "metadata": {},
   "source": [
    "# 2. update()"
   ]
  },
  {
   "cell_type": "code",
   "execution_count": null,
   "id": "a3810672",
   "metadata": {},
   "outputs": [],
   "source": [
    "set_name.update()\n",
    "it will update the set with the unioin of this set and others\n",
    "the object in the update() will be set, list, tuple .... any iterable"
   ]
  },
  {
   "cell_type": "code",
   "execution_count": 47,
   "id": "2f6469a1",
   "metadata": {},
   "outputs": [
    {
     "name": "stdout",
     "output_type": "stream",
     "text": [
      "{1, 2, 5, 7, 8, 10, 45, 78, 20}\n",
      "{1, 2, 5, 10, 45, 78, 20}\n"
     ]
    }
   ],
   "source": [
    "set1 = {1,5,7,8}\n",
    "set2 = {10,20,45,78,2,1,5}\n",
    "set1.update(set2)\n",
    "print(set1)\n",
    "print(set2)"
   ]
  },
  {
   "cell_type": "code",
   "execution_count": 48,
   "id": "53b00b79",
   "metadata": {},
   "outputs": [
    {
     "name": "stdout",
     "output_type": "stream",
     "text": [
      "{8, 1, 5, 7}\n",
      "{1, 2, 5, 7, 8, 10, 45, 78, 20}\n"
     ]
    }
   ],
   "source": [
    "set1 = {1,5,7,8}\n",
    "set2 = {10,20,45,78,2,1,5}\n",
    "set2.update(set1)\n",
    "print(set1)\n",
    "print(set2)"
   ]
  },
  {
   "cell_type": "code",
   "execution_count": 49,
   "id": "39c99077",
   "metadata": {},
   "outputs": [
    {
     "name": "stdout",
     "output_type": "stream",
     "text": [
      "{1, 2, 5, 7, 8, 10, 45, 78, 20}\n",
      "[1, 5, 7, 8]\n"
     ]
    }
   ],
   "source": [
    "set2 = {10,20,45,78,2,1,5}\n",
    "list1 = [1,5,7,8]\n",
    "set2.update(list1)\n",
    "print(set2)\n",
    "print(list1)"
   ]
  },
  {
   "cell_type": "code",
   "execution_count": 50,
   "id": "41be6385",
   "metadata": {},
   "outputs": [
    {
     "name": "stdout",
     "output_type": "stream",
     "text": [
      "{1, 2, 5, 10, 45, 78, 20}\n",
      "[1, 5, 7, 8, 1, 2, 5, 10, 45, 78, 20]\n"
     ]
    }
   ],
   "source": [
    "set2 = {10,20,45,78,2,1,5}\n",
    "list1 = [1,5,7,8]\n",
    "list1.extend(set2)\n",
    "print(set2)\n",
    "print(list1)"
   ]
  },
  {
   "cell_type": "code",
   "execution_count": 51,
   "id": "9c7107db",
   "metadata": {},
   "outputs": [
    {
     "name": "stdout",
     "output_type": "stream",
     "text": [
      "{1, 2, 5, 7, 8, 10, 45, 78, 20}\n",
      "(1, 5, 7, 8)\n"
     ]
    }
   ],
   "source": [
    "set2 = {10,20,45,78,2,1,5}\n",
    "tuple1 = (1,5,7,8)\n",
    "set2.update(tuple1)\n",
    "print(set2)\n",
    "print(tuple1)"
   ]
  },
  {
   "cell_type": "markdown",
   "id": "58ed85dd",
   "metadata": {},
   "source": [
    "# 3. union()"
   ]
  },
  {
   "cell_type": "code",
   "execution_count": null,
   "id": "3160d276",
   "metadata": {},
   "outputs": [],
   "source": [
    "it will return a set containing union of set\n",
    "a  , b\n",
    "a U b\n",
    "union >> if two sets a abd b are given\n",
    "union of a nad b will be-\n",
    "the set that contains all the element present in a and b"
   ]
  },
  {
   "cell_type": "code",
   "execution_count": 55,
   "id": "37cb8b94",
   "metadata": {},
   "outputs": [
    {
     "name": "stdout",
     "output_type": "stream",
     "text": [
      "set1 :  {2, 5, 6, 7, 8}\n",
      "set2 :  {5, 6, 40, 10, 20, 30}\n",
      "new_set  : {2, 5, 6, 7, 8, 40, 10, 20, 30}\n"
     ]
    }
   ],
   "source": [
    "set1 = {5,6,7,2,8}\n",
    "set2 = {10,20,5,6,30,40}\n",
    "new_set = set1.union(set2)\n",
    "print(\"set1 : \",set1)\n",
    "print(\"set2 : \",set2)\n",
    "print(\"new_set  :\",new_set)"
   ]
  },
  {
   "cell_type": "code",
   "execution_count": 56,
   "id": "d26e150e",
   "metadata": {},
   "outputs": [
    {
     "name": "stdout",
     "output_type": "stream",
     "text": [
      "set1 :  {2, 5, 6, 7, 8}\n",
      "set2 :  {5, 6, 40, 10, 20, 30}\n",
      "set3 :  {65, 45, 78, 50, 88}\n",
      "new_set  : {65, 2, 5, 6, 7, 8, 40, 10, 45, 78, 50, 20, 88, 30}\n"
     ]
    }
   ],
   "source": [
    "set1 = {5,6,7,2,8}\n",
    "set2 = {10,20,5,6,30,40}\n",
    "set3 = {50,45,65,78,88}\n",
    "new_set = set1.union(set2,set3)\n",
    "print(\"set1 : \",set1)\n",
    "print(\"set2 : \",set2)\n",
    "print(\"set3 : \",set3)\n",
    "print(\"new_set  :\",new_set)"
   ]
  },
  {
   "cell_type": "markdown",
   "id": "a5877f54",
   "metadata": {},
   "source": [
    "# delete item from set"
   ]
  },
  {
   "cell_type": "code",
   "execution_count": null,
   "id": "55701a86",
   "metadata": {},
   "outputs": [],
   "source": [
    "1. remove()\n",
    "2. discard()\n",
    "3. clear()\n",
    "4. pop()"
   ]
  },
  {
   "cell_type": "markdown",
   "id": "3fabde34",
   "metadata": {},
   "source": [
    "### 1. remove()"
   ]
  },
  {
   "cell_type": "code",
   "execution_count": null,
   "id": "9cdc7990",
   "metadata": {},
   "outputs": [],
   "source": [
    "set_name.remove(item)\n",
    "remove the specified item"
   ]
  },
  {
   "cell_type": "code",
   "execution_count": 58,
   "id": "57a2b2d7",
   "metadata": {},
   "outputs": [
    {
     "data": {
      "text/plain": [
       "{5, 6, 10, 20, 40}"
      ]
     },
     "execution_count": 58,
     "metadata": {},
     "output_type": "execute_result"
    }
   ],
   "source": [
    "set2 = {10,20,5,6,30,40}\n",
    "set2.remove(30)\n",
    "set2"
   ]
  },
  {
   "cell_type": "code",
   "execution_count": 59,
   "id": "4c450e38",
   "metadata": {},
   "outputs": [
    {
     "ename": "KeyError",
     "evalue": "4",
     "output_type": "error",
     "traceback": [
      "\u001b[1;31m---------------------------------------------------------------------------\u001b[0m",
      "\u001b[1;31mKeyError\u001b[0m                                  Traceback (most recent call last)",
      "\u001b[1;32m<ipython-input-59-e7e8ad0bf55f>\u001b[0m in \u001b[0;36m<module>\u001b[1;34m\u001b[0m\n\u001b[0;32m      1\u001b[0m \u001b[0mset2\u001b[0m \u001b[1;33m=\u001b[0m \u001b[1;33m{\u001b[0m\u001b[1;36m10\u001b[0m\u001b[1;33m,\u001b[0m\u001b[1;36m20\u001b[0m\u001b[1;33m,\u001b[0m\u001b[1;36m5\u001b[0m\u001b[1;33m,\u001b[0m\u001b[1;36m6\u001b[0m\u001b[1;33m,\u001b[0m\u001b[1;36m30\u001b[0m\u001b[1;33m,\u001b[0m\u001b[1;36m40\u001b[0m\u001b[1;33m}\u001b[0m\u001b[1;33m\u001b[0m\u001b[1;33m\u001b[0m\u001b[0m\n\u001b[1;32m----> 2\u001b[1;33m \u001b[0mset2\u001b[0m\u001b[1;33m.\u001b[0m\u001b[0mremove\u001b[0m\u001b[1;33m(\u001b[0m\u001b[1;36m4\u001b[0m\u001b[1;33m)\u001b[0m\u001b[1;33m\u001b[0m\u001b[1;33m\u001b[0m\u001b[0m\n\u001b[0m\u001b[0;32m      3\u001b[0m \u001b[0mset2\u001b[0m\u001b[1;33m\u001b[0m\u001b[1;33m\u001b[0m\u001b[0m\n",
      "\u001b[1;31mKeyError\u001b[0m: 4"
     ]
    }
   ],
   "source": [
    "set2 = {10,20,5,6,30,40}\n",
    "set2.remove(4)\n",
    "set2"
   ]
  },
  {
   "cell_type": "code",
   "execution_count": 60,
   "id": "bc99af23",
   "metadata": {},
   "outputs": [
    {
     "data": {
      "text/plain": [
       "{5, 6, 10, 20, 30}"
      ]
     },
     "execution_count": 60,
     "metadata": {},
     "output_type": "execute_result"
    }
   ],
   "source": [
    "set2 = {10,20,5,6,30,40}\n",
    "set2.remove(40)\n",
    "set2"
   ]
  },
  {
   "cell_type": "code",
   "execution_count": 61,
   "id": "88f23369",
   "metadata": {},
   "outputs": [
    {
     "data": {
      "text/plain": [
       "{6, 10, 20, 30, 40}"
      ]
     },
     "execution_count": 61,
     "metadata": {},
     "output_type": "execute_result"
    }
   ],
   "source": [
    "set2 = {10,20,5,6,30,40}\n",
    "set2.remove(5)\n",
    "set2"
   ]
  },
  {
   "cell_type": "code",
   "execution_count": 62,
   "id": "f4238af1",
   "metadata": {},
   "outputs": [
    {
     "data": {
      "text/plain": [
       "{'chennai', 'delhi', 'pune'}"
      ]
     },
     "execution_count": 62,
     "metadata": {},
     "output_type": "execute_result"
    }
   ],
   "source": [
    "set2 = {'pune', 'mumbai', 'chennai','delhi'} # mumbai\n",
    "set2.remove('mumbai')\n",
    "set2"
   ]
  },
  {
   "cell_type": "code",
   "execution_count": 63,
   "id": "373c8fa2",
   "metadata": {},
   "outputs": [
    {
     "ename": "KeyError",
     "evalue": "'Mumbai'",
     "output_type": "error",
     "traceback": [
      "\u001b[1;31m---------------------------------------------------------------------------\u001b[0m",
      "\u001b[1;31mKeyError\u001b[0m                                  Traceback (most recent call last)",
      "\u001b[1;32m<ipython-input-63-6f93ccd342db>\u001b[0m in \u001b[0;36m<module>\u001b[1;34m\u001b[0m\n\u001b[0;32m      1\u001b[0m \u001b[0mset2\u001b[0m \u001b[1;33m=\u001b[0m \u001b[1;33m{\u001b[0m\u001b[1;34m'pune'\u001b[0m\u001b[1;33m,\u001b[0m \u001b[1;34m'mumbai'\u001b[0m\u001b[1;33m,\u001b[0m \u001b[1;34m'chennai'\u001b[0m\u001b[1;33m,\u001b[0m\u001b[1;34m'delhi'\u001b[0m\u001b[1;33m}\u001b[0m \u001b[1;31m# mumbai\u001b[0m\u001b[1;33m\u001b[0m\u001b[1;33m\u001b[0m\u001b[0m\n\u001b[1;32m----> 2\u001b[1;33m \u001b[0mset2\u001b[0m\u001b[1;33m.\u001b[0m\u001b[0mremove\u001b[0m\u001b[1;33m(\u001b[0m\u001b[1;34m'Mumbai'\u001b[0m\u001b[1;33m)\u001b[0m\u001b[1;33m\u001b[0m\u001b[1;33m\u001b[0m\u001b[0m\n\u001b[0m\u001b[0;32m      3\u001b[0m \u001b[0mset2\u001b[0m\u001b[1;33m\u001b[0m\u001b[1;33m\u001b[0m\u001b[0m\n",
      "\u001b[1;31mKeyError\u001b[0m: 'Mumbai'"
     ]
    }
   ],
   "source": [
    "set2 = {'pune', 'mumbai', 'chennai','delhi'} # mumbai\n",
    "set2.remove('Mumbai')\n",
    "set2"
   ]
  },
  {
   "cell_type": "code",
   "execution_count": 65,
   "id": "a64967ba",
   "metadata": {},
   "outputs": [
    {
     "data": {
      "text/plain": [
       "{'delhi', 'mumbai', 'pune'}"
      ]
     },
     "execution_count": 65,
     "metadata": {},
     "output_type": "execute_result"
    }
   ],
   "source": [
    "set2 = {'pune', 'mumbai', 'chennai','delhi'} # mumbai\n",
    "set2.remove('chennai')\n",
    "set2"
   ]
  },
  {
   "cell_type": "markdown",
   "id": "6c2c4047",
   "metadata": {},
   "source": [
    "### 2. discard()"
   ]
  },
  {
   "cell_type": "code",
   "execution_count": null,
   "id": "b11b3ad5",
   "metadata": {},
   "outputs": [],
   "source": [
    "set_name.discard(value)\n",
    "it will remove/discard the specified item\n",
    "it does not raise error if specified item is not found"
   ]
  },
  {
   "cell_type": "code",
   "execution_count": 66,
   "id": "bb14f1e5",
   "metadata": {},
   "outputs": [
    {
     "data": {
      "text/plain": [
       "{5, 6, 10, 20, 40}"
      ]
     },
     "execution_count": 66,
     "metadata": {},
     "output_type": "execute_result"
    }
   ],
   "source": [
    "set2 = {10,20,5,6,30,40}\n",
    "set2.discard(30)\n",
    "set2"
   ]
  },
  {
   "cell_type": "code",
   "execution_count": 68,
   "id": "8cd909e0",
   "metadata": {},
   "outputs": [
    {
     "data": {
      "text/plain": [
       "{5, 6, 10, 20, 30, 40}"
      ]
     },
     "execution_count": 68,
     "metadata": {},
     "output_type": "execute_result"
    }
   ],
   "source": [
    "set2 = {10,20,5,6,30,40}\n",
    "set2.discard(4)\n",
    "set2"
   ]
  },
  {
   "cell_type": "code",
   "execution_count": 70,
   "id": "b9265e34",
   "metadata": {},
   "outputs": [
    {
     "data": {
      "text/plain": [
       "{'chennai', 'delhi', 'pune'}"
      ]
     },
     "execution_count": 70,
     "metadata": {},
     "output_type": "execute_result"
    }
   ],
   "source": [
    "set2 = {'pune', 'mumbai', 'chennai','delhi'} # mumbai\n",
    "set2.discard('mumbai')\n",
    "set2"
   ]
  },
  {
   "cell_type": "code",
   "execution_count": 71,
   "id": "7741ecb9",
   "metadata": {},
   "outputs": [
    {
     "data": {
      "text/plain": [
       "{'chennai', 'delhi', 'mumbai', 'pune'}"
      ]
     },
     "execution_count": 71,
     "metadata": {},
     "output_type": "execute_result"
    }
   ],
   "source": [
    "set2 = {'pune', 'mumbai', 'chennai','delhi'} # mumbai\n",
    "set2.discard('muMbai')\n",
    "set2"
   ]
  },
  {
   "cell_type": "markdown",
   "id": "ebd2909a",
   "metadata": {},
   "source": [
    "### 3. pop()"
   ]
  },
  {
   "cell_type": "code",
   "execution_count": null,
   "id": "32d9d388",
   "metadata": {},
   "outputs": [],
   "source": [
    "set_name.pop()\n",
    "it will remove random item from set\n",
    "it will return the removed item"
   ]
  },
  {
   "cell_type": "code",
   "execution_count": 72,
   "id": "ccdc9fe4",
   "metadata": {},
   "outputs": [
    {
     "data": {
      "text/plain": [
       "{'chennai', 'delhi', 'pune'}"
      ]
     },
     "execution_count": 72,
     "metadata": {},
     "output_type": "execute_result"
    }
   ],
   "source": [
    "set2 = {'pune', 'mumbai', 'chennai','delhi'} \n",
    "set2.pop()\n",
    "set2"
   ]
  },
  {
   "cell_type": "code",
   "execution_count": 73,
   "id": "8c669e95",
   "metadata": {},
   "outputs": [
    {
     "data": {
      "text/plain": [
       "{6, 10, 20, 30, 40}"
      ]
     },
     "execution_count": 73,
     "metadata": {},
     "output_type": "execute_result"
    }
   ],
   "source": [
    "set2 = {10,20,5,6,30,40}\n",
    "set2.pop()\n",
    "set2"
   ]
  },
  {
   "cell_type": "code",
   "execution_count": 74,
   "id": "4f27c2ed",
   "metadata": {},
   "outputs": [
    {
     "data": {
      "text/plain": [
       "'mumbai'"
      ]
     },
     "execution_count": 74,
     "metadata": {},
     "output_type": "execute_result"
    }
   ],
   "source": [
    "set2 = {'pune', 'mumbai', 'chennai','delhi'} \n",
    "set2.pop()"
   ]
  },
  {
   "cell_type": "code",
   "execution_count": 75,
   "id": "c5d979a3",
   "metadata": {},
   "outputs": [
    {
     "data": {
      "text/plain": [
       "1"
      ]
     },
     "execution_count": 75,
     "metadata": {},
     "output_type": "execute_result"
    }
   ],
   "source": [
    "set3 = {1,'python',2,3.56,1,4,5,4.7,7,'python','data'}\n",
    "set3.pop()"
   ]
  },
  {
   "cell_type": "markdown",
   "id": "7171b634",
   "metadata": {},
   "source": [
    "### 4. clear()"
   ]
  },
  {
   "cell_type": "code",
   "execution_count": null,
   "id": "34474810",
   "metadata": {},
   "outputs": [],
   "source": [
    "set_name.clear()\n",
    "removes all the element from set"
   ]
  },
  {
   "cell_type": "code",
   "execution_count": 80,
   "id": "2b02b555",
   "metadata": {},
   "outputs": [],
   "source": [
    "set3 = {1,'python',2,3.56,1,4,5,4.7,7,'python','data'}\n",
    "set3.clear()"
   ]
  },
  {
   "cell_type": "code",
   "execution_count": 81,
   "id": "2dfc2cc2",
   "metadata": {},
   "outputs": [
    {
     "data": {
      "text/plain": [
       "set()"
      ]
     },
     "execution_count": 81,
     "metadata": {},
     "output_type": "execute_result"
    }
   ],
   "source": [
    "set3"
   ]
  },
  {
   "cell_type": "code",
   "execution_count": 82,
   "id": "8eac7268",
   "metadata": {},
   "outputs": [
    {
     "data": {
      "text/plain": [
       "set"
      ]
     },
     "execution_count": 82,
     "metadata": {},
     "output_type": "execute_result"
    }
   ],
   "source": [
    "type(set3)"
   ]
  },
  {
   "cell_type": "markdown",
   "id": "1f7f2187",
   "metadata": {},
   "source": [
    "### delete"
   ]
  },
  {
   "cell_type": "code",
   "execution_count": 78,
   "id": "fa5d6d92",
   "metadata": {},
   "outputs": [],
   "source": [
    "set3 = {1,'python',2,3.56,1,4,5,4.7,7,'python','data'}\n",
    "del set3"
   ]
  },
  {
   "cell_type": "code",
   "execution_count": 79,
   "id": "97a4c30f",
   "metadata": {},
   "outputs": [
    {
     "ename": "NameError",
     "evalue": "name 'set3' is not defined",
     "output_type": "error",
     "traceback": [
      "\u001b[1;31m---------------------------------------------------------------------------\u001b[0m",
      "\u001b[1;31mNameError\u001b[0m                                 Traceback (most recent call last)",
      "\u001b[1;32m<ipython-input-79-131c8e4e3e6d>\u001b[0m in \u001b[0;36m<module>\u001b[1;34m\u001b[0m\n\u001b[1;32m----> 1\u001b[1;33m \u001b[0mset3\u001b[0m\u001b[1;33m\u001b[0m\u001b[1;33m\u001b[0m\u001b[0m\n\u001b[0m",
      "\u001b[1;31mNameError\u001b[0m: name 'set3' is not defined"
     ]
    }
   ],
   "source": [
    "set3"
   ]
  },
  {
   "cell_type": "markdown",
   "id": "d4897f80",
   "metadata": {},
   "source": [
    "# Other set functions"
   ]
  },
  {
   "cell_type": "markdown",
   "id": "cff9f741",
   "metadata": {},
   "source": [
    "### 1. intersection()"
   ]
  },
  {
   "cell_type": "code",
   "execution_count": null,
   "id": "b4e05d7a",
   "metadata": {},
   "outputs": [],
   "source": [
    "it will return a set that contains simillirity between two or more set\n",
    "set_name.intersection(set1,set2.....)"
   ]
  },
  {
   "cell_type": "code",
   "execution_count": 83,
   "id": "2a7a5912",
   "metadata": {},
   "outputs": [
    {
     "name": "stdout",
     "output_type": "stream",
     "text": [
      "set1 :  {2, 3, 4, 5, 6, 7}\n",
      "set2 :  {5, 6, 7, 8, 9, 10, 11}\n",
      "new_set  : {5, 6, 7}\n"
     ]
    }
   ],
   "source": [
    "set1 = {2,3,4,5,6,7} #6\n",
    "set2 = {5,6,7,8,9,10,11}# 7\n",
    "\n",
    "new_set = set1.intersection(set2)\n",
    "print(\"set1 : \",set1)\n",
    "print(\"set2 : \",set2)\n",
    "print(\"new_set  :\",new_set)"
   ]
  },
  {
   "cell_type": "code",
   "execution_count": 89,
   "id": "3753abb2",
   "metadata": {},
   "outputs": [
    {
     "name": "stdout",
     "output_type": "stream",
     "text": [
      "set1 :  {2, 3, 4, 5, 6, 7, 'data'}\n",
      "set2 :  {5, 6, 7, 8, 9, 10, 11, 'data'}\n",
      "set3 :  {5, 6, 45, 50, 'data', 60}\n",
      "new_set  : {'data', 5, 6}\n"
     ]
    }
   ],
   "source": [
    "set1 = {2,3,4,5,6,'data',7} #6\n",
    "set2 = {5,6,7,8,9,'data',10,11}# 7\n",
    "set3 = {'data',45,50,5,60,6}\n",
    "\n",
    "\n",
    "new_set = set1.intersection(set2,set3)\n",
    "print(\"set1 : \",set1)\n",
    "print(\"set2 : \",set2)\n",
    "print(\"set3 : \",set3)\n",
    "print(\"new_set  :\",new_set)"
   ]
  },
  {
   "cell_type": "code",
   "execution_count": 90,
   "id": "36d97cba",
   "metadata": {},
   "outputs": [
    {
     "data": {
      "text/plain": [
       "{'chennai', 'pune'}"
      ]
     },
     "execution_count": 90,
     "metadata": {},
     "output_type": "execute_result"
    }
   ],
   "source": [
    "set2 = {'pune', 'mumbai', 'chennai','delhi'}\n",
    "set3 = {'pune', 'banglore', 'chennai','kolkata'}\n",
    "city = set3.intersection(set2)\n",
    "city"
   ]
  },
  {
   "cell_type": "code",
   "execution_count": 91,
   "id": "1f466ef8",
   "metadata": {},
   "outputs": [
    {
     "data": {
      "text/plain": [
       "{'chennai', 'pune'}"
      ]
     },
     "execution_count": 91,
     "metadata": {},
     "output_type": "execute_result"
    }
   ],
   "source": [
    "set2 = {'pune', 'mumbai', 'chennai','delhi'}\n",
    "set3 = {'pune', 'banglore', 'chennai','kolkata'}\n",
    "city = set2.intersection(set3)\n",
    "city"
   ]
  },
  {
   "cell_type": "markdown",
   "id": "3469cc2b",
   "metadata": {},
   "source": [
    "### 2. intersection_update"
   ]
  },
  {
   "cell_type": "code",
   "execution_count": null,
   "id": "cb6f147b",
   "metadata": {},
   "outputs": [],
   "source": [
    "set_name.intersection_update(set1,2,3....)\n",
    "it removes the items that are not present in both set\n",
    ">>intersection update will remove unwanted items from the original set\n",
    ">> intersection>> gives new set without unwanted items"
   ]
  },
  {
   "cell_type": "code",
   "execution_count": 92,
   "id": "71b038d1",
   "metadata": {},
   "outputs": [
    {
     "name": "stdout",
     "output_type": "stream",
     "text": [
      "set2 :  {'chennai', 'pune'}\n",
      "set3 :  {'kolkata', 'banglore', 'chennai', 'pune'}\n"
     ]
    }
   ],
   "source": [
    "set2 = {'pune', 'mumbai', 'chennai','delhi'}\n",
    "set3 = {'pune', 'banglore', 'chennai','kolkata'}\n",
    "set2.intersection_update(set3)\n",
    "\n",
    "print(\"set2 : \",set2)\n",
    "print(\"set3 : \",set3)"
   ]
  },
  {
   "cell_type": "code",
   "execution_count": 93,
   "id": "447b5c1b",
   "metadata": {},
   "outputs": [
    {
     "name": "stdout",
     "output_type": "stream",
     "text": [
      "set2 :  {'mumbai', 'chennai', 'pune', 'delhi'}\n",
      "set3 :  {'chennai', 'pune'}\n"
     ]
    }
   ],
   "source": [
    "set2 = {'pune', 'mumbai', 'chennai','delhi'}\n",
    "set3 = {'pune', 'banglore', 'chennai','kolkata'}\n",
    "set3.intersection_update(set2)\n",
    "\n",
    "print(\"set2 : \",set2)\n",
    "print(\"set3 : \",set3)"
   ]
  },
  {
   "cell_type": "code",
   "execution_count": 94,
   "id": "38c9d289",
   "metadata": {},
   "outputs": [
    {
     "name": "stdout",
     "output_type": "stream",
     "text": [
      "set1 :  {'data', 5, 6}\n",
      "set2 :  {5, 6, 7, 8, 9, 10, 11, 'data'}\n",
      "set3 :  {5, 6, 45, 50, 'data', 60}\n"
     ]
    }
   ],
   "source": [
    "set1 = {2,3,4,5,6,'data',7}\n",
    "set2 = {5,6,7,8,9,'data',10,11}\n",
    "set3 = {'data',45,50,5,60,6}\n",
    "\n",
    "\n",
    "set1.intersection_update(set2,set3)\n",
    "print(\"set1 : \",set1)\n",
    "print(\"set2 : \",set2)\n",
    "print(\"set3 : \",set3)\n"
   ]
  },
  {
   "cell_type": "code",
   "execution_count": 97,
   "id": "5c1dda37",
   "metadata": {},
   "outputs": [
    {
     "name": "stdout",
     "output_type": "stream",
     "text": [
      "set1 :  {2, 3, 4, 5, 6, 7, 'data'}\n",
      "set2 :  {5, 6, 7, 8, 9, 10, 11, 'data'}\n",
      "set3 :  {5, 6, 45, 50, 'data', 60}\n",
      "new_set  : {'data', 5, 6}\n"
     ]
    }
   ],
   "source": [
    "set1 = {2,3,4,5,6,'data',7} #6\n",
    "set2 = {5,6,7,8,9,'data',10,11}# 7\n",
    "set3 = {'data',45,50,5,60,6}\n",
    "\n",
    "\n",
    "new_set = set1.intersection(set2,set3)\n",
    "print(\"set1 : \",set1)\n",
    "print(\"set2 : \",set2)\n",
    "print(\"set3 : \",set3)\n",
    "print(\"new_set  :\",new_set)"
   ]
  },
  {
   "cell_type": "code",
   "execution_count": null,
   "id": "21505785",
   "metadata": {},
   "outputs": [],
   "source": []
  },
  {
   "cell_type": "code",
   "execution_count": null,
   "id": "4a59099a",
   "metadata": {},
   "outputs": [],
   "source": []
  },
  {
   "cell_type": "code",
   "execution_count": null,
   "id": "7985d4e8",
   "metadata": {},
   "outputs": [],
   "source": []
  },
  {
   "cell_type": "code",
   "execution_count": null,
   "id": "cc5cd723",
   "metadata": {},
   "outputs": [],
   "source": []
  }
 ],
 "metadata": {
  "kernelspec": {
   "display_name": "Python 3 (ipykernel)",
   "language": "python",
   "name": "python3"
  },
  "language_info": {
   "codemirror_mode": {
    "name": "ipython",
    "version": 3
   },
   "file_extension": ".py",
   "mimetype": "text/x-python",
   "name": "python",
   "nbconvert_exporter": "python",
   "pygments_lexer": "ipython3",
   "version": "3.9.12"
  }
 },
 "nbformat": 4,
 "nbformat_minor": 5
}
