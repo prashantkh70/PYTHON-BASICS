{
 "cells": [
  {
   "cell_type": "markdown",
   "id": "ff8f22c3",
   "metadata": {},
   "source": [
    "### set"
   ]
  },
  {
   "cell_type": "code",
   "execution_count": null,
   "id": "b7043ac2",
   "metadata": {},
   "outputs": [],
   "source": [
    "mutable\n",
    "unordered\n",
    "duplicates not allowed\n",
    "indexing is not allowed\n",
    "{}"
   ]
  },
  {
   "cell_type": "markdown",
   "id": "8999694f",
   "metadata": {},
   "source": [
    "# Frozenset"
   ]
  },
  {
   "cell_type": "code",
   "execution_count": null,
   "id": "29e6b527",
   "metadata": {},
   "outputs": [],
   "source": [
    "It returns an unchangable frozenset object (which is simillar to set object, only unchangable)\n",
    ">> it is unchangable version of set"
   ]
  },
  {
   "cell_type": "code",
   "execution_count": null,
   "id": "1ab192f7",
   "metadata": {},
   "outputs": [],
   "source": [
    "syntax:\n",
    "    frozenset()  >>> an iterable object like list,set, tuple...."
   ]
  },
  {
   "cell_type": "code",
   "execution_count": 3,
   "id": "f2d7b257",
   "metadata": {},
   "outputs": [
    {
     "name": "stdout",
     "output_type": "stream",
     "text": [
      "frozenset({1, 3.5, 52, 'python'})\n"
     ]
    },
    {
     "data": {
      "text/plain": [
       "frozenset"
      ]
     },
     "execution_count": 3,
     "metadata": {},
     "output_type": "execute_result"
    }
   ],
   "source": [
    "set1 = {1,'python',3.5,52}\n",
    "x =frozenset(set1)\n",
    "print(x)\n",
    "type(x)"
   ]
  },
  {
   "cell_type": "code",
   "execution_count": 6,
   "id": "0885f04a",
   "metadata": {},
   "outputs": [
    {
     "name": "stdout",
     "output_type": "stream",
     "text": [
      "frozenset({1, 3.5, 52, 'python'})\n"
     ]
    },
    {
     "data": {
      "text/plain": [
       "frozenset"
      ]
     },
     "execution_count": 6,
     "metadata": {},
     "output_type": "execute_result"
    }
   ],
   "source": [
    "L1 = [1,'python',3.5,52,52,52,52,52,52]\n",
    "x =frozenset(L1)\n",
    "print(x)\n",
    "type(x)"
   ]
  },
  {
   "cell_type": "code",
   "execution_count": 5,
   "id": "72f0b700",
   "metadata": {},
   "outputs": [
    {
     "name": "stdout",
     "output_type": "stream",
     "text": [
      "frozenset({1, 3.5, 52, 'python'})\n"
     ]
    },
    {
     "data": {
      "text/plain": [
       "frozenset"
      ]
     },
     "execution_count": 5,
     "metadata": {},
     "output_type": "execute_result"
    }
   ],
   "source": [
    "t1 = (1,'python',3.5,52)\n",
    "x =frozenset(t1)\n",
    "print(x)\n",
    "type(x)"
   ]
  },
  {
   "cell_type": "markdown",
   "id": "c959c9f7",
   "metadata": {},
   "source": [
    "### Frozenset :-"
   ]
  },
  {
   "cell_type": "code",
   "execution_count": null,
   "id": "eb43f3eb",
   "metadata": {},
   "outputs": [],
   "source": [
    "1. Immutable\n",
    "2. Unordered\n",
    "3. duplicates are not allowed\n",
    "4. indexing is not allowed"
   ]
  },
  {
   "cell_type": "markdown",
   "id": "fe78eda4",
   "metadata": {},
   "source": [
    "### Frozenset Functions"
   ]
  },
  {
   "cell_type": "code",
   "execution_count": null,
   "id": "7afe2148",
   "metadata": {},
   "outputs": [],
   "source": [
    "1. union\n",
    "2. intersection\n",
    "3. difference\n",
    "4. symmetric_difference\n",
    "5. issuperset\n",
    "6. issubset\n",
    "7. isdisjoint\n",
    "8. copy"
   ]
  },
  {
   "cell_type": "code",
   "execution_count": 7,
   "id": "8b99c8c7",
   "metadata": {},
   "outputs": [
    {
     "data": {
      "text/plain": [
       "{1, 100, 3.5, 52, 'python'}"
      ]
     },
     "execution_count": 7,
     "metadata": {},
     "output_type": "execute_result"
    }
   ],
   "source": [
    "set1 = {1,'python',3.5,52}\n",
    "set1.add(100)\n",
    "set1"
   ]
  },
  {
   "cell_type": "code",
   "execution_count": 8,
   "id": "dc63c881",
   "metadata": {},
   "outputs": [
    {
     "ename": "AttributeError",
     "evalue": "'frozenset' object has no attribute 'add'",
     "output_type": "error",
     "traceback": [
      "\u001b[1;31m---------------------------------------------------------------------------\u001b[0m",
      "\u001b[1;31mAttributeError\u001b[0m                            Traceback (most recent call last)",
      "\u001b[1;32m<ipython-input-8-9fcaf821f329>\u001b[0m in \u001b[0;36m<module>\u001b[1;34m\u001b[0m\n\u001b[0;32m      1\u001b[0m \u001b[0mset1\u001b[0m \u001b[1;33m=\u001b[0m \u001b[0mfrozenset\u001b[0m\u001b[1;33m(\u001b[0m\u001b[1;33m{\u001b[0m\u001b[1;36m1\u001b[0m\u001b[1;33m,\u001b[0m\u001b[1;34m'python'\u001b[0m\u001b[1;33m,\u001b[0m\u001b[1;36m3.5\u001b[0m\u001b[1;33m,\u001b[0m\u001b[1;36m52\u001b[0m\u001b[1;33m}\u001b[0m\u001b[1;33m)\u001b[0m\u001b[1;33m\u001b[0m\u001b[1;33m\u001b[0m\u001b[0m\n\u001b[1;32m----> 2\u001b[1;33m \u001b[0mset1\u001b[0m\u001b[1;33m.\u001b[0m\u001b[0madd\u001b[0m\u001b[1;33m(\u001b[0m\u001b[1;36m100\u001b[0m\u001b[1;33m)\u001b[0m\u001b[1;33m\u001b[0m\u001b[1;33m\u001b[0m\u001b[0m\n\u001b[0m\u001b[0;32m      3\u001b[0m \u001b[0mset1\u001b[0m\u001b[1;33m\u001b[0m\u001b[1;33m\u001b[0m\u001b[0m\n",
      "\u001b[1;31mAttributeError\u001b[0m: 'frozenset' object has no attribute 'add'"
     ]
    }
   ],
   "source": [
    "set1 = frozenset({1,'python',3.5,52})\n",
    "set1.add(100)\n",
    "set1"
   ]
  },
  {
   "cell_type": "code",
   "execution_count": 12,
   "id": "27b1b94d",
   "metadata": {},
   "outputs": [
    {
     "data": {
      "text/plain": [
       "{2, 5, 6, 7, 8, 10, 20, 30, 40}"
      ]
     },
     "execution_count": 12,
     "metadata": {},
     "output_type": "execute_result"
    }
   ],
   "source": [
    "set1 = {5,6,7,2,8}\n",
    "set2 = frozenset({10,20,5,6,30,40})\n",
    "set1.update(set2)\n",
    "set1"
   ]
  },
  {
   "cell_type": "code",
   "execution_count": 11,
   "id": "775e2aaf",
   "metadata": {},
   "outputs": [
    {
     "ename": "AttributeError",
     "evalue": "'frozenset' object has no attribute 'update'",
     "output_type": "error",
     "traceback": [
      "\u001b[1;31m---------------------------------------------------------------------------\u001b[0m",
      "\u001b[1;31mAttributeError\u001b[0m                            Traceback (most recent call last)",
      "\u001b[1;32m<ipython-input-11-3b43c6a79337>\u001b[0m in \u001b[0;36m<module>\u001b[1;34m\u001b[0m\n\u001b[0;32m      1\u001b[0m \u001b[0mset1\u001b[0m \u001b[1;33m=\u001b[0m \u001b[0mfrozenset\u001b[0m\u001b[1;33m(\u001b[0m\u001b[1;33m{\u001b[0m\u001b[1;36m5\u001b[0m\u001b[1;33m,\u001b[0m\u001b[1;36m6\u001b[0m\u001b[1;33m,\u001b[0m\u001b[1;36m7\u001b[0m\u001b[1;33m,\u001b[0m\u001b[1;36m2\u001b[0m\u001b[1;33m,\u001b[0m\u001b[1;36m8\u001b[0m\u001b[1;33m}\u001b[0m\u001b[1;33m)\u001b[0m\u001b[1;33m\u001b[0m\u001b[1;33m\u001b[0m\u001b[0m\n\u001b[0;32m      2\u001b[0m \u001b[0mset2\u001b[0m \u001b[1;33m=\u001b[0m \u001b[0mfrozenset\u001b[0m\u001b[1;33m(\u001b[0m\u001b[1;33m{\u001b[0m\u001b[1;36m10\u001b[0m\u001b[1;33m,\u001b[0m\u001b[1;36m20\u001b[0m\u001b[1;33m,\u001b[0m\u001b[1;36m5\u001b[0m\u001b[1;33m,\u001b[0m\u001b[1;36m6\u001b[0m\u001b[1;33m,\u001b[0m\u001b[1;36m30\u001b[0m\u001b[1;33m,\u001b[0m\u001b[1;36m40\u001b[0m\u001b[1;33m}\u001b[0m\u001b[1;33m)\u001b[0m\u001b[1;33m\u001b[0m\u001b[1;33m\u001b[0m\u001b[0m\n\u001b[1;32m----> 3\u001b[1;33m \u001b[0mset1\u001b[0m\u001b[1;33m.\u001b[0m\u001b[0mupdate\u001b[0m\u001b[1;33m(\u001b[0m\u001b[0mset2\u001b[0m\u001b[1;33m)\u001b[0m\u001b[1;33m\u001b[0m\u001b[1;33m\u001b[0m\u001b[0m\n\u001b[0m\u001b[0;32m      4\u001b[0m \u001b[0mset1\u001b[0m\u001b[1;33m\u001b[0m\u001b[1;33m\u001b[0m\u001b[0m\n",
      "\u001b[1;31mAttributeError\u001b[0m: 'frozenset' object has no attribute 'update'"
     ]
    }
   ],
   "source": [
    "set1 = frozenset({5,6,7,2,8})\n",
    "set2 = frozenset({10,20,5,6,30,40})\n",
    "set1.update(set2)\n",
    "set1"
   ]
  },
  {
   "cell_type": "markdown",
   "id": "598caefc",
   "metadata": {},
   "source": [
    "### 1. union"
   ]
  },
  {
   "cell_type": "code",
   "execution_count": 14,
   "id": "84815c63",
   "metadata": {},
   "outputs": [
    {
     "name": "stdout",
     "output_type": "stream",
     "text": [
      "frozenset({3, 4, 5, 6})\n",
      "frozenset({8, 5, 6, 7})\n",
      "frozenset({3, 4, 5, 6, 7, 8})\n"
     ]
    }
   ],
   "source": [
    "fs1 = frozenset({3,4,5,6,5})\n",
    "fs2 = frozenset({5,6,7,8})\n",
    "new_fs = fs1.union(fs2)\n",
    "\n",
    "print(fs1)\n",
    "print(fs2)\n",
    "print(new_fs)"
   ]
  },
  {
   "cell_type": "markdown",
   "id": "883680db",
   "metadata": {},
   "source": [
    "### 2. intersection"
   ]
  },
  {
   "cell_type": "code",
   "execution_count": 16,
   "id": "eb8a88a4",
   "metadata": {},
   "outputs": [
    {
     "name": "stdout",
     "output_type": "stream",
     "text": [
      "frozenset({3, 4, 5, 6, 7})\n",
      "frozenset({8, 5, 6, 7})\n",
      "frozenset({5, 6, 7})\n"
     ]
    }
   ],
   "source": [
    "fs1 = frozenset({3,4,5,6,5,7})\n",
    "fs2 = frozenset({5,6,7,8})\n",
    "new_fs = fs1.intersection(fs2)\n",
    "\n",
    "print(fs1)\n",
    "print(fs2)\n",
    "print(new_fs)"
   ]
  },
  {
   "cell_type": "code",
   "execution_count": 17,
   "id": "acb67f4d",
   "metadata": {},
   "outputs": [
    {
     "name": "stdout",
     "output_type": "stream",
     "text": [
      "frozenset({'python', 3, 4, 5, 6, 7})\n",
      "frozenset({'python', 5, 6, 7, 8})\n",
      "frozenset({7, 5, 6, 'python'})\n"
     ]
    }
   ],
   "source": [
    "fs1 = frozenset({3,'python',4,5,6,5,7})\n",
    "fs2 = frozenset({5,6,7,8,'python'})\n",
    "new_fs = fs1.intersection(fs2)\n",
    "\n",
    "print(fs1)\n",
    "print(fs2)\n",
    "print(new_fs)"
   ]
  },
  {
   "cell_type": "code",
   "execution_count": 18,
   "id": "ebb7d9eb",
   "metadata": {},
   "outputs": [
    {
     "ename": "AttributeError",
     "evalue": "'frozenset' object has no attribute 'intersection_update'",
     "output_type": "error",
     "traceback": [
      "\u001b[1;31m---------------------------------------------------------------------------\u001b[0m",
      "\u001b[1;31mAttributeError\u001b[0m                            Traceback (most recent call last)",
      "\u001b[1;32m<ipython-input-18-a9c779ea27b8>\u001b[0m in \u001b[0;36m<module>\u001b[1;34m\u001b[0m\n\u001b[0;32m      1\u001b[0m \u001b[0mfs1\u001b[0m \u001b[1;33m=\u001b[0m \u001b[0mfrozenset\u001b[0m\u001b[1;33m(\u001b[0m\u001b[1;33m{\u001b[0m\u001b[1;36m3\u001b[0m\u001b[1;33m,\u001b[0m\u001b[1;34m'python'\u001b[0m\u001b[1;33m,\u001b[0m\u001b[1;36m4\u001b[0m\u001b[1;33m,\u001b[0m\u001b[1;36m5\u001b[0m\u001b[1;33m,\u001b[0m\u001b[1;36m6\u001b[0m\u001b[1;33m,\u001b[0m\u001b[1;36m5\u001b[0m\u001b[1;33m,\u001b[0m\u001b[1;36m7\u001b[0m\u001b[1;33m}\u001b[0m\u001b[1;33m)\u001b[0m\u001b[1;33m\u001b[0m\u001b[1;33m\u001b[0m\u001b[0m\n\u001b[0;32m      2\u001b[0m \u001b[0mfs2\u001b[0m \u001b[1;33m=\u001b[0m \u001b[0mfrozenset\u001b[0m\u001b[1;33m(\u001b[0m\u001b[1;33m{\u001b[0m\u001b[1;36m5\u001b[0m\u001b[1;33m,\u001b[0m\u001b[1;36m6\u001b[0m\u001b[1;33m,\u001b[0m\u001b[1;36m7\u001b[0m\u001b[1;33m,\u001b[0m\u001b[1;36m8\u001b[0m\u001b[1;33m,\u001b[0m\u001b[1;34m'python'\u001b[0m\u001b[1;33m}\u001b[0m\u001b[1;33m)\u001b[0m\u001b[1;33m\u001b[0m\u001b[1;33m\u001b[0m\u001b[0m\n\u001b[1;32m----> 3\u001b[1;33m \u001b[0mnew_fs\u001b[0m \u001b[1;33m=\u001b[0m \u001b[0mfs1\u001b[0m\u001b[1;33m.\u001b[0m\u001b[0mintersection_update\u001b[0m\u001b[1;33m(\u001b[0m\u001b[0mfs2\u001b[0m\u001b[1;33m)\u001b[0m\u001b[1;33m\u001b[0m\u001b[1;33m\u001b[0m\u001b[0m\n\u001b[0m\u001b[0;32m      4\u001b[0m \u001b[1;33m\u001b[0m\u001b[0m\n\u001b[0;32m      5\u001b[0m \u001b[0mprint\u001b[0m\u001b[1;33m(\u001b[0m\u001b[0mfs1\u001b[0m\u001b[1;33m)\u001b[0m\u001b[1;33m\u001b[0m\u001b[1;33m\u001b[0m\u001b[0m\n",
      "\u001b[1;31mAttributeError\u001b[0m: 'frozenset' object has no attribute 'intersection_update'"
     ]
    }
   ],
   "source": [
    "fs1 = frozenset({3,'python',4,5,6,5,7})\n",
    "fs2 = frozenset({5,6,7,8,'python'})\n",
    "new_fs = fs1.intersection_update(fs2)\n",
    "\n",
    "print(fs1)\n",
    "print(fs2)\n",
    "print(new_fs)"
   ]
  },
  {
   "cell_type": "code",
   "execution_count": 20,
   "id": "32492030",
   "metadata": {},
   "outputs": [
    {
     "name": "stdout",
     "output_type": "stream",
     "text": [
      "frozenset({'python', 3, 4, 5, 6, 7})\n",
      "frozenset({'python', 5, 6, 7, 8})\n",
      "frozenset({7, 5, 6, 'python'})\n"
     ]
    }
   ],
   "source": [
    "fs1 = frozenset({3,'python',4,5,6,5,7})\n",
    "fs2 = frozenset({5,6,7,8,'python'})\n",
    "new_fs = fs1.intersection(fs2)\n",
    "\n",
    "print(fs1)\n",
    "print(fs2)\n",
    "print(new_fs)"
   ]
  },
  {
   "cell_type": "markdown",
   "id": "ab93cfae",
   "metadata": {},
   "source": [
    "### 3. difference"
   ]
  },
  {
   "cell_type": "code",
   "execution_count": 21,
   "id": "eb486e4c",
   "metadata": {},
   "outputs": [
    {
     "name": "stdout",
     "output_type": "stream",
     "text": [
      "frozenset({'python', 3, 4, 5, 6, 7})\n",
      "frozenset({'python', 5, 6, 7, 8})\n",
      "frozenset({3, 4})\n"
     ]
    }
   ],
   "source": [
    "fs1 = frozenset({3,'python',4,5,6,5,7})\n",
    "fs2 = frozenset({5,6,7,8,'python'})\n",
    "new_fs = fs1.difference(fs2)\n",
    "\n",
    "print(fs1)\n",
    "print(fs2)\n",
    "print(new_fs)"
   ]
  },
  {
   "cell_type": "code",
   "execution_count": 22,
   "id": "478e6207",
   "metadata": {},
   "outputs": [
    {
     "name": "stdout",
     "output_type": "stream",
     "text": [
      "frozenset({'python', 3, 4, 5, 6, 7})\n",
      "frozenset({'python', 5, 6, 7, 8})\n",
      "frozenset({8})\n"
     ]
    }
   ],
   "source": [
    "fs1 = frozenset({3,'python',4,5,6,5,7})\n",
    "fs2 = frozenset({5,6,7,8,'python'})\n",
    "new_fs = fs2.difference(fs1)\n",
    "\n",
    "print(fs1)\n",
    "print(fs2)\n",
    "print(new_fs)"
   ]
  },
  {
   "cell_type": "code",
   "execution_count": 23,
   "id": "ed6edb02",
   "metadata": {},
   "outputs": [
    {
     "name": "stdout",
     "output_type": "stream",
     "text": [
      "frozenset({'python', 3, 4, 5, 6, 7})\n",
      "frozenset({'python', 5, 6, 7, 8})\n",
      "frozenset()\n"
     ]
    }
   ],
   "source": [
    "fs1 = frozenset({3,'python',4,5,6,5,7})\n",
    "fs2 = frozenset({5,6,7,8,'python'})\n",
    "new_fs = fs1.difference(fs1)\n",
    "\n",
    "print(fs1)\n",
    "print(fs2)\n",
    "print(new_fs)"
   ]
  },
  {
   "cell_type": "markdown",
   "id": "59fd35fa",
   "metadata": {},
   "source": [
    "### 4. symmetric_difference"
   ]
  },
  {
   "cell_type": "code",
   "execution_count": 24,
   "id": "9f0af229",
   "metadata": {},
   "outputs": [
    {
     "name": "stdout",
     "output_type": "stream",
     "text": [
      "frozenset({'python', 3, 4, 5, 6, 7})\n",
      "frozenset({'python', 5, 6, 7, 8})\n",
      "frozenset({3, 4, 8})\n"
     ]
    }
   ],
   "source": [
    "fs1 = frozenset({3,'python',4,5,6,5,7})\n",
    "fs2 = frozenset({5,6,7,8,'python'})\n",
    "new_fs = fs1.symmetric_difference(fs2)\n",
    "\n",
    "print(fs1)\n",
    "print(fs2)\n",
    "print(new_fs)"
   ]
  },
  {
   "cell_type": "code",
   "execution_count": 29,
   "id": "a92566d7",
   "metadata": {},
   "outputs": [
    {
     "name": "stdout",
     "output_type": "stream",
     "text": [
      "frozenset({3, 4, 5, 6, 7, 8, 10, 'python'})\n",
      "frozenset({'Data', 'python', 5, 6, 7, 8})\n",
      "frozenset({'Data', 3, 4, 10})\n"
     ]
    }
   ],
   "source": [
    "fs1 = frozenset({10,3,'python',4,5,6,5,7,8})\n",
    "fs2 = frozenset({5,6,7,8,'python','Data'})\n",
    "new_fs = fs1.symmetric_difference(fs2)\n",
    "\n",
    "print(fs1)\n",
    "print(fs2)\n",
    "print(new_fs)"
   ]
  },
  {
   "cell_type": "markdown",
   "id": "a1e26dee",
   "metadata": {},
   "source": [
    "### 5. issuperset"
   ]
  },
  {
   "cell_type": "code",
   "execution_count": 31,
   "id": "b93ad4af",
   "metadata": {},
   "outputs": [
    {
     "data": {
      "text/plain": [
       "False"
      ]
     },
     "execution_count": 31,
     "metadata": {},
     "output_type": "execute_result"
    }
   ],
   "source": [
    "fs1 = frozenset({10,3,'python',4,5,6,5,7,8})\n",
    "fs2 = frozenset({5,6,7,8,'python','Data'})\n",
    "fs1.issuperset(fs2)"
   ]
  },
  {
   "cell_type": "code",
   "execution_count": 32,
   "id": "fc512bce",
   "metadata": {},
   "outputs": [
    {
     "data": {
      "text/plain": [
       "True"
      ]
     },
     "execution_count": 32,
     "metadata": {},
     "output_type": "execute_result"
    }
   ],
   "source": [
    "fs1 = frozenset({10,3,'python',4,5,6,5,7,8})\n",
    "fs2 = frozenset({5,6,7,8,'python'})\n",
    "fs1.issuperset(fs2)"
   ]
  },
  {
   "cell_type": "markdown",
   "id": "a5f7d4d5",
   "metadata": {},
   "source": [
    "### 6. issubset"
   ]
  },
  {
   "cell_type": "code",
   "execution_count": 33,
   "id": "ca491078",
   "metadata": {},
   "outputs": [
    {
     "data": {
      "text/plain": [
       "False"
      ]
     },
     "execution_count": 33,
     "metadata": {},
     "output_type": "execute_result"
    }
   ],
   "source": [
    "fs1 = frozenset({10,3,'python',4,5,6,5,7,8})\n",
    "fs2 = frozenset({5,6,7,8,'python'})\n",
    "fs1.issubset(fs2)"
   ]
  },
  {
   "cell_type": "code",
   "execution_count": 34,
   "id": "7f5da325",
   "metadata": {},
   "outputs": [
    {
     "data": {
      "text/plain": [
       "True"
      ]
     },
     "execution_count": 34,
     "metadata": {},
     "output_type": "execute_result"
    }
   ],
   "source": [
    "fs1 = frozenset({10,3,'python',4,5,6,5,7,8})\n",
    "fs2 = frozenset({5,6,7,8,'python'})\n",
    "fs2.issubset(fs1)"
   ]
  },
  {
   "cell_type": "markdown",
   "id": "e15f8bd1",
   "metadata": {},
   "source": [
    "### 7. isdisjoint"
   ]
  },
  {
   "cell_type": "code",
   "execution_count": 35,
   "id": "2232829c",
   "metadata": {},
   "outputs": [
    {
     "data": {
      "text/plain": [
       "False"
      ]
     },
     "execution_count": 35,
     "metadata": {},
     "output_type": "execute_result"
    }
   ],
   "source": [
    "fs1 = frozenset({10,3,'python',4,5,6,5,7,8})\n",
    "fs2 = frozenset({5,6,7,8,'python'})\n",
    "fs2.isdisjoint(fs1)"
   ]
  },
  {
   "cell_type": "code",
   "execution_count": 37,
   "id": "4fcf4d33",
   "metadata": {},
   "outputs": [
    {
     "data": {
      "text/plain": [
       "True"
      ]
     },
     "execution_count": 37,
     "metadata": {},
     "output_type": "execute_result"
    }
   ],
   "source": [
    "fs1 = frozenset({10,3,'python',4,5,6,5,7,8})\n",
    "fs2 = frozenset({52,61,74,80,'pYThon'})\n",
    "fs2.isdisjoint(fs1)"
   ]
  },
  {
   "cell_type": "code",
   "execution_count": 38,
   "id": "d15bf61c",
   "metadata": {},
   "outputs": [
    {
     "data": {
      "text/plain": [
       "frozenset({5, 6, 7, 8, 'python'})"
      ]
     },
     "execution_count": 38,
     "metadata": {},
     "output_type": "execute_result"
    }
   ],
   "source": [
    "fs1 = frozenset({10,3,'python',4,5,6,5,7,8})\n",
    "fs2 = frozenset({5,6,7,8,'python'})\n",
    "\n",
    "fs3 = fs2\n",
    "fs3"
   ]
  },
  {
   "cell_type": "code",
   "execution_count": 41,
   "id": "3b9032b6",
   "metadata": {},
   "outputs": [
    {
     "name": "stdout",
     "output_type": "stream",
     "text": [
      "frozenset({'python', 5, 6, 7, 8})\n"
     ]
    }
   ],
   "source": [
    "fs1 = frozenset({10,3,'python',4,5,6,5,7,8})\n",
    "fs2 = frozenset({5,6,7,8,'python'})\n",
    "\n",
    "fs3 = fs2.copy()\n",
    "print(fs3)"
   ]
  },
  {
   "cell_type": "code",
   "execution_count": null,
   "id": "8d5ecfca",
   "metadata": {},
   "outputs": [],
   "source": []
  }
 ],
 "metadata": {
  "kernelspec": {
   "display_name": "Python 3 (ipykernel)",
   "language": "python",
   "name": "python3"
  },
  "language_info": {
   "codemirror_mode": {
    "name": "ipython",
    "version": 3
   },
   "file_extension": ".py",
   "mimetype": "text/x-python",
   "name": "python",
   "nbconvert_exporter": "python",
   "pygments_lexer": "ipython3",
   "version": "3.9.12"
  }
 },
 "nbformat": 4,
 "nbformat_minor": 5
}
