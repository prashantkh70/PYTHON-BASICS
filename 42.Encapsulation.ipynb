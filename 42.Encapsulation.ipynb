{
 "cells": [
  {
   "cell_type": "code",
   "execution_count": null,
   "id": "21ec4bb9",
   "metadata": {},
   "outputs": [],
   "source": [
    "Inheritance\n",
    "Encapsulation\n",
    "Polymorphism\n",
    "Abstraction"
   ]
  },
  {
   "cell_type": "markdown",
   "id": "6939a621",
   "metadata": {},
   "source": [
    "# Encapsulation"
   ]
  },
  {
   "cell_type": "code",
   "execution_count": null,
   "id": "2e7cffb6",
   "metadata": {},
   "outputs": [],
   "source": [
    "whenever we want to restrict data, methods, functions, variables we use encapsulation\n",
    "- used to restrict the access of methods and variables\n",
    "- it will protect data from modification \n",
    "- when we use __ \"double underscore\"   it will become private variable\n",
    "\n",
    "var1 = \"python\"    # public variable\n",
    "__var1 = \"python\"  # private variable"
   ]
  },
  {
   "cell_type": "code",
   "execution_count": 1,
   "id": "6ef26150",
   "metadata": {},
   "outputs": [
    {
     "name": "stdout",
     "output_type": "stream",
     "text": [
      "Testclass INIT finction\n"
     ]
    }
   ],
   "source": [
    "class Testclass():\n",
    "    var1 = \"data\"\n",
    "    def __init__(self):\n",
    "        print(\"Testclass INIT finction\")\n",
    "t1= Testclass()"
   ]
  },
  {
   "cell_type": "code",
   "execution_count": 5,
   "id": "29f11a0b",
   "metadata": {},
   "outputs": [
    {
     "name": "stdout",
     "output_type": "stream",
     "text": [
      "Testclass INIT finction\n",
      "We are in Display Function\n",
      "Employee Name is : Swapnil\n"
     ]
    }
   ],
   "source": [
    "class Testclass():\n",
    "    company_name = \"TCS\"\n",
    "    def __init__(self):\n",
    "        print(\"Testclass INIT finction\")\n",
    "        self.emp_name = \"Swapnil\"\n",
    "        \n",
    "    def display(self):\n",
    "        print(\"We are in Display Function\")\n",
    "        print(\"Employee Name is :\",self.emp_name)\n",
    "              \n",
    "t1= Testclass()\n",
    "t1.company_name\n",
    "t1.emp_name\n",
    "t1.display()"
   ]
  },
  {
   "cell_type": "code",
   "execution_count": 8,
   "id": "c22809fb",
   "metadata": {},
   "outputs": [
    {
     "name": "stdout",
     "output_type": "stream",
     "text": [
      "Testclass INIT finction\n",
      "Pune\n",
      "Mumbai\n",
      "We are in Display Function\n",
      "Employee Name is : Swapnil\n",
      "Employee Location is : Mumbai\n",
      "Designation is : Data Scientist\n",
      "Salary is : 95000\n"
     ]
    }
   ],
   "source": [
    "class Testclass():\n",
    "    company_name = \"TCS\"\n",
    "    def __init__(self):\n",
    "        print(\"Testclass INIT finction\")\n",
    "        self.emp_name = \"Swapnil\"\n",
    "        self.location = \"Pune\"\n",
    "        self.designation = \"Data Scientist\"\n",
    "        self.salary = 95000\n",
    "        \n",
    "    def display(self):\n",
    "        print(\"We are in Display Function\")\n",
    "        print(\"Employee Name is :\",self.emp_name)\n",
    "        print(\"Employee Location is :\",self.location)\n",
    "        print(\"Designation is :\",self.designation)\n",
    "        print(\"Salary is :\",self.salary)\n",
    "       \n",
    "    \n",
    "c1 = Testclass()\n",
    "print(c1.location)\n",
    "c1.location = \"Mumbai\"\n",
    "print(c1.location)\n",
    "c1.display()"
   ]
  },
  {
   "cell_type": "code",
   "execution_count": 10,
   "id": "afe5cb66",
   "metadata": {},
   "outputs": [
    {
     "name": "stdout",
     "output_type": "stream",
     "text": [
      "Testclass INIT finction\n",
      "We are in Display Function\n",
      "Company Name is : TCS\n",
      "Employee Name is : Swapnil\n",
      "Employee Location is : Pune\n",
      "Designation is : Data Scientist\n",
      "Salary is : 95000\n",
      "We are in Display Function\n",
      "Company Name is : Amazon\n",
      "Employee Name is : Swapnil\n",
      "Employee Location is : Pune\n",
      "Designation is : Data Scientist\n",
      "Salary is : 95000\n"
     ]
    }
   ],
   "source": [
    "class Testclass():\n",
    "    company_name = \"TCS\"\n",
    "    def __init__(self):\n",
    "        print(\"Testclass INIT finction\")\n",
    "        self.emp_name = \"Swapnil\"\n",
    "        self.location = \"Pune\"\n",
    "        self.designation = \"Data Scientist\"\n",
    "        self.salary = 95000\n",
    "        \n",
    "    def display(self):\n",
    "        print(\"We are in Display Function\")\n",
    "        print(\"Company Name is :\",self.company_name)\n",
    "        print(\"Employee Name is :\",self.emp_name)\n",
    "        print(\"Employee Location is :\",self.location)\n",
    "        print(\"Designation is :\",self.designation)\n",
    "        print(\"Salary is :\",self.salary)\n",
    "       \n",
    "d1 = Testclass()\n",
    "d1.display()\n",
    "d1.company_name =\"Amazon\"\n",
    "d1.display()"
   ]
  },
  {
   "cell_type": "code",
   "execution_count": 14,
   "id": "f44c2364",
   "metadata": {},
   "outputs": [
    {
     "name": "stdout",
     "output_type": "stream",
     "text": [
      "Testclass INIT finction\n",
      "We are in Display Function\n",
      "Company Name is : TCS\n",
      "Employee Name is : Swapnil\n",
      "Employee Location is : Pune\n",
      "Designation is : Data Scientist\n",
      "Salary is : 95000\n",
      "We are in Display Function\n",
      "Company Name is : TCS\n",
      "Employee Name is : Swapnil\n",
      "Employee Location is : Pune\n",
      "Designation is : Data Scientist\n",
      "Salary is : 95000\n"
     ]
    }
   ],
   "source": [
    "class Testclass():\n",
    "    __company_name = \"TCS\"                  # private variable\n",
    "    def __init__(self):\n",
    "        print(\"Testclass INIT finction\")\n",
    "        self.emp_name = \"Swapnil\"\n",
    "        self.location = \"Pune\"\n",
    "        self.designation = \"Data Scientist\"\n",
    "        self.salary = 95000\n",
    "        \n",
    "    def display(self):\n",
    "        print(\"We are in Display Function\")\n",
    "        print(\"Company Name is :\",self.__company_name)\n",
    "        print(\"Employee Name is :\",self.emp_name)\n",
    "        print(\"Employee Location is :\",self.location)\n",
    "        print(\"Designation is :\",self.designation)\n",
    "        print(\"Salary is :\",self.salary)\n",
    "       \n",
    "d1 = Testclass()\n",
    "d1.display()\n",
    "d1.company_name = \"Wipro\"\n",
    "d1.display()"
   ]
  },
  {
   "cell_type": "code",
   "execution_count": 15,
   "id": "d9d757c1",
   "metadata": {},
   "outputs": [
    {
     "name": "stdout",
     "output_type": "stream",
     "text": [
      "Testclass INIT finction\n",
      "We are in Display Function\n",
      "Company Name is : TCS\n",
      "Employee Name is : Swapnil\n",
      "Employee Location is : Pune\n",
      "Designation is : Data Scientist\n",
      "Salary is : 95000\n",
      "We are in Display Function\n",
      "Company Name is : TCS\n",
      "Employee Name is : Swapnil\n",
      "Employee Location is : Pune\n",
      "Designation is : Data Scientist\n",
      "Salary is : 95000\n"
     ]
    }
   ],
   "source": [
    "class Testclass():\n",
    "    __company_name = \"TCS\"                  # private variable\n",
    "    def __init__(self):\n",
    "        print(\"Testclass INIT finction\")\n",
    "        self.emp_name = \"Swapnil\"\n",
    "        self.location = \"Pune\"\n",
    "        self.designation = \"Data Scientist\"\n",
    "        self.salary = 95000\n",
    "        \n",
    "    def display(self):\n",
    "        print(\"We are in Display Function\")\n",
    "        print(\"Company Name is :\",self.__company_name)\n",
    "        print(\"Employee Name is :\",self.emp_name)\n",
    "        print(\"Employee Location is :\",self.location)\n",
    "        print(\"Designation is :\",self.designation)\n",
    "        print(\"Salary is :\",self.salary)\n",
    "       \n",
    "d1 = Testclass()\n",
    "d1.display()\n",
    "d1.__company_name = \"Wipro\"\n",
    "d1.display()"
   ]
  },
  {
   "cell_type": "code",
   "execution_count": 19,
   "id": "c1f2d314",
   "metadata": {},
   "outputs": [
    {
     "name": "stdout",
     "output_type": "stream",
     "text": [
      "Testclass INIT finction\n",
      "We are in Display Function\n",
      "Country_name  :  India\n",
      "Company Name is : TCS\n",
      "Employee Name is : Swapnil\n",
      "Employee Location is : Pune\n",
      "Designation is : Data Scientist\n",
      "Salary is : 95000\n",
      "We are in Display Function\n",
      "Country_name  :  India\n",
      "Company Name is : TCS\n",
      "Employee Name is : Swapnil\n",
      "Employee Location is : Pune\n",
      "Designation is : Data Scientist\n",
      "Salary is : 95000\n",
      "We are in Display Function\n",
      "Country_name  :  IND\n",
      "Company Name is : TCS\n",
      "Employee Name is : Swapnil\n",
      "Employee Location is : Pune\n",
      "Designation is : Data Scientist\n",
      "Salary is : 95000\n"
     ]
    }
   ],
   "source": [
    "Year = 2022      # global\n",
    "class Testclass():\n",
    "    country = \"India\"               # Public Variable  as well as class variable\n",
    "    __company_name = \"TCS\"                  # private variable\n",
    "    def __init__(self):\n",
    "        print(\"Testclass INIT finction\")\n",
    "        emp_id = \"ED0093\"               # local variable\n",
    "        self.emp_name = \"Swapnil\"            #public instance variable\n",
    "        self.location = \"Pune\"               #public instance variable\n",
    "        self.designation = \"Data Scientist\"   #public instance variable\n",
    "        self.salary = 95000                 #public instance variable\n",
    "        \n",
    "    def display(self):\n",
    "        print(\"We are in Display Function\")\n",
    "        print(\"Country_name  : \",self.country)\n",
    "        print(\"Company Name is :\",self.__company_name)\n",
    "        print(\"Employee Name is :\",self.emp_name)\n",
    "        print(\"Employee Location is :\",self.location)\n",
    "        print(\"Designation is :\",self.designation)\n",
    "        print(\"Salary is :\",self.salary)\n",
    "       \n",
    "d1 = Testclass()\n",
    "d1.display()\n",
    "d1.company_name = \"Wipro\"\n",
    "d1.display()\n",
    "d1.country = \"IND\"\n",
    "d1.display()"
   ]
  },
  {
   "cell_type": "markdown",
   "id": "0c222f88",
   "metadata": {},
   "source": [
    "# Name Mangling Method"
   ]
  },
  {
   "cell_type": "code",
   "execution_count": null,
   "id": "9f6e1a45",
   "metadata": {},
   "outputs": [],
   "source": [
    "Used to access or modify private variables and methods from outside the class\n",
    "syntax:\n",
    "\n",
    "Obj._ClassName__Identifire\n",
    "Obj._ClassName__InstanceVariable\n",
    "Obj._ClassName__classmethods"
   ]
  },
  {
   "cell_type": "code",
   "execution_count": 21,
   "id": "7b23e2cc",
   "metadata": {},
   "outputs": [
    {
     "name": "stdout",
     "output_type": "stream",
     "text": [
      "Testclass INIT finction\n",
      "We are in Display Function\n",
      "Company Name is : TCS\n",
      "Employee Name is : Swapnil\n",
      "Employee Location is : Pune\n",
      "Designation is : Data Scientist\n",
      "Salary is : 95000\n",
      "We are in Display Function\n",
      "Company Name is : TCS\n",
      "Employee Name is : Pravin\n",
      "Employee Location is : Pune\n",
      "Designation is : Data Scientist\n",
      "Salary is : 95000\n"
     ]
    }
   ],
   "source": [
    "class Testclass():\n",
    "    __company_name = \"TCS\"                  # private variable\n",
    "    def __init__(self):\n",
    "        print(\"Testclass INIT finction\")\n",
    "        self.emp_name = \"Swapnil\"\n",
    "        self.location = \"Pune\"\n",
    "        self.designation = \"Data Scientist\"\n",
    "        self.salary = 95000\n",
    "        \n",
    "    def display(self):\n",
    "        print(\"We are in Display Function\")\n",
    "        print(\"Company Name is :\",self.__company_name)\n",
    "        print(\"Employee Name is :\",self.emp_name)\n",
    "        print(\"Employee Location is :\",self.location)\n",
    "        print(\"Designation is :\",self.designation)\n",
    "        print(\"Salary is :\",self.salary)\n",
    "       \n",
    "d1 = Testclass()\n",
    "d1.display()\n",
    "d1.emp_name = \"Pravin\"\n",
    "d1.display()"
   ]
  },
  {
   "cell_type": "code",
   "execution_count": 22,
   "id": "93d4781b",
   "metadata": {},
   "outputs": [
    {
     "name": "stdout",
     "output_type": "stream",
     "text": [
      "Testclass INIT finction\n",
      "We are in Display Function\n",
      "Company Name is : TCS\n",
      "Employee Name is : Swapnil\n",
      "Employee Location is : Pune\n",
      "Designation is : Data Scientist\n",
      "Salary is : 95000\n",
      "We are in Display Function\n",
      "Company Name is : Wipro\n",
      "Employee Name is : Swapnil\n",
      "Employee Location is : Pune\n",
      "Designation is : Data Scientist\n",
      "Salary is : 95000\n"
     ]
    }
   ],
   "source": [
    "class Testclass():\n",
    "    __company_name = \"TCS\"                  # private variable\n",
    "    def __init__(self):\n",
    "        print(\"Testclass INIT finction\")\n",
    "        self.emp_name = \"Swapnil\"\n",
    "        self.location = \"Pune\"\n",
    "        self.designation = \"Data Scientist\"\n",
    "        self.salary = 95000\n",
    "        \n",
    "    def display(self):\n",
    "        print(\"We are in Display Function\")\n",
    "        print(\"Company Name is :\",self.__company_name)\n",
    "        print(\"Employee Name is :\",self.emp_name)\n",
    "        print(\"Employee Location is :\",self.location)\n",
    "        print(\"Designation is :\",self.designation)\n",
    "        print(\"Salary is :\",self.salary)\n",
    "       \n",
    "d1 = Testclass()\n",
    "d1.display()\n",
    "d1._Testclass__company_name = \"Wipro\"\n",
    "d1.display()"
   ]
  },
  {
   "cell_type": "code",
   "execution_count": 23,
   "id": "eb594409",
   "metadata": {},
   "outputs": [
    {
     "name": "stdout",
     "output_type": "stream",
     "text": [
      "Testclass INIT finction\n",
      "We are in Display Function\n",
      "Company Name is : TCS\n",
      "Employee Name is : Swapnil\n",
      "Employee Location is : Pune\n",
      "Designation is : Data Scientist\n",
      "Salary is : 95000\n",
      "We are in Display Function\n",
      "Company Name is : Capgemini\n",
      "Employee Name is : Swapnil\n",
      "Employee Location is : Pune\n",
      "Designation is : Data Scientist\n",
      "Salary is : 95000\n"
     ]
    }
   ],
   "source": [
    "class Testclass():\n",
    "    __company_name = \"TCS\"                  # private variable\n",
    "    def __init__(self):\n",
    "        print(\"Testclass INIT finction\")\n",
    "        __self.emp_name = \"Swapnil\"    #private instance\n",
    "        self.location = \"Pune\"\n",
    "        self.designation = \"Data Scientist\"\n",
    "        self.salary = 95000\n",
    "        \n",
    "    def display(self):\n",
    "        print(\"We are in Display Function\")\n",
    "        print(\"Company Name is :\",self.__company_name)\n",
    "        print(\"Employee Name is :\",self.emp_name)\n",
    "        print(\"Employee Location is :\",self.location)\n",
    "        print(\"Designation is :\",self.designation)\n",
    "        print(\"Salary is :\",self.salary)\n",
    "       \n",
    "d1 = Testclass()\n",
    "d1.display()\n",
    "d1._Testclass__company_name = \"Capgemini\"\n",
    "d1.display()"
   ]
  },
  {
   "cell_type": "code",
   "execution_count": null,
   "id": "43284de6",
   "metadata": {},
   "outputs": [],
   "source": []
  }
 ],
 "metadata": {
  "kernelspec": {
   "display_name": "Python 3",
   "language": "python",
   "name": "python3"
  },
  "language_info": {
   "codemirror_mode": {
    "name": "ipython",
    "version": 3
   },
   "file_extension": ".py",
   "mimetype": "text/x-python",
   "name": "python",
   "nbconvert_exporter": "python",
   "pygments_lexer": "ipython3",
   "version": "3.8.8"
  }
 },
 "nbformat": 4,
 "nbformat_minor": 5
}
