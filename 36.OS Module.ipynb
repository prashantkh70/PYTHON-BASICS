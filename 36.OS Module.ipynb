{
 "cells": [
  {
   "cell_type": "markdown",
   "id": "64a120f3",
   "metadata": {},
   "source": [
    "# OS Module"
   ]
  },
  {
   "cell_type": "code",
   "execution_count": 17,
   "id": "935f3441",
   "metadata": {},
   "outputs": [],
   "source": [
    "os >> operating system"
   ]
  },
  {
   "cell_type": "code",
   "execution_count": 1,
   "id": "827d9235",
   "metadata": {},
   "outputs": [],
   "source": [
    "import os\n",
    "import shutil\n",
    "import glob"
   ]
  },
  {
   "cell_type": "markdown",
   "id": "7126b1b4",
   "metadata": {},
   "source": [
    "# OS Functions"
   ]
  },
  {
   "cell_type": "code",
   "execution_count": null,
   "id": "1a0548b4",
   "metadata": {},
   "outputs": [],
   "source": [
    "OS Module:\n",
    "    1. os.rename()  # To rename or move files \n",
    "    2. os.remove()  # To remove the file\n",
    "    3. os.path.exists() # To check file/ folder exists or nor\n",
    "    4. os.mkdir()     # to create folder\n",
    "    5. os.makedirs()    # to create multiple folders(Tree structure)\n",
    "    6. os.rmdir()    # to remove empty directory\n",
    "    7. os.listdir()  # list of files\n",
    "    8. os.getcwd()   # to get current working directory\n",
    "    9. os.path.join() # to join two path\n",
    "    \n",
    "Shutil Module:\n",
    "    1. shutil.copy() # Copy files from one location to another\n",
    "    2. shutil.rmtree() # to remove empty or non-empty directory\n",
    "\n",
    "glob module:\n",
    "    1. glob.glob(path + '*.txt') #list of text files \n",
    "    2. glob.glob(path + '*.jpg') #list of jpg files \n",
    "    \n",
    "path = r'c:\\\\'"
   ]
  },
  {
   "cell_type": "markdown",
   "id": "bcc9506c",
   "metadata": {},
   "source": [
    "## 1. Rename / Move"
   ]
  },
  {
   "cell_type": "code",
   "execution_count": null,
   "id": "4b862f9d",
   "metadata": {},
   "outputs": [],
   "source": [
    "os.rename(source_file_path, destination_file_path)\n",
    "rename function is used to rename the file or to move the \n",
    "file from one location to another location"
   ]
  },
  {
   "cell_type": "code",
   "execution_count": 2,
   "id": "ed4ef747",
   "metadata": {},
   "outputs": [],
   "source": [
    "with open('machine.txt','w')as f:\n",
    "    f.write('We are in Rename Function')"
   ]
  },
  {
   "cell_type": "code",
   "execution_count": 3,
   "id": "654e4a14",
   "metadata": {},
   "outputs": [],
   "source": [
    "os.rename('machine.txt','machine_learning.txt')"
   ]
  },
  {
   "cell_type": "code",
   "execution_count": 4,
   "id": "a7b99bc8",
   "metadata": {},
   "outputs": [],
   "source": [
    "source_file_path = 'machine_learning.txt'\n",
    "destination_file_path =r'E:\\Velocity_9_July_22\\08_12_OS_Module\\MovieReviews\\machine_learning.txt'\n",
    "os.rename(source_file_path,destination_file_path)"
   ]
  },
  {
   "cell_type": "code",
   "execution_count": 5,
   "id": "281cbce7",
   "metadata": {},
   "outputs": [],
   "source": [
    "source_file_path = r'E:\\Velocity_9_July_22\\08_12_OS_Module\\Test\\autos_dataset.csv'\n",
    "destination_file_path =r'E:\\Velocity_9_July_22\\08_12_OS_Module\\MovieReviews\\autos_dataset.csv'\n",
    "os.rename(source_file_path,destination_file_path)"
   ]
  },
  {
   "cell_type": "markdown",
   "id": "a61382f0",
   "metadata": {},
   "source": [
    "### 2. Remove Files"
   ]
  },
  {
   "cell_type": "code",
   "execution_count": null,
   "id": "e551e0ff",
   "metadata": {},
   "outputs": [],
   "source": [
    "os.remove(file_path)"
   ]
  },
  {
   "cell_type": "code",
   "execution_count": 8,
   "id": "b51f7c8a",
   "metadata": {},
   "outputs": [],
   "source": [
    "with open('Data.txt','w')as f:\n",
    "    f.write('We are in Rename Function')"
   ]
  },
  {
   "cell_type": "code",
   "execution_count": 9,
   "id": "22d44a7b",
   "metadata": {},
   "outputs": [],
   "source": [
    "os.remove('Data.txt')"
   ]
  },
  {
   "cell_type": "code",
   "execution_count": 10,
   "id": "e1811fca",
   "metadata": {},
   "outputs": [],
   "source": [
    "file_path = r'E:\\Velocity_9_July_22\\08_12_OS_Module\\MovieReviews\\autos_dataset.csv'\n",
    "os.remove(file_path)"
   ]
  },
  {
   "cell_type": "markdown",
   "id": "b2a3a14f",
   "metadata": {},
   "source": [
    "### 3. Check file exist or not"
   ]
  },
  {
   "cell_type": "code",
   "execution_count": null,
   "id": "a77077f4",
   "metadata": {},
   "outputs": [],
   "source": [
    "os.path.exists(folder_path)\n",
    "True >> If file exists\n",
    "False >> If file does not exists"
   ]
  },
  {
   "cell_type": "code",
   "execution_count": 11,
   "id": "50d6c3b7",
   "metadata": {},
   "outputs": [
    {
     "data": {
      "text/plain": [
       "False"
      ]
     },
     "execution_count": 11,
     "metadata": {},
     "output_type": "execute_result"
    }
   ],
   "source": [
    "os.path.exists('Data.txt')"
   ]
  },
  {
   "cell_type": "code",
   "execution_count": 12,
   "id": "7040969b",
   "metadata": {},
   "outputs": [
    {
     "data": {
      "text/plain": [
       "True"
      ]
     },
     "execution_count": 12,
     "metadata": {},
     "output_type": "execute_result"
    }
   ],
   "source": [
    "os.path.exists('decision_tree_model.pkl')"
   ]
  },
  {
   "cell_type": "code",
   "execution_count": 13,
   "id": "29ddf874",
   "metadata": {},
   "outputs": [
    {
     "name": "stdout",
     "output_type": "stream",
     "text": [
      "Specified file is not found\n"
     ]
    }
   ],
   "source": [
    "if os.path.exists('Data.txt'):\n",
    "    os.remove('Data.txt')\n",
    "    print('Specified file Removed')\n",
    "else:\n",
    "    print('Specified file is not found')"
   ]
  },
  {
   "cell_type": "code",
   "execution_count": 14,
   "id": "b27ba480",
   "metadata": {},
   "outputs": [
    {
     "name": "stdout",
     "output_type": "stream",
     "text": [
      "Specified file Removed\n"
     ]
    }
   ],
   "source": [
    "\n",
    "if os.path.exists('cv010_29198.txt'):\n",
    "    os.remove('cv010_29198.txt')\n",
    "    print('Specified file Removed')\n",
    "else:\n",
    "    print('Specified file is not found')"
   ]
  },
  {
   "cell_type": "markdown",
   "id": "00474b1f",
   "metadata": {},
   "source": [
    "### 4. Create folder"
   ]
  },
  {
   "cell_type": "code",
   "execution_count": null,
   "id": "fef2efc6",
   "metadata": {},
   "outputs": [],
   "source": [
    "os.mkdir(folder_path)"
   ]
  },
  {
   "cell_type": "code",
   "execution_count": 15,
   "id": "d1576418",
   "metadata": {},
   "outputs": [],
   "source": [
    "os.mkdir('Data_Science')"
   ]
  },
  {
   "cell_type": "code",
   "execution_count": 16,
   "id": "659bf3d4",
   "metadata": {},
   "outputs": [],
   "source": [
    "path = r'E:\\Velocity_9_July_22\\08_12_OS_Module\\MovieReviews\\Kesari'\n",
    "os.mkdir(path)"
   ]
  },
  {
   "cell_type": "code",
   "execution_count": 17,
   "id": "56966311",
   "metadata": {},
   "outputs": [
    {
     "name": "stdout",
     "output_type": "stream",
     "text": [
      "Folder Created\n"
     ]
    }
   ],
   "source": [
    "f_path = 'Images'\n",
    "if not os.path.exists(f_path):\n",
    "    os.mkdir(f_path)\n",
    "    print('Folder Created')\n",
    "else:\n",
    "    print('Folder already exists')"
   ]
  },
  {
   "cell_type": "code",
   "execution_count": 18,
   "id": "a73eac14",
   "metadata": {},
   "outputs": [
    {
     "name": "stdout",
     "output_type": "stream",
     "text": [
      "Folder already exists\n"
     ]
    }
   ],
   "source": [
    "f_path = 'Images'\n",
    "if not os.path.exists(f_path):\n",
    "    os.mkdir(f_path)\n",
    "    print('Folder Created')\n",
    "else:\n",
    "    print('Folder already exists')"
   ]
  },
  {
   "cell_type": "code",
   "execution_count": 20,
   "id": "9966c7f1",
   "metadata": {},
   "outputs": [
    {
     "ename": "FileNotFoundError",
     "evalue": "[WinError 3] The system cannot find the path specified: 'Data_Science\\\\Testing\\\\ml\\\\python'",
     "output_type": "error",
     "traceback": [
      "\u001b[1;31m---------------------------------------------------------------------------\u001b[0m",
      "\u001b[1;31mFileNotFoundError\u001b[0m                         Traceback (most recent call last)",
      "\u001b[1;32m<ipython-input-20-8e97d99acde6>\u001b[0m in \u001b[0;36m<module>\u001b[1;34m\u001b[0m\n\u001b[1;32m----> 1\u001b[1;33m \u001b[0mos\u001b[0m\u001b[1;33m.\u001b[0m\u001b[0mmkdir\u001b[0m\u001b[1;33m(\u001b[0m\u001b[1;34m'Data_Science\\Testing\\ml\\python'\u001b[0m\u001b[1;33m)\u001b[0m\u001b[1;33m\u001b[0m\u001b[1;33m\u001b[0m\u001b[0m\n\u001b[0m",
      "\u001b[1;31mFileNotFoundError\u001b[0m: [WinError 3] The system cannot find the path specified: 'Data_Science\\\\Testing\\\\ml\\\\python'"
     ]
    }
   ],
   "source": [
    "os.mkdir('Data_Science\\Testing\\ml\\python')"
   ]
  },
  {
   "cell_type": "markdown",
   "id": "9b36bfb3",
   "metadata": {},
   "source": [
    "### 5. os.makedirs()"
   ]
  },
  {
   "cell_type": "code",
   "execution_count": 21,
   "id": "a2ea7813",
   "metadata": {},
   "outputs": [],
   "source": [
    "folder_path = 'Velocity\\Testing\\ml\\python\\os_module'\n",
    "\n",
    "os.makedirs(folder_path)"
   ]
  },
  {
   "cell_type": "markdown",
   "id": "70559065",
   "metadata": {},
   "source": [
    "### 6. delete directory"
   ]
  },
  {
   "cell_type": "code",
   "execution_count": null,
   "id": "0aa2740e",
   "metadata": {},
   "outputs": [],
   "source": [
    "os.rmdir(folder_path)"
   ]
  },
  {
   "cell_type": "code",
   "execution_count": 22,
   "id": "1968bb9a",
   "metadata": {},
   "outputs": [],
   "source": [
    "os.rmdir('Images')"
   ]
  },
  {
   "cell_type": "code",
   "execution_count": 23,
   "id": "fd7e2aac",
   "metadata": {},
   "outputs": [
    {
     "name": "stdout",
     "output_type": "stream",
     "text": [
      "Folder Created\n"
     ]
    }
   ],
   "source": [
    "f_path = 'Images'\n",
    "if not os.path.exists(f_path):\n",
    "    os.mkdir(f_path)\n",
    "    print('Folder Created')\n",
    "else:\n",
    "    print('Folder already exists')"
   ]
  },
  {
   "cell_type": "code",
   "execution_count": 24,
   "id": "51f9eac6",
   "metadata": {},
   "outputs": [
    {
     "name": "stdout",
     "output_type": "stream",
     "text": [
      "Folder Deleted\n"
     ]
    }
   ],
   "source": [
    "folder_path = 'Images'\n",
    "\n",
    "if os.path.exists(folder_path):\n",
    "    os.rmdir(folder_path)\n",
    "    print('Folder Deleted')\n",
    "else:\n",
    "    print('Folder not Found')"
   ]
  },
  {
   "cell_type": "code",
   "execution_count": 25,
   "id": "00adb4cd",
   "metadata": {},
   "outputs": [
    {
     "name": "stdout",
     "output_type": "stream",
     "text": [
      "Folder not Found\n"
     ]
    }
   ],
   "source": [
    "folder_path = 'Images'\n",
    "\n",
    "if os.path.exists(folder_path):\n",
    "    os.rmdir(folder_path)\n",
    "    print('Folder Deleted')\n",
    "else:\n",
    "    print('Folder not Found')"
   ]
  },
  {
   "cell_type": "code",
   "execution_count": 26,
   "id": "5a8e60bf",
   "metadata": {},
   "outputs": [
    {
     "ename": "OSError",
     "evalue": "[WinError 145] The directory is not empty: 'Test'",
     "output_type": "error",
     "traceback": [
      "\u001b[1;31m---------------------------------------------------------------------------\u001b[0m",
      "\u001b[1;31mOSError\u001b[0m                                   Traceback (most recent call last)",
      "\u001b[1;32m<ipython-input-26-357c257e56c1>\u001b[0m in \u001b[0;36m<module>\u001b[1;34m\u001b[0m\n\u001b[0;32m      2\u001b[0m \u001b[1;33m\u001b[0m\u001b[0m\n\u001b[0;32m      3\u001b[0m \u001b[1;32mif\u001b[0m \u001b[0mos\u001b[0m\u001b[1;33m.\u001b[0m\u001b[0mpath\u001b[0m\u001b[1;33m.\u001b[0m\u001b[0mexists\u001b[0m\u001b[1;33m(\u001b[0m\u001b[0mfolder_path\u001b[0m\u001b[1;33m)\u001b[0m\u001b[1;33m:\u001b[0m\u001b[1;33m\u001b[0m\u001b[1;33m\u001b[0m\u001b[0m\n\u001b[1;32m----> 4\u001b[1;33m     \u001b[0mos\u001b[0m\u001b[1;33m.\u001b[0m\u001b[0mrmdir\u001b[0m\u001b[1;33m(\u001b[0m\u001b[0mfolder_path\u001b[0m\u001b[1;33m)\u001b[0m\u001b[1;33m\u001b[0m\u001b[1;33m\u001b[0m\u001b[0m\n\u001b[0m\u001b[0;32m      5\u001b[0m     \u001b[0mprint\u001b[0m\u001b[1;33m(\u001b[0m\u001b[1;34m'Folder Deleted'\u001b[0m\u001b[1;33m)\u001b[0m\u001b[1;33m\u001b[0m\u001b[1;33m\u001b[0m\u001b[0m\n\u001b[0;32m      6\u001b[0m \u001b[1;32melse\u001b[0m\u001b[1;33m:\u001b[0m\u001b[1;33m\u001b[0m\u001b[1;33m\u001b[0m\u001b[0m\n",
      "\u001b[1;31mOSError\u001b[0m: [WinError 145] The directory is not empty: 'Test'"
     ]
    }
   ],
   "source": [
    "folder_path = 'Test'   #this is non empty folder\n",
    " \n",
    "if os.path.exists(folder_path):\n",
    "    os.rmdir(folder_path)\n",
    "    print('Folder Deleted')\n",
    "else:\n",
    "    print('Folder not Found')"
   ]
  },
  {
   "cell_type": "markdown",
   "id": "5eb6295f",
   "metadata": {},
   "source": [
    "### shutil.rmtree"
   ]
  },
  {
   "cell_type": "code",
   "execution_count": null,
   "id": "56458fa5",
   "metadata": {},
   "outputs": [],
   "source": [
    "shutil.rmtree(folder_path)\n"
   ]
  },
  {
   "cell_type": "code",
   "execution_count": 27,
   "id": "5ccc6a64",
   "metadata": {},
   "outputs": [
    {
     "name": "stdout",
     "output_type": "stream",
     "text": [
      "Folder Deleted\n"
     ]
    }
   ],
   "source": [
    "folder_path = 'Test'   #this is non empty folder\n",
    " \n",
    "if os.path.exists(folder_path):\n",
    "    shutil.rmtree(folder_path)\n",
    "    print('Folder Deleted')\n",
    "else:\n",
    "    print('Folder not Found')"
   ]
  },
  {
   "cell_type": "code",
   "execution_count": 28,
   "id": "762914db",
   "metadata": {},
   "outputs": [
    {
     "name": "stdout",
     "output_type": "stream",
     "text": [
      "Folder not Found\n"
     ]
    }
   ],
   "source": [
    "folder_path = 'Test'   #this is non empty folder\n",
    " \n",
    "if os.path.exists(folder_path):\n",
    "    shutil.rmtree(folder_path)\n",
    "    print('Folder Deleted')\n",
    "else:\n",
    "    print('Folder not Found')"
   ]
  },
  {
   "cell_type": "markdown",
   "id": "bce76185",
   "metadata": {},
   "source": [
    "### 7. Check file / folder in directory"
   ]
  },
  {
   "cell_type": "code",
   "execution_count": null,
   "id": "78ae4838",
   "metadata": {},
   "outputs": [],
   "source": [
    "os.listdir(folder_path)"
   ]
  },
  {
   "cell_type": "code",
   "execution_count": 29,
   "id": "ce607b90",
   "metadata": {},
   "outputs": [
    {
     "data": {
      "text/plain": [
       "['1207_385_bank_statement11.pdf',\n",
       " 'cv005_29443.txt',\n",
       " 'cv007_4968.txt',\n",
       " 'cv008_29435.txt',\n",
       " 'cv009_29592.txt',\n",
       " 'cv010_29198.txt',\n",
       " 'cv011_12166.txt',\n",
       " 'Kesari',\n",
       " 'machine_learning.txt',\n",
       " 'sample.txt']"
      ]
     },
     "execution_count": 29,
     "metadata": {},
     "output_type": "execute_result"
    }
   ],
   "source": [
    "folder_path = 'MovieReviews'\n",
    "os.listdir(folder_path)"
   ]
  },
  {
   "cell_type": "code",
   "execution_count": 30,
   "id": "a25017bb",
   "metadata": {},
   "outputs": [
    {
     "data": {
      "text/plain": [
       "['.ipynb_checkpoints',\n",
       " '07_11_Introduction',\n",
       " '07_12_Indentation',\n",
       " '07_14_DataTypes_String',\n",
       " '07_15_string_indexing_slicing_functions',\n",
       " '07_16_string_functions',\n",
       " '07_18_string_functions',\n",
       " '07_19_conditional_statements',\n",
       " '07_20_Operators',\n",
       " '07_21_List',\n",
       " '07_22_list_comprehension',\n",
       " '07_25_Tuple_forloop',\n",
       " '07_26_Nested_ForLoop',\n",
       " '07_27_While_loop',\n",
       " '07_28_Set',\n",
       " '07_29_set_Frozenset',\n",
       " '08_01_Dictionary',\n",
       " '08_02_Dict_dRev',\n",
       " '08_04_Functions',\n",
       " '08_05_Arguments',\n",
       " '08_08_Built_in_functions',\n",
       " '08_09_Modules_Packages',\n",
       " '08_11_File_Handling',\n",
       " '08_12_OS_Module']"
      ]
     },
     "execution_count": 30,
     "metadata": {},
     "output_type": "execute_result"
    }
   ],
   "source": [
    "folder_path = r'E:\\Velocity_9_July_22'\n",
    "os.listdir(folder_path)"
   ]
  },
  {
   "cell_type": "code",
   "execution_count": 31,
   "id": "04b33d2a",
   "metadata": {},
   "outputs": [
    {
     "name": "stdout",
     "output_type": "stream",
     "text": [
      "['.ipynb_checkpoints', '07_11_Introduction', '07_12_Indentation', '07_14_DataTypes_String', '07_15_string_indexing_slicing_functions', '07_16_string_functions', '07_18_string_functions', '07_19_conditional_statements', '07_20_Operators', '07_21_List', '07_22_list_comprehension', '07_25_Tuple_forloop', '07_26_Nested_ForLoop', '07_27_While_loop', '07_28_Set', '07_29_set_Frozenset', '08_01_Dictionary', '08_02_Dict_dRev', '08_04_Functions', '08_05_Arguments', '08_08_Built_in_functions', '08_09_Modules_Packages', '08_11_File_Handling', '08_12_OS_Module']\n"
     ]
    }
   ],
   "source": [
    "folder_path = r'E:\\Velocity_9_July_22'\n",
    "folder_list= os.listdir(folder_path)\n",
    "print(folder_list)"
   ]
  },
  {
   "cell_type": "markdown",
   "id": "f57b2877",
   "metadata": {},
   "source": [
    "### current working directory"
   ]
  },
  {
   "cell_type": "code",
   "execution_count": null,
   "id": "e1a9c67b",
   "metadata": {},
   "outputs": [],
   "source": [
    "os.getcwd()"
   ]
  },
  {
   "cell_type": "code",
   "execution_count": 32,
   "id": "83c1c9bd",
   "metadata": {},
   "outputs": [
    {
     "data": {
      "text/plain": [
       "'E:\\\\Velocity_9_July_22\\\\08_12_OS_Module'"
      ]
     },
     "execution_count": 32,
     "metadata": {},
     "output_type": "execute_result"
    }
   ],
   "source": [
    "os.getcwd()"
   ]
  },
  {
   "cell_type": "markdown",
   "id": "e35cf66b",
   "metadata": {},
   "source": [
    "### join  two path"
   ]
  },
  {
   "cell_type": "code",
   "execution_count": null,
   "id": "29f5650f",
   "metadata": {},
   "outputs": [],
   "source": [
    "os.path.join(current_path,new_path)"
   ]
  },
  {
   "cell_type": "code",
   "execution_count": 33,
   "id": "0ffb6818",
   "metadata": {},
   "outputs": [
    {
     "data": {
      "text/plain": [
       "'E:\\\\Velocity_9_July_22\\\\08_12_OS_Module\\\\Test'"
      ]
     },
     "execution_count": 33,
     "metadata": {},
     "output_type": "execute_result"
    }
   ],
   "source": [
    "current_path =os.getcwd()\n",
    "new_path = 'Test'\n",
    "os.path.join(current_path,new_path)"
   ]
  },
  {
   "cell_type": "code",
   "execution_count": 38,
   "id": "4c4f085e",
   "metadata": {},
   "outputs": [
    {
     "data": {
      "text/plain": [
       "'E:\\\\Velocity_9_July_22\\\\08_12_OS_Module\\\\Test\\\\anaconda'"
      ]
     },
     "execution_count": 38,
     "metadata": {},
     "output_type": "execute_result"
    }
   ],
   "source": [
    "current_path =os.getcwd()\n",
    "new_path = 'Test\\\\anaconda'\n",
    "modified_path=os.path.join(current_path,new_path)\n",
    "modified_path"
   ]
  },
  {
   "cell_type": "markdown",
   "id": "ae2ae963",
   "metadata": {},
   "source": [
    "### copy files"
   ]
  },
  {
   "cell_type": "code",
   "execution_count": null,
   "id": "9dab7460",
   "metadata": {},
   "outputs": [],
   "source": [
    "shutil.copy(source_file_path,destination_file_path)"
   ]
  },
  {
   "cell_type": "code",
   "execution_count": 40,
   "id": "ff909f1a",
   "metadata": {},
   "outputs": [
    {
     "data": {
      "text/plain": [
       "'E:\\\\Velocity_9_July_22\\\\08_12_OS_Module\\\\Data_Science\\\\Testing\\\\cv009_29592.txt'"
      ]
     },
     "execution_count": 40,
     "metadata": {},
     "output_type": "execute_result"
    }
   ],
   "source": [
    "source_file_path = r'E:\\Velocity_9_July_22\\08_12_OS_Module\\MovieReviews\\cv009_29592.txt'\n",
    "destination_file_path =r'E:\\Velocity_9_July_22\\08_12_OS_Module\\Data_Science\\Testing'\n",
    "\n",
    "shutil.copy(source_file_path,destination_file_path)\n"
   ]
  },
  {
   "cell_type": "code",
   "execution_count": null,
   "id": "dfe8b2c9",
   "metadata": {},
   "outputs": [],
   "source": []
  },
  {
   "cell_type": "code",
   "execution_count": 41,
   "id": "8e6263c2",
   "metadata": {},
   "outputs": [
    {
     "data": {
      "text/plain": [
       "'E:\\\\Velocity_9_July_22\\\\08_12_OS_Module\\\\Data_Science\\\\Testing\\\\1207_385_bank_statement11.pdf'"
      ]
     },
     "execution_count": 41,
     "metadata": {},
     "output_type": "execute_result"
    }
   ],
   "source": [
    "source_file_path = r'E:\\Velocity_9_July_22\\08_12_OS_Module\\MovieReviews\\1207_385_bank_statement11.pdf'\n",
    "destination_file_path =r'E:\\Velocity_9_July_22\\08_12_OS_Module\\Data_Science\\Testing'\n",
    "\n",
    "shutil.copy(source_file_path,destination_file_path)\n"
   ]
  },
  {
   "cell_type": "markdown",
   "id": "12056a8f",
   "metadata": {},
   "source": [
    "# Glob"
   ]
  },
  {
   "cell_type": "code",
   "execution_count": null,
   "id": "5afa8238",
   "metadata": {},
   "outputs": [],
   "source": [
    "glob module:\n",
    "    1. glob.glob(path + '*.txt') #list of text files \n",
    "    2. glob.glob(path + '*.jpg') #list of jpg files\n",
    "    \n"
   ]
  },
  {
   "cell_type": "code",
   "execution_count": 43,
   "id": "8b2e37a4",
   "metadata": {},
   "outputs": [
    {
     "data": {
      "text/plain": [
       "['1207_385_bank_statement11.pdf',\n",
       " 'cv005_29443.txt',\n",
       " 'cv007_4968.txt',\n",
       " 'cv008_29435.txt',\n",
       " 'cv009_29592.txt',\n",
       " 'cv010_29198.txt',\n",
       " 'cv011_12166.txt',\n",
       " 'Kesari',\n",
       " 'machine_learning.txt',\n",
       " 'sample.txt']"
      ]
     },
     "execution_count": 43,
     "metadata": {},
     "output_type": "execute_result"
    }
   ],
   "source": [
    "folder_path = 'MovieReviews'\n",
    "file_list = os.listdir(folder_path)\n",
    "file_list"
   ]
  },
  {
   "cell_type": "code",
   "execution_count": 44,
   "id": "956c9326",
   "metadata": {},
   "outputs": [
    {
     "data": {
      "text/plain": [
       "['MovieReviews\\\\cv005_29443.txt',\n",
       " 'MovieReviews\\\\cv007_4968.txt',\n",
       " 'MovieReviews\\\\cv008_29435.txt',\n",
       " 'MovieReviews\\\\cv009_29592.txt',\n",
       " 'MovieReviews\\\\cv010_29198.txt',\n",
       " 'MovieReviews\\\\cv011_12166.txt',\n",
       " 'MovieReviews\\\\machine_learning.txt',\n",
       " 'MovieReviews\\\\sample.txt']"
      ]
     },
     "execution_count": 44,
     "metadata": {},
     "output_type": "execute_result"
    }
   ],
   "source": [
    "# MovieReviews\\\\cv008_29435.txt\n",
    "text_file_list = [folder_path+ '\\\\'+file for file in file_list if file.endswith('.txt') ]\n",
    "text_file_list"
   ]
  },
  {
   "cell_type": "code",
   "execution_count": 45,
   "id": "6b536c99",
   "metadata": {},
   "outputs": [
    {
     "data": {
      "text/plain": [
       "['cv005_29443.txt',\n",
       " 'cv007_4968.txt',\n",
       " 'cv008_29435.txt',\n",
       " 'cv009_29592.txt',\n",
       " 'cv010_29198.txt',\n",
       " 'cv011_12166.txt',\n",
       " 'machine_learning.txt',\n",
       " 'sample.txt']"
      ]
     },
     "execution_count": 45,
     "metadata": {},
     "output_type": "execute_result"
    }
   ],
   "source": [
    "text_file_list = [file for file in file_list if file.endswith('.txt') ]\n",
    "text_file_list"
   ]
  },
  {
   "cell_type": "code",
   "execution_count": 47,
   "id": "05c18b5a",
   "metadata": {},
   "outputs": [
    {
     "data": {
      "text/plain": [
       "['MovieReviews\\\\cv005_29443.txt',\n",
       " 'MovieReviews\\\\cv007_4968.txt',\n",
       " 'MovieReviews\\\\cv008_29435.txt',\n",
       " 'MovieReviews\\\\cv009_29592.txt',\n",
       " 'MovieReviews\\\\cv010_29198.txt',\n",
       " 'MovieReviews\\\\cv011_12166.txt',\n",
       " 'MovieReviews\\\\machine_learning.txt',\n",
       " 'MovieReviews\\\\sample.txt']"
      ]
     },
     "execution_count": 47,
     "metadata": {},
     "output_type": "execute_result"
    }
   ],
   "source": [
    "folder_path = 'MovieReviews\\\\'\n",
    "text_file_list = glob.glob(folder_path+\"*.txt\")\n",
    "text_file_list"
   ]
  },
  {
   "cell_type": "code",
   "execution_count": 49,
   "id": "e78ebe3b",
   "metadata": {},
   "outputs": [
    {
     "data": {
      "text/plain": [
       "['MovieReviews\\\\1207_385_bank_statement11.pdf']"
      ]
     },
     "execution_count": 49,
     "metadata": {},
     "output_type": "execute_result"
    }
   ],
   "source": [
    "folder_path = 'MovieReviews\\\\'\n",
    "pdf_file_list = glob.glob(folder_path+\"*.pdf\")\n",
    "pdf_file_list"
   ]
  },
  {
   "cell_type": "code",
   "execution_count": 52,
   "id": "2951dba0",
   "metadata": {},
   "outputs": [
    {
     "data": {
      "text/plain": [
       "['MovieReviews\\\\SeoulBikeData.csv',\n",
       " 'MovieReviews\\\\synchronous machine (1).csv',\n",
       " 'MovieReviews\\\\synchronous machine.csv']"
      ]
     },
     "execution_count": 52,
     "metadata": {},
     "output_type": "execute_result"
    }
   ],
   "source": [
    "folder_path = 'MovieReviews\\\\'\n",
    "csv_file_list = glob.glob(folder_path+\"*.csv\")\n",
    "csv_file_list"
   ]
  },
  {
   "cell_type": "code",
   "execution_count": 53,
   "id": "118cabb2",
   "metadata": {},
   "outputs": [
    {
     "data": {
      "text/plain": [
       "['MovieReviews\\\\File_Handling.ipynb']"
      ]
     },
     "execution_count": 53,
     "metadata": {},
     "output_type": "execute_result"
    }
   ],
   "source": [
    "folder_path = 'MovieReviews\\\\'\n",
    "csv_file_list = glob.glob(folder_path+\"*.ipynb\")\n",
    "csv_file_list"
   ]
  },
  {
   "cell_type": "code",
   "execution_count": null,
   "id": "dcc1ec30",
   "metadata": {},
   "outputs": [],
   "source": []
  }
 ],
 "metadata": {
  "kernelspec": {
   "display_name": "Python 3",
   "language": "python",
   "name": "python3"
  },
  "language_info": {
   "codemirror_mode": {
    "name": "ipython",
    "version": 3
   },
   "file_extension": ".py",
   "mimetype": "text/x-python",
   "name": "python",
   "nbconvert_exporter": "python",
   "pygments_lexer": "ipython3",
   "version": "3.8.8"
  }
 },
 "nbformat": 4,
 "nbformat_minor": 5
}
