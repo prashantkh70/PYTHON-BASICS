{
 "cells": [
  {
   "cell_type": "code",
   "execution_count": 5,
   "id": "ecf544c6",
   "metadata": {},
   "outputs": [],
   "source": [
    "import pickle\n",
    "import numpy as np"
   ]
  },
  {
   "cell_type": "code",
   "execution_count": 4,
   "id": "5254d11c",
   "metadata": {},
   "outputs": [],
   "source": [
    "with open('linear_model.pkl','rb')as f:\n",
    "    model=pickle.load(f)\n",
    "    "
   ]
  },
  {
   "cell_type": "code",
   "execution_count": 7,
   "id": "5501eee6",
   "metadata": {},
   "outputs": [
    {
     "name": "stdout",
     "output_type": "stream",
     "text": [
      "Predicted Price is 27.9 $\n"
     ]
    }
   ],
   "source": [
    "CRIM = 0.07758\n",
    "ZN = 0.0\n",
    "INDUS=2.78\n",
    "CHAS =0.0\n",
    "NOX=0.45\n",
    "RM=6.58\n",
    "AGE=19.3\n",
    "DIS =6.211\n",
    "RAD=4.0\n",
    "TAX=120\n",
    "PTRATIO=17\n",
    "B=389\n",
    "LSTAT=7.52\n",
    "\n",
    "test_array=np.array([CRIM,ZN,INDUS,CHAS,NOX,RM,AGE,DIS,RAD,TAX,PTRATIO,B,LSTAT],ndmin=2)\n",
    "\n",
    "def get_predicted_price(test_array):\n",
    "    pred_price=model.predict(test_array)[0]\n",
    "    pred_price=np.around(pred_price,2)\n",
    "    return pred_price\n",
    "\n",
    "pred_price=get_predicted_price(test_array)\n",
    "print(f'Predicted Price is {pred_price} $')"
   ]
  },
  {
   "cell_type": "code",
   "execution_count": null,
   "id": "0d23f278",
   "metadata": {},
   "outputs": [],
   "source": []
  }
 ],
 "metadata": {
  "kernelspec": {
   "display_name": "Python 3",
   "language": "python",
   "name": "python3"
  },
  "language_info": {
   "codemirror_mode": {
    "name": "ipython",
    "version": 3
   },
   "file_extension": ".py",
   "mimetype": "text/x-python",
   "name": "python",
   "nbconvert_exporter": "python",
   "pygments_lexer": "ipython3",
   "version": "3.8.8"
  }
 },
 "nbformat": 4,
 "nbformat_minor": 5
}
