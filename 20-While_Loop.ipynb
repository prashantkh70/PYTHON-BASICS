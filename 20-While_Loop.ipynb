{
 "cells": [
  {
   "cell_type": "markdown",
   "id": "dee838e4",
   "metadata": {},
   "source": [
    "# While Loop"
   ]
  },
  {
   "cell_type": "code",
   "execution_count": null,
   "id": "809131ec",
   "metadata": {},
   "outputs": [],
   "source": [
    "while loop is used to execute a block of code until a given condition is true.\n",
    "\n",
    "\n",
    "while condition:\n",
    "    code line1\n",
    "    code line2\n",
    "    \n",
    "\n",
    "condition is:\n",
    "    1. True >> executes the block of code\n",
    "    2. False >> Exit the while loop"
   ]
  },
  {
   "cell_type": "code",
   "execution_count": null,
   "id": "057ef058",
   "metadata": {},
   "outputs": [],
   "source": [
    "while condition:\n",
    "    statement1\n",
    "    statement2"
   ]
  },
  {
   "cell_type": "code",
   "execution_count": 17,
   "id": "61fb6b4a",
   "metadata": {},
   "outputs": [
    {
     "name": "stdout",
     "output_type": "stream",
     "text": [
      "hello\n",
      "We are testing While Loop\n",
      "hello\n",
      "We are testing While Loop\n",
      "hello\n",
      "We are testing While Loop\n",
      "hello\n",
      "We are testing While Loop\n",
      "Loop Completed\n"
     ]
    }
   ],
   "source": [
    "i = 0\n",
    "while i < 4: #condition i < 4      0,1,2,3,4\n",
    "    print(\"hello\")\n",
    "    print('We are testing While Loop')\n",
    "    i+=1\n",
    "\n",
    "print('Loop Completed')"
   ]
  },
  {
   "cell_type": "code",
   "execution_count": 18,
   "id": "2f2d7ae8",
   "metadata": {},
   "outputs": [
    {
     "name": "stdout",
     "output_type": "stream",
     "text": [
      "Sum of First 10 number is 55\n"
     ]
    }
   ],
   "source": [
    "n = 10\n",
    "num = 1\n",
    "addition = 0\n",
    "\n",
    "while num <= n:             #  1,2,3,4\n",
    "    addition += num         #  1,3,6,10\n",
    "    num += 1                #  2,3,4,5\n",
    "\n",
    "print(f\"Sum of First {n} number is {addition}\")"
   ]
  },
  {
   "cell_type": "code",
   "execution_count": 19,
   "id": "e38f5b1e",
   "metadata": {},
   "outputs": [
    {
     "name": "stdout",
     "output_type": "stream",
     "text": [
      "Sum of First 100 number is 5050\n"
     ]
    }
   ],
   "source": [
    "n = 100\n",
    "num = 1\n",
    "addition = 0\n",
    "\n",
    "while num <= n:             #  1,2,3,4\n",
    "    addition += num         #  1,3,6,10\n",
    "    num += 1                #  2,3,4,5\n",
    "\n",
    "print(f\"Sum of First {n} number is {addition}\")"
   ]
  },
  {
   "cell_type": "code",
   "execution_count": 20,
   "id": "1620c18f",
   "metadata": {},
   "outputs": [
    {
     "name": "stdout",
     "output_type": "stream",
     "text": [
      "Sum of First 10 number is 55\n"
     ]
    }
   ],
   "source": [
    "n,num,addition = 10,1,0\n",
    "\n",
    "while num <= n:             #  1,2,3,4,5\n",
    "    addition += num         #  1,3,6,10,15\n",
    "    num += 1                #  2,3,4,5\n",
    "\n",
    "print(f\"Sum of First {n} number is {addition}\")"
   ]
  },
  {
   "cell_type": "code",
   "execution_count": 24,
   "id": "6d9c3b64",
   "metadata": {},
   "outputs": [
    {
     "name": "stdout",
     "output_type": "stream",
     "text": [
      "hello\n",
      "Out of while loop\n"
     ]
    }
   ],
   "source": [
    "i = 4\n",
    "while i <= 4: #False\n",
    "    print('hello')\n",
    "    i+=1\n",
    "\n",
    "print('Out of while loop')"
   ]
  },
  {
   "cell_type": "markdown",
   "id": "981a8402",
   "metadata": {},
   "source": [
    "# Loop Control statements"
   ]
  },
  {
   "cell_type": "markdown",
   "id": "189dbf18",
   "metadata": {},
   "source": [
    "### 1. break"
   ]
  },
  {
   "cell_type": "code",
   "execution_count": 26,
   "id": "fa3c4764",
   "metadata": {
    "scrolled": true
   },
   "outputs": [
    {
     "name": "stdout",
     "output_type": "stream",
     "text": [
      "Addition is greater than 10 5\n",
      "Sum of First 5 number is 15\n"
     ]
    }
   ],
   "source": [
    "n,num,addition = 10,1,0\n",
    "\n",
    "while num <= n:\n",
    "    addition += num\n",
    "    if addition >10:\n",
    "        print('Addition is greater than 10', num)\n",
    "        break\n",
    "    num+=1\n",
    "\n",
    "print(f\"Sum of First {num} number is {addition}\")"
   ]
  },
  {
   "cell_type": "code",
   "execution_count": null,
   "id": "e7750322",
   "metadata": {},
   "outputs": [],
   "source": [
    "while num <= n:             #  1,2,3,4,5\n",
    "    addition += num         #  1,3,6,10,15\n",
    "    num += 1                #  2,3,4,5"
   ]
  },
  {
   "cell_type": "code",
   "execution_count": 27,
   "id": "8e11fe07",
   "metadata": {},
   "outputs": [
    {
     "name": "stdout",
     "output_type": "stream",
     "text": [
      "i == 1\n",
      "i == 2\n",
      "i == 3\n",
      "i == 4\n",
      "i == 5\n",
      "i == 6\n",
      "i == 7\n",
      "i == 8\n",
      "i == 9\n",
      "i == 10\n"
     ]
    }
   ],
   "source": [
    "i = 1\n",
    "while i<= 10:\n",
    "    print(f\"i == {i}\")\n",
    "    i+=1\n",
    "#     if i == 6:\n",
    "#         print(\"Value of i is 6\")"
   ]
  },
  {
   "cell_type": "code",
   "execution_count": 28,
   "id": "f3986638",
   "metadata": {},
   "outputs": [
    {
     "name": "stdout",
     "output_type": "stream",
     "text": [
      "i == 1\n",
      "i == 2\n",
      "i == 3\n",
      "i == 4\n",
      "i == 5\n",
      "Value of i is 6\n",
      "i == 6\n",
      "i == 7\n",
      "i == 8\n",
      "i == 9\n",
      "i == 10\n"
     ]
    }
   ],
   "source": [
    "i = 1\n",
    "while i<= 10:\n",
    "    print(f\"i == {i}\")\n",
    "    i+=1\n",
    "    if i == 6:\n",
    "        print(\"Value of i is 6\")"
   ]
  },
  {
   "cell_type": "code",
   "execution_count": 29,
   "id": "c4b8331b",
   "metadata": {},
   "outputs": [
    {
     "name": "stdout",
     "output_type": "stream",
     "text": [
      "i == 1\n",
      "i == 2\n",
      "i == 3\n",
      "i == 4\n",
      "i == 5\n",
      "Value of i is 6\n"
     ]
    }
   ],
   "source": [
    "i = 1\n",
    "while i<= 10:\n",
    "    print(f\"i == {i}\")\n",
    "    i+=1\n",
    "    if i == 6:\n",
    "        print(\"Value of i is 6\")\n",
    "        break"
   ]
  },
  {
   "cell_type": "code",
   "execution_count": 31,
   "id": "4d5fd980",
   "metadata": {},
   "outputs": [
    {
     "name": "stdout",
     "output_type": "stream",
     "text": [
      "i == 1\n",
      "i == 2\n",
      "i == 3\n",
      "i == 4\n",
      "i == 5\n",
      "Value of i is 6\n",
      "Desired Value Found\n"
     ]
    }
   ],
   "source": [
    "i = 1\n",
    "while i<= 10:\n",
    "    print(f\"i == {i}\")\n",
    "    i+=1\n",
    "    if i == 6:\n",
    "        print(\"Value of i is 6\")\n",
    "        break\n",
    "print(\"Desired Value Found\")"
   ]
  },
  {
   "cell_type": "code",
   "execution_count": 32,
   "id": "6385d075",
   "metadata": {},
   "outputs": [
    {
     "name": "stdout",
     "output_type": "stream",
     "text": [
      "i == 1\n",
      "Desired Value Found\n",
      "i == 2\n",
      "Desired Value Found\n",
      "i == 3\n",
      "Desired Value Found\n",
      "i == 4\n",
      "Desired Value Found\n",
      "i == 5\n",
      "Value of i is 6\n"
     ]
    }
   ],
   "source": [
    "i = 1\n",
    "while i<= 10:\n",
    "    print(f\"i == {i}\")\n",
    "    i+=1\n",
    "    if i == 6:\n",
    "        print(\"Value of i is 6\")\n",
    "        break\n",
    "    print(\"Desired Value Found\")"
   ]
  },
  {
   "cell_type": "code",
   "execution_count": 33,
   "id": "c87e8770",
   "metadata": {},
   "outputs": [
    {
     "name": "stdout",
     "output_type": "stream",
     "text": [
      "i == 1\n",
      "Desired Value Found\n",
      "i == 2\n",
      "Desired Value Found\n",
      "i == 3\n",
      "Desired Value Found\n",
      "i == 4\n",
      "Desired Value Found\n",
      "i == 5\n",
      "Value of i is 6\n",
      "i == 6\n",
      "Desired Value Found\n",
      "i == 7\n",
      "Desired Value Found\n",
      "i == 8\n",
      "Desired Value Found\n",
      "i == 9\n",
      "Desired Value Found\n",
      "i == 10\n",
      "Desired Value Found\n"
     ]
    }
   ],
   "source": [
    "i = 1\n",
    "while i<= 10:\n",
    "    print(f\"i == {i}\")\n",
    "    i+=1\n",
    "    if i == 6:\n",
    "        print(\"Value of i is 6\")\n",
    "        continue\n",
    "    print(\"Desired Value Found\")"
   ]
  },
  {
   "cell_type": "code",
   "execution_count": 34,
   "id": "b3f11ea9",
   "metadata": {},
   "outputs": [
    {
     "name": "stdout",
     "output_type": "stream",
     "text": [
      "i == 1\n",
      "python\n",
      "i == 2\n",
      "python\n",
      "i == 3\n",
      "python\n",
      "i == 4\n",
      "python\n",
      "i == 5\n",
      "Value of i is 6\n",
      "python\n",
      "i == 6\n",
      "python\n",
      "i == 7\n",
      "python\n",
      "i == 8\n",
      "python\n",
      "i == 9\n",
      "python\n",
      "i == 10\n",
      "python\n"
     ]
    }
   ],
   "source": [
    "i = 1\n",
    "while i<= 10:\n",
    "    print(f\"i == {i}\")\n",
    "    i+=1\n",
    "    if i == 6:\n",
    "        print(\"Value of i is 6\")\n",
    "        pass\n",
    "    print(\"python\")"
   ]
  },
  {
   "cell_type": "markdown",
   "id": "b922e6e6",
   "metadata": {},
   "source": [
    "# While Else"
   ]
  },
  {
   "cell_type": "code",
   "execution_count": 35,
   "id": "4e1b71fb",
   "metadata": {},
   "outputs": [
    {
     "name": "stdout",
     "output_type": "stream",
     "text": [
      "1\n",
      "2\n",
      "3\n",
      "4\n",
      "5\n",
      "6\n",
      "7\n",
      "8\n",
      "9\n",
      "Loop is completed\n"
     ]
    }
   ],
   "source": [
    "i =1\n",
    "while i < 10:\n",
    "    print(i)\n",
    "    i+=1\n",
    "else:\n",
    "    print('Loop is completed')"
   ]
  },
  {
   "cell_type": "code",
   "execution_count": 36,
   "id": "289fbcca",
   "metadata": {},
   "outputs": [
    {
     "name": "stdout",
     "output_type": "stream",
     "text": [
      "1\n",
      "2\n",
      "3\n",
      "4\n"
     ]
    }
   ],
   "source": [
    "i =1\n",
    "while i < 10:  #1,2,3,4\n",
    "    print(i)\n",
    "    i+=1\n",
    "    if i == 5:\n",
    "        break\n",
    "else:\n",
    "    print('Loop is completed')"
   ]
  },
  {
   "cell_type": "code",
   "execution_count": 37,
   "id": "ae1f3190",
   "metadata": {},
   "outputs": [
    {
     "name": "stdout",
     "output_type": "stream",
     "text": [
      "1\n",
      "3\n",
      "5\n",
      "7\n",
      "9\n",
      "Loop is completed\n"
     ]
    }
   ],
   "source": [
    "i =1\n",
    "while i < 10:\n",
    "    print(i)\n",
    "    i+=2\n",
    "    \n",
    "else:\n",
    "    print('Loop is completed')"
   ]
  },
  {
   "cell_type": "code",
   "execution_count": 40,
   "id": "7a9bb452",
   "metadata": {},
   "outputs": [
    {
     "name": "stdout",
     "output_type": "stream",
     "text": [
      "1\n",
      "3\n",
      "**********************\n",
      "Finished\n"
     ]
    }
   ],
   "source": [
    "i =1\n",
    "while i < 10:  #1,3\n",
    "    print(i)\n",
    "    i+=2\n",
    "    if i ==5:\n",
    "        print('**********************')\n",
    "        break\n",
    "    \n",
    "else:\n",
    "    print('Loop is completed')\n",
    "\n",
    "print('Finished')"
   ]
  },
  {
   "cell_type": "markdown",
   "id": "e4cae47d",
   "metadata": {},
   "source": [
    "# Access value from sequences"
   ]
  },
  {
   "cell_type": "code",
   "execution_count": 41,
   "id": "adf3e48d",
   "metadata": {},
   "outputs": [
    {
     "name": "stdout",
     "output_type": "stream",
     "text": [
      "Char is :  p\n",
      "Char is :  y\n",
      "Char is :  t\n",
      "Char is :  h\n",
      "Char is :  o\n",
      "Char is :  n\n"
     ]
    }
   ],
   "source": [
    "string = 'python'\n",
    "i=0\n",
    "while i < len(string):                #0,1\n",
    "    print(\"Char is : \",string[i])    # string[0] =p , y\n",
    "    i+=1"
   ]
  },
  {
   "cell_type": "code",
   "execution_count": 42,
   "id": "07bcc617",
   "metadata": {},
   "outputs": [
    {
     "name": "stdout",
     "output_type": "stream",
     "text": [
      "Char at index 0 is :  p\n",
      "Char at index 1 is :  y\n",
      "Char at index 2 is :  t\n",
      "Char at index 3 is :  h\n",
      "Char at index 4 is :  o\n",
      "Char at index 5 is :  n\n"
     ]
    }
   ],
   "source": [
    "string = 'python'\n",
    "i=0\n",
    "while i < len(string):                #0,1\n",
    "    print(f\"Char at index {i} is : \",string[i])    # string[0] =p , y\n",
    "    i+=1"
   ]
  },
  {
   "cell_type": "code",
   "execution_count": 43,
   "id": "012a1ac8",
   "metadata": {},
   "outputs": [
    {
     "name": "stdout",
     "output_type": "stream",
     "text": [
      "Char at index 0 is :  p\n",
      "Char at index 2 is :  t\n",
      "Char at index 4 is :  o\n"
     ]
    }
   ],
   "source": [
    "string = 'python'\n",
    "i=0\n",
    "while i < len(string):                #0,1\n",
    "    print(f\"Char at index {i} is : \",string[i])    # string[0] =p , y\n",
    "    i+=2"
   ]
  },
  {
   "cell_type": "code",
   "execution_count": 44,
   "id": "b83c3c04",
   "metadata": {},
   "outputs": [
    {
     "name": "stdout",
     "output_type": "stream",
     "text": [
      "Char at index 0 is :  10\n",
      "Char at index 1 is :  50\n",
      "Char at index 2 is :  banana\n",
      "Char at index 3 is :  potato\n",
      "Char at index 4 is :  400\n"
     ]
    }
   ],
   "source": [
    "list1 = [10,50,'banana','potato',400]\n",
    "i=0\n",
    "while i < len(list1):                \n",
    "    print(f\"Char at index {i} is : \",list1[i])    \n",
    "    i+=1"
   ]
  },
  {
   "cell_type": "code",
   "execution_count": 47,
   "id": "c615fba2",
   "metadata": {},
   "outputs": [
    {
     "name": "stdout",
     "output_type": "stream",
     "text": [
      "Char at index 0 is :  10\n",
      "Char at index 1 is :  50\n",
      "Char at index 2 is :  banana\n",
      "Char at index 3 is :  potato\n",
      "Char at index 4 is :  400\n",
      "Integer list is :  [10, 50, 400]\n",
      "String list is :  ['banana', 'potato']\n"
     ]
    }
   ],
   "source": [
    "list1 = [10,50,'banana','potato',400]\n",
    "\n",
    "int_list = []\n",
    "str_list = []\n",
    "\n",
    "i=0\n",
    "while i < len(list1):                           #\n",
    "    print(f\"Char at index {i} is : \",list1[i])\n",
    "    if type(list1[i])==int:                     #10,50,banana\n",
    "        int_list.append(list1[i])\n",
    "    else:\n",
    "        str_list.append(list1[i])\n",
    "    i+=1\n",
    "\n",
    "print('Integer list is : ',int_list)\n",
    "print('String list is : ',str_list)"
   ]
  },
  {
   "cell_type": "markdown",
   "id": "f561137b",
   "metadata": {},
   "source": [
    "# Factorial"
   ]
  },
  {
   "cell_type": "code",
   "execution_count": 48,
   "id": "38f4511c",
   "metadata": {},
   "outputs": [
    {
     "name": "stdout",
     "output_type": "stream",
     "text": [
      "Factorial of 5 is 120 \n"
     ]
    }
   ],
   "source": [
    "n = 5\n",
    "fact = 1\n",
    "i =n          #i =5,4\n",
    "while i>= 1:          # True\n",
    "    fact = fact * i    #5*4\n",
    "    i-=1\n",
    "print(f\"Factorial of {n} is {fact} \")"
   ]
  },
  {
   "cell_type": "code",
   "execution_count": 50,
   "id": "bbf20557",
   "metadata": {},
   "outputs": [
    {
     "data": {
      "text/plain": [
       "120"
      ]
     },
     "execution_count": 50,
     "metadata": {},
     "output_type": "execute_result"
    }
   ],
   "source": [
    "5*4*3*2*1"
   ]
  },
  {
   "cell_type": "code",
   "execution_count": null,
   "id": "9219ab57",
   "metadata": {},
   "outputs": [],
   "source": [
    "*\n",
    "**\n",
    "***\n",
    "****"
   ]
  },
  {
   "cell_type": "code",
   "execution_count": 52,
   "id": "72014dc9",
   "metadata": {},
   "outputs": [
    {
     "name": "stdout",
     "output_type": "stream",
     "text": [
      "* \n",
      "* * \n",
      "* * * \n",
      "* * * * \n",
      "* * * * * \n",
      "* * * * * * \n"
     ]
    }
   ],
   "source": [
    "n =6\n",
    "i =1\n",
    "while i<=n:    #1 True\n",
    "    j=1\n",
    "    while j<=i: #true\n",
    "        print('*',end = ' ')\n",
    "        j+=1\n",
    "    print()\n",
    "    i+=1\n"
   ]
  },
  {
   "cell_type": "code",
   "execution_count": null,
   "id": "cf270c65",
   "metadata": {},
   "outputs": [],
   "source": [
    "******\n",
    "*****\n",
    "****\n",
    "***\n",
    "**\n",
    "*"
   ]
  },
  {
   "cell_type": "code",
   "execution_count": 54,
   "id": "184cd8ca",
   "metadata": {},
   "outputs": [
    {
     "name": "stdout",
     "output_type": "stream",
     "text": [
      "* * * * * * \n",
      "* * * * * \n",
      "* * * * \n",
      "* * * \n",
      "* * \n",
      "* \n"
     ]
    }
   ],
   "source": [
    "n =6\n",
    "i =1\n",
    "while i<=n:\n",
    "    j=n\n",
    "    while j>=i:\n",
    "        print('*',end = ' ')\n",
    "        j-=1\n",
    "    print()\n",
    "    i+=1"
   ]
  },
  {
   "cell_type": "code",
   "execution_count": 55,
   "id": "cc29ec43",
   "metadata": {},
   "outputs": [
    {
     "name": "stdout",
     "output_type": "stream",
     "text": [
      "1 \n",
      "2 2 \n",
      "3 3 3 \n",
      "4 4 4 4 \n",
      "5 5 5 5 5 \n",
      "6 6 6 6 6 6 \n"
     ]
    }
   ],
   "source": [
    "i =1\n",
    "while i<=n:    #1 True\n",
    "    j=1\n",
    "    while j<=i: #true\n",
    "        print(i,end = ' ')\n",
    "        j+=1\n",
    "    print()\n",
    "    i+=1"
   ]
  },
  {
   "cell_type": "code",
   "execution_count": null,
   "id": "f8adaa8c",
   "metadata": {},
   "outputs": [],
   "source": []
  }
 ],
 "metadata": {
  "kernelspec": {
   "display_name": "Python 3",
   "language": "python",
   "name": "python3"
  },
  "language_info": {
   "codemirror_mode": {
    "name": "ipython",
    "version": 3
   },
   "file_extension": ".py",
   "mimetype": "text/x-python",
   "name": "python",
   "nbconvert_exporter": "python",
   "pygments_lexer": "ipython3",
   "version": "3.8.8"
  }
 },
 "nbformat": 4,
 "nbformat_minor": 5
}
