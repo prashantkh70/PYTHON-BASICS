{
 "cells": [
  {
   "cell_type": "code",
   "execution_count": null,
   "id": "62c27511",
   "metadata": {},
   "outputs": [],
   "source": [
    "string functions\n",
    "1. capitalize()\n",
    "2. lower()\n",
    "3. upper()\n",
    "4. title()\n",
    "5. lstrip()\n",
    "6. rstrip()\n",
    "7. strip()\n",
    "8. replace()\n",
    "9. count()\n",
    "10. index()\n",
    "11. find()\n",
    "12. split()\n",
    "13. endswith()\n",
    "14. startswith()\n",
    "15. isalnum()\n",
    "16. isalpha()\n",
    "17. isdecimal()\n",
    "18. isdigit()\n",
    "19. isnumeric()\n",
    "20. islower()\n",
    "21. isupper()\n",
    "22. istitle()\n",
    "23. isspace()\n",
    "24. zfill()\n",
    "25. center()\n",
    "26. casefold()\n"
   ]
  },
  {
   "cell_type": "markdown",
   "id": "e68c8ff5",
   "metadata": {},
   "source": [
    "# 11. find()"
   ]
  },
  {
   "cell_type": "code",
   "execution_count": 1,
   "id": "3a22f213",
   "metadata": {},
   "outputs": [],
   "source": [
    "string = 'python and data science'"
   ]
  },
  {
   "cell_type": "code",
   "execution_count": 2,
   "id": "3cac045a",
   "metadata": {},
   "outputs": [
    {
     "data": {
      "text/plain": [
       "2"
      ]
     },
     "execution_count": 2,
     "metadata": {},
     "output_type": "execute_result"
    }
   ],
   "source": [
    "string.index('t')"
   ]
  },
  {
   "cell_type": "code",
   "execution_count": 3,
   "id": "bd192a85",
   "metadata": {},
   "outputs": [
    {
     "ename": "ValueError",
     "evalue": "substring not found",
     "output_type": "error",
     "traceback": [
      "\u001b[1;31m---------------------------------------------------------------------------\u001b[0m",
      "\u001b[1;31mValueError\u001b[0m                                Traceback (most recent call last)",
      "\u001b[1;32m<ipython-input-3-bda07b1de405>\u001b[0m in \u001b[0;36m<module>\u001b[1;34m\u001b[0m\n\u001b[1;32m----> 1\u001b[1;33m \u001b[0mstring\u001b[0m\u001b[1;33m.\u001b[0m\u001b[0mindex\u001b[0m\u001b[1;33m(\u001b[0m\u001b[1;34m'q'\u001b[0m\u001b[1;33m)\u001b[0m\u001b[1;33m\u001b[0m\u001b[1;33m\u001b[0m\u001b[0m\n\u001b[0m",
      "\u001b[1;31mValueError\u001b[0m: substring not found"
     ]
    }
   ],
   "source": [
    "string.index('q')"
   ]
  },
  {
   "cell_type": "code",
   "execution_count": 4,
   "id": "85396c20",
   "metadata": {},
   "outputs": [
    {
     "data": {
      "text/plain": [
       "2"
      ]
     },
     "execution_count": 4,
     "metadata": {},
     "output_type": "execute_result"
    }
   ],
   "source": [
    "string.find('t')"
   ]
  },
  {
   "cell_type": "code",
   "execution_count": 5,
   "id": "0322296b",
   "metadata": {},
   "outputs": [
    {
     "data": {
      "text/plain": [
       "-1"
      ]
     },
     "execution_count": 5,
     "metadata": {},
     "output_type": "execute_result"
    }
   ],
   "source": [
    "string.find('q')"
   ]
  },
  {
   "cell_type": "code",
   "execution_count": 6,
   "id": "f3f8ee44",
   "metadata": {},
   "outputs": [
    {
     "data": {
      "text/plain": [
       "True"
      ]
     },
     "execution_count": 6,
     "metadata": {},
     "output_type": "execute_result"
    }
   ],
   "source": [
    "'python' in string"
   ]
  },
  {
   "cell_type": "code",
   "execution_count": 7,
   "id": "533dd8ab",
   "metadata": {},
   "outputs": [
    {
     "data": {
      "text/plain": [
       "False"
      ]
     },
     "execution_count": 7,
     "metadata": {},
     "output_type": "execute_result"
    }
   ],
   "source": [
    "'PYthon' in string"
   ]
  },
  {
   "cell_type": "code",
   "execution_count": 11,
   "id": "2346396b",
   "metadata": {},
   "outputs": [],
   "source": [
    "string = 'Python class'"
   ]
  },
  {
   "cell_type": "code",
   "execution_count": 18,
   "id": "b5cc3993",
   "metadata": {},
   "outputs": [],
   "source": [
    "substr = 'CLASS'"
   ]
  },
  {
   "cell_type": "code",
   "execution_count": 20,
   "id": "4b181bf7",
   "metadata": {},
   "outputs": [
    {
     "name": "stdout",
     "output_type": "stream",
     "text": [
      "substring is not present in given string\n"
     ]
    }
   ],
   "source": [
    "if string.find('CLASS')==-1:\n",
    "    print('substring is not present in given string')\n",
    "else:\n",
    "    index= string.index(substr)\n",
    "    print(f\"substring is present in given string at index {index}\")"
   ]
  },
  {
   "cell_type": "code",
   "execution_count": null,
   "id": "ee203853",
   "metadata": {},
   "outputs": [],
   "source": [
    "12. split()"
   ]
  },
  {
   "cell_type": "code",
   "execution_count": null,
   "id": "bca6a373",
   "metadata": {},
   "outputs": [],
   "source": [
    "it is used to convert string into list"
   ]
  },
  {
   "cell_type": "code",
   "execution_count": 22,
   "id": "56e9076c",
   "metadata": {},
   "outputs": [],
   "source": [
    "list1 = [2,3.5,'python', 'data']"
   ]
  },
  {
   "cell_type": "code",
   "execution_count": 23,
   "id": "c934a7cf",
   "metadata": {},
   "outputs": [
    {
     "name": "stdout",
     "output_type": "stream",
     "text": [
      "[2, 3.5, 'python', 'data']\n"
     ]
    }
   ],
   "source": [
    "print(list1)"
   ]
  },
  {
   "cell_type": "code",
   "execution_count": 24,
   "id": "83e447dd",
   "metadata": {},
   "outputs": [],
   "source": [
    "string1= 'python and data science'\n",
    "list2 = string1.split()"
   ]
  },
  {
   "cell_type": "code",
   "execution_count": 26,
   "id": "6de0a21b",
   "metadata": {},
   "outputs": [
    {
     "name": "stdout",
     "output_type": "stream",
     "text": [
      "['python', 'and', 'data', 'science']\n"
     ]
    },
    {
     "data": {
      "text/plain": [
       "list"
      ]
     },
     "execution_count": 26,
     "metadata": {},
     "output_type": "execute_result"
    }
   ],
   "source": [
    "print(list2)\n",
    "type(list2)"
   ]
  },
  {
   "cell_type": "code",
   "execution_count": 27,
   "id": "88def19c",
   "metadata": {},
   "outputs": [
    {
     "name": "stdout",
     "output_type": "stream",
     "text": [
      "['python', 'and', 'datascience']\n"
     ]
    },
    {
     "data": {
      "text/plain": [
       "list"
      ]
     },
     "execution_count": 27,
     "metadata": {},
     "output_type": "execute_result"
    }
   ],
   "source": [
    "string1= 'python and datascience'\n",
    "list2 = string1.split()\n",
    "print(list2)\n",
    "type(list2)"
   ]
  },
  {
   "cell_type": "code",
   "execution_count": 28,
   "id": "89007465",
   "metadata": {},
   "outputs": [
    {
     "name": "stdout",
     "output_type": "stream",
     "text": [
      "['python ', 'nd d', 't', ' science']\n"
     ]
    },
    {
     "data": {
      "text/plain": [
       "list"
      ]
     },
     "execution_count": 28,
     "metadata": {},
     "output_type": "execute_result"
    }
   ],
   "source": [
    "string1= 'python and data science'\n",
    "list2 = string1.split('a')\n",
    "print(list2)\n",
    "type(list2)"
   ]
  },
  {
   "cell_type": "code",
   "execution_count": 29,
   "id": "d7180cfb",
   "metadata": {},
   "outputs": [
    {
     "name": "stdout",
     "output_type": "stream",
     "text": [
      "['py', 'hon and da', 'a science']\n"
     ]
    },
    {
     "data": {
      "text/plain": [
       "list"
      ]
     },
     "execution_count": 29,
     "metadata": {},
     "output_type": "execute_result"
    }
   ],
   "source": [
    "string1= 'python and data science'\n",
    "list2 = string1.split('t')\n",
    "print(list2)\n",
    "type(list2)"
   ]
  },
  {
   "cell_type": "code",
   "execution_count": 30,
   "id": "c2d9ac7c",
   "metadata": {},
   "outputs": [],
   "source": [
    "string = '''Data science is an interdisciplinary field that uses scientific methods, processes, \n",
    "algorithms and systems to extract knowledge and insights \n",
    "from noisy, structured and unstructured data, and apply \n",
    "knowledge from data across a broad range of application domains'''"
   ]
  },
  {
   "cell_type": "code",
   "execution_count": 32,
   "id": "4547c0eb",
   "metadata": {},
   "outputs": [
    {
     "name": "stdout",
     "output_type": "stream",
     "text": [
      "['Data', 'science', 'is', 'an', 'interdisciplinary', 'field', 'that', 'uses', 'scientific', 'methods,', 'processes,', 'algorithms', 'and', 'systems', 'to', 'extract', 'knowledge', 'and', 'insights', 'from', 'noisy,', 'structured', 'and', 'unstructured', 'data,', 'and', 'apply', 'knowledge', 'from', 'data', 'across', 'a', 'broad', 'range', 'of', 'application', 'domains']\n"
     ]
    }
   ],
   "source": [
    "print(string.split())"
   ]
  },
  {
   "cell_type": "code",
   "execution_count": 33,
   "id": "f466f92a",
   "metadata": {},
   "outputs": [
    {
     "name": "stdout",
     "output_type": "stream",
     "text": [
      "['Data science is an interdisciplinary field that uses scientific methods, processes, ', 'algorithms and systems to extract knowledge and insights ', 'from noisy, structured and unstructured data, and apply ', 'knowledge from data across a broad range of application domains']\n"
     ]
    }
   ],
   "source": [
    "print(string.split('\\n'))"
   ]
  },
  {
   "cell_type": "code",
   "execution_count": null,
   "id": "78b0174b",
   "metadata": {},
   "outputs": [],
   "source": [
    "13. endswith()"
   ]
  },
  {
   "cell_type": "code",
   "execution_count": null,
   "id": "572d82cc",
   "metadata": {},
   "outputs": [],
   "source": [
    "it returns True / False "
   ]
  },
  {
   "cell_type": "code",
   "execution_count": null,
   "id": "de788f84",
   "metadata": {},
   "outputs": [],
   "source": [
    ".pdf, .docs, "
   ]
  },
  {
   "cell_type": "code",
   "execution_count": 34,
   "id": "4aed3cf3",
   "metadata": {},
   "outputs": [
    {
     "data": {
      "text/plain": [
       "True"
      ]
     },
     "execution_count": 34,
     "metadata": {},
     "output_type": "execute_result"
    }
   ],
   "source": [
    "string= 'python'\n",
    "string.endswith('on')"
   ]
  },
  {
   "cell_type": "code",
   "execution_count": 35,
   "id": "f0427f61",
   "metadata": {},
   "outputs": [
    {
     "data": {
      "text/plain": [
       "False"
      ]
     },
     "execution_count": 35,
     "metadata": {},
     "output_type": "execute_result"
    }
   ],
   "source": [
    "string= 'python'\n",
    "string.endswith('no')"
   ]
  },
  {
   "cell_type": "code",
   "execution_count": 36,
   "id": "f64510bf",
   "metadata": {},
   "outputs": [],
   "source": [
    "import os"
   ]
  },
  {
   "cell_type": "code",
   "execution_count": 42,
   "id": "1200dc50",
   "metadata": {},
   "outputs": [
    {
     "name": "stdout",
     "output_type": "stream",
     "text": [
      "['1207_385_bank_statement11.pdf', '97_134_bank_statement21.pdf', 'AmesHousing.csv', 'autos_dataset.csv', 'Country_clusters.csv', 'credit-card.csv', 'Customers.csv', 'cv004_11636.txt', 'cv005_29443.txt', 'cv007_4968.txt', 'cv008_29435.txt', 'cv009_29592.txt']\n"
     ]
    },
    {
     "data": {
      "text/plain": [
       "12"
      ]
     },
     "execution_count": 42,
     "metadata": {},
     "output_type": "execute_result"
    }
   ],
   "source": [
    "file_path = r\"E:\\Velocity_9_July_22\\07_18_string_functions\\test_files\"\n",
    "files_list = os.listdir('test_files')\n",
    "print(files_list)\n",
    "len(files_list)"
   ]
  },
  {
   "cell_type": "code",
   "execution_count": 39,
   "id": "1cbe134c",
   "metadata": {},
   "outputs": [
    {
     "name": "stdout",
     "output_type": "stream",
     "text": [
      "File name is  1207_385_bank_statement11.pdf\n",
      "File name is  97_134_bank_statement21.pdf\n"
     ]
    }
   ],
   "source": [
    "for file_name in files_list:\n",
    "    if file_name.endswith('.pdf'):\n",
    "        print(\"File name is \",file_name)"
   ]
  },
  {
   "cell_type": "code",
   "execution_count": 40,
   "id": "2287b285",
   "metadata": {},
   "outputs": [
    {
     "name": "stdout",
     "output_type": "stream",
     "text": [
      "File name is  AmesHousing.csv\n",
      "File name is  autos_dataset.csv\n",
      "File name is  Country_clusters.csv\n",
      "File name is  credit-card.csv\n",
      "File name is  Customers.csv\n"
     ]
    }
   ],
   "source": [
    "for file_name in files_list:\n",
    "    if file_name.endswith('.csv'):\n",
    "        print(\"File name is \",file_name)"
   ]
  },
  {
   "cell_type": "code",
   "execution_count": 41,
   "id": "62cb4679",
   "metadata": {},
   "outputs": [
    {
     "name": "stdout",
     "output_type": "stream",
     "text": [
      "File name is  cv004_11636.txt\n",
      "File name is  cv005_29443.txt\n",
      "File name is  cv007_4968.txt\n",
      "File name is  cv008_29435.txt\n",
      "File name is  cv009_29592.txt\n"
     ]
    }
   ],
   "source": [
    "for file_name in files_list:\n",
    "    if file_name.endswith('.txt'):\n",
    "        print(\"File name is \",file_name)"
   ]
  },
  {
   "cell_type": "markdown",
   "id": "ab6e3103",
   "metadata": {},
   "source": [
    "# 14. startswith()"
   ]
  },
  {
   "cell_type": "code",
   "execution_count": 44,
   "id": "bc0da08d",
   "metadata": {},
   "outputs": [
    {
     "data": {
      "text/plain": [
       "True"
      ]
     },
     "execution_count": 44,
     "metadata": {},
     "output_type": "execute_result"
    }
   ],
   "source": [
    "string = 'python'\n",
    "string.startswith('p')"
   ]
  },
  {
   "cell_type": "code",
   "execution_count": 45,
   "id": "140d3db0",
   "metadata": {},
   "outputs": [
    {
     "data": {
      "text/plain": [
       "False"
      ]
     },
     "execution_count": 45,
     "metadata": {},
     "output_type": "execute_result"
    }
   ],
   "source": [
    "string = 'python'\n",
    "string.startswith('H')"
   ]
  },
  {
   "cell_type": "code",
   "execution_count": 47,
   "id": "0c4d272b",
   "metadata": {},
   "outputs": [
    {
     "name": "stdout",
     "output_type": "stream",
     "text": [
      "File name is  credit-card.csv\n",
      "File name is  cv004_11636.txt\n",
      "File name is  cv005_29443.txt\n",
      "File name is  cv007_4968.txt\n",
      "File name is  cv008_29435.txt\n",
      "File name is  cv009_29592.txt\n"
     ]
    }
   ],
   "source": [
    "for file_name in files_list:\n",
    "    if file_name.startswith('c'):\n",
    "        print(\"File name is \",file_name)"
   ]
  },
  {
   "cell_type": "code",
   "execution_count": 48,
   "id": "a43cf767",
   "metadata": {},
   "outputs": [
    {
     "name": "stdout",
     "output_type": "stream",
     "text": [
      "File name is  Country_clusters.csv\n",
      "File name is  Customers.csv\n"
     ]
    }
   ],
   "source": [
    "for file_name in files_list:\n",
    "    if file_name.startswith('C'):\n",
    "        print(\"File name is \",file_name)"
   ]
  },
  {
   "cell_type": "code",
   "execution_count": 49,
   "id": "65dcb32d",
   "metadata": {},
   "outputs": [
    {
     "name": "stdout",
     "output_type": "stream",
     "text": [
      "File name is  97_134_bank_statement21.pdf\n"
     ]
    }
   ],
   "source": [
    "for file_name in files_list:\n",
    "    if file_name.startswith('9'):\n",
    "        print(\"File name is \",file_name)"
   ]
  },
  {
   "cell_type": "markdown",
   "id": "f7bfa143",
   "metadata": {},
   "source": [
    "# 15. isalnum()"
   ]
  },
  {
   "cell_type": "code",
   "execution_count": null,
   "id": "fb1b466f",
   "metadata": {},
   "outputs": [],
   "source": [
    "True/False\n",
    "isalnum >> isalphanumeric\n",
    "True if string isalphanumeric >> a-z,A-Z,0-9    \n",
    "space is not allowed , special char"
   ]
  },
  {
   "cell_type": "code",
   "execution_count": 50,
   "id": "a20233e0",
   "metadata": {},
   "outputs": [
    {
     "data": {
      "text/plain": [
       "True"
      ]
     },
     "execution_count": 50,
     "metadata": {},
     "output_type": "execute_result"
    }
   ],
   "source": [
    "string = 'python' #lower case\n",
    "string.isalnum()"
   ]
  },
  {
   "cell_type": "code",
   "execution_count": 51,
   "id": "52acb068",
   "metadata": {},
   "outputs": [
    {
     "data": {
      "text/plain": [
       "True"
      ]
     },
     "execution_count": 51,
     "metadata": {},
     "output_type": "execute_result"
    }
   ],
   "source": [
    "string = 'PYTHON' # upper  case\n",
    "string.isalnum()"
   ]
  },
  {
   "cell_type": "code",
   "execution_count": 52,
   "id": "2738d2af",
   "metadata": {},
   "outputs": [
    {
     "data": {
      "text/plain": [
       "True"
      ]
     },
     "execution_count": 52,
     "metadata": {},
     "output_type": "execute_result"
    }
   ],
   "source": [
    "string = 'Python1234' #lower case, uppercase, numeric\n",
    "string.isalnum()"
   ]
  },
  {
   "cell_type": "code",
   "execution_count": 54,
   "id": "39aa6f94",
   "metadata": {},
   "outputs": [
    {
     "data": {
      "text/plain": [
       "False"
      ]
     },
     "execution_count": 54,
     "metadata": {},
     "output_type": "execute_result"
    }
   ],
   "source": [
    "string = 'pyt@hon' #space is not allowed\n",
    "string.isalnum()"
   ]
  },
  {
   "cell_type": "code",
   "execution_count": 56,
   "id": "52f1094f",
   "metadata": {},
   "outputs": [
    {
     "data": {
      "text/plain": [
       "True"
      ]
     },
     "execution_count": 56,
     "metadata": {},
     "output_type": "execute_result"
    }
   ],
   "source": [
    "string = 'AMQPD8617E' #space is not allowed\n",
    "string.isalnum()"
   ]
  },
  {
   "cell_type": "code",
   "execution_count": 59,
   "id": "75ecc0c1",
   "metadata": {},
   "outputs": [
    {
     "data": {
      "text/plain": [
       "True"
      ]
     },
     "execution_count": 59,
     "metadata": {},
     "output_type": "execute_result"
    }
   ],
   "source": [
    "string = 'AMQPD8617E' \n",
    "string.isalnum()"
   ]
  },
  {
   "cell_type": "markdown",
   "id": "4c7bb24a",
   "metadata": {},
   "source": [
    "# 16. isalpha"
   ]
  },
  {
   "cell_type": "code",
   "execution_count": null,
   "id": "58346780",
   "metadata": {},
   "outputs": [],
   "source": [
    "True/False\n",
    "isalpha >> alphabetic\n",
    "True if string isalphanumeric >> a-z,A-Z\n",
    "space is not allowed , special char"
   ]
  },
  {
   "cell_type": "code",
   "execution_count": 62,
   "id": "e432e258",
   "metadata": {},
   "outputs": [
    {
     "data": {
      "text/plain": [
       "True"
      ]
     },
     "execution_count": 62,
     "metadata": {},
     "output_type": "execute_result"
    }
   ],
   "source": [
    "string = 'python' #lower case\n",
    "string.isalpha()"
   ]
  },
  {
   "cell_type": "code",
   "execution_count": 63,
   "id": "922275e1",
   "metadata": {},
   "outputs": [
    {
     "data": {
      "text/plain": [
       "True"
      ]
     },
     "execution_count": 63,
     "metadata": {},
     "output_type": "execute_result"
    }
   ],
   "source": [
    "string = 'PYTHON' # upper  case\n",
    "string.isalpha()"
   ]
  },
  {
   "cell_type": "code",
   "execution_count": 64,
   "id": "5c0e0bfe",
   "metadata": {},
   "outputs": [
    {
     "data": {
      "text/plain": [
       "False"
      ]
     },
     "execution_count": 64,
     "metadata": {},
     "output_type": "execute_result"
    }
   ],
   "source": [
    "string = 'Python1234' \n",
    "string.isalpha()"
   ]
  },
  {
   "cell_type": "code",
   "execution_count": 65,
   "id": "63378cdd",
   "metadata": {},
   "outputs": [
    {
     "data": {
      "text/plain": [
       "True"
      ]
     },
     "execution_count": 65,
     "metadata": {},
     "output_type": "execute_result"
    }
   ],
   "source": [
    "string = 'Python' \n",
    "string.isalpha()"
   ]
  },
  {
   "cell_type": "code",
   "execution_count": 66,
   "id": "933c5a19",
   "metadata": {},
   "outputs": [
    {
     "data": {
      "text/plain": [
       "False"
      ]
     },
     "execution_count": 66,
     "metadata": {},
     "output_type": "execute_result"
    }
   ],
   "source": [
    "string = 'Python t' \n",
    "string.isalpha()"
   ]
  },
  {
   "cell_type": "code",
   "execution_count": 67,
   "id": "13546d04",
   "metadata": {},
   "outputs": [
    {
     "data": {
      "text/plain": [
       "False"
      ]
     },
     "execution_count": 67,
     "metadata": {},
     "output_type": "execute_result"
    }
   ],
   "source": [
    "string = 'Python%1234' \n",
    "string.isalpha()"
   ]
  },
  {
   "cell_type": "markdown",
   "id": "126fe303",
   "metadata": {},
   "source": [
    "# 17. isdecimal()"
   ]
  },
  {
   "cell_type": "code",
   "execution_count": null,
   "id": "e3e996c1",
   "metadata": {},
   "outputs": [],
   "source": [
    "True/False\n",
    "True >> if string contains only digits and unicode for digits(0-9)"
   ]
  },
  {
   "cell_type": "code",
   "execution_count": 68,
   "id": "ba816f39",
   "metadata": {},
   "outputs": [
    {
     "data": {
      "text/plain": [
       "True"
      ]
     },
     "execution_count": 68,
     "metadata": {},
     "output_type": "execute_result"
    }
   ],
   "source": [
    "string = '77256489548'\n",
    "string.isdecimal()"
   ]
  },
  {
   "cell_type": "code",
   "execution_count": 69,
   "id": "30a86513",
   "metadata": {},
   "outputs": [
    {
     "data": {
      "text/plain": [
       "False"
      ]
     },
     "execution_count": 69,
     "metadata": {},
     "output_type": "execute_result"
    }
   ],
   "source": [
    "string = '77256 489548'\n",
    "string.isdecimal()"
   ]
  },
  {
   "cell_type": "code",
   "execution_count": 70,
   "id": "c75f3098",
   "metadata": {},
   "outputs": [
    {
     "data": {
      "text/plain": [
       "False"
      ]
     },
     "execution_count": 70,
     "metadata": {},
     "output_type": "execute_result"
    }
   ],
   "source": [
    "string = '77256&489548'\n",
    "string.isdecimal()"
   ]
  },
  {
   "cell_type": "code",
   "execution_count": 71,
   "id": "e8302e7a",
   "metadata": {},
   "outputs": [
    {
     "data": {
      "text/plain": [
       "False"
      ]
     },
     "execution_count": 71,
     "metadata": {},
     "output_type": "execute_result"
    }
   ],
   "source": [
    "string = '77256.489548'\n",
    "string.isdecimal()"
   ]
  },
  {
   "cell_type": "code",
   "execution_count": 75,
   "id": "3d35b863",
   "metadata": {},
   "outputs": [
    {
     "data": {
      "text/plain": [
       "False"
      ]
     },
     "execution_count": 75,
     "metadata": {},
     "output_type": "execute_result"
    }
   ],
   "source": [
    "string = '77256.0'\n",
    "string.isdecimal()"
   ]
  },
  {
   "cell_type": "markdown",
   "id": "3e2a69d4",
   "metadata": {},
   "source": [
    "### unicode"
   ]
  },
  {
   "cell_type": "code",
   "execution_count": null,
   "id": "0fa19d06",
   "metadata": {},
   "outputs": [],
   "source": [
    "\\u0030 >> 0\n",
    "\\u0031 >> 1\n",
    ".\n",
    ".\n",
    "\\u0039 >> 9"
   ]
  },
  {
   "cell_type": "code",
   "execution_count": 72,
   "id": "f988f380",
   "metadata": {},
   "outputs": [
    {
     "data": {
      "text/plain": [
       "True"
      ]
     },
     "execution_count": 72,
     "metadata": {},
     "output_type": "execute_result"
    }
   ],
   "source": [
    "string = '\\u0030'\n",
    "string.isdecimal()"
   ]
  },
  {
   "cell_type": "code",
   "execution_count": 74,
   "id": "e5cd95a0",
   "metadata": {},
   "outputs": [
    {
     "data": {
      "text/plain": [
       "True"
      ]
     },
     "execution_count": 74,
     "metadata": {},
     "output_type": "execute_result"
    }
   ],
   "source": [
    "string = '\\u0035'\n",
    "string.isdecimal()"
   ]
  },
  {
   "cell_type": "markdown",
   "id": "0a909edc",
   "metadata": {},
   "source": [
    "# 18. isdigit()"
   ]
  },
  {
   "cell_type": "code",
   "execution_count": null,
   "id": "9800f0ff",
   "metadata": {},
   "outputs": [],
   "source": [
    "it will True / False\n",
    "True >> if string contains only digits and unicode for digits (0-9)\n",
    "True >> superscript , subscript \n"
   ]
  },
  {
   "cell_type": "code",
   "execution_count": 76,
   "id": "46ba687f",
   "metadata": {},
   "outputs": [
    {
     "data": {
      "text/plain": [
       "True"
      ]
     },
     "execution_count": 76,
     "metadata": {},
     "output_type": "execute_result"
    }
   ],
   "source": [
    "string = '\\u0035'\n",
    "string.isdigit()"
   ]
  },
  {
   "cell_type": "code",
   "execution_count": 84,
   "id": "deece41c",
   "metadata": {},
   "outputs": [
    {
     "data": {
      "text/plain": [
       "False"
      ]
     },
     "execution_count": 84,
     "metadata": {},
     "output_type": "execute_result"
    }
   ],
   "source": [
    "string = '123 458'\n",
    "string.isdigit()"
   ]
  },
  {
   "cell_type": "code",
   "execution_count": 78,
   "id": "42c894a8",
   "metadata": {},
   "outputs": [
    {
     "data": {
      "text/plain": [
       "False"
      ]
     },
     "execution_count": 78,
     "metadata": {},
     "output_type": "execute_result"
    }
   ],
   "source": [
    "string = '123.458'\n",
    "string.isdigit()"
   ]
  },
  {
   "cell_type": "code",
   "execution_count": 82,
   "id": "1d996a16",
   "metadata": {},
   "outputs": [
    {
     "data": {
      "text/plain": [
       "True"
      ]
     },
     "execution_count": 82,
     "metadata": {},
     "output_type": "execute_result"
    }
   ],
   "source": [
    "string = '\\u00B2' #superscript two\n",
    "string.isdigit()"
   ]
  },
  {
   "cell_type": "code",
   "execution_count": 83,
   "id": "2694921b",
   "metadata": {},
   "outputs": [
    {
     "data": {
      "text/plain": [
       "True"
      ]
     },
     "execution_count": 83,
     "metadata": {},
     "output_type": "execute_result"
    }
   ],
   "source": [
    "string = '\\u2074' #subscript  four\n",
    "string.isdigit()"
   ]
  },
  {
   "cell_type": "markdown",
   "id": "5a622ebd",
   "metadata": {},
   "source": [
    "# 19. isnumeric()"
   ]
  },
  {
   "cell_type": "code",
   "execution_count": null,
   "id": "c1d1c380",
   "metadata": {},
   "outputs": [],
   "source": [
    "True/ False\n",
    "digits (0-9)\n",
    "digits,subscripts, superscripts, and vulgar fractions (2/3,5/6, 3/4)"
   ]
  },
  {
   "cell_type": "code",
   "execution_count": 85,
   "id": "a6e02b3d",
   "metadata": {},
   "outputs": [
    {
     "data": {
      "text/plain": [
       "True"
      ]
     },
     "execution_count": 85,
     "metadata": {},
     "output_type": "execute_result"
    }
   ],
   "source": [
    "string = '\\u00BD' #1/2\n",
    "string.isnumeric()"
   ]
  },
  {
   "cell_type": "code",
   "execution_count": 86,
   "id": "36a94e97",
   "metadata": {},
   "outputs": [
    {
     "data": {
      "text/plain": [
       "True"
      ]
     },
     "execution_count": 86,
     "metadata": {},
     "output_type": "execute_result"
    }
   ],
   "source": [
    "string = '\\u00BE' #3/4\n",
    "string.isnumeric()"
   ]
  },
  {
   "cell_type": "code",
   "execution_count": 87,
   "id": "e88c0ed1",
   "metadata": {},
   "outputs": [
    {
     "name": "stdout",
     "output_type": "stream",
     "text": [
      "isdecimal:  True\n",
      "isdigit:  True\n",
      "isnumeric:  True\n"
     ]
    }
   ],
   "source": [
    "string = '123456'\n",
    "print(\"isdecimal: \",string.isdecimal())\n",
    "print(\"isdigit: \",string.isdigit())\n",
    "print(\"isnumeric: \",string.isnumeric())"
   ]
  },
  {
   "cell_type": "code",
   "execution_count": 88,
   "id": "79049c3e",
   "metadata": {},
   "outputs": [
    {
     "name": "stdout",
     "output_type": "stream",
     "text": [
      "isdecimal:  False\n",
      "isdigit:  False\n",
      "isnumeric:  False\n"
     ]
    }
   ],
   "source": [
    "string = '123456'\n",
    "print(\"isdecimal: \",string.isdecimal())\n",
    "print(\"isdigit: \",string.isdigit())\n",
    "print(\"isnumeric: \",string.isnumeric())"
   ]
  },
  {
   "cell_type": "code",
   "execution_count": 89,
   "id": "93ec2814",
   "metadata": {},
   "outputs": [
    {
     "name": "stdout",
     "output_type": "stream",
     "text": [
      "isdecimal:  False\n",
      "isdigit:  False\n",
      "isnumeric:  False\n"
     ]
    }
   ],
   "source": [
    "string = '123$456'\n",
    "print(\"isdecimal: \",string.isdecimal())\n",
    "print(\"isdigit: \",string.isdigit())\n",
    "print(\"isnumeric: \",string.isnumeric())"
   ]
  },
  {
   "cell_type": "code",
   "execution_count": 90,
   "id": "23c91e4f",
   "metadata": {},
   "outputs": [
    {
     "name": "stdout",
     "output_type": "stream",
     "text": [
      "isdecimal:  False\n",
      "isdigit:  False\n",
      "isnumeric:  False\n"
     ]
    }
   ],
   "source": [
    "string = '123 456'\n",
    "print(\"isdecimal: \",string.isdecimal())\n",
    "print(\"isdigit: \",string.isdigit())\n",
    "print(\"isnumeric: \",string.isnumeric())"
   ]
  },
  {
   "cell_type": "code",
   "execution_count": 92,
   "id": "9e0334b2",
   "metadata": {},
   "outputs": [
    {
     "name": "stdout",
     "output_type": "stream",
     "text": [
      "isdecimal:  False\n",
      "isdigit:  False\n",
      "isnumeric:  False\n"
     ]
    }
   ],
   "source": [
    "string = '3/4'\n",
    "print(\"isdecimal: \",string.isdecimal())\n",
    "print(\"isdigit: \",string.isdigit())\n",
    "print(\"isnumeric: \",string.isnumeric())"
   ]
  },
  {
   "cell_type": "code",
   "execution_count": 91,
   "id": "a01ca19f",
   "metadata": {},
   "outputs": [
    {
     "name": "stdout",
     "output_type": "stream",
     "text": [
      "isdecimal:  True\n",
      "isdigit:  True\n",
      "isnumeric:  True\n"
     ]
    }
   ],
   "source": [
    "string = '\\u0039'\n",
    "print(\"isdecimal: \",string.isdecimal())\n",
    "print(\"isdigit: \",string.isdigit())\n",
    "print(\"isnumeric: \",string.isnumeric())"
   ]
  },
  {
   "cell_type": "markdown",
   "id": "5d154e6d",
   "metadata": {},
   "source": [
    "# 19. islower()"
   ]
  },
  {
   "cell_type": "code",
   "execution_count": null,
   "id": "4f143f54",
   "metadata": {},
   "outputs": [],
   "source": [
    "True / False \n",
    "True >> if all alphabets are  in lowercase\n",
    "special char and space is allowed"
   ]
  },
  {
   "cell_type": "code",
   "execution_count": 99,
   "id": "6e461b8f",
   "metadata": {},
   "outputs": [
    {
     "data": {
      "text/plain": [
       "True"
      ]
     },
     "execution_count": 99,
     "metadata": {},
     "output_type": "execute_result"
    }
   ],
   "source": [
    "string = 'python'\n",
    "string.islower()"
   ]
  },
  {
   "cell_type": "code",
   "execution_count": 100,
   "id": "39538b6c",
   "metadata": {},
   "outputs": [
    {
     "data": {
      "text/plain": [
       "False"
      ]
     },
     "execution_count": 100,
     "metadata": {},
     "output_type": "execute_result"
    }
   ],
   "source": [
    "string = 'pyThon'\n",
    "string.islower()"
   ]
  },
  {
   "cell_type": "code",
   "execution_count": 103,
   "id": "0c19d267",
   "metadata": {},
   "outputs": [
    {
     "data": {
      "text/plain": [
       "True"
      ]
     },
     "execution_count": 103,
     "metadata": {},
     "output_type": "execute_result"
    }
   ],
   "source": [
    "string = 'py 12 thon'\n",
    "string.islower()"
   ]
  },
  {
   "cell_type": "code",
   "execution_count": 102,
   "id": "f65146e7",
   "metadata": {},
   "outputs": [
    {
     "data": {
      "text/plain": [
       "True"
      ]
     },
     "execution_count": 102,
     "metadata": {},
     "output_type": "execute_result"
    }
   ],
   "source": [
    "string = 'pyth @on'\n",
    "string.islower()"
   ]
  },
  {
   "cell_type": "code",
   "execution_count": 104,
   "id": "c20e0c58",
   "metadata": {},
   "outputs": [
    {
     "data": {
      "text/plain": [
       "False"
      ]
     },
     "execution_count": 104,
     "metadata": {},
     "output_type": "execute_result"
    }
   ],
   "source": [
    "string = string = 'pY 12 thon'\n",
    "string.islower()"
   ]
  },
  {
   "cell_type": "markdown",
   "id": "fd4caa38",
   "metadata": {},
   "source": [
    "# 21. isupper()"
   ]
  },
  {
   "cell_type": "code",
   "execution_count": null,
   "id": "f71cf350",
   "metadata": {},
   "outputs": [],
   "source": [
    "True / False \n",
    "True >> if all alphabets are  in UPPERCASE\n",
    "special char and space is allowed"
   ]
  },
  {
   "cell_type": "code",
   "execution_count": 106,
   "id": "b160cfe6",
   "metadata": {},
   "outputs": [
    {
     "data": {
      "text/plain": [
       "False"
      ]
     },
     "execution_count": 106,
     "metadata": {},
     "output_type": "execute_result"
    }
   ],
   "source": [
    "string = string = 'pY 12 thon'\n",
    "string.isupper()"
   ]
  },
  {
   "cell_type": "code",
   "execution_count": 108,
   "id": "b5defcb5",
   "metadata": {},
   "outputs": [
    {
     "data": {
      "text/plain": [
       "True"
      ]
     },
     "execution_count": 108,
     "metadata": {},
     "output_type": "execute_result"
    }
   ],
   "source": [
    " string = 'PYTHON'\n",
    "string.isupper()"
   ]
  },
  {
   "cell_type": "code",
   "execution_count": 109,
   "id": "dd507f51",
   "metadata": {},
   "outputs": [
    {
     "data": {
      "text/plain": [
       "True"
      ]
     },
     "execution_count": 109,
     "metadata": {},
     "output_type": "execute_result"
    }
   ],
   "source": [
    "string = 'PY    THON'\n",
    "string.isupper()"
   ]
  },
  {
   "cell_type": "code",
   "execution_count": 110,
   "id": "d0a13713",
   "metadata": {},
   "outputs": [
    {
     "data": {
      "text/plain": [
       "True"
      ]
     },
     "execution_count": 110,
     "metadata": {},
     "output_type": "execute_result"
    }
   ],
   "source": [
    "string = 'PY  12 %  THON'\n",
    "string.isupper()"
   ]
  },
  {
   "cell_type": "code",
   "execution_count": 111,
   "id": "3542c150",
   "metadata": {},
   "outputs": [
    {
     "data": {
      "text/plain": [
       "False"
      ]
     },
     "execution_count": 111,
     "metadata": {},
     "output_type": "execute_result"
    }
   ],
   "source": [
    "string = 'Py  12 %  THON'\n",
    "string.isupper()"
   ]
  },
  {
   "cell_type": "markdown",
   "id": "b3d1c62f",
   "metadata": {},
   "source": [
    "# 22. istitle()"
   ]
  },
  {
   "cell_type": "code",
   "execution_count": null,
   "id": "60b14c3e",
   "metadata": {},
   "outputs": [],
   "source": [
    "True >> if string is in title case"
   ]
  },
  {
   "cell_type": "code",
   "execution_count": 112,
   "id": "2c629a73",
   "metadata": {},
   "outputs": [
    {
     "data": {
      "text/plain": [
       "True"
      ]
     },
     "execution_count": 112,
     "metadata": {},
     "output_type": "execute_result"
    }
   ],
   "source": [
    "string = 'Virat Kohali'\n",
    "string.istitle()"
   ]
  },
  {
   "cell_type": "code",
   "execution_count": 113,
   "id": "67241bfd",
   "metadata": {},
   "outputs": [
    {
     "data": {
      "text/plain": [
       "False"
      ]
     },
     "execution_count": 113,
     "metadata": {},
     "output_type": "execute_result"
    }
   ],
   "source": [
    "string = 'Virat kohali'\n",
    "string.istitle()"
   ]
  },
  {
   "cell_type": "code",
   "execution_count": 114,
   "id": "b4f96501",
   "metadata": {},
   "outputs": [
    {
     "data": {
      "text/plain": [
       "False"
      ]
     },
     "execution_count": 114,
     "metadata": {},
     "output_type": "execute_result"
    }
   ],
   "source": [
    "string = 'virat Kohali'\n",
    "string.istitle()"
   ]
  },
  {
   "cell_type": "code",
   "execution_count": 115,
   "id": "91467ac6",
   "metadata": {},
   "outputs": [
    {
     "data": {
      "text/plain": [
       "False"
      ]
     },
     "execution_count": 115,
     "metadata": {},
     "output_type": "execute_result"
    }
   ],
   "source": [
    "string = 'VIRAT Kohali'\n",
    "string.istitle()"
   ]
  },
  {
   "cell_type": "markdown",
   "id": "b24a250c",
   "metadata": {},
   "source": [
    "# 23. isspace()"
   ]
  },
  {
   "cell_type": "code",
   "execution_count": null,
   "id": "32024a99",
   "metadata": {},
   "outputs": [],
   "source": [
    "True >> if string contains only space"
   ]
  },
  {
   "cell_type": "code",
   "execution_count": 116,
   "id": "871ea365",
   "metadata": {},
   "outputs": [
    {
     "data": {
      "text/plain": [
       "True"
      ]
     },
     "execution_count": 116,
     "metadata": {},
     "output_type": "execute_result"
    }
   ],
   "source": [
    "string = '     '\n",
    "string.isspace()"
   ]
  },
  {
   "cell_type": "code",
   "execution_count": 117,
   "id": "5f0b6431",
   "metadata": {},
   "outputs": [
    {
     "data": {
      "text/plain": [
       "True"
      ]
     },
     "execution_count": 117,
     "metadata": {},
     "output_type": "execute_result"
    }
   ],
   "source": [
    "string = \"    \"\n",
    "string.isspace()"
   ]
  },
  {
   "cell_type": "code",
   "execution_count": 118,
   "id": "51ba85ba",
   "metadata": {},
   "outputs": [
    {
     "data": {
      "text/plain": [
       "False"
      ]
     },
     "execution_count": 118,
     "metadata": {},
     "output_type": "execute_result"
    }
   ],
   "source": [
    "string = \"   afvg \"\n",
    "string.isspace()"
   ]
  },
  {
   "cell_type": "code",
   "execution_count": 119,
   "id": "155870a9",
   "metadata": {},
   "outputs": [
    {
     "data": {
      "text/plain": [
       "False"
      ]
     },
     "execution_count": 119,
     "metadata": {},
     "output_type": "execute_result"
    }
   ],
   "source": [
    "string = \"\"\n",
    "string.isspace()"
   ]
  },
  {
   "cell_type": "markdown",
   "id": "ce81cf6a",
   "metadata": {},
   "source": [
    "# 24. zfill()"
   ]
  },
  {
   "cell_type": "code",
   "execution_count": null,
   "id": "b1ff4443",
   "metadata": {},
   "outputs": [],
   "source": [
    "it will fill zeros at begining string"
   ]
  },
  {
   "cell_type": "code",
   "execution_count": 120,
   "id": "aec29283",
   "metadata": {},
   "outputs": [
    {
     "data": {
      "text/plain": [
       "'0000python'"
      ]
     },
     "execution_count": 120,
     "metadata": {},
     "output_type": "execute_result"
    }
   ],
   "source": [
    "string = 'python'\n",
    "string.zfill(10)"
   ]
  },
  {
   "cell_type": "code",
   "execution_count": 133,
   "id": "05f45c92",
   "metadata": {},
   "outputs": [
    {
     "name": "stdout",
     "output_type": "stream",
     "text": [
      "23\n",
      "000000000000000000000000000python and data science\n",
      "50\n"
     ]
    }
   ],
   "source": [
    "string1 = 'python and data science'\n",
    "print(len(string1))\n",
    "string2= string1.zfill(50)\n",
    "print(string2)\n",
    "print(len(string2))"
   ]
  },
  {
   "cell_type": "code",
   "execution_count": 134,
   "id": "0e1560ab",
   "metadata": {},
   "outputs": [
    {
     "name": "stdout",
     "output_type": "stream",
     "text": [
      "11\n",
      "0000012457859523\n",
      "16\n"
     ]
    }
   ],
   "source": [
    "string1 = '12457859523'\n",
    "print(len(string1))\n",
    "string2= string1.zfill(16)\n",
    "print(string2)\n",
    "print(len(string2))"
   ]
  },
  {
   "cell_type": "markdown",
   "id": "ce2e0fc9",
   "metadata": {},
   "source": [
    "# 25. center()"
   ]
  },
  {
   "cell_type": "code",
   "execution_count": null,
   "id": "2e20a14c",
   "metadata": {},
   "outputs": [],
   "source": [
    "it will get string at center"
   ]
  },
  {
   "cell_type": "code",
   "execution_count": 137,
   "id": "501ccca5",
   "metadata": {},
   "outputs": [
    {
     "data": {
      "text/plain": [
       "'  python '"
      ]
     },
     "execution_count": 137,
     "metadata": {},
     "output_type": "execute_result"
    }
   ],
   "source": [
    "string = 'python'\n",
    "string.center(9)"
   ]
  },
  {
   "cell_type": "code",
   "execution_count": 135,
   "id": "29ecc07d",
   "metadata": {},
   "outputs": [
    {
     "data": {
      "text/plain": [
       "'python'"
      ]
     },
     "execution_count": 135,
     "metadata": {},
     "output_type": "execute_result"
    }
   ],
   "source": [
    "string = 'python'\n",
    "string.center(5)"
   ]
  },
  {
   "cell_type": "code",
   "execution_count": 136,
   "id": "f30e79b5",
   "metadata": {},
   "outputs": [
    {
     "data": {
      "text/plain": [
       "'                      python                      '"
      ]
     },
     "execution_count": 136,
     "metadata": {},
     "output_type": "execute_result"
    }
   ],
   "source": [
    "string = 'python'\n",
    "string.center(50)"
   ]
  },
  {
   "cell_type": "code",
   "execution_count": 138,
   "id": "b87f5c00",
   "metadata": {},
   "outputs": [
    {
     "data": {
      "text/plain": [
       "'++++++++++++++++++++++python++++++++++++++++++++++'"
      ]
     },
     "execution_count": 138,
     "metadata": {},
     "output_type": "execute_result"
    }
   ],
   "source": [
    "string = 'python'\n",
    "string.center(50,'+')"
   ]
  },
  {
   "cell_type": "code",
   "execution_count": 139,
   "id": "9bd94d36",
   "metadata": {},
   "outputs": [
    {
     "data": {
      "text/plain": [
       "'@@@@@@@@@@@@@@@@@@@@@@python@@@@@@@@@@@@@@@@@@@@@@'"
      ]
     },
     "execution_count": 139,
     "metadata": {},
     "output_type": "execute_result"
    }
   ],
   "source": [
    "string = 'python'\n",
    "string.center(50,'@')"
   ]
  },
  {
   "cell_type": "code",
   "execution_count": 140,
   "id": "cbc29810",
   "metadata": {},
   "outputs": [
    {
     "data": {
      "text/plain": [
       "'**********************python**********************'"
      ]
     },
     "execution_count": 140,
     "metadata": {},
     "output_type": "execute_result"
    }
   ],
   "source": [
    "string = 'python'\n",
    "string.center(50,'*')"
   ]
  },
  {
   "cell_type": "markdown",
   "id": "096f6031",
   "metadata": {},
   "source": [
    "# 26. casefold()"
   ]
  },
  {
   "cell_type": "code",
   "execution_count": 143,
   "id": "8b377a24",
   "metadata": {},
   "outputs": [
    {
     "data": {
      "text/plain": [
       "'python'"
      ]
     },
     "execution_count": 143,
     "metadata": {},
     "output_type": "execute_result"
    }
   ],
   "source": [
    "string = 'PYTHON'\n",
    "string.lower()"
   ]
  },
  {
   "cell_type": "raw",
   "id": "6c911758",
   "metadata": {},
   "source": [
    " it will fold case  from upper to lower."
   ]
  },
  {
   "cell_type": "code",
   "execution_count": 145,
   "id": "e35c6c66",
   "metadata": {},
   "outputs": [
    {
     "data": {
      "text/plain": [
       "'python ss'"
      ]
     },
     "execution_count": 145,
     "metadata": {},
     "output_type": "execute_result"
    }
   ],
   "source": [
    "string = 'PYTHON SS'\n",
    "string.casefold()"
   ]
  },
  {
   "cell_type": "markdown",
   "id": "c7092689",
   "metadata": {},
   "source": [
    "# Immutability of string"
   ]
  },
  {
   "cell_type": "code",
   "execution_count": null,
   "id": "f80eafd0",
   "metadata": {},
   "outputs": [],
   "source": [
    "string is immutable.\n",
    "Immutable >> we cant change string once created"
   ]
  },
  {
   "cell_type": "code",
   "execution_count": 146,
   "id": "c96d32e5",
   "metadata": {},
   "outputs": [],
   "source": [
    "string = 'python'\n"
   ]
  },
  {
   "cell_type": "code",
   "execution_count": 147,
   "id": "9e122920",
   "metadata": {},
   "outputs": [
    {
     "data": {
      "text/plain": [
       "'p'"
      ]
     },
     "execution_count": 147,
     "metadata": {},
     "output_type": "execute_result"
    }
   ],
   "source": [
    "string[0]  p >> h"
   ]
  },
  {
   "cell_type": "code",
   "execution_count": 148,
   "id": "bdcdf827",
   "metadata": {},
   "outputs": [
    {
     "ename": "TypeError",
     "evalue": "'str' object does not support item assignment",
     "output_type": "error",
     "traceback": [
      "\u001b[1;31m---------------------------------------------------------------------------\u001b[0m",
      "\u001b[1;31mTypeError\u001b[0m                                 Traceback (most recent call last)",
      "\u001b[1;32m<ipython-input-148-f948c1665945>\u001b[0m in \u001b[0;36m<module>\u001b[1;34m\u001b[0m\n\u001b[1;32m----> 1\u001b[1;33m \u001b[0mstring\u001b[0m\u001b[1;33m[\u001b[0m\u001b[1;36m0\u001b[0m\u001b[1;33m]\u001b[0m\u001b[1;33m=\u001b[0m \u001b[1;34m'h'\u001b[0m\u001b[1;33m\u001b[0m\u001b[1;33m\u001b[0m\u001b[0m\n\u001b[0m",
      "\u001b[1;31mTypeError\u001b[0m: 'str' object does not support item assignment"
     ]
    }
   ],
   "source": [
    "string[0]= 'h'"
   ]
  },
  {
   "cell_type": "code",
   "execution_count": 149,
   "id": "0230cada",
   "metadata": {},
   "outputs": [
    {
     "ename": "TypeError",
     "evalue": "'str' object does not support item assignment",
     "output_type": "error",
     "traceback": [
      "\u001b[1;31m---------------------------------------------------------------------------\u001b[0m",
      "\u001b[1;31mTypeError\u001b[0m                                 Traceback (most recent call last)",
      "\u001b[1;32m<ipython-input-149-a22cb8a3b90f>\u001b[0m in \u001b[0;36m<module>\u001b[1;34m\u001b[0m\n\u001b[1;32m----> 1\u001b[1;33m \u001b[0mstring\u001b[0m\u001b[1;33m[\u001b[0m\u001b[1;36m2\u001b[0m\u001b[1;33m]\u001b[0m\u001b[1;33m=\u001b[0m \u001b[1;34m'T'\u001b[0m\u001b[1;33m\u001b[0m\u001b[1;33m\u001b[0m\u001b[0m\n\u001b[0m",
      "\u001b[1;31mTypeError\u001b[0m: 'str' object does not support item assignment"
     ]
    }
   ],
   "source": [
    "string[2]= 'T'"
   ]
  },
  {
   "cell_type": "code",
   "execution_count": 152,
   "id": "b71d75d0",
   "metadata": {},
   "outputs": [
    {
     "name": "stdout",
     "output_type": "stream",
     "text": [
      "Memory Location of b is 2026461073520\n",
      "Memory Location of a is 2026461085168\n",
      "Memory Location of n is 2026460956400\n",
      "Memory Location of a is 2026461085168\n",
      "Memory Location of n is 2026460956400\n",
      "Memory Location of a is 2026461085168\n"
     ]
    }
   ],
   "source": [
    "x = 'banana' # check the memory location >> id function\n",
    "for ids in range(0, len(x)):\n",
    "    print(\"Memory Location of {} is {}\".format(x[ids], id(x[ids])))"
   ]
  },
  {
   "cell_type": "code",
   "execution_count": null,
   "id": "067b8ac7",
   "metadata": {},
   "outputs": [],
   "source": [
    "Assignment Naming\n",
    "Data:\n",
    "roll no 1   \n",
    "name sushant patil\n",
    ">>>\n",
    "001_sushant_patil_Assignment_01\n",
    "rollno_Name_AssignmentNo"
   ]
  }
 ],
 "metadata": {
  "kernelspec": {
   "display_name": "Python 3",
   "language": "python",
   "name": "python3"
  },
  "language_info": {
   "codemirror_mode": {
    "name": "ipython",
    "version": 3
   },
   "file_extension": ".py",
   "mimetype": "text/x-python",
   "name": "python",
   "nbconvert_exporter": "python",
   "pygments_lexer": "ipython3",
   "version": "3.8.8"
  }
 },
 "nbformat": 4,
 "nbformat_minor": 5
}
