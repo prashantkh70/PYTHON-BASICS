{
 "cells": [
  {
   "cell_type": "code",
   "execution_count": null,
   "id": "4cc40426",
   "metadata": {},
   "outputs": [],
   "source": [
    "NumPy >> Numeric pythom"
   ]
  },
  {
   "cell_type": "code",
   "execution_count": 1,
   "id": "20bb96cb",
   "metadata": {},
   "outputs": [],
   "source": [
    "import numpy as np"
   ]
  },
  {
   "cell_type": "markdown",
   "id": "6dd14bee",
   "metadata": {},
   "source": [
    "# Numpy Functions"
   ]
  },
  {
   "cell_type": "code",
   "execution_count": null,
   "id": "4e88684f",
   "metadata": {},
   "outputs": [],
   "source": [
    "1. np.array([],dtype,ndmin)\n",
    "2. array.shape\n",
    "3. array.reshape\n",
    "4. np.nditer\n",
    "5. np. ndenumerate\n",
    "6. array.flatten()>> nD array>> 1D array>> copy\n",
    "7. array.ravel()>> reference\n",
    "8. array.copy >>> deepcopy\n",
    "9. array.tolist >> array to list\n",
    "10. np.zeros()\n",
    "11. np.ones()\n",
    "12. np full()\n",
    "13. np.arange()\n",
    "14. np.linspace()\n",
    "15. np.eye()\n",
    "16. np.identity()\n",
    "17. np.ramdom:\n",
    "    1. np.random.rand()  >>> [0 to 1]\n",
    "    2. np.random.randint()>> (start,end, size)\n",
    "    3. np.random.randn()   >> normally distributd array\n",
    "    4. np.random.ranf()   >> [0 to 1]\n",
    "18. np.sort(array)  #Ascending\n",
    "19. -np.sort(-array) #Descending\n",
    "\n"
   ]
  },
  {
   "cell_type": "markdown",
   "id": "592b6280",
   "metadata": {},
   "source": [
    "### Join multiple array"
   ]
  },
  {
   "cell_type": "code",
   "execution_count": null,
   "id": "4a9d9683",
   "metadata": {},
   "outputs": [],
   "source": [
    "20. np.append\n",
    "21. np. concatenate"
   ]
  },
  {
   "cell_type": "markdown",
   "id": "d3160fc1",
   "metadata": {},
   "source": [
    "## Matrix Operation"
   ]
  },
  {
   "cell_type": "code",
   "execution_count": null,
   "id": "5c8e9321",
   "metadata": {},
   "outputs": [],
   "source": [
    "np.add\n",
    "np.multiply\n",
    "np.dot"
   ]
  },
  {
   "cell_type": "code",
   "execution_count": null,
   "id": "9d97fa60",
   "metadata": {},
   "outputs": [],
   "source": [
    "numpy >>> R   rand, ranf >>> random.samples"
   ]
  },
  {
   "cell_type": "markdown",
   "id": "4d8a6f29",
   "metadata": {},
   "source": [
    "## Math Operations"
   ]
  },
  {
   "cell_type": "code",
   "execution_count": null,
   "id": "457bffa1",
   "metadata": {},
   "outputs": [],
   "source": [
    "1. np.floor()\n",
    "2. np.ceil()\n",
    "3. np.around()\n",
    "4. np.sqrt()\n",
    "5. np.cbrt()\n",
    "6. np.sum()\n",
    "7. np.min()\n",
    "8. np.max()\n",
    "9. np.pi\n",
    "10. np.where()"
   ]
  },
  {
   "cell_type": "markdown",
   "id": "791daa23",
   "metadata": {},
   "source": [
    "## Ststistics"
   ]
  },
  {
   "cell_type": "code",
   "execution_count": null,
   "id": "65f7cf55",
   "metadata": {},
   "outputs": [],
   "source": [
    "1. np.mean()\n",
    "2. np.median()\n",
    "3. np.std()\n",
    "4. np.var()\n",
    "scipy.stats.mode()"
   ]
  },
  {
   "cell_type": "markdown",
   "id": "3f038329",
   "metadata": {},
   "source": [
    "## Log"
   ]
  },
  {
   "cell_type": "code",
   "execution_count": null,
   "id": "167f5937",
   "metadata": {},
   "outputs": [],
   "source": [
    "1. np.log()\n",
    "2. np.log2()\n",
    "3. np.log10()"
   ]
  },
  {
   "cell_type": "markdown",
   "id": "df099212",
   "metadata": {},
   "source": [
    "### Trigonometry"
   ]
  },
  {
   "cell_type": "code",
   "execution_count": null,
   "id": "d90ac949",
   "metadata": {},
   "outputs": [],
   "source": [
    "1. np.sin()\n",
    "2. np.cos()\n",
    "3. np.tan()\n",
    "4. np.deg2rad()\n",
    "5. np.rad2deg()"
   ]
  },
  {
   "cell_type": "markdown",
   "id": "4a3e3721",
   "metadata": {},
   "source": [
    "## Linear Algebra"
   ]
  },
  {
   "cell_type": "code",
   "execution_count": null,
   "id": "7d2f3b2b",
   "metadata": {},
   "outputs": [],
   "source": [
    "1. np.linalg.solve()\n",
    "2. np.linalg.inv()"
   ]
  },
  {
   "cell_type": "code",
   "execution_count": 5,
   "id": "f54c59e9",
   "metadata": {},
   "outputs": [
    {
     "data": {
      "text/plain": [
       "array([1, 3, 4, 5, 6])"
      ]
     },
     "execution_count": 5,
     "metadata": {},
     "output_type": "execute_result"
    }
   ],
   "source": [
    "array1=np.array([1,3,4,5,6])\n",
    "array1"
   ]
  },
  {
   "cell_type": "code",
   "execution_count": 6,
   "id": "6e30552f",
   "metadata": {},
   "outputs": [
    {
     "data": {
      "text/plain": [
       "array([3, 4, 5, 6])"
      ]
     },
     "execution_count": 6,
     "metadata": {},
     "output_type": "execute_result"
    }
   ],
   "source": [
    "np.delete(array1,0)"
   ]
  },
  {
   "cell_type": "code",
   "execution_count": null,
   "id": "b0a7978a",
   "metadata": {},
   "outputs": [],
   "source": []
  },
  {
   "cell_type": "code",
   "execution_count": null,
   "id": "fabf08c7",
   "metadata": {},
   "outputs": [],
   "source": []
  },
  {
   "cell_type": "code",
   "execution_count": null,
   "id": "f123a5bf",
   "metadata": {},
   "outputs": [],
   "source": []
  },
  {
   "cell_type": "code",
   "execution_count": null,
   "id": "5c273e0f",
   "metadata": {},
   "outputs": [],
   "source": []
  },
  {
   "cell_type": "code",
   "execution_count": null,
   "id": "9bd963ab",
   "metadata": {},
   "outputs": [],
   "source": []
  },
  {
   "cell_type": "code",
   "execution_count": null,
   "id": "e8fb0d34",
   "metadata": {},
   "outputs": [],
   "source": []
  },
  {
   "cell_type": "code",
   "execution_count": null,
   "id": "f5b711d7",
   "metadata": {},
   "outputs": [],
   "source": []
  }
 ],
 "metadata": {
  "kernelspec": {
   "display_name": "Python 3 (ipykernel)",
   "language": "python",
   "name": "python3"
  },
  "language_info": {
   "codemirror_mode": {
    "name": "ipython",
    "version": 3
   },
   "file_extension": ".py",
   "mimetype": "text/x-python",
   "name": "python",
   "nbconvert_exporter": "python",
   "pygments_lexer": "ipython3",
   "version": "3.9.12"
  }
 },
 "nbformat": 4,
 "nbformat_minor": 5
}
