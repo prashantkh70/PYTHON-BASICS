{
 "cells": [
  {
   "cell_type": "markdown",
   "id": "629d9def",
   "metadata": {},
   "source": [
    "# Regularization"
   ]
  },
  {
   "cell_type": "code",
   "execution_count": null,
   "id": "57b1f821",
   "metadata": {},
   "outputs": [],
   "source": [
    "Linear Models:\n",
    "    1. Linear Regression (Regression)\n",
    "    2. Logistic Regression (Classification)\n",
    "    \n",
    "How to avoid overfitting in Linear Models:\n",
    "    1. Ridge Regression \n",
    "    2. Lasso Regression"
   ]
  },
  {
   "cell_type": "code",
   "execution_count": 1,
   "id": "fa28c10b",
   "metadata": {},
   "outputs": [],
   "source": [
    "import pandas as pd\n",
    "import numpy as np\n",
    "\n",
    "from sklearn.datasets import load_boston\n",
    "\n",
    "from sklearn.linear_model import LinearRegression\n",
    "from sklearn.linear_model import Ridge, Lasso\n",
    "\n",
    "from sklearn.model_selection import train_test_split\n",
    "from sklearn.model_selection import GridSearchCV,RandomizedSearchCV\n",
    "\n",
    "from sklearn.metrics import mean_squared_error,mean_absolute_error,r2_score\n",
    "\n",
    "from statsmodels.stats.outliers_influence import variance_inflation_factor\n",
    "import matplotlib.pyplot as plt\n",
    "import seaborn as sns"
   ]
  },
  {
   "cell_type": "code",
   "execution_count": 2,
   "id": "6c715a12",
   "metadata": {},
   "outputs": [
    {
     "data": {
      "text/html": [
       "<div>\n",
       "<style scoped>\n",
       "    .dataframe tbody tr th:only-of-type {\n",
       "        vertical-align: middle;\n",
       "    }\n",
       "\n",
       "    .dataframe tbody tr th {\n",
       "        vertical-align: top;\n",
       "    }\n",
       "\n",
       "    .dataframe thead th {\n",
       "        text-align: right;\n",
       "    }\n",
       "</style>\n",
       "<table border=\"1\" class=\"dataframe\">\n",
       "  <thead>\n",
       "    <tr style=\"text-align: right;\">\n",
       "      <th></th>\n",
       "      <th>CRIM</th>\n",
       "      <th>ZN</th>\n",
       "      <th>INDUS</th>\n",
       "      <th>CHAS</th>\n",
       "      <th>NOX</th>\n",
       "      <th>RM</th>\n",
       "      <th>AGE</th>\n",
       "      <th>DIS</th>\n",
       "      <th>RAD</th>\n",
       "      <th>TAX</th>\n",
       "      <th>PTRATIO</th>\n",
       "      <th>B</th>\n",
       "      <th>LSTAT</th>\n",
       "      <th>PRICE</th>\n",
       "    </tr>\n",
       "  </thead>\n",
       "  <tbody>\n",
       "    <tr>\n",
       "      <th>0</th>\n",
       "      <td>0.00632</td>\n",
       "      <td>18.0</td>\n",
       "      <td>2.31</td>\n",
       "      <td>0.0</td>\n",
       "      <td>0.538</td>\n",
       "      <td>6.575</td>\n",
       "      <td>65.2</td>\n",
       "      <td>4.0900</td>\n",
       "      <td>1.0</td>\n",
       "      <td>296.0</td>\n",
       "      <td>15.3</td>\n",
       "      <td>396.90</td>\n",
       "      <td>4.98</td>\n",
       "      <td>24.0</td>\n",
       "    </tr>\n",
       "    <tr>\n",
       "      <th>1</th>\n",
       "      <td>0.02731</td>\n",
       "      <td>0.0</td>\n",
       "      <td>7.07</td>\n",
       "      <td>0.0</td>\n",
       "      <td>0.469</td>\n",
       "      <td>6.421</td>\n",
       "      <td>78.9</td>\n",
       "      <td>4.9671</td>\n",
       "      <td>2.0</td>\n",
       "      <td>242.0</td>\n",
       "      <td>17.8</td>\n",
       "      <td>396.90</td>\n",
       "      <td>9.14</td>\n",
       "      <td>21.6</td>\n",
       "    </tr>\n",
       "    <tr>\n",
       "      <th>2</th>\n",
       "      <td>0.02729</td>\n",
       "      <td>0.0</td>\n",
       "      <td>7.07</td>\n",
       "      <td>0.0</td>\n",
       "      <td>0.469</td>\n",
       "      <td>7.185</td>\n",
       "      <td>61.1</td>\n",
       "      <td>4.9671</td>\n",
       "      <td>2.0</td>\n",
       "      <td>242.0</td>\n",
       "      <td>17.8</td>\n",
       "      <td>392.83</td>\n",
       "      <td>4.03</td>\n",
       "      <td>34.7</td>\n",
       "    </tr>\n",
       "    <tr>\n",
       "      <th>3</th>\n",
       "      <td>0.03237</td>\n",
       "      <td>0.0</td>\n",
       "      <td>2.18</td>\n",
       "      <td>0.0</td>\n",
       "      <td>0.458</td>\n",
       "      <td>6.998</td>\n",
       "      <td>45.8</td>\n",
       "      <td>6.0622</td>\n",
       "      <td>3.0</td>\n",
       "      <td>222.0</td>\n",
       "      <td>18.7</td>\n",
       "      <td>394.63</td>\n",
       "      <td>2.94</td>\n",
       "      <td>33.4</td>\n",
       "    </tr>\n",
       "    <tr>\n",
       "      <th>4</th>\n",
       "      <td>0.06905</td>\n",
       "      <td>0.0</td>\n",
       "      <td>2.18</td>\n",
       "      <td>0.0</td>\n",
       "      <td>0.458</td>\n",
       "      <td>7.147</td>\n",
       "      <td>54.2</td>\n",
       "      <td>6.0622</td>\n",
       "      <td>3.0</td>\n",
       "      <td>222.0</td>\n",
       "      <td>18.7</td>\n",
       "      <td>396.90</td>\n",
       "      <td>5.33</td>\n",
       "      <td>36.2</td>\n",
       "    </tr>\n",
       "    <tr>\n",
       "      <th>...</th>\n",
       "      <td>...</td>\n",
       "      <td>...</td>\n",
       "      <td>...</td>\n",
       "      <td>...</td>\n",
       "      <td>...</td>\n",
       "      <td>...</td>\n",
       "      <td>...</td>\n",
       "      <td>...</td>\n",
       "      <td>...</td>\n",
       "      <td>...</td>\n",
       "      <td>...</td>\n",
       "      <td>...</td>\n",
       "      <td>...</td>\n",
       "      <td>...</td>\n",
       "    </tr>\n",
       "    <tr>\n",
       "      <th>501</th>\n",
       "      <td>0.06263</td>\n",
       "      <td>0.0</td>\n",
       "      <td>11.93</td>\n",
       "      <td>0.0</td>\n",
       "      <td>0.573</td>\n",
       "      <td>6.593</td>\n",
       "      <td>69.1</td>\n",
       "      <td>2.4786</td>\n",
       "      <td>1.0</td>\n",
       "      <td>273.0</td>\n",
       "      <td>21.0</td>\n",
       "      <td>391.99</td>\n",
       "      <td>9.67</td>\n",
       "      <td>22.4</td>\n",
       "    </tr>\n",
       "    <tr>\n",
       "      <th>502</th>\n",
       "      <td>0.04527</td>\n",
       "      <td>0.0</td>\n",
       "      <td>11.93</td>\n",
       "      <td>0.0</td>\n",
       "      <td>0.573</td>\n",
       "      <td>6.120</td>\n",
       "      <td>76.7</td>\n",
       "      <td>2.2875</td>\n",
       "      <td>1.0</td>\n",
       "      <td>273.0</td>\n",
       "      <td>21.0</td>\n",
       "      <td>396.90</td>\n",
       "      <td>9.08</td>\n",
       "      <td>20.6</td>\n",
       "    </tr>\n",
       "    <tr>\n",
       "      <th>503</th>\n",
       "      <td>0.06076</td>\n",
       "      <td>0.0</td>\n",
       "      <td>11.93</td>\n",
       "      <td>0.0</td>\n",
       "      <td>0.573</td>\n",
       "      <td>6.976</td>\n",
       "      <td>91.0</td>\n",
       "      <td>2.1675</td>\n",
       "      <td>1.0</td>\n",
       "      <td>273.0</td>\n",
       "      <td>21.0</td>\n",
       "      <td>396.90</td>\n",
       "      <td>5.64</td>\n",
       "      <td>23.9</td>\n",
       "    </tr>\n",
       "    <tr>\n",
       "      <th>504</th>\n",
       "      <td>0.10959</td>\n",
       "      <td>0.0</td>\n",
       "      <td>11.93</td>\n",
       "      <td>0.0</td>\n",
       "      <td>0.573</td>\n",
       "      <td>6.794</td>\n",
       "      <td>89.3</td>\n",
       "      <td>2.3889</td>\n",
       "      <td>1.0</td>\n",
       "      <td>273.0</td>\n",
       "      <td>21.0</td>\n",
       "      <td>393.45</td>\n",
       "      <td>6.48</td>\n",
       "      <td>22.0</td>\n",
       "    </tr>\n",
       "    <tr>\n",
       "      <th>505</th>\n",
       "      <td>0.04741</td>\n",
       "      <td>0.0</td>\n",
       "      <td>11.93</td>\n",
       "      <td>0.0</td>\n",
       "      <td>0.573</td>\n",
       "      <td>6.030</td>\n",
       "      <td>80.8</td>\n",
       "      <td>2.5050</td>\n",
       "      <td>1.0</td>\n",
       "      <td>273.0</td>\n",
       "      <td>21.0</td>\n",
       "      <td>396.90</td>\n",
       "      <td>7.88</td>\n",
       "      <td>11.9</td>\n",
       "    </tr>\n",
       "  </tbody>\n",
       "</table>\n",
       "<p>506 rows × 14 columns</p>\n",
       "</div>"
      ],
      "text/plain": [
       "        CRIM    ZN  INDUS  CHAS    NOX     RM   AGE     DIS  RAD    TAX  PTRATIO       B  LSTAT  PRICE\n",
       "0    0.00632  18.0   2.31   0.0  0.538  6.575  65.2  4.0900  1.0  296.0     15.3  396.90   4.98   24.0\n",
       "1    0.02731   0.0   7.07   0.0  0.469  6.421  78.9  4.9671  2.0  242.0     17.8  396.90   9.14   21.6\n",
       "2    0.02729   0.0   7.07   0.0  0.469  7.185  61.1  4.9671  2.0  242.0     17.8  392.83   4.03   34.7\n",
       "3    0.03237   0.0   2.18   0.0  0.458  6.998  45.8  6.0622  3.0  222.0     18.7  394.63   2.94   33.4\n",
       "4    0.06905   0.0   2.18   0.0  0.458  7.147  54.2  6.0622  3.0  222.0     18.7  396.90   5.33   36.2\n",
       "..       ...   ...    ...   ...    ...    ...   ...     ...  ...    ...      ...     ...    ...    ...\n",
       "501  0.06263   0.0  11.93   0.0  0.573  6.593  69.1  2.4786  1.0  273.0     21.0  391.99   9.67   22.4\n",
       "502  0.04527   0.0  11.93   0.0  0.573  6.120  76.7  2.2875  1.0  273.0     21.0  396.90   9.08   20.6\n",
       "503  0.06076   0.0  11.93   0.0  0.573  6.976  91.0  2.1675  1.0  273.0     21.0  396.90   5.64   23.9\n",
       "504  0.10959   0.0  11.93   0.0  0.573  6.794  89.3  2.3889  1.0  273.0     21.0  393.45   6.48   22.0\n",
       "505  0.04741   0.0  11.93   0.0  0.573  6.030  80.8  2.5050  1.0  273.0     21.0  396.90   7.88   11.9\n",
       "\n",
       "[506 rows x 14 columns]"
      ]
     },
     "execution_count": 2,
     "metadata": {},
     "output_type": "execute_result"
    }
   ],
   "source": [
    "boston=load_boston()\n",
    "df=pd.DataFrame(boston.data,columns=boston.feature_names)\n",
    "df['PRICE']=boston.target\n",
    "df"
   ]
  },
  {
   "cell_type": "code",
   "execution_count": 3,
   "id": "54a1eab0",
   "metadata": {},
   "outputs": [
    {
     "data": {
      "text/html": [
       "<div>\n",
       "<style scoped>\n",
       "    .dataframe tbody tr th:only-of-type {\n",
       "        vertical-align: middle;\n",
       "    }\n",
       "\n",
       "    .dataframe tbody tr th {\n",
       "        vertical-align: top;\n",
       "    }\n",
       "\n",
       "    .dataframe thead th {\n",
       "        text-align: right;\n",
       "    }\n",
       "</style>\n",
       "<table border=\"1\" class=\"dataframe\">\n",
       "  <thead>\n",
       "    <tr style=\"text-align: right;\">\n",
       "      <th></th>\n",
       "      <th>CRIM</th>\n",
       "      <th>ZN</th>\n",
       "      <th>INDUS</th>\n",
       "      <th>CHAS</th>\n",
       "      <th>NOX</th>\n",
       "      <th>RM</th>\n",
       "      <th>AGE</th>\n",
       "      <th>DIS</th>\n",
       "      <th>RAD</th>\n",
       "      <th>TAX</th>\n",
       "      <th>PTRATIO</th>\n",
       "      <th>B</th>\n",
       "      <th>LSTAT</th>\n",
       "      <th>PRICE</th>\n",
       "    </tr>\n",
       "  </thead>\n",
       "  <tbody>\n",
       "    <tr>\n",
       "      <th>count</th>\n",
       "      <td>506.000000</td>\n",
       "      <td>506.000000</td>\n",
       "      <td>506.000000</td>\n",
       "      <td>506.000000</td>\n",
       "      <td>506.000000</td>\n",
       "      <td>506.000000</td>\n",
       "      <td>506.000000</td>\n",
       "      <td>506.000000</td>\n",
       "      <td>506.000000</td>\n",
       "      <td>506.000000</td>\n",
       "      <td>506.000000</td>\n",
       "      <td>506.000000</td>\n",
       "      <td>506.000000</td>\n",
       "      <td>506.000000</td>\n",
       "    </tr>\n",
       "    <tr>\n",
       "      <th>mean</th>\n",
       "      <td>3.613524</td>\n",
       "      <td>11.363636</td>\n",
       "      <td>11.136779</td>\n",
       "      <td>0.069170</td>\n",
       "      <td>0.554695</td>\n",
       "      <td>6.284634</td>\n",
       "      <td>68.574901</td>\n",
       "      <td>3.795043</td>\n",
       "      <td>9.549407</td>\n",
       "      <td>408.237154</td>\n",
       "      <td>18.455534</td>\n",
       "      <td>356.674032</td>\n",
       "      <td>12.653063</td>\n",
       "      <td>22.532806</td>\n",
       "    </tr>\n",
       "    <tr>\n",
       "      <th>std</th>\n",
       "      <td>8.601545</td>\n",
       "      <td>23.322453</td>\n",
       "      <td>6.860353</td>\n",
       "      <td>0.253994</td>\n",
       "      <td>0.115878</td>\n",
       "      <td>0.702617</td>\n",
       "      <td>28.148861</td>\n",
       "      <td>2.105710</td>\n",
       "      <td>8.707259</td>\n",
       "      <td>168.537116</td>\n",
       "      <td>2.164946</td>\n",
       "      <td>91.294864</td>\n",
       "      <td>7.141062</td>\n",
       "      <td>9.197104</td>\n",
       "    </tr>\n",
       "    <tr>\n",
       "      <th>min</th>\n",
       "      <td>0.006320</td>\n",
       "      <td>0.000000</td>\n",
       "      <td>0.460000</td>\n",
       "      <td>0.000000</td>\n",
       "      <td>0.385000</td>\n",
       "      <td>3.561000</td>\n",
       "      <td>2.900000</td>\n",
       "      <td>1.129600</td>\n",
       "      <td>1.000000</td>\n",
       "      <td>187.000000</td>\n",
       "      <td>12.600000</td>\n",
       "      <td>0.320000</td>\n",
       "      <td>1.730000</td>\n",
       "      <td>5.000000</td>\n",
       "    </tr>\n",
       "    <tr>\n",
       "      <th>25%</th>\n",
       "      <td>0.082045</td>\n",
       "      <td>0.000000</td>\n",
       "      <td>5.190000</td>\n",
       "      <td>0.000000</td>\n",
       "      <td>0.449000</td>\n",
       "      <td>5.885500</td>\n",
       "      <td>45.025000</td>\n",
       "      <td>2.100175</td>\n",
       "      <td>4.000000</td>\n",
       "      <td>279.000000</td>\n",
       "      <td>17.400000</td>\n",
       "      <td>375.377500</td>\n",
       "      <td>6.950000</td>\n",
       "      <td>17.025000</td>\n",
       "    </tr>\n",
       "    <tr>\n",
       "      <th>50%</th>\n",
       "      <td>0.256510</td>\n",
       "      <td>0.000000</td>\n",
       "      <td>9.690000</td>\n",
       "      <td>0.000000</td>\n",
       "      <td>0.538000</td>\n",
       "      <td>6.208500</td>\n",
       "      <td>77.500000</td>\n",
       "      <td>3.207450</td>\n",
       "      <td>5.000000</td>\n",
       "      <td>330.000000</td>\n",
       "      <td>19.050000</td>\n",
       "      <td>391.440000</td>\n",
       "      <td>11.360000</td>\n",
       "      <td>21.200000</td>\n",
       "    </tr>\n",
       "    <tr>\n",
       "      <th>75%</th>\n",
       "      <td>3.677083</td>\n",
       "      <td>12.500000</td>\n",
       "      <td>18.100000</td>\n",
       "      <td>0.000000</td>\n",
       "      <td>0.624000</td>\n",
       "      <td>6.623500</td>\n",
       "      <td>94.075000</td>\n",
       "      <td>5.188425</td>\n",
       "      <td>24.000000</td>\n",
       "      <td>666.000000</td>\n",
       "      <td>20.200000</td>\n",
       "      <td>396.225000</td>\n",
       "      <td>16.955000</td>\n",
       "      <td>25.000000</td>\n",
       "    </tr>\n",
       "    <tr>\n",
       "      <th>max</th>\n",
       "      <td>88.976200</td>\n",
       "      <td>100.000000</td>\n",
       "      <td>27.740000</td>\n",
       "      <td>1.000000</td>\n",
       "      <td>0.871000</td>\n",
       "      <td>8.780000</td>\n",
       "      <td>100.000000</td>\n",
       "      <td>12.126500</td>\n",
       "      <td>24.000000</td>\n",
       "      <td>711.000000</td>\n",
       "      <td>22.000000</td>\n",
       "      <td>396.900000</td>\n",
       "      <td>37.970000</td>\n",
       "      <td>50.000000</td>\n",
       "    </tr>\n",
       "  </tbody>\n",
       "</table>\n",
       "</div>"
      ],
      "text/plain": [
       "             CRIM          ZN       INDUS        CHAS  ...     PTRATIO           B       LSTAT       PRICE\n",
       "count  506.000000  506.000000  506.000000  506.000000  ...  506.000000  506.000000  506.000000  506.000000\n",
       "mean     3.613524   11.363636   11.136779    0.069170  ...   18.455534  356.674032   12.653063   22.532806\n",
       "std      8.601545   23.322453    6.860353    0.253994  ...    2.164946   91.294864    7.141062    9.197104\n",
       "min      0.006320    0.000000    0.460000    0.000000  ...   12.600000    0.320000    1.730000    5.000000\n",
       "25%      0.082045    0.000000    5.190000    0.000000  ...   17.400000  375.377500    6.950000   17.025000\n",
       "50%      0.256510    0.000000    9.690000    0.000000  ...   19.050000  391.440000   11.360000   21.200000\n",
       "75%      3.677083   12.500000   18.100000    0.000000  ...   20.200000  396.225000   16.955000   25.000000\n",
       "max     88.976200  100.000000   27.740000    1.000000  ...   22.000000  396.900000   37.970000   50.000000\n",
       "\n",
       "[8 rows x 14 columns]"
      ]
     },
     "execution_count": 3,
     "metadata": {},
     "output_type": "execute_result"
    }
   ],
   "source": [
    "df.describe()"
   ]
  },
  {
   "cell_type": "markdown",
   "id": "466d6be2",
   "metadata": {},
   "source": [
    "### Feature selection"
   ]
  },
  {
   "cell_type": "code",
   "execution_count": 4,
   "id": "81f7f756",
   "metadata": {},
   "outputs": [
    {
     "data": {
      "text/html": [
       "<div>\n",
       "<style scoped>\n",
       "    .dataframe tbody tr th:only-of-type {\n",
       "        vertical-align: middle;\n",
       "    }\n",
       "\n",
       "    .dataframe tbody tr th {\n",
       "        vertical-align: top;\n",
       "    }\n",
       "\n",
       "    .dataframe thead th {\n",
       "        text-align: right;\n",
       "    }\n",
       "</style>\n",
       "<table border=\"1\" class=\"dataframe\">\n",
       "  <thead>\n",
       "    <tr style=\"text-align: right;\">\n",
       "      <th></th>\n",
       "      <th>CRIM</th>\n",
       "      <th>ZN</th>\n",
       "      <th>INDUS</th>\n",
       "      <th>CHAS</th>\n",
       "      <th>NOX</th>\n",
       "      <th>RM</th>\n",
       "      <th>AGE</th>\n",
       "      <th>DIS</th>\n",
       "      <th>RAD</th>\n",
       "      <th>TAX</th>\n",
       "      <th>PTRATIO</th>\n",
       "      <th>B</th>\n",
       "      <th>LSTAT</th>\n",
       "      <th>PRICE</th>\n",
       "    </tr>\n",
       "  </thead>\n",
       "  <tbody>\n",
       "    <tr>\n",
       "      <th>CRIM</th>\n",
       "      <td>1.000000</td>\n",
       "      <td>-0.200469</td>\n",
       "      <td>0.406583</td>\n",
       "      <td>-0.055892</td>\n",
       "      <td>0.420972</td>\n",
       "      <td>-0.219247</td>\n",
       "      <td>0.352734</td>\n",
       "      <td>-0.379670</td>\n",
       "      <td>0.625505</td>\n",
       "      <td>0.582764</td>\n",
       "      <td>0.289946</td>\n",
       "      <td>-0.385064</td>\n",
       "      <td>0.455621</td>\n",
       "      <td>-0.388305</td>\n",
       "    </tr>\n",
       "    <tr>\n",
       "      <th>ZN</th>\n",
       "      <td>-0.200469</td>\n",
       "      <td>1.000000</td>\n",
       "      <td>-0.533828</td>\n",
       "      <td>-0.042697</td>\n",
       "      <td>-0.516604</td>\n",
       "      <td>0.311991</td>\n",
       "      <td>-0.569537</td>\n",
       "      <td>0.664408</td>\n",
       "      <td>-0.311948</td>\n",
       "      <td>-0.314563</td>\n",
       "      <td>-0.391679</td>\n",
       "      <td>0.175520</td>\n",
       "      <td>-0.412995</td>\n",
       "      <td>0.360445</td>\n",
       "    </tr>\n",
       "    <tr>\n",
       "      <th>INDUS</th>\n",
       "      <td>0.406583</td>\n",
       "      <td>-0.533828</td>\n",
       "      <td>1.000000</td>\n",
       "      <td>0.062938</td>\n",
       "      <td>0.763651</td>\n",
       "      <td>-0.391676</td>\n",
       "      <td>0.644779</td>\n",
       "      <td>-0.708027</td>\n",
       "      <td>0.595129</td>\n",
       "      <td>0.720760</td>\n",
       "      <td>0.383248</td>\n",
       "      <td>-0.356977</td>\n",
       "      <td>0.603800</td>\n",
       "      <td>-0.483725</td>\n",
       "    </tr>\n",
       "    <tr>\n",
       "      <th>CHAS</th>\n",
       "      <td>-0.055892</td>\n",
       "      <td>-0.042697</td>\n",
       "      <td>0.062938</td>\n",
       "      <td>1.000000</td>\n",
       "      <td>0.091203</td>\n",
       "      <td>0.091251</td>\n",
       "      <td>0.086518</td>\n",
       "      <td>-0.099176</td>\n",
       "      <td>-0.007368</td>\n",
       "      <td>-0.035587</td>\n",
       "      <td>-0.121515</td>\n",
       "      <td>0.048788</td>\n",
       "      <td>-0.053929</td>\n",
       "      <td>0.175260</td>\n",
       "    </tr>\n",
       "    <tr>\n",
       "      <th>NOX</th>\n",
       "      <td>0.420972</td>\n",
       "      <td>-0.516604</td>\n",
       "      <td>0.763651</td>\n",
       "      <td>0.091203</td>\n",
       "      <td>1.000000</td>\n",
       "      <td>-0.302188</td>\n",
       "      <td>0.731470</td>\n",
       "      <td>-0.769230</td>\n",
       "      <td>0.611441</td>\n",
       "      <td>0.668023</td>\n",
       "      <td>0.188933</td>\n",
       "      <td>-0.380051</td>\n",
       "      <td>0.590879</td>\n",
       "      <td>-0.427321</td>\n",
       "    </tr>\n",
       "    <tr>\n",
       "      <th>RM</th>\n",
       "      <td>-0.219247</td>\n",
       "      <td>0.311991</td>\n",
       "      <td>-0.391676</td>\n",
       "      <td>0.091251</td>\n",
       "      <td>-0.302188</td>\n",
       "      <td>1.000000</td>\n",
       "      <td>-0.240265</td>\n",
       "      <td>0.205246</td>\n",
       "      <td>-0.209847</td>\n",
       "      <td>-0.292048</td>\n",
       "      <td>-0.355501</td>\n",
       "      <td>0.128069</td>\n",
       "      <td>-0.613808</td>\n",
       "      <td>0.695360</td>\n",
       "    </tr>\n",
       "    <tr>\n",
       "      <th>AGE</th>\n",
       "      <td>0.352734</td>\n",
       "      <td>-0.569537</td>\n",
       "      <td>0.644779</td>\n",
       "      <td>0.086518</td>\n",
       "      <td>0.731470</td>\n",
       "      <td>-0.240265</td>\n",
       "      <td>1.000000</td>\n",
       "      <td>-0.747881</td>\n",
       "      <td>0.456022</td>\n",
       "      <td>0.506456</td>\n",
       "      <td>0.261515</td>\n",
       "      <td>-0.273534</td>\n",
       "      <td>0.602339</td>\n",
       "      <td>-0.376955</td>\n",
       "    </tr>\n",
       "    <tr>\n",
       "      <th>DIS</th>\n",
       "      <td>-0.379670</td>\n",
       "      <td>0.664408</td>\n",
       "      <td>-0.708027</td>\n",
       "      <td>-0.099176</td>\n",
       "      <td>-0.769230</td>\n",
       "      <td>0.205246</td>\n",
       "      <td>-0.747881</td>\n",
       "      <td>1.000000</td>\n",
       "      <td>-0.494588</td>\n",
       "      <td>-0.534432</td>\n",
       "      <td>-0.232471</td>\n",
       "      <td>0.291512</td>\n",
       "      <td>-0.496996</td>\n",
       "      <td>0.249929</td>\n",
       "    </tr>\n",
       "    <tr>\n",
       "      <th>RAD</th>\n",
       "      <td>0.625505</td>\n",
       "      <td>-0.311948</td>\n",
       "      <td>0.595129</td>\n",
       "      <td>-0.007368</td>\n",
       "      <td>0.611441</td>\n",
       "      <td>-0.209847</td>\n",
       "      <td>0.456022</td>\n",
       "      <td>-0.494588</td>\n",
       "      <td>1.000000</td>\n",
       "      <td>0.910228</td>\n",
       "      <td>0.464741</td>\n",
       "      <td>-0.444413</td>\n",
       "      <td>0.488676</td>\n",
       "      <td>-0.381626</td>\n",
       "    </tr>\n",
       "    <tr>\n",
       "      <th>TAX</th>\n",
       "      <td>0.582764</td>\n",
       "      <td>-0.314563</td>\n",
       "      <td>0.720760</td>\n",
       "      <td>-0.035587</td>\n",
       "      <td>0.668023</td>\n",
       "      <td>-0.292048</td>\n",
       "      <td>0.506456</td>\n",
       "      <td>-0.534432</td>\n",
       "      <td>0.910228</td>\n",
       "      <td>1.000000</td>\n",
       "      <td>0.460853</td>\n",
       "      <td>-0.441808</td>\n",
       "      <td>0.543993</td>\n",
       "      <td>-0.468536</td>\n",
       "    </tr>\n",
       "    <tr>\n",
       "      <th>PTRATIO</th>\n",
       "      <td>0.289946</td>\n",
       "      <td>-0.391679</td>\n",
       "      <td>0.383248</td>\n",
       "      <td>-0.121515</td>\n",
       "      <td>0.188933</td>\n",
       "      <td>-0.355501</td>\n",
       "      <td>0.261515</td>\n",
       "      <td>-0.232471</td>\n",
       "      <td>0.464741</td>\n",
       "      <td>0.460853</td>\n",
       "      <td>1.000000</td>\n",
       "      <td>-0.177383</td>\n",
       "      <td>0.374044</td>\n",
       "      <td>-0.507787</td>\n",
       "    </tr>\n",
       "    <tr>\n",
       "      <th>B</th>\n",
       "      <td>-0.385064</td>\n",
       "      <td>0.175520</td>\n",
       "      <td>-0.356977</td>\n",
       "      <td>0.048788</td>\n",
       "      <td>-0.380051</td>\n",
       "      <td>0.128069</td>\n",
       "      <td>-0.273534</td>\n",
       "      <td>0.291512</td>\n",
       "      <td>-0.444413</td>\n",
       "      <td>-0.441808</td>\n",
       "      <td>-0.177383</td>\n",
       "      <td>1.000000</td>\n",
       "      <td>-0.366087</td>\n",
       "      <td>0.333461</td>\n",
       "    </tr>\n",
       "    <tr>\n",
       "      <th>LSTAT</th>\n",
       "      <td>0.455621</td>\n",
       "      <td>-0.412995</td>\n",
       "      <td>0.603800</td>\n",
       "      <td>-0.053929</td>\n",
       "      <td>0.590879</td>\n",
       "      <td>-0.613808</td>\n",
       "      <td>0.602339</td>\n",
       "      <td>-0.496996</td>\n",
       "      <td>0.488676</td>\n",
       "      <td>0.543993</td>\n",
       "      <td>0.374044</td>\n",
       "      <td>-0.366087</td>\n",
       "      <td>1.000000</td>\n",
       "      <td>-0.737663</td>\n",
       "    </tr>\n",
       "    <tr>\n",
       "      <th>PRICE</th>\n",
       "      <td>-0.388305</td>\n",
       "      <td>0.360445</td>\n",
       "      <td>-0.483725</td>\n",
       "      <td>0.175260</td>\n",
       "      <td>-0.427321</td>\n",
       "      <td>0.695360</td>\n",
       "      <td>-0.376955</td>\n",
       "      <td>0.249929</td>\n",
       "      <td>-0.381626</td>\n",
       "      <td>-0.468536</td>\n",
       "      <td>-0.507787</td>\n",
       "      <td>0.333461</td>\n",
       "      <td>-0.737663</td>\n",
       "      <td>1.000000</td>\n",
       "    </tr>\n",
       "  </tbody>\n",
       "</table>\n",
       "</div>"
      ],
      "text/plain": [
       "             CRIM        ZN     INDUS      CHAS       NOX  ...       TAX   PTRATIO         B     LSTAT     PRICE\n",
       "CRIM     1.000000 -0.200469  0.406583 -0.055892  0.420972  ...  0.582764  0.289946 -0.385064  0.455621 -0.388305\n",
       "ZN      -0.200469  1.000000 -0.533828 -0.042697 -0.516604  ... -0.314563 -0.391679  0.175520 -0.412995  0.360445\n",
       "INDUS    0.406583 -0.533828  1.000000  0.062938  0.763651  ...  0.720760  0.383248 -0.356977  0.603800 -0.483725\n",
       "CHAS    -0.055892 -0.042697  0.062938  1.000000  0.091203  ... -0.035587 -0.121515  0.048788 -0.053929  0.175260\n",
       "NOX      0.420972 -0.516604  0.763651  0.091203  1.000000  ...  0.668023  0.188933 -0.380051  0.590879 -0.427321\n",
       "RM      -0.219247  0.311991 -0.391676  0.091251 -0.302188  ... -0.292048 -0.355501  0.128069 -0.613808  0.695360\n",
       "AGE      0.352734 -0.569537  0.644779  0.086518  0.731470  ...  0.506456  0.261515 -0.273534  0.602339 -0.376955\n",
       "DIS     -0.379670  0.664408 -0.708027 -0.099176 -0.769230  ... -0.534432 -0.232471  0.291512 -0.496996  0.249929\n",
       "RAD      0.625505 -0.311948  0.595129 -0.007368  0.611441  ...  0.910228  0.464741 -0.444413  0.488676 -0.381626\n",
       "TAX      0.582764 -0.314563  0.720760 -0.035587  0.668023  ...  1.000000  0.460853 -0.441808  0.543993 -0.468536\n",
       "PTRATIO  0.289946 -0.391679  0.383248 -0.121515  0.188933  ...  0.460853  1.000000 -0.177383  0.374044 -0.507787\n",
       "B       -0.385064  0.175520 -0.356977  0.048788 -0.380051  ... -0.441808 -0.177383  1.000000 -0.366087  0.333461\n",
       "LSTAT    0.455621 -0.412995  0.603800 -0.053929  0.590879  ...  0.543993  0.374044 -0.366087  1.000000 -0.737663\n",
       "PRICE   -0.388305  0.360445 -0.483725  0.175260 -0.427321  ... -0.468536 -0.507787  0.333461 -0.737663  1.000000\n",
       "\n",
       "[14 rows x 14 columns]"
      ]
     },
     "execution_count": 4,
     "metadata": {},
     "output_type": "execute_result"
    }
   ],
   "source": [
    "df.corr()"
   ]
  },
  {
   "cell_type": "markdown",
   "id": "ad2dda45",
   "metadata": {},
   "source": [
    "### 1. Linearity"
   ]
  },
  {
   "cell_type": "code",
   "execution_count": 8,
   "id": "24513ac1",
   "metadata": {},
   "outputs": [
    {
     "data": {
      "text/plain": [
       "<AxesSubplot:>"
      ]
     },
     "execution_count": 8,
     "metadata": {},
     "output_type": "execute_result"
    },
    {
     "data": {
      "image/png": "[encoded data removed]",
      "text/plain": [
       "<Figure size 1440x144 with 2 Axes>"
      ]
     },
     "metadata": {
      "needs_background": "light"
     },
     "output_type": "display_data"
    }
   ],
   "source": [
    "corr=df.corr().tail(1).sort_values('PRICE',axis=1)\n",
    "plt.figure(figsize=(20,2))\n",
    "sns.heatmap(corr,annot=True)"
   ]
  },
  {
   "cell_type": "markdown",
   "id": "3996fbce",
   "metadata": {},
   "source": [
    "### 2. No Multicollinearity"
   ]
  },
  {
   "cell_type": "code",
   "execution_count": 12,
   "id": "85058c98",
   "metadata": {},
   "outputs": [
    {
     "data": {
      "text/plain": [
       "CRIM        2.100373\n",
       "ZN          2.844013\n",
       "INDUS      14.485758\n",
       "CHAS        1.152952\n",
       "NOX        73.894947\n",
       "RM         77.948283\n",
       "AGE        21.386850\n",
       "DIS        14.699652\n",
       "RAD        15.167725\n",
       "TAX        61.227274\n",
       "PTRATIO    85.029547\n",
       "B          20.104943\n",
       "LSTAT      11.102025\n",
       "dtype: float64"
      ]
     },
     "execution_count": 12,
     "metadata": {},
     "output_type": "execute_result"
    },
    {
     "data": {
      "image/png": "[encoded data removed]",
      "text/plain": [
       "<Figure size 432x288 with 1 Axes>"
      ]
     },
     "metadata": {
      "needs_background": "light"
     },
     "output_type": "display_data"
    }
   ],
   "source": [
    "x=df.drop('PRICE',axis=1)\n",
    "vif_list=[]\n",
    "for i in range(x.shape[1]):\n",
    "    vif=variance_inflation_factor(x.to_numpy(),i)\n",
    "    vif_list.append(vif)\n",
    "    \n",
    "s1=pd.Series(vif_list,index=x.columns)\n",
    "s1.sort_values().plot(kind='barh')"
   ]
  },
  {
   "cell_type": "markdown",
   "id": "bb9e0155",
   "metadata": {},
   "source": [
    "### Train Model"
   ]
  },
  {
   "cell_type": "code",
   "execution_count": 14,
   "id": "7251c5b3",
   "metadata": {},
   "outputs": [],
   "source": [
    "x=df.drop('PRICE',axis=1)\n",
    "y=df['PRICE']\n",
    "x_train,x_test,y_train,y_test=train_test_split(x,y,test_size=0.2,random_state=11,shuffle=True)"
   ]
  },
  {
   "cell_type": "markdown",
   "id": "9f1debcd",
   "metadata": {},
   "source": [
    "### 1. Linear Regression"
   ]
  },
  {
   "cell_type": "code",
   "execution_count": 16,
   "id": "3e62cd77",
   "metadata": {},
   "outputs": [
    {
     "data": {
      "text/plain": [
       "LinearRegression()"
      ]
     },
     "execution_count": 16,
     "metadata": {},
     "output_type": "execute_result"
    }
   ],
   "source": [
    "linear_reg_model=LinearRegression()\n",
    "linear_reg_model.fit(x_train,y_train)"
   ]
  },
  {
   "cell_type": "code",
   "execution_count": 17,
   "id": "da765192",
   "metadata": {},
   "outputs": [
    {
     "name": "stdout",
     "output_type": "stream",
     "text": [
      "MSE is:  20.89839548405952\n",
      "RMSE is:  4.571476291534226\n",
      "MAE is:  3.2542201482150492\n",
      "R- Squared value :  0.7511508467017516\n"
     ]
    }
   ],
   "source": [
    "#Training data Evaluation\n",
    "y_pred_train=linear_reg_model.predict(x_train)\n",
    "\n",
    "mse=mean_squared_error(y_train,y_pred_train)\n",
    "print('MSE is: ',mse)\n",
    "\n",
    "rmse=np.sqrt(mse)\n",
    "print('RMSE is: ',rmse)\n",
    "\n",
    "mae=mean_absolute_error(y_train,y_pred_train)\n",
    "print('MAE is: ',mae)\n",
    "\n",
    "r2=r2_score(y_train,y_pred_train)\n",
    "print(\"R- Squared value : \",r2)"
   ]
  },
  {
   "cell_type": "code",
   "execution_count": 18,
   "id": "1afa93b3",
   "metadata": {},
   "outputs": [
    {
     "name": "stdout",
     "output_type": "stream",
     "text": [
      "MSE is:  26.944812249518208\n",
      "RMSE is:  5.190839262539171\n",
      "MAE is:  3.5673260189967984\n",
      "R- Squared value :  0.6859495577055554\n"
     ]
    }
   ],
   "source": [
    "#Testing data Evaluation\n",
    "y_pred=linear_reg_model.predict(x_test)\n",
    "\n",
    "mse=mean_squared_error(y_test,y_pred)\n",
    "print('MSE is: ',mse)\n",
    "\n",
    "rmse=np.sqrt(mse)\n",
    "print('RMSE is: ',rmse)\n",
    "\n",
    "mae=mean_absolute_error(y_test,y_pred)\n",
    "print('MAE is: ',mae)\n",
    "\n",
    "r2=r2_score(y_test,y_pred)\n",
    "print(\"R- Squared value : \",r2)"
   ]
  },
  {
   "cell_type": "code",
   "execution_count": 36,
   "id": "111c0041",
   "metadata": {},
   "outputs": [
    {
     "data": {
      "text/plain": [
       "<AxesSubplot:>"
      ]
     },
     "execution_count": 36,
     "metadata": {},
     "output_type": "execute_result"
    },
    {
     "data": {
      "image/png": "[encoded data removed]",
      "text/plain": [
       "<Figure size 1440x720 with 1 Axes>"
      ]
     },
     "metadata": {
      "needs_background": "light"
     },
     "output_type": "display_data"
    }
   ],
   "source": [
    "linear_reg_model=LinearRegression()\n",
    "linear_reg_model.fit(x_train,y_train)\n",
    "\n",
    "s2=pd.Series(linear_reg_model.coef_,index=x.columns)\n",
    "plt.figure(figsize=(20,10))\n",
    "s2.sort_values().plot(kind='barh')"
   ]
  },
  {
   "cell_type": "markdown",
   "id": "a09d8882",
   "metadata": {},
   "source": [
    "## 2. Ridge"
   ]
  },
  {
   "cell_type": "code",
   "execution_count": 23,
   "id": "8c647599",
   "metadata": {},
   "outputs": [
    {
     "data": {
      "text/plain": [
       "Ridge()"
      ]
     },
     "execution_count": 23,
     "metadata": {},
     "output_type": "execute_result"
    }
   ],
   "source": [
    "ridge_reg_model=Ridge(alpha=1.0)  #alpha==lambda\n",
    "ridge_reg_model.fit(x_train,y_train)"
   ]
  },
  {
   "cell_type": "code",
   "execution_count": 24,
   "id": "5807ab8b",
   "metadata": {},
   "outputs": [
    {
     "name": "stdout",
     "output_type": "stream",
     "text": [
      "MSE is:  21.121144480921362\n",
      "RMSE is:  4.5957746333911285\n",
      "MAE is:  3.248266003403979\n",
      "R- Squared value :  0.7484984469369284\n"
     ]
    }
   ],
   "source": [
    "#Training data Evaluation\n",
    "y_pred_train=ridge_reg_model.predict(x_train)\n",
    "\n",
    "mse=mean_squared_error(y_train,y_pred_train)\n",
    "print('MSE is: ',mse)\n",
    "\n",
    "rmse=np.sqrt(mse)\n",
    "print('RMSE is: ',rmse)\n",
    "\n",
    "mae=mean_absolute_error(y_train,y_pred_train)\n",
    "print('MAE is: ',mae)\n",
    "\n",
    "r2=r2_score(y_train,y_pred_train)\n",
    "print(\"R- Squared value : \",r2)"
   ]
  },
  {
   "cell_type": "code",
   "execution_count": 25,
   "id": "b2140677",
   "metadata": {},
   "outputs": [
    {
     "name": "stdout",
     "output_type": "stream",
     "text": [
      "MSE is:  26.70380918769106\n",
      "RMSE is:  5.167572852673783\n",
      "MAE is:  3.512189077585274\n",
      "R- Squared value :  0.6887585258089604\n"
     ]
    }
   ],
   "source": [
    "#Testing data Evaluation\n",
    "y_pred=ridge_reg_model.predict(x_test)\n",
    "\n",
    "mse=mean_squared_error(y_test,y_pred)\n",
    "print('MSE is: ',mse)\n",
    "\n",
    "rmse=np.sqrt(mse)\n",
    "print('RMSE is: ',rmse)\n",
    "\n",
    "mae=mean_absolute_error(y_test,y_pred)\n",
    "print('MAE is: ',mae)\n",
    "\n",
    "r2=r2_score(y_test,y_pred)\n",
    "print(\"R- Squared value : \",r2)"
   ]
  },
  {
   "cell_type": "code",
   "execution_count": 35,
   "id": "949498d4",
   "metadata": {},
   "outputs": [
    {
     "data": {
      "text/plain": [
       "<AxesSubplot:>"
      ]
     },
     "execution_count": 35,
     "metadata": {},
     "output_type": "execute_result"
    },
    {
     "data": {
      "image/png": "[encoded data removed]",
      "text/plain": [
       "<Figure size 1440x720 with 1 Axes>"
      ]
     },
     "metadata": {
      "needs_background": "light"
     },
     "output_type": "display_data"
    }
   ],
   "source": [
    "ridge_reg_model=Ridge(alpha=1.0)  #alpha==lambda\n",
    "ridge_reg_model.fit(x_train,y_train)\n",
    "\n",
    "s2=pd.Series(ridge_reg_model.coef_,index=x.columns)\n",
    "plt.figure(figsize=(20,10))\n",
    "s2.sort_values().plot(kind='barh')"
   ]
  },
  {
   "cell_type": "markdown",
   "id": "c6a0f2d7",
   "metadata": {},
   "source": [
    "### 3. Lasso Reg"
   ]
  },
  {
   "cell_type": "code",
   "execution_count": 29,
   "id": "15131cb3",
   "metadata": {},
   "outputs": [
    {
     "data": {
      "text/plain": [
       "Lasso()"
      ]
     },
     "execution_count": 29,
     "metadata": {},
     "output_type": "execute_result"
    }
   ],
   "source": [
    "lasso_reg_model=Lasso(alpha=1.0)\n",
    "lasso_reg_model.fit(x_train,y_train)"
   ]
  },
  {
   "cell_type": "code",
   "execution_count": 30,
   "id": "5385e1f4",
   "metadata": {},
   "outputs": [
    {
     "name": "stdout",
     "output_type": "stream",
     "text": [
      "MSE is:  26.539670359591348\n",
      "RMSE is:  5.151666755487136\n",
      "MAE is:  3.6301862283653645\n",
      "R- Squared value :  0.6839769587652562\n"
     ]
    }
   ],
   "source": [
    "#Training data Evaluation\n",
    "y_pred_train=lasso_reg_model.predict(x_train)\n",
    "\n",
    "mse=mean_squared_error(y_train,y_pred_train)\n",
    "print('MSE is: ',mse)\n",
    "\n",
    "rmse=np.sqrt(mse)\n",
    "print('RMSE is: ',rmse)\n",
    "\n",
    "mae=mean_absolute_error(y_train,y_pred_train)\n",
    "print('MAE is: ',mae)\n",
    "\n",
    "r2=r2_score(y_train,y_pred_train)\n",
    "print(\"R- Squared value : \",r2)"
   ]
  },
  {
   "cell_type": "code",
   "execution_count": 31,
   "id": "563c84b7",
   "metadata": {},
   "outputs": [
    {
     "name": "stdout",
     "output_type": "stream",
     "text": [
      "MSE is:  28.599769738543415\n",
      "RMSE is:  5.347875254579469\n",
      "MAE is:  3.842005239446497\n",
      "R- Squared value :  0.6666604965462533\n"
     ]
    }
   ],
   "source": [
    "#Testing data Evaluation\n",
    "y_pred=lasso_reg_model.predict(x_test)\n",
    "\n",
    "mse=mean_squared_error(y_test,y_pred)\n",
    "print('MSE is: ',mse)\n",
    "\n",
    "rmse=np.sqrt(mse)\n",
    "print('RMSE is: ',rmse)\n",
    "\n",
    "mae=mean_absolute_error(y_test,y_pred)\n",
    "print('MAE is: ',mae)\n",
    "\n",
    "r2=r2_score(y_test,y_pred)\n",
    "print(\"R- Squared value : \",r2)"
   ]
  },
  {
   "cell_type": "code",
   "execution_count": 34,
   "id": "76021a8a",
   "metadata": {},
   "outputs": [
    {
     "data": {
      "text/plain": [
       "<AxesSubplot:>"
      ]
     },
     "execution_count": 34,
     "metadata": {},
     "output_type": "execute_result"
    },
    {
     "data": {
      "image/png": "[encoded data removed]",
      "text/plain": [
       "<Figure size 1440x720 with 1 Axes>"
      ]
     },
     "metadata": {
      "needs_background": "light"
     },
     "output_type": "display_data"
    }
   ],
   "source": [
    "lasso_reg_model=Lasso(alpha=1.0)\n",
    "lasso_reg_model.fit(x_train,y_train)\n",
    "\n",
    "s2=pd.Series(lasso_reg_model.coef_,index=x.columns)\n",
    "plt.figure(figsize=(20,10))\n",
    "s2.sort_values().plot(kind='barh')"
   ]
  },
  {
   "cell_type": "markdown",
   "id": "02ed0150",
   "metadata": {},
   "source": [
    "## Hyperparameter Tuning"
   ]
  },
  {
   "cell_type": "code",
   "execution_count": null,
   "id": "9716a440",
   "metadata": {},
   "outputs": [],
   "source": [
    "1. GridSearchCV\n",
    "2. RandomisedSearchCV\n",
    "\n",
    "CV >> cross validation(k-fold cross validation)"
   ]
  },
  {
   "cell_type": "markdown",
   "id": "9bd23b3d",
   "metadata": {},
   "source": [
    "#### Ridge Regression with Hyperparameter Tuning"
   ]
  },
  {
   "cell_type": "code",
   "execution_count": 45,
   "id": "02853362",
   "metadata": {},
   "outputs": [
    {
     "data": {
      "text/plain": [
       "Ridge(alpha=0.47000000000000003)"
      ]
     },
     "execution_count": 45,
     "metadata": {},
     "output_type": "execute_result"
    }
   ],
   "source": [
    "ridge_model=Ridge()\n",
    "\n",
    "param_grid={'alpha':np.arange(0.01,3,0.01)}\n",
    "\n",
    "gscv_ridge_model=GridSearchCV(ridge_model,param_grid,cv=5)\n",
    "gscv_ridge_model.fit(x_train,y_train)\n",
    "gscv_ridge_model.best_estimator_"
   ]
  },
  {
   "cell_type": "code",
   "execution_count": 46,
   "id": "9d8bc106",
   "metadata": {},
   "outputs": [
    {
     "data": {
      "text/plain": [
       "Lasso(alpha=0.01)"
      ]
     },
     "execution_count": 46,
     "metadata": {},
     "output_type": "execute_result"
    }
   ],
   "source": [
    "lasso_model=Lasso()\n",
    "\n",
    "param_grid={'alpha':np.arange(0.01,3,0.01)}\n",
    "\n",
    "gscv_lasso_model=GridSearchCV(lasso_model,param_grid,cv=5)\n",
    "gscv_lasso_model.fit(x_train,y_train)\n",
    "gscv_lasso_model.best_estimator_"
   ]
  },
  {
   "cell_type": "markdown",
   "id": "e2012468",
   "metadata": {},
   "source": [
    "### Ridge Regression after tuning alpha value"
   ]
  },
  {
   "cell_type": "code",
   "execution_count": 47,
   "id": "aee5abe7",
   "metadata": {},
   "outputs": [
    {
     "name": "stdout",
     "output_type": "stream",
     "text": [
      "MSE is:  20.982067267539858\n",
      "RMSE is:  4.580618655546417\n",
      "MAE is:  3.2438007829903763\n",
      "R- Squared value :  0.7501545188980254\n"
     ]
    }
   ],
   "source": [
    "ridge_reg_model=Ridge(alpha=0.47)  #alpha==lambda\n",
    "ridge_reg_model.fit(x_train,y_train)\n",
    "#Training data Evaluation\n",
    "y_pred_train=ridge_reg_model.predict(x_train)\n",
    "\n",
    "mse=mean_squared_error(y_train,y_pred_train)\n",
    "print('MSE is: ',mse)\n",
    "\n",
    "rmse=np.sqrt(mse)\n",
    "print('RMSE is: ',rmse)\n",
    "\n",
    "mae=mean_absolute_error(y_train,y_pred_train)\n",
    "print('MAE is: ',mae)\n",
    "\n",
    "r2=r2_score(y_train,y_pred_train)\n",
    "print(\"R- Squared value : \",r2)"
   ]
  },
  {
   "cell_type": "code",
   "execution_count": 48,
   "id": "00d9831f",
   "metadata": {},
   "outputs": [
    {
     "name": "stdout",
     "output_type": "stream",
     "text": [
      "MSE is:  26.765834672994146\n",
      "RMSE is:  5.173570785540114\n",
      "MAE is:  3.5238725285874533\n",
      "R- Squared value :  0.6880355988532043\n"
     ]
    }
   ],
   "source": [
    "#Testing data Evaluation\n",
    "y_pred=ridge_reg_model.predict(x_test)\n",
    "\n",
    "mse=mean_squared_error(y_test,y_pred)\n",
    "print('MSE is: ',mse)\n",
    "\n",
    "rmse=np.sqrt(mse)\n",
    "print('RMSE is: ',rmse)\n",
    "\n",
    "mae=mean_absolute_error(y_test,y_pred)\n",
    "print('MAE is: ',mae)\n",
    "\n",
    "r2=r2_score(y_test,y_pred)\n",
    "print(\"R- Squared value : \",r2)"
   ]
  },
  {
   "cell_type": "code",
   "execution_count": 52,
   "id": "c54b6da0",
   "metadata": {},
   "outputs": [
    {
     "data": {
      "text/plain": [
       "<AxesSubplot:>"
      ]
     },
     "execution_count": 52,
     "metadata": {},
     "output_type": "execute_result"
    },
    {
     "data": {
      "image/png": "[encoded data removed]",
      "text/plain": [
       "<Figure size 1440x720 with 1 Axes>"
      ]
     },
     "metadata": {
      "needs_background": "light"
     },
     "output_type": "display_data"
    }
   ],
   "source": [
    "ridge_reg_model=Ridge(alpha=0.47)  #alpha==lambda\n",
    "ridge_reg_model.fit(x_train,y_train)\n",
    "\n",
    "s2=pd.Series(ridge_reg_model.coef_,index=x.columns)\n",
    "plt.figure(figsize=(20,10))\n",
    "s2.sort_values().plot(kind='barh')"
   ]
  },
  {
   "cell_type": "markdown",
   "id": "0d5c2fdc",
   "metadata": {},
   "source": [
    "### Lasso Regression after tuning alpha value"
   ]
  },
  {
   "cell_type": "code",
   "execution_count": 49,
   "id": "fb51a585",
   "metadata": {},
   "outputs": [
    {
     "name": "stdout",
     "output_type": "stream",
     "text": [
      "MSE is:  20.934345313313614\n",
      "RMSE is:  4.575406573553176\n",
      "MAE is:  3.244294261152768\n",
      "R- Squared value :  0.7507227715139737\n"
     ]
    }
   ],
   "source": [
    "lasso_reg_model=Lasso(alpha=0.01)\n",
    "lasso_reg_model.fit(x_train,y_train)\n",
    "\n",
    "#Training data Evaluation\n",
    "y_pred_train=lasso_reg_model.predict(x_train)\n",
    "\n",
    "mse=mean_squared_error(y_train,y_pred_train)\n",
    "print('MSE is: ',mse)\n",
    "\n",
    "rmse=np.sqrt(mse)\n",
    "print('RMSE is: ',rmse)\n",
    "\n",
    "mae=mean_absolute_error(y_train,y_pred_train)\n",
    "print('MAE is: ',mae)\n",
    "\n",
    "r2=r2_score(y_train,y_pred_train)\n",
    "print(\"R- Squared value : \",r2)"
   ]
  },
  {
   "cell_type": "code",
   "execution_count": 50,
   "id": "cef29aaa",
   "metadata": {},
   "outputs": [
    {
     "name": "stdout",
     "output_type": "stream",
     "text": [
      "MSE is:  26.73132373084525\n",
      "RMSE is:  5.170234398056364\n",
      "MAE is:  3.5342073827230798\n",
      "R- Squared value :  0.6884378349699564\n"
     ]
    }
   ],
   "source": [
    "#Testing data Evaluation\n",
    "y_pred=lasso_reg_model.predict(x_test)\n",
    "\n",
    "mse=mean_squared_error(y_test,y_pred)\n",
    "print('MSE is: ',mse)\n",
    "\n",
    "rmse=np.sqrt(mse)\n",
    "print('RMSE is: ',rmse)\n",
    "\n",
    "mae=mean_absolute_error(y_test,y_pred)\n",
    "print('MAE is: ',mae)\n",
    "\n",
    "r2=r2_score(y_test,y_pred)\n",
    "print(\"R- Squared value : \",r2)"
   ]
  },
  {
   "cell_type": "code",
   "execution_count": 51,
   "id": "39d02bda",
   "metadata": {},
   "outputs": [
    {
     "data": {
      "text/plain": [
       "<AxesSubplot:>"
      ]
     },
     "execution_count": 51,
     "metadata": {},
     "output_type": "execute_result"
    },
    {
     "data": {
      "image/png": "[encoded data removed]",
      "text/plain": [
       "<Figure size 1440x720 with 1 Axes>"
      ]
     },
     "metadata": {
      "needs_background": "light"
     },
     "output_type": "display_data"
    }
   ],
   "source": [
    "lasso_reg_model=Lasso(alpha=0.01)\n",
    "lasso_reg_model.fit(x_train,y_train)\n",
    "\n",
    "s2=pd.Series(lasso_reg_model.coef_,index=x.columns)\n",
    "plt.figure(figsize=(20,10))\n",
    "s2.sort_values().plot(kind='barh')"
   ]
  },
  {
   "cell_type": "code",
   "execution_count": null,
   "id": "3048d7f0",
   "metadata": {},
   "outputs": [],
   "source": []
  },
  {
   "cell_type": "code",
   "execution_count": null,
   "id": "61bffd9e",
   "metadata": {},
   "outputs": [],
   "source": []
  },
  {
   "cell_type": "code",
   "execution_count": null,
   "id": "b5b30fc3",
   "metadata": {},
   "outputs": [],
   "source": []
  },
  {
   "cell_type": "code",
   "execution_count": null,
   "id": "0f602eb9",
   "metadata": {},
   "outputs": [],
   "source": []
  },
  {
   "cell_type": "code",
   "execution_count": null,
   "id": "5bf2f76d",
   "metadata": {},
   "outputs": [],
   "source": []
  },
  {
   "cell_type": "code",
   "execution_count": null,
   "id": "f4c2564b",
   "metadata": {},
   "outputs": [],
   "source": []
  },
  {
   "cell_type": "code",
   "execution_count": null,
   "id": "8ac5a0c0",
   "metadata": {},
   "outputs": [],
   "source": []
  },
  {
   "cell_type": "code",
   "execution_count": null,
   "id": "5b372692",
   "metadata": {},
   "outputs": [],
   "source": []
  },
  {
   "cell_type": "code",
   "execution_count": null,
   "id": "2d5e9c91",
   "metadata": {},
   "outputs": [],
   "source": []
  },
  {
   "cell_type": "code",
   "execution_count": null,
   "id": "df3d01ab",
   "metadata": {},
   "outputs": [],
   "source": []
  },
  {
   "cell_type": "code",
   "execution_count": null,
   "id": "c02d545f",
   "metadata": {},
   "outputs": [],
   "source": []
  },
  {
   "cell_type": "code",
   "execution_count": null,
   "id": "9245b679",
   "metadata": {},
   "outputs": [],
   "source": []
  },
  {
   "cell_type": "code",
   "execution_count": null,
   "id": "3231a713",
   "metadata": {},
   "outputs": [],
   "source": []
  },
  {
   "cell_type": "code",
   "execution_count": 37,
   "id": "2a922603",
   "metadata": {},
   "outputs": [],
   "source": [
    "# from sklearn.ensemble import RandomForestClassifier"
   ]
  },
  {
   "cell_type": "code",
   "execution_count": 39,
   "id": "4ecf712c",
   "metadata": {},
   "outputs": [
    {
     "data": {
      "text/plain": [
       "120"
      ]
     },
     "execution_count": 39,
     "metadata": {},
     "output_type": "execute_result"
    }
   ],
   "source": [
    "# rf_model=RandomForestClassifier()\n",
    "\n",
    "# param_grid={'n_estimators':100,\n",
    "#             'max_depth':np.arange(5,10), #5\n",
    "#             'min_samples_split':[4,5,6,7],   #4\n",
    "#             'min_samples_leaf':[1,2,3,4,5,6]} #6\n",
    "5*4*6"
   ]
  },
  {
   "cell_type": "code",
   "execution_count": null,
   "id": "a94c008d",
   "metadata": {},
   "outputs": [],
   "source": []
  },
  {
   "cell_type": "code",
   "execution_count": null,
   "id": "9d35d83b",
   "metadata": {},
   "outputs": [],
   "source": [
    "# GridSearchCV(rf_model,param_grid)"
   ]
  },
  {
   "cell_type": "code",
   "execution_count": null,
   "id": "aae3f229",
   "metadata": {},
   "outputs": [],
   "source": []
  },
  {
   "cell_type": "code",
   "execution_count": null,
   "id": "bd4dfd55",
   "metadata": {},
   "outputs": [],
   "source": []
  },
  {
   "cell_type": "code",
   "execution_count": null,
   "id": "7b1c62dc",
   "metadata": {},
   "outputs": [],
   "source": []
  },
  {
   "cell_type": "code",
   "execution_count": null,
   "id": "e6493847",
   "metadata": {},
   "outputs": [],
   "source": []
  },
  {
   "cell_type": "code",
   "execution_count": null,
   "id": "4d631125",
   "metadata": {},
   "outputs": [],
   "source": []
  },
  {
   "cell_type": "code",
   "execution_count": null,
   "id": "c4363b6a",
   "metadata": {},
   "outputs": [],
   "source": []
  },
  {
   "cell_type": "code",
   "execution_count": null,
   "id": "7e1e62e2",
   "metadata": {},
   "outputs": [],
   "source": []
  },
  {
   "cell_type": "code",
   "execution_count": null,
   "id": "4c2a9b22",
   "metadata": {},
   "outputs": [],
   "source": []
  }
 ],
 "metadata": {
  "kernelspec": {
   "display_name": "Python 3",
   "language": "python",
   "name": "python3"
  },
  "language_info": {
   "codemirror_mode": {
    "name": "ipython",
    "version": 3
   },
   "file_extension": ".py",
   "mimetype": "text/x-python",
   "name": "python",
   "nbconvert_exporter": "python",
   "pygments_lexer": "ipython3",
   "version": "3.8.8"
  }
 },
 "nbformat": 4,
 "nbformat_minor": 5
}
