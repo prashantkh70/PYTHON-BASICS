{
 "cells": [
  {
   "cell_type": "code",
   "execution_count": null,
   "id": "c8774546",
   "metadata": {},
   "outputs": [],
   "source": [
    "List\n",
    ">> mutable\n",
    ">> ordered\n",
    ">> duplicates items are allowed"
   ]
  },
  {
   "cell_type": "markdown",
   "id": "ef77016e",
   "metadata": {},
   "source": [
    "# Tuple"
   ]
  },
  {
   "cell_type": "code",
   "execution_count": null,
   "id": "a015f26b",
   "metadata": {},
   "outputs": [],
   "source": [
    "collection of items\n",
    "items>> int, float,string, list,set, frozenset,dict etc\n",
    "1. Tuple is a immutable datatype (we can not update tuple)\n",
    "2. Ordered\n",
    "3. Duplicates aitems are allowed\n",
    "4. tuples are enclosed by ()\n",
    "5. tuple items are comma seperated"
   ]
  },
  {
   "cell_type": "markdown",
   "id": "8907e4e8",
   "metadata": {},
   "source": [
    "# Tuple Functions"
   ]
  },
  {
   "cell_type": "code",
   "execution_count": null,
   "id": "47607ed0",
   "metadata": {},
   "outputs": [],
   "source": [
    "1. index\n",
    "2. count\n",
    "\n",
    "Built-in functions:\n",
    "    1. sorted()\n",
    "    2. reversed()\n",
    "    3. min()\n",
    "    4. max()\n",
    "    5. sum()\n",
    "    "
   ]
  },
  {
   "cell_type": "code",
   "execution_count": 1,
   "id": "34d8f6f8",
   "metadata": {},
   "outputs": [
    {
     "data": {
      "text/plain": [
       "list"
      ]
     },
     "execution_count": 1,
     "metadata": {},
     "output_type": "execute_result"
    }
   ],
   "source": [
    "list1 =[2,4,'data']\n",
    "type(list1)"
   ]
  },
  {
   "cell_type": "code",
   "execution_count": 2,
   "id": "6a8d9bb5",
   "metadata": {},
   "outputs": [
    {
     "data": {
      "text/plain": [
       "tuple"
      ]
     },
     "execution_count": 2,
     "metadata": {},
     "output_type": "execute_result"
    }
   ],
   "source": [
    "list1 =(2,4,'data')\n",
    "type(list1)"
   ]
  },
  {
   "cell_type": "code",
   "execution_count": 3,
   "id": "17dadaae",
   "metadata": {},
   "outputs": [
    {
     "data": {
      "text/plain": [
       "tuple"
      ]
     },
     "execution_count": 3,
     "metadata": {},
     "output_type": "execute_result"
    }
   ],
   "source": [
    "a =()\n",
    "type(a)"
   ]
  },
  {
   "cell_type": "code",
   "execution_count": 4,
   "id": "0f71b649",
   "metadata": {},
   "outputs": [
    {
     "data": {
      "text/plain": [
       "int"
      ]
     },
     "execution_count": 4,
     "metadata": {},
     "output_type": "execute_result"
    }
   ],
   "source": [
    "a =(10)\n",
    "type(a)"
   ]
  },
  {
   "cell_type": "code",
   "execution_count": 5,
   "id": "ec50fa89",
   "metadata": {},
   "outputs": [
    {
     "data": {
      "text/plain": [
       "tuple"
      ]
     },
     "execution_count": 5,
     "metadata": {},
     "output_type": "execute_result"
    }
   ],
   "source": [
    "a =(10,)\n",
    "type(a)"
   ]
  },
  {
   "cell_type": "code",
   "execution_count": 6,
   "id": "4b85f302",
   "metadata": {},
   "outputs": [
    {
     "data": {
      "text/plain": [
       "tuple"
      ]
     },
     "execution_count": 6,
     "metadata": {},
     "output_type": "execute_result"
    }
   ],
   "source": [
    "a =(10,3.5,'string')\n",
    "type(a)"
   ]
  },
  {
   "cell_type": "code",
   "execution_count": 7,
   "id": "f20f1b0e",
   "metadata": {},
   "outputs": [
    {
     "data": {
      "text/plain": [
       "tuple"
      ]
     },
     "execution_count": 7,
     "metadata": {},
     "output_type": "execute_result"
    }
   ],
   "source": [
    "a =(10,3.5,'string',[2,'data',4])\n",
    "type(a)"
   ]
  },
  {
   "cell_type": "code",
   "execution_count": 8,
   "id": "7d996e2b",
   "metadata": {},
   "outputs": [
    {
     "data": {
      "text/plain": [
       "tuple"
      ]
     },
     "execution_count": 8,
     "metadata": {},
     "output_type": "execute_result"
    }
   ],
   "source": [
    "a =(10,3.5,'string',[2,'data',4],20,{'f',20,5})\n",
    "type(a)"
   ]
  },
  {
   "cell_type": "code",
   "execution_count": 9,
   "id": "784de742",
   "metadata": {},
   "outputs": [
    {
     "ename": "AttributeError",
     "evalue": "'tuple' object has no attribute 'extend'",
     "output_type": "error",
     "traceback": [
      "\u001b[1;31m---------------------------------------------------------------------------\u001b[0m",
      "\u001b[1;31mAttributeError\u001b[0m                            Traceback (most recent call last)",
      "\u001b[1;32m<ipython-input-9-2140afb358f0>\u001b[0m in \u001b[0;36m<module>\u001b[1;34m\u001b[0m\n\u001b[0;32m      1\u001b[0m \u001b[0ma\u001b[0m \u001b[1;33m=\u001b[0m\u001b[1;33m(\u001b[0m\u001b[1;36m10\u001b[0m\u001b[1;33m,\u001b[0m\u001b[1;36m3.5\u001b[0m\u001b[1;33m,\u001b[0m\u001b[1;34m'string'\u001b[0m\u001b[1;33m,\u001b[0m\u001b[1;33m[\u001b[0m\u001b[1;36m2\u001b[0m\u001b[1;33m,\u001b[0m\u001b[1;34m'data'\u001b[0m\u001b[1;33m,\u001b[0m\u001b[1;36m4\u001b[0m\u001b[1;33m]\u001b[0m\u001b[1;33m,\u001b[0m\u001b[1;36m20\u001b[0m\u001b[1;33m,\u001b[0m\u001b[1;33m{\u001b[0m\u001b[1;34m'f'\u001b[0m\u001b[1;33m,\u001b[0m\u001b[1;36m20\u001b[0m\u001b[1;33m,\u001b[0m\u001b[1;36m5\u001b[0m\u001b[1;33m}\u001b[0m\u001b[1;33m)\u001b[0m\u001b[1;33m\u001b[0m\u001b[1;33m\u001b[0m\u001b[0m\n\u001b[1;32m----> 2\u001b[1;33m \u001b[0ma\u001b[0m\u001b[1;33m.\u001b[0m\u001b[0mextend\u001b[0m\u001b[1;33m(\u001b[0m\u001b[1;36m100\u001b[0m\u001b[1;33m)\u001b[0m\u001b[1;33m\u001b[0m\u001b[1;33m\u001b[0m\u001b[0m\n\u001b[0m\u001b[0;32m      3\u001b[0m \u001b[0ma\u001b[0m\u001b[1;33m\u001b[0m\u001b[1;33m\u001b[0m\u001b[0m\n",
      "\u001b[1;31mAttributeError\u001b[0m: 'tuple' object has no attribute 'extend'"
     ]
    }
   ],
   "source": [
    "a =(10,3.5,'string',[2,'data',4],20,{'f',20,5})\n",
    "a.extend(100)\n",
    "a"
   ]
  },
  {
   "cell_type": "markdown",
   "id": "a3779087",
   "metadata": {},
   "source": [
    "# index"
   ]
  },
  {
   "cell_type": "code",
   "execution_count": 11,
   "id": "d2344f03",
   "metadata": {},
   "outputs": [],
   "source": [
    "tuple1 =(10,3.5,'string',20)\n"
   ]
  },
  {
   "cell_type": "code",
   "execution_count": 12,
   "id": "658c22f7",
   "metadata": {},
   "outputs": [
    {
     "data": {
      "text/plain": [
       "10"
      ]
     },
     "execution_count": 12,
     "metadata": {},
     "output_type": "execute_result"
    }
   ],
   "source": [
    "tuple1[0]"
   ]
  },
  {
   "cell_type": "code",
   "execution_count": 13,
   "id": "5dc62ee9",
   "metadata": {},
   "outputs": [
    {
     "data": {
      "text/plain": [
       "0"
      ]
     },
     "execution_count": 13,
     "metadata": {},
     "output_type": "execute_result"
    }
   ],
   "source": [
    "tuple1.index(10)"
   ]
  },
  {
   "cell_type": "code",
   "execution_count": 14,
   "id": "c9d40fa2",
   "metadata": {},
   "outputs": [
    {
     "data": {
      "text/plain": [
       "2"
      ]
     },
     "execution_count": 14,
     "metadata": {},
     "output_type": "execute_result"
    }
   ],
   "source": [
    "tuple1.index('string')"
   ]
  },
  {
   "cell_type": "code",
   "execution_count": 15,
   "id": "8b42878a",
   "metadata": {},
   "outputs": [
    {
     "data": {
      "text/plain": [
       "3.5"
      ]
     },
     "execution_count": 15,
     "metadata": {},
     "output_type": "execute_result"
    }
   ],
   "source": [
    "tuple1[1]"
   ]
  },
  {
   "cell_type": "code",
   "execution_count": 16,
   "id": "86329721",
   "metadata": {},
   "outputs": [
    {
     "ename": "TypeError",
     "evalue": "'tuple' object does not support item assignment",
     "output_type": "error",
     "traceback": [
      "\u001b[1;31m---------------------------------------------------------------------------\u001b[0m",
      "\u001b[1;31mTypeError\u001b[0m                                 Traceback (most recent call last)",
      "\u001b[1;32m<ipython-input-16-cec6be229d0c>\u001b[0m in \u001b[0;36m<module>\u001b[1;34m\u001b[0m\n\u001b[1;32m----> 1\u001b[1;33m \u001b[0mtuple1\u001b[0m\u001b[1;33m[\u001b[0m\u001b[1;36m1\u001b[0m\u001b[1;33m]\u001b[0m \u001b[1;33m=\u001b[0m \u001b[1;36m3.6\u001b[0m\u001b[1;33m\u001b[0m\u001b[1;33m\u001b[0m\u001b[0m\n\u001b[0m",
      "\u001b[1;31mTypeError\u001b[0m: 'tuple' object does not support item assignment"
     ]
    }
   ],
   "source": [
    "tuple1[1] = 3.6"
   ]
  },
  {
   "cell_type": "markdown",
   "id": "addf61db",
   "metadata": {},
   "source": [
    "# count()"
   ]
  },
  {
   "cell_type": "code",
   "execution_count": 18,
   "id": "aa74495e",
   "metadata": {},
   "outputs": [
    {
     "data": {
      "text/plain": [
       "3"
      ]
     },
     "execution_count": 18,
     "metadata": {},
     "output_type": "execute_result"
    }
   ],
   "source": [
    "tuple2 = ('python',2,4,5,6,7,8,4,5,2,1,6,4,7,8,2,8,'data','Data','python')\n",
    "cnt = tuple2.count(8)\n",
    "cnt"
   ]
  },
  {
   "cell_type": "code",
   "execution_count": 19,
   "id": "bf7c5ba3",
   "metadata": {},
   "outputs": [
    {
     "data": {
      "text/plain": [
       "2"
      ]
     },
     "execution_count": 19,
     "metadata": {},
     "output_type": "execute_result"
    }
   ],
   "source": [
    "tuple2 = ('python',2,4,5,6,7,8,4,5,2,1,6,4,7,8,2,8,'data','Data','python')\n",
    "cnt = tuple2.count('python')\n",
    "cnt"
   ]
  },
  {
   "cell_type": "code",
   "execution_count": 20,
   "id": "59389deb",
   "metadata": {},
   "outputs": [
    {
     "data": {
      "text/plain": [
       "1"
      ]
     },
     "execution_count": 20,
     "metadata": {},
     "output_type": "execute_result"
    }
   ],
   "source": [
    "tuple2 = ('python',2,4,5,6,7,8,4,5,2,1,6,4,7,8,2,8,'data','Data','python')\n",
    "cnt = tuple2.count('data')\n",
    "cnt"
   ]
  },
  {
   "cell_type": "code",
   "execution_count": 21,
   "id": "43c60335",
   "metadata": {},
   "outputs": [
    {
     "data": {
      "text/plain": [
       "1"
      ]
     },
     "execution_count": 21,
     "metadata": {},
     "output_type": "execute_result"
    }
   ],
   "source": [
    "tuple2 = ('python',2,4,5,6,7,8,4,5,2,1,6,4,7,8,2,8,'data','Data','python')\n",
    "cnt = tuple2.count('Data')\n",
    "cnt"
   ]
  },
  {
   "cell_type": "code",
   "execution_count": 31,
   "id": "83c9f9f4",
   "metadata": {},
   "outputs": [
    {
     "name": "stdout",
     "output_type": "stream",
     "text": [
      "count of python is 2\n",
      "count of 2 is 3\n",
      "count of 4 is 3\n",
      "count of 5 is 2\n",
      "count of 6 is 2\n",
      "count of 7 is 2\n",
      "count of 8 is 3\n",
      "count of 4 is 3\n",
      "count of 5 is 2\n",
      "count of 2 is 3\n",
      "count of 1 is 1\n",
      "count of 6 is 2\n",
      "count of 4 is 3\n",
      "count of 7 is 2\n",
      "count of 8 is 3\n",
      "count of 2 is 3\n",
      "count of 8 is 3\n",
      "count of data is 1\n",
      "count of Data is 1\n",
      "count of python is 2\n"
     ]
    }
   ],
   "source": [
    "tuple2 = ('python',2,4,5,6,7,8,4,5,2,1,6,4,7,8,2,8,'data','Data','python')\n",
    "for i in tuple2:\n",
    "    print(f\"count of {i} is {tuple2.count(i)}\")"
   ]
  },
  {
   "cell_type": "markdown",
   "id": "07f4bf48",
   "metadata": {},
   "source": [
    "# how to create tuple"
   ]
  },
  {
   "cell_type": "code",
   "execution_count": 22,
   "id": "9f0eee12",
   "metadata": {},
   "outputs": [
    {
     "data": {
      "text/plain": [
       "tuple"
      ]
     },
     "execution_count": 22,
     "metadata": {},
     "output_type": "execute_result"
    }
   ],
   "source": [
    "tuple1 =()\n",
    "type(tuple1)"
   ]
  },
  {
   "cell_type": "code",
   "execution_count": 23,
   "id": "36e54251",
   "metadata": {},
   "outputs": [
    {
     "data": {
      "text/plain": [
       "int"
      ]
     },
     "execution_count": 23,
     "metadata": {},
     "output_type": "execute_result"
    }
   ],
   "source": [
    "tuple1 =(100)\n",
    "type(tuple1)"
   ]
  },
  {
   "cell_type": "code",
   "execution_count": 24,
   "id": "d1b62a0c",
   "metadata": {},
   "outputs": [
    {
     "data": {
      "text/plain": [
       "str"
      ]
     },
     "execution_count": 24,
     "metadata": {},
     "output_type": "execute_result"
    }
   ],
   "source": [
    "tuple1 =('python')\n",
    "type(tuple1)"
   ]
  },
  {
   "cell_type": "code",
   "execution_count": 25,
   "id": "27414514",
   "metadata": {},
   "outputs": [
    {
     "data": {
      "text/plain": [
       "float"
      ]
     },
     "execution_count": 25,
     "metadata": {},
     "output_type": "execute_result"
    }
   ],
   "source": [
    "tuple1 =(3.5)\n",
    "type(tuple1)"
   ]
  },
  {
   "cell_type": "code",
   "execution_count": 26,
   "id": "f296e2ef",
   "metadata": {},
   "outputs": [
    {
     "data": {
      "text/plain": [
       "tuple"
      ]
     },
     "execution_count": 26,
     "metadata": {},
     "output_type": "execute_result"
    }
   ],
   "source": [
    "tuple1 =(10,)\n",
    "type(tuple1)"
   ]
  },
  {
   "cell_type": "code",
   "execution_count": 27,
   "id": "a7bca332",
   "metadata": {},
   "outputs": [
    {
     "data": {
      "text/plain": [
       "tuple"
      ]
     },
     "execution_count": 27,
     "metadata": {},
     "output_type": "execute_result"
    }
   ],
   "source": [
    "tuple1 =('python',)\n",
    "type(tuple1)"
   ]
  },
  {
   "cell_type": "code",
   "execution_count": 28,
   "id": "e442c1dd",
   "metadata": {},
   "outputs": [
    {
     "data": {
      "text/plain": [
       "tuple"
      ]
     },
     "execution_count": 28,
     "metadata": {},
     "output_type": "execute_result"
    }
   ],
   "source": [
    "tuple1 =(3.2,)\n",
    "type(tuple1)"
   ]
  },
  {
   "cell_type": "code",
   "execution_count": 29,
   "id": "8d6c1293",
   "metadata": {},
   "outputs": [
    {
     "ename": "SyntaxError",
     "evalue": "invalid syntax (<ipython-input-29-50da54611d0b>, line 1)",
     "output_type": "error",
     "traceback": [
      "\u001b[1;36m  File \u001b[1;32m\"<ipython-input-29-50da54611d0b>\"\u001b[1;36m, line \u001b[1;32m1\u001b[0m\n\u001b[1;33m    tuple1 =(,)\u001b[0m\n\u001b[1;37m             ^\u001b[0m\n\u001b[1;31mSyntaxError\u001b[0m\u001b[1;31m:\u001b[0m invalid syntax\n"
     ]
    }
   ],
   "source": [
    "tuple1 =(,)\n",
    "type(tuple1)"
   ]
  },
  {
   "cell_type": "code",
   "execution_count": 30,
   "id": "eff7aa0c",
   "metadata": {},
   "outputs": [
    {
     "data": {
      "text/plain": [
       "tuple"
      ]
     },
     "execution_count": 30,
     "metadata": {},
     "output_type": "execute_result"
    }
   ],
   "source": [
    "x = 2,3,5,6\n",
    "type(x)"
   ]
  },
  {
   "cell_type": "code",
   "execution_count": 32,
   "id": "365e6e22",
   "metadata": {},
   "outputs": [
    {
     "data": {
      "text/plain": [
       "5"
      ]
     },
     "execution_count": 32,
     "metadata": {},
     "output_type": "execute_result"
    }
   ],
   "source": [
    "tuple2 = ('python',[2,4,5,6,7],8,4,5,2,1,6,4,7,8,2,8,'data','Data','python')\n",
    "tuple2[3]"
   ]
  },
  {
   "cell_type": "code",
   "execution_count": 35,
   "id": "6d866ba9",
   "metadata": {},
   "outputs": [
    {
     "data": {
      "text/plain": [
       "[1200, 4, 5, 6, 7]"
      ]
     },
     "execution_count": 35,
     "metadata": {},
     "output_type": "execute_result"
    }
   ],
   "source": [
    "tuple2 = ('python',[1200,4,5,6,7],{8,4,5,2},1,6,4,7,8,2,8,'data','Data','python')\n",
    "tuple2[1]"
   ]
  },
  {
   "cell_type": "code",
   "execution_count": 34,
   "id": "53513f07",
   "metadata": {},
   "outputs": [
    {
     "data": {
      "text/plain": [
       "{2, 4, 5, 8}"
      ]
     },
     "execution_count": 34,
     "metadata": {},
     "output_type": "execute_result"
    }
   ],
   "source": [
    "tuple2 = ('python',[2,4,5,6,7],{8,4,5,2},1,6,4,7,8,2,8,'data','Data','python')\n",
    "tuple2[2]"
   ]
  },
  {
   "cell_type": "code",
   "execution_count": null,
   "id": "ac7a19ab",
   "metadata": {},
   "outputs": [],
   "source": [
    "still we can update tuple:\n",
    "    1. convert to the list and again convert back to the tuple\n",
    "    2. add tuple to the tuple"
   ]
  },
  {
   "cell_type": "code",
   "execution_count": 36,
   "id": "43ec2971",
   "metadata": {},
   "outputs": [],
   "source": [
    "tuple1 =(2,4,5,6,7) #add 100\n"
   ]
  },
  {
   "cell_type": "code",
   "execution_count": 37,
   "id": "f7df887e",
   "metadata": {},
   "outputs": [
    {
     "data": {
      "text/plain": [
       "[2, 4, 5, 6, 7]"
      ]
     },
     "execution_count": 37,
     "metadata": {},
     "output_type": "execute_result"
    }
   ],
   "source": [
    "list1= list(tuple1)\n",
    "list1"
   ]
  },
  {
   "cell_type": "code",
   "execution_count": 38,
   "id": "6b5f42fc",
   "metadata": {},
   "outputs": [
    {
     "data": {
      "text/plain": [
       "[2, 4, 5, 6, 7, 100]"
      ]
     },
     "execution_count": 38,
     "metadata": {},
     "output_type": "execute_result"
    }
   ],
   "source": [
    "list1.append(100)\n",
    "list1"
   ]
  },
  {
   "cell_type": "code",
   "execution_count": 39,
   "id": "25368b92",
   "metadata": {},
   "outputs": [
    {
     "data": {
      "text/plain": [
       "(2, 4, 5, 6, 7, 100)"
      ]
     },
     "execution_count": 39,
     "metadata": {},
     "output_type": "execute_result"
    }
   ],
   "source": [
    "tuple1 = tuple(list1)\n",
    "tuple1"
   ]
  },
  {
   "cell_type": "code",
   "execution_count": 40,
   "id": "6504d3ae",
   "metadata": {},
   "outputs": [],
   "source": [
    "tuple1 =(2,4,5,6,7) #add 100\n",
    "tuple2 =(100,)"
   ]
  },
  {
   "cell_type": "code",
   "execution_count": 41,
   "id": "14288b29",
   "metadata": {},
   "outputs": [
    {
     "data": {
      "text/plain": [
       "(2, 4, 5, 6, 7, 100)"
      ]
     },
     "execution_count": 41,
     "metadata": {},
     "output_type": "execute_result"
    }
   ],
   "source": [
    "tuple1+=tuple2\n",
    "tuple1"
   ]
  },
  {
   "cell_type": "markdown",
   "id": "d922ff13",
   "metadata": {},
   "source": [
    "# Built in function"
   ]
  },
  {
   "cell_type": "markdown",
   "id": "b6df0f6f",
   "metadata": {},
   "source": [
    "### 1. sorted()"
   ]
  },
  {
   "cell_type": "code",
   "execution_count": 46,
   "id": "182f643a",
   "metadata": {},
   "outputs": [
    {
     "name": "stdout",
     "output_type": "stream",
     "text": [
      "(2, 4, 5, 6, 7, 5, 7, 8, 10, 85, 78, 95)\n",
      "(2, 4, 5, 5, 6, 7, 7, 8, 10, 78, 85, 95)\n"
     ]
    }
   ],
   "source": [
    "tuple1 =(2,4,5,6,7,5,7,8,10,85,78,95)\n",
    "result =tuple(sorted(tuple1))\n",
    "\n",
    "print(tuple1)\n",
    "print(result)"
   ]
  },
  {
   "cell_type": "code",
   "execution_count": 47,
   "id": "8858ccb4",
   "metadata": {},
   "outputs": [
    {
     "data": {
      "text/plain": [
       "('chennai', 'delhi', 'mumbai', 'panji', 'pune', 'srinagr')"
      ]
     },
     "execution_count": 47,
     "metadata": {},
     "output_type": "execute_result"
    }
   ],
   "source": [
    "city_names = ('pune', 'mumbai', 'chennai', 'panji', 'delhi','srinagr')\n",
    "tuple(sorted(city_names))"
   ]
  },
  {
   "cell_type": "code",
   "execution_count": 48,
   "id": "46dfe976",
   "metadata": {},
   "outputs": [
    {
     "data": {
      "text/plain": [
       "('srinagr', 'pune', 'panji', 'mumbai', 'delhi', 'chennai')"
      ]
     },
     "execution_count": 48,
     "metadata": {},
     "output_type": "execute_result"
    }
   ],
   "source": [
    "city_names = ('pune', 'mumbai', 'chennai', 'panji', 'delhi','srinagr')\n",
    "tuple(sorted(city_names, reverse= True))"
   ]
  },
  {
   "cell_type": "markdown",
   "id": "48cbee62",
   "metadata": {},
   "source": [
    "### 2. reversed()"
   ]
  },
  {
   "cell_type": "code",
   "execution_count": 49,
   "id": "2cfc8c74",
   "metadata": {},
   "outputs": [
    {
     "data": {
      "text/plain": [
       "('srinagr', 'delhi', 'panji', 'chennai', 'mumbai', 'pune')"
      ]
     },
     "execution_count": 49,
     "metadata": {},
     "output_type": "execute_result"
    }
   ],
   "source": [
    "city_names = ('pune', 'mumbai', 'chennai', 'panji', 'delhi','srinagr')\n",
    "tuple(reversed(city_names))"
   ]
  },
  {
   "cell_type": "code",
   "execution_count": 50,
   "id": "c65608cb",
   "metadata": {},
   "outputs": [
    {
     "name": "stdout",
     "output_type": "stream",
     "text": [
      "(2, 4, 5, 6, 7, 5, 7, 8, 10, 85, 78, 95)\n",
      "(95, 78, 85, 10, 8, 7, 5, 7, 6, 5, 4, 2)\n"
     ]
    }
   ],
   "source": [
    "tuple1 =(2,4,5,6,7,5,7,8,10,85,78,95)\n",
    "result =tuple(reversed(tuple1))\n",
    "\n",
    "print(tuple1)\n",
    "print(result)"
   ]
  },
  {
   "cell_type": "markdown",
   "id": "d1683ff0",
   "metadata": {},
   "source": [
    "### 3. max()"
   ]
  },
  {
   "cell_type": "code",
   "execution_count": 51,
   "id": "20eb1618",
   "metadata": {},
   "outputs": [
    {
     "data": {
      "text/plain": [
       "95"
      ]
     },
     "execution_count": 51,
     "metadata": {},
     "output_type": "execute_result"
    }
   ],
   "source": [
    "tuple1 =(2,4,5,6,7,5,7,8,10,85,78,95)\n",
    "max(tuple1)"
   ]
  },
  {
   "cell_type": "code",
   "execution_count": 52,
   "id": "8e166a82",
   "metadata": {},
   "outputs": [
    {
     "data": {
      "text/plain": [
       "7256"
      ]
     },
     "execution_count": 52,
     "metadata": {},
     "output_type": "execute_result"
    }
   ],
   "source": [
    "tuple1 =(2,4,5,6,7256,5,7,8,10,85,78,95)\n",
    "max(tuple1)"
   ]
  },
  {
   "cell_type": "markdown",
   "id": "fb1e3eda",
   "metadata": {},
   "source": [
    "### 4. min()"
   ]
  },
  {
   "cell_type": "code",
   "execution_count": 53,
   "id": "7e315ec6",
   "metadata": {},
   "outputs": [
    {
     "data": {
      "text/plain": [
       "2"
      ]
     },
     "execution_count": 53,
     "metadata": {},
     "output_type": "execute_result"
    }
   ],
   "source": [
    "tuple1 =(2,4,5,6,7256,5,7,8,10,85,78,95)\n",
    "min(tuple1)"
   ]
  },
  {
   "cell_type": "code",
   "execution_count": 54,
   "id": "8f94dfc7",
   "metadata": {},
   "outputs": [
    {
     "data": {
      "text/plain": [
       "1"
      ]
     },
     "execution_count": 54,
     "metadata": {},
     "output_type": "execute_result"
    }
   ],
   "source": [
    "tuple1 =(2,4,5,6,7256,5,7,8,1,10,85,78,95)\n",
    "min(tuple1)"
   ]
  },
  {
   "cell_type": "markdown",
   "id": "57ccfb98",
   "metadata": {},
   "source": [
    "### 5. sum()"
   ]
  },
  {
   "cell_type": "code",
   "execution_count": 55,
   "id": "53a6ffeb",
   "metadata": {},
   "outputs": [
    {
     "data": {
      "text/plain": [
       "7561"
      ]
     },
     "execution_count": 55,
     "metadata": {},
     "output_type": "execute_result"
    }
   ],
   "source": [
    "tuple1 =(2,4,5,6,7256,5,7,8,10,85,78,95)\n",
    "sum(tuple1)"
   ]
  },
  {
   "cell_type": "code",
   "execution_count": 57,
   "id": "c33001cd",
   "metadata": {},
   "outputs": [
    {
     "data": {
      "text/plain": [
       "299"
      ]
     },
     "execution_count": 57,
     "metadata": {},
     "output_type": "execute_result"
    }
   ],
   "source": [
    "tuple1 =(2,4,5,5,7,8,10,85,78,95)\n",
    "sum(tuple1)"
   ]
  },
  {
   "cell_type": "code",
   "execution_count": null,
   "id": "8d77546e",
   "metadata": {},
   "outputs": [],
   "source": []
  }
 ],
 "metadata": {
  "kernelspec": {
   "display_name": "Python 3",
   "language": "python",
   "name": "python3"
  },
  "language_info": {
   "codemirror_mode": {
    "name": "ipython",
    "version": 3
   },
   "file_extension": ".py",
   "mimetype": "text/x-python",
   "name": "python",
   "nbconvert_exporter": "python",
   "pygments_lexer": "ipython3",
   "version": "3.8.8"
  }
 },
 "nbformat": 4,
 "nbformat_minor": 5
}
