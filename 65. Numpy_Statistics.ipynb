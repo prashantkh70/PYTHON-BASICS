{
 "cells": [
  {
   "cell_type": "markdown",
   "id": "f3f5a24a",
   "metadata": {},
   "source": [
    "# Statistics"
   ]
  },
  {
   "cell_type": "code",
   "execution_count": 2,
   "id": "da533649",
   "metadata": {},
   "outputs": [],
   "source": [
    "import numpy as np"
   ]
  },
  {
   "cell_type": "markdown",
   "id": "c01f0319",
   "metadata": {},
   "source": [
    "# 1. mean()"
   ]
  },
  {
   "cell_type": "code",
   "execution_count": null,
   "id": "30422d48",
   "metadata": {},
   "outputs": [],
   "source": [
    "mean = np.sum()/ len_array"
   ]
  },
  {
   "cell_type": "code",
   "execution_count": 16,
   "id": "56e5ce3d",
   "metadata": {},
   "outputs": [
    {
     "data": {
      "text/plain": [
       "37"
      ]
     },
     "execution_count": 16,
     "metadata": {},
     "output_type": "execute_result"
    }
   ],
   "source": [
    "array1=np.array([8,6,3,4,5,9,2])\n",
    "np.sum(array1)"
   ]
  },
  {
   "cell_type": "code",
   "execution_count": 17,
   "id": "2c81c0ed",
   "metadata": {},
   "outputs": [
    {
     "data": {
      "text/plain": [
       "37"
      ]
     },
     "execution_count": 17,
     "metadata": {},
     "output_type": "execute_result"
    }
   ],
   "source": [
    "sum([8,6,3,4,5,9,2])"
   ]
  },
  {
   "cell_type": "code",
   "execution_count": 18,
   "id": "1d23028e",
   "metadata": {},
   "outputs": [
    {
     "data": {
      "text/plain": [
       "5.285714285714286"
      ]
     },
     "execution_count": 18,
     "metadata": {},
     "output_type": "execute_result"
    }
   ],
   "source": [
    "37/7"
   ]
  },
  {
   "cell_type": "code",
   "execution_count": 20,
   "id": "fb7c3898",
   "metadata": {},
   "outputs": [
    {
     "name": "stdout",
     "output_type": "stream",
     "text": [
      "Mean of an array is :  5.285714285714286\n"
     ]
    }
   ],
   "source": [
    "array1=np.array([8,6,3,4,5,9,2])\n",
    "\n",
    "mean =np.mean(array1)\n",
    "print(\"Mean of an array is : \",mean)"
   ]
  },
  {
   "cell_type": "code",
   "execution_count": 23,
   "id": "dbce8dee",
   "metadata": {},
   "outputs": [
    {
     "name": "stdout",
     "output_type": "stream",
     "text": [
      "Mean of an array is :  5.29\n"
     ]
    }
   ],
   "source": [
    "array1=np.array([8,6,3,4,5,9,2])\n",
    "\n",
    "mean =np.mean(array1)\n",
    "print(\"Mean of an array is : \",np.around(mean,2))"
   ]
  },
  {
   "cell_type": "markdown",
   "id": "744cc9d6",
   "metadata": {},
   "source": [
    "# 2. Median"
   ]
  },
  {
   "cell_type": "code",
   "execution_count": 30,
   "id": "beb37cb3",
   "metadata": {},
   "outputs": [
    {
     "name": "stdout",
     "output_type": "stream",
     "text": [
      "[8 6 3 4 5 9 2]\n"
     ]
    }
   ],
   "source": [
    "array1=np.array([8,6,3,4,5,9,2])\n",
    "print(array1)"
   ]
  },
  {
   "cell_type": "code",
   "execution_count": 31,
   "id": "d6d13308",
   "metadata": {},
   "outputs": [
    {
     "data": {
      "text/plain": [
       "array([2, 3, 4, 5, 6, 8, 9])"
      ]
     },
     "execution_count": 31,
     "metadata": {},
     "output_type": "execute_result"
    }
   ],
   "source": [
    "np.sort(array1)"
   ]
  },
  {
   "cell_type": "code",
   "execution_count": null,
   "id": "4a1e6aba",
   "metadata": {},
   "outputs": [],
   "source": [
    "[2,3,4,5,6,8,9]"
   ]
  },
  {
   "cell_type": "code",
   "execution_count": null,
   "id": "f48a540b",
   "metadata": {},
   "outputs": [],
   "source": [
    "Median = 5"
   ]
  },
  {
   "cell_type": "code",
   "execution_count": null,
   "id": "a40f45d3",
   "metadata": {},
   "outputs": [],
   "source": [
    "[2,3,4,5,6,8]"
   ]
  },
  {
   "cell_type": "code",
   "execution_count": 25,
   "id": "5fa13290",
   "metadata": {},
   "outputs": [
    {
     "data": {
      "text/plain": [
       "4.5"
      ]
     },
     "execution_count": 25,
     "metadata": {},
     "output_type": "execute_result"
    }
   ],
   "source": [
    "(4+5)/2  #median =4.5"
   ]
  },
  {
   "cell_type": "code",
   "execution_count": 27,
   "id": "90732fe2",
   "metadata": {},
   "outputs": [
    {
     "data": {
      "text/plain": [
       "5.0"
      ]
     },
     "execution_count": 27,
     "metadata": {},
     "output_type": "execute_result"
    }
   ],
   "source": [
    "array1=np.array([8,6,3,4,5,9,2])\n",
    "median= np.median(array1)\n",
    "print('Median of array is :',median)"
   ]
  },
  {
   "cell_type": "code",
   "execution_count": 29,
   "id": "aa13c506",
   "metadata": {},
   "outputs": [
    {
     "name": "stdout",
     "output_type": "stream",
     "text": [
      "Median of array is : 4.5\n"
     ]
    }
   ],
   "source": [
    "array1=np.array([8,6,3,4,5,2])\n",
    "median= np.median(array1)\n",
    "print('Median of array is :',median)"
   ]
  },
  {
   "cell_type": "code",
   "execution_count": 32,
   "id": "de9eb082",
   "metadata": {},
   "outputs": [
    {
     "name": "stdout",
     "output_type": "stream",
     "text": [
      "Mean of an array is :  37.44\n"
     ]
    }
   ],
   "source": [
    "array1=np.array([8,6,3,4,5,9,2,100,200])\n",
    "\n",
    "mean =np.mean(array1)\n",
    "print(\"Mean of an array is : \",np.around(mean,2))"
   ]
  },
  {
   "cell_type": "code",
   "execution_count": 33,
   "id": "5bb319ef",
   "metadata": {},
   "outputs": [
    {
     "name": "stdout",
     "output_type": "stream",
     "text": [
      "Median of array is : 5.5\n"
     ]
    }
   ],
   "source": [
    "array1=np.array([8,6,3,4,5,2,100,200])\n",
    "median= np.median(array1)\n",
    "print('Median of array is :',median)"
   ]
  },
  {
   "cell_type": "code",
   "execution_count": 34,
   "id": "ad77b12b",
   "metadata": {},
   "outputs": [
    {
     "name": "stdout",
     "output_type": "stream",
     "text": [
      "Mean of an array is :  203.5\n"
     ]
    }
   ],
   "source": [
    "array1=np.array([25,36,45,55,60,1000])\n",
    "\n",
    "mean =np.mean(array1)\n",
    "print(\"Mean of an array is : \",np.around(mean,2))"
   ]
  },
  {
   "cell_type": "code",
   "execution_count": 35,
   "id": "ae413b3e",
   "metadata": {},
   "outputs": [
    {
     "name": "stdout",
     "output_type": "stream",
     "text": [
      "Median of array is : 50.0\n"
     ]
    }
   ],
   "source": [
    "array1=np.array([25,36,45,55,60,1000])\n",
    "median= np.median(array1)\n",
    "print('Median of array is :',median)"
   ]
  },
  {
   "cell_type": "markdown",
   "id": "9b941034",
   "metadata": {},
   "source": [
    "# 3. std"
   ]
  },
  {
   "cell_type": "code",
   "execution_count": null,
   "id": "e78d8e3a",
   "metadata": {},
   "outputs": [],
   "source": [
    "std = sum(X-Xmean)^2 /N"
   ]
  },
  {
   "cell_type": "code",
   "execution_count": 36,
   "id": "9a4e2c20",
   "metadata": {},
   "outputs": [
    {
     "data": {
      "text/plain": [
       "2.3733211036908783"
      ]
     },
     "execution_count": 36,
     "metadata": {},
     "output_type": "execute_result"
    }
   ],
   "source": [
    "array1=np.array([8,6,3,4,5,9,2])\n",
    "np.std(array1)"
   ]
  },
  {
   "cell_type": "code",
   "execution_count": 37,
   "id": "8187e2f6",
   "metadata": {},
   "outputs": [
    {
     "data": {
      "text/plain": [
       "array([15, 18, 26, 11, 26, 18, 27, 18, 13, 14, 16, 26, 27, 12, 16, 13, 18,\n",
       "       14, 22, 13])"
      ]
     },
     "execution_count": 37,
     "metadata": {},
     "output_type": "execute_result"
    }
   ],
   "source": [
    "arr= np.random.randint(10,30,size=20)\n",
    "arr"
   ]
  },
  {
   "cell_type": "code",
   "execution_count": 38,
   "id": "f08255ad",
   "metadata": {},
   "outputs": [
    {
     "data": {
      "text/plain": [
       "5.378429138698399"
      ]
     },
     "execution_count": 38,
     "metadata": {},
     "output_type": "execute_result"
    }
   ],
   "source": [
    "np.std(arr)"
   ]
  },
  {
   "cell_type": "code",
   "execution_count": 39,
   "id": "abb76b39",
   "metadata": {},
   "outputs": [
    {
     "data": {
      "text/plain": [
       "18.15"
      ]
     },
     "execution_count": 39,
     "metadata": {},
     "output_type": "execute_result"
    }
   ],
   "source": [
    "np.mean(arr)"
   ]
  },
  {
   "cell_type": "markdown",
   "id": "b2cf618a",
   "metadata": {},
   "source": [
    "# 4. var"
   ]
  },
  {
   "cell_type": "code",
   "execution_count": null,
   "id": "0a5ab2b2",
   "metadata": {},
   "outputs": [],
   "source": [
    "var=(std)^2"
   ]
  },
  {
   "cell_type": "code",
   "execution_count": 4,
   "id": "d76932c6",
   "metadata": {},
   "outputs": [
    {
     "data": {
      "text/plain": [
       "array([1, 2, 3, 4, 5, 6])"
      ]
     },
     "execution_count": 4,
     "metadata": {},
     "output_type": "execute_result"
    }
   ],
   "source": [
    "arr=np.array([1,2,3,4,5,6])\n",
    "arr"
   ]
  },
  {
   "cell_type": "code",
   "execution_count": null,
   "id": "b761e905",
   "metadata": {},
   "outputs": [],
   "source": [
    "mean=3.5"
   ]
  },
  {
   "cell_type": "code",
   "execution_count": 5,
   "id": "0a8d7b0b",
   "metadata": {},
   "outputs": [
    {
     "data": {
      "text/plain": [
       "2.9166666666666665"
      ]
     },
     "execution_count": 5,
     "metadata": {},
     "output_type": "execute_result"
    }
   ],
   "source": [
    "np.var(arr)"
   ]
  },
  {
   "cell_type": "code",
   "execution_count": 6,
   "id": "ee821fd9",
   "metadata": {},
   "outputs": [
    {
     "data": {
      "text/plain": [
       "1.707825127659933"
      ]
     },
     "execution_count": 6,
     "metadata": {},
     "output_type": "execute_result"
    }
   ],
   "source": [
    "np.std(arr)"
   ]
  },
  {
   "cell_type": "code",
   "execution_count": 7,
   "id": "8ae1b108",
   "metadata": {},
   "outputs": [
    {
     "data": {
      "text/plain": [
       "2.9138490000000004"
      ]
     },
     "execution_count": 7,
     "metadata": {},
     "output_type": "execute_result"
    }
   ],
   "source": [
    "(1.707)**2"
   ]
  },
  {
   "cell_type": "markdown",
   "id": "b087cbe8",
   "metadata": {},
   "source": [
    "# 5. max"
   ]
  },
  {
   "cell_type": "code",
   "execution_count": 8,
   "id": "abd8ed24",
   "metadata": {},
   "outputs": [
    {
     "data": {
      "text/plain": [
       "9"
      ]
     },
     "execution_count": 8,
     "metadata": {},
     "output_type": "execute_result"
    }
   ],
   "source": [
    "array1=np.array([8,6,3,4,5,9,2])\n",
    "np.max(array1)"
   ]
  },
  {
   "cell_type": "markdown",
   "id": "c5bd954e",
   "metadata": {},
   "source": [
    "# 6. min"
   ]
  },
  {
   "cell_type": "code",
   "execution_count": 9,
   "id": "59132f37",
   "metadata": {},
   "outputs": [
    {
     "data": {
      "text/plain": [
       "2"
      ]
     },
     "execution_count": 9,
     "metadata": {},
     "output_type": "execute_result"
    }
   ],
   "source": [
    "array1=np.array([8,6,3,4,5,9,2])\n",
    "np.min(array1)"
   ]
  },
  {
   "cell_type": "markdown",
   "id": "acea402e",
   "metadata": {},
   "source": [
    "# 7. mode"
   ]
  },
  {
   "cell_type": "code",
   "execution_count": null,
   "id": "79799066",
   "metadata": {},
   "outputs": [],
   "source": [
    "most frequent value of an array"
   ]
  },
  {
   "cell_type": "code",
   "execution_count": 13,
   "id": "0d37b33e",
   "metadata": {},
   "outputs": [],
   "source": [
    "from scipy.stats import mode   #scientific python"
   ]
  },
  {
   "cell_type": "code",
   "execution_count": 16,
   "id": "2a6c1318",
   "metadata": {},
   "outputs": [],
   "source": [
    "array1=np.array([8,6,3,4,6,5,9,6,2])"
   ]
  },
  {
   "cell_type": "code",
   "execution_count": 24,
   "id": "81800c8c",
   "metadata": {},
   "outputs": [
    {
     "data": {
      "text/plain": [
       "ModeResult(mode=array([6]), count=array([3]))"
      ]
     },
     "execution_count": 24,
     "metadata": {},
     "output_type": "execute_result"
    }
   ],
   "source": [
    "m=stats.mode(array1)\n",
    "m"
   ]
  },
  {
   "cell_type": "code",
   "execution_count": 23,
   "id": "40edaa65",
   "metadata": {},
   "outputs": [
    {
     "name": "stdout",
     "output_type": "stream",
     "text": [
      "Mode of an array is:  6\n"
     ]
    }
   ],
   "source": [
    "array1=np.array([8,6,3,4,6,5,9,6,2])\n",
    "mode = stats.mode(array1)\n",
    "print('Mode of an array is: ',mode[0][0])"
   ]
  },
  {
   "cell_type": "code",
   "execution_count": 27,
   "id": "cb6bfc2b",
   "metadata": {},
   "outputs": [
    {
     "name": "stdout",
     "output_type": "stream",
     "text": [
      "Mode of an array is:  2\n"
     ]
    }
   ],
   "source": [
    "array1=np.array([8,6,3,4,5,9,2])\n",
    "mode = stats.mode(array1)\n",
    "print('Mode of an array is: ',mode[0][0])"
   ]
  },
  {
   "cell_type": "code",
   "execution_count": 28,
   "id": "4ee2660e",
   "metadata": {},
   "outputs": [
    {
     "data": {
      "text/plain": [
       "array([[19, 13, 14, 12, 15],\n",
       "       [11, 11, 16, 12, 13],\n",
       "       [15, 12, 18, 14, 12],\n",
       "       [12, 15, 19, 15, 13]])"
      ]
     },
     "execution_count": 28,
     "metadata": {},
     "output_type": "execute_result"
    }
   ],
   "source": [
    "arr=np.random.randint(10,20,size=(4,5))\n",
    "arr"
   ]
  },
  {
   "cell_type": "code",
   "execution_count": 30,
   "id": "dc9dfabb",
   "metadata": {},
   "outputs": [
    {
     "name": "stdout",
     "output_type": "stream",
     "text": [
      "Mode of an array is:  ModeResult(mode=array([[11, 11, 14, 12, 13]]), count=array([[1, 1, 1, 2, 2]]))\n"
     ]
    }
   ],
   "source": [
    "mode = stats.mode(arr)\n",
    "print('Mode of an array is: ',mode)"
   ]
  },
  {
   "cell_type": "code",
   "execution_count": 31,
   "id": "3c06d2c5",
   "metadata": {},
   "outputs": [
    {
     "name": "stdout",
     "output_type": "stream",
     "text": [
      "Mode of an array is:  [11 11 14 12 13]\n"
     ]
    }
   ],
   "source": [
    "mode = stats.mode(arr)\n",
    "print('Mode of an array is: ',mode[0][0])"
   ]
  },
  {
   "cell_type": "code",
   "execution_count": null,
   "id": "06674de9",
   "metadata": {},
   "outputs": [],
   "source": [
    "all are used in imputing outliers and empty values "
   ]
  }
 ],
 "metadata": {
  "kernelspec": {
   "display_name": "Python 3 (ipykernel)",
   "language": "python",
   "name": "python3"
  },
  "language_info": {
   "codemirror_mode": {
    "name": "ipython",
    "version": 3
   },
   "file_extension": ".py",
   "mimetype": "text/x-python",
   "name": "python",
   "nbconvert_exporter": "python",
   "pygments_lexer": "ipython3",
   "version": "3.9.12"
  }
 },
 "nbformat": 4,
 "nbformat_minor": 5
}
