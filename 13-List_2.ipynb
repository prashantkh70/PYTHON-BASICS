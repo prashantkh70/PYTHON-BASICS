{
 "cells": [
  {
   "cell_type": "markdown",
   "id": "4f0e8592",
   "metadata": {},
   "source": [
    "# List Functions"
   ]
  },
  {
   "cell_type": "code",
   "execution_count": null,
   "id": "24bdd186",
   "metadata": {},
   "outputs": [],
   "source": [
    "1. append()\n",
    "2. extend()\n",
    "3. insert()\n",
    "4. remove()\n",
    "5. pop()\n",
    "6. clear()\n",
    "7. sort()\n",
    "8. reverse()\n",
    "9. index()\n",
    "10. count()\n",
    "11. copy()\n",
    "\n",
    "Built-in functions:\n",
    "    1. sorted()\n",
    "    2. reversed()\n",
    "    3. min()\n",
    "    4. max()\n",
    "    5. sum()"
   ]
  },
  {
   "cell_type": "markdown",
   "id": "2780aa8f",
   "metadata": {},
   "source": [
    "### 1. append"
   ]
  },
  {
   "cell_type": "code",
   "execution_count": 84,
   "id": "9717923a",
   "metadata": {},
   "outputs": [
    {
     "data": {
      "text/plain": [
       "[3, 4, 5, [10, 8, 9]]"
      ]
     },
     "execution_count": 84,
     "metadata": {},
     "output_type": "execute_result"
    }
   ],
   "source": [
    "var1 = [3,4,5]\n",
    "var2 = [10,8,9]\n",
    "y =var1.append(var2)\n",
    "var1\n"
   ]
  },
  {
   "cell_type": "code",
   "execution_count": 3,
   "id": "449714a3",
   "metadata": {},
   "outputs": [
    {
     "data": {
      "text/plain": [
       "[3, 4, 5, 10, 8, 9]"
      ]
     },
     "execution_count": 3,
     "metadata": {},
     "output_type": "execute_result"
    }
   ],
   "source": [
    "var1 = [3,4,5]\n",
    "var2 = [10,8,9]\n",
    "var1.extend(var2)\n",
    "var1"
   ]
  },
  {
   "cell_type": "markdown",
   "id": "dcf41804",
   "metadata": {},
   "source": [
    "### 2. extend()"
   ]
  },
  {
   "cell_type": "code",
   "execution_count": 4,
   "id": "3f9882ef",
   "metadata": {},
   "outputs": [
    {
     "data": {
      "text/plain": [
       "[3, 4, 5, 10, 8, 9]"
      ]
     },
     "execution_count": 4,
     "metadata": {},
     "output_type": "execute_result"
    }
   ],
   "source": [
    "var1 = [3,4,5]\n",
    "var2 = [10,8,9]\n",
    "var1.extend(var2)\n",
    "var1"
   ]
  },
  {
   "cell_type": "markdown",
   "id": "c5986882",
   "metadata": {},
   "source": [
    "### 3. insert()"
   ]
  },
  {
   "cell_type": "code",
   "execution_count": null,
   "id": "52da4c14",
   "metadata": {},
   "outputs": [],
   "source": [
    "variable_name.insert(index, value)"
   ]
  },
  {
   "cell_type": "code",
   "execution_count": 6,
   "id": "624f5e66",
   "metadata": {},
   "outputs": [
    {
     "data": {
      "text/plain": [
       "[3, 'data', 4, 5]"
      ]
     },
     "execution_count": 6,
     "metadata": {},
     "output_type": "execute_result"
    }
   ],
   "source": [
    "var1 = [3,4,5]\n",
    "var1.insert(1,'data')\n",
    "var1"
   ]
  },
  {
   "cell_type": "code",
   "execution_count": 7,
   "id": "18c1dc9d",
   "metadata": {},
   "outputs": [
    {
     "data": {
      "text/plain": [
       "[3, 4, 5, 'data']"
      ]
     },
     "execution_count": 7,
     "metadata": {},
     "output_type": "execute_result"
    }
   ],
   "source": [
    "var1 = [3,4,5]\n",
    "var1.append('data')\n",
    "var1"
   ]
  },
  {
   "cell_type": "code",
   "execution_count": 8,
   "id": "1f816f90",
   "metadata": {},
   "outputs": [
    {
     "data": {
      "text/plain": [
       "['data', 3, 4, 5]"
      ]
     },
     "execution_count": 8,
     "metadata": {},
     "output_type": "execute_result"
    }
   ],
   "source": [
    "var1 = [3,4,5]\n",
    "var1.insert(0,'data')\n",
    "var1"
   ]
  },
  {
   "cell_type": "code",
   "execution_count": 10,
   "id": "37237e83",
   "metadata": {},
   "outputs": [
    {
     "data": {
      "text/plain": [
       "[3, 4, 5, 'data']"
      ]
     },
     "execution_count": 10,
     "metadata": {},
     "output_type": "execute_result"
    }
   ],
   "source": [
    "var1 = [3,4,5]\n",
    "var1.insert(len(var1),'data')\n",
    "var1"
   ]
  },
  {
   "cell_type": "markdown",
   "id": "fda05fff",
   "metadata": {},
   "source": [
    "# to Delete items from list\n",
    "\n",
    "1. remove\n",
    "2. pop()\n",
    "3. clear()"
   ]
  },
  {
   "cell_type": "markdown",
   "id": "cd5c5e7b",
   "metadata": {},
   "source": [
    "### 1. remove()"
   ]
  },
  {
   "cell_type": "code",
   "execution_count": null,
   "id": "94fbc5e8",
   "metadata": {},
   "outputs": [],
   "source": [
    "variable_name.remove(item)"
   ]
  },
  {
   "cell_type": "code",
   "execution_count": 12,
   "id": "edd5bf0d",
   "metadata": {},
   "outputs": [
    {
     "data": {
      "text/plain": [
       "[3, 4, 5, 'data', 10, 10.5]"
      ]
     },
     "execution_count": 12,
     "metadata": {},
     "output_type": "execute_result"
    }
   ],
   "source": [
    "var2= [3, 4, 5, 'data',10,10.5]\n",
    "var2"
   ]
  },
  {
   "cell_type": "code",
   "execution_count": 14,
   "id": "19bb12fc",
   "metadata": {},
   "outputs": [
    {
     "data": {
      "text/plain": [
       "[3, 5, 'data', 10, 10.5]"
      ]
     },
     "execution_count": 14,
     "metadata": {},
     "output_type": "execute_result"
    }
   ],
   "source": [
    "var2.remove(4)\n",
    "var2"
   ]
  },
  {
   "cell_type": "code",
   "execution_count": 16,
   "id": "8f9b2366",
   "metadata": {},
   "outputs": [
    {
     "data": {
      "text/plain": [
       "[3, 4, 5, 10, 10.5]"
      ]
     },
     "execution_count": 16,
     "metadata": {},
     "output_type": "execute_result"
    }
   ],
   "source": [
    "var2= [3, 4, 5, 'data',10,10.5]\n",
    "var2.remove('data')\n",
    "var2"
   ]
  },
  {
   "cell_type": "code",
   "execution_count": 17,
   "id": "b3590a1f",
   "metadata": {},
   "outputs": [
    {
     "data": {
      "text/plain": [
       "['Phy', 'Che', 'Math', 'Eng', 'Bio']"
      ]
     },
     "execution_count": 17,
     "metadata": {},
     "output_type": "execute_result"
    }
   ],
   "source": [
    "sub_names = ['Phy', 'Che', 'Math', 'Eng', 'Bio']\n",
    "sub_names"
   ]
  },
  {
   "cell_type": "code",
   "execution_count": 18,
   "id": "7f0d2069",
   "metadata": {},
   "outputs": [
    {
     "data": {
      "text/plain": [
       "['Phy', 'Math', 'Eng', 'Bio']"
      ]
     },
     "execution_count": 18,
     "metadata": {},
     "output_type": "execute_result"
    }
   ],
   "source": [
    "sub_names = ['Phy', 'Che', 'Math', 'Eng', 'Bio']\n",
    "sub_names.remove('Che')\n",
    "sub_names"
   ]
  },
  {
   "cell_type": "code",
   "execution_count": 19,
   "id": "1b530985",
   "metadata": {},
   "outputs": [
    {
     "ename": "ValueError",
     "evalue": "list.remove(x): x not in list",
     "output_type": "error",
     "traceback": [
      "\u001b[1;31m---------------------------------------------------------------------------\u001b[0m",
      "\u001b[1;31mValueError\u001b[0m                                Traceback (most recent call last)",
      "\u001b[1;32m<ipython-input-19-319a15bc7f69>\u001b[0m in \u001b[0;36m<module>\u001b[1;34m\u001b[0m\n\u001b[0;32m      1\u001b[0m \u001b[0msub_names\u001b[0m \u001b[1;33m=\u001b[0m \u001b[1;33m[\u001b[0m\u001b[1;34m'Phy'\u001b[0m\u001b[1;33m,\u001b[0m \u001b[1;34m'Che'\u001b[0m\u001b[1;33m,\u001b[0m \u001b[1;34m'Math'\u001b[0m\u001b[1;33m,\u001b[0m \u001b[1;34m'Eng'\u001b[0m\u001b[1;33m,\u001b[0m \u001b[1;34m'Bio'\u001b[0m\u001b[1;33m]\u001b[0m\u001b[1;33m\u001b[0m\u001b[1;33m\u001b[0m\u001b[0m\n\u001b[1;32m----> 2\u001b[1;33m \u001b[0msub_names\u001b[0m\u001b[1;33m.\u001b[0m\u001b[0mremove\u001b[0m\u001b[1;33m(\u001b[0m\u001b[1;34m'bio'\u001b[0m\u001b[1;33m)\u001b[0m\u001b[1;33m\u001b[0m\u001b[1;33m\u001b[0m\u001b[0m\n\u001b[0m\u001b[0;32m      3\u001b[0m \u001b[0msub_names\u001b[0m\u001b[1;33m\u001b[0m\u001b[1;33m\u001b[0m\u001b[0m\n",
      "\u001b[1;31mValueError\u001b[0m: list.remove(x): x not in list"
     ]
    }
   ],
   "source": [
    "sub_names = ['Phy', 'Che', 'Math', 'Eng', 'Bio']\n",
    "sub_names.remove('bio')\n",
    "sub_names"
   ]
  },
  {
   "cell_type": "code",
   "execution_count": 20,
   "id": "17bbea6c",
   "metadata": {},
   "outputs": [
    {
     "data": {
      "text/plain": [
       "['Phy', 'Che', 'Math', 'Eng']"
      ]
     },
     "execution_count": 20,
     "metadata": {},
     "output_type": "execute_result"
    }
   ],
   "source": [
    "sub_names = ['Phy', 'Che', 'Math', 'Eng', 'Bio']\n",
    "sub_names.remove('Bio')\n",
    "sub_names"
   ]
  },
  {
   "cell_type": "code",
   "execution_count": 21,
   "id": "702e9f59",
   "metadata": {},
   "outputs": [
    {
     "name": "stdout",
     "output_type": "stream",
     "text": [
      "item Deleted\n"
     ]
    }
   ],
   "source": [
    "sub_names = ['Phy', 'Che', 'Math', 'Eng', 'Bio']\n",
    "val = 'Math'\n",
    "if val in sub_names:\n",
    "    sub_names.remove(val)\n",
    "    print(\"item Deleted\")\n",
    "else:\n",
    "    print(\"item not found\")"
   ]
  },
  {
   "cell_type": "code",
   "execution_count": 22,
   "id": "a507d869",
   "metadata": {},
   "outputs": [
    {
     "name": "stdout",
     "output_type": "stream",
     "text": [
      "item not found\n"
     ]
    }
   ],
   "source": [
    "sub_names = ['Phy', 'Che', 'Math', 'Eng', 'Bio']\n",
    "val = 'Geo'\n",
    "if val in sub_names:\n",
    "    sub_names.remove(val)\n",
    "    print(\"item Deleted\")\n",
    "else:\n",
    "    print(\"item not found\")"
   ]
  },
  {
   "cell_type": "code",
   "execution_count": 23,
   "id": "c4b39403",
   "metadata": {},
   "outputs": [
    {
     "data": {
      "text/plain": [
       "['Phy', 'Math', 'Eng', 'Bio']"
      ]
     },
     "execution_count": 23,
     "metadata": {},
     "output_type": "execute_result"
    }
   ],
   "source": [
    "sub_names = ['Phy', 'Che', 'Math', 'Eng', 'Bio']\n",
    "sub_names.remove(sub_names[1])\n",
    "sub_names"
   ]
  },
  {
   "cell_type": "code",
   "execution_count": 25,
   "id": "3c313a97",
   "metadata": {},
   "outputs": [
    {
     "data": {
      "text/plain": [
       "[3, 4, 5, 10, 10.5]"
      ]
     },
     "execution_count": 25,
     "metadata": {},
     "output_type": "execute_result"
    }
   ],
   "source": [
    "var2= [3, 4, 5, 'data',10,10.5]\n",
    "var2.remove(var2[3])\n",
    "var2"
   ]
  },
  {
   "cell_type": "markdown",
   "id": "759485fa",
   "metadata": {},
   "source": [
    "### 2. pop()"
   ]
  },
  {
   "cell_type": "code",
   "execution_count": null,
   "id": "a2c1b67f",
   "metadata": {},
   "outputs": [],
   "source": [
    "variable_name.pop(index)\n",
    "by default it will remove last indexed item"
   ]
  },
  {
   "cell_type": "code",
   "execution_count": 26,
   "id": "c08e3e59",
   "metadata": {},
   "outputs": [
    {
     "data": {
      "text/plain": [
       "['Phy', 'Che', 'Math', 'Eng']"
      ]
     },
     "execution_count": 26,
     "metadata": {},
     "output_type": "execute_result"
    }
   ],
   "source": [
    "sub_names = ['Phy', 'Che', 'Math', 'Eng', 'Bio']\n",
    "sub_names.pop()\n",
    "sub_names"
   ]
  },
  {
   "cell_type": "code",
   "execution_count": 27,
   "id": "3412fd72",
   "metadata": {},
   "outputs": [
    {
     "data": {
      "text/plain": [
       "['Phy', 'Math', 'Eng', 'Bio']"
      ]
     },
     "execution_count": 27,
     "metadata": {},
     "output_type": "execute_result"
    }
   ],
   "source": [
    "sub_names = ['Phy', 'Che', 'Math', 'Eng', 'Bio']\n",
    "sub_names.pop(1)\n",
    "sub_names"
   ]
  },
  {
   "cell_type": "code",
   "execution_count": 28,
   "id": "37bf84de",
   "metadata": {},
   "outputs": [
    {
     "data": {
      "text/plain": [
       "['Che', 'Math', 'Eng', 'Bio']"
      ]
     },
     "execution_count": 28,
     "metadata": {},
     "output_type": "execute_result"
    }
   ],
   "source": [
    "sub_names = ['Phy', 'Che', 'Math', 'Eng', 'Bio']\n",
    "sub_names.pop(0)\n",
    "sub_names"
   ]
  },
  {
   "cell_type": "code",
   "execution_count": 29,
   "id": "3c68e72a",
   "metadata": {},
   "outputs": [
    {
     "data": {
      "text/plain": [
       "['Phy', 'Che', 'Math', 'Eng']"
      ]
     },
     "execution_count": 29,
     "metadata": {},
     "output_type": "execute_result"
    }
   ],
   "source": [
    "sub_names = ['Phy', 'Che', 'Math', 'Eng', 'Bio']\n",
    "sub_names.pop(4)\n",
    "sub_names"
   ]
  },
  {
   "cell_type": "code",
   "execution_count": 30,
   "id": "41e09f0e",
   "metadata": {},
   "outputs": [
    {
     "data": {
      "text/plain": [
       "['Phy', 'Che', 'Math', 'Bio']"
      ]
     },
     "execution_count": 30,
     "metadata": {},
     "output_type": "execute_result"
    }
   ],
   "source": [
    "sub_names = ['Phy', 'Che', 'Math', 'Eng', 'Bio']\n",
    "sub_names.pop(3)\n",
    "sub_names"
   ]
  },
  {
   "cell_type": "markdown",
   "id": "f0578a8e",
   "metadata": {},
   "source": [
    "### 3. clear()"
   ]
  },
  {
   "cell_type": "code",
   "execution_count": null,
   "id": "aa51f3d8",
   "metadata": {},
   "outputs": [],
   "source": [
    "variable_name.clear()\n",
    "it will delete all list items"
   ]
  },
  {
   "cell_type": "code",
   "execution_count": 33,
   "id": "8a74ac66",
   "metadata": {},
   "outputs": [
    {
     "ename": "TypeError",
     "evalue": "clear() takes no arguments (1 given)",
     "output_type": "error",
     "traceback": [
      "\u001b[1;31m---------------------------------------------------------------------------\u001b[0m",
      "\u001b[1;31mTypeError\u001b[0m                                 Traceback (most recent call last)",
      "\u001b[1;32m<ipython-input-33-d375b64b4ebd>\u001b[0m in \u001b[0;36m<module>\u001b[1;34m\u001b[0m\n\u001b[0;32m      1\u001b[0m \u001b[0msub_names\u001b[0m \u001b[1;33m=\u001b[0m \u001b[1;33m[\u001b[0m\u001b[1;34m'Phy'\u001b[0m\u001b[1;33m,\u001b[0m \u001b[1;34m'Che'\u001b[0m\u001b[1;33m,\u001b[0m \u001b[1;34m'Math'\u001b[0m\u001b[1;33m,\u001b[0m \u001b[1;34m'Eng'\u001b[0m\u001b[1;33m,\u001b[0m \u001b[1;34m'Bio'\u001b[0m\u001b[1;33m]\u001b[0m\u001b[1;33m\u001b[0m\u001b[1;33m\u001b[0m\u001b[0m\n\u001b[1;32m----> 2\u001b[1;33m \u001b[0msub_names\u001b[0m\u001b[1;33m.\u001b[0m\u001b[0mclear\u001b[0m\u001b[1;33m(\u001b[0m\u001b[1;36m2\u001b[0m\u001b[1;33m)\u001b[0m\u001b[1;33m\u001b[0m\u001b[1;33m\u001b[0m\u001b[0m\n\u001b[0m\u001b[0;32m      3\u001b[0m \u001b[0msub_names\u001b[0m\u001b[1;33m\u001b[0m\u001b[1;33m\u001b[0m\u001b[0m\n",
      "\u001b[1;31mTypeError\u001b[0m: clear() takes no arguments (1 given)"
     ]
    }
   ],
   "source": [
    "sub_names = ['Phy', 'Che', 'Math', 'Eng', 'Bio']\n",
    "sub_names.clear(2)\n",
    "sub_names"
   ]
  },
  {
   "cell_type": "code",
   "execution_count": 34,
   "id": "bdcfb0e9",
   "metadata": {},
   "outputs": [
    {
     "data": {
      "text/plain": [
       "[]"
      ]
     },
     "execution_count": 34,
     "metadata": {},
     "output_type": "execute_result"
    }
   ],
   "source": [
    "sub_names = ['Phy', 'Che', 'Math', 'Eng', 'Bio']\n",
    "sub_names.clear()\n",
    "sub_names"
   ]
  },
  {
   "cell_type": "markdown",
   "id": "2c2963b2",
   "metadata": {},
   "source": [
    "### 4. del keyword"
   ]
  },
  {
   "cell_type": "code",
   "execution_count": 35,
   "id": "83d12e16",
   "metadata": {},
   "outputs": [
    {
     "data": {
      "text/plain": [
       "['Phy', 'Che', 'Eng', 'Bio']"
      ]
     },
     "execution_count": 35,
     "metadata": {},
     "output_type": "execute_result"
    }
   ],
   "source": [
    "sub_names = ['Phy', 'Che', 'Math', 'Eng', 'Bio']\n",
    "del sub_names[2]\n",
    "sub_names"
   ]
  },
  {
   "cell_type": "code",
   "execution_count": 36,
   "id": "46d2eeb2",
   "metadata": {},
   "outputs": [
    {
     "ename": "NameError",
     "evalue": "name 'sub_names' is not defined",
     "output_type": "error",
     "traceback": [
      "\u001b[1;31m---------------------------------------------------------------------------\u001b[0m",
      "\u001b[1;31mNameError\u001b[0m                                 Traceback (most recent call last)",
      "\u001b[1;32m<ipython-input-36-2dd56c613dc8>\u001b[0m in \u001b[0;36m<module>\u001b[1;34m\u001b[0m\n\u001b[0;32m      1\u001b[0m \u001b[0msub_names\u001b[0m \u001b[1;33m=\u001b[0m \u001b[1;33m[\u001b[0m\u001b[1;34m'Phy'\u001b[0m\u001b[1;33m,\u001b[0m \u001b[1;34m'Che'\u001b[0m\u001b[1;33m,\u001b[0m \u001b[1;34m'Math'\u001b[0m\u001b[1;33m,\u001b[0m \u001b[1;34m'Eng'\u001b[0m\u001b[1;33m,\u001b[0m \u001b[1;34m'Bio'\u001b[0m\u001b[1;33m]\u001b[0m\u001b[1;33m\u001b[0m\u001b[1;33m\u001b[0m\u001b[0m\n\u001b[0;32m      2\u001b[0m \u001b[1;32mdel\u001b[0m \u001b[0msub_names\u001b[0m\u001b[1;33m\u001b[0m\u001b[1;33m\u001b[0m\u001b[0m\n\u001b[1;32m----> 3\u001b[1;33m \u001b[0msub_names\u001b[0m\u001b[1;33m\u001b[0m\u001b[1;33m\u001b[0m\u001b[0m\n\u001b[0m",
      "\u001b[1;31mNameError\u001b[0m: name 'sub_names' is not defined"
     ]
    }
   ],
   "source": [
    "sub_names = ['Phy', 'Che', 'Math', 'Eng', 'Bio']\n",
    "del sub_names\n",
    "sub_names"
   ]
  },
  {
   "cell_type": "code",
   "execution_count": 37,
   "id": "680466ea",
   "metadata": {},
   "outputs": [
    {
     "ename": "NameError",
     "evalue": "name 'string' is not defined",
     "output_type": "error",
     "traceback": [
      "\u001b[1;31m---------------------------------------------------------------------------\u001b[0m",
      "\u001b[1;31mNameError\u001b[0m                                 Traceback (most recent call last)",
      "\u001b[1;32m<ipython-input-37-de31153f04ed>\u001b[0m in \u001b[0;36m<module>\u001b[1;34m\u001b[0m\n\u001b[0;32m      1\u001b[0m \u001b[0mstring\u001b[0m \u001b[1;33m=\u001b[0m \u001b[1;34m'python'\u001b[0m\u001b[1;33m\u001b[0m\u001b[1;33m\u001b[0m\u001b[0m\n\u001b[0;32m      2\u001b[0m \u001b[1;32mdel\u001b[0m \u001b[0mstring\u001b[0m\u001b[1;33m\u001b[0m\u001b[1;33m\u001b[0m\u001b[0m\n\u001b[1;32m----> 3\u001b[1;33m \u001b[0mstring\u001b[0m\u001b[1;33m\u001b[0m\u001b[1;33m\u001b[0m\u001b[0m\n\u001b[0m",
      "\u001b[1;31mNameError\u001b[0m: name 'string' is not defined"
     ]
    }
   ],
   "source": [
    "string = 'python'\n",
    "del string\n",
    "string"
   ]
  },
  {
   "cell_type": "code",
   "execution_count": 38,
   "id": "0f4b8a65",
   "metadata": {},
   "outputs": [
    {
     "ename": "TypeError",
     "evalue": "'str' object doesn't support item deletion",
     "output_type": "error",
     "traceback": [
      "\u001b[1;31m---------------------------------------------------------------------------\u001b[0m",
      "\u001b[1;31mTypeError\u001b[0m                                 Traceback (most recent call last)",
      "\u001b[1;32m<ipython-input-38-ebec46f0ae05>\u001b[0m in \u001b[0;36m<module>\u001b[1;34m\u001b[0m\n\u001b[0;32m      1\u001b[0m \u001b[0mstring\u001b[0m \u001b[1;33m=\u001b[0m \u001b[1;34m'python'\u001b[0m\u001b[1;33m\u001b[0m\u001b[1;33m\u001b[0m\u001b[0m\n\u001b[1;32m----> 2\u001b[1;33m \u001b[1;32mdel\u001b[0m \u001b[0mstring\u001b[0m\u001b[1;33m[\u001b[0m\u001b[1;36m2\u001b[0m\u001b[1;33m]\u001b[0m \u001b[1;31m#\u001b[0m\u001b[1;33m\u001b[0m\u001b[1;33m\u001b[0m\u001b[0m\n\u001b[0m\u001b[0;32m      3\u001b[0m \u001b[0mstring\u001b[0m\u001b[1;33m\u001b[0m\u001b[1;33m\u001b[0m\u001b[0m\n",
      "\u001b[1;31mTypeError\u001b[0m: 'str' object doesn't support item deletion"
     ]
    }
   ],
   "source": [
    "string = 'python'\n",
    "del string[2] #Immutable\n",
    "string"
   ]
  },
  {
   "cell_type": "code",
   "execution_count": 39,
   "id": "79b170e4",
   "metadata": {},
   "outputs": [
    {
     "data": {
      "text/plain": [
       "'Phy'"
      ]
     },
     "execution_count": 39,
     "metadata": {},
     "output_type": "execute_result"
    }
   ],
   "source": [
    "sub_names = ['Phy', 'Che', 'Math', 'Eng', 'Bio']\n",
    "sub_names[0]"
   ]
  },
  {
   "cell_type": "code",
   "execution_count": 40,
   "id": "31c81aef",
   "metadata": {},
   "outputs": [
    {
     "data": {
      "text/plain": [
       "'Bio'"
      ]
     },
     "execution_count": 40,
     "metadata": {},
     "output_type": "execute_result"
    }
   ],
   "source": [
    "sub_names = ['Phy', 'Che', 'Math', 'Eng', 'Bio']\n",
    "sub_names[-1]"
   ]
  },
  {
   "cell_type": "code",
   "execution_count": 41,
   "id": "7d6f78a2",
   "metadata": {},
   "outputs": [
    {
     "data": {
      "text/plain": [
       "[('Bio', 'Phy'), 'Che', 'Math', 'Eng', 'Bio']"
      ]
     },
     "execution_count": 41,
     "metadata": {},
     "output_type": "execute_result"
    }
   ],
   "source": [
    "sub_names = ['Phy', 'Che', 'Math', 'Eng', 'Bio']\n",
    "sub_names[0] = sub_names[-1],sub_names[0]\n",
    "sub_names"
   ]
  },
  {
   "cell_type": "code",
   "execution_count": 42,
   "id": "4a1e54b8",
   "metadata": {},
   "outputs": [
    {
     "data": {
      "text/plain": [
       "['Bio', 'Che', 'Math', 'Eng', 'Bio']"
      ]
     },
     "execution_count": 42,
     "metadata": {},
     "output_type": "execute_result"
    }
   ],
   "source": [
    "sub_names = ['Phy', 'Che', 'Math', 'Eng', 'Bio']\n",
    "sub_names[0] = sub_names[-1]\n",
    "sub_names"
   ]
  },
  {
   "cell_type": "code",
   "execution_count": 43,
   "id": "ed3f5a5c",
   "metadata": {},
   "outputs": [
    {
     "data": {
      "text/plain": [
       "['Bio', 'Che', 'Math', 'Eng', 'Phy']"
      ]
     },
     "execution_count": 43,
     "metadata": {},
     "output_type": "execute_result"
    }
   ],
   "source": [
    "sub_names = ['Phy', 'Che', 'Math', 'Eng', 'Bio']\n",
    "sub_names[0],sub_names[-1] = 'Bio', \"Phy\"\n",
    "sub_names"
   ]
  },
  {
   "cell_type": "code",
   "execution_count": 44,
   "id": "ad8399b0",
   "metadata": {},
   "outputs": [
    {
     "data": {
      "text/plain": [
       "['Bio', 'Che', 'Math', 'Eng', 'Phy']"
      ]
     },
     "execution_count": 44,
     "metadata": {},
     "output_type": "execute_result"
    }
   ],
   "source": [
    "sub_names = ['Phy', 'Che', 'Math', 'Eng', 'Bio']\n",
    "sub_names[0],sub_names[-1] = sub_names[-1],sub_names[0]\n",
    "sub_names"
   ]
  },
  {
   "cell_type": "code",
   "execution_count": 46,
   "id": "be0f4b6c",
   "metadata": {},
   "outputs": [
    {
     "name": "stdout",
     "output_type": "stream",
     "text": [
      "(5, 6)\n"
     ]
    },
    {
     "data": {
      "text/plain": [
       "tuple"
      ]
     },
     "execution_count": 46,
     "metadata": {},
     "output_type": "execute_result"
    }
   ],
   "source": [
    "x = 5,6\n",
    "print(x)\n",
    "type(x)"
   ]
  },
  {
   "cell_type": "code",
   "execution_count": 47,
   "id": "2223ec50",
   "metadata": {},
   "outputs": [
    {
     "name": "stdout",
     "output_type": "stream",
     "text": [
      "5\n",
      "6\n"
     ]
    },
    {
     "data": {
      "text/plain": [
       "int"
      ]
     },
     "execution_count": 47,
     "metadata": {},
     "output_type": "execute_result"
    }
   ],
   "source": [
    "x,y = 5,6\n",
    "print(x)\n",
    "print(y)\n",
    "type(x)"
   ]
  },
  {
   "cell_type": "markdown",
   "id": "4246380a",
   "metadata": {},
   "source": [
    "# sorting"
   ]
  },
  {
   "cell_type": "markdown",
   "id": "44f19720",
   "metadata": {},
   "source": [
    "## 1. sort()"
   ]
  },
  {
   "cell_type": "markdown",
   "id": "1eb1c30e",
   "metadata": {},
   "source": [
    "#### 1.1 Ascending  order"
   ]
  },
  {
   "cell_type": "code",
   "execution_count": 48,
   "id": "46aab71c",
   "metadata": {},
   "outputs": [
    {
     "data": {
      "text/plain": [
       "[2, 3, 4, 6, 7, 8]"
      ]
     },
     "execution_count": 48,
     "metadata": {},
     "output_type": "execute_result"
    }
   ],
   "source": [
    "list2 = [7,8,6,4,3,2]\n",
    "list2.sort()\n",
    "list2"
   ]
  },
  {
   "cell_type": "code",
   "execution_count": 49,
   "id": "319669fd",
   "metadata": {},
   "outputs": [
    {
     "data": {
      "text/plain": [
       "['Bio', 'Che', 'Eng', 'Math', 'Phy']"
      ]
     },
     "execution_count": 49,
     "metadata": {},
     "output_type": "execute_result"
    }
   ],
   "source": [
    "sub_names = ['Phy', 'Che', 'Math', 'Eng', 'Bio']\n",
    "sub_names.sort()\n",
    "sub_names"
   ]
  },
  {
   "cell_type": "code",
   "execution_count": 51,
   "id": "97c64bd5",
   "metadata": {},
   "outputs": [
    {
     "data": {
      "text/plain": [
       "['Apple', 'Dragonfruit', 'Kiwi', 'Orange', 'banana', 'cherry']"
      ]
     },
     "execution_count": 51,
     "metadata": {},
     "output_type": "execute_result"
    }
   ],
   "source": [
    "fruit = ['Kiwi', 'banana', 'Orange', 'Apple', 'Dragonfruit', 'cherry']\n",
    "\n",
    "fruit.sort()\n",
    "fruit"
   ]
  },
  {
   "cell_type": "code",
   "execution_count": 52,
   "id": "d832e494",
   "metadata": {},
   "outputs": [
    {
     "data": {
      "text/plain": [
       "['Apple', 'banana', 'cherry', 'Dragonfruit', 'Kiwi', 'Orange']"
      ]
     },
     "execution_count": 52,
     "metadata": {},
     "output_type": "execute_result"
    }
   ],
   "source": [
    "fruit = ['Kiwi', 'banana', 'Orange', 'Apple', 'Dragonfruit', 'cherry']\n",
    "\n",
    "fruit.sort(key =str.lower)\n",
    "fruit"
   ]
  },
  {
   "cell_type": "markdown",
   "id": "61d9413e",
   "metadata": {},
   "source": [
    "#### 1.2 Descending order"
   ]
  },
  {
   "cell_type": "code",
   "execution_count": 54,
   "id": "46998877",
   "metadata": {},
   "outputs": [
    {
     "data": {
      "text/plain": [
       "[8, 7, 6, 4, 3, 2]"
      ]
     },
     "execution_count": 54,
     "metadata": {},
     "output_type": "execute_result"
    }
   ],
   "source": [
    "list2 = [7,8,6,4,3,2]\n",
    "list2.sort(reverse = True)\n",
    "list2"
   ]
  },
  {
   "cell_type": "code",
   "execution_count": 55,
   "id": "21881b17",
   "metadata": {},
   "outputs": [
    {
     "data": {
      "text/plain": [
       "['Phy', 'Math', 'Eng', 'Che', 'Bio']"
      ]
     },
     "execution_count": 55,
     "metadata": {},
     "output_type": "execute_result"
    }
   ],
   "source": [
    "sub_names = ['Phy', 'Che', 'Math', 'Eng', 'Bio']\n",
    "sub_names.sort(reverse = True)\n",
    "sub_names"
   ]
  },
  {
   "cell_type": "code",
   "execution_count": 56,
   "id": "d022dc9d",
   "metadata": {},
   "outputs": [
    {
     "data": {
      "text/plain": [
       "['Orange', 'Kiwi', 'Dragonfruit', 'cherry', 'banana', 'Apple']"
      ]
     },
     "execution_count": 56,
     "metadata": {},
     "output_type": "execute_result"
    }
   ],
   "source": [
    "fruit = ['Kiwi', 'banana', 'Orange', 'Apple', 'Dragonfruit', 'cherry']\n",
    "\n",
    "fruit.sort(key =str.lower,reverse = True)\n",
    "fruit"
   ]
  },
  {
   "cell_type": "markdown",
   "id": "1743989a",
   "metadata": {},
   "source": [
    "# sorted()"
   ]
  },
  {
   "cell_type": "code",
   "execution_count": null,
   "id": "896997c9",
   "metadata": {},
   "outputs": [],
   "source": [
    "sorted(iterable, key, reverse=False)"
   ]
  },
  {
   "cell_type": "code",
   "execution_count": 58,
   "id": "e347db03",
   "metadata": {},
   "outputs": [
    {
     "data": {
      "text/plain": [
       "[2, 3, 4, 6, 7, 8]"
      ]
     },
     "execution_count": 58,
     "metadata": {},
     "output_type": "execute_result"
    }
   ],
   "source": [
    "list2 = [7,8,6,4,3,2]\n",
    "x=sorted(list2)\n",
    "x"
   ]
  },
  {
   "cell_type": "code",
   "execution_count": 59,
   "id": "be8610db",
   "metadata": {},
   "outputs": [
    {
     "data": {
      "text/plain": [
       "[8, 7, 6, 4, 3, 2]"
      ]
     },
     "execution_count": 59,
     "metadata": {},
     "output_type": "execute_result"
    }
   ],
   "source": [
    "list2 = [7,8,6,4,3,2]\n",
    "x=sorted(list2,reverse= True)\n",
    "x"
   ]
  },
  {
   "cell_type": "code",
   "execution_count": 60,
   "id": "1b686518",
   "metadata": {},
   "outputs": [
    {
     "data": {
      "text/plain": [
       "['Orange', 'Kiwi', 'Dragonfruit', 'cherry', 'banana', 'Apple']"
      ]
     },
     "execution_count": 60,
     "metadata": {},
     "output_type": "execute_result"
    }
   ],
   "source": [
    "fruit = ['Kiwi', 'banana', 'Orange', 'Apple', 'Dragonfruit', 'cherry']\n",
    "result = sorted(fruit,key =str.lower,reverse = True)\n",
    "result"
   ]
  },
  {
   "cell_type": "code",
   "execution_count": 63,
   "id": "3e550897",
   "metadata": {},
   "outputs": [
    {
     "name": "stdout",
     "output_type": "stream",
     "text": [
      "['Apple', 'banana', 'cherry', 'Dragonfruit', 'Kiwi', 'Orange']\n",
      "['Kiwi', 'banana', 'Orange', 'Apple', 'Dragonfruit', 'cherry']\n"
     ]
    }
   ],
   "source": [
    "fruit = ['Kiwi', 'banana', 'Orange', 'Apple', 'Dragonfruit', 'cherry']\n",
    "result = sorted(fruit,key =str.upper,reverse = False)\n",
    "print(result)\n",
    "print(fruit)"
   ]
  },
  {
   "cell_type": "markdown",
   "id": "a5b19fdc",
   "metadata": {},
   "source": [
    "# Reverse()"
   ]
  },
  {
   "cell_type": "code",
   "execution_count": 65,
   "id": "6d0fa255",
   "metadata": {},
   "outputs": [
    {
     "data": {
      "text/plain": [
       "[2, 3, 4, 6, 8, 7]"
      ]
     },
     "execution_count": 65,
     "metadata": {},
     "output_type": "execute_result"
    }
   ],
   "source": [
    "list2 = [7,8,6,4,3,2]\n",
    "list2[::-1]\n"
   ]
  },
  {
   "cell_type": "code",
   "execution_count": 67,
   "id": "99430eb0",
   "metadata": {},
   "outputs": [
    {
     "data": {
      "text/plain": [
       "[2, 3, 4, 6, 8, 7]"
      ]
     },
     "execution_count": 67,
     "metadata": {},
     "output_type": "execute_result"
    }
   ],
   "source": [
    "list2 = [7,8,6,4,3,2]\n",
    "list2.reverse()\n",
    "list2"
   ]
  },
  {
   "cell_type": "code",
   "execution_count": 68,
   "id": "c84b2216",
   "metadata": {},
   "outputs": [
    {
     "data": {
      "text/plain": [
       "['cherry', 'Dragonfruit', 'Apple', 'Orange', 'banana', 'Kiwi']"
      ]
     },
     "execution_count": 68,
     "metadata": {},
     "output_type": "execute_result"
    }
   ],
   "source": [
    "fruit = ['Kiwi', 'banana', 'Orange', 'Apple', 'Dragonfruit', 'cherry']\n",
    "fruit.reverse()\n",
    "fruit"
   ]
  },
  {
   "cell_type": "markdown",
   "id": "5dd85dfe",
   "metadata": {},
   "source": [
    "# reversed()"
   ]
  },
  {
   "cell_type": "code",
   "execution_count": 69,
   "id": "290d4853",
   "metadata": {},
   "outputs": [
    {
     "data": {
      "text/plain": [
       "[2, 3, 4, 6, 8, 7]"
      ]
     },
     "execution_count": 69,
     "metadata": {},
     "output_type": "execute_result"
    }
   ],
   "source": [
    "list2 = [7,8,6,4,3,2]\n",
    "x =list(reversed(list2))\n",
    "x"
   ]
  },
  {
   "cell_type": "code",
   "execution_count": 70,
   "id": "530e239a",
   "metadata": {},
   "outputs": [
    {
     "data": {
      "text/plain": [
       "(2, 3, 4, 6, 8, 7)"
      ]
     },
     "execution_count": 70,
     "metadata": {},
     "output_type": "execute_result"
    }
   ],
   "source": [
    "list2 = [7,8,6,4,3,2]\n",
    "x =tuple(reversed(list2))\n",
    "x"
   ]
  },
  {
   "cell_type": "markdown",
   "id": "af38f582",
   "metadata": {},
   "source": [
    "# index()"
   ]
  },
  {
   "cell_type": "code",
   "execution_count": 72,
   "id": "6aa95f17",
   "metadata": {},
   "outputs": [
    {
     "name": "stdout",
     "output_type": "stream",
     "text": [
      "index is  2\n"
     ]
    }
   ],
   "source": [
    "list2 = [7,8,6,4,3,2]\n",
    "index = list2.index(6)\n",
    "print(\"index is \", index)"
   ]
  },
  {
   "cell_type": "code",
   "execution_count": 73,
   "id": "04594429",
   "metadata": {},
   "outputs": [
    {
     "name": "stdout",
     "output_type": "stream",
     "text": [
      "index is  2\n"
     ]
    }
   ],
   "source": [
    "fruit = ['Kiwi', 'banana', 'Orange', 'Apple', 'Dragonfruit', 'cherry']\n",
    "x = fruit.index('Orange')\n",
    "print(\"index is \", x)"
   ]
  },
  {
   "cell_type": "markdown",
   "id": "a8e72ecc",
   "metadata": {},
   "source": [
    "# count()"
   ]
  },
  {
   "cell_type": "code",
   "execution_count": 85,
   "id": "50f612f8",
   "metadata": {},
   "outputs": [
    {
     "data": {
      "text/plain": [
       "2"
      ]
     },
     "execution_count": 85,
     "metadata": {},
     "output_type": "execute_result"
    }
   ],
   "source": [
    "list2 = [7,8,6,4,3,2,4]\n",
    "list2.count(4)"
   ]
  },
  {
   "cell_type": "code",
   "execution_count": 86,
   "id": "a81d475c",
   "metadata": {},
   "outputs": [
    {
     "data": {
      "text/plain": [
       "5"
      ]
     },
     "execution_count": 86,
     "metadata": {},
     "output_type": "execute_result"
    }
   ],
   "source": [
    "list2 = [7,8,6,4,5,5,5,5,5,53,2,4]\n",
    "list2.count(5)"
   ]
  },
  {
   "cell_type": "code",
   "execution_count": 88,
   "id": "69ec89d3",
   "metadata": {},
   "outputs": [
    {
     "data": {
      "text/plain": [
       "2"
      ]
     },
     "execution_count": 88,
     "metadata": {},
     "output_type": "execute_result"
    }
   ],
   "source": [
    "fruit = ['Kiwi', 'banana', 'Orange', 'Apple', 'Dragonfruit', 'cherry','banana']\n",
    "fruit.count('banana')"
   ]
  },
  {
   "cell_type": "markdown",
   "id": "08dd02da",
   "metadata": {},
   "source": [
    "# copy()"
   ]
  },
  {
   "cell_type": "code",
   "execution_count": 89,
   "id": "ddcd81cb",
   "metadata": {},
   "outputs": [
    {
     "name": "stdout",
     "output_type": "stream",
     "text": [
      "[7, 8, 6, 4, 3, 2, 4]\n",
      "[7, 8, 6, 4, 3, 2, 4]\n"
     ]
    }
   ],
   "source": [
    "list1 = [7,8,6,4,3,2,4]\n",
    "list2 = list1\n",
    "print(list1)\n",
    "print(list2)"
   ]
  },
  {
   "cell_type": "code",
   "execution_count": 92,
   "id": "62934d7f",
   "metadata": {},
   "outputs": [
    {
     "name": "stdout",
     "output_type": "stream",
     "text": [
      "[7, 8, 6, 4, 3, 2, 4]\n",
      "[7, 8, 6, 4, 3, 2, 4]\n",
      "**************************************************\n",
      "[7, 8, 6, 4, 3, 2, 4, 100]\n",
      "[7, 8, 6, 4, 3, 2, 4, 100]\n"
     ]
    }
   ],
   "source": [
    "list1 = [7,8,6,4,3,2,4]\n",
    "list2 = list1\n",
    "print(list1)\n",
    "print(list2)\n",
    "print('*'*50)\n",
    "list2.append(100)\n",
    "print(list1)\n",
    "print(list2)"
   ]
  },
  {
   "cell_type": "code",
   "execution_count": 93,
   "id": "1e6cf14c",
   "metadata": {},
   "outputs": [
    {
     "name": "stdout",
     "output_type": "stream",
     "text": [
      "[7, 8, 6, 4, 3, 2, 4]\n",
      "[7, 8, 6, 4, 3, 2, 4]\n",
      "**************************************************\n",
      "[7, 8, 6, 4, 3, 2, 4]\n",
      "[7, 8, 6, 4, 3, 2, 4, 100]\n"
     ]
    }
   ],
   "source": [
    "list1 = [7,8,6,4,3,2,4]\n",
    "list2 = list1.copy() #shallow copy\n",
    "print(list1)\n",
    "print(list2)\n",
    "print('*'*50)\n",
    "list2.append(100)      \n",
    "print(list1)\n",
    "print(list2)"
   ]
  },
  {
   "cell_type": "code",
   "execution_count": 94,
   "id": "708f8c47",
   "metadata": {},
   "outputs": [
    {
     "name": "stdout",
     "output_type": "stream",
     "text": [
      "[7, 8, 6, 4, 3, 2, 4]\n",
      "[7, 8, 6, 4, 3, 2, 4]\n",
      "**************************************************\n",
      "[7, 8, 6, 4, 3, 2, 4]\n",
      "[7, 8, 6, 4, 3, 2, 4, 'python']\n"
     ]
    }
   ],
   "source": [
    "list1 = [7,8,6,4,3,2,4]\n",
    "list2 = list1.copy() #shallow copy\n",
    "print(list1)\n",
    "print(list2)\n",
    "print('*'*50)\n",
    "list2.append('python')      \n",
    "print(list1)\n",
    "print(list2)"
   ]
  },
  {
   "cell_type": "markdown",
   "id": "c6cdc964",
   "metadata": {},
   "source": [
    "# Nested List"
   ]
  },
  {
   "cell_type": "code",
   "execution_count": null,
   "id": "43c76bd5",
   "metadata": {},
   "outputs": [],
   "source": [
    "list in list"
   ]
  },
  {
   "cell_type": "code",
   "execution_count": 95,
   "id": "94778b97",
   "metadata": {},
   "outputs": [],
   "source": [
    "list1 = [[3,4],[7,8],[200,50],[100,500]]"
   ]
  },
  {
   "cell_type": "code",
   "execution_count": 96,
   "id": "5822f5aa",
   "metadata": {},
   "outputs": [
    {
     "data": {
      "text/plain": [
       "4"
      ]
     },
     "execution_count": 96,
     "metadata": {},
     "output_type": "execute_result"
    }
   ],
   "source": [
    "len(list1)"
   ]
  },
  {
   "cell_type": "code",
   "execution_count": 97,
   "id": "b6b72cd8",
   "metadata": {},
   "outputs": [
    {
     "name": "stdout",
     "output_type": "stream",
     "text": [
      "[3, 4]\n",
      "[7, 8]\n",
      "[200, 50]\n",
      "[100, 500]\n"
     ]
    }
   ],
   "source": [
    "for i in list1:\n",
    "    print(i)"
   ]
  },
  {
   "cell_type": "code",
   "execution_count": 99,
   "id": "d1cbfa83",
   "metadata": {},
   "outputs": [
    {
     "data": {
      "text/plain": [
       "[7, 8]"
      ]
     },
     "execution_count": 99,
     "metadata": {},
     "output_type": "execute_result"
    }
   ],
   "source": [
    "x=list1[1]\n",
    "x"
   ]
  },
  {
   "cell_type": "code",
   "execution_count": 100,
   "id": "7d98e93a",
   "metadata": {},
   "outputs": [
    {
     "data": {
      "text/plain": [
       "8"
      ]
     },
     "execution_count": 100,
     "metadata": {},
     "output_type": "execute_result"
    }
   ],
   "source": [
    "x[1]"
   ]
  },
  {
   "cell_type": "code",
   "execution_count": 101,
   "id": "e058ddb3",
   "metadata": {},
   "outputs": [
    {
     "data": {
      "text/plain": [
       "3"
      ]
     },
     "execution_count": 101,
     "metadata": {},
     "output_type": "execute_result"
    }
   ],
   "source": [
    "list1 = [[3,4],[7,8],[200,50],[100,500]]\n",
    "list1[0][0]"
   ]
  },
  {
   "cell_type": "code",
   "execution_count": 102,
   "id": "8d3865e2",
   "metadata": {},
   "outputs": [
    {
     "data": {
      "text/plain": [
       "4"
      ]
     },
     "execution_count": 102,
     "metadata": {},
     "output_type": "execute_result"
    }
   ],
   "source": [
    "list1 = [[3,4],[7,8],[200,50],[100,500]]\n",
    "list1[0][1]"
   ]
  },
  {
   "cell_type": "code",
   "execution_count": 103,
   "id": "0c9d6f67",
   "metadata": {},
   "outputs": [
    {
     "data": {
      "text/plain": [
       "7"
      ]
     },
     "execution_count": 103,
     "metadata": {},
     "output_type": "execute_result"
    }
   ],
   "source": [
    "list1 = [[3,4],[7,8],[200,50],[100,500]] #[7,8] >>>  7\n",
    "list1[1][0]"
   ]
  },
  {
   "cell_type": "code",
   "execution_count": 104,
   "id": "4e0bbc9c",
   "metadata": {},
   "outputs": [
    {
     "data": {
      "text/plain": [
       "8"
      ]
     },
     "execution_count": 104,
     "metadata": {},
     "output_type": "execute_result"
    }
   ],
   "source": [
    "list1 = [[3,4],[7,8],[200,50],[100,500]] #[7,8] >>>  8\n",
    "list1[1][1]"
   ]
  },
  {
   "cell_type": "code",
   "execution_count": 108,
   "id": "430648e6",
   "metadata": {},
   "outputs": [
    {
     "data": {
      "text/plain": [
       "8"
      ]
     },
     "execution_count": 108,
     "metadata": {},
     "output_type": "execute_result"
    }
   ],
   "source": [
    "list1 = [[3,4],[7,8],[200,50],[100,500],10,20,'python',['Kiwi', 'banana', 'Orange', 'Apple', 'Dragonfruit', 'cherry']]\n",
    "len(list1)"
   ]
  },
  {
   "cell_type": "code",
   "execution_count": 110,
   "id": "da01c2ff",
   "metadata": {},
   "outputs": [
    {
     "data": {
      "text/plain": [
       "'banana'"
      ]
     },
     "execution_count": 110,
     "metadata": {},
     "output_type": "execute_result"
    }
   ],
   "source": [
    "list1[7][1]"
   ]
  },
  {
   "cell_type": "code",
   "execution_count": 113,
   "id": "30360e0a",
   "metadata": {},
   "outputs": [
    {
     "data": {
      "text/plain": [
       "'cherry'"
      ]
     },
     "execution_count": 113,
     "metadata": {},
     "output_type": "execute_result"
    }
   ],
   "source": [
    "list1[-1][-1]"
   ]
  },
  {
   "cell_type": "code",
   "execution_count": 115,
   "id": "88e3d7fe",
   "metadata": {},
   "outputs": [
    {
     "name": "stdout",
     "output_type": "stream",
     "text": [
      "[7, 8, 6, 4, 3, 2, 4]\n",
      "[7, 8, 6, 4, 3, 2, 4]\n",
      "**************************************************\n",
      "[7, 8, 6, 4, 3, 2, 4, 100]\n",
      "[7, 8, 6, 4, 3, 2, 4]\n"
     ]
    }
   ],
   "source": [
    "list1 = [7,8,6,4,3,2,4]\n",
    "list2 = list1.copy()\n",
    "print(list1)\n",
    "print(list2)\n",
    "print('*'*50)\n",
    "list1.append(100)\n",
    "print(list1)\n",
    "print(list2)"
   ]
  },
  {
   "cell_type": "code",
   "execution_count": 116,
   "id": "cc49352d",
   "metadata": {},
   "outputs": [
    {
     "name": "stdout",
     "output_type": "stream",
     "text": [
      "[7, 8, 6, 4, 3, 2, 4]\n",
      "[7, 8, 6, 4, 3, 2, 4]\n",
      "**************************************************\n",
      "[7, 8, 'python', 4, 3, 2, 4]\n",
      "[7, 8, 6, 4, 3, 2, 4]\n"
     ]
    }
   ],
   "source": [
    "list1 = [7,8,6,4,3,2,4]\n",
    "list2 = list1.copy()\n",
    "print(list1)\n",
    "print(list2)\n",
    "print('*'*50)\n",
    "list1[2]='python'\n",
    "print(list1)\n",
    "print(list2)"
   ]
  },
  {
   "cell_type": "code",
   "execution_count": 117,
   "id": "461368e4",
   "metadata": {},
   "outputs": [
    {
     "name": "stdout",
     "output_type": "stream",
     "text": [
      "list1 [[3, 4], [7, 8], ['data', 50], [100, 500]]\n",
      "list2 [[3, 4], [7, 8], ['data', 50], [100, 500]]\n"
     ]
    }
   ],
   "source": [
    "list1 = [[3,4],[7,8],[200,50],[100,500]]\n",
    "list2 = list1.copy()\n",
    "list2[2][0]= 'data'\n",
    "\n",
    "print('list1',list1)\n",
    "print('list2',list2)"
   ]
  },
  {
   "cell_type": "markdown",
   "id": "6d26bb54",
   "metadata": {},
   "source": [
    "# Deep copy()"
   ]
  },
  {
   "cell_type": "code",
   "execution_count": 118,
   "id": "eb0500d5",
   "metadata": {},
   "outputs": [
    {
     "name": "stdout",
     "output_type": "stream",
     "text": [
      "list1 [[3, 4], [7, 8], [200, 50], [100, 500]]\n",
      "list2 [[3, 4], [7, 8], ['data', 50], [100, 500]]\n"
     ]
    }
   ],
   "source": [
    "import copy\n",
    "list1 = [[3,4],[7,8],[200,50],[100,500]]\n",
    "list2 = copy.deepcopy(list1)\n",
    "list2[2][0]= 'data'\n",
    "\n",
    "print('list1',list1)\n",
    "print('list2',list2)"
   ]
  },
  {
   "cell_type": "markdown",
   "id": "fc61eaf0",
   "metadata": {},
   "source": [
    "# Built in functions\n",
    "\n",
    "min\n",
    "max\n",
    "sum"
   ]
  },
  {
   "cell_type": "code",
   "execution_count": 119,
   "id": "69491844",
   "metadata": {},
   "outputs": [
    {
     "data": {
      "text/plain": [
       "2"
      ]
     },
     "execution_count": 119,
     "metadata": {},
     "output_type": "execute_result"
    }
   ],
   "source": [
    "list1 = [7,8,6,4,3,2,4]\n",
    "min(list1)"
   ]
  },
  {
   "cell_type": "code",
   "execution_count": 120,
   "id": "8d94998b",
   "metadata": {},
   "outputs": [
    {
     "data": {
      "text/plain": [
       "8"
      ]
     },
     "execution_count": 120,
     "metadata": {},
     "output_type": "execute_result"
    }
   ],
   "source": [
    "list1 = [7,8,6,4,3,2,4]\n",
    "max(list1)"
   ]
  },
  {
   "cell_type": "code",
   "execution_count": 121,
   "id": "40a1a2b3",
   "metadata": {},
   "outputs": [
    {
     "data": {
      "text/plain": [
       "34"
      ]
     },
     "execution_count": 121,
     "metadata": {},
     "output_type": "execute_result"
    }
   ],
   "source": [
    "list1 = [7,8,6,4,3,2,4]\n",
    "sum(list1)"
   ]
  },
  {
   "cell_type": "code",
   "execution_count": 123,
   "id": "986d86ec",
   "metadata": {},
   "outputs": [
    {
     "name": "stdout",
     "output_type": "stream",
     "text": [
      "Sum of the number is  7\n",
      "Sum of the number is  15\n",
      "Sum of the number is  21\n",
      "Sum of the number is  25\n",
      "Sum of the number is  28\n",
      "Sum of the number is  30\n",
      "Sum of the number is  34\n",
      "Sum is   34\n"
     ]
    }
   ],
   "source": [
    "list1 = [7,8,6,4,3,2,4]\n",
    "addition = 0\n",
    "\n",
    "for i in list1:\n",
    "    addition = addition + i\n",
    "    print(\"Sum of the number is \", addition)\n",
    "\n",
    "print(\"Sum is  \", addition)"
   ]
  },
  {
   "cell_type": "code",
   "execution_count": 124,
   "id": "50ce951c",
   "metadata": {},
   "outputs": [
    {
     "data": {
      "text/plain": [
       "34"
      ]
     },
     "execution_count": 124,
     "metadata": {},
     "output_type": "execute_result"
    }
   ],
   "source": [
    "list1 = [7,8,6,4,3,2,4]\n",
    "sum(list1)"
   ]
  },
  {
   "cell_type": "code",
   "execution_count": null,
   "id": "289e92e1",
   "metadata": {},
   "outputs": [],
   "source": []
  }
 ],
 "metadata": {
  "kernelspec": {
   "display_name": "Python 3",
   "language": "python",
   "name": "python3"
  },
  "language_info": {
   "codemirror_mode": {
    "name": "ipython",
    "version": 3
   },
   "file_extension": ".py",
   "mimetype": "text/x-python",
   "name": "python",
   "nbconvert_exporter": "python",
   "pygments_lexer": "ipython3",
   "version": "3.8.8"
  }
 },
 "nbformat": 4,
 "nbformat_minor": 5
}
