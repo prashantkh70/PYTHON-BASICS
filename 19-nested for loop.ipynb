{
 "cells": [
  {
   "cell_type": "markdown",
   "id": "71d702e8",
   "metadata": {},
   "source": [
    "# Nested for loop"
   ]
  },
  {
   "cell_type": "code",
   "execution_count": null,
   "id": "c8ce79ca",
   "metadata": {},
   "outputs": [],
   "source": [
    "for loop inside for loop"
   ]
  },
  {
   "cell_type": "code",
   "execution_count": null,
   "id": "8d55a962",
   "metadata": {},
   "outputs": [],
   "source": [
    "for var in sequence1:\n",
    "    statement1\n",
    "    statement2\n",
    "    for var2 in sequence2:\n",
    "        statement3\n",
    "        statement4\n",
    "        for var3 in sequence3:\n",
    "            statement5\n",
    "            statement6"
   ]
  },
  {
   "cell_type": "code",
   "execution_count": null,
   "id": "5bcf1962",
   "metadata": {},
   "outputs": [],
   "source": [
    "for var in sequence1:\n",
    "    statement1\n",
    "    statement2\n",
    "    for var2 in sequence2:\n",
    "        statement3\n",
    "        statement4"
   ]
  },
  {
   "cell_type": "code",
   "execution_count": 1,
   "id": "0240c238",
   "metadata": {},
   "outputs": [
    {
     "name": "stdout",
     "output_type": "stream",
     "text": [
      "we are in the first for loop\n",
      "we are in the first for loop\n",
      "we are in the first for loop\n",
      "we are in the first for loop\n",
      "we are in the first for loop\n"
     ]
    }
   ],
   "source": [
    "for i in range(5):\n",
    "    print('we are in the first for loop')"
   ]
  },
  {
   "cell_type": "code",
   "execution_count": 2,
   "id": "33019638",
   "metadata": {},
   "outputs": [
    {
     "name": "stdout",
     "output_type": "stream",
     "text": [
      "we are in the first for loop\n",
      "we are in the Nested for loop\n",
      "we are in the Nested for loop\n",
      "we are in the Nested for loop\n",
      "we are in the Nested for loop\n",
      "we are in the first for loop\n",
      "we are in the Nested for loop\n",
      "we are in the Nested for loop\n",
      "we are in the Nested for loop\n",
      "we are in the Nested for loop\n",
      "we are in the first for loop\n",
      "we are in the Nested for loop\n",
      "we are in the Nested for loop\n",
      "we are in the Nested for loop\n",
      "we are in the Nested for loop\n",
      "we are in the first for loop\n",
      "we are in the Nested for loop\n",
      "we are in the Nested for loop\n",
      "we are in the Nested for loop\n",
      "we are in the Nested for loop\n",
      "we are in the first for loop\n",
      "we are in the Nested for loop\n",
      "we are in the Nested for loop\n",
      "we are in the Nested for loop\n",
      "we are in the Nested for loop\n"
     ]
    }
   ],
   "source": [
    "for i in range(5):\n",
    "    print('we are in the first for loop')\n",
    "    for j in range(4):\n",
    "        print('we are in the Nested for loop')"
   ]
  },
  {
   "cell_type": "code",
   "execution_count": 3,
   "id": "129552a8",
   "metadata": {},
   "outputs": [
    {
     "name": "stdout",
     "output_type": "stream",
     "text": [
      "we are in the first for loop\n",
      "we are in the Nested for loop\n",
      "we are in the Nested for loop\n",
      "we are in the Nested for loop\n",
      "we are in the Nested for loop\n",
      "**************************************************\n",
      "we are in the first for loop\n",
      "we are in the Nested for loop\n",
      "we are in the Nested for loop\n",
      "we are in the Nested for loop\n",
      "we are in the Nested for loop\n",
      "**************************************************\n",
      "we are in the first for loop\n",
      "we are in the Nested for loop\n",
      "we are in the Nested for loop\n",
      "we are in the Nested for loop\n",
      "we are in the Nested for loop\n",
      "**************************************************\n",
      "we are in the first for loop\n",
      "we are in the Nested for loop\n",
      "we are in the Nested for loop\n",
      "we are in the Nested for loop\n",
      "we are in the Nested for loop\n",
      "**************************************************\n",
      "we are in the first for loop\n",
      "we are in the Nested for loop\n",
      "we are in the Nested for loop\n",
      "we are in the Nested for loop\n",
      "we are in the Nested for loop\n",
      "**************************************************\n"
     ]
    }
   ],
   "source": [
    "for i in range(5):\n",
    "    print('we are in the first for loop')\n",
    "    for j in range(4):\n",
    "        print('we are in the Nested for loop')\n",
    "    print('*'*50)"
   ]
  },
  {
   "cell_type": "code",
   "execution_count": 4,
   "id": "8d9e198d",
   "metadata": {},
   "outputs": [
    {
     "name": "stdout",
     "output_type": "stream",
     "text": [
      "we are in the first for loop\n",
      "we are in the Nested for loop\n",
      "Hello\n",
      "we are in the Nested for loop\n",
      "Hello\n",
      "we are in the Nested for loop\n",
      "Hello\n",
      "we are in the Nested for loop\n",
      "Hello\n",
      "**************************************************\n",
      "we are in the first for loop\n",
      "we are in the Nested for loop\n",
      "Hello\n",
      "we are in the Nested for loop\n",
      "Hello\n",
      "we are in the Nested for loop\n",
      "Hello\n",
      "we are in the Nested for loop\n",
      "Hello\n",
      "**************************************************\n",
      "we are in the first for loop\n",
      "we are in the Nested for loop\n",
      "Hello\n",
      "we are in the Nested for loop\n",
      "Hello\n",
      "we are in the Nested for loop\n",
      "Hello\n",
      "we are in the Nested for loop\n",
      "Hello\n",
      "**************************************************\n",
      "we are in the first for loop\n",
      "we are in the Nested for loop\n",
      "Hello\n",
      "we are in the Nested for loop\n",
      "Hello\n",
      "we are in the Nested for loop\n",
      "Hello\n",
      "we are in the Nested for loop\n",
      "Hello\n",
      "**************************************************\n",
      "we are in the first for loop\n",
      "we are in the Nested for loop\n",
      "Hello\n",
      "we are in the Nested for loop\n",
      "Hello\n",
      "we are in the Nested for loop\n",
      "Hello\n",
      "we are in the Nested for loop\n",
      "Hello\n",
      "**************************************************\n"
     ]
    }
   ],
   "source": [
    "for i in range(5):\n",
    "    print('we are in the first for loop')\n",
    "    for j in range(4):\n",
    "        print('we are in the Nested for loop')\n",
    "        print('Hello')\n",
    "    print('*'*50)"
   ]
  },
  {
   "cell_type": "code",
   "execution_count": 5,
   "id": "6c14bd1c",
   "metadata": {},
   "outputs": [
    {
     "name": "stdout",
     "output_type": "stream",
     "text": [
      "Char is :  p\n",
      "Hello Python\n",
      "Hello Python\n",
      "Hello Python\n",
      "##################################################\n",
      "Char is :  y\n",
      "Hello Python\n",
      "Hello Python\n",
      "Hello Python\n",
      "##################################################\n",
      "Char is :  t\n",
      "Hello Python\n",
      "Hello Python\n",
      "Hello Python\n",
      "##################################################\n",
      "Char is :  h\n",
      "Hello Python\n",
      "Hello Python\n",
      "Hello Python\n",
      "##################################################\n",
      "Char is :  o\n",
      "Hello Python\n",
      "Hello Python\n",
      "Hello Python\n",
      "##################################################\n",
      "Char is :  n\n",
      "Hello Python\n",
      "Hello Python\n",
      "Hello Python\n",
      "##################################################\n"
     ]
    }
   ],
   "source": [
    "for char in 'python':\n",
    "    print(\"Char is : \",char)\n",
    "    for i in range(3):#3 times\n",
    "        print(\"Hello Python\")\n",
    "    print('#'*50)"
   ]
  },
  {
   "cell_type": "code",
   "execution_count": 6,
   "id": "c84a8b3e",
   "metadata": {},
   "outputs": [
    {
     "name": "stdout",
     "output_type": "stream",
     "text": [
      "Char is :  p\n",
      "Hello Python\n",
      "Hello Python\n",
      "Hello Python\n",
      "\n",
      "Char is :  y\n",
      "Hello Python\n",
      "Hello Python\n",
      "Hello Python\n",
      "\n",
      "Char is :  t\n",
      "Hello Python\n",
      "Hello Python\n",
      "Hello Python\n",
      "\n",
      "Char is :  h\n",
      "Hello Python\n",
      "Hello Python\n",
      "Hello Python\n",
      "\n",
      "Char is :  o\n",
      "Hello Python\n",
      "Hello Python\n",
      "Hello Python\n",
      "\n",
      "Char is :  n\n",
      "Hello Python\n",
      "Hello Python\n",
      "Hello Python\n",
      "\n"
     ]
    }
   ],
   "source": [
    "for char in 'python':\n",
    "    print(\"Char is : \",char)\n",
    "    for i in range(3):#3 times\n",
    "        print(\"Hello Python\")\n",
    "    print(end = '\\n')"
   ]
  },
  {
   "cell_type": "code",
   "execution_count": 7,
   "id": "f48ffaff",
   "metadata": {},
   "outputs": [
    {
     "name": "stdout",
     "output_type": "stream",
     "text": [
      "*\n",
      "*\n",
      "*\n",
      "*\n",
      "*\n",
      "\n",
      "*\n",
      "*\n",
      "*\n",
      "*\n",
      "*\n",
      "\n",
      "*\n",
      "*\n",
      "*\n",
      "*\n",
      "*\n",
      "\n",
      "*\n",
      "*\n",
      "*\n",
      "*\n",
      "*\n",
      "\n",
      "*\n",
      "*\n",
      "*\n",
      "*\n",
      "*\n",
      "\n"
     ]
    }
   ],
   "source": [
    "for i in range(5):\n",
    "    for j in range(5):\n",
    "        print('*')\n",
    "    print()"
   ]
  },
  {
   "cell_type": "code",
   "execution_count": 8,
   "id": "0ff7ffda",
   "metadata": {},
   "outputs": [
    {
     "name": "stdout",
     "output_type": "stream",
     "text": [
      "* * * * * \n",
      "* * * * * \n",
      "* * * * * \n",
      "* * * * * \n",
      "* * * * * \n"
     ]
    }
   ],
   "source": [
    "for i in range(5):\n",
    "    for j in range(5):\n",
    "        print('*',end = ' ')\n",
    "    print()"
   ]
  },
  {
   "cell_type": "code",
   "execution_count": 9,
   "id": "50278035",
   "metadata": {},
   "outputs": [
    {
     "name": "stdout",
     "output_type": "stream",
     "text": [
      "i == 0\n",
      "*\n",
      "*\n",
      "*\n",
      "*\n",
      "*\n",
      "\n",
      "i == 1\n",
      "*\n",
      "*\n",
      "*\n",
      "*\n",
      "*\n",
      "\n",
      "i == 2\n",
      "*\n",
      "*\n",
      "*\n",
      "*\n",
      "*\n",
      "\n",
      "i == 3\n",
      "*\n",
      "*\n",
      "*\n",
      "*\n",
      "*\n",
      "\n",
      "i == 4\n",
      "*\n",
      "*\n",
      "*\n",
      "*\n",
      "*\n",
      "\n"
     ]
    }
   ],
   "source": [
    "for i in range(5):\n",
    "    print(f\"i == {i}\")\n",
    "    for j in range(5):\n",
    "        print('*')\n",
    "    print()"
   ]
  },
  {
   "cell_type": "code",
   "execution_count": 10,
   "id": "6dcfaee1",
   "metadata": {},
   "outputs": [
    {
     "name": "stdout",
     "output_type": "stream",
     "text": [
      "i == 0\n",
      "* * * * * \n",
      "i == 1\n",
      "* * * * * \n",
      "i == 2\n",
      "* * * * * \n",
      "i == 3\n",
      "* * * * * \n",
      "i == 4\n",
      "* * * * * \n"
     ]
    }
   ],
   "source": [
    "for i in range(5):\n",
    "    print(f\"i == {i}\")\n",
    "    for j in range(5):\n",
    "        print('*',end = ' ')\n",
    "    print()"
   ]
  },
  {
   "cell_type": "code",
   "execution_count": 11,
   "id": "f843015f",
   "metadata": {},
   "outputs": [
    {
     "name": "stdout",
     "output_type": "stream",
     "text": [
      "* * * * * \n",
      "* * * * * \n",
      "* * * * * \n",
      "* * * * * \n",
      "* * * * * \n"
     ]
    }
   ],
   "source": [
    "for i in range(5):\n",
    "#     print(f\"i == {i}\")\n",
    "    for j in range(5):\n",
    "        print('*',end = ' ')\n",
    "    print()"
   ]
  },
  {
   "cell_type": "code",
   "execution_count": 12,
   "id": "ed2b2c76",
   "metadata": {},
   "outputs": [
    {
     "name": "stdout",
     "output_type": "stream",
     "text": [
      "* * * * * \n",
      "* * * * * \n",
      "* * * * * \n",
      "* * * * * \n",
      "* * * * * \n"
     ]
    }
   ],
   "source": [
    "n=5\n",
    "for i in range(n):\n",
    "#     print(f\"i == {i}\")\n",
    "    for j in range(n):\n",
    "        print('*',end = ' ')\n",
    "    print()"
   ]
  },
  {
   "cell_type": "code",
   "execution_count": 15,
   "id": "76b46263",
   "metadata": {},
   "outputs": [
    {
     "name": "stdout",
     "output_type": "stream",
     "text": [
      "* \n",
      "* * \n",
      "* * * \n",
      "* * * * \n",
      "* * * * * \n"
     ]
    }
   ],
   "source": [
    "n = 5 \n",
    "for i in range(1,n+1):\n",
    "    for j in range(i):\n",
    "        print('*',end = ' ')\n",
    "    print()"
   ]
  },
  {
   "cell_type": "code",
   "execution_count": 16,
   "id": "ece60a80",
   "metadata": {},
   "outputs": [
    {
     "name": "stdout",
     "output_type": "stream",
     "text": [
      "* \n",
      "* * \n",
      "* * * \n",
      "* * * * \n",
      "* * * * * \n",
      "* * * * * * \n",
      "* * * * * * * \n",
      "* * * * * * * * \n",
      "* * * * * * * * * \n",
      "* * * * * * * * * * \n"
     ]
    }
   ],
   "source": [
    "n = 10 \n",
    "for i in range(1,n+1):\n",
    "    for j in range(i):\n",
    "        print('*',end = ' ')\n",
    "    print()"
   ]
  },
  {
   "cell_type": "code",
   "execution_count": 18,
   "id": "c56d6667",
   "metadata": {},
   "outputs": [
    {
     "name": "stdout",
     "output_type": "stream",
     "text": [
      "1 \n",
      "1 2 \n",
      "1 2 3 \n",
      "1 2 3 4 \n",
      "1 2 3 4 5 \n",
      "1 2 3 4 5 6 \n",
      "1 2 3 4 5 6 7 \n",
      "1 2 3 4 5 6 7 8 \n",
      "1 2 3 4 5 6 7 8 9 \n",
      "1 2 3 4 5 6 7 8 9 10 \n"
     ]
    }
   ],
   "source": [
    "n = 10 \n",
    "for i in range(1,n+1):\n",
    "    for j in range(1,i+1):\n",
    "        print(j,end = ' ')\n",
    "    print()"
   ]
  },
  {
   "cell_type": "code",
   "execution_count": 19,
   "id": "dcca0527",
   "metadata": {},
   "outputs": [
    {
     "name": "stdout",
     "output_type": "stream",
     "text": [
      "1 \n",
      "2 2 \n",
      "3 3 3 \n",
      "4 4 4 4 \n",
      "5 5 5 5 5 \n",
      "6 6 6 6 6 6 \n",
      "7 7 7 7 7 7 7 \n",
      "8 8 8 8 8 8 8 8 \n",
      "9 9 9 9 9 9 9 9 9 \n",
      "10 10 10 10 10 10 10 10 10 10 \n"
     ]
    }
   ],
   "source": [
    "n = 10 \n",
    "for i in range(1,n+1):\n",
    "    for j in range(1,i+1):\n",
    "        print(i,end = ' ')\n",
    "    print()"
   ]
  },
  {
   "cell_type": "code",
   "execution_count": 20,
   "id": "dbd3856a",
   "metadata": {},
   "outputs": [
    {
     "name": "stdout",
     "output_type": "stream",
     "text": [
      "B B B B B \n",
      "B B B B B \n",
      "B B B B B \n",
      "B B B B B \n",
      "B B B B B \n"
     ]
    }
   ],
   "source": [
    "n=5\n",
    "for i in range(n):\n",
    "#     print(f\"i == {i}\")\n",
    "    for j in range(n):\n",
    "        print('B',end = ' ')\n",
    "    print()"
   ]
  },
  {
   "cell_type": "code",
   "execution_count": 21,
   "id": "58f86aa0",
   "metadata": {},
   "outputs": [
    {
     "data": {
      "text/plain": [
       "'A'"
      ]
     },
     "execution_count": 21,
     "metadata": {},
     "output_type": "execute_result"
    }
   ],
   "source": [
    "chr(65)"
   ]
  },
  {
   "cell_type": "code",
   "execution_count": 22,
   "id": "ac8e8331",
   "metadata": {},
   "outputs": [
    {
     "data": {
      "text/plain": [
       "'B'"
      ]
     },
     "execution_count": 22,
     "metadata": {},
     "output_type": "execute_result"
    }
   ],
   "source": [
    "chr(66)"
   ]
  },
  {
   "cell_type": "code",
   "execution_count": null,
   "id": "cdb14371",
   "metadata": {},
   "outputs": [],
   "source": [
    "A >>> 65\n",
    "Z >>> 90\n",
    "\n",
    "a >>> 97\n",
    "z >>> 122"
   ]
  },
  {
   "cell_type": "code",
   "execution_count": 23,
   "id": "c5acaa60",
   "metadata": {},
   "outputs": [
    {
     "data": {
      "text/plain": [
       "'z'"
      ]
     },
     "execution_count": 23,
     "metadata": {},
     "output_type": "execute_result"
    }
   ],
   "source": [
    "chr(122)"
   ]
  },
  {
   "cell_type": "code",
   "execution_count": 24,
   "id": "c513d5d9",
   "metadata": {},
   "outputs": [
    {
     "data": {
      "text/plain": [
       "'d'"
      ]
     },
     "execution_count": 24,
     "metadata": {},
     "output_type": "execute_result"
    }
   ],
   "source": [
    "chr(100)"
   ]
  },
  {
   "cell_type": "code",
   "execution_count": 25,
   "id": "57050050",
   "metadata": {},
   "outputs": [
    {
     "name": "stdout",
     "output_type": "stream",
     "text": [
      "a a a a a \n",
      "a a a a a \n",
      "a a a a a \n",
      "a a a a a \n",
      "a a a a a \n"
     ]
    }
   ],
   "source": [
    "n=5\n",
    "for i in range(n):\n",
    "#     print(f\"i == {i}\")\n",
    "    for j in range(n):\n",
    "        print(chr(97),end = ' ')\n",
    "    print()"
   ]
  },
  {
   "cell_type": "code",
   "execution_count": 26,
   "id": "e3a0ba65",
   "metadata": {},
   "outputs": [
    {
     "name": "stdout",
     "output_type": "stream",
     "text": [
      "A A A A A \n",
      "A A A A A \n",
      "A A A A A \n",
      "A A A A A \n",
      "A A A A A \n"
     ]
    }
   ],
   "source": [
    "n=5\n",
    "for i in range(n):\n",
    "#     print(f\"i == {i}\")\n",
    "    for j in range(n):\n",
    "        print(chr(65),end = ' ')\n",
    "    print()"
   ]
  },
  {
   "cell_type": "code",
   "execution_count": 27,
   "id": "af2d78e4",
   "metadata": {},
   "outputs": [
    {
     "name": "stdout",
     "output_type": "stream",
     "text": [
      "A B C D E \n",
      "F G H I J \n",
      "K L M N O \n",
      "P Q R S T \n",
      "U V W X Y \n"
     ]
    }
   ],
   "source": [
    "n=5\n",
    "x =  65\n",
    "for i in range(n):\n",
    "#     print(f\"i == {i}\")\n",
    "    for j in range(n):\n",
    "        print(chr(x),end = ' ')\n",
    "        x = x+1\n",
    "    print()"
   ]
  },
  {
   "cell_type": "code",
   "execution_count": 28,
   "id": "ce5cc706",
   "metadata": {},
   "outputs": [
    {
     "name": "stdout",
     "output_type": "stream",
     "text": [
      "A \n",
      "B C \n",
      "D E F \n",
      "G H I J \n",
      "K L M N O \n"
     ]
    }
   ],
   "source": [
    "n=5\n",
    "x =  65\n",
    "for i in range(1, n+1):\n",
    "#     print(f\"i == {i}\")\n",
    "    for j in range(i):\n",
    "        print(chr(x),end = ' ')\n",
    "        x = x+1\n",
    "    print()"
   ]
  },
  {
   "cell_type": "code",
   "execution_count": 30,
   "id": "72e0f1aa",
   "metadata": {},
   "outputs": [
    {
     "name": "stdout",
     "output_type": "stream",
     "text": [
      "A \n",
      "B C \n",
      "D E F \n",
      "G H I J \n",
      "K L M N O \n",
      "P Q R S T U \n"
     ]
    }
   ],
   "source": [
    "n= 6\n",
    "x =  65\n",
    "for i in range(1, n+1):\n",
    "#     print(f\"i == {i}\")\n",
    "    for j in range(i):\n",
    "        print(chr(x),end = ' ')\n",
    "        x = x+1\n",
    "    print()"
   ]
  },
  {
   "cell_type": "code",
   "execution_count": 33,
   "id": "6897d1ef",
   "metadata": {},
   "outputs": [
    {
     "name": "stdout",
     "output_type": "stream",
     "text": [
      "a \n",
      "b c \n",
      "d e f \n",
      "g h i j \n",
      "k l m n o \n",
      "p q r s t u \n"
     ]
    }
   ],
   "source": [
    "n= 6\n",
    "x =  97\n",
    "for i in range(1, n+1):\n",
    "#     print(f\"i == {i}\")\n",
    "    for j in range(i):\n",
    "        print(chr(x),end = ' ')\n",
    "        x = x+1\n",
    "    print()"
   ]
  },
  {
   "cell_type": "code",
   "execution_count": 34,
   "id": "0ec9e679",
   "metadata": {},
   "outputs": [
    {
     "name": "stdout",
     "output_type": "stream",
     "text": [
      "* \n",
      "* * \n",
      "* * * \n",
      "* * * * \n",
      "* * * * * \n"
     ]
    }
   ],
   "source": [
    "n = 5 \n",
    "for i in range(1,n+1):\n",
    "    for j in range(i):\n",
    "        print('*',end = ' ')\n",
    "    print()"
   ]
  },
  {
   "cell_type": "markdown",
   "id": "87812c60",
   "metadata": {},
   "source": [
    "* * * * *\n",
    "* * * *\n",
    "* * *\n",
    "* *\n",
    "*"
   ]
  },
  {
   "cell_type": "code",
   "execution_count": 35,
   "id": "b5b2e83e",
   "metadata": {},
   "outputs": [
    {
     "name": "stdout",
     "output_type": "stream",
     "text": [
      "* * * * * \n",
      "* * * * \n",
      "* * * \n",
      "* * \n",
      "* \n"
     ]
    }
   ],
   "source": [
    "n =5\n",
    "for i in range(n,0,-1):\n",
    "    for j in range(i):\n",
    "        print('*', end = ' ')\n",
    "    print()"
   ]
  },
  {
   "cell_type": "code",
   "execution_count": 36,
   "id": "00ceabc1",
   "metadata": {},
   "outputs": [
    {
     "name": "stdout",
     "output_type": "stream",
     "text": [
      "5 5 5 5 5 \n",
      "4 4 4 4 \n",
      "3 3 3 \n",
      "2 2 \n",
      "1 \n"
     ]
    }
   ],
   "source": [
    "n =5\n",
    "for i in range(n,0,-1):\n",
    "    for j in range(i):\n",
    "        print(i, end = ' ')\n",
    "    print()"
   ]
  },
  {
   "cell_type": "code",
   "execution_count": 37,
   "id": "6f0b7b56",
   "metadata": {},
   "outputs": [
    {
     "name": "stdout",
     "output_type": "stream",
     "text": [
      "A B C D E \n",
      "F G H I \n",
      "J K L \n",
      "M N \n",
      "O \n"
     ]
    }
   ],
   "source": [
    "n =5\n",
    "x =65\n",
    "for i in range(n,0,-1):\n",
    "    for j in range(i):\n",
    "        print(chr(x), end = ' ')\n",
    "        x = x +1\n",
    "    print()"
   ]
  },
  {
   "cell_type": "raw",
   "id": "3ba230cf",
   "metadata": {},
   "source": [
    "    *\n",
    "   **\n",
    "  ***\n",
    " ****\n",
    "*****\n",
    "   "
   ]
  },
  {
   "cell_type": "code",
   "execution_count": 38,
   "id": "b4c5bddc",
   "metadata": {},
   "outputs": [
    {
     "name": "stdout",
     "output_type": "stream",
     "text": [
      "    *\n",
      "   **\n",
      "  ***\n",
      " ****\n",
      "*****\n"
     ]
    }
   ],
   "source": [
    "n =5\n",
    "for i in range(1,n+1):\n",
    "    print(\" \" * (n-i) + '*' * i)"
   ]
  },
  {
   "cell_type": "code",
   "execution_count": 41,
   "id": "07198a08",
   "metadata": {},
   "outputs": [
    {
     "name": "stdout",
     "output_type": "stream",
     "text": [
      "         *\n",
      "        **\n",
      "       ***\n",
      "      ****\n",
      "     *****\n",
      "    ******\n",
      "   *******\n",
      "  ********\n",
      " *********\n",
      "**********\n"
     ]
    }
   ],
   "source": [
    "n = 10\n",
    "for i in range(1,n+1):\n",
    "    print(\" \" * (n-i) + '*' * i)"
   ]
  },
  {
   "cell_type": "code",
   "execution_count": null,
   "id": "e0e6bf19",
   "metadata": {},
   "outputs": [],
   "source": [
    "    *\n",
    "   * *\n",
    "  * * *\n"
   ]
  },
  {
   "cell_type": "code",
   "execution_count": 47,
   "id": "382d75ad",
   "metadata": {},
   "outputs": [
    {
     "name": "stdout",
     "output_type": "stream",
     "text": [
      "    *\n",
      "   ***\n",
      "  *****\n",
      " *******\n",
      "*********\n"
     ]
    }
   ],
   "source": [
    "n =5\n",
    "for i in range(1,n+1):\n",
    "    print(\" \" * (n-i) + '*' * (i*2-1))"
   ]
  },
  {
   "cell_type": "code",
   "execution_count": null,
   "id": "b9de5133",
   "metadata": {},
   "outputs": [],
   "source": [
    "*\n",
    "* *\n",
    "* * *\n",
    "* *\n",
    "*\n"
   ]
  },
  {
   "cell_type": "code",
   "execution_count": 52,
   "id": "5230ea54",
   "metadata": {},
   "outputs": [
    {
     "name": "stdout",
     "output_type": "stream",
     "text": [
      "* \n",
      "* * \n",
      "* * * \n",
      "* * * * \n",
      "* * * * * \n",
      "* * * * \n",
      "* * * \n",
      "* * \n",
      "* \n"
     ]
    }
   ],
   "source": [
    "n =5 \n",
    "for i in range(1,n+1):\n",
    "    for j in range(i):\n",
    "        print('*', end = ' ')\n",
    "    print()\n",
    "    \n",
    "for i in range (n-1,0,-1):\n",
    "    for j in range(i):\n",
    "        print('*',end = ' ')\n",
    "    print()"
   ]
  },
  {
   "cell_type": "code",
   "execution_count": 50,
   "id": "e7ab6719",
   "metadata": {},
   "outputs": [
    {
     "name": "stdout",
     "output_type": "stream",
     "text": [
      "A \n",
      "B C \n",
      "D E F \n",
      "G H I J \n",
      "K L M N O \n",
      "P Q R S \n",
      "T U V \n",
      "W X \n",
      "Y \n"
     ]
    }
   ],
   "source": [
    "n =5 \n",
    "x =65\n",
    "for i in range(1,n+1):\n",
    "    for j in range(i):\n",
    "        print(chr(x), end = ' ')\n",
    "        x = x +1\n",
    "    print()\n",
    "    \n",
    "for i in range (n-1,0,-1):\n",
    "    for j in range(i):\n",
    "        print(chr(x),end = ' ')\n",
    "        x = x +1\n",
    "    print()"
   ]
  },
  {
   "cell_type": "code",
   "execution_count": null,
   "id": "139da13f",
   "metadata": {},
   "outputs": [],
   "source": []
  }
 ],
 "metadata": {
  "kernelspec": {
   "display_name": "Python 3",
   "language": "python",
   "name": "python3"
  },
  "language_info": {
   "codemirror_mode": {
    "name": "ipython",
    "version": 3
   },
   "file_extension": ".py",
   "mimetype": "text/x-python",
   "name": "python",
   "nbconvert_exporter": "python",
   "pygments_lexer": "ipython3",
   "version": "3.8.8"
  }
 },
 "nbformat": 4,
 "nbformat_minor": 5
}
