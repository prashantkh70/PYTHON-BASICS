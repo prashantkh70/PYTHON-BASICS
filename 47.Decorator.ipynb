{
 "cells": [
  {
   "cell_type": "markdown",
   "id": "6b51f8e5",
   "metadata": {},
   "source": [
    "# Decorator"
   ]
  },
  {
   "cell_type": "code",
   "execution_count": null,
   "id": "04bb40b3",
   "metadata": {},
   "outputs": [],
   "source": [
    "@my_decorator    >> decorator"
   ]
  },
  {
   "cell_type": "code",
   "execution_count": null,
   "id": "962f3973",
   "metadata": {},
   "outputs": [],
   "source": [
    "function \n",
    "special function or first class function\n"
   ]
  },
  {
   "cell_type": "code",
   "execution_count": null,
   "id": "6aba9d87",
   "metadata": {},
   "outputs": [],
   "source": [
    "Properties of first class function:\n",
    "    function is an instance of the object type\n",
    "    function can be stored into variable\n",
    "    pass the function as a argument/parameter for another function\n",
    "    we can return the function from function"
   ]
  },
  {
   "cell_type": "code",
   "execution_count": null,
   "id": "af33f924",
   "metadata": {},
   "outputs": [],
   "source": []
  },
  {
   "cell_type": "code",
   "execution_count": 2,
   "id": "e9f8d696",
   "metadata": {},
   "outputs": [
    {
     "name": "stdout",
     "output_type": "stream",
     "text": [
      "This is my function\n",
      "hello\n"
     ]
    }
   ],
   "source": [
    "def MyFun():\n",
    "    print(\"This is my function\")\n",
    "    return \"hello\"\n",
    "a =MyFun()\n",
    "print(a)"
   ]
  },
  {
   "cell_type": "code",
   "execution_count": 3,
   "id": "f25b6f15",
   "metadata": {},
   "outputs": [
    {
     "name": "stdout",
     "output_type": "stream",
     "text": [
      "This is my function\n",
      "hello\n"
     ]
    }
   ],
   "source": [
    "def MyFun():\n",
    "    print(\"This is my function\")\n",
    "    return \"hello\"\n",
    "a =MyFun()\n",
    "del MyFun\n",
    "print(a)"
   ]
  },
  {
   "cell_type": "code",
   "execution_count": 8,
   "id": "161ccbb2",
   "metadata": {},
   "outputs": [
    {
     "name": "stdout",
     "output_type": "stream",
     "text": [
      "0\n",
      "1\n",
      "2\n",
      "3\n",
      "4\n",
      "5\n",
      "6\n",
      "7\n",
      "8\n",
      "9\n"
     ]
    },
    {
     "data": {
      "text/plain": [
       "0.0019960403442382812"
      ]
     },
     "execution_count": 8,
     "metadata": {},
     "output_type": "execute_result"
    }
   ],
   "source": [
    " import time\n",
    "def test():\n",
    "    start_time = time.time()\n",
    "    for i in range(10):\n",
    "        print(i)\n",
    "        \n",
    "    end_time = time.time()\n",
    "    total_time = end_time - start_time\n",
    "    return total_time\n",
    "test()"
   ]
  },
  {
   "cell_type": "code",
   "execution_count": 9,
   "id": "cce2d61e",
   "metadata": {},
   "outputs": [
    {
     "name": "stdout",
     "output_type": "stream",
     "text": [
      "outer function\n"
     ]
    },
    {
     "data": {
      "text/plain": [
       "'Success'"
      ]
     },
     "execution_count": 9,
     "metadata": {},
     "output_type": "execute_result"
    }
   ],
   "source": [
    "def outer_function():\n",
    "    print(\"outer function\")\n",
    "    return \"Success\"\n",
    "\n",
    "x = outer_function()\n",
    "x"
   ]
  },
  {
   "cell_type": "code",
   "execution_count": 10,
   "id": "63235631",
   "metadata": {},
   "outputs": [
    {
     "name": "stdout",
     "output_type": "stream",
     "text": [
      "outer function\n"
     ]
    },
    {
     "data": {
      "text/plain": [
       "1000"
      ]
     },
     "execution_count": 10,
     "metadata": {},
     "output_type": "execute_result"
    }
   ],
   "source": [
    "def outer_function():\n",
    "    print(\"outer function\")\n",
    "    return 1000\n",
    "\n",
    "x = outer_function()\n",
    "x"
   ]
  },
  {
   "cell_type": "code",
   "execution_count": 12,
   "id": "c1e20c2d",
   "metadata": {},
   "outputs": [
    {
     "name": "stdout",
     "output_type": "stream",
     "text": [
      "outer function\n"
     ]
    },
    {
     "data": {
      "text/plain": [
       "1000"
      ]
     },
     "execution_count": 12,
     "metadata": {},
     "output_type": "execute_result"
    }
   ],
   "source": [
    "def outer_function():\n",
    "    print(\"outer function\")\n",
    "    def inner_function():\n",
    "        print(\"Inner Function\")\n",
    "        \n",
    "    return 1000\n",
    "\n",
    "x = outer_function()\n",
    "x"
   ]
  },
  {
   "cell_type": "code",
   "execution_count": 13,
   "id": "5dd239a5",
   "metadata": {},
   "outputs": [
    {
     "name": "stdout",
     "output_type": "stream",
     "text": [
      "outer function\n",
      "Inner Function\n"
     ]
    },
    {
     "data": {
      "text/plain": [
       "1000"
      ]
     },
     "execution_count": 13,
     "metadata": {},
     "output_type": "execute_result"
    }
   ],
   "source": [
    "def outer_function():\n",
    "    print(\"outer function\")\n",
    "    def inner_function():\n",
    "        print(\"Inner Function\")\n",
    "    inner_function() \n",
    "    return 1000\n",
    "\n",
    "x = outer_function()\n",
    "x"
   ]
  },
  {
   "cell_type": "code",
   "execution_count": 15,
   "id": "96ced4a9",
   "metadata": {},
   "outputs": [
    {
     "name": "stdout",
     "output_type": "stream",
     "text": [
      "outer function\n",
      "Inner Function\n"
     ]
    },
    {
     "data": {
      "text/plain": [
       "2000"
      ]
     },
     "execution_count": 15,
     "metadata": {},
     "output_type": "execute_result"
    }
   ],
   "source": [
    "def outer_function():\n",
    "    print(\"outer function\")\n",
    "    def inner_function():\n",
    "        print(\"Inner Function\")\n",
    "        return 2000\n",
    "    \n",
    "    return inner_function()   #2000\n",
    "\n",
    "x = outer_function()\n",
    "x"
   ]
  },
  {
   "cell_type": "code",
   "execution_count": 16,
   "id": "97c0fd58",
   "metadata": {},
   "outputs": [
    {
     "name": "stdout",
     "output_type": "stream",
     "text": [
      "outer function\n",
      "Inner Function\n",
      "2000\n"
     ]
    },
    {
     "data": {
      "text/plain": [
       "1000"
      ]
     },
     "execution_count": 16,
     "metadata": {},
     "output_type": "execute_result"
    }
   ],
   "source": [
    "def outer_function():\n",
    "    print(\"outer function\")\n",
    "    def inner_function():\n",
    "        print(\"Inner Function\")\n",
    "        return 2000\n",
    "    a = inner_function()\n",
    "    print(a)\n",
    "    \n",
    "    return 1000  \n",
    "\n",
    "x = outer_function()\n",
    "x"
   ]
  },
  {
   "cell_type": "code",
   "execution_count": 19,
   "id": "b7de8712",
   "metadata": {},
   "outputs": [
    {
     "name": "stdout",
     "output_type": "stream",
     "text": [
      "outer function\n",
      "Inner Function\n",
      "2000\n"
     ]
    },
    {
     "ename": "NameError",
     "evalue": "name 'inner_function' is not defined",
     "output_type": "error",
     "traceback": [
      "\u001b[1;31m---------------------------------------------------------------------------\u001b[0m",
      "\u001b[1;31mNameError\u001b[0m                                 Traceback (most recent call last)",
      "\u001b[1;32m<ipython-input-19-2234d7d87c2c>\u001b[0m in \u001b[0;36m<module>\u001b[1;34m\u001b[0m\n\u001b[0;32m     10\u001b[0m     \u001b[1;32mreturn\u001b[0m \u001b[1;36m1000\u001b[0m\u001b[1;33m\u001b[0m\u001b[1;33m\u001b[0m\u001b[0m\n\u001b[0;32m     11\u001b[0m \u001b[0mouter_function\u001b[0m\u001b[1;33m(\u001b[0m\u001b[1;33m)\u001b[0m\u001b[1;33m\u001b[0m\u001b[1;33m\u001b[0m\u001b[0m\n\u001b[1;32m---> 12\u001b[1;33m \u001b[0minner_function\u001b[0m\u001b[1;33m(\u001b[0m\u001b[1;33m)\u001b[0m\u001b[1;33m\u001b[0m\u001b[1;33m\u001b[0m\u001b[0m\n\u001b[0m\u001b[0;32m     13\u001b[0m \u001b[0mx1\u001b[0m\u001b[1;33m\u001b[0m\u001b[1;33m\u001b[0m\u001b[0m\n",
      "\u001b[1;31mNameError\u001b[0m: name 'inner_function' is not defined"
     ]
    }
   ],
   "source": [
    "def outer_function():\n",
    "    print(\"outer function\")\n",
    "    x1 = 200\n",
    "    def inner_function():\n",
    "        print(\"Inner Function\")\n",
    "        return 2000\n",
    "    a = inner_function()\n",
    "    print(a)\n",
    "    \n",
    "    return 1000 \n",
    "outer_function()\n",
    "inner_function()\n",
    "x1"
   ]
  },
  {
   "cell_type": "code",
   "execution_count": 20,
   "id": "60c3f0c5",
   "metadata": {},
   "outputs": [
    {
     "name": "stdout",
     "output_type": "stream",
     "text": [
      "outer function\n",
      "Inner Function\n",
      "2000\n"
     ]
    }
   ],
   "source": [
    "def outer_function():\n",
    "    print(\"outer function\")\n",
    "    x1 = 200\n",
    "    def inner_function():\n",
    "        print(\"Inner Function\")\n",
    "        return 2000\n",
    "    a = inner_function()\n",
    "    print(a)\n",
    "    \n",
    "    return 1000 \n",
    "x =outer_function()"
   ]
  },
  {
   "cell_type": "code",
   "execution_count": 22,
   "id": "a2a98523",
   "metadata": {},
   "outputs": [
    {
     "name": "stdout",
     "output_type": "stream",
     "text": [
      "outer function\n",
      "Inner Function\n",
      "2000\n"
     ]
    },
    {
     "data": {
      "text/plain": [
       "1000"
      ]
     },
     "execution_count": 22,
     "metadata": {},
     "output_type": "execute_result"
    }
   ],
   "source": [
    "def outer_function():\n",
    "    print(\"outer function\")\n",
    "    x1 = 200\n",
    "    def inner_function():\n",
    "        print(\"Inner Function\")\n",
    "        return 2000\n",
    "    a = inner_function()\n",
    "    print(a)\n",
    "    \n",
    "    return 1000 \n",
    "x =outer_function()\n",
    "x"
   ]
  },
  {
   "cell_type": "code",
   "execution_count": 23,
   "id": "6f263704",
   "metadata": {},
   "outputs": [
    {
     "name": "stdout",
     "output_type": "stream",
     "text": [
      "outer function\n",
      "Inner Function\n",
      "value of variable a is : 100\n",
      "end of Inner Function\n"
     ]
    }
   ],
   "source": [
    "def outer_function():\n",
    "    print(\"outer function\")\n",
    "    \n",
    "    def inner_function(a=100):\n",
    "        print(\"Inner Function\")\n",
    "        print(\"value of variable a is :\",a)\n",
    "        print(\"end of Inner Function\")\n",
    "    \n",
    "    return inner_function() \n",
    "x =outer_function()\n",
    "x"
   ]
  },
  {
   "cell_type": "code",
   "execution_count": 25,
   "id": "d5bed578",
   "metadata": {},
   "outputs": [
    {
     "name": "stdout",
     "output_type": "stream",
     "text": [
      "outer function\n",
      "Inner Function\n",
      "value of variable a is : 100\n",
      "end of Inner Function\n"
     ]
    }
   ],
   "source": [
    "def outer_function():\n",
    "    print(\"outer function\")\n",
    "    \n",
    "    def inner_function(a=100):\n",
    "        print(\"Inner Function\")\n",
    "        print(\"value of variable a is :\",a)\n",
    "        print(\"end of Inner Function\")\n",
    "    \n",
    "    return inner_function() \n",
    "x =outer_function()\n",
    "x"
   ]
  },
  {
   "cell_type": "code",
   "execution_count": 26,
   "id": "dede5d0e",
   "metadata": {},
   "outputs": [
    {
     "name": "stdout",
     "output_type": "stream",
     "text": [
      "outer function\n",
      "******************************\n",
      "Inner Function\n",
      "value of variable a is : 100\n",
      "end of Inner Function\n"
     ]
    }
   ],
   "source": [
    "def outer_function():\n",
    "    print(\"outer function\")\n",
    "    \n",
    "    def inner_function(a=100):\n",
    "        print(\"Inner Function\")\n",
    "        print(\"value of variable a is :\",a)\n",
    "        print(\"end of Inner Function\")\n",
    "    print(\"*\"*30)\n",
    "    return inner_function() \n",
    "x =outer_function()\n",
    "x"
   ]
  },
  {
   "cell_type": "code",
   "execution_count": 27,
   "id": "0f339583",
   "metadata": {},
   "outputs": [
    {
     "name": "stdout",
     "output_type": "stream",
     "text": [
      "outer function\n",
      "******************************\n",
      "Inner Function\n",
      "value of variable a is : 100\n",
      "end of Inner Function\n"
     ]
    }
   ],
   "source": [
    "def hello_decorator(func):    # higher order function   func>> my_fun\n",
    "    print(\"outer function\")\n",
    "    \n",
    "    def inner_function(a=100):\n",
    "        print(\"Inner Function\")\n",
    "        print(\"value of variable a is :\",a)\n",
    "        print(\"end of Inner Function\")\n",
    "    print(\"*\"*30)\n",
    "    return inner_function()\n",
    "\n",
    "def my_fun():\n",
    "    print(\"We are testing decorators\")\n",
    "\n",
    "    \n",
    "x = hello_decorator(my_fun)\n",
    "x"
   ]
  },
  {
   "cell_type": "code",
   "execution_count": 7,
   "id": "445a5b58",
   "metadata": {},
   "outputs": [
    {
     "name": "stdout",
     "output_type": "stream",
     "text": [
      "outer function\n",
      "Inner Function\n",
      "value of variable a is :\n",
      "end of Inner Function\n",
      "******************************\n",
      "We are testing decorators\n"
     ]
    }
   ],
   "source": [
    "def hello_decorator(func):    # higher order function   func>> my_fun\n",
    "    print(\"outer function\")\n",
    "    \n",
    "    def inner_function():\n",
    "        print(\"Inner Function\")\n",
    "        print(\"value of variable a is :\")\n",
    "        print(\"end of Inner Function\")\n",
    "        print(\"*\"*30)\n",
    "        func()\n",
    "        \n",
    "    return inner_function\n",
    "\n",
    "@hello_decorator\n",
    "def my_fun():\n",
    "    print(\"We are testing decorators\")\n",
    "\n",
    "    \n",
    "my_fun()\n"
   ]
  },
  {
   "cell_type": "code",
   "execution_count": 34,
   "id": "25a449d7",
   "metadata": {},
   "outputs": [
    {
     "name": "stdout",
     "output_type": "stream",
     "text": [
      "$$$$$$$$$$$$$$$$$$$$$$$$$$$$$$\n",
      "******************************\n",
      "We are testing Decorators\n",
      "a is : 10, b is : 20, c is : 30\n",
      "******************************\n"
     ]
    }
   ],
   "source": [
    "def hello_decorator(func):   #func >>>  my_function\n",
    "    print('$'*30)\n",
    "    \n",
    "    def inner_fn():\n",
    "        print('*'*30)\n",
    "        func()              # my_function\n",
    "        print(\"*\"*30)\n",
    "    return inner_fn\n",
    "\n",
    "@hello_decorator   #hello_decorator(my_function)\n",
    "def my_function(a=10,b=20,c=30):\n",
    "    print(\"We are testing Decorators\")\n",
    "    print(f\"a is : {a}, b is : {b}, c is : {c}\")\n",
    "    \n",
    "my_function()"
   ]
  },
  {
   "cell_type": "code",
   "execution_count": null,
   "id": "ebee8eea",
   "metadata": {},
   "outputs": [],
   "source": [
    "input = [(1,3),(2,15),(5,6)]\n",
    "\n",
    "output = [4,17,11]"
   ]
  },
  {
   "cell_type": "code",
   "execution_count": 10,
   "id": "4bd7f766",
   "metadata": {},
   "outputs": [
    {
     "name": "stdout",
     "output_type": "stream",
     "text": [
      "[4, 17, 11]\n"
     ]
    }
   ],
   "source": [
    "def decorator_list(func):\n",
    "    def inner(list_of_tuples):\n",
    "        return [func(val[0],val[1]) for val in list_of_tuples]\n",
    "    return inner\n",
    "\n",
    "@decorator_list\n",
    "def add_together(a,b):\n",
    "    return a+b\n",
    "\n",
    "print(add_together([(1,3),(2,15),(5,6)]))"
   ]
  },
  {
   "cell_type": "code",
   "execution_count": 11,
   "id": "fa7b6ba7",
   "metadata": {},
   "outputs": [
    {
     "name": "stdout",
     "output_type": "stream",
     "text": [
      "[4, 17, 11, 25, 63]\n"
     ]
    }
   ],
   "source": [
    "def decorator_list(func):    #func >> add together\n",
    "    def inner(list_of_tuples):\n",
    "        return [func(val[0],val[1]) for val in list_of_tuples]\n",
    "    return inner\n",
    "\n",
    "@decorator_list\n",
    "def add_together(a,b):\n",
    "    return a+b\n",
    "\n",
    "print(add_together([(1,3),(2,15),(5,6),(20,5),(55,8)]))"
   ]
  },
  {
   "cell_type": "markdown",
   "id": "22bfdb8b",
   "metadata": {},
   "source": [
    "### Time complexity of multiple function"
   ]
  },
  {
   "cell_type": "code",
   "execution_count": 12,
   "id": "07635efc",
   "metadata": {},
   "outputs": [
    {
     "name": "stdout",
     "output_type": "stream",
     "text": [
      "**************************************************\n",
      "factorial of 10 is 3628800\n",
      "Total time taken by function is :  0.0\n",
      "**************************************************\n"
     ]
    }
   ],
   "source": [
    "import time\n",
    "def calculate_time(fun):    # fun>> factorial\n",
    "    def inner_function(val):\n",
    "        print(\"*\"*50)            # 1st\n",
    "        start_time = time.time()\n",
    "        fun(val)           # 2nd    >>>f\"factorial of {num} is {fact}\"\n",
    "        total_time = time.time()-start_time\n",
    "        print(\"Total time taken by function is : \",total_time)   # 3rd\n",
    "        print(\"*\"*50)    # 4th\n",
    "    return inner_function\n",
    "\n",
    "@calculate_time\n",
    "def factorial(num):\n",
    "    fact =1\n",
    "    for i in range(1,num+1):\n",
    "        fact *= i\n",
    "    print(f\"factorial of {num} is {fact}\")     \n",
    "    \n",
    "    \n",
    "factorial(10)"
   ]
  },
  {
   "cell_type": "code",
   "execution_count": 14,
   "id": "826bbf88",
   "metadata": {},
   "outputs": [
    {
     "name": "stdout",
     "output_type": "stream",
     "text": [
      "**************************************************\n",
      "factorial of 50 is 30414093201713378043612608166064768844377641568960512000000000000\n",
      "Total time taken by function is :  0.0\n",
      "**************************************************\n"
     ]
    }
   ],
   "source": [
    "import time\n",
    "def calculate_time(fun):    # fun>> factorial\n",
    "    def inner_function(val):\n",
    "        print(\"*\"*50)            # 1st\n",
    "        start_time = time.time()\n",
    "        fun(val)           # 2nd    >>>f\"factorial of {num} is {fact}\"\n",
    "        end_time = time.time()\n",
    "        total_time = end_time - start_time\n",
    "        print(\"Total time taken by function is : \",total_time)   # 3rd\n",
    "        print(\"*\"*50)    # 4th\n",
    "    return inner_function\n",
    "\n",
    "@calculate_time\n",
    "def factorial(num):\n",
    "    fact =1\n",
    "    for i in range(1,num+1):\n",
    "        fact *= i\n",
    "    print(f\"factorial of {num} is {fact}\")     \n",
    "    \n",
    "    \n",
    "factorial(50)"
   ]
  },
  {
   "cell_type": "code",
   "execution_count": 16,
   "id": "21866476",
   "metadata": {},
   "outputs": [
    {
     "name": "stdout",
     "output_type": "stream",
     "text": [
      "**************************************************\n",
      "Total time taken by function is :  0.9744157791137695\n",
      "**************************************************\n"
     ]
    }
   ],
   "source": [
    "import time\n",
    "def calculate_time(fun):    # fun>> factorial\n",
    "    def inner_function(val):\n",
    "        print(\"*\"*50)            # 1st\n",
    "        start_time = time.time()\n",
    "        fun(val)           # 2nd    >>>f\"factorial of {num} is {fact}\"\n",
    "        end_time = time.time()\n",
    "        total_time = end_time - start_time\n",
    "        print(\"Total time taken by function is : \",total_time)   # 3rd\n",
    "        print(\"*\"*50)    # 4th\n",
    "    return inner_function\n",
    "\n",
    "@calculate_time\n",
    "def factorial(num):\n",
    "    for i in range(30000000):\n",
    "        pass\n",
    "    \n",
    "    \n",
    "factorial(20)"
   ]
  },
  {
   "cell_type": "code",
   "execution_count": 17,
   "id": "75f300d6",
   "metadata": {},
   "outputs": [
    {
     "name": "stdout",
     "output_type": "stream",
     "text": [
      "**************************************************\n",
      "cube list:  [0, 1, 8, 27, 64, 125, 216, 343, 512, 729]\n",
      "Total time taken by function is :  0.0\n",
      "**************************************************\n",
      "**************************************************\n",
      "Square list:  [0, 1, 4, 9, 16, 25, 36, 49, 64, 81]\n",
      "Total time taken by function is :  0.0\n",
      "**************************************************\n",
      "**************************************************\n",
      "Factorial of 5 is 120\n",
      "Total time taken by function is :  0.0\n",
      "**************************************************\n"
     ]
    }
   ],
   "source": [
    "import time\n",
    "def calculate_time(fun):    \n",
    "    def inner_function(val):\n",
    "        print(\"*\"*50)            # 1st\n",
    "        start_time = time.time()\n",
    "        fun(val)           # 2nd \n",
    "        end_time = time.time()\n",
    "        total_time = end_time - start_time\n",
    "        print(\"Total time taken by function is : \",total_time)   # 3rd\n",
    "        print(\"*\"*50)    # 4th\n",
    "    return inner_function\n",
    "\n",
    "@calculate_time\n",
    "def cube(num):\n",
    "    cube_list = [i**3 for i in range(num)]\n",
    "    print(\"cube list: \",cube_list)\n",
    "cube(10)    \n",
    "\n",
    "@calculate_time\n",
    "def square(num):\n",
    "    sqr_list = [i**2 for i in range (num)]\n",
    "    print(\"Square list: \",sqr_list)\n",
    "square(10)\n",
    "\n",
    "@calculate_time\n",
    "def factorial_of_num(num):\n",
    "    fact = 1\n",
    "    for i in range(1,num+1):\n",
    "        fact *= i\n",
    "    print(f\"Factorial of {num} is {fact}\") \n",
    "factorial_of_num(5)"
   ]
  },
  {
   "cell_type": "code",
   "execution_count": 18,
   "id": "299cd0c6",
   "metadata": {},
   "outputs": [
    {
     "name": "stdout",
     "output_type": "stream",
     "text": [
      "**************************************************\n",
      "cube list:  [0, 1, 8, 27, 64, 125, 216, 343, 512, 729]\n",
      "Total time taken by function is :  3.013275623321533\n",
      "**************************************************\n",
      "**************************************************\n",
      "Square list:  [0, 1, 4, 9, 16, 25, 36, 49, 64, 81]\n",
      "Total time taken by function is :  3.0118942260742188\n",
      "**************************************************\n",
      "**************************************************\n",
      "Factorial of 5 is 120\n",
      "Total time taken by function is :  3.015378713607788\n",
      "**************************************************\n"
     ]
    }
   ],
   "source": [
    "import time\n",
    "def calculate_time(fun):    \n",
    "    def inner_function(val):\n",
    "        print(\"*\"*50)            # 1st\n",
    "        start_time = time.time()\n",
    "        time.sleep(3)\n",
    "        fun(val)           # 2nd \n",
    "        end_time = time.time()\n",
    "        total_time = end_time - start_time\n",
    "        print(\"Total time taken by function is : \",total_time)   # 3rd\n",
    "        print(\"*\"*50)    # 4th\n",
    "    return inner_function\n",
    "\n",
    "@calculate_time\n",
    "def cube(num):\n",
    "    cube_list = [i**3 for i in range(num)]\n",
    "    print(\"cube list: \",cube_list)\n",
    "cube(10)    \n",
    "\n",
    "@calculate_time\n",
    "def square(num):\n",
    "    sqr_list = [i**2 for i in range (num)]\n",
    "    print(\"Square list: \",sqr_list)\n",
    "square(10)\n",
    "\n",
    "@calculate_time\n",
    "def factorial_of_num(num):\n",
    "    fact = 1\n",
    "    for i in range(1,num+1):\n",
    "        fact *= i\n",
    "    print(f\"Factorial of {num} is {fact}\") \n",
    "factorial_of_num(5)"
   ]
  },
  {
   "cell_type": "code",
   "execution_count": 19,
   "id": "57bd0785",
   "metadata": {},
   "outputs": [
    {
     "name": "stdout",
     "output_type": "stream",
     "text": [
      "**************************************************\n",
      "cube list:  [0, 1, 8, 27, 64, 125, 216, 343, 512, 729]\n",
      "Total time taken by function is :  5.008606910705566\n",
      "**************************************************\n",
      "**************************************************\n",
      "Square list:  [0, 1, 4, 9, 16, 25, 36, 49, 64, 81]\n",
      "Total time taken by function is :  5.000850677490234\n",
      "**************************************************\n",
      "**************************************************\n",
      "Factorial of 5 is 120\n",
      "Total time taken by function is :  5.008786916732788\n",
      "**************************************************\n"
     ]
    }
   ],
   "source": [
    "import time\n",
    "def calculate_time(fun):    \n",
    "    def inner_function(val):\n",
    "        print(\"*\"*50)            # 1st\n",
    "        start_time = time.time()\n",
    "        time.sleep(5)\n",
    "        fun(val)           # 2nd \n",
    "        end_time = time.time()\n",
    "        total_time = end_time - start_time\n",
    "        print(\"Total time taken by function is : \",total_time)   # 3rd\n",
    "        print(\"*\"*50)    # 4th\n",
    "    return inner_function\n",
    "\n",
    "@calculate_time\n",
    "def cube(num):\n",
    "    cube_list = [i**3 for i in range(num)]\n",
    "    print(\"cube list: \",cube_list)\n",
    "cube(10)    \n",
    "\n",
    "@calculate_time\n",
    "def square(num):\n",
    "    sqr_list = [i**2 for i in range (num)]\n",
    "    print(\"Square list: \",sqr_list)\n",
    "square(10)\n",
    "\n",
    "@calculate_time\n",
    "def factorial_of_num(num):\n",
    "    fact = 1\n",
    "    for i in range(1,num+1):\n",
    "        fact *= i\n",
    "    print(f\"Factorial of {num} is {fact}\") \n",
    "factorial_of_num(5)"
   ]
  },
  {
   "cell_type": "code",
   "execution_count": null,
   "id": "a5048d7b",
   "metadata": {},
   "outputs": [],
   "source": []
  }
 ],
 "metadata": {
  "kernelspec": {
   "display_name": "Python 3",
   "language": "python",
   "name": "python3"
  },
  "language_info": {
   "codemirror_mode": {
    "name": "ipython",
    "version": 3
   },
   "file_extension": ".py",
   "mimetype": "text/x-python",
   "name": "python",
   "nbconvert_exporter": "python",
   "pygments_lexer": "ipython3",
   "version": "3.8.8"
  }
 },
 "nbformat": 4,
 "nbformat_minor": 5
}
