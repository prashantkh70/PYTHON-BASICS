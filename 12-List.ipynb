{
 "cells": [
  {
   "cell_type": "markdown",
   "id": "2aa4bbc7",
   "metadata": {},
   "source": [
    "# List"
   ]
  },
  {
   "cell_type": "code",
   "execution_count": null,
   "id": "539be722",
   "metadata": {},
   "outputs": [],
   "source": [
    "list is a collection of items\n",
    "we can add any datatypes in list\n",
    "datatypes>> int, float, str, complex, list, dict, tuple, frozenset, numpy array, pandas dataframes\n",
    "pandas series"
   ]
  },
  {
   "cell_type": "markdown",
   "id": "d1ba4a9b",
   "metadata": {},
   "source": [
    "### Properties of list data type"
   ]
  },
  {
   "cell_type": "code",
   "execution_count": null,
   "id": "a8abc0c0",
   "metadata": {},
   "outputs": [],
   "source": [
    "1. lists are mutable >> changaeble (add, delete,update)\n",
    "2. it is an ordered datatypes.\n",
    "3. Duplicate items are allowed.\n",
    "4. lists are enclosed by []\n",
    "5. list items are comma seperated"
   ]
  },
  {
   "cell_type": "code",
   "execution_count": null,
   "id": "f3629473",
   "metadata": {},
   "outputs": [],
   "source": [
    "Mutable >> we can change, add, remove items in list\n",
    "Ordered >> list items have a defined order and that order will not change\n",
    "Allow Duplicates >> since list are indexed, list can have items with same value"
   ]
  },
  {
   "cell_type": "code",
   "execution_count": 1,
   "id": "41e8be25",
   "metadata": {},
   "outputs": [
    {
     "data": {
      "text/plain": [
       "[1, 2, 2.3, 'python', 20, (2+5j)]"
      ]
     },
     "execution_count": 1,
     "metadata": {},
     "output_type": "execute_result"
    }
   ],
   "source": [
    "list1 = [1,2,2.3,'python',20,2+5j]\n",
    "list1"
   ]
  },
  {
   "cell_type": "code",
   "execution_count": 2,
   "id": "97f0de53",
   "metadata": {},
   "outputs": [
    {
     "data": {
      "text/plain": [
       "list"
      ]
     },
     "execution_count": 2,
     "metadata": {},
     "output_type": "execute_result"
    }
   ],
   "source": [
    "type(list1)"
   ]
  },
  {
   "cell_type": "code",
   "execution_count": 3,
   "id": "efa00c77",
   "metadata": {},
   "outputs": [
    {
     "data": {
      "text/plain": [
       "6"
      ]
     },
     "execution_count": 3,
     "metadata": {},
     "output_type": "execute_result"
    }
   ],
   "source": [
    "len(list1)"
   ]
  },
  {
   "cell_type": "code",
   "execution_count": 4,
   "id": "2d5180bb",
   "metadata": {},
   "outputs": [
    {
     "data": {
      "text/plain": [
       "[1, 2, 2.3, 'python', 20, (2+5j)]"
      ]
     },
     "execution_count": 4,
     "metadata": {},
     "output_type": "execute_result"
    }
   ],
   "source": [
    "list1 = [1,2,2.3,'python',20,2+5j]\n",
    "list1"
   ]
  },
  {
   "cell_type": "code",
   "execution_count": 5,
   "id": "8409b596",
   "metadata": {},
   "outputs": [
    {
     "data": {
      "text/plain": [
       "{(2+5j), 1, 2, 2.3, 20, 'python'}"
      ]
     },
     "execution_count": 5,
     "metadata": {},
     "output_type": "execute_result"
    }
   ],
   "source": [
    "set1 = {1,2,2.3,'python',20,2+5j}\n",
    "set1"
   ]
  },
  {
   "cell_type": "code",
   "execution_count": 6,
   "id": "e6c057a5",
   "metadata": {},
   "outputs": [
    {
     "data": {
      "text/plain": [
       "2"
      ]
     },
     "execution_count": 6,
     "metadata": {},
     "output_type": "execute_result"
    }
   ],
   "source": [
    "l1 = [1,2]\n",
    "len(l1)"
   ]
  },
  {
   "cell_type": "code",
   "execution_count": 7,
   "id": "5c03cb1a",
   "metadata": {},
   "outputs": [
    {
     "data": {
      "text/plain": [
       "list"
      ]
     },
     "execution_count": 7,
     "metadata": {},
     "output_type": "execute_result"
    }
   ],
   "source": [
    "type(l1)"
   ]
  },
  {
   "cell_type": "code",
   "execution_count": 8,
   "id": "6e7fc98e",
   "metadata": {},
   "outputs": [
    {
     "data": {
      "text/plain": [
       "set"
      ]
     },
     "execution_count": 8,
     "metadata": {},
     "output_type": "execute_result"
    }
   ],
   "source": [
    "set1 = {1,2,2.3,'python',20,2+5j}\n",
    "type(set1)"
   ]
  },
  {
   "cell_type": "code",
   "execution_count": 16,
   "id": "ef6d7ef7",
   "metadata": {},
   "outputs": [
    {
     "name": "stdout",
     "output_type": "stream",
     "text": [
      "8\n"
     ]
    },
    {
     "data": {
      "text/plain": [
       "{(2+5j), (2+8j), 1, 2, 2.3, 20, 3.6, 'python'}"
      ]
     },
     "execution_count": 16,
     "metadata": {},
     "output_type": "execute_result"
    }
   ],
   "source": [
    "set1 = {1,2,2.3,'python',20,2+5j, 'python', 2+8j, 3.6,20}\n",
    "print(len(set1))\n",
    "set1"
   ]
  },
  {
   "cell_type": "code",
   "execution_count": 17,
   "id": "5ea33672",
   "metadata": {},
   "outputs": [
    {
     "name": "stdout",
     "output_type": "stream",
     "text": [
      "10\n"
     ]
    },
    {
     "data": {
      "text/plain": [
       "[1, 2, 2.3, 'python', 20, (2+5j), 'python', (2+8j), 3.6, 20]"
      ]
     },
     "execution_count": 17,
     "metadata": {},
     "output_type": "execute_result"
    }
   ],
   "source": [
    "l2 = [1,2,2.3,'python',20,2+5j, 'python', 2+8j, 3.6,20]\n",
    "print(len(l2))\n",
    "l2"
   ]
  },
  {
   "cell_type": "code",
   "execution_count": 20,
   "id": "f1319d6b",
   "metadata": {},
   "outputs": [
    {
     "name": "stdout",
     "output_type": "stream",
     "text": [
      "4\n"
     ]
    },
    {
     "data": {
      "text/plain": [
       "['d', 'a', 't', 'a']"
      ]
     },
     "execution_count": 20,
     "metadata": {},
     "output_type": "execute_result"
    }
   ],
   "source": [
    "l3 = ['d', 'a', 't','a']\n",
    "print(len(l3))\n",
    "l3"
   ]
  },
  {
   "cell_type": "code",
   "execution_count": 19,
   "id": "244aea51",
   "metadata": {},
   "outputs": [
    {
     "name": "stdout",
     "output_type": "stream",
     "text": [
      "3\n"
     ]
    },
    {
     "data": {
      "text/plain": [
       "['da', 't', 'a']"
      ]
     },
     "execution_count": 19,
     "metadata": {},
     "output_type": "execute_result"
    }
   ],
   "source": [
    "l3 = ['da', 't','a']\n",
    "print(len(l3))\n",
    "l3"
   ]
  },
  {
   "cell_type": "markdown",
   "id": "a514ce4c",
   "metadata": {},
   "source": [
    "# Indexing"
   ]
  },
  {
   "cell_type": "code",
   "execution_count": null,
   "id": "28bf1785",
   "metadata": {},
   "outputs": [],
   "source": [
    "index will starts from zero"
   ]
  },
  {
   "cell_type": "code",
   "execution_count": 25,
   "id": "38913f26",
   "metadata": {},
   "outputs": [
    {
     "name": "stdout",
     "output_type": "stream",
     "text": [
      "4\n"
     ]
    },
    {
     "data": {
      "text/plain": [
       "'d'"
      ]
     },
     "execution_count": 25,
     "metadata": {},
     "output_type": "execute_result"
    }
   ],
   "source": [
    "list1 = ['d', 'a', 't','a']\n",
    "print(len(list1))\n",
    "list1[0]\n",
    "# list1[1]"
   ]
  },
  {
   "cell_type": "code",
   "execution_count": 24,
   "id": "2dadb75e",
   "metadata": {},
   "outputs": [
    {
     "data": {
      "text/plain": [
       "7"
      ]
     },
     "execution_count": 24,
     "metadata": {},
     "output_type": "execute_result"
    }
   ],
   "source": [
    "list1 = [1,2,3,4,5,6,7]\n",
    "len(list1)"
   ]
  },
  {
   "cell_type": "code",
   "execution_count": null,
   "id": "750a08ac",
   "metadata": {},
   "outputs": [],
   "source": [
    "list1      =   [1,  2,   3,  4,   5]\n",
    "\n",
    "+ve index       0   1    2   3    4\n",
    "-ve index      -5  -4   -3   -2   -1"
   ]
  },
  {
   "cell_type": "code",
   "execution_count": 28,
   "id": "dbd50c58",
   "metadata": {},
   "outputs": [
    {
     "name": "stdout",
     "output_type": "stream",
     "text": [
      "5\n",
      "2\n",
      "2\n"
     ]
    }
   ],
   "source": [
    "list1 = [1,2,3,4,5]\n",
    "print(len(list1))\n",
    "print(list1[1])\n",
    "print(list1[-4])"
   ]
  },
  {
   "cell_type": "code",
   "execution_count": 27,
   "id": "a944e221",
   "metadata": {},
   "outputs": [
    {
     "data": {
      "text/plain": [
       "5"
      ]
     },
     "execution_count": 27,
     "metadata": {},
     "output_type": "execute_result"
    }
   ],
   "source": [
    "list1[-1] #last indexed item"
   ]
  },
  {
   "cell_type": "code",
   "execution_count": 32,
   "id": "f87e3b50",
   "metadata": {},
   "outputs": [
    {
     "name": "stdout",
     "output_type": "stream",
     "text": [
      "[1, 2, 3, 4, 5]\n",
      "5\n",
      "8\n",
      "8\n",
      "[1, 8, 3, 4, 5]\n"
     ]
    }
   ],
   "source": [
    "list1 = [1,2,3,4,5]\n",
    "print(list1)\n",
    "list1[1]=8\n",
    "print(len(list1))\n",
    "print(list1[1])\n",
    "print(list1[-4])\n",
    "print(list1)"
   ]
  },
  {
   "cell_type": "markdown",
   "id": "6bd4293d",
   "metadata": {},
   "source": [
    "# Slicing"
   ]
  },
  {
   "cell_type": "code",
   "execution_count": null,
   "id": "e13afd66",
   "metadata": {},
   "outputs": [],
   "source": [
    "[start_index(included): end_index(excluded): step_size]"
   ]
  },
  {
   "cell_type": "code",
   "execution_count": null,
   "id": "fbea126e",
   "metadata": {},
   "outputs": [],
   "source": [
    "Default start index >> 0\n",
    "Default end index   >> len('list')"
   ]
  },
  {
   "cell_type": "code",
   "execution_count": 37,
   "id": "13a8dfb6",
   "metadata": {},
   "outputs": [
    {
     "name": "stdout",
     "output_type": "stream",
     "text": [
      "6\n"
     ]
    },
    {
     "data": {
      "text/plain": [
       "'machine learning'"
      ]
     },
     "execution_count": 37,
     "metadata": {},
     "output_type": "execute_result"
    }
   ],
   "source": [
    "list1 = [1,5,'data',500,3.14,'machine learning']\n",
    "print(len(list1))\n",
    "list1[5]"
   ]
  },
  {
   "cell_type": "code",
   "execution_count": 38,
   "id": "450229a9",
   "metadata": {},
   "outputs": [],
   "source": [
    "list1 = [1,5,'data',500,3.14,'machine learning',20,30]"
   ]
  },
  {
   "cell_type": "code",
   "execution_count": 39,
   "id": "735aab51",
   "metadata": {},
   "outputs": [
    {
     "data": {
      "text/plain": [
       "['data', 500, 3.14]"
      ]
     },
     "execution_count": 39,
     "metadata": {},
     "output_type": "execute_result"
    }
   ],
   "source": [
    "list1[2:5]"
   ]
  },
  {
   "cell_type": "code",
   "execution_count": 40,
   "id": "58045919",
   "metadata": {},
   "outputs": [
    {
     "data": {
      "text/plain": [
       "[1, 'data', 3.14]"
      ]
     },
     "execution_count": 40,
     "metadata": {},
     "output_type": "execute_result"
    }
   ],
   "source": [
    "list1[:6:2]"
   ]
  },
  {
   "cell_type": "code",
   "execution_count": 41,
   "id": "d1e6bcc2",
   "metadata": {},
   "outputs": [
    {
     "data": {
      "text/plain": [
       "[1, 5, 'data', 500, 3.14, 'machine learning', 20, 30]"
      ]
     },
     "execution_count": 41,
     "metadata": {},
     "output_type": "execute_result"
    }
   ],
   "source": [
    "list1[:]"
   ]
  },
  {
   "cell_type": "code",
   "execution_count": 43,
   "id": "08ae4b04",
   "metadata": {},
   "outputs": [
    {
     "name": "stdout",
     "output_type": "stream",
     "text": [
      "[2, 3, 4, 5, 6]\n",
      "[9, 10, 1, 2, 4]\n",
      "[2, 3, 4, 5, 6, 7, 8, 9, 10, 1, 2, 4]\n",
      "[1, 4, 7]\n"
     ]
    }
   ],
   "source": [
    "list2 = [1,2,3,4,5,6,7,8,9,10,1,2,4,5,2]\n",
    "print(list2[1:6])\n",
    "print(list2[-7:-2])\n",
    "print(list2[1:-2])\n",
    "print(list2[:8:3])"
   ]
  },
  {
   "cell_type": "code",
   "execution_count": 47,
   "id": "59088536",
   "metadata": {},
   "outputs": [
    {
     "name": "stdout",
     "output_type": "stream",
     "text": [
      "[1, 2, 3, 4, 5, 6, 7, 8, 9, 10, 1, 2, 4, 5, 2]\n"
     ]
    }
   ],
   "source": [
    "list2 = [1,2,3,4,5,6,7,8,9,10,1,2,4,5,2]\n",
    "print(list2[:len(list2)])"
   ]
  },
  {
   "cell_type": "code",
   "execution_count": 48,
   "id": "213d85cc",
   "metadata": {},
   "outputs": [
    {
     "name": "stdout",
     "output_type": "stream",
     "text": [
      "[1, 2, 3, 4, 5, 6, 7, 8, 9, 10, 1, 2, 4, 5, 2]\n"
     ]
    }
   ],
   "source": [
    "list2 = [1,2,3,4,5,6,7,8,9,10,1,2,4,5,2]\n",
    "print(list2[0:len(list2)])"
   ]
  },
  {
   "cell_type": "code",
   "execution_count": 53,
   "id": "a9091476",
   "metadata": {},
   "outputs": [
    {
     "name": "stdout",
     "output_type": "stream",
     "text": [
      "15\n",
      "2\n"
     ]
    }
   ],
   "source": [
    "list2 = [1,2,3,4,5,6,7,8,9,10,1,2,4,5,2]\n",
    "print(len(list2))\n",
    "print(list2[14])"
   ]
  },
  {
   "cell_type": "code",
   "execution_count": 68,
   "id": "139d9802",
   "metadata": {},
   "outputs": [
    {
     "data": {
      "text/plain": [
       "[2, 5, 4, 2, 1, 10, 9, 8, 7, 6, 5, 4, 3, 2, 1]"
      ]
     },
     "execution_count": 68,
     "metadata": {},
     "output_type": "execute_result"
    }
   ],
   "source": [
    "list2 = [1,2,3,4,5,6,7,8,9,10,1,2,4,5,2]\n",
    "list2[::-1] #Reverse list"
   ]
  },
  {
   "cell_type": "code",
   "execution_count": 61,
   "id": "3b701457",
   "metadata": {},
   "outputs": [
    {
     "data": {
      "text/plain": [
       "[3, 4, 5, 6, 7, 8, 9, 10, 1, 2, 4]"
      ]
     },
     "execution_count": 61,
     "metadata": {},
     "output_type": "execute_result"
    }
   ],
   "source": [
    "list2 = [1,2,3,4,5,6,7,8,9,10,1,2,4,5,2]\n",
    "list2[2:-2:] "
   ]
  },
  {
   "cell_type": "code",
   "execution_count": 55,
   "id": "d414c46e",
   "metadata": {},
   "outputs": [
    {
     "data": {
      "text/plain": [
       "list"
      ]
     },
     "execution_count": 55,
     "metadata": {},
     "output_type": "execute_result"
    }
   ],
   "source": [
    "list1 = [1,5,'data',500,3.14,'machine learning',20,30]\n",
    "type(list1)"
   ]
  },
  {
   "cell_type": "code",
   "execution_count": 56,
   "id": "d6ea6084",
   "metadata": {},
   "outputs": [
    {
     "data": {
      "text/plain": [
       "str"
      ]
     },
     "execution_count": 56,
     "metadata": {},
     "output_type": "execute_result"
    }
   ],
   "source": [
    "type(list1[2])"
   ]
  },
  {
   "cell_type": "code",
   "execution_count": 57,
   "id": "811937bc",
   "metadata": {},
   "outputs": [
    {
     "data": {
      "text/plain": [
       "float"
      ]
     },
     "execution_count": 57,
     "metadata": {},
     "output_type": "execute_result"
    }
   ],
   "source": [
    "type(list1[4])"
   ]
  },
  {
   "cell_type": "markdown",
   "id": "300545a1",
   "metadata": {},
   "source": [
    "# Access list items by using for loop"
   ]
  },
  {
   "cell_type": "code",
   "execution_count": null,
   "id": "60ac8364",
   "metadata": {},
   "outputs": [],
   "source": [
    "for variable in sequence:\n",
    "    statement1\n",
    "    statement2"
   ]
  },
  {
   "cell_type": "code",
   "execution_count": 70,
   "id": "880a6679",
   "metadata": {},
   "outputs": [
    {
     "name": "stdout",
     "output_type": "stream",
     "text": [
      "1\n",
      "2\n",
      "3\n",
      "4\n",
      "5\n",
      "6\n"
     ]
    }
   ],
   "source": [
    "list2 = [1,2,3,4,5,6]\n",
    "\n",
    "for val in list2:\n",
    "    print(val)"
   ]
  },
  {
   "cell_type": "code",
   "execution_count": 78,
   "id": "7064bcc6",
   "metadata": {},
   "outputs": [
    {
     "name": "stdout",
     "output_type": "stream",
     "text": [
      "1 2 3 4 5 6 "
     ]
    }
   ],
   "source": [
    "list2 = [1,2,3,4,5,6]\n",
    "\n",
    "for item in list2:\n",
    "    print(item,end= \" \")\n",
    "# print(list2)"
   ]
  },
  {
   "cell_type": "code",
   "execution_count": 79,
   "id": "1ef32c6d",
   "metadata": {},
   "outputs": [
    {
     "name": "stdout",
     "output_type": "stream",
     "text": [
      "1\n",
      "2\n",
      "3\n",
      "4\n",
      "5\n",
      "6\n"
     ]
    }
   ],
   "source": [
    "list2 = [1,2,3,4,5,6]\n",
    "\n",
    "for item in list2:\n",
    "    print(item)\n",
    "# print(list2)"
   ]
  },
  {
   "cell_type": "code",
   "execution_count": 77,
   "id": "b9096f60",
   "metadata": {},
   "outputs": [
    {
     "name": "stdout",
     "output_type": "stream",
     "text": [
      "city name is  pune\n",
      "city name is  ahemadnagar\n",
      "city name is  mumbai\n",
      "city name is  amravati\n"
     ]
    }
   ],
   "source": [
    "city_names = ['pune', 'ahemadnagar', 'mumbai','amravati']\n",
    "\n",
    "for city_name in city_names:\n",
    "    print('city name is ',city_name)"
   ]
  },
  {
   "cell_type": "code",
   "execution_count": 80,
   "id": "001fa042",
   "metadata": {},
   "outputs": [
    {
     "name": "stdout",
     "output_type": "stream",
     "text": [
      "city name is  pune\n",
      "****************************************\n",
      "city name is  ahemadnagar\n",
      "****************************************\n",
      "city name is  mumbai\n",
      "****************************************\n",
      "city name is  amravati\n",
      "****************************************\n"
     ]
    }
   ],
   "source": [
    "city_names = ['pune', 'ahemadnagar', 'mumbai','amravati']\n",
    "\n",
    "for city_name in city_names:\n",
    "    print('city name is ',city_name)\n",
    "    print(\"*\"*40)"
   ]
  },
  {
   "cell_type": "code",
   "execution_count": 82,
   "id": "48a82163",
   "metadata": {},
   "outputs": [
    {
     "name": "stdout",
     "output_type": "stream",
     "text": [
      "city name is  PUNE\n",
      "**********************************************************************\n",
      "city name is  AHEMADNAGAR\n",
      "**********************************************************************\n",
      "city name is  MUMBAI\n",
      "**********************************************************************\n",
      "city name is  AMRAVATI\n",
      "**********************************************************************\n"
     ]
    }
   ],
   "source": [
    "city_names = ['pune', 'ahemadnagar', 'mumbai','amravati']\n",
    "\n",
    "for hitesh in city_names:\n",
    "    print('city name is ',hitesh.upper())\n",
    "    print(\"*\"*70)"
   ]
  },
  {
   "cell_type": "markdown",
   "id": "c55a551b",
   "metadata": {},
   "source": [
    "# enumerate()"
   ]
  },
  {
   "cell_type": "code",
   "execution_count": 83,
   "id": "e0e565ab",
   "metadata": {},
   "outputs": [
    {
     "name": "stdout",
     "output_type": "stream",
     "text": [
      "0\n",
      "1\n",
      "2\n",
      "3\n"
     ]
    }
   ],
   "source": [
    "city_names = ['pune', 'ahemadnagar', 'mumbai','amravati']\n",
    "for index,city in enumerate(city_names):\n",
    "    print(index)"
   ]
  },
  {
   "cell_type": "code",
   "execution_count": 84,
   "id": "82e6b758",
   "metadata": {},
   "outputs": [
    {
     "name": "stdout",
     "output_type": "stream",
     "text": [
      "pune\n",
      "ahemadnagar\n",
      "mumbai\n",
      "amravati\n"
     ]
    }
   ],
   "source": [
    "city_names = ['pune', 'ahemadnagar', 'mumbai','amravati']\n",
    "for index,city in enumerate(city_names):\n",
    "    print(city)"
   ]
  },
  {
   "cell_type": "code",
   "execution_count": 85,
   "id": "713b31bc",
   "metadata": {},
   "outputs": [
    {
     "name": "stdout",
     "output_type": "stream",
     "text": [
      "0 pune\n",
      "1 ahemadnagar\n",
      "2 mumbai\n",
      "3 amravati\n"
     ]
    }
   ],
   "source": [
    "city_names = ['pune', 'ahemadnagar', 'mumbai','amravati']\n",
    "for index,city in enumerate(city_names):\n",
    "    print(index,city)"
   ]
  },
  {
   "cell_type": "code",
   "execution_count": 86,
   "id": "ead15f6d",
   "metadata": {},
   "outputs": [
    {
     "name": "stdout",
     "output_type": "stream",
     "text": [
      "index is 0 and city name is pune\n",
      "index is 1 and city name is ahemadnagar\n",
      "index is 2 and city name is mumbai\n",
      "index is 3 and city name is amravati\n"
     ]
    }
   ],
   "source": [
    "city_names = ['pune', 'ahemadnagar', 'mumbai','amravati']\n",
    "for index,city in enumerate(city_names):\n",
    "    print(f\"index is {index} and city name is {city}\")"
   ]
  },
  {
   "cell_type": "code",
   "execution_count": 87,
   "id": "ccb26ea6",
   "metadata": {},
   "outputs": [
    {
     "name": "stdout",
     "output_type": "stream",
     "text": [
      "city at index 0  is pune\n",
      "city at index 1  is ahemadnagar\n",
      "city at index 2  is mumbai\n",
      "city at index 3  is amravati\n"
     ]
    }
   ],
   "source": [
    "city_names = ['pune', 'ahemadnagar', 'mumbai','amravati']\n",
    "for index,city in enumerate(city_names):\n",
    "    print(f\"city at index {index}  is {city}\")"
   ]
  },
  {
   "cell_type": "code",
   "execution_count": 88,
   "id": "958cdd9f",
   "metadata": {},
   "outputs": [
    {
     "name": "stdout",
     "output_type": "stream",
     "text": [
      "city at index 0  is pune\n",
      "********************************************************************************\n",
      "city at index 1  is ahemadnagar\n",
      "********************************************************************************\n",
      "city at index 2  is mumbai\n",
      "********************************************************************************\n",
      "city at index 3  is amravati\n",
      "********************************************************************************\n"
     ]
    }
   ],
   "source": [
    "city_names = ['pune', 'ahemadnagar', 'mumbai','amravati']\n",
    "for index,city in enumerate(city_names):\n",
    "    print(f\"city at index {index}  is {city}\")\n",
    "    print(\"*\"*80)"
   ]
  },
  {
   "cell_type": "code",
   "execution_count": 90,
   "id": "b93ce089",
   "metadata": {},
   "outputs": [
    {
     "name": "stdout",
     "output_type": "stream",
     "text": [
      "city at index 0  is pune\n",
      "@@@@@@@@@@@@@@@@@@@@@@@@@@@@@@@@@@@@@@@@@@@@@@@@@@@@@@@@@@@@@@@@@@@@@@@@@@@@@@@@\n",
      "city at index 1  is ahemadnagar\n",
      "@@@@@@@@@@@@@@@@@@@@@@@@@@@@@@@@@@@@@@@@@@@@@@@@@@@@@@@@@@@@@@@@@@@@@@@@@@@@@@@@\n",
      "city at index 2  is mumbai\n",
      "@@@@@@@@@@@@@@@@@@@@@@@@@@@@@@@@@@@@@@@@@@@@@@@@@@@@@@@@@@@@@@@@@@@@@@@@@@@@@@@@\n",
      "city at index 3  is amravati\n",
      "@@@@@@@@@@@@@@@@@@@@@@@@@@@@@@@@@@@@@@@@@@@@@@@@@@@@@@@@@@@@@@@@@@@@@@@@@@@@@@@@\n"
     ]
    }
   ],
   "source": [
    "city_names = ['pune', 'ahemadnagar', 'mumbai','amravati']\n",
    "for index,city in enumerate(city_names):\n",
    "    print(f\"city at index {index}  is {city}\")\n",
    "    print(\"@\"*80)"
   ]
  },
  {
   "cell_type": "markdown",
   "id": "8e90354c",
   "metadata": {},
   "source": [
    "# List Constructor"
   ]
  },
  {
   "cell_type": "code",
   "execution_count": 124,
   "id": "c3951c9e",
   "metadata": {},
   "outputs": [
    {
     "data": {
      "text/plain": [
       "tuple"
      ]
     },
     "execution_count": 124,
     "metadata": {},
     "output_type": "execute_result"
    }
   ],
   "source": [
    "t1= (1,2,'a',4,5)\n",
    "type(t1)"
   ]
  },
  {
   "cell_type": "code",
   "execution_count": 125,
   "id": "387321ef",
   "metadata": {},
   "outputs": [
    {
     "data": {
      "text/plain": [
       "[1, 2, 'a', 4, 5]"
      ]
     },
     "execution_count": 125,
     "metadata": {},
     "output_type": "execute_result"
    }
   ],
   "source": [
    "l3 = list(t1)\n",
    "l3"
   ]
  },
  {
   "cell_type": "code",
   "execution_count": 93,
   "id": "69cbf673",
   "metadata": {},
   "outputs": [
    {
     "data": {
      "text/plain": [
       "set"
      ]
     },
     "execution_count": 93,
     "metadata": {},
     "output_type": "execute_result"
    }
   ],
   "source": [
    "t1= {1,2,5,4,5}\n",
    "type(t1)"
   ]
  },
  {
   "cell_type": "code",
   "execution_count": 94,
   "id": "675f423f",
   "metadata": {},
   "outputs": [
    {
     "data": {
      "text/plain": [
       "[1, 2, 4, 5]"
      ]
     },
     "execution_count": 94,
     "metadata": {},
     "output_type": "execute_result"
    }
   ],
   "source": [
    "l4 = list(t1)\n",
    "l4"
   ]
  },
  {
   "cell_type": "code",
   "execution_count": 95,
   "id": "78db23ac",
   "metadata": {},
   "outputs": [
    {
     "data": {
      "text/plain": [
       "[0, 1, 2, 3, 4, 5, 6, 7, 8, 9]"
      ]
     },
     "execution_count": 95,
     "metadata": {},
     "output_type": "execute_result"
    }
   ],
   "source": [
    "list(range(0,10))"
   ]
  },
  {
   "cell_type": "code",
   "execution_count": 96,
   "id": "8cebbba7",
   "metadata": {},
   "outputs": [
    {
     "data": {
      "text/plain": [
       "[5, 10, 15, 20, 25, 30, 35, 40, 45]"
      ]
     },
     "execution_count": 96,
     "metadata": {},
     "output_type": "execute_result"
    }
   ],
   "source": [
    "list(range(5,50,5))"
   ]
  },
  {
   "cell_type": "code",
   "execution_count": 97,
   "id": "ba7d39fe",
   "metadata": {},
   "outputs": [
    {
     "data": {
      "text/plain": [
       "[10, 12, 14, 16, 18, 20]"
      ]
     },
     "execution_count": 97,
     "metadata": {},
     "output_type": "execute_result"
    }
   ],
   "source": [
    "list(range(10,21,2))"
   ]
  },
  {
   "cell_type": "code",
   "execution_count": 99,
   "id": "f16f4299",
   "metadata": {},
   "outputs": [
    {
     "data": {
      "text/plain": [
       "[11, 14, 17, 20]"
      ]
     },
     "execution_count": 99,
     "metadata": {},
     "output_type": "execute_result"
    }
   ],
   "source": [
    "list(range(11,21,3))"
   ]
  },
  {
   "cell_type": "markdown",
   "id": "89a57654",
   "metadata": {},
   "source": [
    "# 1. Append()"
   ]
  },
  {
   "cell_type": "code",
   "execution_count": null,
   "id": "360f7787",
   "metadata": {},
   "outputs": [],
   "source": [
    "used add items in list\n",
    "item will be added at last position\n",
    "it takes only one argument\n",
    "list_name.append(item)"
   ]
  },
  {
   "cell_type": "code",
   "execution_count": 100,
   "id": "b3d37c04",
   "metadata": {},
   "outputs": [
    {
     "name": "stdout",
     "output_type": "stream",
     "text": [
      "[2, 3, 5]\n"
     ]
    }
   ],
   "source": [
    "l1 = [2,3,5]\n",
    "print(l1)"
   ]
  },
  {
   "cell_type": "code",
   "execution_count": 101,
   "id": "bc65430d",
   "metadata": {},
   "outputs": [
    {
     "name": "stdout",
     "output_type": "stream",
     "text": [
      "[2, 3, 5, 50]\n"
     ]
    }
   ],
   "source": [
    "l1.append(50)\n",
    "print(l1)"
   ]
  },
  {
   "cell_type": "code",
   "execution_count": 102,
   "id": "6d889cfd",
   "metadata": {},
   "outputs": [
    {
     "name": "stdout",
     "output_type": "stream",
     "text": [
      "[2, 3, 5]\n",
      "[2, 3, 5, 'data science']\n"
     ]
    }
   ],
   "source": [
    "l1 = [2,3,5]\n",
    "print(l1)\n",
    "l1.append('data science')\n",
    "print(l1)"
   ]
  },
  {
   "cell_type": "code",
   "execution_count": 103,
   "id": "ae002ff1",
   "metadata": {},
   "outputs": [
    {
     "name": "stdout",
     "output_type": "stream",
     "text": [
      "[2, 3, 5]\n",
      "[2, 3, 5, 100]\n"
     ]
    }
   ],
   "source": [
    "l1 = [2,3,5]\n",
    "print(l1)\n",
    "l1.append(100)\n",
    "print(l1)"
   ]
  },
  {
   "cell_type": "code",
   "execution_count": 106,
   "id": "0e146948",
   "metadata": {},
   "outputs": [
    {
     "name": "stdout",
     "output_type": "stream",
     "text": [
      "[2, 3, 5]\n"
     ]
    },
    {
     "ename": "TypeError",
     "evalue": "append() takes exactly one argument (2 given)",
     "output_type": "error",
     "traceback": [
      "\u001b[1;31m---------------------------------------------------------------------------\u001b[0m",
      "\u001b[1;31mTypeError\u001b[0m                                 Traceback (most recent call last)",
      "\u001b[1;32m<ipython-input-106-22b9f0e08117>\u001b[0m in \u001b[0;36m<module>\u001b[1;34m\u001b[0m\n\u001b[0;32m      1\u001b[0m \u001b[0ml1\u001b[0m \u001b[1;33m=\u001b[0m \u001b[1;33m[\u001b[0m\u001b[1;36m2\u001b[0m\u001b[1;33m,\u001b[0m\u001b[1;36m3\u001b[0m\u001b[1;33m,\u001b[0m\u001b[1;36m5\u001b[0m\u001b[1;33m]\u001b[0m\u001b[1;33m\u001b[0m\u001b[1;33m\u001b[0m\u001b[0m\n\u001b[0;32m      2\u001b[0m \u001b[0mprint\u001b[0m\u001b[1;33m(\u001b[0m\u001b[0ml1\u001b[0m\u001b[1;33m)\u001b[0m\u001b[1;33m\u001b[0m\u001b[1;33m\u001b[0m\u001b[0m\n\u001b[1;32m----> 3\u001b[1;33m \u001b[0ml1\u001b[0m\u001b[1;33m.\u001b[0m\u001b[0mappend\u001b[0m\u001b[1;33m(\u001b[0m\u001b[1;36m100\u001b[0m\u001b[1;33m,\u001b[0m\u001b[1;34m'data science'\u001b[0m\u001b[1;33m)\u001b[0m\u001b[1;33m\u001b[0m\u001b[1;33m\u001b[0m\u001b[0m\n\u001b[0m\u001b[0;32m      4\u001b[0m \u001b[0mprint\u001b[0m\u001b[1;33m(\u001b[0m\u001b[0ml1\u001b[0m\u001b[1;33m)\u001b[0m\u001b[1;33m\u001b[0m\u001b[1;33m\u001b[0m\u001b[0m\n",
      "\u001b[1;31mTypeError\u001b[0m: append() takes exactly one argument (2 given)"
     ]
    }
   ],
   "source": [
    "l1 = [2,3,5]\n",
    "print(l1)\n",
    "l1.append(100,'data science')\n",
    "print(l1)"
   ]
  },
  {
   "cell_type": "code",
   "execution_count": 107,
   "id": "f86bdae9",
   "metadata": {},
   "outputs": [
    {
     "name": "stdout",
     "output_type": "stream",
     "text": [
      "[10]\n",
      "[10, 12]\n",
      "[10, 12, 14]\n",
      "[10, 12, 14, 16]\n",
      "[10, 12, 14, 16, 18]\n",
      "[10, 12, 14, 16, 18, 20]\n",
      "[10, 12, 14, 16, 18, 20, 22]\n",
      "[10, 12, 14, 16, 18, 20, 22, 24]\n",
      "[10, 12, 14, 16, 18, 20, 22, 24, 26]\n",
      "[10, 12, 14, 16, 18, 20, 22, 24, 26, 28]\n",
      "[10, 12, 14, 16, 18, 20, 22, 24, 26, 28, 30]\n",
      "[10, 12, 14, 16, 18, 20, 22, 24, 26, 28, 30, 32]\n",
      "[10, 12, 14, 16, 18, 20, 22, 24, 26, 28, 30, 32, 34]\n",
      "[10, 12, 14, 16, 18, 20, 22, 24, 26, 28, 30, 32, 34, 36]\n",
      "[10, 12, 14, 16, 18, 20, 22, 24, 26, 28, 30, 32, 34, 36, 38]\n"
     ]
    }
   ],
   "source": [
    "even_numbers = [] #initilise\n",
    "\n",
    "for i in range(10,40,2):\n",
    "    even_numbers.append(i)\n",
    "    print(even_numbers)"
   ]
  },
  {
   "cell_type": "code",
   "execution_count": 108,
   "id": "570a2fae",
   "metadata": {},
   "outputs": [
    {
     "name": "stdout",
     "output_type": "stream",
     "text": [
      "[121]\n",
      "[121, 144]\n",
      "[121, 144, 169]\n",
      "[121, 144, 169, 196]\n",
      "[121, 144, 169, 196, 225]\n",
      "[121, 144, 169, 196, 225, 256]\n",
      "[121, 144, 169, 196, 225, 256, 289]\n",
      "[121, 144, 169, 196, 225, 256, 289, 324]\n",
      "[121, 144, 169, 196, 225, 256, 289, 324, 361]\n",
      "[121, 144, 169, 196, 225, 256, 289, 324, 361, 400]\n"
     ]
    }
   ],
   "source": [
    "sqrs = [] #initilise\n",
    "\n",
    "for i in range(11,21):\n",
    "    sqrs.append(i**2)\n",
    "    print(sqrs)"
   ]
  },
  {
   "cell_type": "code",
   "execution_count": 109,
   "id": "da56860b",
   "metadata": {},
   "outputs": [
    {
     "name": "stdout",
     "output_type": "stream",
     "text": [
      "121\n",
      "144\n",
      "169\n",
      "196\n",
      "225\n",
      "256\n",
      "289\n",
      "324\n",
      "361\n",
      "400\n"
     ]
    }
   ],
   "source": [
    "sqrs = [] #initilise\n",
    "\n",
    "for i in range(11,21):\n",
    "    print(i**2)"
   ]
  },
  {
   "cell_type": "code",
   "execution_count": 110,
   "id": "cf84203a",
   "metadata": {},
   "outputs": [
    {
     "name": "stdout",
     "output_type": "stream",
     "text": [
      "[121, 144, 169, 196, 225, 256, 289, 324, 361, 400]\n"
     ]
    }
   ],
   "source": [
    "sqrs = [] #initilise\n",
    "\n",
    "for i in range(11,21):\n",
    "    sqrs.append(i**2)\n",
    "print(sqrs)"
   ]
  },
  {
   "cell_type": "markdown",
   "id": "fc4d73cd",
   "metadata": {},
   "source": [
    "# 2. extend()"
   ]
  },
  {
   "cell_type": "code",
   "execution_count": null,
   "id": "e9db634b",
   "metadata": {},
   "outputs": [],
   "source": [
    "it is used to join two list"
   ]
  },
  {
   "cell_type": "code",
   "execution_count": 111,
   "id": "0b713ec0",
   "metadata": {},
   "outputs": [
    {
     "name": "stdout",
     "output_type": "stream",
     "text": [
      "4\n",
      "4\n",
      "[1, 3, 5, 2, 'f', 'a', 3.9, 2]\n"
     ]
    }
   ],
   "source": [
    "l1 = [1,3,5,2]\n",
    "l2 = ['f','a',3.9,2]\n",
    "print(len(l1))\n",
    "print(len(l2))\n",
    "l1.extend(l2)\n",
    "print(l1)"
   ]
  },
  {
   "cell_type": "code",
   "execution_count": 113,
   "id": "5c3b05d7",
   "metadata": {},
   "outputs": [
    {
     "name": "stdout",
     "output_type": "stream",
     "text": [
      "4\n",
      "4\n"
     ]
    },
    {
     "data": {
      "text/plain": [
       "[1, 3, 5, 2, 'f', 'a', 3.9, 2]"
      ]
     },
     "execution_count": 113,
     "metadata": {},
     "output_type": "execute_result"
    }
   ],
   "source": [
    "l1 = [1,3,5,2]\n",
    "l2 = ['f','a',3.9,2]\n",
    "print(len(l1))\n",
    "print(len(l2))\n",
    "l1 +l2"
   ]
  },
  {
   "cell_type": "code",
   "execution_count": 118,
   "id": "feb60f8a",
   "metadata": {},
   "outputs": [
    {
     "name": "stdout",
     "output_type": "stream",
     "text": [
      "<class 'list'>\n",
      "<class 'tuple'>\n",
      "<class 'list'>\n",
      "[1, 3, 5, 2, 1, 2, 3]\n"
     ]
    }
   ],
   "source": [
    "l1 = [1,3,5,2]\n",
    "t1 = (1,2,3)\n",
    "print(type(l1))\n",
    "print(type(t1))\n",
    "l1.extend(t1)\n",
    "print(type(l1))\n",
    "print(l1)"
   ]
  },
  {
   "cell_type": "code",
   "execution_count": 122,
   "id": "980b2e4a",
   "metadata": {},
   "outputs": [
    {
     "name": "stdout",
     "output_type": "stream",
     "text": [
      "[2, 3, 'python', (3, 'data')]\n"
     ]
    },
    {
     "data": {
      "text/plain": [
       "4"
      ]
     },
     "execution_count": 122,
     "metadata": {},
     "output_type": "execute_result"
    }
   ],
   "source": [
    "list1 = [2,3,'python']\n",
    "tuple1 = (3,'data')\n",
    "list1.append(tuple1)\n",
    "print(list1)\n",
    "len(list1)"
   ]
  },
  {
   "cell_type": "code",
   "execution_count": 123,
   "id": "4deebb84",
   "metadata": {},
   "outputs": [
    {
     "name": "stdout",
     "output_type": "stream",
     "text": [
      "[2, 3, 'python', 3, 'data']\n"
     ]
    },
    {
     "data": {
      "text/plain": [
       "5"
      ]
     },
     "execution_count": 123,
     "metadata": {},
     "output_type": "execute_result"
    }
   ],
   "source": [
    "list1 = [2,3,'python']\n",
    "tuple1 = (3,'data')\n",
    "list1.extend(tuple1)\n",
    "print(list1)\n",
    "len(list1)"
   ]
  },
  {
   "cell_type": "code",
   "execution_count": null,
   "id": "fdf1c9ba",
   "metadata": {},
   "outputs": [],
   "source": []
  }
 ],
 "metadata": {
  "kernelspec": {
   "display_name": "Python 3",
   "language": "python",
   "name": "python3"
  },
  "language_info": {
   "codemirror_mode": {
    "name": "ipython",
    "version": 3
   },
   "file_extension": ".py",
   "mimetype": "text/x-python",
   "name": "python",
   "nbconvert_exporter": "python",
   "pygments_lexer": "ipython3",
   "version": "3.8.8"
  }
 },
 "nbformat": 4,
 "nbformat_minor": 5
}
