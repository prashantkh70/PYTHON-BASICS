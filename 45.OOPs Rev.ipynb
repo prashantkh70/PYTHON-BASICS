{
 "cells": [
  {
   "cell_type": "code",
   "execution_count": null,
   "id": "9476dcde",
   "metadata": {},
   "outputs": [],
   "source": [
    "Class >> Blueprint of an object\n",
    "Object >> real world entities, instance of a class\n",
    "\n",
    "\n",
    "Obj = ClassName()\n",
    "\n",
    "self:\n",
    "    it represents an instance of class\n",
    "    used to create instance variable\n",
    "    used to access variables and methods of class\n",
    "    \n",
    "__init__:\n",
    "    Executes automatically when we create obj of class\n",
    "    it is used to accept the arguments of class\n",
    "    \n",
    "    \n",
    "variables:\n",
    "    class variable\n",
    "    local variable\n",
    "    global variable\n",
    "    instance variable\n",
    "    private variable\n",
    "    \n",
    "\n",
    "        "
   ]
  },
  {
   "cell_type": "markdown",
   "id": "e9882fa4",
   "metadata": {},
   "source": [
    "# Fundamental Concepts of Object Oriented Programming"
   ]
  },
  {
   "cell_type": "markdown",
   "id": "7fa68a90",
   "metadata": {},
   "source": [
    "### 1. Inheritance"
   ]
  },
  {
   "cell_type": "code",
   "execution_count": null,
   "id": "5e94b4df",
   "metadata": {},
   "outputs": [],
   "source": [
    "It inheritare the properties (methods and variables) of parent class in child class\n",
    "\n",
    "Parent >> Base >> SuperClass\n",
    "Child  >> Derived >> Subclass\n",
    "\n",
    "\n",
    "Types of Inheritance:\n",
    "    1. single (Parent >> Child)\n",
    "    2. Multilevel (Grandfather >> Father >> Child)\n",
    "    3. Multiple (Father & Mother >> Child)\n",
    "    4. Hirerchical (Parent >> Child1 , Child2)\n",
    "    5. Hybrid(More than one Inheritance)"
   ]
  },
  {
   "cell_type": "markdown",
   "id": "45dc66ef",
   "metadata": {},
   "source": [
    "### 2. Encapsulation"
   ]
  },
  {
   "cell_type": "code",
   "execution_count": null,
   "id": "754ad772",
   "metadata": {},
   "outputs": [],
   "source": [
    "used to restrict access of variables and methods from outside the class\n",
    "used to prevent/ protect accidental modification of data, variables\n",
    "\n",
    "Public Variable and Public Method:\n",
    "    we can access or modify variables or methods from outside the class\n",
    "Private Variable and Private Method:  (__ double underscore)\n",
    "    we can not access or modify variables or methods from outside the class\n",
    "    \n",
    "    \n",
    "Name Mangling:\n",
    "    used to access or modify private variables and methods from outside the class\n",
    "\n",
    "Object._ClassName__Variable()\n",
    "Object._ClassName__method()\n",
    "\n"
   ]
  },
  {
   "cell_type": "markdown",
   "id": "5815fcd7",
   "metadata": {},
   "source": [
    "### 3. Polymorphoism"
   ]
  },
  {
   "cell_type": "code",
   "execution_count": null,
   "id": "36e55c3e",
   "metadata": {},
   "outputs": [],
   "source": [
    "Poly >> Many\n",
    "Morphism >> Forms\n",
    "PolyMorphism >> Having multiple forms\n",
    "\n",
    "- methods with identical names\n",
    "- same functions name are used in many class\n",
    "\n",
    "\n",
    "overriding:\n",
    "Polymorphism with Inheritance\n",
    "\n",
    "overriding\n",
    "same method is present in different classes\n",
    "Child class method overrides the parent class method"
   ]
  },
  {
   "cell_type": "markdown",
   "id": "41268798",
   "metadata": {},
   "source": [
    "### 4. Abstraction"
   ]
  },
  {
   "cell_type": "code",
   "execution_count": null,
   "id": "12bea4b0",
   "metadata": {},
   "outputs": [],
   "source": [
    "Blueprint of your project\n",
    "Blueprint for other Classes\n",
    "\n",
    "It is used to hide the internal functionality of your project\n",
    "Abstract Class is only used for decleration, not for implimentaion\n",
    "we can not create an object of Abstract class\n",
    "\n",
    "Abstract class contains one or more abstract method\n",
    "\n",
    "from abc import abstractmethod,ABC\n",
    "\n",
    "@abstractmethod  Decorator is  used to define abstract method\n",
    "ABC is used for abstract class"
   ]
  }
 ],
 "metadata": {
  "kernelspec": {
   "display_name": "Python 3",
   "language": "python",
   "name": "python3"
  },
  "language_info": {
   "codemirror_mode": {
    "name": "ipython",
    "version": 3
   },
   "file_extension": ".py",
   "mimetype": "text/x-python",
   "name": "python",
   "nbconvert_exporter": "python",
   "pygments_lexer": "ipython3",
   "version": "3.8.8"
  }
 },
 "nbformat": 4,
 "nbformat_minor": 5
}
