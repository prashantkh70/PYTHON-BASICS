{
 "cells": [
  {
   "cell_type": "markdown",
   "id": "c2d98868",
   "metadata": {},
   "source": [
    "# PolyMorphism"
   ]
  },
  {
   "cell_type": "code",
   "execution_count": null,
   "id": "706fcffc",
   "metadata": {},
   "outputs": [],
   "source": [
    "Poly >> Many\n",
    "Morphism >> Forms\n",
    "PolyMorphism >> Having multiple forms\n",
    "\n",
    "- methods with identical names\n",
    "- same functions name are used in many class"
   ]
  },
  {
   "cell_type": "code",
   "execution_count": null,
   "id": "1ced6c2f",
   "metadata": {},
   "outputs": [],
   "source": [
    "sum\n",
    "len"
   ]
  },
  {
   "cell_type": "code",
   "execution_count": 3,
   "id": "d2a6c95c",
   "metadata": {},
   "outputs": [
    {
     "name": "stdout",
     "output_type": "stream",
     "text": [
      "6\n",
      "5\n",
      "4\n",
      "6\n"
     ]
    }
   ],
   "source": [
    "list1 =[4,5,6,7,8,9]\n",
    "tuple1 = (8,45,7,2,9)\n",
    "set1 = {3,4,4,5,6}\n",
    "string = \"python\"\n",
    "\n",
    "print(len(list1))       \n",
    "print(len(tuple1))\n",
    "print(len(set1))\n",
    "print(len(string))"
   ]
  },
  {
   "cell_type": "code",
   "execution_count": 4,
   "id": "d303de82",
   "metadata": {},
   "outputs": [
    {
     "name": "stdout",
     "output_type": "stream",
     "text": [
      "39\n",
      "71\n",
      "18\n"
     ]
    }
   ],
   "source": [
    "list1 =[4,5,6,7,8,9]\n",
    "tuple1 = (8,45,7,2,9)\n",
    "set1 = {3,4,4,5,6}\n",
    "print(sum(list1))       \n",
    "print(sum(tuple1))\n",
    "print(sum(set1))"
   ]
  },
  {
   "cell_type": "code",
   "execution_count": null,
   "id": "92f0faa1",
   "metadata": {},
   "outputs": [],
   "source": [
    "class Rectangle:\n",
    "    pass\n",
    "class Circle:\n",
    "    pass\n",
    "class Square:\n",
    "    pass\n"
   ]
  },
  {
   "cell_type": "code",
   "execution_count": 5,
   "id": "3ce3b3f6",
   "metadata": {},
   "outputs": [
    {
     "name": "stdout",
     "output_type": "stream",
     "text": [
      "Area of Rectangle\n",
      "Area of Circle\n",
      "Area of Square\n"
     ]
    }
   ],
   "source": [
    "class Rectangle:\n",
    "    def area(self):\n",
    "        print(\"Area of Rectangle\")\n",
    "class Circle:\n",
    "    def area(self):\n",
    "        print(\"Area of Circle\")\n",
    "class Square:\n",
    "    def area(self):\n",
    "        print(\"Area of Square\")\n",
    "        \n",
    "        \n",
    "r1 = Rectangle()\n",
    "r1.area()\n",
    "\n",
    "c1 = Circle()\n",
    "c1.area()\n",
    "\n",
    "s1 = Square()\n",
    "s1.area()"
   ]
  },
  {
   "cell_type": "code",
   "execution_count": 6,
   "id": "2a4bcfe4",
   "metadata": {},
   "outputs": [
    {
     "name": "stdout",
     "output_type": "stream",
     "text": [
      "Area of Rectangle\n",
      "Area of Circle\n",
      "Area of Square\n"
     ]
    }
   ],
   "source": [
    "class Rectangle:\n",
    "    def area(self):\n",
    "        print(\"Area of Rectangle\")\n",
    "class Circle:\n",
    "    def area(self):\n",
    "        print(\"Area of Circle\")\n",
    "class Square:\n",
    "    def area(self):\n",
    "        print(\"Area of Square\")\n",
    "    \n",
    "r1 = Rectangle()\n",
    "c1 = Circle()\n",
    "s1 = Square()\n",
    "\n",
    "for Obj in [r1,c1,s1]:\n",
    "    Obj.area()"
   ]
  },
  {
   "cell_type": "code",
   "execution_count": 8,
   "id": "f3cfddf2",
   "metadata": {},
   "outputs": [
    {
     "name": "stdout",
     "output_type": "stream",
     "text": [
      "Area of Rectangle\n",
      "Area of Circle\n",
      "Area of Square\n"
     ]
    }
   ],
   "source": [
    "class Rectangle:\n",
    "    def area(self):\n",
    "        print(\"Area of Rectangle\")\n",
    "class Circle:\n",
    "    def area(self):\n",
    "        print(\"Area of Circle\")\n",
    "class Square:\n",
    "    def area(self):\n",
    "        print(\"Area of Square\")\n",
    "        \n",
    "def get_area():\n",
    "    r1 = Rectangle()\n",
    "    c1 = Circle()\n",
    "    s1 = Square()\n",
    "    \n",
    "    for Obj in [r1,c1,s1]:\n",
    "        Obj.area()\n",
    "    \n",
    "get_area()\n",
    "    \n"
   ]
  },
  {
   "cell_type": "code",
   "execution_count": 10,
   "id": "4235b3d3",
   "metadata": {},
   "outputs": [
    {
     "name": "stdout",
     "output_type": "stream",
     "text": [
      "Area of Rectangle 12\n",
      "Area of Circle 78.53981633974483\n",
      "Area of Square 36\n"
     ]
    }
   ],
   "source": [
    "import numpy as np\n",
    "\n",
    "class Rectangle:\n",
    "    def __init__(self,l,b):\n",
    "        self.length = l\n",
    "        self.breadth = b\n",
    "        \n",
    "    def area(self):\n",
    "        ar = self.length * self.breadth\n",
    "        print(\"Area of Rectangle\",ar)\n",
    "        \n",
    "class Circle:\n",
    "    def __init__(self,r):\n",
    "        self.radius = r\n",
    "        \n",
    "    def area(self):\n",
    "        ar = np.pi * self.radius **2\n",
    "        print(\"Area of Circle\",ar)\n",
    "        \n",
    "class Square:\n",
    "    def __init__(self,side):\n",
    "        self.side = side\n",
    "    def area(self):\n",
    "        ar = self.side ** 2\n",
    "        print(\"Area of Square\",ar)\n",
    "        \n",
    "def get_area():\n",
    "    r1 = Rectangle(3,4)\n",
    "    c1 = Circle(5)\n",
    "    s1 = Square(6)\n",
    "    \n",
    "    for Obj in [r1,c1,s1]:\n",
    "        Obj.area()\n",
    "    \n",
    "get_area()"
   ]
  },
  {
   "cell_type": "code",
   "execution_count": 13,
   "id": "b0e2071d",
   "metadata": {},
   "outputs": [
    {
     "name": "stdout",
     "output_type": "stream",
     "text": [
      "Area of Rectangle 0\n",
      "Area of Circle 0.0\n",
      "Area of Square 0\n"
     ]
    }
   ],
   "source": [
    "import numpy as np\n",
    "\n",
    "class Rectangle:\n",
    "    def __init__(self,l,b):\n",
    "        self.length = l\n",
    "        self.breadth = b\n",
    "        \n",
    "    def area(self):\n",
    "        ar = self.length * self.breadth\n",
    "        print(\"Area of Rectangle\",ar)\n",
    "        \n",
    "class Circle:\n",
    "    def __init__(self,r):\n",
    "        self.radius = r\n",
    "        \n",
    "    def area(self):\n",
    "        ar = np.pi * self.radius **2\n",
    "        print(\"Area of Circle\",ar)\n",
    "        \n",
    "class Square:\n",
    "    def __init__(self,side):\n",
    "        self.side = side\n",
    "    def area(self):\n",
    "        ar = self.side ** 2\n",
    "        print(\"Area of Square\",ar)\n",
    "        \n",
    "def get_area(l=0,b=0,r=0,side=0):\n",
    "    r1 = Rectangle(l,b)\n",
    "    c1 = Circle(r)\n",
    "    s1 = Square(side)\n",
    "    \n",
    "    for Obj in [r1,c1,s1]:\n",
    "        Obj.area()\n",
    "    \n",
    "get_area()"
   ]
  },
  {
   "cell_type": "code",
   "execution_count": 14,
   "id": "434ff4a7",
   "metadata": {},
   "outputs": [
    {
     "name": "stdout",
     "output_type": "stream",
     "text": [
      "Area of Rectangle 12\n",
      "Area of Circle 78.53981633974483\n",
      "Area of Square 36\n"
     ]
    }
   ],
   "source": [
    "import numpy as np\n",
    "\n",
    "class Rectangle:\n",
    "    def __init__(self,l,b):\n",
    "        self.length = l\n",
    "        self.breadth = b\n",
    "        \n",
    "    def area(self):\n",
    "        ar = self.length * self.breadth\n",
    "        print(\"Area of Rectangle\",ar)\n",
    "        \n",
    "class Circle:\n",
    "    def __init__(self,r):\n",
    "        self.radius = r\n",
    "        \n",
    "    def area(self):\n",
    "        ar = np.pi * self.radius **2\n",
    "        print(\"Area of Circle\",ar)\n",
    "        \n",
    "class Square:\n",
    "    def __init__(self,side):\n",
    "        self.side = side\n",
    "    def area(self):\n",
    "        ar = self.side ** 2\n",
    "        print(\"Area of Square\",ar)\n",
    "        \n",
    "def get_area(l=0,b=0,r=0,side=0):\n",
    "    r1 = Rectangle(l,b)\n",
    "    c1 = Circle(r)\n",
    "    s1 = Square(side)\n",
    "    \n",
    "    for Obj in [r1,c1,s1]:\n",
    "        Obj.area()\n",
    "    \n",
    "get_area(3,4,5,6)"
   ]
  },
  {
   "cell_type": "code",
   "execution_count": 15,
   "id": "20c92424",
   "metadata": {},
   "outputs": [
    {
     "name": "stdout",
     "output_type": "stream",
     "text": [
      "Area of Rectangle 15.639999999999999\n",
      "Area of Circle 95.03317777109125\n",
      "Area of Square 39.69\n"
     ]
    }
   ],
   "source": [
    "import numpy as np\n",
    "\n",
    "class Rectangle:\n",
    "    def __init__(self,l,b):\n",
    "        self.length = l\n",
    "        self.breadth = b\n",
    "        \n",
    "    def area(self):\n",
    "        ar = self.length * self.breadth\n",
    "        print(\"Area of Rectangle\",ar)\n",
    "        \n",
    "class Circle:\n",
    "    def __init__(self,r):\n",
    "        self.radius = r\n",
    "        \n",
    "    def area(self):\n",
    "        ar = np.pi * self.radius **2\n",
    "        print(\"Area of Circle\",ar)\n",
    "        \n",
    "class Square:\n",
    "    def __init__(self,side):\n",
    "        self.side = side\n",
    "    def area(self):\n",
    "        ar = self.side ** 2\n",
    "        print(\"Area of Square\",ar)\n",
    "        \n",
    "def get_area(l=0,b=0,r=0,side=0):\n",
    "    r1 = Rectangle(l,b)\n",
    "    c1 = Circle(r)\n",
    "    s1 = Square(side)\n",
    "    \n",
    "    for Obj in [r1,c1,s1]:\n",
    "        Obj.area()\n",
    "    \n",
    "get_area(3.4,4.6,5.5,6.3)"
   ]
  },
  {
   "cell_type": "markdown",
   "id": "fa37871d",
   "metadata": {},
   "source": [
    "# Overriding Method"
   ]
  },
  {
   "cell_type": "code",
   "execution_count": null,
   "id": "61b0d31e",
   "metadata": {},
   "outputs": [],
   "source": [
    "Polymorphism with Inheritance\n",
    "\n",
    "overriding\n",
    "same method is present in different classes\n",
    "Child class method overrides the parent class method"
   ]
  },
  {
   "cell_type": "code",
   "execution_count": 18,
   "id": "ee659f81",
   "metadata": {},
   "outputs": [
    {
     "name": "stdout",
     "output_type": "stream",
     "text": [
      "Area of Square 25\n"
     ]
    }
   ],
   "source": [
    "import numpy as np\n",
    "class Circle:\n",
    "    def __init__(self,r):\n",
    "        self.radius = r\n",
    "        \n",
    "    def area(self):\n",
    "        ar = np.pi * self.radius **2\n",
    "        print(\"Area of Circle\",ar)\n",
    "        \n",
    "class Square(Circle):\n",
    "    def __init__(self,side,r):\n",
    "        self.side = side\n",
    "    def area(self):\n",
    "        ar = self.side ** 2\n",
    "        print(\"Area of Square\",ar)\n",
    "        \n",
    "sqr = Square(5,6)\n",
    "sqr.area()"
   ]
  },
  {
   "cell_type": "code",
   "execution_count": 19,
   "id": "f378954f",
   "metadata": {},
   "outputs": [
    {
     "name": "stdout",
     "output_type": "stream",
     "text": [
      "Area of Circle 314.1592653589793\n"
     ]
    }
   ],
   "source": [
    "import numpy as np\n",
    "class Circle:\n",
    "    def __init__(self,r):\n",
    "        self.radius = r\n",
    "        \n",
    "    def area(self):\n",
    "        ar = np.pi * self.radius **2\n",
    "        print(\"Area of Circle\",ar)\n",
    "        \n",
    "class Square(Circle):\n",
    "    def __init__(self,side,r):\n",
    "        self.side = side\n",
    "    def area(self):\n",
    "        ar = self.side ** 2\n",
    "        print(\"Area of Square\",ar)\n",
    "        \n",
    "c1 = Circle(10)\n",
    "c1.area()"
   ]
  },
  {
   "cell_type": "code",
   "execution_count": null,
   "id": "675365b1",
   "metadata": {},
   "outputs": [],
   "source": []
  },
  {
   "cell_type": "code",
   "execution_count": null,
   "id": "9631008c",
   "metadata": {},
   "outputs": [],
   "source": []
  },
  {
   "cell_type": "code",
   "execution_count": null,
   "id": "a8f95efc",
   "metadata": {},
   "outputs": [],
   "source": []
  }
 ],
 "metadata": {
  "kernelspec": {
   "display_name": "Python 3",
   "language": "python",
   "name": "python3"
  },
  "language_info": {
   "codemirror_mode": {
    "name": "ipython",
    "version": 3
   },
   "file_extension": ".py",
   "mimetype": "text/x-python",
   "name": "python",
   "nbconvert_exporter": "python",
   "pygments_lexer": "ipython3",
   "version": "3.8.8"
  }
 },
 "nbformat": 4,
 "nbformat_minor": 5
}
