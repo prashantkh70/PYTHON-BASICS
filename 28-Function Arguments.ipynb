{
 "cells": [
  {
   "cell_type": "markdown",
   "id": "d43f0198",
   "metadata": {},
   "source": [
    "# Functions Arguments"
   ]
  },
  {
   "cell_type": "code",
   "execution_count": null,
   "id": "23a0d760",
   "metadata": {},
   "outputs": [],
   "source": [
    "1. Positional Arguments\n",
    "2. Default arguments (Keyword Arguments)\n",
    "3. Arbitrary positional arguments\n",
    "4. Arbitrary keyword arguments"
   ]
  },
  {
   "cell_type": "markdown",
   "id": "31bf32a2",
   "metadata": {},
   "source": [
    "### 1. Positional Arguments"
   ]
  },
  {
   "cell_type": "code",
   "execution_count": null,
   "id": "490fa762",
   "metadata": {},
   "outputs": [],
   "source": [
    "Number of parameters == Number of argunents"
   ]
  },
  {
   "cell_type": "code",
   "execution_count": null,
   "id": "ac09b6a5",
   "metadata": {},
   "outputs": [],
   "source": [
    "def my_fun(parameter1, parameter2):\n",
    "    print(parameter1)\n",
    "    print(parameter2)\n",
    "\n",
    "my_fun(arg1,arg2)"
   ]
  },
  {
   "cell_type": "code",
   "execution_count": 1,
   "id": "1657804a",
   "metadata": {},
   "outputs": [
    {
     "name": "stdout",
     "output_type": "stream",
     "text": [
      "a == 5, b == 6\n",
      "addition of number is:  11\n"
     ]
    }
   ],
   "source": [
    "def addition(a,b):\n",
    "    print(f\"a == {a}, b == {b}\")\n",
    "    add = a+b\n",
    "    print('addition of number is: ',add)\n",
    "\n",
    "addition(5,6)"
   ]
  },
  {
   "cell_type": "code",
   "execution_count": 2,
   "id": "43f428f5",
   "metadata": {},
   "outputs": [
    {
     "ename": "TypeError",
     "evalue": "addition() missing 1 required positional argument: 'b'",
     "output_type": "error",
     "traceback": [
      "\u001b[1;31m---------------------------------------------------------------------------\u001b[0m",
      "\u001b[1;31mTypeError\u001b[0m                                 Traceback (most recent call last)",
      "\u001b[1;32m<ipython-input-2-1b4f5e6d4ead>\u001b[0m in \u001b[0;36m<module>\u001b[1;34m\u001b[0m\n\u001b[0;32m      4\u001b[0m     \u001b[0mprint\u001b[0m\u001b[1;33m(\u001b[0m\u001b[1;34m'addition of number is: '\u001b[0m\u001b[1;33m,\u001b[0m\u001b[0madd\u001b[0m\u001b[1;33m)\u001b[0m\u001b[1;33m\u001b[0m\u001b[1;33m\u001b[0m\u001b[0m\n\u001b[0;32m      5\u001b[0m \u001b[1;33m\u001b[0m\u001b[0m\n\u001b[1;32m----> 6\u001b[1;33m \u001b[0maddition\u001b[0m\u001b[1;33m(\u001b[0m\u001b[1;36m5\u001b[0m\u001b[1;33m)\u001b[0m\u001b[1;33m\u001b[0m\u001b[1;33m\u001b[0m\u001b[0m\n\u001b[0m",
      "\u001b[1;31mTypeError\u001b[0m: addition() missing 1 required positional argument: 'b'"
     ]
    }
   ],
   "source": [
    "def addition(a,b):\n",
    "    print(f\"a == {a}, b == {b}\")\n",
    "    add = a+b\n",
    "    print('addition of number is: ',add)\n",
    "\n",
    "addition(5)"
   ]
  },
  {
   "cell_type": "code",
   "execution_count": 3,
   "id": "ae93c5bc",
   "metadata": {},
   "outputs": [
    {
     "name": "stdout",
     "output_type": "stream",
     "text": [
      "a == 45, b == 5\n",
      "addition of number is:  50\n"
     ]
    }
   ],
   "source": [
    "def addition(a,b):\n",
    "    print(f\"a == {a}, b == {b}\")\n",
    "    add = a+b\n",
    "    print('addition of number is: ',add)\n",
    "\n",
    "addition(45,5)"
   ]
  },
  {
   "cell_type": "code",
   "execution_count": 4,
   "id": "ef8aa811",
   "metadata": {},
   "outputs": [
    {
     "ename": "TypeError",
     "evalue": "addition() takes 2 positional arguments but 3 were given",
     "output_type": "error",
     "traceback": [
      "\u001b[1;31m---------------------------------------------------------------------------\u001b[0m",
      "\u001b[1;31mTypeError\u001b[0m                                 Traceback (most recent call last)",
      "\u001b[1;32m<ipython-input-4-13155d3f2cd6>\u001b[0m in \u001b[0;36m<module>\u001b[1;34m\u001b[0m\n\u001b[0;32m      4\u001b[0m     \u001b[0mprint\u001b[0m\u001b[1;33m(\u001b[0m\u001b[1;34m'addition of number is: '\u001b[0m\u001b[1;33m,\u001b[0m\u001b[0madd\u001b[0m\u001b[1;33m)\u001b[0m\u001b[1;33m\u001b[0m\u001b[1;33m\u001b[0m\u001b[0m\n\u001b[0;32m      5\u001b[0m \u001b[1;33m\u001b[0m\u001b[0m\n\u001b[1;32m----> 6\u001b[1;33m \u001b[0maddition\u001b[0m\u001b[1;33m(\u001b[0m\u001b[1;36m45\u001b[0m\u001b[1;33m,\u001b[0m\u001b[1;36m5\u001b[0m\u001b[1;33m,\u001b[0m\u001b[1;36m6\u001b[0m\u001b[1;33m)\u001b[0m\u001b[1;33m\u001b[0m\u001b[1;33m\u001b[0m\u001b[0m\n\u001b[0m",
      "\u001b[1;31mTypeError\u001b[0m: addition() takes 2 positional arguments but 3 were given"
     ]
    }
   ],
   "source": [
    "def addition(a,b):\n",
    "    print(f\"a == {a}, b == {b}\")\n",
    "    add = a+b\n",
    "    print('addition of number is: ',add)\n",
    "\n",
    "addition(45,5,6)"
   ]
  },
  {
   "cell_type": "code",
   "execution_count": 5,
   "id": "499f96e2",
   "metadata": {},
   "outputs": [
    {
     "name": "stdout",
     "output_type": "stream",
     "text": [
      "a == 10, b == 5\n",
      "addition of number is:  15\n"
     ]
    }
   ],
   "source": [
    "def addition(a,b):\n",
    "    print(f\"a == {a}, b == {b}\")\n",
    "    add = a+b\n",
    "    print('addition of number is: ',add)\n",
    "\n",
    "addition(10,5)"
   ]
  },
  {
   "cell_type": "code",
   "execution_count": 7,
   "id": "94472f2d",
   "metadata": {},
   "outputs": [
    {
     "name": "stdout",
     "output_type": "stream",
     "text": [
      "Factorial of 5 is : 120\n"
     ]
    }
   ],
   "source": [
    "def factorial(num):\n",
    "    fact =1\n",
    "    if num <0:\n",
    "        print('Factorial does not exists')\n",
    "    else:\n",
    "        for i in range(1,num+1):\n",
    "            fact*=i\n",
    "    print(f\"Factorial of {num} is : {fact}\")\n",
    "\n",
    "factorial(5)"
   ]
  },
  {
   "cell_type": "code",
   "execution_count": 8,
   "id": "27d7e540",
   "metadata": {},
   "outputs": [
    {
     "ename": "TypeError",
     "evalue": "factorial() missing 1 required positional argument: 'num'",
     "output_type": "error",
     "traceback": [
      "\u001b[1;31m---------------------------------------------------------------------------\u001b[0m",
      "\u001b[1;31mTypeError\u001b[0m                                 Traceback (most recent call last)",
      "\u001b[1;32m<ipython-input-8-1c20f4082b41>\u001b[0m in \u001b[0;36m<module>\u001b[1;34m\u001b[0m\n\u001b[0;32m      8\u001b[0m     \u001b[0mprint\u001b[0m\u001b[1;33m(\u001b[0m\u001b[1;34mf\"Factorial of {num} is : {fact}\"\u001b[0m\u001b[1;33m)\u001b[0m\u001b[1;33m\u001b[0m\u001b[1;33m\u001b[0m\u001b[0m\n\u001b[0;32m      9\u001b[0m \u001b[1;33m\u001b[0m\u001b[0m\n\u001b[1;32m---> 10\u001b[1;33m \u001b[0mfactorial\u001b[0m\u001b[1;33m(\u001b[0m\u001b[1;33m)\u001b[0m\u001b[1;33m\u001b[0m\u001b[1;33m\u001b[0m\u001b[0m\n\u001b[0m",
      "\u001b[1;31mTypeError\u001b[0m: factorial() missing 1 required positional argument: 'num'"
     ]
    }
   ],
   "source": [
    "def factorial(num):\n",
    "    fact =1\n",
    "    if num <0:\n",
    "        print('Factorial does not exists')\n",
    "    else:\n",
    "        for i in range(1,num+1):\n",
    "            fact*=i\n",
    "    print(f\"Factorial of {num} is : {fact}\")\n",
    "    \n",
    "factorial()"
   ]
  },
  {
   "cell_type": "code",
   "execution_count": 9,
   "id": "7e63994f",
   "metadata": {},
   "outputs": [
    {
     "ename": "TypeError",
     "evalue": "factorial() takes 1 positional argument but 2 were given",
     "output_type": "error",
     "traceback": [
      "\u001b[1;31m---------------------------------------------------------------------------\u001b[0m",
      "\u001b[1;31mTypeError\u001b[0m                                 Traceback (most recent call last)",
      "\u001b[1;32m<ipython-input-9-5a08258c5b4c>\u001b[0m in \u001b[0;36m<module>\u001b[1;34m\u001b[0m\n\u001b[0;32m      8\u001b[0m     \u001b[0mprint\u001b[0m\u001b[1;33m(\u001b[0m\u001b[1;34mf\"Factorial of {num} is : {fact}\"\u001b[0m\u001b[1;33m)\u001b[0m\u001b[1;33m\u001b[0m\u001b[1;33m\u001b[0m\u001b[0m\n\u001b[0;32m      9\u001b[0m \u001b[1;33m\u001b[0m\u001b[0m\n\u001b[1;32m---> 10\u001b[1;33m \u001b[0mfactorial\u001b[0m\u001b[1;33m(\u001b[0m\u001b[1;36m5\u001b[0m\u001b[1;33m,\u001b[0m\u001b[1;36m8\u001b[0m\u001b[1;33m)\u001b[0m\u001b[1;33m\u001b[0m\u001b[1;33m\u001b[0m\u001b[0m\n\u001b[0m",
      "\u001b[1;31mTypeError\u001b[0m: factorial() takes 1 positional argument but 2 were given"
     ]
    }
   ],
   "source": [
    "def factorial(num):\n",
    "    fact =1\n",
    "    if num <0:\n",
    "        print('Factorial does not exists')\n",
    "    else:\n",
    "        for i in range(1,num+1):\n",
    "            fact*=i\n",
    "    print(f\"Factorial of {num} is : {fact}\")\n",
    "    \n",
    "factorial(5,8)"
   ]
  },
  {
   "cell_type": "code",
   "execution_count": 10,
   "id": "9814df28",
   "metadata": {},
   "outputs": [
    {
     "name": "stdout",
     "output_type": "stream",
     "text": [
      "Factorial of 6 is : 720\n"
     ]
    }
   ],
   "source": [
    "def factorial(num):\n",
    "    fact =1\n",
    "    if num <0:\n",
    "        print('Factorial does not exists')\n",
    "    else:\n",
    "        for i in range(1,num+1):\n",
    "            fact*=i\n",
    "    print(f\"Factorial of {num} is : {fact}\")\n",
    "    \n",
    "factorial(6)"
   ]
  },
  {
   "cell_type": "code",
   "execution_count": 11,
   "id": "16809d14",
   "metadata": {},
   "outputs": [
    {
     "ename": "TypeError",
     "evalue": "'float' object cannot be interpreted as an integer",
     "output_type": "error",
     "traceback": [
      "\u001b[1;31m---------------------------------------------------------------------------\u001b[0m",
      "\u001b[1;31mTypeError\u001b[0m                                 Traceback (most recent call last)",
      "\u001b[1;32m<ipython-input-11-ad66d404c43a>\u001b[0m in \u001b[0;36m<module>\u001b[1;34m\u001b[0m\n\u001b[0;32m      8\u001b[0m     \u001b[0mprint\u001b[0m\u001b[1;33m(\u001b[0m\u001b[1;34mf\"Factorial of {num} is : {fact}\"\u001b[0m\u001b[1;33m)\u001b[0m\u001b[1;33m\u001b[0m\u001b[1;33m\u001b[0m\u001b[0m\n\u001b[0;32m      9\u001b[0m \u001b[1;33m\u001b[0m\u001b[0m\n\u001b[1;32m---> 10\u001b[1;33m \u001b[0mfactorial\u001b[0m\u001b[1;33m(\u001b[0m\u001b[1;36m3.5\u001b[0m\u001b[1;33m)\u001b[0m\u001b[1;33m\u001b[0m\u001b[1;33m\u001b[0m\u001b[0m\n\u001b[0m",
      "\u001b[1;32m<ipython-input-11-ad66d404c43a>\u001b[0m in \u001b[0;36mfactorial\u001b[1;34m(num)\u001b[0m\n\u001b[0;32m      4\u001b[0m         \u001b[0mprint\u001b[0m\u001b[1;33m(\u001b[0m\u001b[1;34m'Factorial does not exists'\u001b[0m\u001b[1;33m)\u001b[0m\u001b[1;33m\u001b[0m\u001b[1;33m\u001b[0m\u001b[0m\n\u001b[0;32m      5\u001b[0m     \u001b[1;32melse\u001b[0m\u001b[1;33m:\u001b[0m\u001b[1;33m\u001b[0m\u001b[1;33m\u001b[0m\u001b[0m\n\u001b[1;32m----> 6\u001b[1;33m         \u001b[1;32mfor\u001b[0m \u001b[0mi\u001b[0m \u001b[1;32min\u001b[0m \u001b[0mrange\u001b[0m\u001b[1;33m(\u001b[0m\u001b[1;36m1\u001b[0m\u001b[1;33m,\u001b[0m\u001b[0mnum\u001b[0m\u001b[1;33m+\u001b[0m\u001b[1;36m1\u001b[0m\u001b[1;33m)\u001b[0m\u001b[1;33m:\u001b[0m\u001b[1;33m\u001b[0m\u001b[1;33m\u001b[0m\u001b[0m\n\u001b[0m\u001b[0;32m      7\u001b[0m             \u001b[0mfact\u001b[0m\u001b[1;33m*=\u001b[0m\u001b[0mi\u001b[0m\u001b[1;33m\u001b[0m\u001b[1;33m\u001b[0m\u001b[0m\n\u001b[0;32m      8\u001b[0m     \u001b[0mprint\u001b[0m\u001b[1;33m(\u001b[0m\u001b[1;34mf\"Factorial of {num} is : {fact}\"\u001b[0m\u001b[1;33m)\u001b[0m\u001b[1;33m\u001b[0m\u001b[1;33m\u001b[0m\u001b[0m\n",
      "\u001b[1;31mTypeError\u001b[0m: 'float' object cannot be interpreted as an integer"
     ]
    }
   ],
   "source": [
    "def factorial(num):\n",
    "    fact =1\n",
    "    if num <0:\n",
    "        print('Factorial does not exists')\n",
    "    else:\n",
    "        for i in range(1,num+1):  #range should be in int\n",
    "            fact*=i\n",
    "    print(f\"Factorial of {num} is : {fact}\")\n",
    "    \n",
    "factorial(3.5)"
   ]
  },
  {
   "cell_type": "code",
   "execution_count": 12,
   "id": "a3c7561e",
   "metadata": {},
   "outputs": [
    {
     "name": "stdout",
     "output_type": "stream",
     "text": [
      "Factorial of 3 is : 6\n"
     ]
    }
   ],
   "source": [
    "def factorial(num):\n",
    "    fact =1\n",
    "    if num <0:\n",
    "        print('Factorial does not exists')\n",
    "    else:\n",
    "        for i in range(1,num+1):\n",
    "            fact*=i\n",
    "    print(f\"Factorial of {num} is : {fact}\")\n",
    "    \n",
    "factorial(3)"
   ]
  },
  {
   "cell_type": "code",
   "execution_count": 13,
   "id": "7b82de32",
   "metadata": {},
   "outputs": [
    {
     "name": "stdout",
     "output_type": "stream",
     "text": [
      "Factorial of 3 is : 6\n"
     ]
    }
   ],
   "source": [
    "def factorial(num):\n",
    "    fact =1\n",
    "    if num <0:\n",
    "        print('Factorial does not exists')\n",
    "    else:\n",
    "        for i in range(1,num+1):\n",
    "            fact*=i\n",
    "    print(f\"Factorial of {num} is : {fact}\")\n",
    "    \n",
    "factorial(int(3.5))"
   ]
  },
  {
   "cell_type": "markdown",
   "id": "f6e91e18",
   "metadata": {},
   "source": [
    "### 2. Default arguments"
   ]
  },
  {
   "cell_type": "code",
   "execution_count": null,
   "id": "c09d05fa",
   "metadata": {},
   "outputs": [],
   "source": [
    "keyword arguments"
   ]
  },
  {
   "cell_type": "code",
   "execution_count": 14,
   "id": "134488c9",
   "metadata": {},
   "outputs": [
    {
     "name": "stdout",
     "output_type": "stream",
     "text": [
      "a == 45, b == 5\n",
      "addition of number is:  50\n"
     ]
    }
   ],
   "source": [
    "def addition(a,b):\n",
    "    print(f\"a == {a}, b == {b}\")\n",
    "    add = a+b\n",
    "    print('addition of number is: ',add)\n",
    "    \n",
    "\n",
    "\n",
    "addition(45,5)"
   ]
  },
  {
   "cell_type": "code",
   "execution_count": 15,
   "id": "34606011",
   "metadata": {},
   "outputs": [
    {
     "name": "stdout",
     "output_type": "stream",
     "text": [
      "a == 45, b == 5\n",
      "addition of number is:  50\n"
     ]
    }
   ],
   "source": [
    "def addition(a,b):\n",
    "    print(f\"a == {a}, b == {b}\")\n",
    "    add = a+b\n",
    "    print('addition of number is: ',add)\n",
    "\n",
    "a =45\n",
    "b = 5\n",
    "\n",
    "addition(a,b)"
   ]
  },
  {
   "cell_type": "code",
   "execution_count": 17,
   "id": "fe883602",
   "metadata": {},
   "outputs": [
    {
     "ename": "NameError",
     "evalue": "name 'c' is not defined",
     "output_type": "error",
     "traceback": [
      "\u001b[1;31m---------------------------------------------------------------------------\u001b[0m",
      "\u001b[1;31mNameError\u001b[0m                                 Traceback (most recent call last)",
      "\u001b[1;32m<ipython-input-17-877f2fc54de0>\u001b[0m in \u001b[0;36m<module>\u001b[1;34m\u001b[0m\n\u001b[0;32m      6\u001b[0m \u001b[1;33m\u001b[0m\u001b[0m\n\u001b[0;32m      7\u001b[0m \u001b[1;33m\u001b[0m\u001b[0m\n\u001b[1;32m----> 8\u001b[1;33m \u001b[0maddition\u001b[0m\u001b[1;33m(\u001b[0m\u001b[0mc\u001b[0m\u001b[1;33m,\u001b[0m\u001b[0md\u001b[0m\u001b[1;33m)\u001b[0m\u001b[1;33m\u001b[0m\u001b[1;33m\u001b[0m\u001b[0m\n\u001b[0m",
      "\u001b[1;31mNameError\u001b[0m: name 'c' is not defined"
     ]
    }
   ],
   "source": [
    "def addition(c,d):\n",
    "    print(f\"a == {c}, b == {d}\")\n",
    "    add = c+d\n",
    "    print('addition of number is: ',add)\n",
    "    \n",
    "\n",
    "\n",
    "addition(c,d)"
   ]
  },
  {
   "cell_type": "code",
   "execution_count": 18,
   "id": "20c8bd8f",
   "metadata": {},
   "outputs": [
    {
     "name": "stdout",
     "output_type": "stream",
     "text": [
      "a == 50, b == 60, c == 20\n",
      "addition of number is:  130\n"
     ]
    }
   ],
   "source": [
    "def addition(a,b,c):\n",
    "    print(f\"a == {a}, b == {b}, c == {c}\")\n",
    "    add = a+b+c\n",
    "    print('addition of number is: ',add)\n",
    "    \n",
    "\n",
    "\n",
    "addition(50,60,20)"
   ]
  },
  {
   "cell_type": "code",
   "execution_count": 19,
   "id": "d3b5f660",
   "metadata": {},
   "outputs": [
    {
     "name": "stdout",
     "output_type": "stream",
     "text": [
      "a == 50, b == 60, c == 20\n",
      "addition of number is:  130\n"
     ]
    }
   ],
   "source": [
    "def addition(a,b,c):\n",
    "    print(f\"a == {a}, b == {b}, c == {c}\")\n",
    "    add = a+b+c\n",
    "    print('addition of number is: ',add)\n",
    "    \n",
    "\n",
    "\n",
    "addition(50,b=60,c=20)"
   ]
  },
  {
   "cell_type": "code",
   "execution_count": 20,
   "id": "d79a38df",
   "metadata": {},
   "outputs": [
    {
     "ename": "SyntaxError",
     "evalue": "positional argument follows keyword argument (<ipython-input-20-27d50727f952>, line 8)",
     "output_type": "error",
     "traceback": [
      "\u001b[1;36m  File \u001b[1;32m\"<ipython-input-20-27d50727f952>\"\u001b[1;36m, line \u001b[1;32m8\u001b[0m\n\u001b[1;33m    addition(b=60,c=20,50)\u001b[0m\n\u001b[1;37m                       ^\u001b[0m\n\u001b[1;31mSyntaxError\u001b[0m\u001b[1;31m:\u001b[0m positional argument follows keyword argument\n"
     ]
    }
   ],
   "source": [
    "def addition(a,b,c):\n",
    "    print(f\"a == {a}, b == {b}, c == {c}\")\n",
    "    add = a+b+c\n",
    "    print('addition of number is: ',add)\n",
    "    \n",
    "\n",
    "\n",
    "addition(b=60,c=20,50)"
   ]
  },
  {
   "cell_type": "code",
   "execution_count": 21,
   "id": "5a1e2da9",
   "metadata": {},
   "outputs": [
    {
     "name": "stdout",
     "output_type": "stream",
     "text": [
      "a == 50, b == 60, c == 20\n",
      "addition of number is:  130\n"
     ]
    }
   ],
   "source": [
    "def addition(a,b,c):\n",
    "    print(f\"a == {a}, b == {b}, c == {c}\")\n",
    "    add = a+b+c\n",
    "    print('addition of number is: ',add)\n",
    "    \n",
    "\n",
    "\n",
    "addition(b=60,c=20,a =50)"
   ]
  },
  {
   "cell_type": "code",
   "execution_count": 22,
   "id": "4f40b4fa",
   "metadata": {},
   "outputs": [
    {
     "name": "stdout",
     "output_type": "stream",
     "text": [
      "a == 50, b == 60, c == 20\n",
      "addition of number is:  130\n"
     ]
    }
   ],
   "source": [
    "def addition(a,b =60,c=20):     #b,c are default args\n",
    "    print(f\"a == {a}, b == {b}, c == {c}\")\n",
    "    add = a+b+c\n",
    "    print('addition of number is: ',add)\n",
    "    \n",
    "\n",
    "\n",
    "addition(50)    #50 is positional"
   ]
  },
  {
   "cell_type": "code",
   "execution_count": 23,
   "id": "fe0592b2",
   "metadata": {},
   "outputs": [
    {
     "ename": "TypeError",
     "evalue": "addition() missing 1 required positional argument: 'a'",
     "output_type": "error",
     "traceback": [
      "\u001b[1;31m---------------------------------------------------------------------------\u001b[0m",
      "\u001b[1;31mTypeError\u001b[0m                                 Traceback (most recent call last)",
      "\u001b[1;32m<ipython-input-23-c8b4e5a58f4c>\u001b[0m in \u001b[0;36m<module>\u001b[1;34m\u001b[0m\n\u001b[0;32m      6\u001b[0m \u001b[1;33m\u001b[0m\u001b[0m\n\u001b[0;32m      7\u001b[0m \u001b[1;33m\u001b[0m\u001b[0m\n\u001b[1;32m----> 8\u001b[1;33m \u001b[0maddition\u001b[0m\u001b[1;33m(\u001b[0m\u001b[1;33m)\u001b[0m\u001b[1;33m\u001b[0m\u001b[1;33m\u001b[0m\u001b[0m\n\u001b[0m",
      "\u001b[1;31mTypeError\u001b[0m: addition() missing 1 required positional argument: 'a'"
     ]
    }
   ],
   "source": [
    "def addition(a,b =60,c=20):     #b,c are default args\n",
    "    print(f\"a == {a}, b == {b}, c == {c}\")\n",
    "    add = a+b+c\n",
    "    print('addition of number is: ',add)\n",
    "    \n",
    "\n",
    "\n",
    "addition()    "
   ]
  },
  {
   "cell_type": "code",
   "execution_count": 24,
   "id": "8d1fa277",
   "metadata": {},
   "outputs": [
    {
     "name": "stdout",
     "output_type": "stream",
     "text": [
      "a == 10, b == 60, c == 20\n",
      "addition of number is:  90\n"
     ]
    }
   ],
   "source": [
    "def addition(a =10,b =60,c=20):     #a, b,c are default args\n",
    "    print(f\"a == {a}, b == {b}, c == {c}\")\n",
    "    add = a+b+c\n",
    "    print('addition of number is: ',add)\n",
    "    \n",
    "\n",
    "\n",
    "addition()  "
   ]
  },
  {
   "cell_type": "code",
   "execution_count": 25,
   "id": "c6c59311",
   "metadata": {},
   "outputs": [
    {
     "ename": "SyntaxError",
     "evalue": "non-default argument follows default argument (<ipython-input-25-ec54116faadd>, line 1)",
     "output_type": "error",
     "traceback": [
      "\u001b[1;36m  File \u001b[1;32m\"<ipython-input-25-ec54116faadd>\"\u001b[1;36m, line \u001b[1;32m1\u001b[0m\n\u001b[1;33m    def addition(a =10,b =60,c):     #a, b,c are default args\u001b[0m\n\u001b[1;37m                 ^\u001b[0m\n\u001b[1;31mSyntaxError\u001b[0m\u001b[1;31m:\u001b[0m non-default argument follows default argument\n"
     ]
    }
   ],
   "source": [
    "def addition(a =10,b =60,c):     #a, b,c are default args\n",
    "    print(f\"a == {a}, b == {b}, c == {c}\")\n",
    "    add = a+b+c\n",
    "    print('addition of number is: ',add)\n",
    "    \n",
    "\n",
    "\n",
    "addition(20)  "
   ]
  },
  {
   "cell_type": "code",
   "execution_count": 26,
   "id": "82a88f6f",
   "metadata": {},
   "outputs": [
    {
     "name": "stdout",
     "output_type": "stream",
     "text": [
      "a == 10, b == 60, c == 20\n",
      "addition of number is:  90\n"
     ]
    }
   ],
   "source": [
    "def addition(c,a =10,b =60):     #a, b,c are default args\n",
    "    print(f\"a == {a}, b == {b}, c == {c}\")\n",
    "    add = a+b+c\n",
    "    print('addition of number is: ',add)\n",
    "    \n",
    "\n",
    "    \n",
    "\n",
    "addition(20)  "
   ]
  },
  {
   "cell_type": "markdown",
   "id": "16f729d8",
   "metadata": {},
   "source": [
    "### 3. Arbitrary positional Argument"
   ]
  },
  {
   "cell_type": "code",
   "execution_count": null,
   "id": "b0a6b35f",
   "metadata": {},
   "outputs": [],
   "source": [
    "*args >>> *arguments\n",
    "if we dont know number of arguments to be passed, then use arbitrary positional arguments\n",
    "\n",
    "datatype of args will be tuple"
   ]
  },
  {
   "cell_type": "code",
   "execution_count": 27,
   "id": "fe056463",
   "metadata": {},
   "outputs": [
    {
     "name": "stdout",
     "output_type": "stream",
     "text": [
      "n1,n2,n3,n4,n5 4 5 6 7 8\n"
     ]
    }
   ],
   "source": [
    "def addition(n1,n2,n3,n4,n5):\n",
    "    print('n1,n2,n3,n4,n5',n1,n2,n3,n4,n5)\n",
    "    \n",
    "addition(4,5,6,7,8)"
   ]
  },
  {
   "cell_type": "code",
   "execution_count": 28,
   "id": "3b1dd9b6",
   "metadata": {},
   "outputs": [
    {
     "ename": "TypeError",
     "evalue": "addition() missing 1 required positional argument: 'n5'",
     "output_type": "error",
     "traceback": [
      "\u001b[1;31m---------------------------------------------------------------------------\u001b[0m",
      "\u001b[1;31mTypeError\u001b[0m                                 Traceback (most recent call last)",
      "\u001b[1;32m<ipython-input-28-cdd87cc13cc1>\u001b[0m in \u001b[0;36m<module>\u001b[1;34m\u001b[0m\n\u001b[0;32m      2\u001b[0m     \u001b[0mprint\u001b[0m\u001b[1;33m(\u001b[0m\u001b[1;34m'n1,n2,n3,n4,n5'\u001b[0m\u001b[1;33m,\u001b[0m\u001b[0mn1\u001b[0m\u001b[1;33m,\u001b[0m\u001b[0mn2\u001b[0m\u001b[1;33m,\u001b[0m\u001b[0mn3\u001b[0m\u001b[1;33m,\u001b[0m\u001b[0mn4\u001b[0m\u001b[1;33m,\u001b[0m\u001b[0mn5\u001b[0m\u001b[1;33m)\u001b[0m\u001b[1;33m\u001b[0m\u001b[1;33m\u001b[0m\u001b[0m\n\u001b[0;32m      3\u001b[0m \u001b[1;33m\u001b[0m\u001b[0m\n\u001b[1;32m----> 4\u001b[1;33m \u001b[0maddition\u001b[0m\u001b[1;33m(\u001b[0m\u001b[1;36m4\u001b[0m\u001b[1;33m,\u001b[0m\u001b[1;36m5\u001b[0m\u001b[1;33m,\u001b[0m\u001b[1;36m6\u001b[0m\u001b[1;33m,\u001b[0m\u001b[1;36m7\u001b[0m\u001b[1;33m)\u001b[0m\u001b[1;33m\u001b[0m\u001b[1;33m\u001b[0m\u001b[0m\n\u001b[0m",
      "\u001b[1;31mTypeError\u001b[0m: addition() missing 1 required positional argument: 'n5'"
     ]
    }
   ],
   "source": [
    "def addition(n1,n2,n3,n4,n5):\n",
    "    print('n1,n2,n3,n4,n5',n1,n2,n3,n4,n5)\n",
    "    \n",
    "addition(4,5,6,7)"
   ]
  },
  {
   "cell_type": "code",
   "execution_count": 29,
   "id": "2bf2600d",
   "metadata": {},
   "outputs": [
    {
     "name": "stdout",
     "output_type": "stream",
     "text": [
      "n1,n2,n3,n4,n5 4 5 6 7 8\n"
     ]
    }
   ],
   "source": [
    "def addition(n1,n2,n3,n4,n5):\n",
    "    print('n1,n2,n3,n4,n5',n1,n2,n3,n4,n5)\n",
    "    \n",
    "addition(4,5,6,7,8)"
   ]
  },
  {
   "cell_type": "code",
   "execution_count": 30,
   "id": "9d35a418",
   "metadata": {},
   "outputs": [
    {
     "ename": "TypeError",
     "evalue": "addition() missing 4 required positional arguments: 'n6', 'n7', 'n8', and 'n9'",
     "output_type": "error",
     "traceback": [
      "\u001b[1;31m---------------------------------------------------------------------------\u001b[0m",
      "\u001b[1;31mTypeError\u001b[0m                                 Traceback (most recent call last)",
      "\u001b[1;32m<ipython-input-30-bc8ca79dea23>\u001b[0m in \u001b[0;36m<module>\u001b[1;34m\u001b[0m\n\u001b[0;32m      2\u001b[0m     \u001b[0mprint\u001b[0m\u001b[1;33m(\u001b[0m\u001b[1;34m'n1,n2,n3,n4,n5,n6,n7,n8,n9'\u001b[0m\u001b[1;33m,\u001b[0m\u001b[0mn1\u001b[0m\u001b[1;33m,\u001b[0m\u001b[0mn2\u001b[0m\u001b[1;33m,\u001b[0m\u001b[0mn3\u001b[0m\u001b[1;33m,\u001b[0m\u001b[0mn4\u001b[0m\u001b[1;33m,\u001b[0m\u001b[0mn5\u001b[0m\u001b[1;33m,\u001b[0m\u001b[0mn6\u001b[0m\u001b[1;33m,\u001b[0m\u001b[0mn7\u001b[0m\u001b[1;33m,\u001b[0m\u001b[0mn8\u001b[0m\u001b[1;33m,\u001b[0m\u001b[0mn9\u001b[0m\u001b[1;33m)\u001b[0m\u001b[1;33m\u001b[0m\u001b[1;33m\u001b[0m\u001b[0m\n\u001b[0;32m      3\u001b[0m \u001b[1;33m\u001b[0m\u001b[0m\n\u001b[1;32m----> 4\u001b[1;33m \u001b[0maddition\u001b[0m\u001b[1;33m(\u001b[0m\u001b[1;36m4\u001b[0m\u001b[1;33m,\u001b[0m\u001b[1;36m5\u001b[0m\u001b[1;33m,\u001b[0m\u001b[1;36m6\u001b[0m\u001b[1;33m,\u001b[0m\u001b[1;36m7\u001b[0m\u001b[1;33m,\u001b[0m\u001b[1;36m8\u001b[0m\u001b[1;33m)\u001b[0m\u001b[1;33m\u001b[0m\u001b[1;33m\u001b[0m\u001b[0m\n\u001b[0m",
      "\u001b[1;31mTypeError\u001b[0m: addition() missing 4 required positional arguments: 'n6', 'n7', 'n8', and 'n9'"
     ]
    }
   ],
   "source": [
    "def addition(n1,n2,n3,n4,n5,n6,n7,n8,n9):\n",
    "    print('n1,n2,n3,n4,n5,n6,n7,n8,n9',n1,n2,n3,n4,n5,n6,n7,n8,n9)\n",
    "    \n",
    "addition(4,5,6,7,8)"
   ]
  },
  {
   "cell_type": "code",
   "execution_count": 31,
   "id": "343291da",
   "metadata": {},
   "outputs": [
    {
     "name": "stdout",
     "output_type": "stream",
     "text": [
      "n1,n2,n3,n4,n5,n6,n7,n8,n9 4 5 6 7 8 5 4 6 87\n"
     ]
    }
   ],
   "source": [
    "def addition(n1,n2,n3,n4,n5,n6,n7,n8,n9):\n",
    "    print('n1,n2,n3,n4,n5,n6,n7,n8,n9',n1,n2,n3,n4,n5,n6,n7,n8,n9)\n",
    "    \n",
    "addition(4,5,6,7,8,5,4,6,87)"
   ]
  },
  {
   "cell_type": "code",
   "execution_count": 32,
   "id": "611e8683",
   "metadata": {},
   "outputs": [
    {
     "name": "stdout",
     "output_type": "stream",
     "text": [
      "args >>  (4, 5, 6, 7, 4, 5)\n",
      "Addition of all items is :  31\n"
     ]
    }
   ],
   "source": [
    "def addition(*args):\n",
    "    print('args >> ',args)\n",
    "    sum2 = 0\n",
    "    for i in args:\n",
    "        sum2+=i\n",
    "    print(\"Addition of all items is : \",sum2)\n",
    "\n",
    "addition(4,5,6,7,4,5)"
   ]
  },
  {
   "cell_type": "code",
   "execution_count": 33,
   "id": "80579c06",
   "metadata": {},
   "outputs": [
    {
     "name": "stdout",
     "output_type": "stream",
     "text": [
      "args >>  (4, 5, 6, 7, 4, 5, 87, 5, 78, 212, 52, 52, 52, 25, 21, 4)\n",
      "Addition of all items is :  619\n"
     ]
    }
   ],
   "source": [
    "def addition(*args):\n",
    "    print('args >> ',args)\n",
    "    sum2 = 0\n",
    "    for i in args:\n",
    "        sum2+=i\n",
    "    print(\"Addition of all items is : \",sum2)\n",
    "\n",
    "addition(4,5,6,7,4,5,87,5,78,212,52,52,52,25,21,4)"
   ]
  },
  {
   "cell_type": "code",
   "execution_count": 36,
   "id": "0e3c6bb6",
   "metadata": {},
   "outputs": [
    {
     "name": "stdout",
     "output_type": "stream",
     "text": [
      "args >>  (4, 5, 6, 7, 4, 5, 87, 5, 78, 212, 52, 52, 52, 25, 21, 4)\n",
      "Addition of all items is :  621\n"
     ]
    }
   ],
   "source": [
    "def addition(*args,a):\n",
    "    print('args >> ',args)\n",
    "    sum2 = a\n",
    "    for i in args:\n",
    "        sum2+=i\n",
    "    print(\"Addition of all items is : \",sum2)\n",
    "\n",
    "addition(4,5,6,7,4,5,87,5,78,212,52,52,52,25,21,4,a=2)"
   ]
  },
  {
   "cell_type": "code",
   "execution_count": 41,
   "id": "441f886e",
   "metadata": {},
   "outputs": [
    {
     "name": "stdout",
     "output_type": "stream",
     "text": [
      "args >>  (4, 5, 6, 7, 4, 5, 87, 5, 78, 212, 52, 52, 52, 25, 21, 4)\n",
      "Addition of all items is :  629\n"
     ]
    }
   ],
   "source": [
    "def addition(a,*args):\n",
    "    print('args >> ',args)\n",
    "    sum2 = a\n",
    "    for i in args:\n",
    "        sum2+=i\n",
    "    print(\"Addition of all items is : \",sum2)\n",
    "a=10\n",
    "addition(a,4,5,6,7,4,5,87,5,78,212,52,52,52,25,21,4)"
   ]
  },
  {
   "cell_type": "code",
   "execution_count": null,
   "id": "33880b4a",
   "metadata": {},
   "outputs": [],
   "source": []
  }
 ],
 "metadata": {
  "kernelspec": {
   "display_name": "Python 3",
   "language": "python",
   "name": "python3"
  },
  "language_info": {
   "codemirror_mode": {
    "name": "ipython",
    "version": 3
   },
   "file_extension": ".py",
   "mimetype": "text/x-python",
   "name": "python",
   "nbconvert_exporter": "python",
   "pygments_lexer": "ipython3",
   "version": "3.8.8"
  }
 },
 "nbformat": 4,
 "nbformat_minor": 5
}
