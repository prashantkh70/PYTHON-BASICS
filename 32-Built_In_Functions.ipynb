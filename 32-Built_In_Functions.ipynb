{
 "cells": [
  {
   "cell_type": "markdown",
   "id": "142ad39b",
   "metadata": {},
   "source": [
    "# Built in Functions"
   ]
  },
  {
   "cell_type": "code",
   "execution_count": null,
   "id": "5f2d6dde",
   "metadata": {},
   "outputs": [],
   "source": [
    "1. int()\n",
    "2. float()\n",
    "3. complex()\n",
    "4. list()\n",
    "5. tuple()\n",
    "6. set()\n",
    "7. frozenset()\n",
    "8. dict()\n",
    "9. bool()\n",
    "10. str()\n",
    "11. print()\n",
    "12. len() \n",
    "13. input() \n",
    "14. range()\n",
    "15. type()\n",
    "16. reversed()\n",
    "17. sorted()\n",
    "18. max()\n",
    "19. min()\n",
    "20. sum()\n",
    "21. chr() \n",
    "22. enumerate()\n"
   ]
  },
  {
   "cell_type": "code",
   "execution_count": null,
   "id": "4fe65b25",
   "metadata": {},
   "outputs": [],
   "source": []
  },
  {
   "cell_type": "code",
   "execution_count": null,
   "id": "7377596c",
   "metadata": {},
   "outputs": [],
   "source": [
    "1. zip()\n",
    "2. filter()\n",
    "3. map()\n",
    "4. all()\n",
    "5. any()\n",
    "6. chr()\n",
    "7. ord()\n",
    "8. bin()\n",
    "9. format()\n",
    "10. eval()\n",
    "11. abs()\n",
    "12. dir()\n",
    "13. round()\n",
    "14. iter()\n",
    "15. next()\n",
    "16. pow()\n",
    "17. divmod()"
   ]
  },
  {
   "cell_type": "markdown",
   "id": "4e7a894e",
   "metadata": {},
   "source": [
    "## 1. zip()"
   ]
  },
  {
   "cell_type": "code",
   "execution_count": 21,
   "id": "6ccf4207",
   "metadata": {},
   "outputs": [],
   "source": [
    "name = ['virat','sachin','rohit','rishabh']\n",
    "\n",
    "age = [35,34,40,29]\n"
   ]
  },
  {
   "cell_type": "code",
   "execution_count": 23,
   "id": "926ff5e9",
   "metadata": {},
   "outputs": [
    {
     "name": "stdout",
     "output_type": "stream",
     "text": [
      "{'virat': 35}\n",
      "{'virat': 35, 'sachin': 34}\n",
      "{'virat': 35, 'sachin': 34, 'rohit': 40}\n",
      "{'virat': 35, 'sachin': 34, 'rohit': 40, 'rishabh': 29}\n"
     ]
    }
   ],
   "source": [
    "name = ['virat','sachin','rohit','rishabh']\n",
    "age = [35,34,40,29]\n",
    "\n",
    "name_age ={}\n",
    "for i,name in enumerate(name):\n",
    "    name_age.update({name : age[i]})\n",
    "    print(name_age)"
   ]
  },
  {
   "cell_type": "code",
   "execution_count": 24,
   "id": "96810be6",
   "metadata": {},
   "outputs": [
    {
     "name": "stdout",
     "output_type": "stream",
     "text": [
      "{'virat': 35, 'sachin': 34, 'rohit': 40, 'rishabh': 29}\n"
     ]
    }
   ],
   "source": [
    "name = ['virat','sachin','rohit','rishabh']\n",
    "age = [35,34,40,29]\n",
    "\n",
    "name_age ={}\n",
    "for i,name in enumerate(name):\n",
    "    name_age.update({name : age[i]})\n",
    "print(name_age)"
   ]
  },
  {
   "cell_type": "code",
   "execution_count": 25,
   "id": "82275dfe",
   "metadata": {},
   "outputs": [
    {
     "data": {
      "text/plain": [
       "{'virat': 35, 'sachin': 34, 'rohit': 40, 'rishabh': 29}"
      ]
     },
     "execution_count": 25,
     "metadata": {},
     "output_type": "execute_result"
    }
   ],
   "source": [
    "name = ['virat','sachin','rohit','rishabh']\n",
    "\n",
    "age = [35,34,40,29]\n",
    "\n",
    "dict(zip(name,age))"
   ]
  },
  {
   "cell_type": "code",
   "execution_count": 26,
   "id": "1dc2519b",
   "metadata": {},
   "outputs": [
    {
     "data": {
      "text/plain": [
       "{'virat': 35, 'sachin': 34, 'rohit': 40, 'rishabh': 29}"
      ]
     },
     "execution_count": 26,
     "metadata": {},
     "output_type": "execute_result"
    }
   ],
   "source": [
    "name = ['virat','sachin','rohit','rishabh','gautam']\n",
    "\n",
    "age = [35,34,40,29]\n",
    "\n",
    "dict(zip(name,age))"
   ]
  },
  {
   "cell_type": "code",
   "execution_count": 27,
   "id": "ea921db2",
   "metadata": {},
   "outputs": [
    {
     "data": {
      "text/plain": [
       "{'virat': 35, 'sachin': 34, 'rohit': 40, 'rishabh': 29}"
      ]
     },
     "execution_count": 27,
     "metadata": {},
     "output_type": "execute_result"
    }
   ],
   "source": [
    "name = ['virat','sachin','rohit','rishabh']\n",
    "\n",
    "age = [35,34,40,29,45]\n",
    "\n",
    "dict(zip(name,age))"
   ]
  },
  {
   "cell_type": "markdown",
   "id": "922c2b15",
   "metadata": {},
   "source": [
    "## 2. filter()"
   ]
  },
  {
   "cell_type": "code",
   "execution_count": null,
   "id": "9f4aaecc",
   "metadata": {},
   "outputs": [],
   "source": [
    "filter(function_name,iterable)\n",
    "\n",
    "it returns only true values\n",
    "tuple(filter(function_name,iterable))\n",
    "list(filter(function_name,iterable))"
   ]
  },
  {
   "cell_type": "code",
   "execution_count": 28,
   "id": "bbf7172e",
   "metadata": {},
   "outputs": [
    {
     "data": {
      "text/plain": [
       "[5, 7, 45, 7, 93]"
      ]
     },
     "execution_count": 28,
     "metadata": {},
     "output_type": "execute_result"
    }
   ],
   "source": [
    "list1= [4,5,2,7,10,45,36,7,78,93]\n",
    "odd_numbers =[]\n",
    "for i in list1:\n",
    "    if i%2 !=0:\n",
    "        odd_numbers.append(i)\n",
    "odd_numbers"
   ]
  },
  {
   "cell_type": "code",
   "execution_count": 30,
   "id": "8145b66b",
   "metadata": {},
   "outputs": [
    {
     "data": {
      "text/plain": [
       "[5, 7, 45, 7, 93]"
      ]
     },
     "execution_count": 30,
     "metadata": {},
     "output_type": "execute_result"
    }
   ],
   "source": [
    "list1= [4,5,2,7,10,45,36,7,78,93]\n",
    "\n",
    "def odd_numbers(x):\n",
    "    if x %2 !=0:\n",
    "        return x\n",
    "    \n",
    "list(filter(odd_numbers,list1))"
   ]
  },
  {
   "cell_type": "code",
   "execution_count": 31,
   "id": "a4a549d9",
   "metadata": {},
   "outputs": [
    {
     "data": {
      "text/plain": [
       "[1, 3, 5, 95, 93]"
      ]
     },
     "execution_count": 31,
     "metadata": {},
     "output_type": "execute_result"
    }
   ],
   "source": [
    "list(filter(odd_numbers,[1,2,3,4,5,6,78,52,48,96,98,95,93]))"
   ]
  },
  {
   "cell_type": "code",
   "execution_count": 32,
   "id": "a926e8f0",
   "metadata": {},
   "outputs": [
    {
     "name": "stdout",
     "output_type": "stream",
     "text": [
      "x ==  4\n",
      "x ==  5\n",
      "x ==  2\n",
      "x ==  7\n",
      "x ==  10\n",
      "x ==  45\n",
      "x ==  36\n",
      "x ==  7\n",
      "x ==  78\n",
      "x ==  93\n"
     ]
    },
    {
     "data": {
      "text/plain": [
       "[5, 7, 45, 7, 93]"
      ]
     },
     "execution_count": 32,
     "metadata": {},
     "output_type": "execute_result"
    }
   ],
   "source": [
    "list1= [4,5,2,7,10,45,36,7,78,93]\n",
    "\n",
    "def odd_numbers(x):\n",
    "    print('x == ',x)\n",
    "    if x %2 !=0:\n",
    "        return x\n",
    "    \n",
    "list(filter(odd_numbers,list1))"
   ]
  },
  {
   "cell_type": "code",
   "execution_count": 33,
   "id": "36073541",
   "metadata": {},
   "outputs": [
    {
     "data": {
      "text/plain": [
       "[5, 7, 45, 7, 93]"
      ]
     },
     "execution_count": 33,
     "metadata": {},
     "output_type": "execute_result"
    }
   ],
   "source": [
    "list1= [4,5,2,7,10,45,36,7,78,93]\n",
    "\n",
    "odd_list = list(filter(lambda x :x%2!=0,list1))\n",
    "odd_list"
   ]
  },
  {
   "cell_type": "code",
   "execution_count": 34,
   "id": "3bfedad5",
   "metadata": {},
   "outputs": [
    {
     "data": {
      "text/plain": [
       "[4, 2, 10, 36, 78]"
      ]
     },
     "execution_count": 34,
     "metadata": {},
     "output_type": "execute_result"
    }
   ],
   "source": [
    "list1= [4,5,2,7,10,45,36,7,78,93]\n",
    "\n",
    "even_list = list(filter(lambda x :x%2==0,list1))\n",
    "even_list"
   ]
  },
  {
   "cell_type": "code",
   "execution_count": 37,
   "id": "3f968c97",
   "metadata": {},
   "outputs": [
    {
     "name": "stdout",
     "output_type": "stream",
     "text": [
      "['y', 't', 'h', 'o', 'n', 'n', 'd', 'a', 'c', 'h', 'i', 'n', 'e', 'e', 'a', 'r', 'n', 'i', 'n', 'g']\n"
     ]
    }
   ],
   "source": [
    "string = 'Python And Machine Learning'\n",
    "\n",
    "lower = list(filter(lambda x: x.islower(), string))\n",
    "print(lower)"
   ]
  },
  {
   "cell_type": "code",
   "execution_count": null,
   "id": "f084ae14",
   "metadata": {},
   "outputs": [],
   "source": [
    "string = 'Python And Machine Learning'\n",
    "\n",
    "lower = list(filter(lambda x: x.lower(), string))\n",
    "print(lower)"
   ]
  },
  {
   "cell_type": "code",
   "execution_count": 39,
   "id": "f162907d",
   "metadata": {},
   "outputs": [
    {
     "name": "stdout",
     "output_type": "stream",
     "text": [
      "['y', 't', 'h', 'o', 'n', 'n', 'd', 'a', 'c', 'h', 'i', 'n', 'e', 'e', 'a', 'r', 'n', 'i', 'n', 'g']\n"
     ]
    }
   ],
   "source": [
    "string = 'Python And Machine Learning'\n",
    "\n",
    "lower = list(filter(lambda x: x.islower(), string))\n",
    "print(lower)"
   ]
  },
  {
   "cell_type": "code",
   "execution_count": 42,
   "id": "4493c28b",
   "metadata": {},
   "outputs": [
    {
     "name": "stdout",
     "output_type": "stream",
     "text": [
      "['P', 'A', 'M', 'L']\n"
     ]
    }
   ],
   "source": [
    "string = 'Python And Machine Learning'\n",
    "\n",
    "upper = list(filter(lambda x: x.isupper(), string))\n",
    "print(upper)"
   ]
  },
  {
   "cell_type": "markdown",
   "id": "aa81834c",
   "metadata": {},
   "source": [
    "## 3. map()"
   ]
  },
  {
   "cell_type": "code",
   "execution_count": null,
   "id": "7135c3aa",
   "metadata": {},
   "outputs": [],
   "source": [
    "map(function_name,iterable)\n",
    "list\n",
    "tuple"
   ]
  },
  {
   "cell_type": "code",
   "execution_count": 46,
   "id": "2d2ccd59",
   "metadata": {},
   "outputs": [
    {
     "data": {
      "text/plain": [
       "[16, 25, 4, 36, 9, 1, 6084, 81, 25, 144, 2025, 625, 484]"
      ]
     },
     "execution_count": 46,
     "metadata": {},
     "output_type": "execute_result"
    }
   ],
   "source": [
    "list1 = [4,5,2,6,3,1,78,9,5,12,45,25,22]\n",
    "\n",
    "list(map(lambda x: x**2,list1))"
   ]
  },
  {
   "cell_type": "code",
   "execution_count": 45,
   "id": "c0a6f836",
   "metadata": {},
   "outputs": [
    {
     "data": {
      "text/plain": [
       "[64, 125, 8, 216, 27, 1, 474552, 729, 125, 1728, 91125, 15625, 10648]"
      ]
     },
     "execution_count": 45,
     "metadata": {},
     "output_type": "execute_result"
    }
   ],
   "source": [
    "list1 = [4,5,2,6,3,1,78,9,5,12,45,25,22]\n",
    "\n",
    "list(map(lambda x: x**3,list1))"
   ]
  },
  {
   "cell_type": "code",
   "execution_count": 47,
   "id": "aa70c232",
   "metadata": {},
   "outputs": [
    {
     "data": {
      "text/plain": [
       "[6, 7, 4, 8, 5, 3, 80, 11, 7, 14, 47, 27, 24]"
      ]
     },
     "execution_count": 47,
     "metadata": {},
     "output_type": "execute_result"
    }
   ],
   "source": [
    "list1 = [4,5,2,6,3,1,78,9,5,12,45,25,22]\n",
    "\n",
    "list(map(lambda x: x+2,list1))"
   ]
  },
  {
   "cell_type": "code",
   "execution_count": 48,
   "id": "063b1cfb",
   "metadata": {},
   "outputs": [
    {
     "name": "stdout",
     "output_type": "stream",
     "text": [
      "['P', 'Y', 'T', 'H', 'O', 'N', ' ', 'A', 'N', 'D', ' ', 'M', 'A', 'C', 'H', 'I', 'N', 'E', ' ', 'L', 'E', 'A', 'R', 'N', 'I', 'N', 'G']\n"
     ]
    }
   ],
   "source": [
    "string = 'Python And Machine Learning'\n",
    "\n",
    "upper = list(map(lambda x: x.upper(), string))\n",
    "print(upper)"
   ]
  },
  {
   "cell_type": "code",
   "execution_count": 50,
   "id": "d97126fd",
   "metadata": {},
   "outputs": [
    {
     "name": "stdout",
     "output_type": "stream",
     "text": [
      "['p', 'y', 't', 'h', 'o', 'n', ' ', 'a', 'n', 'd', ' ', 'm', 'a', 'c', 'h', 'i', 'n', 'e', ' ', 'l', 'e', 'a', 'r', 'n', 'i', 'n', 'g']\n"
     ]
    }
   ],
   "source": [
    "string = 'Python And Machine Learning'\n",
    "\n",
    "lower = list(map(lambda x: x.lower(), string))\n",
    "print(lower)"
   ]
  },
  {
   "cell_type": "code",
   "execution_count": 51,
   "id": "300e166b",
   "metadata": {},
   "outputs": [
    {
     "data": {
      "text/plain": [
       "['Sunday', 'Monday', 'Friday']"
      ]
     },
     "execution_count": 51,
     "metadata": {},
     "output_type": "execute_result"
    }
   ],
   "source": [
    "weekdays = ['Sunday', 'Monday','Tuesday','Wedenday','Thrusday','Friday','Saturday']\n",
    "list(filter(lambda x:len(x)==6,weekdays))"
   ]
  },
  {
   "cell_type": "code",
   "execution_count": 52,
   "id": "e70b93af",
   "metadata": {},
   "outputs": [
    {
     "data": {
      "text/plain": [
       "['SUNDAY', 'MONDAY', 'TUESDAY', 'WEDENDAY', 'THRUSDAY', 'FRIDAY', 'SATURDAY']"
      ]
     },
     "execution_count": 52,
     "metadata": {},
     "output_type": "execute_result"
    }
   ],
   "source": [
    "weekdays = ['Sunday', 'Monday','Tuesday','Wedenday','Thrusday','Friday','Saturday']\n",
    "list(map(lambda x:x.upper(),weekdays))"
   ]
  },
  {
   "cell_type": "markdown",
   "id": "d64f823c",
   "metadata": {},
   "source": [
    "## 4. all()"
   ]
  },
  {
   "cell_type": "code",
   "execution_count": null,
   "id": "7aa5a469",
   "metadata": {},
   "outputs": [],
   "source": [
    "all(iterable)\n",
    "\n",
    "True >> if all elements are true (except 0 and False)\n",
    "True >> if iterable is empty"
   ]
  },
  {
   "cell_type": "code",
   "execution_count": 53,
   "id": "757f021b",
   "metadata": {},
   "outputs": [
    {
     "data": {
      "text/plain": [
       "True"
      ]
     },
     "execution_count": 53,
     "metadata": {},
     "output_type": "execute_result"
    }
   ],
   "source": [
    "list1 = [4,5,6,78,9]\n",
    "all(list1)"
   ]
  },
  {
   "cell_type": "code",
   "execution_count": 54,
   "id": "24cc10b4",
   "metadata": {},
   "outputs": [
    {
     "data": {
      "text/plain": [
       "True"
      ]
     },
     "execution_count": 54,
     "metadata": {},
     "output_type": "execute_result"
    }
   ],
   "source": [
    "list1 = [4,5,6,78,9,True]\n",
    "all(list1)"
   ]
  },
  {
   "cell_type": "code",
   "execution_count": 55,
   "id": "345fd0ae",
   "metadata": {},
   "outputs": [
    {
     "data": {
      "text/plain": [
       "False"
      ]
     },
     "execution_count": 55,
     "metadata": {},
     "output_type": "execute_result"
    }
   ],
   "source": [
    "list1 = [4,5,6,0,78,9,True]\n",
    "all(list1)"
   ]
  },
  {
   "cell_type": "code",
   "execution_count": 56,
   "id": "73f97ceb",
   "metadata": {},
   "outputs": [
    {
     "data": {
      "text/plain": [
       "False"
      ]
     },
     "execution_count": 56,
     "metadata": {},
     "output_type": "execute_result"
    }
   ],
   "source": [
    "list1 = [4,5,6,78,False,9,True]\n",
    "all(list1)"
   ]
  },
  {
   "cell_type": "code",
   "execution_count": null,
   "id": "744d8d56",
   "metadata": {},
   "outputs": [],
   "source": [
    "list1 = [4,5,6,78,False,9,True]\n",
    "all(list1)"
   ]
  },
  {
   "cell_type": "code",
   "execution_count": 57,
   "id": "644461e6",
   "metadata": {},
   "outputs": [
    {
     "data": {
      "text/plain": [
       "True"
      ]
     },
     "execution_count": 57,
     "metadata": {},
     "output_type": "execute_result"
    }
   ],
   "source": [
    "list1 = []\n",
    "all(list1)"
   ]
  },
  {
   "cell_type": "code",
   "execution_count": 58,
   "id": "4bcdfb30",
   "metadata": {},
   "outputs": [
    {
     "data": {
      "text/plain": [
       "False"
      ]
     },
     "execution_count": 58,
     "metadata": {},
     "output_type": "execute_result"
    }
   ],
   "source": [
    "list1 = [4,5,'a',6,78,False,9,True]\n",
    "all(list1)"
   ]
  },
  {
   "cell_type": "code",
   "execution_count": 59,
   "id": "da5035b9",
   "metadata": {},
   "outputs": [
    {
     "data": {
      "text/plain": [
       "True"
      ]
     },
     "execution_count": 59,
     "metadata": {},
     "output_type": "execute_result"
    }
   ],
   "source": [
    "list1 = [4,5,'a',6,78,3.5,9,True]\n",
    "all(list1)"
   ]
  },
  {
   "cell_type": "code",
   "execution_count": 60,
   "id": "e99617aa",
   "metadata": {},
   "outputs": [
    {
     "data": {
      "text/plain": [
       "True"
      ]
     },
     "execution_count": 60,
     "metadata": {},
     "output_type": "execute_result"
    }
   ],
   "source": [
    "tuple1 = (3,5,4,'python',3.5)\n",
    "all(tuple1)"
   ]
  },
  {
   "cell_type": "code",
   "execution_count": 61,
   "id": "564c5c95",
   "metadata": {},
   "outputs": [
    {
     "data": {
      "text/plain": [
       "False"
      ]
     },
     "execution_count": 61,
     "metadata": {},
     "output_type": "execute_result"
    }
   ],
   "source": [
    "tuple1 = (3,5,4,'python',3.5,0)\n",
    "all(tuple1)"
   ]
  },
  {
   "cell_type": "code",
   "execution_count": 62,
   "id": "a969b0c2",
   "metadata": {},
   "outputs": [
    {
     "data": {
      "text/plain": [
       "True"
      ]
     },
     "execution_count": 62,
     "metadata": {},
     "output_type": "execute_result"
    }
   ],
   "source": [
    "tuple1 = (3,5,4,'python',3.5,True)\n",
    "all(tuple1)"
   ]
  },
  {
   "cell_type": "code",
   "execution_count": 63,
   "id": "01a140fd",
   "metadata": {},
   "outputs": [
    {
     "data": {
      "text/plain": [
       "False"
      ]
     },
     "execution_count": 63,
     "metadata": {},
     "output_type": "execute_result"
    }
   ],
   "source": [
    "tuple1 = (3,5,4,'python',3.5,False)\n",
    "all(tuple1)"
   ]
  },
  {
   "cell_type": "code",
   "execution_count": 64,
   "id": "4c8027ba",
   "metadata": {},
   "outputs": [
    {
     "data": {
      "text/plain": [
       "True"
      ]
     },
     "execution_count": 64,
     "metadata": {},
     "output_type": "execute_result"
    }
   ],
   "source": [
    "d1 = {'a':45,2:56,'g':'python'}\n",
    "all(d1)"
   ]
  },
  {
   "cell_type": "code",
   "execution_count": 65,
   "id": "ea3e6670",
   "metadata": {},
   "outputs": [
    {
     "data": {
      "text/plain": [
       "False"
      ]
     },
     "execution_count": 65,
     "metadata": {},
     "output_type": "execute_result"
    }
   ],
   "source": [
    "d1 = {0:0,'a':45,2:56,'g':'python'}\n",
    "all(d1)"
   ]
  },
  {
   "cell_type": "code",
   "execution_count": 66,
   "id": "ef94be06",
   "metadata": {},
   "outputs": [
    {
     "data": {
      "text/plain": [
       "False"
      ]
     },
     "execution_count": 66,
     "metadata": {},
     "output_type": "execute_result"
    }
   ],
   "source": [
    "d1 = {0:3.5,'a':45,2:56,'g':'python'}\n",
    "all(d1)"
   ]
  },
  {
   "cell_type": "code",
   "execution_count": 67,
   "id": "f65e8b3e",
   "metadata": {},
   "outputs": [
    {
     "data": {
      "text/plain": [
       "True"
      ]
     },
     "execution_count": 67,
     "metadata": {},
     "output_type": "execute_result"
    }
   ],
   "source": [
    "d1 = {'c':3.5,'a':0,2:56,'g':'python'}\n",
    "all(d1)  # keys should be true value"
   ]
  },
  {
   "cell_type": "code",
   "execution_count": 68,
   "id": "e829c059",
   "metadata": {},
   "outputs": [
    {
     "data": {
      "text/plain": [
       "True"
      ]
     },
     "execution_count": 68,
     "metadata": {},
     "output_type": "execute_result"
    }
   ],
   "source": [
    "d1 ={}\n",
    "all(d1)"
   ]
  },
  {
   "cell_type": "code",
   "execution_count": 69,
   "id": "1f936180",
   "metadata": {},
   "outputs": [
    {
     "data": {
      "text/plain": [
       "True"
      ]
     },
     "execution_count": 69,
     "metadata": {},
     "output_type": "execute_result"
    }
   ],
   "source": [
    "string = '0214568'\n",
    "all(string)"
   ]
  },
  {
   "cell_type": "code",
   "execution_count": 71,
   "id": "fb1ff16b",
   "metadata": {},
   "outputs": [
    {
     "data": {
      "text/plain": [
       "True"
      ]
     },
     "execution_count": 71,
     "metadata": {},
     "output_type": "execute_result"
    }
   ],
   "source": [
    "string = 'False'\n",
    "all(string)"
   ]
  },
  {
   "cell_type": "code",
   "execution_count": null,
   "id": "ad0e5134",
   "metadata": {},
   "outputs": [],
   "source": []
  },
  {
   "cell_type": "code",
   "execution_count": 70,
   "id": "9fdc80e2",
   "metadata": {},
   "outputs": [
    {
     "data": {
      "text/plain": [
       "True"
      ]
     },
     "execution_count": 70,
     "metadata": {},
     "output_type": "execute_result"
    }
   ],
   "source": [
    "string = 'abacasfsr'\n",
    "all(string)"
   ]
  },
  {
   "cell_type": "markdown",
   "id": "59c6dcf4",
   "metadata": {},
   "source": [
    "## 5. any()"
   ]
  },
  {
   "cell_type": "code",
   "execution_count": null,
   "id": "832a500b",
   "metadata": {},
   "outputs": [],
   "source": [
    "any(iterable)\n",
    "\n",
    "True >> if any element is True\n",
    "True >> if iterable is not empty"
   ]
  },
  {
   "cell_type": "code",
   "execution_count": 72,
   "id": "14fe455f",
   "metadata": {},
   "outputs": [
    {
     "data": {
      "text/plain": [
       "True"
      ]
     },
     "execution_count": 72,
     "metadata": {},
     "output_type": "execute_result"
    }
   ],
   "source": [
    "list1 = [1,2,3,45]\n",
    "any(list1)"
   ]
  },
  {
   "cell_type": "code",
   "execution_count": 73,
   "id": "cbdc964b",
   "metadata": {},
   "outputs": [
    {
     "data": {
      "text/plain": [
       "True"
      ]
     },
     "execution_count": 73,
     "metadata": {},
     "output_type": "execute_result"
    }
   ],
   "source": [
    "list1 = [1,2,3,45]\n",
    "all(list1)"
   ]
  },
  {
   "cell_type": "code",
   "execution_count": 74,
   "id": "ddf3804f",
   "metadata": {},
   "outputs": [
    {
     "data": {
      "text/plain": [
       "False"
      ]
     },
     "execution_count": 74,
     "metadata": {},
     "output_type": "execute_result"
    }
   ],
   "source": [
    "list1 = [1,2,3,45,0]\n",
    "all(list1)"
   ]
  },
  {
   "cell_type": "code",
   "execution_count": 76,
   "id": "e0996477",
   "metadata": {},
   "outputs": [
    {
     "data": {
      "text/plain": [
       "True"
      ]
     },
     "execution_count": 76,
     "metadata": {},
     "output_type": "execute_result"
    }
   ],
   "source": [
    "list1 = [1,False,0,0,0]\n",
    "any(list1)"
   ]
  },
  {
   "cell_type": "code",
   "execution_count": null,
   "id": "a13dadbc",
   "metadata": {},
   "outputs": [],
   "source": []
  },
  {
   "cell_type": "code",
   "execution_count": 77,
   "id": "9e994121",
   "metadata": {},
   "outputs": [
    {
     "data": {
      "text/plain": [
       "False"
      ]
     },
     "execution_count": 77,
     "metadata": {},
     "output_type": "execute_result"
    }
   ],
   "source": [
    "list1 = [False,0,0,0]\n",
    "any(list1)"
   ]
  },
  {
   "cell_type": "code",
   "execution_count": 78,
   "id": "b7943902",
   "metadata": {},
   "outputs": [
    {
     "data": {
      "text/plain": [
       "False"
      ]
     },
     "execution_count": 78,
     "metadata": {},
     "output_type": "execute_result"
    }
   ],
   "source": [
    "tuple1 =()\n",
    "any(tuple1)"
   ]
  },
  {
   "cell_type": "code",
   "execution_count": 79,
   "id": "c329125c",
   "metadata": {},
   "outputs": [
    {
     "data": {
      "text/plain": [
       "True"
      ]
     },
     "execution_count": 79,
     "metadata": {},
     "output_type": "execute_result"
    }
   ],
   "source": [
    "tuple1 =(3,)\n",
    "any(tuple1)"
   ]
  },
  {
   "cell_type": "code",
   "execution_count": 80,
   "id": "b300f419",
   "metadata": {},
   "outputs": [
    {
     "data": {
      "text/plain": [
       "False"
      ]
     },
     "execution_count": 80,
     "metadata": {},
     "output_type": "execute_result"
    }
   ],
   "source": [
    "list1 = [0,0,0]\n",
    "any(list1)"
   ]
  },
  {
   "cell_type": "code",
   "execution_count": 81,
   "id": "fb32231a",
   "metadata": {},
   "outputs": [
    {
     "data": {
      "text/plain": [
       "True"
      ]
     },
     "execution_count": 81,
     "metadata": {},
     "output_type": "execute_result"
    }
   ],
   "source": [
    "list1= [True, False]\n",
    "any(list1)"
   ]
  },
  {
   "cell_type": "code",
   "execution_count": 82,
   "id": "0126ecfb",
   "metadata": {},
   "outputs": [
    {
     "name": "stdout",
     "output_type": "stream",
     "text": [
      "False\n",
      "True\n"
     ]
    }
   ],
   "source": [
    "set1 = {'A': 100,0:200}\n",
    "print(all(set1)) #false\n",
    "print(any(set1)) #true"
   ]
  },
  {
   "cell_type": "code",
   "execution_count": 83,
   "id": "74c85489",
   "metadata": {},
   "outputs": [
    {
     "name": "stdout",
     "output_type": "stream",
     "text": [
      "All values are True\n"
     ]
    }
   ],
   "source": [
    "iterable = [3,4,5,6,7,8]\n",
    "if all(iterable):\n",
    "    print('All values are True')\n",
    "else:\n",
    "    print('One or More elements are False')"
   ]
  },
  {
   "cell_type": "code",
   "execution_count": 84,
   "id": "6fb9f94d",
   "metadata": {},
   "outputs": [
    {
     "name": "stdout",
     "output_type": "stream",
     "text": [
      "One or More elements are False\n"
     ]
    }
   ],
   "source": [
    "iterable = [3,4,5,6,7,8,False]\n",
    "if all(iterable):\n",
    "    print('All values are True')\n",
    "else:\n",
    "    print('One or More elements are False')"
   ]
  },
  {
   "cell_type": "markdown",
   "id": "2a792e45",
   "metadata": {},
   "source": [
    "## 6. chr()"
   ]
  },
  {
   "cell_type": "code",
   "execution_count": 85,
   "id": "814d66e1",
   "metadata": {},
   "outputs": [
    {
     "data": {
      "text/plain": [
       "'A'"
      ]
     },
     "execution_count": 85,
     "metadata": {},
     "output_type": "execute_result"
    }
   ],
   "source": [
    "chr(65)"
   ]
  },
  {
   "cell_type": "code",
   "execution_count": 86,
   "id": "3e19303f",
   "metadata": {},
   "outputs": [
    {
     "data": {
      "text/plain": [
       "'z'"
      ]
     },
     "execution_count": 86,
     "metadata": {},
     "output_type": "execute_result"
    }
   ],
   "source": [
    "chr(122)"
   ]
  },
  {
   "cell_type": "code",
   "execution_count": 87,
   "id": "8e2c4591",
   "metadata": {},
   "outputs": [
    {
     "data": {
      "text/plain": [
       "'-'"
      ]
     },
     "execution_count": 87,
     "metadata": {},
     "output_type": "execute_result"
    }
   ],
   "source": [
    "chr(45)"
   ]
  },
  {
   "cell_type": "code",
   "execution_count": 88,
   "id": "929e4c66",
   "metadata": {},
   "outputs": [
    {
     "data": {
      "text/plain": [
       "'_'"
      ]
     },
     "execution_count": 88,
     "metadata": {},
     "output_type": "execute_result"
    }
   ],
   "source": [
    "chr(95)"
   ]
  },
  {
   "cell_type": "code",
   "execution_count": 89,
   "id": "77fa5c88",
   "metadata": {},
   "outputs": [
    {
     "data": {
      "text/plain": [
       "'@'"
      ]
     },
     "execution_count": 89,
     "metadata": {},
     "output_type": "execute_result"
    }
   ],
   "source": [
    "chr(64)"
   ]
  },
  {
   "cell_type": "code",
   "execution_count": 90,
   "id": "35ca31e4",
   "metadata": {},
   "outputs": [
    {
     "data": {
      "text/plain": [
       "'<'"
      ]
     },
     "execution_count": 90,
     "metadata": {},
     "output_type": "execute_result"
    }
   ],
   "source": [
    "chr(60)"
   ]
  },
  {
   "cell_type": "markdown",
   "id": "2a7386f8",
   "metadata": {},
   "source": [
    "## 7. ord()"
   ]
  },
  {
   "cell_type": "code",
   "execution_count": 91,
   "id": "87d25b30",
   "metadata": {},
   "outputs": [
    {
     "data": {
      "text/plain": [
       "60"
      ]
     },
     "execution_count": 91,
     "metadata": {},
     "output_type": "execute_result"
    }
   ],
   "source": [
    "ord('<')"
   ]
  },
  {
   "cell_type": "code",
   "execution_count": 92,
   "id": "293f5c82",
   "metadata": {},
   "outputs": [
    {
     "data": {
      "text/plain": [
       "64"
      ]
     },
     "execution_count": 92,
     "metadata": {},
     "output_type": "execute_result"
    }
   ],
   "source": [
    "ord('@')"
   ]
  },
  {
   "cell_type": "code",
   "execution_count": 93,
   "id": "05ddb7da",
   "metadata": {},
   "outputs": [
    {
     "data": {
      "text/plain": [
       "42"
      ]
     },
     "execution_count": 93,
     "metadata": {},
     "output_type": "execute_result"
    }
   ],
   "source": [
    "ord('*')"
   ]
  },
  {
   "cell_type": "code",
   "execution_count": 94,
   "id": "079674b8",
   "metadata": {},
   "outputs": [
    {
     "data": {
      "text/plain": [
       "122"
      ]
     },
     "execution_count": 94,
     "metadata": {},
     "output_type": "execute_result"
    }
   ],
   "source": [
    "ord('z')"
   ]
  },
  {
   "cell_type": "code",
   "execution_count": 95,
   "id": "e543182c",
   "metadata": {},
   "outputs": [
    {
     "data": {
      "text/plain": [
       "45"
      ]
     },
     "execution_count": 95,
     "metadata": {},
     "output_type": "execute_result"
    }
   ],
   "source": [
    "ord('-')"
   ]
  },
  {
   "cell_type": "code",
   "execution_count": 96,
   "id": "61e13603",
   "metadata": {},
   "outputs": [
    {
     "data": {
      "text/plain": [
       "95"
      ]
     },
     "execution_count": 96,
     "metadata": {},
     "output_type": "execute_result"
    }
   ],
   "source": [
    "ord('_')"
   ]
  },
  {
   "cell_type": "markdown",
   "id": "d1d1fa15",
   "metadata": {},
   "source": [
    "## 8. bin()"
   ]
  },
  {
   "cell_type": "code",
   "execution_count": 97,
   "id": "4a67e14d",
   "metadata": {},
   "outputs": [
    {
     "data": {
      "text/plain": [
       "'0b1011'"
      ]
     },
     "execution_count": 97,
     "metadata": {},
     "output_type": "execute_result"
    }
   ],
   "source": [
    "bin(11)"
   ]
  },
  {
   "cell_type": "code",
   "execution_count": 98,
   "id": "710c099a",
   "metadata": {},
   "outputs": [
    {
     "data": {
      "text/plain": [
       "'1011'"
      ]
     },
     "execution_count": 98,
     "metadata": {},
     "output_type": "execute_result"
    }
   ],
   "source": [
    "x = bin(11).replace('0b','')\n",
    "x"
   ]
  },
  {
   "cell_type": "code",
   "execution_count": 99,
   "id": "6e2519e0",
   "metadata": {},
   "outputs": [
    {
     "data": {
      "text/plain": [
       "'1111'"
      ]
     },
     "execution_count": 99,
     "metadata": {},
     "output_type": "execute_result"
    }
   ],
   "source": [
    "x = bin(11).replace('0b','')\n",
    "x"
   ]
  },
  {
   "cell_type": "code",
   "execution_count": 100,
   "id": "5469279e",
   "metadata": {},
   "outputs": [
    {
     "data": {
      "text/plain": [
       "'0b100010'"
      ]
     },
     "execution_count": 100,
     "metadata": {},
     "output_type": "execute_result"
    }
   ],
   "source": [
    "bin(34)"
   ]
  },
  {
   "cell_type": "code",
   "execution_count": 101,
   "id": "5fe94087",
   "metadata": {},
   "outputs": [
    {
     "data": {
      "text/plain": [
       "'100010'"
      ]
     },
     "execution_count": 101,
     "metadata": {},
     "output_type": "execute_result"
    }
   ],
   "source": [
    "x = bin(34).replace('0b','')\n",
    "x"
   ]
  },
  {
   "cell_type": "markdown",
   "id": "e0f42651",
   "metadata": {},
   "source": [
    "## 9. format()"
   ]
  },
  {
   "cell_type": "code",
   "execution_count": 102,
   "id": "7fd7e2cf",
   "metadata": {},
   "outputs": [
    {
     "data": {
      "text/plain": [
       "'1100'"
      ]
     },
     "execution_count": 102,
     "metadata": {},
     "output_type": "execute_result"
    }
   ],
   "source": [
    "format(12,'b')"
   ]
  },
  {
   "cell_type": "code",
   "execution_count": 103,
   "id": "c3af881d",
   "metadata": {},
   "outputs": [
    {
     "data": {
      "text/plain": [
       "'100000'"
      ]
     },
     "execution_count": 103,
     "metadata": {},
     "output_type": "execute_result"
    }
   ],
   "source": [
    "format(32,'b')"
   ]
  },
  {
   "cell_type": "code",
   "execution_count": 104,
   "id": "46ec8f1e",
   "metadata": {},
   "outputs": [
    {
     "data": {
      "text/plain": [
       "'100010'"
      ]
     },
     "execution_count": 104,
     "metadata": {},
     "output_type": "execute_result"
    }
   ],
   "source": [
    "format(34,'b')"
   ]
  },
  {
   "cell_type": "code",
   "execution_count": 105,
   "id": "a5b2da7b",
   "metadata": {},
   "outputs": [
    {
     "data": {
      "text/plain": [
       "'4.000000'"
      ]
     },
     "execution_count": 105,
     "metadata": {},
     "output_type": "execute_result"
    }
   ],
   "source": [
    "format(4,'f')"
   ]
  },
  {
   "cell_type": "markdown",
   "id": "02d4a079",
   "metadata": {},
   "source": [
    "## 10. eval()"
   ]
  },
  {
   "cell_type": "code",
   "execution_count": 106,
   "id": "d74a98ae",
   "metadata": {},
   "outputs": [
    {
     "name": "stdout",
     "output_type": "stream",
     "text": [
      "Enter value of a : 35\n",
      "35 <class 'str'>\n"
     ]
    }
   ],
   "source": [
    "a = input('Enter value of a : ')\n",
    "print(a,type(a))"
   ]
  },
  {
   "cell_type": "code",
   "execution_count": 107,
   "id": "c8fb30bc",
   "metadata": {},
   "outputs": [
    {
     "name": "stdout",
     "output_type": "stream",
     "text": [
      "Enter value of a : 35\n",
      "35 <class 'int'>\n"
     ]
    }
   ],
   "source": [
    "a = int(input('Enter value of a : '))\n",
    "print(a,type(a))"
   ]
  },
  {
   "cell_type": "code",
   "execution_count": 108,
   "id": "6d1d6f36",
   "metadata": {},
   "outputs": [
    {
     "name": "stdout",
     "output_type": "stream",
     "text": [
      "Enter value of a : 56.3\n",
      "56.3 <class 'float'>\n"
     ]
    }
   ],
   "source": [
    "a = float(input('Enter value of a : '))\n",
    "print(a,type(a))"
   ]
  },
  {
   "cell_type": "code",
   "execution_count": 109,
   "id": "41e85b90",
   "metadata": {},
   "outputs": [
    {
     "name": "stdout",
     "output_type": "stream",
     "text": [
      "Enter value of a : 56\n",
      "56.0 <class 'float'>\n"
     ]
    }
   ],
   "source": [
    "a = float(input('Enter value of a : '))\n",
    "print(a,type(a))"
   ]
  },
  {
   "cell_type": "code",
   "execution_count": 110,
   "id": "9338965e",
   "metadata": {},
   "outputs": [
    {
     "name": "stdout",
     "output_type": "stream",
     "text": [
      "Enter value of a : 32.5\n",
      "32.5 <class 'float'>\n"
     ]
    }
   ],
   "source": [
    "a = eval(input('Enter value of a : '))\n",
    "print(a,type(a))"
   ]
  },
  {
   "cell_type": "code",
   "execution_count": 111,
   "id": "61bf5694",
   "metadata": {},
   "outputs": [
    {
     "name": "stdout",
     "output_type": "stream",
     "text": [
      "Enter value of a : 52\n",
      "52 <class 'int'>\n"
     ]
    }
   ],
   "source": [
    "a = eval(input('Enter value of a : '))\n",
    "print(a,type(a))"
   ]
  },
  {
   "cell_type": "code",
   "execution_count": 112,
   "id": "d89799ff",
   "metadata": {},
   "outputs": [
    {
     "name": "stdout",
     "output_type": "stream",
     "text": [
      "Enter value of a : 3+5j\n",
      "(3+5j) <class 'complex'>\n"
     ]
    }
   ],
   "source": [
    "a = eval(input('Enter value of a : '))\n",
    "print(a,type(a))"
   ]
  },
  {
   "cell_type": "code",
   "execution_count": 114,
   "id": "3c2f7fab",
   "metadata": {},
   "outputs": [
    {
     "name": "stdout",
     "output_type": "stream",
     "text": [
      "Enter value of a : 60.0\n",
      "60.0 <class 'float'>\n"
     ]
    }
   ],
   "source": [
    "a = eval(input('Enter value of a : '))\n",
    "print(a,type(a))"
   ]
  },
  {
   "cell_type": "code",
   "execution_count": 115,
   "id": "5967cc0e",
   "metadata": {},
   "outputs": [
    {
     "name": "stdout",
     "output_type": "stream",
     "text": [
      "Enter value of a : 60\n",
      "60 <class 'int'>\n"
     ]
    }
   ],
   "source": [
    "a = eval(input('Enter value of a : '))\n",
    "print(a,type(a))"
   ]
  },
  {
   "cell_type": "code",
   "execution_count": 116,
   "id": "b468e841",
   "metadata": {},
   "outputs": [
    {
     "name": "stdout",
     "output_type": "stream",
     "text": [
      "Enter value of a : 'ha'\n",
      "ha <class 'str'>\n"
     ]
    }
   ],
   "source": [
    "a = eval(input('Enter value of a : '))\n",
    "print(a,type(a))"
   ]
  },
  {
   "cell_type": "code",
   "execution_count": 117,
   "id": "9497e59a",
   "metadata": {},
   "outputs": [
    {
     "data": {
      "text/plain": [
       "['p', 'y', 't', 'h', 'o', 'n']"
      ]
     },
     "execution_count": 117,
     "metadata": {},
     "output_type": "execute_result"
    }
   ],
   "source": [
    "list('python')"
   ]
  },
  {
   "cell_type": "code",
   "execution_count": 118,
   "id": "2357f17a",
   "metadata": {},
   "outputs": [
    {
     "name": "stdout",
     "output_type": "stream",
     "text": [
      "Enter value of x : 'pythin\n"
     ]
    },
    {
     "data": {
      "text/plain": [
       "[\"'\", 'p', 'y', 't', 'h', 'i', 'n']"
      ]
     },
     "execution_count": 118,
     "metadata": {},
     "output_type": "execute_result"
    }
   ],
   "source": [
    "x = list(input('Enter value of x : '))\n",
    "x"
   ]
  },
  {
   "cell_type": "code",
   "execution_count": 119,
   "id": "d651cd5d",
   "metadata": {},
   "outputs": [
    {
     "name": "stdout",
     "output_type": "stream",
     "text": [
      "Enter value of x : 2314568\n"
     ]
    },
    {
     "data": {
      "text/plain": [
       "['2', '3', '1', '4', '5', '6', '8']"
      ]
     },
     "execution_count": 119,
     "metadata": {},
     "output_type": "execute_result"
    }
   ],
   "source": [
    "x = list(input('Enter value of x : '))\n",
    "x"
   ]
  },
  {
   "cell_type": "code",
   "execution_count": 120,
   "id": "ee7bf40f",
   "metadata": {},
   "outputs": [
    {
     "name": "stdout",
     "output_type": "stream",
     "text": [
      "Enter value of a : [1,2,4,5]\n",
      "[1, 2, 4, 5] <class 'list'>\n"
     ]
    }
   ],
   "source": [
    "a = eval(input('Enter value of a : '))\n",
    "print(a,type(a))"
   ]
  },
  {
   "cell_type": "code",
   "execution_count": 121,
   "id": "090d2d46",
   "metadata": {},
   "outputs": [
    {
     "name": "stdout",
     "output_type": "stream",
     "text": [
      "Enter value of a : {'a':2}\n",
      "{'a': 2} <class 'dict'>\n"
     ]
    }
   ],
   "source": [
    "a = eval(input('Enter value of a : '))\n",
    "print(a,type(a))"
   ]
  },
  {
   "cell_type": "markdown",
   "id": "509b6243",
   "metadata": {},
   "source": [
    "# 11. abs()"
   ]
  },
  {
   "cell_type": "code",
   "execution_count": null,
   "id": "db0868ee",
   "metadata": {},
   "outputs": [],
   "source": [
    "it will return distance from 0"
   ]
  },
  {
   "cell_type": "code",
   "execution_count": 122,
   "id": "ca8482dd",
   "metadata": {},
   "outputs": [
    {
     "data": {
      "text/plain": [
       "5"
      ]
     },
     "execution_count": 122,
     "metadata": {},
     "output_type": "execute_result"
    }
   ],
   "source": [
    "abs(5)"
   ]
  },
  {
   "cell_type": "code",
   "execution_count": 128,
   "id": "a3fae7ed",
   "metadata": {},
   "outputs": [
    {
     "data": {
      "text/plain": [
       "15"
      ]
     },
     "execution_count": 128,
     "metadata": {},
     "output_type": "execute_result"
    }
   ],
   "source": [
    "abs(-15)"
   ]
  },
  {
   "cell_type": "code",
   "execution_count": 129,
   "id": "ee1b7f80",
   "metadata": {},
   "outputs": [
    {
     "data": {
      "text/plain": [
       "7.211102550927978"
      ]
     },
     "execution_count": 129,
     "metadata": {},
     "output_type": "execute_result"
    }
   ],
   "source": [
    "abs(6+4j)"
   ]
  },
  {
   "cell_type": "code",
   "execution_count": 125,
   "id": "4a754332",
   "metadata": {},
   "outputs": [
    {
     "data": {
      "text/plain": [
       "5.0"
      ]
     },
     "execution_count": 125,
     "metadata": {},
     "output_type": "execute_result"
    }
   ],
   "source": [
    "abs(3+4j)"
   ]
  },
  {
   "cell_type": "code",
   "execution_count": 126,
   "id": "b9675c74",
   "metadata": {},
   "outputs": [
    {
     "data": {
      "text/plain": [
       "7.211102550927978"
      ]
     },
     "execution_count": 126,
     "metadata": {},
     "output_type": "execute_result"
    }
   ],
   "source": [
    "abs(-6+4j)"
   ]
  },
  {
   "cell_type": "code",
   "execution_count": 127,
   "id": "b020cf57",
   "metadata": {},
   "outputs": [
    {
     "data": {
      "text/plain": [
       "5.0"
      ]
     },
     "execution_count": 127,
     "metadata": {},
     "output_type": "execute_result"
    }
   ],
   "source": [
    "abs(-3+4j)"
   ]
  },
  {
   "cell_type": "markdown",
   "id": "5fef8530",
   "metadata": {},
   "source": [
    "## 12. dir()"
   ]
  },
  {
   "cell_type": "code",
   "execution_count": null,
   "id": "4eb6b47d",
   "metadata": {},
   "outputs": [],
   "source": [
    "Return >> Functions,Variable and class names of any python module"
   ]
  },
  {
   "cell_type": "code",
   "execution_count": null,
   "id": "d9f1a167",
   "metadata": {},
   "outputs": [],
   "source": [
    "dir(module_name)"
   ]
  },
  {
   "cell_type": "code",
   "execution_count": 130,
   "id": "ebb2e2da",
   "metadata": {},
   "outputs": [],
   "source": [
    "import numpy"
   ]
  },
  {
   "cell_type": "code",
   "execution_count": 131,
   "id": "7d3ae9bd",
   "metadata": {},
   "outputs": [
    {
     "name": "stdout",
     "output_type": "stream",
     "text": [
      "['ALLOW_THREADS', 'AxisError', 'BUFSIZE', 'CLIP', 'ComplexWarning', 'DataSource', 'ERR_CALL', 'ERR_DEFAULT', 'ERR_IGNORE', 'ERR_LOG', 'ERR_PRINT', 'ERR_RAISE', 'ERR_WARN', 'FLOATING_POINT_SUPPORT', 'FPE_DIVIDEBYZERO', 'FPE_INVALID', 'FPE_OVERFLOW', 'FPE_UNDERFLOW', 'False_', 'Inf', 'Infinity', 'MAXDIMS', 'MAY_SHARE_BOUNDS', 'MAY_SHARE_EXACT', 'ModuleDeprecationWarning', 'NAN', 'NINF', 'NZERO', 'NaN', 'PINF', 'PZERO', 'RAISE', 'RankWarning', 'SHIFT_DIVIDEBYZERO', 'SHIFT_INVALID', 'SHIFT_OVERFLOW', 'SHIFT_UNDERFLOW', 'ScalarType', 'Tester', 'TooHardError', 'True_', 'UFUNC_BUFSIZE_DEFAULT', 'UFUNC_PYVALS_NAME', 'VisibleDeprecationWarning', 'WRAP', '_CopyMode', '_NoValue', '_UFUNC_API', '__NUMPY_SETUP__', '__all__', '__builtins__', '__cached__', '__config__', '__deprecated_attrs__', '__dir__', '__doc__', '__expired_functions__', '__file__', '__getattr__', '__git_version__', '__loader__', '__name__', '__package__', '__path__', '__spec__', '__version__', '_add_newdoc_ufunc', '_distributor_init', '_financial_names', '_from_dlpack', '_globals', '_mat', '_pytesttester', '_version', 'abs', 'absolute', 'add', 'add_docstring', 'add_newdoc', 'add_newdoc_ufunc', 'alen', 'all', 'allclose', 'alltrue', 'amax', 'amin', 'angle', 'any', 'append', 'apply_along_axis', 'apply_over_axes', 'arange', 'arccos', 'arccosh', 'arcsin', 'arcsinh', 'arctan', 'arctan2', 'arctanh', 'argmax', 'argmin', 'argpartition', 'argsort', 'argwhere', 'around', 'array', 'array2string', 'array_equal', 'array_equiv', 'array_repr', 'array_split', 'array_str', 'asanyarray', 'asarray', 'asarray_chkfinite', 'ascontiguousarray', 'asfarray', 'asfortranarray', 'asmatrix', 'asscalar', 'atleast_1d', 'atleast_2d', 'atleast_3d', 'average', 'bartlett', 'base_repr', 'binary_repr', 'bincount', 'bitwise_and', 'bitwise_not', 'bitwise_or', 'bitwise_xor', 'blackman', 'block', 'bmat', 'bool8', 'bool_', 'broadcast', 'broadcast_arrays', 'broadcast_shapes', 'broadcast_to', 'busday_count', 'busday_offset', 'busdaycalendar', 'byte', 'byte_bounds', 'bytes0', 'bytes_', 'c_', 'can_cast', 'cast', 'cbrt', 'cdouble', 'ceil', 'cfloat', 'char', 'character', 'chararray', 'choose', 'clip', 'clongdouble', 'clongfloat', 'column_stack', 'common_type', 'compare_chararrays', 'compat', 'complex128', 'complex64', 'complex_', 'complexfloating', 'compress', 'concatenate', 'conj', 'conjugate', 'convolve', 'copy', 'copysign', 'copyto', 'core', 'corrcoef', 'correlate', 'cos', 'cosh', 'count_nonzero', 'cov', 'cross', 'csingle', 'ctypeslib', 'cumprod', 'cumproduct', 'cumsum', 'datetime64', 'datetime_as_string', 'datetime_data', 'deg2rad', 'degrees', 'delete', 'deprecate', 'deprecate_with_doc', 'diag', 'diag_indices', 'diag_indices_from', 'diagflat', 'diagonal', 'diff', 'digitize', 'disp', 'divide', 'divmod', 'dot', 'double', 'dsplit', 'dstack', 'dtype', 'e', 'ediff1d', 'einsum', 'einsum_path', 'emath', 'empty', 'empty_like', 'equal', 'errstate', 'euler_gamma', 'exp', 'exp2', 'expand_dims', 'expm1', 'extract', 'eye', 'fabs', 'fastCopyAndTranspose', 'fft', 'fill_diagonal', 'find_common_type', 'finfo', 'fix', 'flatiter', 'flatnonzero', 'flexible', 'flip', 'fliplr', 'flipud', 'float16', 'float32', 'float64', 'float_', 'float_power', 'floating', 'floor', 'floor_divide', 'fmax', 'fmin', 'fmod', 'format_float_positional', 'format_float_scientific', 'format_parser', 'frexp', 'frombuffer', 'fromfile', 'fromfunction', 'fromiter', 'frompyfunc', 'fromregex', 'fromstring', 'full', 'full_like', 'gcd', 'generic', 'genfromtxt', 'geomspace', 'get_array_wrap', 'get_include', 'get_printoptions', 'getbufsize', 'geterr', 'geterrcall', 'geterrobj', 'gradient', 'greater', 'greater_equal', 'half', 'hamming', 'hanning', 'heaviside', 'histogram', 'histogram2d', 'histogram_bin_edges', 'histogramdd', 'hsplit', 'hstack', 'hypot', 'i0', 'identity', 'iinfo', 'imag', 'in1d', 'index_exp', 'indices', 'inexact', 'inf', 'info', 'infty', 'inner', 'insert', 'int0', 'int16', 'int32', 'int64', 'int8', 'int_', 'intc', 'integer', 'interp', 'intersect1d', 'intp', 'invert', 'is_busday', 'isclose', 'iscomplex', 'iscomplexobj', 'isfinite', 'isfortran', 'isin', 'isinf', 'isnan', 'isnat', 'isneginf', 'isposinf', 'isreal', 'isrealobj', 'isscalar', 'issctype', 'issubclass_', 'issubdtype', 'issubsctype', 'iterable', 'ix_', 'kaiser', 'kron', 'lcm', 'ldexp', 'left_shift', 'less', 'less_equal', 'lexsort', 'lib', 'linalg', 'linspace', 'little_endian', 'load', 'loadtxt', 'log', 'log10', 'log1p', 'log2', 'logaddexp', 'logaddexp2', 'logical_and', 'logical_not', 'logical_or', 'logical_xor', 'logspace', 'longcomplex', 'longdouble', 'longfloat', 'longlong', 'lookfor', 'ma', 'mask_indices', 'mat', 'math', 'matmul', 'matrix', 'matrixlib', 'max', 'maximum', 'maximum_sctype', 'may_share_memory', 'mean', 'median', 'memmap', 'meshgrid', 'mgrid', 'min', 'min_scalar_type', 'minimum', 'mintypecode', 'mod', 'modf', 'moveaxis', 'msort', 'multiply', 'nan', 'nan_to_num', 'nanargmax', 'nanargmin', 'nancumprod', 'nancumsum', 'nanmax', 'nanmean', 'nanmedian', 'nanmin', 'nanpercentile', 'nanprod', 'nanquantile', 'nanstd', 'nansum', 'nanvar', 'nbytes', 'ndarray', 'ndenumerate', 'ndim', 'ndindex', 'nditer', 'negative', 'nested_iters', 'newaxis', 'nextafter', 'nonzero', 'not_equal', 'numarray', 'number', 'obj2sctype', 'object0', 'object_', 'ogrid', 'oldnumeric', 'ones', 'ones_like', 'os', 'outer', 'packbits', 'pad', 'partition', 'percentile', 'pi', 'piecewise', 'place', 'poly', 'poly1d', 'polyadd', 'polyder', 'polydiv', 'polyfit', 'polyint', 'polymul', 'polynomial', 'polysub', 'polyval', 'positive', 'power', 'printoptions', 'prod', 'product', 'promote_types', 'ptp', 'put', 'put_along_axis', 'putmask', 'quantile', 'r_', 'rad2deg', 'radians', 'random', 'ravel', 'ravel_multi_index', 'real', 'real_if_close', 'rec', 'recarray', 'recfromcsv', 'recfromtxt', 'reciprocal', 'record', 'remainder', 'repeat', 'require', 'reshape', 'resize', 'result_type', 'right_shift', 'rint', 'roll', 'rollaxis', 'roots', 'rot90', 'round', 'round_', 'row_stack', 's_', 'safe_eval', 'save', 'savetxt', 'savez', 'savez_compressed', 'sctype2char', 'sctypeDict', 'sctypes', 'searchsorted', 'select', 'set_numeric_ops', 'set_printoptions', 'set_string_function', 'setbufsize', 'setdiff1d', 'seterr', 'seterrcall', 'seterrobj', 'setxor1d', 'shape', 'shares_memory', 'short', 'show_config', 'sign', 'signbit', 'signedinteger', 'sin', 'sinc', 'single', 'singlecomplex', 'sinh', 'size', 'sometrue', 'sort', 'sort_complex', 'source', 'spacing', 'split', 'sqrt', 'square', 'squeeze', 'stack', 'std', 'str0', 'str_', 'string_', 'subtract', 'sum', 'swapaxes', 'sys', 'take', 'take_along_axis', 'tan', 'tanh', 'tensordot', 'test', 'testing', 'tile', 'timedelta64', 'trace', 'tracemalloc_domain', 'transpose', 'trapz', 'tri', 'tril', 'tril_indices', 'tril_indices_from', 'trim_zeros', 'triu', 'triu_indices', 'triu_indices_from', 'true_divide', 'trunc', 'typecodes', 'typename', 'ubyte', 'ufunc', 'uint', 'uint0', 'uint16', 'uint32', 'uint64', 'uint8', 'uintc', 'uintp', 'ulonglong', 'unicode_', 'union1d', 'unique', 'unpackbits', 'unravel_index', 'unsignedinteger', 'unwrap', 'use_hugepage', 'ushort', 'vander', 'var', 'vdot', 'vectorize', 'version', 'void', 'void0', 'vsplit', 'vstack', 'warnings', 'where', 'who', 'zeros', 'zeros_like']\n"
     ]
    }
   ],
   "source": [
    "print(dir(numpy))"
   ]
  },
  {
   "cell_type": "code",
   "execution_count": 132,
   "id": "9f590eec",
   "metadata": {},
   "outputs": [],
   "source": [
    "import test"
   ]
  },
  {
   "cell_type": "code",
   "execution_count": 133,
   "id": "8c2d3d2c",
   "metadata": {},
   "outputs": [
    {
     "name": "stdout",
     "output_type": "stream",
     "text": [
      "['__builtins__', '__cached__', '__doc__', '__file__', '__loader__', '__name__', '__package__', '__path__', '__spec__']\n"
     ]
    }
   ],
   "source": [
    "print(dir(test))"
   ]
  },
  {
   "cell_type": "markdown",
   "id": "5d3bd4ce",
   "metadata": {},
   "source": [
    "# 13. round()"
   ]
  },
  {
   "cell_type": "code",
   "execution_count": 134,
   "id": "f929087a",
   "metadata": {},
   "outputs": [
    {
     "data": {
      "text/plain": [
       "3.256457895"
      ]
     },
     "execution_count": 134,
     "metadata": {},
     "output_type": "execute_result"
    }
   ],
   "source": [
    "x = 3.256457895\n",
    "x"
   ]
  },
  {
   "cell_type": "code",
   "execution_count": 135,
   "id": "7267cf43",
   "metadata": {},
   "outputs": [
    {
     "data": {
      "text/plain": [
       "3.26"
      ]
     },
     "execution_count": 135,
     "metadata": {},
     "output_type": "execute_result"
    }
   ],
   "source": [
    "x = 3.256457895   #3.25\n",
    "x = round(x,2)\n",
    "x"
   ]
  },
  {
   "cell_type": "code",
   "execution_count": 136,
   "id": "6e7d6725",
   "metadata": {},
   "outputs": [
    {
     "data": {
      "text/plain": [
       "3.142857142857143"
      ]
     },
     "execution_count": 136,
     "metadata": {},
     "output_type": "execute_result"
    }
   ],
   "source": [
    "a = 22/7\n",
    "a"
   ]
  },
  {
   "cell_type": "code",
   "execution_count": 138,
   "id": "2ceafe20",
   "metadata": {},
   "outputs": [
    {
     "data": {
      "text/plain": [
       "3.14"
      ]
     },
     "execution_count": 138,
     "metadata": {},
     "output_type": "execute_result"
    }
   ],
   "source": [
    "a = 22/7\n",
    "a = round(a,2)\n",
    "a"
   ]
  },
  {
   "cell_type": "markdown",
   "id": "32347e73",
   "metadata": {},
   "source": [
    "## 14. iter    15. next"
   ]
  },
  {
   "cell_type": "code",
   "execution_count": null,
   "id": "5ed0c14d",
   "metadata": {},
   "outputs": [],
   "source": [
    "iter >> iterable\n",
    "next >>  next item in an iteator"
   ]
  },
  {
   "cell_type": "code",
   "execution_count": 139,
   "id": "18bb4ea3",
   "metadata": {},
   "outputs": [
    {
     "name": "stdout",
     "output_type": "stream",
     "text": [
      "4\n",
      "5\n",
      "6\n",
      "2\n",
      "18\n",
      "8\n"
     ]
    }
   ],
   "source": [
    "list1 =[4,5,6,2,18,8]\n",
    "for i in list1:\n",
    "    print(i)"
   ]
  },
  {
   "cell_type": "code",
   "execution_count": 140,
   "id": "736f9fe0",
   "metadata": {},
   "outputs": [
    {
     "name": "stdout",
     "output_type": "stream",
     "text": [
      "4\n",
      "5\n",
      "6\n",
      "2\n",
      "18\n",
      "8\n"
     ]
    }
   ],
   "source": [
    "list1 =[4,5,6,2,18,8]\n",
    "iterable = iter(list1)\n",
    "\n",
    "x = next(iterable)\n",
    "print(x)\n",
    "x = next(iterable)\n",
    "print(x)\n",
    "x = next(iterable)\n",
    "print(x)\n",
    "x = next(iterable)\n",
    "print(x)\n",
    "x = next(iterable)\n",
    "print(x)\n",
    "x = next(iterable)\n",
    "print(x)"
   ]
  },
  {
   "cell_type": "code",
   "execution_count": 141,
   "id": "3cf81564",
   "metadata": {},
   "outputs": [
    {
     "name": "stdout",
     "output_type": "stream",
     "text": [
      "4\n",
      "5\n",
      "6\n",
      "2\n",
      "18\n",
      "8\n"
     ]
    },
    {
     "ename": "StopIteration",
     "evalue": "",
     "output_type": "error",
     "traceback": [
      "\u001b[1;31m---------------------------------------------------------------------------\u001b[0m",
      "\u001b[1;31mStopIteration\u001b[0m                             Traceback (most recent call last)",
      "\u001b[1;32m<ipython-input-141-3197a6757d7d>\u001b[0m in \u001b[0;36m<module>\u001b[1;34m\u001b[0m\n\u001b[0;32m     14\u001b[0m \u001b[0mx\u001b[0m \u001b[1;33m=\u001b[0m \u001b[0mnext\u001b[0m\u001b[1;33m(\u001b[0m\u001b[0miterable\u001b[0m\u001b[1;33m)\u001b[0m\u001b[1;33m\u001b[0m\u001b[1;33m\u001b[0m\u001b[0m\n\u001b[0;32m     15\u001b[0m \u001b[0mprint\u001b[0m\u001b[1;33m(\u001b[0m\u001b[0mx\u001b[0m\u001b[1;33m)\u001b[0m\u001b[1;33m\u001b[0m\u001b[1;33m\u001b[0m\u001b[0m\n\u001b[1;32m---> 16\u001b[1;33m \u001b[0mx\u001b[0m \u001b[1;33m=\u001b[0m \u001b[0mnext\u001b[0m\u001b[1;33m(\u001b[0m\u001b[0miterable\u001b[0m\u001b[1;33m)\u001b[0m\u001b[1;33m\u001b[0m\u001b[1;33m\u001b[0m\u001b[0m\n\u001b[0m\u001b[0;32m     17\u001b[0m \u001b[0mprint\u001b[0m\u001b[1;33m(\u001b[0m\u001b[0mx\u001b[0m\u001b[1;33m)\u001b[0m\u001b[1;33m\u001b[0m\u001b[1;33m\u001b[0m\u001b[0m\n",
      "\u001b[1;31mStopIteration\u001b[0m: "
     ]
    }
   ],
   "source": [
    "list1 =[4,5,6,2,18,8]\n",
    "iterable = iter(list1)\n",
    "\n",
    "x = next(iterable)\n",
    "print(x)\n",
    "x = next(iterable)\n",
    "print(x)\n",
    "x = next(iterable)\n",
    "print(x)\n",
    "x = next(iterable)\n",
    "print(x)\n",
    "x = next(iterable)\n",
    "print(x)\n",
    "x = next(iterable)\n",
    "print(x)\n",
    "x = next(iterable)\n",
    "print(x)"
   ]
  },
  {
   "cell_type": "code",
   "execution_count": 142,
   "id": "3692aea5",
   "metadata": {},
   "outputs": [
    {
     "name": "stdout",
     "output_type": "stream",
     "text": [
      "4\n",
      "5\n",
      "6\n",
      "2\n",
      "18\n",
      "8\n"
     ]
    }
   ],
   "source": [
    "list1 =[4,5,6,2,18,8]\n",
    "iterable = iter(list1)\n",
    "\n",
    "x = next(iterable,'Orange')\n",
    "print(x)\n",
    "x = next(iterable,'Orange')\n",
    "print(x)\n",
    "x = next(iterable,'Orange')\n",
    "print(x)\n",
    "x = next(iterable,'Orange')\n",
    "print(x)\n",
    "x = next(iterable,'Orange')\n",
    "print(x)\n",
    "x = next(iterable,'Orange')\n",
    "print(x)"
   ]
  },
  {
   "cell_type": "code",
   "execution_count": 143,
   "id": "76d495f9",
   "metadata": {},
   "outputs": [
    {
     "name": "stdout",
     "output_type": "stream",
     "text": [
      "4\n",
      "5\n",
      "6\n",
      "2\n",
      "18\n",
      "8\n",
      "Orange\n",
      "Orange\n",
      "Orange\n",
      "Orange\n"
     ]
    }
   ],
   "source": [
    "list1 =[4,5,6,2,18,8]\n",
    "iterable = iter(list1)\n",
    "\n",
    "x = next(iterable,'Orange')\n",
    "print(x)\n",
    "x = next(iterable,'Orange')\n",
    "print(x)\n",
    "x = next(iterable,'Orange')\n",
    "print(x)\n",
    "x = next(iterable,'Orange')\n",
    "print(x)\n",
    "x = next(iterable,'Orange')\n",
    "print(x)\n",
    "x = next(iterable,'Orange')\n",
    "print(x)\n",
    "x = next(iterable,'Orange')\n",
    "print(x)\n",
    "x = next(iterable,'Orange')\n",
    "print(x)\n",
    "x = next(iterable,'Orange')\n",
    "print(x)\n",
    "x = next(iterable,'Orange')\n",
    "print(x)"
   ]
  },
  {
   "cell_type": "markdown",
   "id": "0c2b2767",
   "metadata": {},
   "source": [
    "## 15. pow()"
   ]
  },
  {
   "cell_type": "code",
   "execution_count": 144,
   "id": "2fb56cc2",
   "metadata": {},
   "outputs": [
    {
     "data": {
      "text/plain": [
       "125"
      ]
     },
     "execution_count": 144,
     "metadata": {},
     "output_type": "execute_result"
    }
   ],
   "source": [
    "x = 5\n",
    "x**3"
   ]
  },
  {
   "cell_type": "code",
   "execution_count": 145,
   "id": "346efc52",
   "metadata": {},
   "outputs": [
    {
     "data": {
      "text/plain": [
       "625"
      ]
     },
     "execution_count": 145,
     "metadata": {},
     "output_type": "execute_result"
    }
   ],
   "source": [
    "x**4"
   ]
  },
  {
   "cell_type": "code",
   "execution_count": 146,
   "id": "e1113c5d",
   "metadata": {},
   "outputs": [
    {
     "data": {
      "text/plain": [
       "125"
      ]
     },
     "execution_count": 146,
     "metadata": {},
     "output_type": "execute_result"
    }
   ],
   "source": [
    "pow(5,3)"
   ]
  },
  {
   "cell_type": "code",
   "execution_count": 147,
   "id": "fced93fa",
   "metadata": {},
   "outputs": [
    {
     "data": {
      "text/plain": [
       "625"
      ]
     },
     "execution_count": 147,
     "metadata": {},
     "output_type": "execute_result"
    }
   ],
   "source": [
    "pow(5,4)"
   ]
  },
  {
   "cell_type": "code",
   "execution_count": 149,
   "id": "4c2406a6",
   "metadata": {},
   "outputs": [
    {
     "data": {
      "text/plain": [
       "225"
      ]
     },
     "execution_count": 149,
     "metadata": {},
     "output_type": "execute_result"
    }
   ],
   "source": [
    "pow(15,2)"
   ]
  },
  {
   "cell_type": "markdown",
   "id": "2decfec4",
   "metadata": {},
   "source": [
    "## 16. divmod()"
   ]
  },
  {
   "cell_type": "code",
   "execution_count": null,
   "id": "dc9a50b1",
   "metadata": {},
   "outputs": [],
   "source": [
    "it gives quotient and remainder"
   ]
  },
  {
   "cell_type": "code",
   "execution_count": 150,
   "id": "62fcf2b6",
   "metadata": {},
   "outputs": [
    {
     "data": {
      "text/plain": [
       "7.5"
      ]
     },
     "execution_count": 150,
     "metadata": {},
     "output_type": "execute_result"
    }
   ],
   "source": [
    "30/4"
   ]
  },
  {
   "cell_type": "code",
   "execution_count": 151,
   "id": "63336ace",
   "metadata": {},
   "outputs": [
    {
     "data": {
      "text/plain": [
       "7"
      ]
     },
     "execution_count": 151,
     "metadata": {},
     "output_type": "execute_result"
    }
   ],
   "source": [
    "30//4  "
   ]
  },
  {
   "cell_type": "code",
   "execution_count": 152,
   "id": "90e7be88",
   "metadata": {},
   "outputs": [
    {
     "data": {
      "text/plain": [
       "2"
      ]
     },
     "execution_count": 152,
     "metadata": {},
     "output_type": "execute_result"
    }
   ],
   "source": [
    "30%4"
   ]
  },
  {
   "cell_type": "code",
   "execution_count": 153,
   "id": "4659fc34",
   "metadata": {},
   "outputs": [
    {
     "data": {
      "text/plain": [
       "(7, 2)"
      ]
     },
     "execution_count": 153,
     "metadata": {},
     "output_type": "execute_result"
    }
   ],
   "source": [
    "divmod(30,4)"
   ]
  },
  {
   "cell_type": "code",
   "execution_count": 154,
   "id": "27dedaff",
   "metadata": {},
   "outputs": [
    {
     "data": {
      "text/plain": [
       "(6, 0)"
      ]
     },
     "execution_count": 154,
     "metadata": {},
     "output_type": "execute_result"
    }
   ],
   "source": [
    "divmod(30,5)"
   ]
  },
  {
   "cell_type": "code",
   "execution_count": 155,
   "id": "8088206f",
   "metadata": {},
   "outputs": [
    {
     "data": {
      "text/plain": [
       "(8, 0)"
      ]
     },
     "execution_count": 155,
     "metadata": {},
     "output_type": "execute_result"
    }
   ],
   "source": [
    "divmod(56,7)"
   ]
  },
  {
   "cell_type": "code",
   "execution_count": 156,
   "id": "b3b2b28f",
   "metadata": {},
   "outputs": [
    {
     "data": {
      "text/plain": [
       "(7, 0)"
      ]
     },
     "execution_count": 156,
     "metadata": {},
     "output_type": "execute_result"
    }
   ],
   "source": [
    "divmod(56,8)"
   ]
  },
  {
   "cell_type": "code",
   "execution_count": 157,
   "id": "c24f3e63",
   "metadata": {},
   "outputs": [
    {
     "data": {
      "text/plain": [
       "(7, 1)"
      ]
     },
     "execution_count": 157,
     "metadata": {},
     "output_type": "execute_result"
    }
   ],
   "source": [
    "divmod(57,8)"
   ]
  },
  {
   "cell_type": "code",
   "execution_count": 158,
   "id": "e6b55261",
   "metadata": {},
   "outputs": [
    {
     "data": {
      "text/plain": [
       "(0, 5)"
      ]
     },
     "execution_count": 158,
     "metadata": {},
     "output_type": "execute_result"
    }
   ],
   "source": [
    "divmod(5,10)"
   ]
  },
  {
   "cell_type": "code",
   "execution_count": null,
   "id": "efeecf9a",
   "metadata": {},
   "outputs": [],
   "source": []
  }
 ],
 "metadata": {
  "kernelspec": {
   "display_name": "Python 3",
   "language": "python",
   "name": "python3"
  },
  "language_info": {
   "codemirror_mode": {
    "name": "ipython",
    "version": 3
   },
   "file_extension": ".py",
   "mimetype": "text/x-python",
   "name": "python",
   "nbconvert_exporter": "python",
   "pygments_lexer": "ipython3",
   "version": "3.8.8"
  }
 },
 "nbformat": 4,
 "nbformat_minor": 5
}
