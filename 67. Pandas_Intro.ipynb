{
 "cells": [
  {
   "cell_type": "markdown",
   "id": "c393237f",
   "metadata": {},
   "source": [
    "# Pandas"
   ]
  },
  {
   "cell_type": "code",
   "execution_count": null,
   "id": "6c2aafa6",
   "metadata": {},
   "outputs": [],
   "source": [
    "Pandas >> Python Data Analysis\n",
    "import pandas as pd"
   ]
  },
  {
   "cell_type": "markdown",
   "id": "17892b44",
   "metadata": {},
   "source": [
    "### Two data structure in pandas"
   ]
  },
  {
   "cell_type": "code",
   "execution_count": null,
   "id": "ff2ee746",
   "metadata": {},
   "outputs": [],
   "source": [
    "1. DataFrame:\n",
    "    2- Dimentional >>> rows and columns\n",
    "2. series:\n",
    "    1 -Dimentional >> only one column"
   ]
  },
  {
   "cell_type": "markdown",
   "id": "d8f96c96",
   "metadata": {},
   "source": [
    "# Pandas Functions"
   ]
  },
  {
   "cell_type": "code",
   "execution_count": null,
   "id": "141cf311",
   "metadata": {},
   "outputs": [],
   "source": [
    "1. df.columns\n",
    "2. df.index\n",
    "3. df.axes\n",
    "4. df.dtypes\n",
    "5. df.select_dtypes(include,exclude)\n",
    "6. df.info()\n",
    "7. df.describe()\n",
    "8. df.shape\n",
    "\n",
    "## Access Columns and Rows\n",
    "\n",
    "1. df.iloc[row_index,col_index]\n",
    "2. df.loc[row_lables,col_lables]\n",
    "3. df[col_name]>> single colmn name20. np.append\n",
    "4. df[[col1,col2,....colN]]>>> multiple col name\n",
    "5. df[start_row_index,end_row_index] >>> :\n",
    "    df[3:6]   >> 3,4,5 rows\n",
    "6. df.head() >>> first N rows >> Def val is 5\n",
    "7. df.tail() >>> lat N rows >> Def val is 5\n",
    "8. pd.read_csv()\n",
    "9. pd.read_excel()"
   ]
  },
  {
   "cell_type": "code",
   "execution_count": null,
   "id": "5c90591f",
   "metadata": {},
   "outputs": [],
   "source": []
  },
  {
   "cell_type": "code",
   "execution_count": null,
   "id": "f66c65de",
   "metadata": {},
   "outputs": [],
   "source": []
  }
 ],
 "metadata": {
  "kernelspec": {
   "display_name": "Python 3 (ipykernel)",
   "language": "python",
   "name": "python3"
  },
  "language_info": {
   "codemirror_mode": {
    "name": "ipython",
    "version": 3
   },
   "file_extension": ".py",
   "mimetype": "text/x-python",
   "name": "python",
   "nbconvert_exporter": "python",
   "pygments_lexer": "ipython3",
   "version": "3.9.12"
  }
 },
 "nbformat": 4,
 "nbformat_minor": 5
}
