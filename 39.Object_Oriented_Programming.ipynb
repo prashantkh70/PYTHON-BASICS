{
 "cells": [
  {
   "cell_type": "markdown",
   "id": "8f00aa22",
   "metadata": {},
   "source": [
    "# Object Oriented Programming"
   ]
  },
  {
   "cell_type": "code",
   "execution_count": null,
   "id": "5ad4b7e1",
   "metadata": {},
   "outputs": [],
   "source": [
    "1. object \n",
    "2. class\n",
    "3. inheretance (5 types)\n",
    "4. Encapsulation\n",
    "5. Polymorphism\n",
    "6. Abstraction"
   ]
  },
  {
   "cell_type": "code",
   "execution_count": null,
   "id": "3e6ebe51",
   "metadata": {},
   "outputs": [],
   "source": [
    "object >>> real world entities (laptop, mobile,Tv, House.....,)   \n",
    "\n",
    "Class >>> Blueprint of an object that defines methods(functions) \n",
    "and variables( class variable, instance variable,local variable)\n"
   ]
  },
  {
   "cell_type": "code",
   "execution_count": null,
   "id": "2f639783",
   "metadata": {},
   "outputs": [],
   "source": [
    "class keyword is used to create a new Class\n",
    "\n",
    "Class Name should follow identifier rule\n",
    "\n",
    "class Mobile():\n",
    "    android_version = 12.0\n",
    "    def oneplus():\n",
    "        price = 30000\n",
    "        print('oneplus')\n",
    "    def xiomi():\n",
    "         price = 40000\n",
    "        print('xiomi')\n",
    "    def apple():\n",
    "         price = 45000\n",
    "        print('apple')\n",
    "        \n",
    "        .\n",
    "        .\n",
    "        .\n",
    "        "
   ]
  },
  {
   "cell_type": "code",
   "execution_count": null,
   "id": "778b9a32",
   "metadata": {},
   "outputs": [],
   "source": [
    "Sketch_of_House():\n",
    "    House_No_01\n",
    "    House_No_02\n",
    "    House_No_03\n",
    "    House_No_04\n",
    "    House_No_05"
   ]
  },
  {
   "cell_type": "code",
   "execution_count": null,
   "id": "5b169ec2",
   "metadata": {},
   "outputs": [],
   "source": [
    "object \n",
    "class\n",
    "\n",
    "functions >>> procedure (local)\n",
    "\n",
    "\n",
    "Self >>> It is used to represent an instance of the given class"
   ]
  },
  {
   "cell_type": "code",
   "execution_count": null,
   "id": "57f3a3fb",
   "metadata": {},
   "outputs": [],
   "source": [
    "\n",
    "x = 10               #global variable\n",
    "\n",
    "class Mobile():\n",
    "    android_version = 12.0   # class variable\n",
    "    def oneplus():\n",
    "        price = 30000        # local/ instance variable\n",
    "        print('oneplus')\n",
    "    def xiomi():\n",
    "         price = 40000\n",
    "        print('xiomi')\n",
    "    def apple():\n",
    "         price = 45000\n",
    "        print('apple')\n",
    "        "
   ]
  },
  {
   "cell_type": "code",
   "execution_count": null,
   "id": "f775ae0d",
   "metadata": {},
   "outputs": [],
   "source": [
    "Application>> login, products, payments.........\n",
    "\n",
    "class Login():       # class\n",
    "    # Privacy Agreement#\n",
    "    app_version = 2.9.5\n",
    "    def user_name():    #objects\n",
    "        user = \n",
    "        \n",
    "    def password():\n",
    "        length \n",
    "        contains\n",
    "    def auth():\n",
    "        otp\n",
    "    def profile_pass():\n",
    "        key\n",
    "    def profile_picture():\n",
    "        size\n",
    "        pixcels\n",
    "        Format\n",
    "    def security_qs():\n",
    "        pet\n",
    "        childhood name"
   ]
  },
  {
   "cell_type": "markdown",
   "id": "3893b977",
   "metadata": {},
   "source": [
    "# Syntax:"
   ]
  },
  {
   "cell_type": "code",
   "execution_count": 9,
   "id": "27b63bc1",
   "metadata": {},
   "outputs": [
    {
     "name": "stdout",
     "output_type": "stream",
     "text": [
      "This is Method 1\n",
      "This is Method 2\n",
      "self.x is :  100\n",
      "self.y is :  200\n"
     ]
    }
   ],
   "source": [
    "x = 10               #global variable\n",
    "\n",
    "class ClassName():     #classname\n",
    "    class_variable1 = 100           #class variable\n",
    "    class_variable2 = 'Python'      # class variable\n",
    "    \n",
    "    def my_method1(self):\n",
    "        print('This is Method 1')\n",
    "        a = 30                       # local variable\n",
    "        self.x = 100                 # instance variable\n",
    "        self.y = 200                 # instance variable\n",
    "        \n",
    "    def my_method2(self):\n",
    "        self.my_method1()\n",
    "        print('This is Method 2')\n",
    "        print(\"self.x is : \",self.x)\n",
    "        print(\"self.y is : \",self.y)\n",
    "        \n",
    "Object = ClassName()    #Creating an object or instance of class\n",
    "Object.class_variable2\n",
    "Object.class_variable1  \n",
    " \n",
    "\n",
    "Object.my_method2()"
   ]
  },
  {
   "cell_type": "code",
   "execution_count": 10,
   "id": "b8b3d46d",
   "metadata": {},
   "outputs": [
    {
     "name": "stdout",
     "output_type": "stream",
     "text": [
      "This is Method 1\n",
      "This is Method 2\n",
      "self.x is :  100\n",
      "self.y is :  200\n"
     ]
    }
   ],
   "source": [
    "x = 10               #global variable\n",
    "\n",
    "class ClassName():     #classname\n",
    "    class_variable1 = 100           #class variable\n",
    "    class_variable2 = 'Python'      # class variable\n",
    "    \n",
    "    def my_method1(self):             # objevt\n",
    "        print('This is Method 1')\n",
    "        a = 30                       # local variable\n",
    "        self.x = 100                 # instance variable\n",
    "        self.y = 200                 # instance variable\n",
    "        \n",
    "    def my_method2(self):\n",
    "        \n",
    "        print('This is Method 2')\n",
    "        print(\"self.x is : \",self.x)\n",
    "        print(\"self.y is : \",self.y)\n",
    "        \n",
    "Object = ClassName()    #Creating an object or instance of class\n",
    "Object.class_variable2\n",
    "Object.class_variable1  \n",
    " \n",
    "Object.my_method1()\n",
    "Object.my_method2()"
   ]
  },
  {
   "cell_type": "code",
   "execution_count": null,
   "id": "3f68e450",
   "metadata": {},
   "outputs": [],
   "source": []
  },
  {
   "cell_type": "markdown",
   "id": "21d5b1e9",
   "metadata": {},
   "source": [
    "Project:\n",
    "    \n",
    "    \n",
    "project.py\n",
    "\n",
    "Data_gathering  >> 3 functions\n",
    "Preprocessing   >> 10 functions\n",
    "Feature Engineering >> 8 functions\n",
    "Feature Selection   >> 13 functions\n",
    "Model Training      >> 5 algorithms\n",
    "Model Evaluation    >> 5 functions\n",
    "\n",
    "\n",
    "450  functions\n"
   ]
  },
  {
   "cell_type": "code",
   "execution_count": null,
   "id": "d6e64cb7",
   "metadata": {},
   "outputs": [],
   "source": [
    "class Data_gathering():\n",
    "    pass\n",
    "class Preprocessing():\n",
    "    def detect_missing_values():      \n",
    "        print('missing values')\n",
    "        \n",
    "    def outliers():      # age 1-100 ,     user 1000 \n",
    "        self.outliers = [100,1000]\n",
    "        \n",
    "class Feature_Engineering():\n",
    "    def remove_outliers():\n",
    "        print('Outlier')\n",
    "class Feature_Selection():\n",
    "    pass\n",
    "class Model_Training():\n",
    "    def linear_reg():\n",
    "        pass\n",
    "    def logistic_reg():\n",
    "        pass\n",
    "    def random_forest():\n",
    "        pass\n",
    "class Model_Evaluation():\n",
    "    print('result')"
   ]
  },
  {
   "cell_type": "code",
   "execution_count": 11,
   "id": "8ad2715f",
   "metadata": {},
   "outputs": [
    {
     "name": "stdout",
     "output_type": "stream",
     "text": [
      "addition of 30 and 5 is 35\n"
     ]
    }
   ],
   "source": [
    "def addition(a,b):\n",
    "    add = a+b\n",
    "    print(f'addition of {a} and {b} is {add}')\n",
    "\n",
    "addition(30,5)"
   ]
  },
  {
   "cell_type": "code",
   "execution_count": 12,
   "id": "230650f2",
   "metadata": {},
   "outputs": [
    {
     "name": "stdout",
     "output_type": "stream",
     "text": [
      "addition of 3 and 5 is 8\n",
      "multiplication of 5 and 6 is 30\n",
      "division of 10 and 2 is 5.0\n"
     ]
    }
   ],
   "source": [
    "def addition(a,b):\n",
    "    add = a+b\n",
    "    print(f'addition of {a} and {b} is {add}')\n",
    "    \n",
    "def multiplication(a,b):\n",
    "    mul = a * b\n",
    "    print(f'multiplication of {a} and {b} is {mul}')\n",
    "    \n",
    "def division(a,b):\n",
    "    div = a / b\n",
    "    print(f'division of {a} and {b} is {div}')\n",
    "    \n",
    "def calculator():\n",
    "    addition(3,5)\n",
    "    multiplication(5,6)\n",
    "    division(10,2)\n",
    "    \n",
    "calculator()"
   ]
  },
  {
   "cell_type": "code",
   "execution_count": 15,
   "id": "3dfeb116",
   "metadata": {},
   "outputs": [
    {
     "name": "stdout",
     "output_type": "stream",
     "text": [
      "addition of 10 and 2 is 12\n",
      "multiplication of 10 and 2 is 20\n",
      "division of 10 and 2 is 5.0\n",
      "Addition == 12\n",
      "Multiplication == 20\n",
      "Division == 5.0\n"
     ]
    }
   ],
   "source": [
    "def addition(a,b):\n",
    "    add = a+b\n",
    "    print(f'addition of {a} and {b} is {add}')\n",
    "    return add\n",
    "    \n",
    "def multiplication(a,b):\n",
    "    mul = a * b\n",
    "    print(f'multiplication of {a} and {b} is {mul}')\n",
    "    return mul\n",
    "    \n",
    "def division(a,b):\n",
    "    div = a / b\n",
    "    print(f'division of {a} and {b} is {div}')\n",
    "    return div\n",
    "    \n",
    "def calculator(a,b):\n",
    "    x= addition(a,b)\n",
    "    y= multiplication(a,b)\n",
    "    z= division(a,b)\n",
    "    \n",
    "    print(f\"Addition == {x}\")\n",
    "    print(f\"Multiplication == {y}\")\n",
    "    print(f\"Division == {z}\")\n",
    "    \n",
    "calculator(10,2)"
   ]
  },
  {
   "cell_type": "code",
   "execution_count": 20,
   "id": "369e8978",
   "metadata": {},
   "outputs": [
    {
     "name": "stdout",
     "output_type": "stream",
     "text": [
      "Addition of 10 and 4 is 14\n",
      "multiplication of 10 and 4 is 40\n",
      "division of 10 and 4 is 2.5\n"
     ]
    }
   ],
   "source": [
    "class Calculator():\n",
    "    def addition(self,a,b):\n",
    "        self.a = a\n",
    "        self.b = b\n",
    "        self.add = self.a + self.b\n",
    "        print(f\"Addition of {self.a} and {self.b} is {self.add}\")\n",
    "    def multiplication(self):\n",
    "        self.mul = self.a * self.b\n",
    "        print(f\"multiplication of {self.a} and {self.b} is {self.mul}\")\n",
    "        \n",
    "        \n",
    "        \n",
    "    def division(self):\n",
    "        self.div = self.a / self.b\n",
    "        print(f\"division of {self.a} and {self.b} is {self.div}\")\n",
    "        \n",
    "CalObj=Calculator()\n",
    "CalObj.addition(10,4)\n",
    "CalObj.multiplication()\n",
    "CalObj.division()"
   ]
  },
  {
   "cell_type": "code",
   "execution_count": 21,
   "id": "84a2adac",
   "metadata": {},
   "outputs": [
    {
     "name": "stdout",
     "output_type": "stream",
     "text": [
      "Addition of 10 and 4 is 14\n",
      "multiplication of 10 and 4 is 40\n",
      "Self.add >>>> 14\n",
      "division of 10 and 4 is 2.5\n"
     ]
    }
   ],
   "source": [
    "class Calculator():\n",
    "    def addition(self,a,b):\n",
    "        #d =6                    local variable\n",
    "        self.a = a\n",
    "        self.b = b\n",
    "        self.add = self.a + self.b\n",
    "        print(f\"Addition of {self.a} and {self.b} is {self.add}\")\n",
    "    def multiplication(self):\n",
    "        self.mul = self.a * self.b\n",
    "        print(f\"multiplication of {self.a} and {self.b} is {self.mul}\")\n",
    "        print(\"Self.add >>>>\",self.add)\n",
    "        \n",
    "        \n",
    "    def division(self):\n",
    "        self.div = self.a / self.b\n",
    "        print(f\"division of {self.a} and {self.b} is {self.div}\")\n",
    "        \n",
    "CalObj=Calculator()\n",
    "CalObj.addition(10,4)\n",
    "CalObj.multiplication()\n",
    "CalObj.division()"
   ]
  },
  {
   "cell_type": "code",
   "execution_count": 27,
   "id": "9bb12601",
   "metadata": {},
   "outputs": [
    {
     "name": "stdout",
     "output_type": "stream",
     "text": [
      "Addition of 10 and 4 is 14\n"
     ]
    }
   ],
   "source": [
    "class Calculator():\n",
    "    def addition(self,a,b):\n",
    "        self.a = a\n",
    "        self.b = b\n",
    "        self.add = self.a + self.b\n",
    "        print(f\"Addition of {self.a} and {self.b} is {self.add}\")\n",
    "    def multiplication(self):\n",
    "        self.mul = self.a * self.b\n",
    "        print(f\"multiplication of {self.a} and {self.b} is {self.mul}\")\n",
    "        \n",
    "        \n",
    "        \n",
    "    def division(self):\n",
    "        self.div = self.a / self.b\n",
    "        print(f\"division of {self.a} and {self.b} is {self.div}\")\n",
    "        \n",
    "Calculator()\n",
    "Calculator().addition(10,4)"
   ]
  },
  {
   "cell_type": "code",
   "execution_count": 30,
   "id": "066f8bd0",
   "metadata": {},
   "outputs": [
    {
     "name": "stdout",
     "output_type": "stream",
     "text": [
      "Addition of 10 and 4 is 14\n",
      "multiplication of 10 and 4 is 40\n",
      "division of 10 and 4 is 2.5\n"
     ]
    }
   ],
   "source": [
    "class Calculator():\n",
    "    def addition(self,a,b):\n",
    "        self.a = a\n",
    "        self.b = b\n",
    "        self.add = self.a + self.b\n",
    "        print(f\"Addition of {self.a} and {self.b} is {self.add}\")\n",
    "    def multiplication(self):\n",
    "        self.mul = self.a * self.b\n",
    "        print(f\"multiplication of {self.a} and {self.b} is {self.mul}\")\n",
    "        \n",
    "        \n",
    "        \n",
    "    def division(self):\n",
    "        self.div = self.a / self.b\n",
    "        print(f\"division of {self.a} and {self.b} is {self.div}\")\n",
    "        \n",
    "        \n",
    "obj = Calculator()\n",
    "obj.addition(10,4)\n",
    "obj.multiplication()\n",
    "obj.division()"
   ]
  },
  {
   "cell_type": "code",
   "execution_count": 32,
   "id": "2dc6f2ae",
   "metadata": {},
   "outputs": [
    {
     "name": "stdout",
     "output_type": "stream",
     "text": [
      "Addition of 20 and 3 is 23\n"
     ]
    }
   ],
   "source": [
    "class Calculator():\n",
    "    a=20\n",
    "    b=3\n",
    "    def addition(self):\n",
    "        \n",
    "        self.add = self.a + self.b\n",
    "        print(f\"Addition of {self.a} and {self.b} is {self.add}\")\n",
    "    def multiplication(self):\n",
    "        self.mul = self.a * self.b\n",
    "        print(f\"multiplication of {self.a} and {self.b} is {self.mul}\")\n",
    "        \n",
    "        \n",
    "        \n",
    "    def division(self):\n",
    "        self.div = self.a / self.b\n",
    "        print(f\"division of {self.a} and {self.b} is {self.div}\")\n",
    "    \n",
    "    def test_functions(self):\n",
    "        print(\"Hello\")\n",
    "        self.addition\n",
    "        self.multiplication\n",
    "        self.division\n",
    "    \n",
    "CalObj=Calculator()\n",
    "x= CalObj.addition()"
   ]
  },
  {
   "cell_type": "code",
   "execution_count": null,
   "id": "f50799e0",
   "metadata": {},
   "outputs": [],
   "source": []
  }
 ],
 "metadata": {
  "kernelspec": {
   "display_name": "Python 3",
   "language": "python",
   "name": "python3"
  },
  "language_info": {
   "codemirror_mode": {
    "name": "ipython",
    "version": 3
   },
   "file_extension": ".py",
   "mimetype": "text/x-python",
   "name": "python",
   "nbconvert_exporter": "python",
   "pygments_lexer": "ipython3",
   "version": "3.8.8"
  }
 },
 "nbformat": 4,
 "nbformat_minor": 5
}
