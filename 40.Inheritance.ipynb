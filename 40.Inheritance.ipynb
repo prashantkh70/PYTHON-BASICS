{
 "cells": [
  {
   "cell_type": "markdown",
   "id": "1fefcd84",
   "metadata": {},
   "source": [
    "# Object Oriented Programming"
   ]
  },
  {
   "cell_type": "code",
   "execution_count": null,
   "id": "bb3ff313",
   "metadata": {},
   "outputs": [],
   "source": [
    "class \n",
    "object  \n",
    "\n",
    "reuse the code \n",
    "readability of code"
   ]
  },
  {
   "cell_type": "markdown",
   "id": "5bf169ac",
   "metadata": {},
   "source": [
    "# Main concepts in OOP"
   ]
  },
  {
   "cell_type": "code",
   "execution_count": null,
   "id": "d21ba11f",
   "metadata": {},
   "outputs": [],
   "source": [
    "1. Inheritance\n",
    "2. Encapsulation\n",
    "3. Polymorphism\n",
    "4. Abstraction"
   ]
  },
  {
   "cell_type": "code",
   "execution_count": 1,
   "id": "1c342903",
   "metadata": {},
   "outputs": [
    {
     "name": "stdout",
     "output_type": "stream",
     "text": [
      "This is INIT Function\n"
     ]
    }
   ],
   "source": [
    "class TestClass():\n",
    "    class_var1 = 100\n",
    "    def __init__(self):\n",
    "        print(\"This is INIT Function\")\n",
    "        \n",
    "Obj = TestClass()"
   ]
  },
  {
   "cell_type": "code",
   "execution_count": 2,
   "id": "a7bd9c1f",
   "metadata": {},
   "outputs": [
    {
     "name": "stdout",
     "output_type": "stream",
     "text": [
      "This is INIT Function\n",
      "2\n",
      "3\n"
     ]
    }
   ],
   "source": [
    "class TestClass():\n",
    "    class_var1 = 100\n",
    "    def __init__(self,x,y):\n",
    "        print(\"This is INIT Function\")\n",
    "        print(x)\n",
    "        print(y)\n",
    "        \n",
    "Obj = TestClass(2,3)"
   ]
  },
  {
   "cell_type": "code",
   "execution_count": 5,
   "id": "705a2a50",
   "metadata": {},
   "outputs": [
    {
     "name": "stdout",
     "output_type": "stream",
     "text": [
      "This is INIT Function\n",
      "500\n",
      "20\n"
     ]
    }
   ],
   "source": [
    "class TestClass():\n",
    "    class_var1 = 100\n",
    "    def __init__(self,x=10,y=20):\n",
    "        print(\"This is INIT Function\")\n",
    "        print(x)\n",
    "        print(y)\n",
    "        \n",
    "Obj = TestClass(500)"
   ]
  },
  {
   "cell_type": "code",
   "execution_count": 9,
   "id": "0dbb70e6",
   "metadata": {},
   "outputs": [
    {
     "name": "stdout",
     "output_type": "stream",
     "text": [
      "This is INIT Function\n",
      "self.x :  111\n",
      "self.y :  222\n"
     ]
    }
   ],
   "source": [
    "class TestClass():\n",
    "    class_var1 = 100\n",
    "    def __init__(self,x=10,y=20):\n",
    "        print(\"This is INIT Function\")\n",
    "        self.x = x\n",
    "        self.y = y\n",
    "        \n",
    "        \n",
    "    def display(self):\n",
    "        print(\"self.x : \",self.x)\n",
    "        print(\"self.y : \",self.y)\n",
    "        \n",
    "Obj = TestClass(111,222)\n",
    "Obj.display()"
   ]
  },
  {
   "cell_type": "code",
   "execution_count": 12,
   "id": "43895796",
   "metadata": {},
   "outputs": [
    {
     "name": "stdout",
     "output_type": "stream",
     "text": [
      "This is INIT Function\n",
      "This is mt method1\n",
      "self.x :  365\n",
      "self.y :  456\n",
      "we are in display method\n"
     ]
    }
   ],
   "source": [
    "class TestClass():\n",
    "    class_var1 = 100\n",
    "    def __init__(self,x=10,y=20):\n",
    "        print(\"This is INIT Function\")\n",
    "        self.X = x\n",
    "        self.Y = y\n",
    "    def my_method1(self):\n",
    "        print('This is mt method1')\n",
    "        print(\"self.x : \",self.X)\n",
    "        print(\"self.y : \",self.Y)\n",
    "        \n",
    "    def display(self):\n",
    "        self.my_method1()\n",
    "        print(\"we are in display method\")\n",
    "#         print(\"self.x : \",self.X)\n",
    "#         print(\"self.y : \",self.Y)\n",
    "        \n",
    "Obj = TestClass(365,456)\n",
    "Obj.display()"
   ]
  },
  {
   "cell_type": "code",
   "execution_count": 15,
   "id": "6c243661",
   "metadata": {},
   "outputs": [
    {
     "name": "stdout",
     "output_type": "stream",
     "text": [
      "This is INIT Function\n",
      "This is mt method1\n",
      "self.x :  365\n",
      "self.y :  456\n",
      "we are in display method\n",
      "self.x :  365\n",
      "self.y :  456\n"
     ]
    }
   ],
   "source": [
    "class TestClass():\n",
    "    class_var1 = 100\n",
    "    def __init__(self,x=10,y=20):\n",
    "        print(\"This is INIT Function\")\n",
    "        self.X = x\n",
    "        self.Y = y\n",
    "    def my_method1(self):\n",
    "        print('This is mt method1')\n",
    "        print(\"self.x : \",self.X)\n",
    "        print(\"self.y : \",self.Y)\n",
    "        \n",
    "    def display(self):\n",
    "        self.my_method1()\n",
    "        print(\"we are in display method\")\n",
    "        print(\"self.x : \",self.X)\n",
    "        print(\"self.y : \",self.Y)\n",
    "        \n",
    "Obj = TestClass(365,456)\n",
    "Obj.display()"
   ]
  },
  {
   "cell_type": "code",
   "execution_count": 22,
   "id": "5905effc",
   "metadata": {},
   "outputs": [
    {
     "name": "stdout",
     "output_type": "stream",
     "text": [
      "This is INIT Function\n",
      "This is my method1\n",
      "Class_Var1 :  100\n",
      "we are in display method\n",
      "self.x :  365\n",
      "self.y :  456\n",
      "We are in Class Method\n",
      "we are in display method\n",
      "self.x :  365\n",
      "self.y :  456\n"
     ]
    }
   ],
   "source": [
    "a=50\n",
    "class TestClass():\n",
    "    class_var1 = 100\n",
    "    def __init__(self,x=10,y=20):\n",
    "        print(\"This is INIT Function\")\n",
    "        self.X = x\n",
    "        self.Y = y\n",
    "    def my_method1(self):\n",
    "        print('This is my method1')\n",
    "        print(\"Class_Var1 : \", self.class_var1)\n",
    "        \n",
    "    def display(self):\n",
    "        print(\"we are in display method\")\n",
    "        print(\"self.x : \",self.X)\n",
    "        print(\"self.y : \",self.Y)\n",
    "    def Call(self):\n",
    "        self.my_method1()\n",
    "        self.display()\n",
    "        print(\"We are in Class Method\")\n",
    "        \n",
    "Obj = TestClass(365,456)\n",
    "Obj.Call()\n",
    "Obj.display()\n"
   ]
  },
  {
   "cell_type": "markdown",
   "id": "e15cf1e9",
   "metadata": {},
   "source": [
    "# Inheritance"
   ]
  },
  {
   "cell_type": "code",
   "execution_count": null,
   "id": "e98efe92",
   "metadata": {},
   "outputs": [],
   "source": [
    "it allows a class to inherite the properties of other class \n",
    "properties >> variables and methods\n",
    "it allows a class to inherite the propertis from parent class to child class\n",
    "\n",
    "Parent Class  \\ Base Class     \\ SuperClass\n",
    "Child Class   \\ Derived Class  \\ SubClass\n",
    "\n",
    "It helps us to reuse the code\n"
   ]
  },
  {
   "cell_type": "markdown",
   "id": "3d6497cb",
   "metadata": {},
   "source": [
    "## Types of inheritance"
   ]
  },
  {
   "cell_type": "code",
   "execution_count": null,
   "id": "d82d8b8b",
   "metadata": {},
   "outputs": [],
   "source": [
    "1. single inheritance\n",
    "2. multiple inheritance\n",
    "3. Multilevel inheritance\n",
    "4. Hirarchical inheritance\n",
    "5. Hybrid Inheritance"
   ]
  },
  {
   "cell_type": "code",
   "execution_count": 28,
   "id": "1c9e1f03",
   "metadata": {},
   "outputs": [
    {
     "name": "stdout",
     "output_type": "stream",
     "text": [
      "classification report\n",
      "One Hot Encoding\n",
      "confusion matrix\n"
     ]
    }
   ],
   "source": [
    "class preprocessing():\n",
    "    def get_outlier(self):\n",
    "        print(\"Detect Outlier\")\n",
    "    def one_hot_encoding(self):\n",
    "        print(\"One Hot Encoding\")\n",
    "        \n",
    "class ModelEvaluations():\n",
    "    def classification_report(self):\n",
    "        print(\"classification report\")\n",
    "        \n",
    "    def one_hot_encoding(self):\n",
    "        print(\"One Hot Encoding\")\n",
    "        \n",
    "    def confusion_matrix(self):\n",
    "        self.classification_report()\n",
    "        self.one_hot_encoding()\n",
    "        print(\"confusion matrix\")\n",
    "        \n",
    "# Obj1 = preprocessing()\n",
    "# Obj1.one_hot_encoding()\n",
    "\n",
    "\n",
    "Obj2 = ModelEvaluations()\n",
    "Obj2.confusion_matrix()"
   ]
  },
  {
   "cell_type": "code",
   "execution_count": null,
   "id": "a4eae815",
   "metadata": {},
   "outputs": [],
   "source": [
    "class parent():\n",
    "    pass\n",
    "class child(parent):\n",
    "    pass"
   ]
  },
  {
   "cell_type": "code",
   "execution_count": null,
   "id": "e8cf16bb",
   "metadata": {},
   "outputs": [],
   "source": [
    "class Company_Info():          #parent class/base/superclass\n",
    "    pass\n",
    "class Employee_Info(Company_Info):  #child class/ derived/ subclass\n",
    "    pass\n",
    "\n",
    "e1 = Employee_Info()"
   ]
  },
  {
   "cell_type": "code",
   "execution_count": 30,
   "id": "bc811771",
   "metadata": {},
   "outputs": [
    {
     "name": "stdout",
     "output_type": "stream",
     "text": [
      "we are in company name method\n",
      "we are in employee name method\n"
     ]
    }
   ],
   "source": [
    "class Company_Info():          #parent class/base/superclass\n",
    "    def company_name(self):\n",
    "        print(\"we are in company name method\")\n",
    "        \n",
    "        \n",
    "class Employee_Info(Company_Info):  #child class/ derived/ subclass\n",
    "    def employee_name(self):\n",
    "        print(\"we are in employee name method\")\n",
    "\n",
    "e1 = Employee_Info()\n",
    "e1.company_name()\n",
    "e1.employee_name()"
   ]
  },
  {
   "cell_type": "code",
   "execution_count": 36,
   "id": "944ce9f2",
   "metadata": {},
   "outputs": [
    {
     "name": "stdout",
     "output_type": "stream",
     "text": [
      "we are in company name method\n",
      "Company name is  :  Capgemimi\n",
      "Company Location is : Pune\n",
      "Employee Name is :  Sachin\n"
     ]
    }
   ],
   "source": [
    "class CompanyInfo():\n",
    "    company_name = 'Capgemimi'\n",
    "    def Company_name(self):\n",
    "        print(\"we are in company name method\")\n",
    "        print('Company name is  : ',self.company_name)\n",
    "        \n",
    "    def get_company_location(self,loc):\n",
    "        print(\"Company Location is :\", loc)\n",
    "        \n",
    "class Employee_Info(CompanyInfo):  \n",
    "    def employee_name(self,emp_name):\n",
    "        print(\"Employee Name is : \",emp_name)\n",
    "    \n",
    "Obj = Employee_Info()\n",
    "Obj.Company_name()\n",
    "Obj.get_company_location('Pune')\n",
    "Obj.employee_name('Sachin')"
   ]
  },
  {
   "cell_type": "code",
   "execution_count": 39,
   "id": "de57ce23",
   "metadata": {},
   "outputs": [
    {
     "name": "stdout",
     "output_type": "stream",
     "text": [
      "We are in INIT function of Employee Info Class\n",
      "Employee Name is :  Rohit\n",
      "we are in company name method\n",
      "Company name is  :  Capgemimi\n"
     ]
    }
   ],
   "source": [
    "class CompanyInfo():\n",
    "    company_name = 'Capgemimi'\n",
    "    \n",
    "    def __init__(self,location):\n",
    "        print(\"We are in INIT method of Company Info Class\")\n",
    "        self.location = location\n",
    "    \n",
    "    def Company_name(self):\n",
    "        print(\"we are in company name method\")\n",
    "        print('Company name is  : ',self.company_name)\n",
    "        \n",
    "    def get_company_location(self,loc):\n",
    "        print(\"Company Location is :\", loc)\n",
    "        \n",
    "class Employee_Info(CompanyInfo): \n",
    "    def __init__(self,emp_name,salary,designation,location):\n",
    "        print(\"We are in INIT function of Employee Info Class\")\n",
    "        self.emp_name = emp_name\n",
    "    def employee_name(self):\n",
    "        print(\"Employee Name is : \",self.emp_name)\n",
    "    \n",
    "    \n",
    "Obj = Employee_Info('Rohit',80000,'DataScientist','Mumbai')\n",
    "Obj.employee_name()\n",
    "Obj.Company_name()"
   ]
  },
  {
   "cell_type": "code",
   "execution_count": 40,
   "id": "d2d44b11",
   "metadata": {},
   "outputs": [
    {
     "name": "stdout",
     "output_type": "stream",
     "text": [
      "We are in INIT function of Employee Info Class\n",
      "Employee Name is :  Rohit\n",
      "Employee Salary is :  80000\n"
     ]
    }
   ],
   "source": [
    "class CompanyInfo():\n",
    "    company_name = 'Capgemimi'\n",
    "    \n",
    "    def __init__(self,location):\n",
    "        print(\"We are in INIT method of Company Info Class\")\n",
    "        self.location = location\n",
    "    \n",
    "    def Company_name(self):\n",
    "        print(\"we are in company name method\")\n",
    "        print('Company name is  : ',self.company_name)\n",
    "        \n",
    "    def get_company_location(self,loc):\n",
    "        print(\"Company Location is :\", loc)\n",
    "        \n",
    "class Employee_Info(CompanyInfo): \n",
    "    def __init__(self,emp_name,salary,designation,location):\n",
    "        print(\"We are in INIT function of Employee Info Class\")\n",
    "        self.emp_name = emp_name\n",
    "        self.salary = salary\n",
    "    def employee_name(self):\n",
    "        print(\"Employee Name is : \",self.emp_name)\n",
    "    \n",
    "    def get_salary(self):\n",
    "        print(\"Employee Salary is : \",self.salary)\n",
    "    \n",
    "    \n",
    "Obj = Employee_Info('Rohit',80000,'DataScientist','Mumbai')\n",
    "Obj.employee_name()\n",
    "Obj.get_salary()"
   ]
  },
  {
   "cell_type": "markdown",
   "id": "22baed88",
   "metadata": {},
   "source": [
    "## 2. Multilevel Inheritance"
   ]
  },
  {
   "cell_type": "code",
   "execution_count": null,
   "id": "bb2708ef",
   "metadata": {},
   "outputs": [],
   "source": [
    "class Grandfather():\n",
    "    pass\n",
    "class Father(Grandfather):\n",
    "    pass\n",
    "class Child(Father):\n",
    "    pass\n",
    "\n",
    "c1 =Child()\n"
   ]
  },
  {
   "cell_type": "code",
   "execution_count": 43,
   "id": "7e2bcede",
   "metadata": {},
   "outputs": [
    {
     "name": "stdout",
     "output_type": "stream",
     "text": [
      "Calculation Function\n",
      "Addition Function\n",
      "Multiplication Function\n",
      "Var 2 is :  Data Science\n"
     ]
    }
   ],
   "source": [
    "class Grandfather():\n",
    "    var1 = 'Python'\n",
    "    def addition(self):\n",
    "        print('Addition Function')\n",
    "        \n",
    "class Father(Grandfather):\n",
    "    var2 = 'Data Science'\n",
    "    def Multiplication(self):\n",
    "        print(\"Multiplication Function\")\n",
    "        print(\"Var 2 is : \",self.var2)\n",
    "        \n",
    "class Child(Father):\n",
    "    var3 = \"Machine Learning\"\n",
    "    def calculation(self):\n",
    "        print(\"Calculation Function\")\n",
    "    \n",
    "c1= Child()\n",
    "c1.calculation()\n",
    "c1.addition()\n",
    "c1.Multiplication()"
   ]
  },
  {
   "cell_type": "code",
   "execution_count": 45,
   "id": "5e030f72",
   "metadata": {},
   "outputs": [
    {
     "name": "stdout",
     "output_type": "stream",
     "text": [
      "Addition Function\n",
      "Variable 1 is:  Python\n",
      "Multiplication Function\n",
      "Var 2 is :  Data Science\n"
     ]
    }
   ],
   "source": [
    "class Grandfather():\n",
    "    var1 = 'Python'\n",
    "    def addition(self):\n",
    "        print('Addition Function')\n",
    "        print(\"Variable 1 is: \",self.var1)\n",
    "        \n",
    "class Father(Grandfather):\n",
    "    var2 = 'Data Science'\n",
    "    def Multiplication(self):\n",
    "        print(\"Multiplication Function\")\n",
    "        print(\"Var 2 is : \",self.var2)\n",
    "        \n",
    "class Child(Father):\n",
    "    var3 = \"Machine Learning\"\n",
    "    def calculation(self):\n",
    "        print(\"Calculation Function\")\n",
    "    \n",
    "c1= Child()\n",
    "c1.addition()\n",
    "c1.Multiplication()"
   ]
  },
  {
   "cell_type": "code",
   "execution_count": 50,
   "id": "31e9a809",
   "metadata": {
    "scrolled": true
   },
   "outputs": [
    {
     "name": "stdout",
     "output_type": "stream",
     "text": [
      "We are accessing Grandfather class function\n",
      "Addition Function\n",
      "Variable 1 is:  Python\n",
      "**************************************************\n",
      "\n",
      "We are accessing Father class function\n",
      "Multiplication Function\n",
      "Var 2 is :  Data Science\n",
      "**************************************************\n",
      "\n",
      "Calculation Function\n",
      "We are accessing Child class function\n",
      "Variable 3 is:  Machine Learning\n",
      "**************************************************\n",
      "\n"
     ]
    }
   ],
   "source": [
    "class Grandfather():\n",
    "    var1 = 'Python'\n",
    "    def addition(self):\n",
    "        print(\"We are accessing Grandfather class function\")\n",
    "        print('Addition Function')\n",
    "        print(\"Variable 1 is: \",self.var1)\n",
    "        print('*'*50)\n",
    "        print()\n",
    "        \n",
    "class Father(Grandfather):\n",
    "    var2 = 'Data Science'\n",
    "    def Multiplication(self):\n",
    "        print(\"We are accessing Father class function\")\n",
    "        print(\"Multiplication Function\")\n",
    "        print(\"Var 2 is : \",self.var2)\n",
    "        print('*'*50)\n",
    "        print()\n",
    "        \n",
    "class Child(Father):\n",
    "    var3 = \"Machine Learning\"\n",
    "    def calculation(self):\n",
    "        print(\"Calculation Function\")\n",
    "        print(\"We are accessing Child class function\")\n",
    "        print(\"Variable 3 is: \",self.var3)\n",
    "        print('*'*50)\n",
    "        print()\n",
    "    \n",
    "c1= Child()\n",
    "c1.addition()\n",
    "c1.Multiplication()\n",
    "c1.calculation()"
   ]
  },
  {
   "cell_type": "code",
   "execution_count": null,
   "id": "b53dd9fd",
   "metadata": {},
   "outputs": [],
   "source": []
  }
 ],
 "metadata": {
  "kernelspec": {
   "display_name": "Python 3",
   "language": "python",
   "name": "python3"
  },
  "language_info": {
   "codemirror_mode": {
    "name": "ipython",
    "version": 3
   },
   "file_extension": ".py",
   "mimetype": "text/x-python",
   "name": "python",
   "nbconvert_exporter": "python",
   "pygments_lexer": "ipython3",
   "version": "3.8.8"
  }
 },
 "nbformat": 4,
 "nbformat_minor": 5
}
