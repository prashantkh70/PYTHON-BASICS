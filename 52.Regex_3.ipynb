{
 "cells": [
  {
   "cell_type": "markdown",
   "id": "0ad99238",
   "metadata": {},
   "source": [
    "# Characters with special meaning"
   ]
  },
  {
   "cell_type": "code",
   "execution_count": null,
   "id": "96d75650",
   "metadata": {},
   "outputs": [],
   "source": [
    "1. plus (+) one or more occurances\n",
    "2. star (*) zero or more occurances\n",
    "3. dot (.)  any char except new line\n",
    "4. (?)     exactly zero or one occurance\n",
    "5. startswith (^)\n",
    "6. endswith ($)"
   ]
  },
  {
   "cell_type": "code",
   "execution_count": 2,
   "id": "019a4e8e",
   "metadata": {},
   "outputs": [
    {
     "data": {
      "text/plain": [
       "True"
      ]
     },
     "execution_count": 2,
     "metadata": {},
     "output_type": "execute_result"
    }
   ],
   "source": [
    "import re\n",
    "string = 'python and data science'\n",
    "string.endswith('e')"
   ]
  },
  {
   "cell_type": "code",
   "execution_count": 3,
   "id": "2b03a13f",
   "metadata": {},
   "outputs": [
    {
     "name": "stdout",
     "output_type": "stream",
     "text": [
      "['e']\n"
     ]
    }
   ],
   "source": [
    "result = re.findall('e$',string)\n",
    "print(result)"
   ]
  },
  {
   "cell_type": "code",
   "execution_count": 4,
   "id": "2f33c0cc",
   "metadata": {},
   "outputs": [
    {
     "name": "stdout",
     "output_type": "stream",
     "text": [
      "['a']\n"
     ]
    }
   ],
   "source": [
    "string = 'python and data'\n",
    "result = re.findall('[a-zA-Z]$',string)\n",
    "print(result)"
   ]
  },
  {
   "cell_type": "code",
   "execution_count": 6,
   "id": "db79de7e",
   "metadata": {},
   "outputs": [
    {
     "name": "stdout",
     "output_type": "stream",
     "text": [
      "['E']\n"
     ]
    }
   ],
   "source": [
    "string = 'python and data sciencE'\n",
    "result = re.findall('[a-zA-Z]$',string)\n",
    "print(result)"
   ]
  },
  {
   "cell_type": "code",
   "execution_count": null,
   "id": "fc4e9a47",
   "metadata": {},
   "outputs": [],
   "source": [
    "7. or (|) #pipe symbol"
   ]
  },
  {
   "cell_type": "code",
   "execution_count": 7,
   "id": "3d4c17c7",
   "metadata": {},
   "outputs": [
    {
     "data": {
      "text/plain": [
       "True"
      ]
     },
     "execution_count": 7,
     "metadata": {},
     "output_type": "execute_result"
    }
   ],
   "source": [
    "string = \"cat in house\"\n",
    "'cat' in string"
   ]
  },
  {
   "cell_type": "code",
   "execution_count": 8,
   "id": "7500d936",
   "metadata": {},
   "outputs": [
    {
     "data": {
      "text/plain": [
       "False"
      ]
     },
     "execution_count": 8,
     "metadata": {},
     "output_type": "execute_result"
    }
   ],
   "source": [
    "'rat' in string"
   ]
  },
  {
   "cell_type": "code",
   "execution_count": 12,
   "id": "c3703726",
   "metadata": {},
   "outputs": [
    {
     "data": {
      "text/plain": [
       "True"
      ]
     },
     "execution_count": 12,
     "metadata": {},
     "output_type": "execute_result"
    }
   ],
   "source": [
    "string = \"cat in house catches the rat\"\n",
    "'rat' in string"
   ]
  },
  {
   "cell_type": "code",
   "execution_count": 13,
   "id": "f93d93e1",
   "metadata": {},
   "outputs": [
    {
     "name": "stdout",
     "output_type": "stream",
     "text": [
      "['cat ', ' rat']\n"
     ]
    }
   ],
   "source": [
    "result = re.findall('cat | rat',string)\n",
    "print(result)"
   ]
  },
  {
   "cell_type": "code",
   "execution_count": 14,
   "id": "bfe97cb5",
   "metadata": {},
   "outputs": [
    {
     "name": "stdout",
     "output_type": "stream",
     "text": [
      "['30-08-2022', '30/08/2022', '30.08.2022']\n"
     ]
    }
   ],
   "source": [
    "dates = \"\"\"30-08-20222\n",
    "        30/08/2022\n",
    "        30.08.2022\n",
    "        30 Aug 2022\"\"\"\n",
    "\n",
    "result = re.findall('\\d{2}[-/.]\\d{2}[-/.]\\d{4}',dates)\n",
    "print(result)"
   ]
  },
  {
   "cell_type": "code",
   "execution_count": 16,
   "id": "e14a9c26",
   "metadata": {},
   "outputs": [
    {
     "name": "stdout",
     "output_type": "stream",
     "text": [
      "['30 Sept 2022', '30 Aug 2022']\n"
     ]
    }
   ],
   "source": [
    "dates = \"\"\"30-08-20222\n",
    "        30/08/2022\n",
    "        30 Sept 2022\n",
    "        30 Aug 2022\"\"\"\n",
    "\n",
    "result = re.findall('\\d{2}\\s[a-zA-Z]{3,5}\\s\\d{4}',dates)\n",
    "print(result)"
   ]
  },
  {
   "cell_type": "code",
   "execution_count": 19,
   "id": "8180d200",
   "metadata": {},
   "outputs": [
    {
     "name": "stdout",
     "output_type": "stream",
     "text": [
      "['30-08-2022', '30/08/2022', '30.08.2022', '30 Sept 2022', '30 Aug 2022']\n"
     ]
    }
   ],
   "source": [
    "dates = \"\"\"30-08-20222\n",
    "        30/08/2022\n",
    "        30.08.2022\n",
    "        30 Sept 2022\n",
    "        30 Aug 2022\"\"\"\n",
    "\n",
    "result = re.findall('\\d{2}[-/.]\\d{2}[-/.]\\d{4}|\\d{2}\\s[a-zA-Z]{3,5}\\s\\d{4}',dates)\n",
    "print(result)"
   ]
  },
  {
   "cell_type": "code",
   "execution_count": 20,
   "id": "a86be953",
   "metadata": {},
   "outputs": [
    {
     "name": "stdout",
     "output_type": "stream",
     "text": [
      "['python', 'data', 'science']\n"
     ]
    }
   ],
   "source": [
    "var1 = \"python and data science\"\n",
    "\n",
    "result =  re.findall('python|science|data',var1)\n",
    "print(result)"
   ]
  },
  {
   "cell_type": "markdown",
   "id": "25d5d1af",
   "metadata": {},
   "source": [
    "# 9. ()  group of character"
   ]
  },
  {
   "cell_type": "code",
   "execution_count": 21,
   "id": "4d6fd59b",
   "metadata": {},
   "outputs": [
    {
     "name": "stdout",
     "output_type": "stream",
     "text": [
      "['123-345-5678', '987-458-3685']\n"
     ]
    }
   ],
   "source": [
    "string = \"\"\"123-345-5678\n",
    "            456-7856 \n",
    "            987-458-3685\"\"\"\n",
    "\n",
    "result = re.findall('\\d{3}[-]\\d{3}[-]\\d{4}',string)\n",
    "print(result)"
   ]
  },
  {
   "cell_type": "code",
   "execution_count": 22,
   "id": "49f4699d",
   "metadata": {},
   "outputs": [
    {
     "name": "stdout",
     "output_type": "stream",
     "text": [
      "[]\n"
     ]
    }
   ],
   "source": [
    "string = \"\"\"(123)-345-5678\n",
    "            456-7856 \n",
    "            (987)-458-3685\"\"\"\n",
    "\n",
    "result = re.findall('\\d{3}[-]\\d{3}[-]\\d{4}',string)\n",
    "print(result)"
   ]
  },
  {
   "cell_type": "code",
   "execution_count": 23,
   "id": "75602b24",
   "metadata": {},
   "outputs": [
    {
     "name": "stdout",
     "output_type": "stream",
     "text": [
      "['(123)-345-5678', '(987)-458-3685']\n"
     ]
    }
   ],
   "source": [
    "string = \"\"\"(123)-345-5678\n",
    "            456-7856 \n",
    "            (987)-458-3685\"\"\"\n",
    "\n",
    "result = re.findall(r'\\(\\d{3}\\)[-]\\d{3}[-]\\d{4}',string)     #\\\n",
    "print(result)"
   ]
  },
  {
   "cell_type": "code",
   "execution_count": 24,
   "id": "3c7d083c",
   "metadata": {},
   "outputs": [
    {
     "name": "stdout",
     "output_type": "stream",
     "text": [
      "[]\n"
     ]
    }
   ],
   "source": [
    "string = \"\"\"(123)-345-5678\n",
    "            456-7856 \n",
    "            (987)-458-3685\"\"\"\n",
    "\n",
    "result = re.findall('(\\d{3})[-]\\d{3}[-]\\d{4}',string)     #\\\n",
    "print(result)"
   ]
  },
  {
   "cell_type": "code",
   "execution_count": 25,
   "id": "91e1a179",
   "metadata": {},
   "outputs": [
    {
     "name": "stdout",
     "output_type": "stream",
     "text": [
      "[]\n"
     ]
    }
   ],
   "source": [
    "string = \"\"\"(123)-345-5678\n",
    "            456-7856 \n",
    "            (987)-458-3685\"\"\"\n",
    "\n",
    "result = re.findall(r'(\\d{3})[-]\\d{3}[-]\\d{4}',string)     #\\\n",
    "print(result)"
   ]
  },
  {
   "cell_type": "code",
   "execution_count": 26,
   "id": "24ee3708",
   "metadata": {},
   "outputs": [
    {
     "name": "stdout",
     "output_type": "stream",
     "text": [
      "['(123)-345-5678', '(987)-458-3685']\n"
     ]
    }
   ],
   "source": [
    "string = \"\"\"(123)-345-5678\n",
    "            456-7856 \n",
    "            (987)-458-3685\"\"\"\n",
    "\n",
    "result = re.findall(r'\\(\\d{3}\\)[-]\\d{3}[-]\\d{4}',string)     #\\\n",
    "print(result)"
   ]
  },
  {
   "cell_type": "code",
   "execution_count": 27,
   "id": "e0630a10",
   "metadata": {},
   "outputs": [
    {
     "name": "stdout",
     "output_type": "stream",
     "text": [
      "['(+91) 9858654578', '(+91) 8857421585']\n"
     ]
    }
   ],
   "source": [
    "string = \"\"\"Mobile Numbers are:\n",
    "            (+91) 9858654578\n",
    "            (+91) 8857421585\n",
    "            \"\"\"\n",
    "mo_num = re.findall(r'\\([+]\\d{2}\\)\\s\\d{10}',string)\n",
    "print(mo_num)"
   ]
  },
  {
   "cell_type": "code",
   "execution_count": 28,
   "id": "65b1110d",
   "metadata": {},
   "outputs": [
    {
     "name": "stdout",
     "output_type": "stream",
     "text": [
      "['(+91) 8857421585']\n"
     ]
    }
   ],
   "source": [
    "string = \"\"\"Mobile Numbers are:\n",
    "            (+91) 985865457\n",
    "            (+91) 8857421585\n",
    "            \"\"\"\n",
    "mo_num = re.findall(r'\\([+]\\d{2}\\)\\s\\d{10}',string)\n",
    "print(mo_num)"
   ]
  },
  {
   "cell_type": "code",
   "execution_count": 29,
   "id": "e7d8324c",
   "metadata": {},
   "outputs": [
    {
     "name": "stdout",
     "output_type": "stream",
     "text": [
      "[]\n"
     ]
    }
   ],
   "source": [
    "string = \"\"\"Mobile Numbers are:\n",
    "            (+91) 985865457\n",
    "            (+91) 885742158\n",
    "            \"\"\"\n",
    "mo_num = re.findall(r'\\([+]\\d{2}\\)\\s\\d{10}',string)\n",
    "print(mo_num)"
   ]
  },
  {
   "cell_type": "markdown",
   "id": "9db1b145",
   "metadata": {},
   "source": [
    "# Regular Expression Function"
   ]
  },
  {
   "cell_type": "code",
   "execution_count": null,
   "id": "b118dd62",
   "metadata": {},
   "outputs": [],
   "source": [
    "1. findall\n",
    "2. sub\n",
    "3. search"
   ]
  },
  {
   "cell_type": "markdown",
   "id": "b5e263f1",
   "metadata": {},
   "source": [
    "# 3. Search"
   ]
  },
  {
   "cell_type": "code",
   "execution_count": null,
   "id": "3ad75273",
   "metadata": {},
   "outputs": [],
   "source": [
    "It will return an object of first occurance only"
   ]
  },
  {
   "cell_type": "code",
   "execution_count": 32,
   "id": "2c4285d4",
   "metadata": {},
   "outputs": [
    {
     "data": {
      "text/plain": [
       "<re.Match object; span=(24, 30), match='python'>"
      ]
     },
     "execution_count": 32,
     "metadata": {},
     "output_type": "execute_result"
    }
   ],
   "source": [
    "string = \"Python and data science python and ml\"\n",
    "result =re.search('python',string)\n",
    "result"
   ]
  },
  {
   "cell_type": "code",
   "execution_count": 33,
   "id": "a7136051",
   "metadata": {},
   "outputs": [
    {
     "data": {
      "text/plain": [
       "<re.Match object; span=(0, 6), match='python'>"
      ]
     },
     "execution_count": 33,
     "metadata": {},
     "output_type": "execute_result"
    }
   ],
   "source": [
    "string = \"python and data science python and ml\"\n",
    "result =re.search('python',string)\n",
    "result"
   ]
  },
  {
   "cell_type": "code",
   "execution_count": 34,
   "id": "6734ae9b",
   "metadata": {},
   "outputs": [
    {
     "data": {
      "text/plain": [
       "<re.Match object; span=(7, 10), match='and'>"
      ]
     },
     "execution_count": 34,
     "metadata": {},
     "output_type": "execute_result"
    }
   ],
   "source": [
    "string = \"python and data science python and ml\"\n",
    "result =re.search('and',string)\n",
    "result"
   ]
  },
  {
   "cell_type": "code",
   "execution_count": 39,
   "id": "00391e37",
   "metadata": {},
   "outputs": [
    {
     "name": "stdout",
     "output_type": "stream",
     "text": [
      "and\n",
      "31\n",
      "34\n"
     ]
    }
   ],
   "source": [
    "string = \"python AND data science python and ml\"\n",
    "result =re.search('and',string)\n",
    "\n",
    "if result:\n",
    "    print(result.group())\n",
    "    print(result.start())\n",
    "    print(result.end())"
   ]
  },
  {
   "cell_type": "code",
   "execution_count": 42,
   "id": "9c2484e8",
   "metadata": {},
   "outputs": [
    {
     "data": {
      "text/plain": [
       "<re.Match object; span=(0, 6), match='python'>"
      ]
     },
     "execution_count": 42,
     "metadata": {},
     "output_type": "execute_result"
    }
   ],
   "source": [
    "string = \"python and data science python and ml\"\n",
    "result =re.search('python',string)\n",
    "result"
   ]
  },
  {
   "cell_type": "code",
   "execution_count": 44,
   "id": "9374f907",
   "metadata": {},
   "outputs": [
    {
     "name": "stdout",
     "output_type": "stream",
     "text": [
      "python\n",
      "0\n",
      "6\n",
      "(0, 6)\n"
     ]
    }
   ],
   "source": [
    "if result:\n",
    "    print(result.group())\n",
    "    print(result.start())\n",
    "    print(result.end())\n",
    "    print(result.span())"
   ]
  },
  {
   "cell_type": "code",
   "execution_count": 45,
   "id": "613b876d",
   "metadata": {},
   "outputs": [
    {
     "name": "stdout",
     "output_type": "stream",
     "text": [
      "python\n",
      "24\n",
      "30\n",
      "(24, 30)\n"
     ]
    }
   ],
   "source": [
    "string = \"Python and data science python and ml\"\n",
    "result =re.search('python',string)\n",
    "\n",
    "if result:\n",
    "    print(result.group())\n",
    "    print(result.start())\n",
    "    print(result.end())\n",
    "    print(result.span())"
   ]
  },
  {
   "cell_type": "code",
   "execution_count": 47,
   "id": "a43bf3ca",
   "metadata": {},
   "outputs": [
    {
     "name": "stdout",
     "output_type": "stream",
     "text": [
      "(+91) 9858654578\n",
      "32\n",
      "48\n",
      "(32, 48)\n"
     ]
    }
   ],
   "source": [
    "string = \"\"\"Mobile Numbers are:\n",
    "            (+91) 9858654578\n",
    "            (+91) 8857421588\n",
    "            \"\"\"\n",
    "mo_num = re.search(r'\\([+]\\d{2}\\)\\s\\d{10}',string)\n",
    "\n",
    "if mo_num:\n",
    "    print(mo_num.group())\n",
    "    print(mo_num.start())\n",
    "    print(mo_num.end())\n",
    "    print(mo_num.span())"
   ]
  },
  {
   "cell_type": "code",
   "execution_count": 48,
   "id": "a638e055",
   "metadata": {},
   "outputs": [
    {
     "name": "stdout",
     "output_type": "stream",
     "text": [
      "(+91) 8857421588\n",
      "60\n",
      "76\n",
      "(60, 76)\n"
     ]
    }
   ],
   "source": [
    "string = \"\"\"Mobile Numbers are:\n",
    "            (+91) 985865457\n",
    "            (+91) 8857421588\n",
    "            \"\"\"\n",
    "mo_num = re.search(r'\\([+]\\d{2}\\)\\s\\d{10}',string)\n",
    "\n",
    "if mo_num:\n",
    "    print(mo_num.group())\n",
    "    print(mo_num.start())\n",
    "    print(mo_num.end())\n",
    "    print(mo_num.span())"
   ]
  },
  {
   "cell_type": "markdown",
   "id": "8491e6d5",
   "metadata": {},
   "source": [
    "# 4. Match"
   ]
  },
  {
   "cell_type": "code",
   "execution_count": null,
   "id": "ce84c8ac",
   "metadata": {},
   "outputs": [],
   "source": [
    "It searches for match at begining of string and return an object of first occurance only"
   ]
  },
  {
   "cell_type": "code",
   "execution_count": 51,
   "id": "adc1a706",
   "metadata": {},
   "outputs": [
    {
     "name": "stdout",
     "output_type": "stream",
     "text": [
      "python\n",
      "0\n",
      "6\n",
      "(0, 6)\n"
     ]
    }
   ],
   "source": [
    "string = 'python and data science'\n",
    "\n",
    "result = re.match(r'python',string)\n",
    "result.group()\n",
    "if result:\n",
    "    print(result.group())\n",
    "    print(result.start())\n",
    "    print(result.end())\n",
    "    print(result.span())"
   ]
  },
  {
   "cell_type": "code",
   "execution_count": 53,
   "id": "604ce7a3",
   "metadata": {},
   "outputs": [],
   "source": [
    "string = ' python and data science'\n",
    "\n",
    "result = re.match(r'python',string)\n",
    "result"
   ]
  },
  {
   "cell_type": "code",
   "execution_count": 54,
   "id": "7b84448e",
   "metadata": {},
   "outputs": [
    {
     "name": "stdout",
     "output_type": "stream",
     "text": [
      "python\n",
      "0\n",
      "6\n",
      "(0, 6)\n"
     ]
    }
   ],
   "source": [
    "string = 'python and data science python'\n",
    "\n",
    "result = re.match(r'python',string)\n",
    "result.group()\n",
    "if result:\n",
    "    print(result.group())\n",
    "    print(result.start())\n",
    "    print(result.end())\n",
    "    print(result.span())"
   ]
  },
  {
   "cell_type": "code",
   "execution_count": 57,
   "id": "490f3ee7",
   "metadata": {},
   "outputs": [
    {
     "name": "stdout",
     "output_type": "stream",
     "text": [
      "Machine\n",
      "0\n",
      "7\n",
      "(0, 7)\n"
     ]
    }
   ],
   "source": [
    "string = 'Machine learning and data science python'\n",
    "\n",
    "result = re.match(r'Machine',string)\n",
    "result.group()\n",
    "if result:\n",
    "    print(result.group())\n",
    "    print(result.start())\n",
    "    print(result.end())\n",
    "    print(result.span())"
   ]
  },
  {
   "cell_type": "code",
   "execution_count": 63,
   "id": "3334f527",
   "metadata": {},
   "outputs": [
    {
     "name": "stdout",
     "output_type": "stream",
     "text": [
      "match not found\n"
     ]
    }
   ],
   "source": [
    "string = 'machine learning and data science python'\n",
    "\n",
    "result = re.match(r'Machine',string)\n",
    "\n",
    "if result:\n",
    "    print(result.group())\n",
    "    print(result.start())\n",
    "    print(result.end())\n",
    "    print(result.span())\n",
    "else:\n",
    "    print(\"match not found\")"
   ]
  },
  {
   "cell_type": "code",
   "execution_count": 64,
   "id": "ddc6042a",
   "metadata": {},
   "outputs": [
    {
     "name": "stdout",
     "output_type": "stream",
     "text": [
      "89589587458\n",
      "0\n",
      "11\n",
      "(0, 11)\n"
     ]
    }
   ],
   "source": [
    "string = \"\"\"89589587458\"\"\"\n",
    "\n",
    "result = re.match('\\d{11}',string)\n",
    "if result:\n",
    "    print(result.group())\n",
    "    print(result.start())\n",
    "    print(result.end())\n",
    "    print(result.span())\n",
    "else:\n",
    "    print(\"match not found\")"
   ]
  },
  {
   "cell_type": "code",
   "execution_count": 65,
   "id": "82e383f5",
   "metadata": {},
   "outputs": [
    {
     "name": "stdout",
     "output_type": "stream",
     "text": [
      "match not found\n"
     ]
    }
   ],
   "source": [
    "string = \"\"\"895895874\"\"\"\n",
    "\n",
    "result = re.match('\\d{11}',string)\n",
    "if result:\n",
    "    print(result.group())\n",
    "    print(result.start())\n",
    "    print(result.end())\n",
    "    print(result.span())\n",
    "else:\n",
    "    print(\"match not found\")"
   ]
  },
  {
   "cell_type": "markdown",
   "id": "70ebc533",
   "metadata": {},
   "source": [
    "# 5. compile"
   ]
  },
  {
   "cell_type": "code",
   "execution_count": null,
   "id": "1d3523f4",
   "metadata": {},
   "outputs": [],
   "source": [
    "regular expressions are compiled into pattern object.\n",
    "it is used to avoid rewritting of pattern"
   ]
  },
  {
   "cell_type": "code",
   "execution_count": 73,
   "id": "7f4d79c2",
   "metadata": {},
   "outputs": [
    {
     "name": "stdout",
     "output_type": "stream",
     "text": [
      "987-125-4356\n",
      "451-4356\n"
     ]
    }
   ],
   "source": [
    "string1 = ' 987-125-4356'\n",
    "string2 = ' 451-4356'\n",
    "string3 = ' 987-125-4351'\n",
    "string4 = ' 856-524-9874'\n",
    "string5 = ' 305-951-7536'\n",
    "\n",
    "result1 = re.search('\\d{3}[-]\\d{3}[-]\\d{4}',string1)\n",
    "if result1:\n",
    "    print(result1.group())\n",
    "result2 = re.search('\\d{3}[-]\\d{4}',string2)\n",
    "if result2:\n",
    "    print(result2.group())"
   ]
  },
  {
   "cell_type": "code",
   "execution_count": 71,
   "id": "7d230563",
   "metadata": {},
   "outputs": [
    {
     "name": "stdout",
     "output_type": "stream",
     "text": [
      "987-125-4356\n",
      "856-524-9874\n",
      "305-951-7536\n"
     ]
    }
   ],
   "source": [
    "pattern = re.compile(r'\\d{3}[-]\\d{3}[-]\\d{4}')\n",
    "result1 = pattern.search(string1)\n",
    "# result2 = pattern.search(string2)\n",
    "# result3 = pattern.search(string3)\n",
    "result4 = pattern.search(string4)\n",
    "result5 = pattern.search(string5)\n",
    "print(result1.group())\n",
    "# print(result2.group())\n",
    "# print(result3.group())\n",
    "print(result4.group())\n",
    "print(result5.group())"
   ]
  },
  {
   "cell_type": "code",
   "execution_count": 74,
   "id": "a1b7afe0",
   "metadata": {},
   "outputs": [
    {
     "name": "stdout",
     "output_type": "stream",
     "text": [
      "987-125-4356\n",
      "451-4356\n",
      "987-125-4351\n",
      "856-524-9874\n",
      "305-951-7536\n"
     ]
    }
   ],
   "source": [
    "pattern = re.compile(r'(\\d{3}[-])?\\d{3}[-]\\d{4}\\b')\n",
    "result1 = pattern.search(string1)\n",
    "result2 = pattern.search(string2)\n",
    "result3 = pattern.search(string3)\n",
    "result4 = pattern.search(string4)\n",
    "result5 = pattern.search(string5)\n",
    "print(result1.group())\n",
    "print(result2.group())\n",
    "print(result3.group())\n",
    "print(result4.group())\n",
    "print(result5.group())"
   ]
  },
  {
   "cell_type": "markdown",
   "id": "e5c65ec6",
   "metadata": {},
   "source": [
    "# 6. split"
   ]
  },
  {
   "cell_type": "code",
   "execution_count": null,
   "id": "1155f3d1",
   "metadata": {},
   "outputs": [],
   "source": [
    "split string by the occurance of character or pattern"
   ]
  },
  {
   "cell_type": "code",
   "execution_count": 75,
   "id": "baa56d4d",
   "metadata": {},
   "outputs": [
    {
     "data": {
      "text/plain": [
       "['python', 'and', 'data', 'science', 'machine', 'learning']"
      ]
     },
     "execution_count": 75,
     "metadata": {},
     "output_type": "execute_result"
    }
   ],
   "source": [
    "string = \"python and data science machine learning\"\n",
    "string.split()"
   ]
  },
  {
   "cell_type": "code",
   "execution_count": 76,
   "id": "fdc1d727",
   "metadata": {},
   "outputs": [
    {
     "data": {
      "text/plain": [
       "['python ', ' and 2 data 3 science 4 machine learning']"
      ]
     },
     "execution_count": 76,
     "metadata": {},
     "output_type": "execute_result"
    }
   ],
   "source": [
    "string = \"python 1 and 2 data 3 science 4 machine learning\"\n",
    "string.split('1')"
   ]
  },
  {
   "cell_type": "code",
   "execution_count": 77,
   "id": "47079707",
   "metadata": {},
   "outputs": [
    {
     "data": {
      "text/plain": [
       "['python 1 ', ' 2 data 3 science 4 machine learning']"
      ]
     },
     "execution_count": 77,
     "metadata": {},
     "output_type": "execute_result"
    }
   ],
   "source": [
    "string = \"python 1 and 2 data 3 science 4 machine learning\"\n",
    "string.split('and')"
   ]
  },
  {
   "cell_type": "code",
   "execution_count": 78,
   "id": "492d1af5",
   "metadata": {},
   "outputs": [
    {
     "data": {
      "text/plain": [
       "['python ', ' and ', ' data ', ' science ', ' machine learning']"
      ]
     },
     "execution_count": 78,
     "metadata": {},
     "output_type": "execute_result"
    }
   ],
   "source": [
    "string = \"python 1 and 2 data 3 science 4 machine learning\"\n",
    "re.split('\\d',string)"
   ]
  },
  {
   "cell_type": "code",
   "execution_count": 80,
   "id": "1f7c3cf5",
   "metadata": {},
   "outputs": [
    {
     "name": "stdout",
     "output_type": "stream",
     "text": [
      "['python ', ' and ', ' data ', ' science ', ' machine ', ' learning ', ' velocity ', ' class']\n"
     ]
    }
   ],
   "source": [
    "string = \"python 1 and 2 data 3 science 4 machine 5 learning 6 velocity 7 class\"\n",
    "result = re.split('\\d',string)\n",
    "print(result)"
   ]
  },
  {
   "cell_type": "code",
   "execution_count": 81,
   "id": "b7aadd78",
   "metadata": {},
   "outputs": [
    {
     "name": "stdout",
     "output_type": "stream",
     "text": [
      "['python ', ' and ', ' data ', ' science 4 machine 5 learning 6 velocity 7 class']\n"
     ]
    }
   ],
   "source": [
    "string = \"python 1 and 2 data 3 science 4 machine 5 learning 6 velocity 7 class\"\n",
    "result = re.split('\\d',string,maxsplit=3)\n",
    "print(result)"
   ]
  },
  {
   "cell_type": "code",
   "execution_count": 82,
   "id": "32775dfb",
   "metadata": {},
   "outputs": [
    {
     "name": "stdout",
     "output_type": "stream",
     "text": [
      "['python ', ' and ', ' data ', ' science ', ' machine ', ' learning ', ' velocity ', ' class']\n"
     ]
    }
   ],
   "source": [
    "string = \"python 1 and 2 data 3 science 4 machine 5 learning 6 velocity 7 class\"\n",
    "result = re.split('\\d',string,maxsplit=0)\n",
    "print(result)"
   ]
  },
  {
   "cell_type": "code",
   "execution_count": 83,
   "id": "32db72d8",
   "metadata": {},
   "outputs": [
    {
     "name": "stdout",
     "output_type": "stream",
     "text": [
      "['python ', ' and ', ' data 3 science 4 machine 5 learning 6 velocity 7 class']\n"
     ]
    }
   ],
   "source": [
    "string = \"python 1 and 2 data 3 science 4 machine 5 learning 6 velocity 7 class\"\n",
    "result = re.split('\\d',string,maxsplit=2)\n",
    "print(result)"
   ]
  },
  {
   "cell_type": "code",
   "execution_count": null,
   "id": "c8d39bfa",
   "metadata": {},
   "outputs": [],
   "source": []
  }
 ],
 "metadata": {
  "kernelspec": {
   "display_name": "Python 3",
   "language": "python",
   "name": "python3"
  },
  "language_info": {
   "codemirror_mode": {
    "name": "ipython",
    "version": 3
   },
   "file_extension": ".py",
   "mimetype": "text/x-python",
   "name": "python",
   "nbconvert_exporter": "python",
   "pygments_lexer": "ipython3",
   "version": "3.8.8"
  }
 },
 "nbformat": 4,
 "nbformat_minor": 5
}
