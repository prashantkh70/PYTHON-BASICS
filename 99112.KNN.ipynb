{
 "cells": [
  {
   "cell_type": "markdown",
   "id": "5604a626",
   "metadata": {},
   "source": [
    "# K- Nearest Neighbour"
   ]
  },
  {
   "cell_type": "code",
   "execution_count": null,
   "id": "11e2a2cd",
   "metadata": {},
   "outputs": [],
   "source": [
    "It is a supervised machine learning algorithm which can be used for classification as \n",
    "well as regression\n",
    "Classification >>> count\n",
    "Regression >>> mean\n",
    "\n",
    "KNN is a distance based algorithm\n",
    "\n",
    "Feature scaling is required (must)\n",
    "distance based\n",
    "\n",
    "Distance:\n",
    "    1. Euclidean Distance (p=2)  >>> default value in sklearn\n",
    "    2. Manhatten Distance (p=1)\n",
    "    \n",
    "KNN is non-parametric algorithm\n",
    "non-parametric >>> No assumption on distribution of data\n",
    "\n"
   ]
  },
  {
   "cell_type": "markdown",
   "id": "140c8685",
   "metadata": {},
   "source": [
    "# Feature Scaling"
   ]
  },
  {
   "cell_type": "code",
   "execution_count": 2,
   "id": "af765d70",
   "metadata": {},
   "outputs": [],
   "source": [
    "from sklearn.neighbors import KNeighborsClassifier,KNeighborsRegressor\n",
    "from sklearn.preprocessing import MinMaxScaler, StandardScaler"
   ]
  },
  {
   "cell_type": "code",
   "execution_count": null,
   "id": "641c9d7a",
   "metadata": {},
   "outputs": [],
   "source": [
    "KNeighborsClassifier()\n",
    "n_neighbors=5,\n",
    " p=2,\n",
    "metric='minkowski',\n",
    "p : int, default=2\n",
    "    Power parameter for the Minkowski metric. When p = 1, this is\n",
    "    equivalent to using manhattan_distance (l1), and euclidean_distance\n",
    "    (l2) for p = 2. For arbitrary p, minkowski_distance (l_p) is used."
   ]
  },
  {
   "cell_type": "code",
   "execution_count": null,
   "id": "4d026d15",
   "metadata": {},
   "outputs": [],
   "source": []
  },
  {
   "cell_type": "code",
   "execution_count": null,
   "id": "965e893b",
   "metadata": {},
   "outputs": [],
   "source": []
  },
  {
   "cell_type": "code",
   "execution_count": null,
   "id": "4d1acffd",
   "metadata": {},
   "outputs": [],
   "source": [
    "1. Normalization >>> MinMaxscalar\n",
    "2. Standardization >> StandardScalar"
   ]
  },
  {
   "cell_type": "markdown",
   "id": "eadcc7d4",
   "metadata": {},
   "source": [
    "# 1. Normalization"
   ]
  },
  {
   "cell_type": "code",
   "execution_count": null,
   "id": "7e489f1f",
   "metadata": {},
   "outputs": [],
   "source": [
    "It uses minimum and maximum values of particular column\n",
    "Range is fixed >>>>  0 to 1\n",
    "Xnew = (Xi-Xmin)/(Xmax-Xmin)\n",
    "\n",
    "Xmin >> minimum value\n",
    "Xmax >> maximum value\n",
    "\n",
    "Sensitive to outliers\n",
    "If data is not normally distributed"
   ]
  },
  {
   "cell_type": "markdown",
   "id": "aeb1f892",
   "metadata": {},
   "source": [
    "# 2. Standardization"
   ]
  },
  {
   "cell_type": "code",
   "execution_count": null,
   "id": "fab410d3",
   "metadata": {},
   "outputs": [],
   "source": [
    "Xnew = (Xi- Xmean)/Xstd\n",
    "Range is not fixed >>> -inf to +inf\n",
    "            ideal range is -3 to +3\n",
    "z-score normalization\n",
    "Not impacted by outlier\n",
    "If the data is normally distributed"
   ]
  },
  {
   "cell_type": "code",
   "execution_count": 3,
   "id": "d8e90dcc",
   "metadata": {},
   "outputs": [],
   "source": [
    "import numpy as np\n",
    "import pandas as pd"
   ]
  },
  {
   "cell_type": "code",
   "execution_count": 10,
   "id": "e5b895b9",
   "metadata": {},
   "outputs": [
    {
     "data": {
      "text/plain": [
       "40.5"
      ]
     },
     "execution_count": 10,
     "metadata": {},
     "output_type": "execute_result"
    }
   ],
   "source": [
    "array=np.array([20,25,28,30,35,32,40,45,50,100])\n",
    "mean=np.mean(array)\n",
    "mean"
   ]
  },
  {
   "cell_type": "code",
   "execution_count": 11,
   "id": "a1d0cc39",
   "metadata": {},
   "outputs": [
    {
     "data": {
      "text/plain": [
       "21.634463247328323"
      ]
     },
     "execution_count": 11,
     "metadata": {},
     "output_type": "execute_result"
    }
   ],
   "source": [
    "std=np.std(array)\n",
    "std"
   ]
  },
  {
   "cell_type": "code",
   "execution_count": 7,
   "id": "243229fe",
   "metadata": {},
   "outputs": [
    {
     "data": {
      "text/plain": [
       "-1.6327943920705446"
      ]
     },
     "execution_count": 7,
     "metadata": {},
     "output_type": "execute_result"
    }
   ],
   "source": [
    "X_20=(20-mean)/std\n",
    "X_20"
   ]
  },
  {
   "cell_type": "code",
   "execution_count": 8,
   "id": "0e6768ed",
   "metadata": {},
   "outputs": [
    {
     "data": {
      "text/plain": [
       "-1.0811746650196847"
      ]
     },
     "execution_count": 8,
     "metadata": {},
     "output_type": "execute_result"
    }
   ],
   "source": [
    "X_25=(25-mean)/std\n",
    "X_25"
   ]
  },
  {
   "cell_type": "code",
   "execution_count": 12,
   "id": "e27d18ea",
   "metadata": {},
   "outputs": [
    {
     "name": "stdout",
     "output_type": "stream",
     "text": [
      "20 >>>> -0.9475622189300943\n",
      "25 >>>> -0.7164494826056811\n",
      "28 >>>> -0.5777818408110331\n",
      "30 >>>> -0.48533674628126783\n",
      "35 >>>> -0.25422400995685457\n",
      "32 >>>> -0.39289165175150254\n",
      "40 >>>> -0.023111273632441323\n",
      "45 >>>> 0.20800146269197192\n",
      "50 >>>> 0.43911419901638515\n",
      "100 >>>> 2.7502415622605176\n"
     ]
    }
   ],
   "source": [
    "for i in array:\n",
    "    Xnew = (i- mean)/std\n",
    "    print(i,\">>>>\",Xnew)"
   ]
  },
  {
   "cell_type": "code",
   "execution_count": null,
   "id": "d8a8f5dd",
   "metadata": {},
   "outputs": [],
   "source": []
  },
  {
   "cell_type": "code",
   "execution_count": null,
   "id": "2b61e462",
   "metadata": {},
   "outputs": [],
   "source": []
  },
  {
   "cell_type": "code",
   "execution_count": null,
   "id": "0645e372",
   "metadata": {},
   "outputs": [],
   "source": []
  },
  {
   "cell_type": "code",
   "execution_count": null,
   "id": "0857a901",
   "metadata": {},
   "outputs": [],
   "source": []
  },
  {
   "cell_type": "code",
   "execution_count": null,
   "id": "6038769e",
   "metadata": {},
   "outputs": [],
   "source": []
  },
  {
   "cell_type": "code",
   "execution_count": null,
   "id": "86b2b56c",
   "metadata": {},
   "outputs": [],
   "source": []
  },
  {
   "cell_type": "code",
   "execution_count": null,
   "id": "932829f4",
   "metadata": {},
   "outputs": [],
   "source": [
    "Distance Based Algorithm:(Scaling is required)\n",
    "    1. KNN\n",
    "    2. K-Means Clustering\n",
    "    3. PCA\n",
    "    4. SVM\n",
    "    \n",
    "Gradient Distance based algorithm: (Scaling is optional)\n",
    "    1. Linear Regression\n",
    "    2. Logistic Regression\n",
    "    3. Lasso Regression\n",
    "    4. Ridge Regression\n",
    "    5. Nueral Network\n",
    "    \n",
    "Tree Based Algorithm: (Scaling is not required)\n",
    "    1. Decision Tree\n",
    "    2. Ramdom Forest\n",
    "    3. AdaBoost\n",
    "    4. Gradient Boost\n",
    "    5. XGBoost"
   ]
  }
 ],
 "metadata": {
  "kernelspec": {
   "display_name": "Python 3",
   "language": "python",
   "name": "python3"
  },
  "language_info": {
   "codemirror_mode": {
    "name": "ipython",
    "version": 3
   },
   "file_extension": ".py",
   "mimetype": "text/x-python",
   "name": "python",
   "nbconvert_exporter": "python",
   "pygments_lexer": "ipython3",
   "version": "3.8.8"
  }
 },
 "nbformat": 4,
 "nbformat_minor": 5
}
