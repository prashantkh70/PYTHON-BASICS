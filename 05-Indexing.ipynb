{
 "cells": [
  {
   "cell_type": "markdown",
   "id": "ef446f4a",
   "metadata": {},
   "source": [
    "# Indexing"
   ]
  },
  {
   "cell_type": "raw",
   "id": "03fb011d",
   "metadata": {},
   "source": [
    "it is used to access only one character from string.\n",
    "index will always start from zero (0).\n",
    "use [] to print particular string item."
   ]
  },
  {
   "cell_type": "code",
   "execution_count": 11,
   "id": "2a2d6517",
   "metadata": {},
   "outputs": [],
   "source": [
    "string = 'python'\n"
   ]
  },
  {
   "cell_type": "code",
   "execution_count": null,
   "id": "c4ca9b0f",
   "metadata": {},
   "outputs": [],
   "source": [
    "             p y t h o n\n",
    "             0 1 2 3 4 5"
   ]
  },
  {
   "cell_type": "code",
   "execution_count": 12,
   "id": "37096413",
   "metadata": {},
   "outputs": [
    {
     "name": "stdout",
     "output_type": "stream",
     "text": [
      "p\n",
      "y\n",
      "t\n",
      "h\n",
      "o\n",
      "n\n"
     ]
    }
   ],
   "source": [
    "print(string[0])\n",
    "print(string[1])\n",
    "print(string[2])\n",
    "print(string[3])\n",
    "print(string[4])\n",
    "print(string[5])\n",
    "# print(string[6])"
   ]
  },
  {
   "cell_type": "markdown",
   "id": "fceea58e",
   "metadata": {},
   "source": [
    "# Length of string"
   ]
  },
  {
   "cell_type": "code",
   "execution_count": 28,
   "id": "8fc3f822",
   "metadata": {},
   "outputs": [],
   "source": [
    "string = 'python'"
   ]
  },
  {
   "cell_type": "code",
   "execution_count": 29,
   "id": "5a6099ef",
   "metadata": {},
   "outputs": [],
   "source": [
    "length= len(string)"
   ]
  },
  {
   "cell_type": "code",
   "execution_count": 16,
   "id": "e35feffd",
   "metadata": {},
   "outputs": [],
   "source": [
    "string1 = 'Machine learning is a field of inquiry devoted to understanding and building methods that learn, that is, methods that leverage data to improve performance on some set of tasks. It is seen as a part of artificial intelligence'"
   ]
  },
  {
   "cell_type": "code",
   "execution_count": 17,
   "id": "6a5ea7a2",
   "metadata": {},
   "outputs": [
    {
     "name": "stdout",
     "output_type": "stream",
     "text": [
      "Machine learning is a field of inquiry devoted to understanding and building methods that learn, that is, methods that leverage data to improve performance on some set of tasks. It is seen as a part of artificial intelligence\n"
     ]
    }
   ],
   "source": [
    "print(string1)"
   ]
  },
  {
   "cell_type": "code",
   "execution_count": 18,
   "id": "3a884713",
   "metadata": {},
   "outputs": [
    {
     "data": {
      "text/plain": [
       "225"
      ]
     },
     "execution_count": 18,
     "metadata": {},
     "output_type": "execute_result"
    }
   ],
   "source": [
    "len(string1)"
   ]
  },
  {
   "cell_type": "code",
   "execution_count": 22,
   "id": "bd6a5134",
   "metadata": {},
   "outputs": [
    {
     "name": "stdout",
     "output_type": "stream",
     "text": [
      "e\n"
     ]
    }
   ],
   "source": [
    "print(string1[6])"
   ]
  },
  {
   "cell_type": "code",
   "execution_count": null,
   "id": "5e7162ac",
   "metadata": {},
   "outputs": [],
   "source": [
    "                         p y t h o n\n",
    "positive insexing        0 1 2 3 4 5\n",
    "negative indexing       -6-5-4-3-2-1"
   ]
  },
  {
   "cell_type": "code",
   "execution_count": 24,
   "id": "9f8dff9c",
   "metadata": {},
   "outputs": [
    {
     "name": "stdout",
     "output_type": "stream",
     "text": [
      "n\n",
      "n\n"
     ]
    }
   ],
   "source": [
    "string2 = 'python'\n",
    "print(string2[5])\n",
    "print(string2[-1])"
   ]
  },
  {
   "cell_type": "code",
   "execution_count": 25,
   "id": "7fcb1493",
   "metadata": {},
   "outputs": [
    {
     "name": "stdout",
     "output_type": "stream",
     "text": [
      "o\n",
      "o\n"
     ]
    }
   ],
   "source": [
    "print(string2[4])\n",
    "print(string2[-2])"
   ]
  },
  {
   "cell_type": "code",
   "execution_count": 26,
   "id": "1bd0c30a",
   "metadata": {},
   "outputs": [
    {
     "name": "stdout",
     "output_type": "stream",
     "text": [
      "p\n",
      "p\n"
     ]
    }
   ],
   "source": [
    "print(string2[0])\n",
    "print(string2[-6])"
   ]
  },
  {
   "cell_type": "code",
   "execution_count": 31,
   "id": "822d2a65",
   "metadata": {},
   "outputs": [
    {
     "name": "stdout",
     "output_type": "stream",
     "text": [
      "n\n",
      "n\n"
     ]
    }
   ],
   "source": [
    "string2 = 'python'\n",
    "length = len(string2)\n",
    "print(string2[length-1])\n",
    "print(string2[-1])"
   ]
  },
  {
   "cell_type": "markdown",
   "id": "193f4efc",
   "metadata": {},
   "source": [
    "# Slicing"
   ]
  },
  {
   "cell_type": "code",
   "execution_count": null,
   "id": "a3496f29",
   "metadata": {},
   "outputs": [],
   "source": [
    "default start index is 0.\n",
    "default end index is len(string)\n",
    "syntax:\n",
    "    string[start_index(include) : end_index[excluded] : [step_size]]"
   ]
  },
  {
   "cell_type": "code",
   "execution_count": 32,
   "id": "c4feb6f7",
   "metadata": {},
   "outputs": [],
   "source": [
    "string='python'"
   ]
  },
  {
   "cell_type": "code",
   "execution_count": 33,
   "id": "effb2484",
   "metadata": {},
   "outputs": [
    {
     "data": {
      "text/plain": [
       "'y'"
      ]
     },
     "execution_count": 33,
     "metadata": {},
     "output_type": "execute_result"
    }
   ],
   "source": [
    "string[1]"
   ]
  },
  {
   "cell_type": "code",
   "execution_count": 34,
   "id": "e59d0822",
   "metadata": {},
   "outputs": [
    {
     "data": {
      "text/plain": [
       "'pyt'"
      ]
     },
     "execution_count": 34,
     "metadata": {},
     "output_type": "execute_result"
    }
   ],
   "source": [
    "                         p y t h o n\n",
    "positive insexing        0 1 2 3 4 5\n",
    "negative indexing       -6-5-4-3-2-1\n",
    "\n",
    "\n",
    "string[0:3]"
   ]
  },
  {
   "cell_type": "code",
   "execution_count": 35,
   "id": "984356c0",
   "metadata": {},
   "outputs": [
    {
     "data": {
      "text/plain": [
       "'pytho'"
      ]
     },
     "execution_count": 35,
     "metadata": {},
     "output_type": "execute_result"
    }
   ],
   "source": [
    "string[0:5]"
   ]
  },
  {
   "cell_type": "code",
   "execution_count": 40,
   "id": "21dd2c60",
   "metadata": {},
   "outputs": [
    {
     "data": {
      "text/plain": [
       "'pto'"
      ]
     },
     "execution_count": 40,
     "metadata": {},
     "output_type": "execute_result"
    }
   ],
   "source": [
    "string='python'\n",
    "string[0:6:2]"
   ]
  },
  {
   "cell_type": "code",
   "execution_count": 47,
   "id": "76daf7a8",
   "metadata": {},
   "outputs": [
    {
     "name": "stdout",
     "output_type": "stream",
     "text": [
      "python\n"
     ]
    }
   ],
   "source": [
    "print(string[0:6:1])"
   ]
  },
  {
   "cell_type": "code",
   "execution_count": 48,
   "id": "16d9e875",
   "metadata": {},
   "outputs": [
    {
     "name": "stdout",
     "output_type": "stream",
     "text": [
      "th\n"
     ]
    }
   ],
   "source": [
    "print(string[2:4])"
   ]
  },
  {
   "cell_type": "code",
   "execution_count": 51,
   "id": "215edcff",
   "metadata": {},
   "outputs": [
    {
     "name": "stdout",
     "output_type": "stream",
     "text": [
      "python\n"
     ]
    }
   ],
   "source": [
    "print(string[0:8])"
   ]
  },
  {
   "cell_type": "code",
   "execution_count": 52,
   "id": "04810fe3",
   "metadata": {},
   "outputs": [
    {
     "data": {
      "text/plain": [
       "'y'"
      ]
     },
     "execution_count": 52,
     "metadata": {},
     "output_type": "execute_result"
    }
   ],
   "source": [
    "string='python'\n",
    "string[-5:2]"
   ]
  },
  {
   "cell_type": "code",
   "execution_count": null,
   "id": "a04195be",
   "metadata": {},
   "outputs": [],
   "source": [
    "                         p y t h o n\n",
    "positive insexing        0 1 2 3 4 5\n",
    "negative indexing       -6-5-4-3-2-1"
   ]
  },
  {
   "cell_type": "code",
   "execution_count": 53,
   "id": "2a272d35",
   "metadata": {},
   "outputs": [
    {
     "data": {
      "text/plain": [
       "'ython'"
      ]
     },
     "execution_count": 53,
     "metadata": {},
     "output_type": "execute_result"
    }
   ],
   "source": [
    "string='python'\n",
    "string[-5:]"
   ]
  },
  {
   "cell_type": "code",
   "execution_count": 54,
   "id": "346f2baa",
   "metadata": {},
   "outputs": [],
   "source": [
    "string3 = 'Machine learning is a field of inquiry devoted to understanding and building methods that learn, that is, methods that leverage data to improve performance on some set of tasks. It is seen as a part of artificial intelligence'"
   ]
  },
  {
   "cell_type": "code",
   "execution_count": 55,
   "id": "b7f58444",
   "metadata": {},
   "outputs": [
    {
     "data": {
      "text/plain": [
       "'Machine learning is a field of inquiry devoted to understanding and building methods that learn, that is, methods that leverage data to improve performance on some set of tasks. It is seen as a part of artificial intelligence'"
      ]
     },
     "execution_count": 55,
     "metadata": {},
     "output_type": "execute_result"
    }
   ],
   "source": [
    "string3"
   ]
  },
  {
   "cell_type": "code",
   "execution_count": 56,
   "id": "8ca9602c",
   "metadata": {},
   "outputs": [
    {
     "name": "stdout",
     "output_type": "stream",
     "text": [
      "225\n"
     ]
    }
   ],
   "source": [
    "print(len(string3))"
   ]
  },
  {
   "cell_type": "code",
   "execution_count": 60,
   "id": "bd4739b7",
   "metadata": {},
   "outputs": [
    {
     "name": "stdout",
     "output_type": "stream",
     "text": [
      "215\n"
     ]
    }
   ],
   "source": [
    "x = string3[10:]\n",
    "print(len(x))"
   ]
  },
  {
   "cell_type": "code",
   "execution_count": 64,
   "id": "83b4cb2d",
   "metadata": {},
   "outputs": [
    {
     "name": "stdout",
     "output_type": "stream",
     "text": [
      "Mcielann safedo nur eoe oudrtnigadbidn ehd htlan hti,mtosta eeaedt oipoepromneo oesto ak.I sse sapr fatfca nelgne\n"
     ]
    }
   ],
   "source": [
    "print(string3[::2])"
   ]
  },
  {
   "cell_type": "markdown",
   "id": "bed3d932",
   "metadata": {},
   "source": [
    "# Access Characters by using loop"
   ]
  },
  {
   "cell_type": "code",
   "execution_count": null,
   "id": "6a3105c6",
   "metadata": {},
   "outputs": [],
   "source": [
    "for loop works like a iterator\n",
    "\n",
    "for variable_name in sequence:\n",
    "    statement2\n",
    "    statement2"
   ]
  },
  {
   "cell_type": "code",
   "execution_count": 69,
   "id": "716ccdff",
   "metadata": {},
   "outputs": [
    {
     "name": "stdout",
     "output_type": "stream",
     "text": [
      "123456789\n",
      "1\n",
      "*********\n",
      "2\n",
      "*********\n",
      "3\n",
      "*********\n",
      "4\n",
      "*********\n",
      "5\n",
      "*********\n",
      "6\n",
      "*********\n",
      "7\n",
      "*********\n",
      "8\n",
      "*********\n",
      "9\n",
      "*********\n"
     ]
    }
   ],
   "source": [
    "string = '123456789'\n",
    "print(string)\n",
    "\n",
    "for char in string: \n",
    "    print(char)\n",
    "    print(\"*********\")"
   ]
  },
  {
   "cell_type": "code",
   "execution_count": 68,
   "id": "3c17091d",
   "metadata": {},
   "outputs": [
    {
     "name": "stdout",
     "output_type": "stream",
     "text": [
      "p\n",
      "*********\n",
      "y\n",
      "*********\n",
      "t\n",
      "*********\n",
      "h\n",
      "*********\n",
      "o\n",
      "*********\n",
      "n\n",
      "*********\n"
     ]
    }
   ],
   "source": [
    "string = 'python'\n",
    "\n",
    "for char in string: \n",
    "    print(char)\n",
    "    print(\"*********\")"
   ]
  },
  {
   "cell_type": "code",
   "execution_count": 70,
   "id": "9b2ce601",
   "metadata": {},
   "outputs": [
    {
     "name": "stdout",
     "output_type": "stream",
     "text": [
      "char is p\n",
      "*********\n",
      "char is y\n",
      "*********\n",
      "char is t\n",
      "*********\n",
      "char is h\n",
      "*********\n",
      "char is o\n",
      "*********\n",
      "char is n\n",
      "*********\n"
     ]
    }
   ],
   "source": [
    "string = 'python'\n",
    "\n",
    "for char in string: \n",
    "    print(f\"char is {char}\")\n",
    "    print(\"*********\")"
   ]
  },
  {
   "cell_type": "code",
   "execution_count": 71,
   "id": "00a682ec",
   "metadata": {},
   "outputs": [
    {
     "name": "stdout",
     "output_type": "stream",
     "text": [
      "char is p\n",
      "*********\n",
      "char is y\n",
      "*********\n",
      "char is t\n",
      "*********\n",
      "char is h\n",
      "*********\n",
      "char is o\n",
      "*********\n",
      "char is n\n",
      "*********\n"
     ]
    }
   ],
   "source": [
    "string = 'python'\n",
    "\n",
    "for char in string: \n",
    "    print(\"char is {}\".format(char))\n",
    "    print(\"*********\")"
   ]
  },
  {
   "cell_type": "code",
   "execution_count": 77,
   "id": "67bc7a92",
   "metadata": {},
   "outputs": [
    {
     "name": "stdout",
     "output_type": "stream",
     "text": [
      "python 345\n",
      "value of a is  python\n"
     ]
    }
   ],
   "source": [
    "a= \"python\"\n",
    "b= \"345\"\n",
    "\n",
    "print(a,b)  #the vaule of a is..... and value of b is ....\n",
    "print(\"value of a is \",a)"
   ]
  },
  {
   "cell_type": "code",
   "execution_count": 76,
   "id": "8bccb7fe",
   "metadata": {},
   "outputs": [
    {
     "name": "stdout",
     "output_type": "stream",
     "text": [
      "the value of a is python and value of b is 345\n",
      "the value of a is python and value of b is 345\n"
     ]
    }
   ],
   "source": [
    "print(f\"the value of a is {a} and value of b is {b}\") #f string formatting\n",
    "print(\"the value of a is {} and value of b is {}\".format(a,b)) # dot formatting"
   ]
  },
  {
   "cell_type": "markdown",
   "id": "7bdfaf49",
   "metadata": {},
   "source": [
    "# Enumerate Function"
   ]
  },
  {
   "cell_type": "code",
   "execution_count": 78,
   "id": "6cbdf1c9",
   "metadata": {},
   "outputs": [
    {
     "name": "stdout",
     "output_type": "stream",
     "text": [
      "(0, 'p')\n",
      "(1, 'y')\n",
      "(2, 't')\n",
      "(3, 'h')\n",
      "(4, 'o')\n",
      "(5, 'n')\n"
     ]
    }
   ],
   "source": [
    "string = 'python'\n",
    "\n",
    "for char in enumerate(string):\n",
    "    print(char)"
   ]
  },
  {
   "cell_type": "code",
   "execution_count": 79,
   "id": "a5782942",
   "metadata": {},
   "outputs": [
    {
     "name": "stdout",
     "output_type": "stream",
     "text": [
      "0 p\n",
      "1 y\n",
      "2 t\n",
      "3 h\n",
      "4 o\n",
      "5 n\n"
     ]
    }
   ],
   "source": [
    "string = 'python'\n",
    "\n",
    "for index, value in enumerate(string):\n",
    "    print(index, value)"
   ]
  },
  {
   "cell_type": "code",
   "execution_count": 80,
   "id": "f161d46d",
   "metadata": {},
   "outputs": [
    {
     "name": "stdout",
     "output_type": "stream",
     "text": [
      "index is 0 and value is p\n",
      "index is 1 and value is y\n",
      "index is 2 and value is t\n",
      "index is 3 and value is h\n",
      "index is 4 and value is o\n",
      "index is 5 and value is n\n"
     ]
    }
   ],
   "source": [
    "string = 'python'\n",
    "\n",
    "for index, value in enumerate(string):\n",
    "    print(f\"index is {index} and value is {value}\")"
   ]
  },
  {
   "cell_type": "markdown",
   "id": "30d09460",
   "metadata": {},
   "source": [
    "# Range Function"
   ]
  },
  {
   "cell_type": "code",
   "execution_count": 81,
   "id": "1718ca4e",
   "metadata": {},
   "outputs": [
    {
     "data": {
      "text/plain": [
       "range(0, 6)"
      ]
     },
     "execution_count": 81,
     "metadata": {},
     "output_type": "execute_result"
    }
   ],
   "source": [
    "range(0,6)"
   ]
  },
  {
   "cell_type": "code",
   "execution_count": 82,
   "id": "ce63eea8",
   "metadata": {},
   "outputs": [
    {
     "name": "stdout",
     "output_type": "stream",
     "text": [
      "0\n",
      "1\n",
      "2\n",
      "3\n",
      "4\n",
      "5\n"
     ]
    }
   ],
   "source": [
    "for i in range(0,6):\n",
    "    print(i)"
   ]
  },
  {
   "cell_type": "code",
   "execution_count": 83,
   "id": "ddc65153",
   "metadata": {},
   "outputs": [
    {
     "name": "stdout",
     "output_type": "stream",
     "text": [
      "0\n",
      "1\n",
      "2\n",
      "3\n",
      "4\n",
      "5\n",
      "6\n",
      "7\n",
      "8\n",
      "9\n"
     ]
    }
   ],
   "source": [
    "for i in range(0,10):\n",
    "    print(i)"
   ]
  },
  {
   "cell_type": "code",
   "execution_count": 85,
   "id": "7be51fe0",
   "metadata": {},
   "outputs": [
    {
     "name": "stdout",
     "output_type": "stream",
     "text": [
      "0\n",
      "1\n",
      "2\n",
      "3\n",
      "4\n",
      "5\n"
     ]
    }
   ],
   "source": [
    "for i in range(0,6,1):\n",
    "    print(i)"
   ]
  },
  {
   "cell_type": "code",
   "execution_count": 86,
   "id": "bea572b3",
   "metadata": {},
   "outputs": [
    {
     "name": "stdout",
     "output_type": "stream",
     "text": [
      "0\n",
      "2\n",
      "4\n"
     ]
    }
   ],
   "source": [
    "for i in range(0,6,2):\n",
    "    print(i)"
   ]
  },
  {
   "cell_type": "code",
   "execution_count": 87,
   "id": "caa91510",
   "metadata": {},
   "outputs": [
    {
     "name": "stdout",
     "output_type": "stream",
     "text": [
      "0\n",
      "2\n",
      "4\n",
      "6\n",
      "8\n"
     ]
    }
   ],
   "source": [
    "for i in range(0,10,2):\n",
    "    print(i)"
   ]
  },
  {
   "cell_type": "code",
   "execution_count": 88,
   "id": "27ee59fa",
   "metadata": {},
   "outputs": [
    {
     "name": "stdout",
     "output_type": "stream",
     "text": [
      "0\n",
      "3\n",
      "6\n",
      "9\n"
     ]
    }
   ],
   "source": [
    "for i in range(0,10,3):\n",
    "    print(i)"
   ]
  },
  {
   "cell_type": "code",
   "execution_count": 89,
   "id": "364bf56b",
   "metadata": {},
   "outputs": [
    {
     "name": "stdout",
     "output_type": "stream",
     "text": [
      "0\n",
      "5\n",
      "10\n",
      "15\n",
      "20\n",
      "25\n",
      "30\n",
      "35\n",
      "40\n",
      "45\n"
     ]
    }
   ],
   "source": [
    "for i in range(0,50,5):\n",
    "    print(i)"
   ]
  },
  {
   "cell_type": "code",
   "execution_count": null,
   "id": "88552880",
   "metadata": {},
   "outputs": [],
   "source": []
  }
 ],
 "metadata": {
  "kernelspec": {
   "display_name": "Python 3",
   "language": "python",
   "name": "python3"
  },
  "language_info": {
   "codemirror_mode": {
    "name": "ipython",
    "version": 3
   },
   "file_extension": ".py",
   "mimetype": "text/x-python",
   "name": "python",
   "nbconvert_exporter": "python",
   "pygments_lexer": "ipython3",
   "version": "3.8.8"
  }
 },
 "nbformat": 4,
 "nbformat_minor": 5
}
