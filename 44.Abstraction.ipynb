{
 "cells": [
  {
   "cell_type": "markdown",
   "id": "af9e3244",
   "metadata": {},
   "source": [
    "# Abstraction"
   ]
  },
  {
   "cell_type": "code",
   "execution_count": null,
   "id": "ff962536",
   "metadata": {},
   "outputs": [],
   "source": [
    "Blueprint of your project\n",
    "Blueprint for other Classes\n",
    "\n",
    "It is used to hide the internal functionality of your project\n",
    "Abstract Class is only used for decleration, not for implimentaion\n",
    "we can not create an object of Abstract class\n",
    "\n",
    "Abstract class contains one or more abstract method\n",
    "\n",
    "from abc import abstractmethod,ABC\n",
    "\n",
    "@abstractmethod  Decorator is  used to define abstract method\n",
    "ABC is used for abstract class"
   ]
  },
  {
   "cell_type": "code",
   "execution_count": null,
   "id": "38772b31",
   "metadata": {},
   "outputs": [],
   "source": [
    "from abc import abstractmethod,ABC\n",
    "\n",
    "class Parent:\n",
    "    pass\n",
    "class Child(Parent):\n",
    "    pass\n",
    "\n",
    "Obj = Chlid()"
   ]
  },
  {
   "cell_type": "code",
   "execution_count": 3,
   "id": "889eb647",
   "metadata": {},
   "outputs": [
    {
     "name": "stdout",
     "output_type": "stream",
     "text": [
      "Registration Function in ProjectFunctions Class\n",
      "Login Function in ProjectFunctions Class\n"
     ]
    }
   ],
   "source": [
    "from abc import abstractmethod,ABC\n",
    "class ProjectBlueprint(ABC):\n",
    "    def registration(self):\n",
    "        print(\"Registration Function in ProjectBlueprint Class\")\n",
    "        \n",
    "    def login(self):\n",
    "        print(\"Login Function in ProjectBlueprint Class\")\n",
    "        \n",
    "class ProjectFunctions(ProjectBlueprint):\n",
    "    def registration(self):\n",
    "        print(\"Registration Function in ProjectFunctions Class\")\n",
    "        \n",
    "    def login(self):\n",
    "        print(\"Login Function in ProjectFunctions Class\")\n",
    "        \n",
    "Obj1 = ProjectFunctions()\n",
    "Obj1.registration()\n",
    "Obj1.login()"
   ]
  },
  {
   "cell_type": "code",
   "execution_count": 4,
   "id": "08383f9b",
   "metadata": {},
   "outputs": [
    {
     "name": "stdout",
     "output_type": "stream",
     "text": [
      "Registration Function in ProjectBlueprint Class\n",
      "Login Function in ProjectBlueprint Class\n"
     ]
    }
   ],
   "source": [
    "from abc import abstractmethod,ABC\n",
    "class ProjectBlueprint(ABC):\n",
    "    def registration(self):\n",
    "        print(\"Registration Function in ProjectBlueprint Class\")\n",
    "        \n",
    "    def login(self):\n",
    "        print(\"Login Function in ProjectBlueprint Class\")\n",
    "        \n",
    "class ProjectFunctions(ProjectBlueprint):\n",
    "    def registration(self):\n",
    "        print(\"Registration Function in ProjectFunctions Class\")\n",
    "        \n",
    "    def login(self):\n",
    "        print(\"Login Function in ProjectFunctions Class\")\n",
    "        \n",
    "Obj1 = ProjectBlueprint()\n",
    "Obj1.registration()\n",
    "Obj1.login()"
   ]
  },
  {
   "cell_type": "code",
   "execution_count": 5,
   "id": "df3e743e",
   "metadata": {},
   "outputs": [
    {
     "ename": "TypeError",
     "evalue": "Can't instantiate abstract class ProjectBlueprint with abstract methods login, registration",
     "output_type": "error",
     "traceback": [
      "\u001b[1;31m---------------------------------------------------------------------------\u001b[0m",
      "\u001b[1;31mTypeError\u001b[0m                                 Traceback (most recent call last)",
      "\u001b[1;32m<ipython-input-5-50669152c77a>\u001b[0m in \u001b[0;36m<module>\u001b[1;34m\u001b[0m\n\u001b[0;32m     15\u001b[0m         \u001b[0mprint\u001b[0m\u001b[1;33m(\u001b[0m\u001b[1;34m\"Login Function in ProjectFunctions Class\"\u001b[0m\u001b[1;33m)\u001b[0m\u001b[1;33m\u001b[0m\u001b[1;33m\u001b[0m\u001b[0m\n\u001b[0;32m     16\u001b[0m \u001b[1;33m\u001b[0m\u001b[0m\n\u001b[1;32m---> 17\u001b[1;33m \u001b[0mObj1\u001b[0m \u001b[1;33m=\u001b[0m \u001b[0mProjectBlueprint\u001b[0m\u001b[1;33m(\u001b[0m\u001b[1;33m)\u001b[0m\u001b[1;33m\u001b[0m\u001b[1;33m\u001b[0m\u001b[0m\n\u001b[0m\u001b[0;32m     18\u001b[0m \u001b[0mObj1\u001b[0m\u001b[1;33m.\u001b[0m\u001b[0mregistration\u001b[0m\u001b[1;33m(\u001b[0m\u001b[1;33m)\u001b[0m\u001b[1;33m\u001b[0m\u001b[1;33m\u001b[0m\u001b[0m\n\u001b[0;32m     19\u001b[0m \u001b[0mObj1\u001b[0m\u001b[1;33m.\u001b[0m\u001b[0mlogin\u001b[0m\u001b[1;33m(\u001b[0m\u001b[1;33m)\u001b[0m\u001b[1;33m\u001b[0m\u001b[1;33m\u001b[0m\u001b[0m\n",
      "\u001b[1;31mTypeError\u001b[0m: Can't instantiate abstract class ProjectBlueprint with abstract methods login, registration"
     ]
    }
   ],
   "source": [
    "from abc import abstractmethod,ABC\n",
    "class ProjectBlueprint(ABC):               #Abstract Class\n",
    "    @abstractmethod\n",
    "    def registration(self):                # Abstract Method\n",
    "        print(\"Registration Function in ProjectBlueprint Class\")\n",
    "    @abstractmethod                        #Abstract Method\n",
    "    def login(self):\n",
    "        print(\"Login Function in ProjectBlueprint Class\")\n",
    "        \n",
    "class ProjectFunctions(ProjectBlueprint):\n",
    "    def registration(self):\n",
    "        print(\"Registration Function in ProjectFunctions Class\")\n",
    "        \n",
    "    def login(self):\n",
    "        print(\"Login Function in ProjectFunctions Class\")\n",
    "        \n",
    "Obj1 = ProjectBlueprint()\n",
    "Obj1.registration()\n",
    "Obj1.login()"
   ]
  },
  {
   "cell_type": "code",
   "execution_count": 6,
   "id": "2e0b1614",
   "metadata": {},
   "outputs": [
    {
     "name": "stdout",
     "output_type": "stream",
     "text": [
      "Registration Function in ProjectFunctions Class\n",
      "Login Function in ProjectFunctions Class\n"
     ]
    }
   ],
   "source": [
    "from abc import abstractmethod,ABC\n",
    "class ProjectBlueprint(ABC):               #Abstract Class\n",
    "    @abstractmethod\n",
    "    def registration(self):                # Abstract Method\n",
    "        print(\"Registration Function in ProjectBlueprint Class\")\n",
    "    @abstractmethod                        #Abstract Method\n",
    "    def login(self):\n",
    "        print(\"Login Function in ProjectBlueprint Class\")\n",
    "        \n",
    "class ProjectFunctions(ProjectBlueprint):\n",
    "    def registration(self):\n",
    "        print(\"Registration Function in ProjectFunctions Class\")\n",
    "        \n",
    "    def login(self):\n",
    "        print(\"Login Function in ProjectFunctions Class\")\n",
    "        \n",
    "Obj1 = ProjectFunctions()\n",
    "Obj1.registration()\n",
    "Obj1.login()"
   ]
  },
  {
   "cell_type": "code",
   "execution_count": 7,
   "id": "aa0a0afa",
   "metadata": {},
   "outputs": [
    {
     "name": "stdout",
     "output_type": "stream",
     "text": [
      "Forgotten password function in ProjectFunctions Class\n"
     ]
    }
   ],
   "source": [
    "from abc import abstractmethod,ABC\n",
    "class ProjectBlueprint(ABC):               #Abstract Class\n",
    "    @abstractmethod    # Decorator\n",
    "    def registration(self):                # Abstract Method\n",
    "        pass\n",
    "    @abstractmethod                        #Abstract Method\n",
    "    def login(self):\n",
    "        pass\n",
    "        \n",
    "class ProjectFunctions(ProjectBlueprint):\n",
    "    def registration(self):\n",
    "        print(\"Registration Function in ProjectFunctions Class\")\n",
    "        \n",
    "    def login(self):\n",
    "        print(\"Login Function in ProjectFunctions Class\")\n",
    "        \n",
    "    def forgotten_password(self):\n",
    "        print(\"Forgotten password function in ProjectFunctions Class\")\n",
    "        \n",
    "Obj = ProjectFunctions()\n",
    "Obj.forgotten_password()\n",
    "        "
   ]
  },
  {
   "cell_type": "code",
   "execution_count": null,
   "id": "a224124e",
   "metadata": {},
   "outputs": [],
   "source": []
  },
  {
   "cell_type": "code",
   "execution_count": null,
   "id": "a1a1b2bc",
   "metadata": {},
   "outputs": [],
   "source": []
  }
 ],
 "metadata": {
  "kernelspec": {
   "display_name": "Python 3",
   "language": "python",
   "name": "python3"
  },
  "language_info": {
   "codemirror_mode": {
    "name": "ipython",
    "version": 3
   },
   "file_extension": ".py",
   "mimetype": "text/x-python",
   "name": "python",
   "nbconvert_exporter": "python",
   "pygments_lexer": "ipython3",
   "version": "3.8.8"
  }
 },
 "nbformat": 4,
 "nbformat_minor": 5
}
