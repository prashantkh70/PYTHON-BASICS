{
 "cells": [
  {
   "cell_type": "code",
   "execution_count": null,
   "id": "5167b2da",
   "metadata": {},
   "outputs": [],
   "source": [
    "string = \"data science\""
   ]
  },
  {
   "cell_type": "raw",
   "id": "767fb2e5",
   "metadata": {},
   "source": [
    "string functions\n",
    "1. capitalize()\n",
    "2. lower()\n",
    "3. upper()\n",
    "4. title()\n",
    "5. lstrip()\n",
    "6. rstrip()\n",
    "7. strip()\n",
    "8. replace()\n",
    "9. count()\n",
    "10. index()"
   ]
  },
  {
   "cell_type": "markdown",
   "id": "b47a9b18",
   "metadata": {},
   "source": [
    "# 1. capitalize()"
   ]
  },
  {
   "cell_type": "code",
   "execution_count": null,
   "id": "19a892b1",
   "metadata": {},
   "outputs": [],
   "source": [
    "it will capitalize only first char of string\n",
    "first cchar>> zero index char string\n",
    "syntax\n",
    "variable_name.capitalize()"
   ]
  },
  {
   "cell_type": "code",
   "execution_count": 2,
   "id": "1579e898",
   "metadata": {},
   "outputs": [
    {
     "name": "stdout",
     "output_type": "stream",
     "text": [
      "Data science\n"
     ]
    }
   ],
   "source": [
    "string = \"data science\"\n",
    "print(string.capitalize())"
   ]
  },
  {
   "cell_type": "code",
   "execution_count": 3,
   "id": "b10e9366",
   "metadata": {},
   "outputs": [
    {
     "name": "stdout",
     "output_type": "stream",
     "text": [
      "Data science\n"
     ]
    }
   ],
   "source": [
    "string = \"datA Science\"\n",
    "print(string.capitalize())"
   ]
  },
  {
   "cell_type": "code",
   "execution_count": 4,
   "id": "acac0a8c",
   "metadata": {},
   "outputs": [
    {
     "name": "stdout",
     "output_type": "stream",
     "text": [
      "Data science\n"
     ]
    }
   ],
   "source": [
    "string = \"DATA SCIENCE\"\n",
    "print(string.capitalize())"
   ]
  },
  {
   "cell_type": "code",
   "execution_count": 5,
   "id": "166b2643",
   "metadata": {},
   "outputs": [
    {
     "name": "stdout",
     "output_type": "stream",
     "text": [
      "Machine learning is a field of inquiry devoted to understanding and building methods\n"
     ]
    }
   ],
   "source": [
    "ml = 'MacHine Learning is a field of inquiry devoted to Understanding and building methods'\n",
    "print(ml.capitalize())"
   ]
  },
  {
   "cell_type": "markdown",
   "id": "c2ec55df",
   "metadata": {},
   "source": [
    "# 2. lower()"
   ]
  },
  {
   "cell_type": "code",
   "execution_count": null,
   "id": "bd745ef1",
   "metadata": {},
   "outputs": [],
   "source": [
    "It return lower case string\n",
    "syntax \n",
    "variable_name.lower() "
   ]
  },
  {
   "cell_type": "code",
   "execution_count": 6,
   "id": "b32db3e2",
   "metadata": {},
   "outputs": [
    {
     "name": "stdout",
     "output_type": "stream",
     "text": [
      "data scieace\n"
     ]
    }
   ],
   "source": [
    "string = \"DatA ScieAce\"\n",
    "print(string.lower())"
   ]
  },
  {
   "cell_type": "code",
   "execution_count": 7,
   "id": "b39315ca",
   "metadata": {},
   "outputs": [
    {
     "name": "stdout",
     "output_type": "stream",
     "text": [
      "data science\n"
     ]
    }
   ],
   "source": [
    "string = \"DATA SCIENCE\"\n",
    "print(string.lower())"
   ]
  },
  {
   "cell_type": "code",
   "execution_count": 8,
   "id": "487eee18",
   "metadata": {},
   "outputs": [
    {
     "name": "stdout",
     "output_type": "stream",
     "text": [
      "machine learning is a field of inquiry devoted to understanding and building methods\n"
     ]
    }
   ],
   "source": [
    "ml = 'MacHine Learning is a field of inquiry devoted to Understanding and building methods'\n",
    "print(ml.lower())"
   ]
  },
  {
   "cell_type": "markdown",
   "id": "6b4900ef",
   "metadata": {},
   "source": [
    "# 3. upper()"
   ]
  },
  {
   "cell_type": "code",
   "execution_count": null,
   "id": "570ec35d",
   "metadata": {},
   "outputs": [],
   "source": [
    "it returns upper case string\n",
    "syntax\n",
    "variable_name.upper()"
   ]
  },
  {
   "cell_type": "code",
   "execution_count": 9,
   "id": "604b3885",
   "metadata": {},
   "outputs": [
    {
     "name": "stdout",
     "output_type": "stream",
     "text": [
      "MACHINE LEARNING IS A FIELD OF INQUIRY DEVOTED TO UNDERSTANDING AND BUILDING METHODS\n"
     ]
    }
   ],
   "source": [
    "ml = 'MacHine Learning is a field of inquiry devoted to Understanding and building methods'\n",
    "print(ml.upper())"
   ]
  },
  {
   "cell_type": "code",
   "execution_count": 11,
   "id": "619a8a35",
   "metadata": {},
   "outputs": [
    {
     "name": "stdout",
     "output_type": "stream",
     "text": [
      "DATA SCIENACE\n"
     ]
    }
   ],
   "source": [
    "string = \"DatA ScienAce\"\n",
    "print(string.upper())"
   ]
  },
  {
   "cell_type": "code",
   "execution_count": 12,
   "id": "ff540585",
   "metadata": {},
   "outputs": [
    {
     "name": "stdout",
     "output_type": "stream",
     "text": [
      "DATA SCIENCE\n"
     ]
    }
   ],
   "source": [
    "string = \"DATA SCIENCE\"\n",
    "print(string.upper())"
   ]
  },
  {
   "cell_type": "markdown",
   "id": "17284957",
   "metadata": {},
   "source": [
    "# 4. title()"
   ]
  },
  {
   "cell_type": "code",
   "execution_count": null,
   "id": "4b46e1fb",
   "metadata": {},
   "outputs": [],
   "source": [
    "it will convert string into title case\n",
    "title case>> capitilize first char every word\n",
    "variable_name.title()"
   ]
  },
  {
   "cell_type": "code",
   "execution_count": 1,
   "id": "791f07c4",
   "metadata": {},
   "outputs": [
    {
     "name": "stdout",
     "output_type": "stream",
     "text": [
      "Machine Learning Is A Field Of Inquiry Devoted To Understanding And Building Methods\n"
     ]
    }
   ],
   "source": [
    "ml = 'MacHine Learning is a field of inquiry devoted to Understanding and building methods'\n",
    "print(ml.title())"
   ]
  },
  {
   "cell_type": "code",
   "execution_count": 2,
   "id": "596e607c",
   "metadata": {},
   "outputs": [
    {
     "name": "stdout",
     "output_type": "stream",
     "text": [
      "Python And Data Science\n"
     ]
    }
   ],
   "source": [
    "var= 'python and data science'\n",
    "print(var.title())"
   ]
  },
  {
   "cell_type": "code",
   "execution_count": 3,
   "id": "499d0811",
   "metadata": {},
   "outputs": [
    {
     "data": {
      "text/plain": [
       "'Mayuri Dheple'"
      ]
     },
     "execution_count": 3,
     "metadata": {},
     "output_type": "execute_result"
    }
   ],
   "source": [
    "name = 'mayuri dheple'\n",
    "name.title()"
   ]
  },
  {
   "cell_type": "code",
   "execution_count": null,
   "id": "afae32c4",
   "metadata": {},
   "outputs": [],
   "source": [
    "1. Aadhar card >> 'mayuri dheple'\n",
    "2. Pan card    >> 'MAYURI DHEPLE'"
   ]
  },
  {
   "cell_type": "code",
   "execution_count": 4,
   "id": "f7bfa47c",
   "metadata": {},
   "outputs": [
    {
     "data": {
      "text/plain": [
       "False"
      ]
     },
     "execution_count": 4,
     "metadata": {},
     "output_type": "execute_result"
    }
   ],
   "source": [
    "aadhar_name = 'mayuri dheple'\n",
    "pan_name = 'MAYURI DHEPLE'\n",
    "\n",
    "aadhar_name == pan_name"
   ]
  },
  {
   "cell_type": "code",
   "execution_count": 5,
   "id": "39eef536",
   "metadata": {},
   "outputs": [
    {
     "data": {
      "text/plain": [
       "False"
      ]
     },
     "execution_count": 5,
     "metadata": {},
     "output_type": "execute_result"
    }
   ],
   "source": [
    "s1 = 'python'\n",
    "s2 = 'Python'\n",
    "s1 == s2"
   ]
  },
  {
   "cell_type": "code",
   "execution_count": 12,
   "id": "80dea350",
   "metadata": {},
   "outputs": [
    {
     "name": "stdout",
     "output_type": "stream",
     "text": [
      "False\n"
     ]
    }
   ],
   "source": [
    "print(50<10)"
   ]
  },
  {
   "cell_type": "code",
   "execution_count": 8,
   "id": "cb294278",
   "metadata": {},
   "outputs": [
    {
     "name": "stdout",
     "output_type": "stream",
     "text": [
      "a is greater than or equal to b\n"
     ]
    }
   ],
   "source": [
    "a = 50\n",
    "b = 10\n",
    "if a< b:  #false\n",
    "    print(\"a is less than b\")\n",
    "else:\n",
    "    print(\"a is greater than or equal to b\")"
   ]
  },
  {
   "cell_type": "code",
   "execution_count": 9,
   "id": "76fb3b22",
   "metadata": {},
   "outputs": [
    {
     "name": "stdout",
     "output_type": "stream",
     "text": [
      "a is greater than or equal to b\n"
     ]
    }
   ],
   "source": [
    "a = 50\n",
    "b = 50\n",
    "if a< b:  \n",
    "    print(\"a is less than b\")\n",
    "else:\n",
    "    print(\"a is greater than or equal to b\")"
   ]
  },
  {
   "cell_type": "code",
   "execution_count": 11,
   "id": "fd75c98a",
   "metadata": {},
   "outputs": [
    {
     "name": "stdout",
     "output_type": "stream",
     "text": [
      "Names are different\n"
     ]
    }
   ],
   "source": [
    "aadhar_name = 'mayuri dheple'\n",
    "pan_name = 'MAYURI DHEPLE'\n",
    "\n",
    "if aadhar_name == pan_name:\n",
    "    print(\"both name are same\")\n",
    "else:\n",
    "    print(\"Names are different\")"
   ]
  },
  {
   "cell_type": "code",
   "execution_count": 13,
   "id": "06a2859e",
   "metadata": {},
   "outputs": [
    {
     "name": "stdout",
     "output_type": "stream",
     "text": [
      "both name are same\n"
     ]
    }
   ],
   "source": [
    "aadhar_name = 'mayuri dheple'\n",
    "pan_name = 'mayuri dheple'\n",
    "\n",
    "if aadhar_name == pan_name:\n",
    "    print(\"both name are same\")\n",
    "else:\n",
    "    print(\"Names are different\")"
   ]
  },
  {
   "cell_type": "code",
   "execution_count": 15,
   "id": "3578172e",
   "metadata": {},
   "outputs": [
    {
     "name": "stdout",
     "output_type": "stream",
     "text": [
      "both name are same\n"
     ]
    }
   ],
   "source": [
    "aadhar_name = 'mayuri dheple'\n",
    "pan_name = 'MAYURI DHEPLE'\n",
    "\n",
    "if aadhar_name.upper() == pan_name:\n",
    "    print(\"both name are same\")\n",
    "else:\n",
    "    print(\"Names are different\")"
   ]
  },
  {
   "cell_type": "code",
   "execution_count": 16,
   "id": "33501a5c",
   "metadata": {},
   "outputs": [
    {
     "name": "stdout",
     "output_type": "stream",
     "text": [
      "both name are same\n"
     ]
    }
   ],
   "source": [
    "aadhar_name = 'mayuri dheple'\n",
    "pan_name = 'Mayuri Dheple'\n",
    "\n",
    "if aadhar_name.upper() == pan_name.upper():\n",
    "    print(\"both name are same\")\n",
    "else:\n",
    "    print(\"Names are different\")"
   ]
  },
  {
   "cell_type": "code",
   "execution_count": 32,
   "id": "9ce0dcc8",
   "metadata": {},
   "outputs": [
    {
     "name": "stdout",
     "output_type": "stream",
     "text": [
      "both name are same\n"
     ]
    }
   ],
   "source": [
    "aadhar_name = 'Mayuri Dheple@'\n",
    "pan_name = 'MAYURI DHEPLE@'\n",
    "\n",
    "if aadhar_name.lower() == pan_name.lower():\n",
    "    print(\"both name are same\")\n",
    "else:\n",
    "    print(\"Names are different\")"
   ]
  },
  {
   "cell_type": "code",
   "execution_count": 19,
   "id": "eb0ffcda",
   "metadata": {},
   "outputs": [
    {
     "name": "stdout",
     "output_type": "stream",
     "text": [
      "both name are same\n",
      "Original PAN name is MAYURI DHEPLE\n"
     ]
    }
   ],
   "source": [
    "aadhar_name = 'Mayuri Dheple'\n",
    "pan_name = 'MAYURI DHEPLE'\n",
    "\n",
    "if aadhar_name.title() == pan_name.title():\n",
    "    print(\"both name are same\")\n",
    "else:\n",
    "    print(\"Names are different\")\n",
    "print(\"Original PAN name is\",pan_name)"
   ]
  },
  {
   "cell_type": "markdown",
   "id": "cafb428d",
   "metadata": {},
   "source": [
    "# 5. lstrip()"
   ]
  },
  {
   "cell_type": "code",
   "execution_count": null,
   "id": "5bc634f4",
   "metadata": {},
   "outputs": [],
   "source": [
    "it will remove leading white spaces\n",
    "it returns left trim version string"
   ]
  },
  {
   "cell_type": "code",
   "execution_count": 21,
   "id": "9e966a0e",
   "metadata": {},
   "outputs": [
    {
     "name": "stdout",
     "output_type": "stream",
     "text": [
      "6\n"
     ]
    },
    {
     "data": {
      "text/plain": [
       "'python'"
      ]
     },
     "execution_count": 21,
     "metadata": {},
     "output_type": "execute_result"
    }
   ],
   "source": [
    "s1 = 'python'\n",
    "print(len(s1))\n",
    "s1.lstrip()"
   ]
  },
  {
   "cell_type": "code",
   "execution_count": 24,
   "id": "4bee1faa",
   "metadata": {},
   "outputs": [
    {
     "name": "stdout",
     "output_type": "stream",
     "text": [
      "           python\n",
      "17\n",
      "python\n"
     ]
    }
   ],
   "source": [
    "s1 = '           python'\n",
    "print(s1)\n",
    "print(len(s1))\n",
    "print(s1.lstrip())"
   ]
  },
  {
   "cell_type": "code",
   "execution_count": 31,
   "id": "6c94c26b",
   "metadata": {},
   "outputs": [
    {
     "name": "stdout",
     "output_type": "stream",
     "text": [
      "                python and data science\n",
      "39\n",
      "python and data science\n",
      "23\n"
     ]
    }
   ],
   "source": [
    "s2 = '                python and data science'\n",
    "print(s2)\n",
    "print(len(s2))\n",
    "print(s2.lstrip())\n",
    "print(len(s2.lstrip()))"
   ]
  },
  {
   "cell_type": "markdown",
   "id": "072a3228",
   "metadata": {},
   "source": [
    "# 6. rstrip()"
   ]
  },
  {
   "cell_type": "code",
   "execution_count": null,
   "id": "67115a1f",
   "metadata": {},
   "outputs": [],
   "source": [
    "it will remove trailing white space\n",
    "it returns right trim version string"
   ]
  },
  {
   "cell_type": "code",
   "execution_count": 33,
   "id": "a305e83f",
   "metadata": {},
   "outputs": [
    {
     "name": "stdout",
     "output_type": "stream",
     "text": [
      "6\n"
     ]
    },
    {
     "data": {
      "text/plain": [
       "'python'"
      ]
     },
     "execution_count": 33,
     "metadata": {},
     "output_type": "execute_result"
    }
   ],
   "source": [
    "s1 = 'python'\n",
    "print(len(s1))\n",
    "s1.lstrip()"
   ]
  },
  {
   "cell_type": "code",
   "execution_count": 53,
   "id": "f6c9d99e",
   "metadata": {},
   "outputs": [
    {
     "name": "stdout",
     "output_type": "stream",
     "text": [
      "python and          \n",
      "20\n",
      "python and\n",
      "10\n"
     ]
    }
   ],
   "source": [
    "s3 = 'python and          '\n",
    "print(s3)\n",
    "print(len(s3))\n",
    "print(s3.rstrip())\n",
    "print(len(s3.rstrip()))"
   ]
  },
  {
   "cell_type": "code",
   "execution_count": 51,
   "id": "b2bba565",
   "metadata": {},
   "outputs": [
    {
     "name": "stdout",
     "output_type": "stream",
     "text": [
      "PYTHON\n"
     ]
    }
   ],
   "source": [
    "s1 = '        python        '\n",
    "print(s1.lstrip().rstrip().upper())"
   ]
  },
  {
   "cell_type": "code",
   "execution_count": 48,
   "id": "a1de4f32",
   "metadata": {},
   "outputs": [
    {
     "name": "stdout",
     "output_type": "stream",
     "text": [
      "python\n"
     ]
    }
   ],
   "source": [
    "s1 = '        PYthON        '\n",
    "print(s1.lstrip().rstrip().lower())"
   ]
  },
  {
   "cell_type": "code",
   "execution_count": 49,
   "id": "456c2430",
   "metadata": {},
   "outputs": [
    {
     "name": "stdout",
     "output_type": "stream",
     "text": [
      "PYTHON\n"
     ]
    }
   ],
   "source": [
    "s1 = '        PYthON        '\n",
    "print(s1.lstrip().rstrip().upper())"
   ]
  },
  {
   "cell_type": "markdown",
   "id": "0a702461",
   "metadata": {},
   "source": [
    "# 7. strip()"
   ]
  },
  {
   "cell_type": "code",
   "execution_count": null,
   "id": "18b9542b",
   "metadata": {},
   "outputs": [],
   "source": [
    "it will remove leading as well as trailing spaces\n",
    "it will give trimmed version of string\n",
    "strip()= lstrip()+ rstrip()"
   ]
  },
  {
   "cell_type": "code",
   "execution_count": 54,
   "id": "c1c5e73f",
   "metadata": {},
   "outputs": [
    {
     "name": "stdout",
     "output_type": "stream",
     "text": [
      "PYthON\n"
     ]
    }
   ],
   "source": [
    "s1 = '        PYthON        '\n",
    "print(s1.strip())"
   ]
  },
  {
   "cell_type": "code",
   "execution_count": 55,
   "id": "9ba4a6dc",
   "metadata": {},
   "outputs": [
    {
     "name": "stdout",
     "output_type": "stream",
     "text": [
      "python and data science\n"
     ]
    }
   ],
   "source": [
    "s2 = '                python and data science          '\n",
    "print(s2.strip())"
   ]
  },
  {
   "cell_type": "code",
   "execution_count": 56,
   "id": "8f793878",
   "metadata": {},
   "outputs": [
    {
     "name": "stdout",
     "output_type": "stream",
     "text": [
      "python       and        data         science\n"
     ]
    }
   ],
   "source": [
    "s2 = '                python       and        data         science          '\n",
    "print(s2.strip())"
   ]
  },
  {
   "cell_type": "markdown",
   "id": "c73beea4",
   "metadata": {},
   "source": [
    "# 8. replace()"
   ]
  },
  {
   "cell_type": "code",
   "execution_count": null,
   "id": "7f129f92",
   "metadata": {},
   "outputs": [],
   "source": [
    "it will return a string where a specified value is replaced with that value\n",
    "string.replace(old_substring,new_substring,occurances)"
   ]
  },
  {
   "cell_type": "code",
   "execution_count": 63,
   "id": "67a29d0a",
   "metadata": {},
   "outputs": [
    {
     "data": {
      "text/plain": [
       "True"
      ]
     },
     "execution_count": 63,
     "metadata": {},
     "output_type": "execute_result"
    }
   ],
   "source": [
    "s1 = 'python'\n",
    "s2 = 'pyth'\n",
    "s2 in s1"
   ]
  },
  {
   "cell_type": "code",
   "execution_count": 58,
   "id": "511deae9",
   "metadata": {},
   "outputs": [
    {
     "data": {
      "text/plain": [
       "True"
      ]
     },
     "execution_count": 58,
     "metadata": {},
     "output_type": "execute_result"
    }
   ],
   "source": [
    "s1 = 'python'\n",
    "s2 = 'p'\n",
    "s2 in s1"
   ]
  },
  {
   "cell_type": "code",
   "execution_count": 64,
   "id": "335198d4",
   "metadata": {},
   "outputs": [
    {
     "data": {
      "text/plain": [
       "False"
      ]
     },
     "execution_count": 64,
     "metadata": {},
     "output_type": "execute_result"
    }
   ],
   "source": [
    "s1 = 'python'\n",
    "s2 = 'H'\n",
    "s2 in s1"
   ]
  },
  {
   "cell_type": "code",
   "execution_count": 65,
   "id": "4e2e809b",
   "metadata": {},
   "outputs": [
    {
     "name": "stdout",
     "output_type": "stream",
     "text": [
      "Python and machine learning\n",
      "Python and deep learning\n"
     ]
    }
   ],
   "source": [
    "string1 = 'Python and machine learning'\n",
    "print(string1)\n",
    "string2 = string1.replace('machine','deep')\n",
    "print(string2)"
   ]
  },
  {
   "cell_type": "code",
   "execution_count": 66,
   "id": "8b66c624",
   "metadata": {},
   "outputs": [
    {
     "name": "stdout",
     "output_type": "stream",
     "text": [
      "Python and machine learning\n",
      "PYTHON and machine learning\n"
     ]
    }
   ],
   "source": [
    "string1 = 'Python and machine learning'\n",
    "print(string1)\n",
    "string2 = string1.replace('Python','PYTHON')\n",
    "print(string2)"
   ]
  },
  {
   "cell_type": "code",
   "execution_count": 67,
   "id": "810898f8",
   "metadata": {},
   "outputs": [
    {
     "name": "stdout",
     "output_type": "stream",
     "text": [
      "Python and machine learning\n",
      "Python and machine learning\n"
     ]
    }
   ],
   "source": [
    "string1 = 'Python and machine learning'\n",
    "print(string1)\n",
    "string2 = string1.replace('python','PYTHON')\n",
    "print(string2)"
   ]
  },
  {
   "cell_type": "code",
   "execution_count": 69,
   "id": "30e11026",
   "metadata": {},
   "outputs": [
    {
     "name": "stdout",
     "output_type": "stream",
     "text": [
      "Python and machine learning\n",
      "PYTHON and machine learning\n"
     ]
    }
   ],
   "source": [
    "string1 = 'Python and machine learning'\n",
    "substring1 = 'Python'\n",
    "substring2 = 'PYTHON'\n",
    "string2 = string1.replace(substring1,substring2)\n",
    "print(string1)\n",
    "print(string2)"
   ]
  },
  {
   "cell_type": "code",
   "execution_count": 70,
   "id": "d81dec82",
   "metadata": {},
   "outputs": [],
   "source": [
    "ml = '''Machine learning is a field of inquiry devoted to understanding and building methods that 'learn', that is, methods that leverage data to improve performance on some set of tasks. It is seen as a part of artificial intelligence'''"
   ]
  },
  {
   "cell_type": "code",
   "execution_count": 71,
   "id": "3837b829",
   "metadata": {},
   "outputs": [
    {
     "name": "stdout",
     "output_type": "stream",
     "text": [
      "Machine learning is a field of inquiry devoted to understanding and building methods that 'learn', that is, methods that leverage data to improve performance on some set of tasks. It is seen as a part of artificial intelligence\n"
     ]
    }
   ],
   "source": [
    "print(ml)"
   ]
  },
  {
   "cell_type": "code",
   "execution_count": 72,
   "id": "73546027",
   "metadata": {},
   "outputs": [
    {
     "name": "stdout",
     "output_type": "stream",
     "text": [
      "Deep learning is a field of inquiry devoted to understanding and building methods that 'learn', that is, methods that leverage data to improve performance on some set of tasks. It is seen as a part of artificial intelligence\n"
     ]
    }
   ],
   "source": [
    "print(ml.replace('Machine','Deep'))"
   ]
  },
  {
   "cell_type": "code",
   "execution_count": 75,
   "id": "247e81d9",
   "metadata": {},
   "outputs": [
    {
     "data": {
      "text/plain": [
       "'pytHoN'"
      ]
     },
     "execution_count": 75,
     "metadata": {},
     "output_type": "execute_result"
    }
   ],
   "source": [
    "str1 ='python'\n",
    "str1.replace('h','H').replace('n','N')"
   ]
  },
  {
   "cell_type": "code",
   "execution_count": 76,
   "id": "55b2a03f",
   "metadata": {},
   "outputs": [
    {
     "data": {
      "text/plain": [
       "'Python And mAch!ne leArn!ng'"
      ]
     },
     "execution_count": 76,
     "metadata": {},
     "output_type": "execute_result"
    }
   ],
   "source": [
    "string1 = 'Python and machine learning'\n",
    "string1.replace('a', 'A').replace('i', '!')"
   ]
  },
  {
   "cell_type": "code",
   "execution_count": 77,
   "id": "b0905206",
   "metadata": {},
   "outputs": [
    {
     "data": {
      "text/plain": [
       "'Python*and*machine*learning'"
      ]
     },
     "execution_count": 77,
     "metadata": {},
     "output_type": "execute_result"
    }
   ],
   "source": [
    "string1 = 'Python and machine learning'\n",
    "string1.replace(' ', '*')"
   ]
  },
  {
   "cell_type": "code",
   "execution_count": 81,
   "id": "ac8b3ecc",
   "metadata": {},
   "outputs": [
    {
     "data": {
      "text/plain": [
       "'+++++++++Python+++++++++and++++++++++machine+++++++++learning++++++++++'"
      ]
     },
     "execution_count": 81,
     "metadata": {},
     "output_type": "execute_result"
    }
   ],
   "source": [
    "string1 = '         Python         and          machine         learning          '\n",
    "string1.replace(' ', '+')"
   ]
  },
  {
   "cell_type": "code",
   "execution_count": 82,
   "id": "8c92a318",
   "metadata": {},
   "outputs": [
    {
     "data": {
      "text/plain": [
       "'Pythonandmachinelearning'"
      ]
     },
     "execution_count": 82,
     "metadata": {},
     "output_type": "execute_result"
    }
   ],
   "source": [
    "string1 = '         Python         and          machine         learning          '\n",
    "string1.replace(' ', '')"
   ]
  },
  {
   "cell_type": "code",
   "execution_count": 83,
   "id": "a8ce0502",
   "metadata": {},
   "outputs": [
    {
     "name": "stdout",
     "output_type": "stream",
     "text": [
      "Machine learning is a field of inquiry devoted to understanding and building methods that 'learn', that is, methods that leverage data to improve performance on some set of tasks. It is seen as a part of artificial intelligence\n"
     ]
    }
   ],
   "source": [
    "print(ml)"
   ]
  },
  {
   "cell_type": "code",
   "execution_count": 84,
   "id": "925264fc",
   "metadata": {},
   "outputs": [
    {
     "data": {
      "text/plain": [
       "\"Machine LEARNING is a field of inquiry devoted to understanding and building methods that 'learn', that is, methods that leverage data to improve performance on some set of tasks. It is seen as a part of artificial intelligence\""
      ]
     },
     "execution_count": 84,
     "metadata": {},
     "output_type": "execute_result"
    }
   ],
   "source": [
    "ml.replace('learning','LEARNING')"
   ]
  },
  {
   "cell_type": "code",
   "execution_count": 87,
   "id": "073f0025",
   "metadata": {},
   "outputs": [
    {
     "data": {
      "text/plain": [
       "\"MAchine learning is a field of inquiry devoted to understanding and building methods that 'learn', that is, methods that leverage data to improve performance on some set of tasks. It is seen as a part of artificial intelligence\""
      ]
     },
     "execution_count": 87,
     "metadata": {},
     "output_type": "execute_result"
    }
   ],
   "source": [
    "ml.replace('a','A',1)"
   ]
  },
  {
   "cell_type": "markdown",
   "id": "e7aaa309",
   "metadata": {},
   "source": [
    "# 9. count()"
   ]
  },
  {
   "cell_type": "code",
   "execution_count": null,
   "id": "079cc10f",
   "metadata": {},
   "outputs": [],
   "source": [
    "It will return the number of times a specified value occurs in string"
   ]
  },
  {
   "cell_type": "code",
   "execution_count": null,
   "id": "3fc6d852",
   "metadata": {},
   "outputs": [],
   "source": [
    "string.count('substring',[start_index], [end_index])"
   ]
  },
  {
   "cell_type": "code",
   "execution_count": 88,
   "id": "789203f5",
   "metadata": {},
   "outputs": [],
   "source": [
    "ml = '''Machine learning is a field of inquiry devoted to understanding and building methods that 'learn', that is, methods that leverage data to improve performance on some set of tasks. It is seen as a part of artificial intelligence'''"
   ]
  },
  {
   "cell_type": "code",
   "execution_count": 89,
   "id": "1d27fc44",
   "metadata": {},
   "outputs": [
    {
     "name": "stdout",
     "output_type": "stream",
     "text": [
      "Machine learning is a field of inquiry devoted to understanding and building methods that 'learn', that is, methods that leverage data to improve performance on some set of tasks. It is seen as a part of artificial intelligence\n"
     ]
    }
   ],
   "source": [
    "print(ml)"
   ]
  },
  {
   "cell_type": "code",
   "execution_count": 90,
   "id": "3672f0a2",
   "metadata": {},
   "outputs": [
    {
     "data": {
      "text/plain": [
       "1"
      ]
     },
     "execution_count": 90,
     "metadata": {},
     "output_type": "execute_result"
    }
   ],
   "source": [
    "ml.count('Machine')"
   ]
  },
  {
   "cell_type": "code",
   "execution_count": 91,
   "id": "5a2f6fd0",
   "metadata": {},
   "outputs": [],
   "source": [
    "string1= ml.lower()"
   ]
  },
  {
   "cell_type": "code",
   "execution_count": 92,
   "id": "ca1f384a",
   "metadata": {},
   "outputs": [
    {
     "name": "stdout",
     "output_type": "stream",
     "text": [
      "machine learning is a field of inquiry devoted to understanding and building methods that 'learn', that is, methods that leverage data to improve performance on some set of tasks. it is seen as a part of artificial intelligence\n"
     ]
    }
   ],
   "source": [
    "print(string1)"
   ]
  },
  {
   "cell_type": "code",
   "execution_count": 93,
   "id": "c89bd15a",
   "metadata": {},
   "outputs": [
    {
     "data": {
      "text/plain": [
       "19"
      ]
     },
     "execution_count": 93,
     "metadata": {},
     "output_type": "execute_result"
    }
   ],
   "source": [
    "string1.count('a')"
   ]
  },
  {
   "cell_type": "code",
   "execution_count": 94,
   "id": "6814e8c7",
   "metadata": {},
   "outputs": [
    {
     "data": {
      "text/plain": [
       "18"
      ]
     },
     "execution_count": 94,
     "metadata": {},
     "output_type": "execute_result"
    }
   ],
   "source": [
    "string1.count('i')"
   ]
  },
  {
   "cell_type": "code",
   "execution_count": 96,
   "id": "0e7d3020",
   "metadata": {},
   "outputs": [
    {
     "data": {
      "text/plain": [
       "3"
      ]
     },
     "execution_count": 96,
     "metadata": {},
     "output_type": "execute_result"
    }
   ],
   "source": [
    "string1.count('p')"
   ]
  },
  {
   "cell_type": "code",
   "execution_count": 97,
   "id": "2a5aaacc",
   "metadata": {},
   "outputs": [
    {
     "data": {
      "text/plain": [
       "0"
      ]
     },
     "execution_count": 97,
     "metadata": {},
     "output_type": "execute_result"
    }
   ],
   "source": [
    "string1.count('A')"
   ]
  },
  {
   "cell_type": "code",
   "execution_count": 98,
   "id": "d7cda2fd",
   "metadata": {},
   "outputs": [
    {
     "data": {
      "text/plain": [
       "0"
      ]
     },
     "execution_count": 98,
     "metadata": {},
     "output_type": "execute_result"
    }
   ],
   "source": [
    "string1.count('Data Science')"
   ]
  },
  {
   "cell_type": "code",
   "execution_count": 99,
   "id": "84d26ed7",
   "metadata": {},
   "outputs": [
    {
     "data": {
      "text/plain": [
       "37"
      ]
     },
     "execution_count": 99,
     "metadata": {},
     "output_type": "execute_result"
    }
   ],
   "source": [
    "string1.count(' ')"
   ]
  },
  {
   "cell_type": "code",
   "execution_count": 101,
   "id": "8caff422",
   "metadata": {},
   "outputs": [
    {
     "name": "stdout",
     "output_type": "stream",
     "text": [
      "machine learning is a field of inquiry devoted to understanding and building methods that 'learn', that is, methods that leverage data to improve performance on some set of tasks. it is seen as a part of artificial intelligence\n"
     ]
    }
   ],
   "source": [
    "print(string1)"
   ]
  },
  {
   "cell_type": "code",
   "execution_count": 102,
   "id": "03cac2e2",
   "metadata": {},
   "outputs": [
    {
     "data": {
      "text/plain": [
       "2"
      ]
     },
     "execution_count": 102,
     "metadata": {},
     "output_type": "execute_result"
    }
   ],
   "source": [
    "string1.count('a',0,20)"
   ]
  },
  {
   "cell_type": "code",
   "execution_count": 110,
   "id": "eff280d6",
   "metadata": {},
   "outputs": [
    {
     "data": {
      "text/plain": [
       "19"
      ]
     },
     "execution_count": 110,
     "metadata": {},
     "output_type": "execute_result"
    }
   ],
   "source": [
    "string1.count('a')"
   ]
  },
  {
   "cell_type": "code",
   "execution_count": 111,
   "id": "8ad0db1f",
   "metadata": {},
   "outputs": [
    {
     "data": {
      "text/plain": [
       "3"
      ]
     },
     "execution_count": 111,
     "metadata": {},
     "output_type": "execute_result"
    }
   ],
   "source": [
    "string1.count('a ')"
   ]
  },
  {
   "cell_type": "code",
   "execution_count": 106,
   "id": "6b6f6616",
   "metadata": {},
   "outputs": [
    {
     "data": {
      "text/plain": [
       "5"
      ]
     },
     "execution_count": 106,
     "metadata": {},
     "output_type": "execute_result"
    }
   ],
   "source": [
    "string1.count('m',50,)"
   ]
  },
  {
   "cell_type": "markdown",
   "id": "4cdef75f",
   "metadata": {},
   "source": [
    "# 10. index"
   ]
  },
  {
   "cell_type": "code",
   "execution_count": null,
   "id": "ba9e7661",
   "metadata": {},
   "outputs": [],
   "source": [
    "it searches the string for a specified value and returns the position"
   ]
  },
  {
   "cell_type": "code",
   "execution_count": 112,
   "id": "38a8589f",
   "metadata": {},
   "outputs": [
    {
     "data": {
      "text/plain": [
       "0"
      ]
     },
     "execution_count": 112,
     "metadata": {},
     "output_type": "execute_result"
    }
   ],
   "source": [
    "string= 'Python and Data Scince'\n",
    "string.index('P')"
   ]
  },
  {
   "cell_type": "code",
   "execution_count": 113,
   "id": "71d4c6df",
   "metadata": {},
   "outputs": [
    {
     "data": {
      "text/plain": [
       "4"
      ]
     },
     "execution_count": 113,
     "metadata": {},
     "output_type": "execute_result"
    }
   ],
   "source": [
    "string= 'Python and Data Scince'\n",
    "string.index('o')"
   ]
  },
  {
   "cell_type": "code",
   "execution_count": 135,
   "id": "1459a5dc",
   "metadata": {},
   "outputs": [
    {
     "name": "stdout",
     "output_type": "stream",
     "text": [
      "22\n"
     ]
    },
    {
     "data": {
      "text/plain": [
       "17"
      ]
     },
     "execution_count": 135,
     "metadata": {},
     "output_type": "execute_result"
    }
   ],
   "source": [
    "string= 'Python and Data Scince'\n",
    "print(len(string))\n",
    "string.index('c',12,20)"
   ]
  },
  {
   "cell_type": "code",
   "execution_count": 115,
   "id": "38fb39b5",
   "metadata": {},
   "outputs": [
    {
     "name": "stdout",
     "output_type": "stream",
     "text": [
      "Machine learning is a field of inquiry devoted to understanding and building methods that 'learn', that is, methods that leverage data to improve performance on some set of tasks. It is seen as a part of artificial intelligence\n"
     ]
    }
   ],
   "source": [
    "print(ml)"
   ]
  },
  {
   "cell_type": "code",
   "execution_count": 140,
   "id": "e384e634",
   "metadata": {},
   "outputs": [
    {
     "data": {
      "text/plain": [
       "17"
      ]
     },
     "execution_count": 140,
     "metadata": {},
     "output_type": "execute_result"
    }
   ],
   "source": [
    "ml.index('is')"
   ]
  },
  {
   "cell_type": "code",
   "execution_count": null,
   "id": "d7782977",
   "metadata": {},
   "outputs": [],
   "source": []
  }
 ],
 "metadata": {
  "kernelspec": {
   "display_name": "Python 3",
   "language": "python",
   "name": "python3"
  },
  "language_info": {
   "codemirror_mode": {
    "name": "ipython",
    "version": 3
   },
   "file_extension": ".py",
   "mimetype": "text/x-python",
   "name": "python",
   "nbconvert_exporter": "python",
   "pygments_lexer": "ipython3",
   "version": "3.8.8"
  }
 },
 "nbformat": 4,
 "nbformat_minor": 5
}
