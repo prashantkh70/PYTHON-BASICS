{
 "cells": [
  {
   "cell_type": "code",
   "execution_count": 11,
   "id": "5491785e",
   "metadata": {},
   "outputs": [
    {
     "data": {
      "text/plain": [
       "30"
      ]
     },
     "execution_count": 11,
     "metadata": {},
     "output_type": "execute_result"
    }
   ],
   "source": [
    "10 + 20"
   ]
  },
  {
   "cell_type": "code",
   "execution_count": 12,
   "id": "7b5678d3",
   "metadata": {},
   "outputs": [
    {
     "data": {
      "text/plain": [
       "11"
      ]
     },
     "execution_count": 12,
     "metadata": {},
     "output_type": "execute_result"
    }
   ],
   "source": [
    "9+2"
   ]
  },
  {
   "cell_type": "code",
   "execution_count": 16,
   "id": "2b090fbc",
   "metadata": {},
   "outputs": [
    {
     "name": "stdout",
     "output_type": "stream",
     "text": [
      "Python and Data Science\n"
     ]
    }
   ],
   "source": [
    "print('Python and Data Science')"
   ]
  },
  {
   "cell_type": "markdown",
   "id": "f938d4ed",
   "metadata": {},
   "source": [
    "# Python Features"
   ]
  },
  {
   "cell_type": "code",
   "execution_count": null,
   "id": "deb16b04",
   "metadata": {},
   "outputs": [],
   "source": [
    "1. python is a interpreted language (it dosent require prior compolation)\n",
    "2. it is a object oriented language or high level programming language.\n",
    "3. Simple to debug. \n",
    "4. It is free and open source.\n",
    "5. Vast library support.\n",
    "6. Dynamically typed language.>> no need to declare variables.\n",
    "7. programmer friendly language.>> easy to read, write, learn.\n",
    "\n"
   ]
  },
  {
   "cell_type": "markdown",
   "id": "193de684",
   "metadata": {},
   "source": [
    "# Indentation"
   ]
  },
  {
   "cell_type": "raw",
   "id": "9a646df3",
   "metadata": {},
   "source": [
    "space at begining of code.\n",
    "python uses white space for indentation rather than curly brackets or keywords\n",
    ">> "
   ]
  },
  {
   "cell_type": "code",
   "execution_count": 30,
   "id": "c02c75e2",
   "metadata": {},
   "outputs": [
    {
     "name": "stdout",
     "output_type": "stream",
     "text": [
      "a is grater than b\n"
     ]
    }
   ],
   "source": [
    "a= 8\n",
    "b= 6\n",
    "if a > b:\n",
    "    print('a is grater than b')\n",
    "    \n",
    "    \n",
    "    "
   ]
  },
  {
   "cell_type": "code",
   "execution_count": null,
   "id": "1a4dc158",
   "metadata": {},
   "outputs": [],
   "source": [
    "if, elif, else statement \n",
    " for and while loop , try except\n",
    "\n",
    "use of : automatically adds indentation\n",
    "    "
   ]
  },
  {
   "cell_type": "code",
   "execution_count": 40,
   "id": "7f5d65d9",
   "metadata": {},
   "outputs": [
    {
     "name": "stdout",
     "output_type": "stream",
     "text": [
      "10\n",
      "Testing Loop\n",
      "11\n",
      "Testing Loop\n",
      "12\n",
      "Testing Loop\n",
      "13\n",
      "Testing Loop\n",
      "14\n",
      "Testing Loop\n"
     ]
    }
   ],
   "source": [
    "for i in range(10,15):\n",
    "    print(i)\n",
    "    print(\"Testing Loop\")"
   ]
  },
  {
   "cell_type": "code",
   "execution_count": 33,
   "id": "a7b4762c",
   "metadata": {},
   "outputs": [
    {
     "name": "stdout",
     "output_type": "stream",
     "text": [
      "a is less than b\n",
      "we are in if statement block\n",
      "Completed\n"
     ]
    }
   ],
   "source": [
    "a=100\n",
    "b=200\n",
    "if a<b:\n",
    "    print(\"a is less than b\")\n",
    "    print(\"we are in if statement block\")\n",
    "    \n",
    "else:\n",
    "    print(\"b is less than a\")\n",
    "    print(\"we are in else statement block\")\n",
    "    \n",
    "print(\"Completed\")"
   ]
  },
  {
   "cell_type": "code",
   "execution_count": 37,
   "id": "ec0bc674",
   "metadata": {},
   "outputs": [
    {
     "ename": "IndentationError",
     "evalue": "expected an indented block (<ipython-input-37-e196d1bf6ea6>, line 4)",
     "output_type": "error",
     "traceback": [
      "\u001b[1;36m  File \u001b[1;32m\"<ipython-input-37-e196d1bf6ea6>\"\u001b[1;36m, line \u001b[1;32m4\u001b[0m\n\u001b[1;33m    print(\"a is less than b\")\u001b[0m\n\u001b[1;37m    ^\u001b[0m\n\u001b[1;31mIndentationError\u001b[0m\u001b[1;31m:\u001b[0m expected an indented block\n"
     ]
    }
   ],
   "source": [
    "a=300\n",
    "b=200\n",
    "if a<b:\n",
    "    print(\"a is less than b\")\n",
    "    print(\"we are in if statement block\")\n",
    "    \n",
    "else:\n",
    "    print(\"b is less than a\")\n",
    "    print(\"we are in else statement block\")\n",
    "    \n",
    "print(\"Completed\")"
   ]
  },
  {
   "cell_type": "code",
   "execution_count": null,
   "id": "5f29a71b",
   "metadata": {},
   "outputs": [],
   "source": []
  }
 ],
 "metadata": {
  "kernelspec": {
   "display_name": "Python 3",
   "language": "python",
   "name": "python3"
  },
  "language_info": {
   "codemirror_mode": {
    "name": "ipython",
    "version": 3
   },
   "file_extension": ".py",
   "mimetype": "text/x-python",
   "name": "python",
   "nbconvert_exporter": "python",
   "pygments_lexer": "ipython3",
   "version": "3.8.8"
  }
 },
 "nbformat": 4,
 "nbformat_minor": 5
}
