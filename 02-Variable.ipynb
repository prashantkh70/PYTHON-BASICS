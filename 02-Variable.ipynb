{
 "cells": [
  {
   "cell_type": "markdown",
   "id": "242e6aac",
   "metadata": {},
   "source": [
    "# Variable"
   ]
  },
  {
   "cell_type": "code",
   "execution_count": null,
   "id": "9dc3e6db",
   "metadata": {},
   "outputs": [],
   "source": [
    ">> used to store value.(numerical,sequence, dictionary, list, tuple)\n",
    ">> python has no command to declare the variables.\n",
    ">> no need to specify data types of variables.\n",
    ">> equal operator (=) is used to assign values to variable\n",
    ">> to check data type of variable we use>>  type(variable)"
   ]
  },
  {
   "cell_type": "code",
   "execution_count": 7,
   "id": "bbef0f28",
   "metadata": {},
   "outputs": [],
   "source": [
    "b=90"
   ]
  },
  {
   "cell_type": "code",
   "execution_count": 8,
   "id": "7f960eae",
   "metadata": {},
   "outputs": [
    {
     "data": {
      "text/plain": [
       "int"
      ]
     },
     "execution_count": 8,
     "metadata": {},
     "output_type": "execute_result"
    }
   ],
   "source": [
    "type(b)"
   ]
  },
  {
   "cell_type": "code",
   "execution_count": 10,
   "id": "61a18ce7",
   "metadata": {},
   "outputs": [],
   "source": [
    "c=10.5"
   ]
  },
  {
   "cell_type": "code",
   "execution_count": 11,
   "id": "cc7f179c",
   "metadata": {},
   "outputs": [
    {
     "data": {
      "text/plain": [
       "float"
      ]
     },
     "execution_count": 11,
     "metadata": {},
     "output_type": "execute_result"
    }
   ],
   "source": [
    "type(c)"
   ]
  },
  {
   "cell_type": "code",
   "execution_count": 23,
   "id": "60fa6a07",
   "metadata": {},
   "outputs": [],
   "source": [
    "f=True"
   ]
  },
  {
   "cell_type": "code",
   "execution_count": 24,
   "id": "dd7acf64",
   "metadata": {},
   "outputs": [
    {
     "data": {
      "text/plain": [
       "bool"
      ]
     },
     "execution_count": 24,
     "metadata": {},
     "output_type": "execute_result"
    }
   ],
   "source": [
    "type(f)"
   ]
  },
  {
   "cell_type": "markdown",
   "id": "10fc173f",
   "metadata": {},
   "source": [
    "# Rules to Define Variables"
   ]
  },
  {
   "cell_type": "raw",
   "id": "3088c5f2",
   "metadata": {},
   "source": [
    "1. variable name must start with alphabet(A-Z,a-z) or underscore(_)\n",
    "2. Variables are case sensitive: NAME,name,NaMe, naMe.\n",
    "3. all the charcter should ne alphanumeric only >> MyVar_123\n",
    "4. must not contain special character(@#$%!&*^.)\n",
    "5. do not use reserve keywords(any is if else.... there are 33 no. reserve keywords\n"
   ]
  },
  {
   "cell_type": "code",
   "execution_count": 33,
   "id": "88c5f64a",
   "metadata": {},
   "outputs": [
    {
     "name": "stdout",
     "output_type": "stream",
     "text": [
      "\n",
      "Here is a list of the Python keywords.  Enter any keyword to get more help.\n",
      "\n",
      "False               class               from                or\n",
      "None                continue            global              pass\n",
      "True                def                 if                  raise\n",
      "and                 del                 import              return\n",
      "as                  elif                in                  try\n",
      "assert              else                is                  while\n",
      "async               except              lambda              with\n",
      "await               finally             nonlocal            yield\n",
      "break               for                 not                 \n",
      "\n"
     ]
    }
   ],
   "source": [
    "help('keywords')"
   ]
  },
  {
   "cell_type": "code",
   "execution_count": 30,
   "id": "317ca1b4",
   "metadata": {},
   "outputs": [],
   "source": [
    "# ex. \n",
    "myvar=10\n",
    "MYVAR=30\n",
    "_myvar=52"
   ]
  },
  {
   "cell_type": "code",
   "execution_count": 27,
   "id": "bc4f7239",
   "metadata": {},
   "outputs": [
    {
     "data": {
      "text/plain": [
       "10"
      ]
     },
     "execution_count": 27,
     "metadata": {},
     "output_type": "execute_result"
    }
   ],
   "source": [
    "myvar"
   ]
  },
  {
   "cell_type": "code",
   "execution_count": 31,
   "id": "c72f35c0",
   "metadata": {},
   "outputs": [
    {
     "data": {
      "text/plain": [
       "30"
      ]
     },
     "execution_count": 31,
     "metadata": {},
     "output_type": "execute_result"
    }
   ],
   "source": [
    "MYVAR"
   ]
  },
  {
   "cell_type": "code",
   "execution_count": 32,
   "id": "f56f73e2",
   "metadata": {},
   "outputs": [
    {
     "data": {
      "text/plain": [
       "52"
      ]
     },
     "execution_count": 32,
     "metadata": {},
     "output_type": "execute_result"
    }
   ],
   "source": [
    "_myvar"
   ]
  },
  {
   "cell_type": "markdown",
   "id": "e81480da",
   "metadata": {},
   "source": [
    "# Delete Variable"
   ]
  },
  {
   "cell_type": "code",
   "execution_count": null,
   "id": "e674e7fa",
   "metadata": {},
   "outputs": [],
   "source": [
    "use del to delete"
   ]
  },
  {
   "cell_type": "code",
   "execution_count": 34,
   "id": "fcc257fc",
   "metadata": {},
   "outputs": [],
   "source": [
    "l= 10"
   ]
  },
  {
   "cell_type": "code",
   "execution_count": 35,
   "id": "b67f37e7",
   "metadata": {},
   "outputs": [
    {
     "data": {
      "text/plain": [
       "10"
      ]
     },
     "execution_count": 35,
     "metadata": {},
     "output_type": "execute_result"
    }
   ],
   "source": [
    "l"
   ]
  },
  {
   "cell_type": "code",
   "execution_count": 36,
   "id": "b3774b44",
   "metadata": {},
   "outputs": [],
   "source": [
    "del l"
   ]
  },
  {
   "cell_type": "code",
   "execution_count": 37,
   "id": "b067981e",
   "metadata": {},
   "outputs": [
    {
     "ename": "NameError",
     "evalue": "name 'l' is not defined",
     "output_type": "error",
     "traceback": [
      "\u001b[1;31m---------------------------------------------------------------------------\u001b[0m",
      "\u001b[1;31mNameError\u001b[0m                                 Traceback (most recent call last)",
      "\u001b[1;32m<ipython-input-37-cde25b5e10ad>\u001b[0m in \u001b[0;36m<module>\u001b[1;34m\u001b[0m\n\u001b[1;32m----> 1\u001b[1;33m \u001b[0ml\u001b[0m\u001b[1;33m\u001b[0m\u001b[1;33m\u001b[0m\u001b[0m\n\u001b[0m",
      "\u001b[1;31mNameError\u001b[0m: name 'l' is not defined"
     ]
    }
   ],
   "source": [
    "l"
   ]
  },
  {
   "cell_type": "markdown",
   "id": "511f9aba",
   "metadata": {},
   "source": [
    "# Types of Variables"
   ]
  },
  {
   "cell_type": "code",
   "execution_count": null,
   "id": "282a6474",
   "metadata": {},
   "outputs": [],
   "source": [
    "1. Global >> decleared outside the function.\n",
    "2. Local  >> decleared inside the function."
   ]
  },
  {
   "cell_type": "code",
   "execution_count": null,
   "id": "0c66394f",
   "metadata": {},
   "outputs": [],
   "source": [
    "a=5\n",
    "def addition(a,b):\n",
    "    b=10"
   ]
  }
 ],
 "metadata": {
  "kernelspec": {
   "display_name": "Python 3",
   "language": "python",
   "name": "python3"
  },
  "language_info": {
   "codemirror_mode": {
    "name": "ipython",
    "version": 3
   },
   "file_extension": ".py",
   "mimetype": "text/x-python",
   "name": "python",
   "nbconvert_exporter": "python",
   "pygments_lexer": "ipython3",
   "version": "3.8.8"
  }
 },
 "nbformat": 4,
 "nbformat_minor": 5
}
