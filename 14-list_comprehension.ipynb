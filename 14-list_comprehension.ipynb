{
 "cells": [
  {
   "cell_type": "markdown",
   "id": "13c37c1a",
   "metadata": {},
   "source": [
    "# List Comprehension"
   ]
  },
  {
   "cell_type": "code",
   "execution_count": null,
   "id": "b49cdd47",
   "metadata": {},
   "outputs": [],
   "source": [
    "we can use list comprehension on any iterable object (sequence)"
   ]
  },
  {
   "cell_type": "code",
   "execution_count": null,
   "id": "b2aaf3a1",
   "metadata": {},
   "outputs": [],
   "source": [
    "syntax:\n",
    "    \n",
    "new_list =[expression for var in sequence]\n",
    "new_list =[expression for var in sequence if condition == True]\n",
    "new_list =[short-hand if-else expression for var in sequence]"
   ]
  },
  {
   "cell_type": "code",
   "execution_count": 1,
   "id": "5bb502f8",
   "metadata": {},
   "outputs": [
    {
     "name": "stdout",
     "output_type": "stream",
     "text": [
      "[121, 144, 169, 196, 225, 256, 289, 324, 361, 400]\n"
     ]
    }
   ],
   "source": [
    "squrs =[]\n",
    "for i in range(11,21):\n",
    "    squrs.append(i**2)\n",
    "    \n",
    "print(squrs)"
   ]
  },
  {
   "cell_type": "code",
   "execution_count": 2,
   "id": "810bd21a",
   "metadata": {},
   "outputs": [
    {
     "data": {
      "text/plain": [
       "[121, 144, 169, 196, 225, 256, 289, 324, 361, 400]"
      ]
     },
     "execution_count": 2,
     "metadata": {},
     "output_type": "execute_result"
    }
   ],
   "source": [
    "squrs = [i**2 for i in range(11,21)]\n",
    "squrs"
   ]
  },
  {
   "cell_type": "code",
   "execution_count": 4,
   "id": "fcecc611",
   "metadata": {},
   "outputs": [
    {
     "name": "stdout",
     "output_type": "stream",
     "text": [
      "[1331, 1728, 2197, 2744, 3375, 4096, 4913, 5832, 6859, 8000]\n"
     ]
    }
   ],
   "source": [
    "cube =[]\n",
    "for i in range(11,21):\n",
    "    cube.append(i**3)\n",
    "    \n",
    "print(cube)"
   ]
  },
  {
   "cell_type": "code",
   "execution_count": 5,
   "id": "c75f4111",
   "metadata": {},
   "outputs": [
    {
     "data": {
      "text/plain": [
       "[1331, 1728, 2197, 2744, 3375, 4096, 4913, 5832, 6859, 8000]"
      ]
     },
     "execution_count": 5,
     "metadata": {},
     "output_type": "execute_result"
    }
   ],
   "source": [
    "cube = [i**3 for i in range(11,21)]\n",
    "cube"
   ]
  },
  {
   "cell_type": "code",
   "execution_count": 6,
   "id": "ab23c98f",
   "metadata": {},
   "outputs": [
    {
     "name": "stdout",
     "output_type": "stream",
     "text": [
      "['KIWI', 'BANANA', 'ORANGE', 'APPLE', 'DRAGONFRUIT', 'CHERRY']\n"
     ]
    }
   ],
   "source": [
    "fruit = ['Kiwi', 'banana', 'Orange', 'Apple', 'Dragonfruit', 'cherry']\n",
    "\n",
    "result = []\n",
    "\n",
    "for frt in fruit:\n",
    "    result.append(frt.upper())\n",
    "    \n",
    "print(result)"
   ]
  },
  {
   "cell_type": "code",
   "execution_count": 7,
   "id": "723d5af6",
   "metadata": {},
   "outputs": [
    {
     "data": {
      "text/plain": [
       "['KIWI', 'BANANA', 'ORANGE', 'APPLE', 'DRAGONFRUIT', 'CHERRY']"
      ]
     },
     "execution_count": 7,
     "metadata": {},
     "output_type": "execute_result"
    }
   ],
   "source": [
    "result = [frt.upper() for frt in fruit]\n",
    "result"
   ]
  },
  {
   "cell_type": "code",
   "execution_count": 2,
   "id": "bfdbbd5e",
   "metadata": {},
   "outputs": [],
   "source": [
    "list1 = [4,5,7,9,63,45,78,44,22,20,12,65,68,100,204]"
   ]
  },
  {
   "cell_type": "code",
   "execution_count": 4,
   "id": "6adae67a",
   "metadata": {},
   "outputs": [
    {
     "data": {
      "text/plain": [
       "[4, 78, 44, 22, 20, 12, 68, 100, 204]"
      ]
     },
     "execution_count": 4,
     "metadata": {},
     "output_type": "execute_result"
    }
   ],
   "source": [
    "even_num = [i for i in list1 if i % 2 == 0]\n",
    "even_num"
   ]
  },
  {
   "cell_type": "code",
   "execution_count": 5,
   "id": "21759e2e",
   "metadata": {},
   "outputs": [
    {
     "data": {
      "text/plain": [
       "['python',\n",
       " 'python',\n",
       " 'python',\n",
       " 'python',\n",
       " 'python',\n",
       " 'python',\n",
       " 'python',\n",
       " 'python',\n",
       " 'python']"
      ]
     },
     "execution_count": 5,
     "metadata": {},
     "output_type": "execute_result"
    }
   ],
   "source": [
    "even_num = ['python' for i in list1 if i % 2 == 0]\n",
    "even_num"
   ]
  },
  {
   "cell_type": "code",
   "execution_count": 6,
   "id": "e1983152",
   "metadata": {},
   "outputs": [
    {
     "data": {
      "text/plain": [
       "'even'"
      ]
     },
     "execution_count": 6,
     "metadata": {},
     "output_type": "execute_result"
    }
   ],
   "source": [
    "x = 50\n",
    "'even' if x%2==0 else 'odd'"
   ]
  },
  {
   "cell_type": "code",
   "execution_count": 8,
   "id": "1a5a9556",
   "metadata": {},
   "outputs": [
    {
     "name": "stdout",
     "output_type": "stream",
     "text": [
      "['even', 'odd', 'odd', 'odd', 'odd', 'odd', 'even', 'even', 'even', 'even', 'even', 'odd', 'even', 'even', 'even']\n"
     ]
    }
   ],
   "source": [
    "list1 = [4,5,7,9,63,45,78,44,22,20,12,65,68,100,204]\n",
    "new_list = ['even' if i%2==0 else 'odd' for i in list1]\n",
    "print(new_list)"
   ]
  },
  {
   "cell_type": "code",
   "execution_count": 9,
   "id": "066c6dfd",
   "metadata": {},
   "outputs": [
    {
     "data": {
      "text/plain": [
       "[6, 12, 9, 9]"
      ]
     },
     "execution_count": 9,
     "metadata": {},
     "output_type": "execute_result"
    }
   ],
   "source": [
    "list2 = [2,5,6,7]\n",
    "list3 = [4,7,3,2]\n",
    "new_list = [] #2+4=6,12\n",
    "for i, value in enumerate(list2):\n",
    "    new_list.append(list2[i]+list3[i])\n",
    "new_list"
   ]
  },
  {
   "cell_type": "code",
   "execution_count": 10,
   "id": "691cb06b",
   "metadata": {},
   "outputs": [
    {
     "data": {
      "text/plain": [
       "[6, 12, 9, 9]"
      ]
     },
     "execution_count": 10,
     "metadata": {},
     "output_type": "execute_result"
    }
   ],
   "source": [
    "list2 = [2,5,6,7]\n",
    "list3 = [4,7,3,2]\n",
    "new_list = [list2[i]+list3[i] for i,value in enumerate(list2)]\n",
    "new_list"
   ]
  },
  {
   "cell_type": "code",
   "execution_count": null,
   "id": "66162c24",
   "metadata": {},
   "outputs": [],
   "source": []
  }
 ],
 "metadata": {
  "kernelspec": {
   "display_name": "Python 3",
   "language": "python",
   "name": "python3"
  },
  "language_info": {
   "codemirror_mode": {
    "name": "ipython",
    "version": 3
   },
   "file_extension": ".py",
   "mimetype": "text/x-python",
   "name": "python",
   "nbconvert_exporter": "python",
   "pygments_lexer": "ipython3",
   "version": "3.8.8"
  }
 },
 "nbformat": 4,
 "nbformat_minor": 5
}
