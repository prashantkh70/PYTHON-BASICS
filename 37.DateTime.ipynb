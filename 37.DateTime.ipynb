{
 "cells": [
  {
   "cell_type": "markdown",
   "id": "9e17c903",
   "metadata": {},
   "source": [
    "# Datetime"
   ]
  },
  {
   "cell_type": "code",
   "execution_count": null,
   "id": "26886d2f",
   "metadata": {},
   "outputs": [],
   "source": [
    "log file\n",
    "\n",
    "\n",
    "facebook:\n",
    "    1st login\n",
    "    last successful\n",
    "    last unsuccessful\n",
    "    active session\n",
    "upload time and date\n",
    "logistic regression >>> 30 min start and end \n",
    "KNN >> 50 min "
   ]
  },
  {
   "cell_type": "code",
   "execution_count": null,
   "id": "f84f6d13",
   "metadata": {},
   "outputs": [],
   "source": [
    "date1 = 15-08-2022\n",
    "date2 = 15 Aug 2022\n",
    "date3 = 15 August 2022\n",
    "date4 = 15.08.2022\n",
    "date5 = 2022-08-15"
   ]
  },
  {
   "cell_type": "code",
   "execution_count": null,
   "id": "362c51ab",
   "metadata": {},
   "outputs": [],
   "source": [
    "import time    >>> for time\n",
    "import datetime  >> for datetime"
   ]
  },
  {
   "cell_type": "markdown",
   "id": "79778de8",
   "metadata": {},
   "source": [
    "# Time()"
   ]
  },
  {
   "cell_type": "code",
   "execution_count": null,
   "id": "4b12dc99",
   "metadata": {},
   "outputs": [],
   "source": [
    "start time , end time, total time, sleep time, elapsed time, "
   ]
  },
  {
   "cell_type": "code",
   "execution_count": 9,
   "id": "b9e1473d",
   "metadata": {},
   "outputs": [
    {
     "data": {
      "text/plain": [
       "1660575334.8072076"
      ]
     },
     "execution_count": 9,
     "metadata": {},
     "output_type": "execute_result"
    }
   ],
   "source": [
    "time.time()   #>> epoch time in seconds since  1 Jan 1970 UTC"
   ]
  },
  {
   "cell_type": "markdown",
   "id": "a8bf4691",
   "metadata": {},
   "source": [
    "### 1. time.time()"
   ]
  },
  {
   "cell_type": "code",
   "execution_count": 10,
   "id": "160c8640",
   "metadata": {},
   "outputs": [
    {
     "name": "stdout",
     "output_type": "stream",
     "text": [
      "total_time requitrd for processing 0.2038724422454834\n"
     ]
    }
   ],
   "source": [
    "start_time = time.time()\n",
    "for i in range(2000000):\n",
    "    pass\n",
    "end_time = time.time()\n",
    "\n",
    "total_time = end_time - start_time\n",
    "print('total_time requitrd for processing',total_time)"
   ]
  },
  {
   "cell_type": "code",
   "execution_count": 11,
   "id": "9c0fe675",
   "metadata": {},
   "outputs": [
    {
     "name": "stdout",
     "output_type": "stream",
     "text": [
      "total_time requitrd for processing 16.748430490493774\n"
     ]
    }
   ],
   "source": [
    "start_time = time.time()\n",
    "for i in range(200000000):\n",
    "    pass\n",
    "end_time = time.time()\n",
    "\n",
    "total_time = end_time - start_time\n",
    "print('total_time requitrd for processing',total_time)"
   ]
  },
  {
   "cell_type": "code",
   "execution_count": 12,
   "id": "e20b9601",
   "metadata": {},
   "outputs": [
    {
     "name": "stdout",
     "output_type": "stream",
     "text": [
      "Testing time taken by function\n",
      "total_time requitrd for processing 0.9621827602386475\n"
     ]
    }
   ],
   "source": [
    "start_time = time.time()\n",
    "\n",
    "def test_time():\n",
    "    print('Testing time taken by function')\n",
    "    for i in range(30000000):\n",
    "        pass\n",
    "test_time()\n",
    "end_time = time.time()\n",
    "total_time = end_time - start_time\n",
    "print('total_time requitrd for processing',total_time)"
   ]
  },
  {
   "cell_type": "code",
   "execution_count": 13,
   "id": "311ff4d7",
   "metadata": {},
   "outputs": [
    {
     "name": "stdout",
     "output_type": "stream",
     "text": [
      "Testing time taken by function\n",
      "total_time requitrd for processing 9.302114486694336\n"
     ]
    }
   ],
   "source": [
    "start_time = time.time()\n",
    "\n",
    "def test_time():\n",
    "    print('Testing time taken by function')\n",
    "    for i in range(300000000):\n",
    "        pass\n",
    "test_time()\n",
    "end_time = time.time()\n",
    "total_time = end_time - start_time\n",
    "print('total_time requitrd for processing',total_time)"
   ]
  },
  {
   "cell_type": "markdown",
   "id": "7076a7d6",
   "metadata": {},
   "source": [
    "### 2. time.perf_counter()"
   ]
  },
  {
   "cell_type": "code",
   "execution_count": 16,
   "id": "8c45478f",
   "metadata": {},
   "outputs": [
    {
     "name": "stdout",
     "output_type": "stream",
     "text": [
      "Testing time taken by function\n",
      "Testing time taken by function 10.779062000000067\n"
     ]
    }
   ],
   "source": [
    "start_time = time.perf_counter()\n",
    "\n",
    "def test_time():\n",
    "    print('Testing time taken by function')\n",
    "    for i in range(300000000):\n",
    "        pass\n",
    "test_time()\n",
    "end_time = time.perf_counter()\n",
    "total_time = end_time - start_time\n",
    "print('Testing time taken by function',total_time)"
   ]
  },
  {
   "cell_type": "markdown",
   "id": "aa5f1494",
   "metadata": {},
   "source": [
    "### 3. time.sleep()"
   ]
  },
  {
   "cell_type": "code",
   "execution_count": 18,
   "id": "70025f37",
   "metadata": {},
   "outputs": [
    {
     "name": "stdout",
     "output_type": "stream",
     "text": [
      "python\n",
      "Data Science\n"
     ]
    }
   ],
   "source": [
    "print('python')\n",
    "print('Data Science')"
   ]
  },
  {
   "cell_type": "code",
   "execution_count": 19,
   "id": "a4d631c4",
   "metadata": {},
   "outputs": [
    {
     "name": "stdout",
     "output_type": "stream",
     "text": [
      "python\n",
      "Data Science\n"
     ]
    }
   ],
   "source": [
    "print('python')   #instant execution\n",
    "time.sleep(5)\n",
    "print('Data Science')    # it should be executed after 5  sec "
   ]
  },
  {
   "cell_type": "code",
   "execution_count": 22,
   "id": "b4982eb4",
   "metadata": {},
   "outputs": [
    {
     "name": "stdout",
     "output_type": "stream",
     "text": [
      "python\n",
      "Data Science\n",
      "Data Science\n"
     ]
    }
   ],
   "source": [
    "print('python')   \n",
    "time.sleep(0.003)\n",
    "print('Data Science') \n",
    "time.sleep(0.4)\n",
    "print('Data Science') \n",
    "time.sleep(0.4)"
   ]
  },
  {
   "cell_type": "code",
   "execution_count": 23,
   "id": "0b73fdd6",
   "metadata": {},
   "outputs": [
    {
     "name": "stdout",
     "output_type": "stream",
     "text": [
      "python\n",
      "Data Science\n",
      "Data Science\n",
      "total_time requitrd for processing 9.026890277862549\n"
     ]
    }
   ],
   "source": [
    "start_time = time.time()\n",
    "print('python')   \n",
    "time.sleep(2)\n",
    "print('Data Science') \n",
    "time.sleep(3)\n",
    "print('Data Science') \n",
    "time.sleep(4)\n",
    "\n",
    "end_time = time.time()\n",
    "total_time = end_time - start_time\n",
    "print('total_time requitrd for processing',total_time)"
   ]
  },
  {
   "cell_type": "code",
   "execution_count": 24,
   "id": "0aca4597",
   "metadata": {},
   "outputs": [
    {
     "name": "stdout",
     "output_type": "stream",
     "text": [
      "python\n",
      "Data Science\n",
      "Data Science\n",
      "total_time requitrd for processing 9.017298698425293\n"
     ]
    }
   ],
   "source": [
    "start_time = time.time()\n",
    "def test():\n",
    "    print('python')   \n",
    "    time.sleep(2)\n",
    "    print('Data Science') \n",
    "    time.sleep(3)\n",
    "    print('Data Science') \n",
    "    time.sleep(4)\n",
    "\n",
    "test()\n",
    "\n",
    "end_time = time.time()\n",
    "total_time = end_time - start_time\n",
    "print('total_time requitrd for processing',total_time)"
   ]
  },
  {
   "cell_type": "markdown",
   "id": "2bb993f1",
   "metadata": {},
   "source": [
    "# Datetime()"
   ]
  },
  {
   "cell_type": "markdown",
   "id": "2bf054d3",
   "metadata": {},
   "source": [
    "### 1. Current Datetime"
   ]
  },
  {
   "cell_type": "code",
   "execution_count": 27,
   "id": "ecaed228",
   "metadata": {},
   "outputs": [
    {
     "data": {
      "text/plain": [
       "datetime.datetime(2022, 8, 15, 20, 45, 38, 137691)"
      ]
     },
     "execution_count": 27,
     "metadata": {},
     "output_type": "execute_result"
    }
   ],
   "source": [
    "import datetime\n",
    "cutrretnt_datetime = datetime.datetime.now()\n",
    "cutrretnt_datetime    # year , month , date, hour, minute, second, nsec"
   ]
  },
  {
   "cell_type": "markdown",
   "id": "6a9cc282",
   "metadata": {},
   "source": [
    "### now()"
   ]
  },
  {
   "cell_type": "code",
   "execution_count": 44,
   "id": "7cd0f507",
   "metadata": {},
   "outputs": [
    {
     "name": "stdout",
     "output_type": "stream",
     "text": [
      "Current Datetime:  2022-08-15 20:53:44.593599\n"
     ]
    }
   ],
   "source": [
    "cutrretnt_datetime = datetime.datetime.now()\n",
    "print('Current Datetime: ',cutrretnt_datetime)"
   ]
  },
  {
   "cell_type": "markdown",
   "id": "8cc4ccf8",
   "metadata": {},
   "source": [
    "### today()"
   ]
  },
  {
   "cell_type": "code",
   "execution_count": 36,
   "id": "25294b7e",
   "metadata": {},
   "outputs": [
    {
     "name": "stdout",
     "output_type": "stream",
     "text": [
      "Today Datetime:  2022-08-15 20:48:50.899529\n"
     ]
    }
   ],
   "source": [
    "cutrretnt_datetime = datetime.datetime.today()\n",
    "print('Today Datetime: ',cutrretnt_datetime)"
   ]
  },
  {
   "cell_type": "markdown",
   "id": "589a5ac3",
   "metadata": {},
   "source": [
    "### current_date()"
   ]
  },
  {
   "cell_type": "code",
   "execution_count": 37,
   "id": "18984b93",
   "metadata": {},
   "outputs": [
    {
     "name": "stdout",
     "output_type": "stream",
     "text": [
      "Current Date:  2022-08-15\n"
     ]
    }
   ],
   "source": [
    "current_date = datetime.datetime.now().date()\n",
    "print('Current Date: ',current_date)"
   ]
  },
  {
   "cell_type": "code",
   "execution_count": 42,
   "id": "338f058c",
   "metadata": {},
   "outputs": [
    {
     "name": "stdout",
     "output_type": "stream",
     "text": [
      "Current Date:  2022-08-15\n"
     ]
    }
   ],
   "source": [
    "current_date = datetime.datetime.today().date()\n",
    "print('Current Date: ',current_date)"
   ]
  },
  {
   "cell_type": "markdown",
   "id": "7495e1dc",
   "metadata": {},
   "source": [
    "### current time"
   ]
  },
  {
   "cell_type": "code",
   "execution_count": 40,
   "id": "edd27ff8",
   "metadata": {},
   "outputs": [
    {
     "name": "stdout",
     "output_type": "stream",
     "text": [
      "Current time:  20:52:35.672695\n"
     ]
    }
   ],
   "source": [
    "current_time = datetime.datetime.now().time()\n",
    "print('Current time: ',current_time)"
   ]
  },
  {
   "cell_type": "code",
   "execution_count": 41,
   "id": "4053a5a2",
   "metadata": {},
   "outputs": [
    {
     "name": "stdout",
     "output_type": "stream",
     "text": [
      "Current time:  20:52:56.710205\n"
     ]
    }
   ],
   "source": [
    "current_time = datetime.datetime.today().time()\n",
    "print('Current time: ',current_time)"
   ]
  },
  {
   "cell_type": "code",
   "execution_count": 45,
   "id": "b5037d26",
   "metadata": {},
   "outputs": [
    {
     "data": {
      "text/plain": [
       "2022"
      ]
     },
     "execution_count": 45,
     "metadata": {},
     "output_type": "execute_result"
    }
   ],
   "source": [
    "cutrretnt_datetime.year"
   ]
  },
  {
   "cell_type": "code",
   "execution_count": 46,
   "id": "32788369",
   "metadata": {},
   "outputs": [
    {
     "data": {
      "text/plain": [
       "8"
      ]
     },
     "execution_count": 46,
     "metadata": {},
     "output_type": "execute_result"
    }
   ],
   "source": [
    "cutrretnt_datetime.month"
   ]
  },
  {
   "cell_type": "code",
   "execution_count": 47,
   "id": "f065a423",
   "metadata": {},
   "outputs": [
    {
     "data": {
      "text/plain": [
       "15"
      ]
     },
     "execution_count": 47,
     "metadata": {},
     "output_type": "execute_result"
    }
   ],
   "source": [
    "cutrretnt_datetime.day"
   ]
  },
  {
   "cell_type": "code",
   "execution_count": 48,
   "id": "e25bf613",
   "metadata": {},
   "outputs": [
    {
     "data": {
      "text/plain": [
       "20"
      ]
     },
     "execution_count": 48,
     "metadata": {},
     "output_type": "execute_result"
    }
   ],
   "source": [
    "cutrretnt_datetime.hour"
   ]
  },
  {
   "cell_type": "code",
   "execution_count": 49,
   "id": "95aedea1",
   "metadata": {},
   "outputs": [
    {
     "data": {
      "text/plain": [
       "53"
      ]
     },
     "execution_count": 49,
     "metadata": {},
     "output_type": "execute_result"
    }
   ],
   "source": [
    "cutrretnt_datetime.minute"
   ]
  },
  {
   "cell_type": "markdown",
   "id": "4c3fc1a5",
   "metadata": {},
   "source": [
    "## TimeDelta"
   ]
  },
  {
   "cell_type": "code",
   "execution_count": 52,
   "id": "36063ae6",
   "metadata": {},
   "outputs": [
    {
     "name": "stdout",
     "output_type": "stream",
     "text": [
      "Current time:  2022-08-15 20:56:21.299297\n"
     ]
    }
   ],
   "source": [
    "current_datetime = datetime.datetime.today()\n",
    "print('Current time: ',current_datetime)"
   ]
  },
  {
   "cell_type": "code",
   "execution_count": 54,
   "id": "0b364ce8",
   "metadata": {},
   "outputs": [
    {
     "name": "stdout",
     "output_type": "stream",
     "text": [
      "New_Date: 2022-08-25 20:56:21.299297\n"
     ]
    }
   ],
   "source": [
    "new_date = current_datetime + datetime.timedelta(days=10)\n",
    "print('New_Date:',new_date)"
   ]
  },
  {
   "cell_type": "code",
   "execution_count": 55,
   "id": "8d45640e",
   "metadata": {},
   "outputs": [
    {
     "name": "stdout",
     "output_type": "stream",
     "text": [
      "New_Date: 2022-08-05 20:56:21.299297\n"
     ]
    }
   ],
   "source": [
    "new_date = current_datetime + datetime.timedelta(days= -10)\n",
    "print('New_Date:',new_date)"
   ]
  },
  {
   "cell_type": "code",
   "execution_count": 56,
   "id": "4b08b5a1",
   "metadata": {},
   "outputs": [
    {
     "name": "stdout",
     "output_type": "stream",
     "text": [
      "New_Date: 2023-08-15 20:56:21.299297\n"
     ]
    }
   ],
   "source": [
    "new_date = current_datetime + datetime.timedelta(days=365)\n",
    "print('New_Date:',new_date)"
   ]
  },
  {
   "cell_type": "code",
   "execution_count": 57,
   "id": "94232072",
   "metadata": {},
   "outputs": [
    {
     "name": "stdout",
     "output_type": "stream",
     "text": [
      "New_Date: 2022-11-23 20:56:21.299297\n"
     ]
    }
   ],
   "source": [
    "new_date = current_datetime + datetime.timedelta(days=100)\n",
    "print('New_Date:',new_date)"
   ]
  },
  {
   "cell_type": "code",
   "execution_count": 58,
   "id": "e0cf33dd",
   "metadata": {},
   "outputs": [
    {
     "name": "stdout",
     "output_type": "stream",
     "text": [
      "New_Date: 2022-05-07 20:56:21.299297\n"
     ]
    }
   ],
   "source": [
    "new_date = current_datetime + datetime.timedelta(days=-100)\n",
    "print('New_Date:',new_date)"
   ]
  },
  {
   "cell_type": "code",
   "execution_count": 59,
   "id": "70636733",
   "metadata": {},
   "outputs": [
    {
     "name": "stdout",
     "output_type": "stream",
     "text": [
      "Date is : 2022-08-10 20:56:21.299297\n",
      "Date is : 2022-08-11 20:56:21.299297\n",
      "Date is : 2022-08-12 20:56:21.299297\n",
      "Date is : 2022-08-13 20:56:21.299297\n",
      "Date is : 2022-08-14 20:56:21.299297\n",
      "Date is : 2022-08-15 20:56:21.299297\n",
      "Date is : 2022-08-16 20:56:21.299297\n",
      "Date is : 2022-08-17 20:56:21.299297\n",
      "Date is : 2022-08-18 20:56:21.299297\n",
      "Date is : 2022-08-19 20:56:21.299297\n",
      "Date is : 2022-08-20 20:56:21.299297\n"
     ]
    }
   ],
   "source": [
    "for i in range(-5,6):\n",
    "    new_date = current_datetime + datetime.timedelta(days=i)\n",
    "    print('Date is :',new_date)"
   ]
  },
  {
   "cell_type": "markdown",
   "id": "d0a8712a",
   "metadata": {},
   "source": [
    "## 1. strftime()"
   ]
  },
  {
   "cell_type": "code",
   "execution_count": null,
   "id": "06e0a85b",
   "metadata": {},
   "outputs": [],
   "source": [
    "strftime >>> string from time object"
   ]
  },
  {
   "cell_type": "code",
   "execution_count": 60,
   "id": "25bba336",
   "metadata": {},
   "outputs": [
    {
     "name": "stdout",
     "output_type": "stream",
     "text": [
      "Current time:  2022-08-15 21:01:13.196983\n"
     ]
    }
   ],
   "source": [
    "current_datetime = datetime.datetime.today()\n",
    "print('Current time: ',current_datetime)"
   ]
  },
  {
   "cell_type": "code",
   "execution_count": null,
   "id": "90b9f082",
   "metadata": {},
   "outputs": [],
   "source": [
    "2022-08-15   >> \"15 Aug 2022\"\n",
    "2022-08-15   >> \"15 August 2022\"\n",
    "2022-08-15   >> \"15/08/2022\""
   ]
  },
  {
   "cell_type": "code",
   "execution_count": 75,
   "id": "3f824981",
   "metadata": {},
   "outputs": [
    {
     "name": "stdout",
     "output_type": "stream",
     "text": [
      "Current time:  2022-08-15 21:13:10.737253\n"
     ]
    },
    {
     "data": {
      "text/plain": [
       "'PM'"
      ]
     },
     "execution_count": 75,
     "metadata": {},
     "output_type": "execute_result"
    }
   ],
   "source": [
    "current_datetime = datetime.datetime.today()\n",
    "print('Current time: ',current_datetime)\n",
    "\n",
    "# Year\n",
    "current_datetime.strftime('%Y')    # year  2022\n",
    "\n",
    "current_datetime.strftime('%y')     # year 22\n",
    "\n",
    "#Month\n",
    "current_datetime.strftime('%m')   #month 08\n",
    "  \n",
    "current_datetime.strftime('%B')   # month June, August, February, May\n",
    "\n",
    "current_datetime.strftime('%b')   # Abbrivated month Aug Jan Feb\n",
    "\n",
    "# Date\n",
    "current_datetime.strftime('%d')   #Day 15\n",
    "\n",
    "# weekday\n",
    "current_datetime.strftime('%A')   # Full Name of weekday >>Monday, Friday\n",
    "\n",
    "current_datetime.strftime('%a')    # abbrivated name of weekday Mon, Tue\n",
    "\n",
    "current_datetime.strftime('%w')   # Weekday Number Sun=0, Mon=1,Tue=2\n",
    "\n",
    "#Day number\n",
    "current_datetime.strftime('%j')   # day number from year\n",
    "\n",
    "#Weekday Number\n",
    "current_datetime.strftime('%U')  # weekday number of year\n",
    "\n",
    "#AM or PM\n",
    "current_datetime.strftime('%p')   #AM / PM"
   ]
  },
  {
   "cell_type": "code",
   "execution_count": 87,
   "id": "1d9c27b2",
   "metadata": {},
   "outputs": [
    {
     "name": "stdout",
     "output_type": "stream",
     "text": [
      "Current time:  2022-01-01 00:00:00\n"
     ]
    },
    {
     "data": {
      "text/plain": [
       "'AM'"
      ]
     },
     "execution_count": 87,
     "metadata": {},
     "output_type": "execute_result"
    }
   ],
   "source": [
    "current_datetime = datetime.datetime(2022,1,1)\n",
    "print('Current time: ',current_datetime)\n",
    "\n",
    "# Year\n",
    "current_datetime.strftime('%Y')    # year  2022\n",
    "\n",
    "current_datetime.strftime('%y')     # year 22\n",
    "\n",
    "#Month\n",
    "current_datetime.strftime('%m')   #month 08\n",
    "  \n",
    "current_datetime.strftime('%B')   # month June, August, February, May\n",
    "\n",
    "current_datetime.strftime('%b')   # Abbrivated month Aug Jan Feb\n",
    "\n",
    "# # Date\n",
    "current_datetime.strftime('%d')   #Day 15\n",
    "\n",
    "# # weekday\n",
    "current_datetime.strftime('%A')   # Full Name of weekday >>Monday, Friday\n",
    "\n",
    "current_datetime.strftime('%a')    # abbrivated name of weekday Mon, Tue\n",
    "\n",
    "current_datetime.strftime('%w')   # Weekday Number Sun=0, Mon=1,Tue=2\n",
    "\n",
    "# #Day number\n",
    "current_datetime.strftime('%j')   # day number from year\n",
    "\n",
    "# #Weekday Number\n",
    "current_datetime.strftime('%U')  # weekday number of year\n",
    "\n",
    "# #AM or PM\n",
    "current_datetime.strftime('%p')   #AM / PM"
   ]
  },
  {
   "cell_type": "code",
   "execution_count": 92,
   "id": "569ce36e",
   "metadata": {},
   "outputs": [
    {
     "name": "stdout",
     "output_type": "stream",
     "text": [
      "Current time:  1947-08-15 00:00:00\n"
     ]
    },
    {
     "data": {
      "text/plain": [
       "'AM'"
      ]
     },
     "execution_count": 92,
     "metadata": {},
     "output_type": "execute_result"
    }
   ],
   "source": [
    "current_datetime = datetime.datetime(1947,8,15)\n",
    "print('Current time: ',current_datetime)\n",
    "\n",
    "# Year\n",
    "current_datetime.strftime('%Y')    # year  2022\n",
    "\n",
    "current_datetime.strftime('%y')     # year 22\n",
    "\n",
    "#Month\n",
    "current_datetime.strftime('%m')   #month 08\n",
    "  \n",
    "current_datetime.strftime('%B')   # month June, August, February, May\n",
    "\n",
    "current_datetime.strftime('%b')   # Abbrivated month Aug Jan Feb\n",
    "\n",
    "# # Date\n",
    "# current_datetime.strftime('%d')   #Day 15\n",
    "\n",
    "# # weekday\n",
    "# current_datetime.strftime('%A')   # Full Name of weekday >>Monday, Friday\n",
    "\n",
    "# current_datetime.strftime('%a')    # abbrivated name of weekday Mon, Tue\n",
    "\n",
    "current_datetime.strftime('%w')   # Weekday Number Sun=0, Mon=1,Tue=2\n",
    "\n",
    "# #Day number\n",
    "current_datetime.strftime('%j')   # day number from year\n",
    "\n",
    "# #Weekday Number\n",
    "current_datetime.strftime('%U')  # weekday number of year\n",
    "\n",
    "# #AM or PM\n",
    "current_datetime.strftime('%p')   #AM / PM"
   ]
  },
  {
   "cell_type": "code",
   "execution_count": 94,
   "id": "e956fa16",
   "metadata": {},
   "outputs": [
    {
     "name": "stdout",
     "output_type": "stream",
     "text": [
      "Current time:  2022-08-15 21:21:50.130632\n"
     ]
    }
   ],
   "source": [
    "current_datetime = datetime.datetime.today()\n",
    "print('Current time: ',current_datetime)\n",
    "\n",
    "\n",
    "date1= \"15-Aug-2022\"\n",
    "date2= \"15 August 2022\"\n",
    "date3= \"15/08/2022\""
   ]
  },
  {
   "cell_type": "code",
   "execution_count": 97,
   "id": "9275ae5f",
   "metadata": {},
   "outputs": [
    {
     "data": {
      "text/plain": [
       "'15.Aug.2022'"
      ]
     },
     "execution_count": 97,
     "metadata": {},
     "output_type": "execute_result"
    }
   ],
   "source": [
    "date1= \"15 Aug 2022\"\n",
    "current_datetime.strftime(\"%d.%b.%Y\")"
   ]
  },
  {
   "cell_type": "code",
   "execution_count": 98,
   "id": "8e0ab5c2",
   "metadata": {},
   "outputs": [
    {
     "data": {
      "text/plain": [
       "'15 August 2022'"
      ]
     },
     "execution_count": 98,
     "metadata": {},
     "output_type": "execute_result"
    }
   ],
   "source": [
    "date1= \"15 August 2022\"\n",
    "current_datetime.strftime(\"%d %B %Y\")"
   ]
  },
  {
   "cell_type": "code",
   "execution_count": 99,
   "id": "e002ece0",
   "metadata": {},
   "outputs": [
    {
     "data": {
      "text/plain": [
       "'15 08 2022'"
      ]
     },
     "execution_count": 99,
     "metadata": {},
     "output_type": "execute_result"
    }
   ],
   "source": [
    "date1= \"15 08 2022\"\n",
    "current_datetime.strftime(\"%d %m %Y\")"
   ]
  },
  {
   "cell_type": "code",
   "execution_count": 100,
   "id": "e1158260",
   "metadata": {},
   "outputs": [
    {
     "data": {
      "text/plain": [
       "'15/08/22'"
      ]
     },
     "execution_count": 100,
     "metadata": {},
     "output_type": "execute_result"
    }
   ],
   "source": [
    "date1= \"15/08/22\"\n",
    "current_datetime.strftime(\"%d/%m/%y\")"
   ]
  },
  {
   "cell_type": "code",
   "execution_count": 101,
   "id": "195db322",
   "metadata": {},
   "outputs": [
    {
     "data": {
      "text/plain": [
       "'2022 Aug 15'"
      ]
     },
     "execution_count": 101,
     "metadata": {},
     "output_type": "execute_result"
    }
   ],
   "source": [
    "date1= \"2022 Aug 15\"\n",
    "current_datetime.strftime(\"%Y %b %d\")"
   ]
  },
  {
   "cell_type": "code",
   "execution_count": 102,
   "id": "05459859",
   "metadata": {},
   "outputs": [
    {
     "data": {
      "text/plain": [
       "'2022.August.15'"
      ]
     },
     "execution_count": 102,
     "metadata": {},
     "output_type": "execute_result"
    }
   ],
   "source": [
    "date1= \"2022.August.15\"\n",
    "current_datetime.strftime(\"%Y.%B.%d\")"
   ]
  },
  {
   "cell_type": "markdown",
   "id": "9efc15d7",
   "metadata": {},
   "source": [
    "# strptime()"
   ]
  },
  {
   "cell_type": "code",
   "execution_count": 106,
   "id": "11f6f6fe",
   "metadata": {},
   "outputs": [
    {
     "name": "stdout",
     "output_type": "stream",
     "text": [
      "2022-08-15\n"
     ]
    }
   ],
   "source": [
    "date1= \"15/08/22\"\n",
    "date_format = \"%d/%m/%y\"\n",
    "new_date= datetime.datetime.strptime(date1,date_format).date()\n",
    "print(new_date)"
   ]
  },
  {
   "cell_type": "code",
   "execution_count": 107,
   "id": "a1dc0a7e",
   "metadata": {},
   "outputs": [
    {
     "name": "stdout",
     "output_type": "stream",
     "text": [
      "2022-08-15\n"
     ]
    }
   ],
   "source": [
    "date1= \"15.08.22\"\n",
    "date_format = \"%d.%m.%y\"\n",
    "new_date= datetime.datetime.strptime(date1,date_format).date()\n",
    "print(new_date)"
   ]
  },
  {
   "cell_type": "code",
   "execution_count": 108,
   "id": "e51adc88",
   "metadata": {},
   "outputs": [
    {
     "name": "stdout",
     "output_type": "stream",
     "text": [
      "2022-08-15\n"
     ]
    }
   ],
   "source": [
    "date1= \"15-08-22\"\n",
    "date_format = \"%d-%m-%y\"\n",
    "new_date= datetime.datetime.strptime(date1,date_format).date()\n",
    "print(new_date)"
   ]
  },
  {
   "cell_type": "code",
   "execution_count": null,
   "id": "477c08c9",
   "metadata": {},
   "outputs": [],
   "source": []
  }
 ],
 "metadata": {
  "kernelspec": {
   "display_name": "Python 3",
   "language": "python",
   "name": "python3"
  },
  "language_info": {
   "codemirror_mode": {
    "name": "ipython",
    "version": 3
   },
   "file_extension": ".py",
   "mimetype": "text/x-python",
   "name": "python",
   "nbconvert_exporter": "python",
   "pygments_lexer": "ipython3",
   "version": "3.8.8"
  }
 },
 "nbformat": 4,
 "nbformat_minor": 5
}
