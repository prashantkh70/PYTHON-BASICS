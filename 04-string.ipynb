{
 "cells": [
  {
   "cell_type": "markdown",
   "id": "2d74ea90",
   "metadata": {},
   "source": [
    "# String"
   ]
  },
  {
   "cell_type": "code",
   "execution_count": null,
   "id": "7a125b2f",
   "metadata": {},
   "outputs": [],
   "source": [
    "string is a collection of characters \n",
    "it is surrounded by single quotes, double quotes or triple (single or double ) quotes\n"
   ]
  },
  {
   "cell_type": "code",
   "execution_count": null,
   "id": "bc1cc6d7",
   "metadata": {},
   "outputs": [],
   "source": [
    "characters >> digits(0-9), space, special characters(#$%^&_.)"
   ]
  },
  {
   "cell_type": "code",
   "execution_count": null,
   "id": "5f28e42c",
   "metadata": {},
   "outputs": [],
   "source": [
    "we can not use single quotes inside single quotes\n",
    "we can not use double quotes inside double quotes\n",
    "we can not use triple quotes inside triple quotes\n",
    "\n",
    "we cam use single quotes and double quotes"
   ]
  },
  {
   "cell_type": "code",
   "execution_count": 1,
   "id": "921260ef",
   "metadata": {},
   "outputs": [
    {
     "name": "stdout",
     "output_type": "stream",
     "text": [
      "python\n"
     ]
    }
   ],
   "source": [
    "str1='python'\n",
    "print(str1)"
   ]
  },
  {
   "cell_type": "code",
   "execution_count": 2,
   "id": "896f0a83",
   "metadata": {},
   "outputs": [
    {
     "name": "stdout",
     "output_type": "stream",
     "text": [
      "python\n"
     ]
    }
   ],
   "source": [
    "str1=\"python\"\n",
    "print(str1)"
   ]
  },
  {
   "cell_type": "code",
   "execution_count": 3,
   "id": "c8f504c5",
   "metadata": {},
   "outputs": [
    {
     "name": "stdout",
     "output_type": "stream",
     "text": [
      "python\n"
     ]
    }
   ],
   "source": [
    "str1=\"\"\"python\"\"\"\n",
    "print(str1)"
   ]
  },
  {
   "cell_type": "code",
   "execution_count": 4,
   "id": "b1b74658",
   "metadata": {},
   "outputs": [
    {
     "name": "stdout",
     "output_type": "stream",
     "text": [
      "python\n"
     ]
    }
   ],
   "source": [
    "str1='''python'''\n",
    "print(str1)"
   ]
  },
  {
   "cell_type": "code",
   "execution_count": 5,
   "id": "9e5d1ee6",
   "metadata": {},
   "outputs": [
    {
     "ename": "SyntaxError",
     "evalue": "invalid syntax (<ipython-input-5-317455fb2783>, line 1)",
     "output_type": "error",
     "traceback": [
      "\u001b[1;36m  File \u001b[1;32m\"<ipython-input-5-317455fb2783>\"\u001b[1;36m, line \u001b[1;32m1\u001b[0m\n\u001b[1;33m    str2 = 'python and 'data' science'\u001b[0m\n\u001b[1;37m                        ^\u001b[0m\n\u001b[1;31mSyntaxError\u001b[0m\u001b[1;31m:\u001b[0m invalid syntax\n"
     ]
    }
   ],
   "source": [
    "str2 = 'python and 'data' science'\n",
    "print(str2)"
   ]
  },
  {
   "cell_type": "code",
   "execution_count": null,
   "id": "178ba77e",
   "metadata": {},
   "outputs": [],
   "source": []
  },
  {
   "cell_type": "code",
   "execution_count": 6,
   "id": "9984ad05",
   "metadata": {},
   "outputs": [
    {
     "name": "stdout",
     "output_type": "stream",
     "text": [
      "python and \"data\" science\n"
     ]
    }
   ],
   "source": [
    "str2 = 'python and \"data\" science'\n",
    "print(str2)"
   ]
  },
  {
   "cell_type": "code",
   "execution_count": 7,
   "id": "3ca558f5",
   "metadata": {},
   "outputs": [
    {
     "ename": "SyntaxError",
     "evalue": "invalid syntax (<ipython-input-7-30314b84eda9>, line 1)",
     "output_type": "error",
     "traceback": [
      "\u001b[1;36m  File \u001b[1;32m\"<ipython-input-7-30314b84eda9>\"\u001b[1;36m, line \u001b[1;32m1\u001b[0m\n\u001b[1;33m    str2 = \"python and \"data\" science\"\u001b[0m\n\u001b[1;37m                        ^\u001b[0m\n\u001b[1;31mSyntaxError\u001b[0m\u001b[1;31m:\u001b[0m invalid syntax\n"
     ]
    }
   ],
   "source": [
    "str2 = \"python and \"data\" science\"\n",
    "print(str2)"
   ]
  },
  {
   "cell_type": "code",
   "execution_count": 8,
   "id": "fe642f53",
   "metadata": {},
   "outputs": [
    {
     "name": "stdout",
     "output_type": "stream",
     "text": [
      "python and 'data' science\n"
     ]
    }
   ],
   "source": [
    "str2 = \"python and 'data' science\"\n",
    "print(str2)"
   ]
  },
  {
   "cell_type": "markdown",
   "id": "857a8720",
   "metadata": {},
   "source": [
    "# escape character"
   ]
  },
  {
   "cell_type": "code",
   "execution_count": null,
   "id": "1ef6d9e4",
   "metadata": {},
   "outputs": [],
   "source": [
    "backslash is escape character (\\)\n",
    "\n",
    "\\n >> new line\n",
    "\\t >> tab"
   ]
  },
  {
   "cell_type": "code",
   "execution_count": 9,
   "id": "ed40f86c",
   "metadata": {},
   "outputs": [
    {
     "name": "stdout",
     "output_type": "stream",
     "text": [
      "python and 'data' science\n"
     ]
    }
   ],
   "source": [
    "str2 = 'python and \\'data\\' science'\n",
    "print(str2)"
   ]
  },
  {
   "cell_type": "code",
   "execution_count": 10,
   "id": "cf04ffbc",
   "metadata": {},
   "outputs": [
    {
     "name": "stdout",
     "output_type": "stream",
     "text": [
      "python and \"data\" science\n"
     ]
    }
   ],
   "source": [
    "str2 = \"python and \\\"data\\\" science\"\n",
    "print(str2)"
   ]
  },
  {
   "cell_type": "code",
   "execution_count": 11,
   "id": "2d4f8994",
   "metadata": {},
   "outputs": [
    {
     "data": {
      "text/plain": [
       "'Data science is an interdisciplinary field that uses scientific methods, processes, algorithms and systems to extract knowledge and insights from noisy'"
      ]
     },
     "execution_count": 11,
     "metadata": {},
     "output_type": "execute_result"
    }
   ],
   "source": [
    "str3= 'Data science is an interdisciplinary field that uses scientific methods, processes, algorithms and systems to extract knowledge and insights from noisy'\n",
    "str3"
   ]
  },
  {
   "cell_type": "code",
   "execution_count": 21,
   "id": "651f57ce",
   "metadata": {},
   "outputs": [
    {
     "name": "stdout",
     "output_type": "stream",
     "text": [
      "Data science is an interdisciplinary \n",
      "field that uses scientific methods \n",
      "processes algorithms and systems to \n",
      "extract knowledge and insights from noisy\n"
     ]
    }
   ],
   "source": [
    "str3= \"Data science is an interdisciplinary \\nfield that uses scientific methods \\nprocesses algorithms and systems to \\nextract knowledge and insights from noisy\"\n",
    "print(str3)"
   ]
  },
  {
   "cell_type": "code",
   "execution_count": 22,
   "id": "840983ac",
   "metadata": {},
   "outputs": [
    {
     "name": "stdout",
     "output_type": "stream",
     "text": [
      "pythondatascience\n"
     ]
    }
   ],
   "source": [
    "str5=\"pythondatascience\"\n",
    "print(str5)"
   ]
  },
  {
   "cell_type": "code",
   "execution_count": 25,
   "id": "9004247b",
   "metadata": {},
   "outputs": [
    {
     "name": "stdout",
     "output_type": "stream",
     "text": [
      "python\tdata\tscience\n"
     ]
    }
   ],
   "source": [
    "# python data science\n",
    "str5=\"python\\tdata\\tscience\"\n",
    "print(str5)"
   ]
  },
  {
   "cell_type": "code",
   "execution_count": null,
   "id": "a5eb7d9b",
   "metadata": {},
   "outputs": [],
   "source": []
  }
 ],
 "metadata": {
  "kernelspec": {
   "display_name": "Python 3",
   "language": "python",
   "name": "python3"
  },
  "language_info": {
   "codemirror_mode": {
    "name": "ipython",
    "version": 3
   },
   "file_extension": ".py",
   "mimetype": "text/x-python",
   "name": "python",
   "nbconvert_exporter": "python",
   "pygments_lexer": "ipython3",
   "version": "3.8.8"
  }
 },
 "nbformat": 4,
 "nbformat_minor": 5
}
