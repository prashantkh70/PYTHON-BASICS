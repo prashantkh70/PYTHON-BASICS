{
 "cells": [
  {
   "cell_type": "markdown",
   "id": "d8c8f815",
   "metadata": {},
   "source": [
    "# Anaconda \n",
    "Virtual Environment (venv)"
   ]
  },
  {
   "cell_type": "code",
   "execution_count": null,
   "id": "4f897a53",
   "metadata": {},
   "outputs": [],
   "source": [
    "import os \n",
    "import re\n",
    "import pandas"
   ]
  },
  {
   "cell_type": "markdown",
   "id": "6d20a955",
   "metadata": {},
   "source": [
    "# use"
   ]
  },
  {
   "cell_type": "code",
   "execution_count": null,
   "id": "241fe8c9",
   "metadata": {},
   "outputs": [],
   "source": [
    "project1:   ##venv1    \n",
    "    python 3.8.2\n",
    "    sklearn 0.18.2\n",
    "    pandas 1.2\n",
    "\n",
    "project 2:   #venv2\n",
    "    python 3.9.0   # dependencies\n",
    "    sklearn 0.18.2\n",
    "    nltk 0.1.15\n",
    "    tensorflow\n",
    "    \n",
    "project 3:   #venv3\n",
    "    sklearn 0.1.1"
   ]
  },
  {
   "cell_type": "code",
   "execution_count": null,
   "id": "06945cd5",
   "metadata": {},
   "outputs": [],
   "source": [
    "requirement file:\n",
    "    python 3.9.0\n",
    "    sklearn 0.18.2\n",
    "    nltk 0.1.15\n",
    "    tensorflow\n",
    "    dot net\n",
    "    framework\n",
    "    flask\n",
    "    postman"
   ]
  },
  {
   "cell_type": "markdown",
   "id": "03e67365",
   "metadata": {},
   "source": [
    "# 1. Create Conda Env"
   ]
  },
  {
   "cell_type": "code",
   "execution_count": null,
   "id": "0fe7bd03",
   "metadata": {},
   "outputs": [],
   "source": [
    "conda create -n env_name\n",
    "\n",
    "conda create -n titanic_survival_prediction\n",
    "conda create -n iris_species"
   ]
  },
  {
   "cell_type": "markdown",
   "id": "c052402a",
   "metadata": {},
   "source": [
    "### 1.1 Create conda environment by  using yml file"
   ]
  },
  {
   "cell_type": "code",
   "execution_count": null,
   "id": "5327c720",
   "metadata": {},
   "outputs": [],
   "source": [
    "yml >> yet another markup language (yaml)\n",
    ">> used as data serialization language, used for writing configuration files."
   ]
  },
  {
   "cell_type": "code",
   "execution_count": null,
   "id": "91b6f8cb",
   "metadata": {},
   "outputs": [],
   "source": [
    "conda env create --file iris_data.yml"
   ]
  },
  {
   "cell_type": "markdown",
   "id": "da4cfa83",
   "metadata": {},
   "source": [
    "# 2. To Activate environment"
   ]
  },
  {
   "cell_type": "code",
   "execution_count": null,
   "id": "321f728e",
   "metadata": {},
   "outputs": [],
   "source": [
    "conda activate env_name\n",
    "\n",
    "conda activate iris_species"
   ]
  },
  {
   "cell_type": "markdown",
   "id": "c383982c",
   "metadata": {},
   "source": [
    "# 3. Deactivate conda environment"
   ]
  },
  {
   "cell_type": "code",
   "execution_count": null,
   "id": "2882bbe2",
   "metadata": {},
   "outputs": [],
   "source": [
    "conda deactivate"
   ]
  },
  {
   "cell_type": "markdown",
   "id": "8af1034f",
   "metadata": {},
   "source": [
    "# 4. Install libraries in conda env"
   ]
  },
  {
   "cell_type": "code",
   "execution_count": null,
   "id": "d6799f00",
   "metadata": {},
   "outputs": [],
   "source": [
    "conda install -c anaconda library name\n",
    "conda install -c anaconda scikit-lrarn\n",
    "conda install -c anaconda pandas"
   ]
  },
  {
   "cell_type": "markdown",
   "id": "019e7e41",
   "metadata": {},
   "source": [
    "# 5. Conda Env list"
   ]
  },
  {
   "cell_type": "code",
   "execution_count": null,
   "id": "9a4d4d79",
   "metadata": {},
   "outputs": [],
   "source": [
    "conda env list"
   ]
  },
  {
   "cell_type": "markdown",
   "id": "3ffaa7ac",
   "metadata": {},
   "source": [
    "# 6. create conda env file"
   ]
  },
  {
   "cell_type": "code",
   "execution_count": null,
   "id": "34867f8d",
   "metadata": {},
   "outputs": [],
   "source": [
    "conda env export > file_name.yml"
   ]
  },
  {
   "cell_type": "markdown",
   "id": "df38d0af",
   "metadata": {},
   "source": [
    "# 7. Delete env"
   ]
  },
  {
   "cell_type": "code",
   "execution_count": null,
   "id": "f1af3f69",
   "metadata": {},
   "outputs": [],
   "source": [
    "conda env remove -n env_name"
   ]
  },
  {
   "cell_type": "markdown",
   "id": "3c0c9dbc",
   "metadata": {},
   "source": [
    "# 8. create requirement file"
   ]
  },
  {
   "cell_type": "code",
   "execution_count": null,
   "id": "cdcd8280",
   "metadata": {},
   "outputs": [],
   "source": [
    "conda list -e > file_name.txt"
   ]
  },
  {
   "cell_type": "code",
   "execution_count": null,
   "id": "5dfc81d0",
   "metadata": {},
   "outputs": [],
   "source": []
  }
 ],
 "metadata": {
  "kernelspec": {
   "display_name": "Python 3",
   "language": "python",
   "name": "python3"
  },
  "language_info": {
   "codemirror_mode": {
    "name": "ipython",
    "version": 3
   },
   "file_extension": ".py",
   "mimetype": "text/x-python",
   "name": "python",
   "nbconvert_exporter": "python",
   "pygments_lexer": "ipython3",
   "version": "3.8.8"
  }
 },
 "nbformat": 4,
 "nbformat_minor": 5
}
