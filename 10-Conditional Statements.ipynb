{
 "cells": [
  {
   "cell_type": "code",
   "execution_count": null,
   "id": "7a38e8c3",
   "metadata": {},
   "outputs": [],
   "source": [
    "conditional statements >> decision making statement\n",
    "\n",
    "if\n",
    "elif >> else if\n",
    "else\n",
    "\n",
    ">> if statement cannot be empty\n",
    ">> else can be empty"
   ]
  },
  {
   "cell_type": "code",
   "execution_count": null,
   "id": "a834ae09",
   "metadata": {},
   "outputs": [],
   "source": [
    "if wheather is pleasent:\n",
    "    I will go to hike\n",
    "elif wheather is cloudy:\n",
    "    I will go to club\n",
    "else:\n",
    "    I will rest at home"
   ]
  },
  {
   "cell_type": "markdown",
   "id": "a35cd85b",
   "metadata": {},
   "source": [
    "# Syntax:"
   ]
  },
  {
   "cell_type": "code",
   "execution_count": null,
   "id": "f2900ce3",
   "metadata": {},
   "outputs": [],
   "source": [
    "if condition1: #True or False\n",
    "    statement1\n",
    "    statement2\n",
    "    statement3\n",
    "elif condition2: #True or False\n",
    "    statement4\n",
    "    statement5\n",
    "    statement6\n",
    "else:\n",
    "    statement7\n",
    "    statement8\n",
    "    statement9\n",
    "\n",
    "print(\"Over\")"
   ]
  },
  {
   "cell_type": "code",
   "execution_count": null,
   "id": "2d411cf3",
   "metadata": {},
   "outputs": [],
   "source": []
  },
  {
   "cell_type": "code",
   "execution_count": null,
   "id": "380ecf80",
   "metadata": {},
   "outputs": [],
   "source": [
    "if condition1: #True or False\n",
    "    statement1\n",
    "    statement2\n",
    "    statement3\n",
    "elif condition2: #True or False\n",
    "    statement4\n",
    "    statement5\n",
    "    statement6\n",
    "elif condition3: #True or False\n",
    "    statement4\n",
    "    statement5\n",
    "    statement6\n",
    "elif condition4: #True or False\n",
    "    statement4\n",
    "    statement5\n",
    "    statement6\n",
    "else:\n",
    "    statement7\n",
    "    statement8\n",
    "    statement9\n",
    "\n",
    "print(\"Over\")"
   ]
  },
  {
   "cell_type": "code",
   "execution_count": null,
   "id": "c2b612f3",
   "metadata": {},
   "outputs": [],
   "source": [
    "if condition1: #True or False\n",
    "    statement1\n",
    "    statement2\n",
    "    statement3\n",
    "if condition2: #True or False\n",
    "    statement4\n",
    "    statement5\n",
    "    statement6\n",
    "else:\n",
    "    statement7\n",
    "    statement8\n",
    "    statement9\n",
    "print(\"Over\")"
   ]
  },
  {
   "cell_type": "code",
   "execution_count": null,
   "id": "9c4fd916",
   "metadata": {},
   "outputs": [],
   "source": [
    "Valid Syntax\n",
    "\n",
    "if\n",
    "if >> else\n",
    "if >> elif\n",
    "if >> elif >> elif >> elif\n",
    "if >> elif >> else\n",
    "if >> elif >> elif >> elif >> else"
   ]
  },
  {
   "cell_type": "code",
   "execution_count": 1,
   "id": "eb1affd0",
   "metadata": {},
   "outputs": [
    {
     "name": "stdout",
     "output_type": "stream",
     "text": [
      "String is in lower case\n"
     ]
    }
   ],
   "source": [
    "string = 'python'\n",
    "if string.islower(): #True\n",
    "    print(\"String is in lower case\")"
   ]
  },
  {
   "cell_type": "code",
   "execution_count": 2,
   "id": "56f0135d",
   "metadata": {},
   "outputs": [
    {
     "name": "stdout",
     "output_type": "stream",
     "text": [
      "String is in lower case\n"
     ]
    }
   ],
   "source": [
    "string = 'python'\n",
    "if string.islower():\n",
    "    print(\"String is in lower case\")\n",
    "else:\n",
    "    print(\"String is not in lower case\")"
   ]
  },
  {
   "cell_type": "code",
   "execution_count": 3,
   "id": "cbd5cb7e",
   "metadata": {},
   "outputs": [
    {
     "name": "stdout",
     "output_type": "stream",
     "text": [
      "String is not in lower case\n"
     ]
    }
   ],
   "source": [
    "string = 'pyThon'\n",
    "if string.islower(): #False\n",
    "    print(\"String is in lower case\")\n",
    "else:\n",
    "    print(\"String is not in lower case\")"
   ]
  },
  {
   "cell_type": "code",
   "execution_count": 4,
   "id": "d35961fc",
   "metadata": {},
   "outputs": [
    {
     "name": "stdout",
     "output_type": "stream",
     "text": [
      "a is greater than b\n"
     ]
    }
   ],
   "source": [
    "a = 100\n",
    "b = 20\n",
    "if a > b: #True\n",
    "    print(\"a is greater than b\")\n",
    "elif a == b:\n",
    "    print(\"a is equals to b\")\n",
    "else:\n",
    "    print('a is less than b')"
   ]
  },
  {
   "cell_type": "code",
   "execution_count": 5,
   "id": "80778bf2",
   "metadata": {},
   "outputs": [
    {
     "name": "stdout",
     "output_type": "stream",
     "text": [
      "a is less than b\n"
     ]
    }
   ],
   "source": [
    "a = 100\n",
    "b = 200\n",
    "if a > b: #False\n",
    "    print(\"a is greater than b\")\n",
    "elif a == b: #False\n",
    "    print(\"a is equals to b\")\n",
    "else:                          #True\n",
    "    print('a is less than b')"
   ]
  },
  {
   "cell_type": "code",
   "execution_count": 6,
   "id": "82f54d88",
   "metadata": {},
   "outputs": [
    {
     "name": "stdout",
     "output_type": "stream",
     "text": [
      "a is equals to b\n"
     ]
    }
   ],
   "source": [
    "a = 100\n",
    "b = 100\n",
    "if a > b: \n",
    "    print(\"a is greater than b\")\n",
    "elif a == b: #True\n",
    "    print(\"a is equals to b\")\n",
    "else:\n",
    "    print('a is less than b')"
   ]
  },
  {
   "cell_type": "markdown",
   "id": "6c7330b0",
   "metadata": {},
   "source": [
    "# Operators"
   ]
  },
  {
   "cell_type": "markdown",
   "id": "dd5e57a1",
   "metadata": {},
   "source": [
    "### 1. Comparision Operator"
   ]
  },
  {
   "cell_type": "raw",
   "id": "fb71eb90",
   "metadata": {},
   "source": [
    "1. a == b #Equal Operator\n",
    "2. a != b # not equal \n",
    "3. a > b  # greater than\n",
    "4. a < b  # less than\n",
    "5. a >= b  # greater than or equal\n",
    "6. a <= b  # Less than or equal"
   ]
  },
  {
   "cell_type": "code",
   "execution_count": 7,
   "id": "8d0314ef",
   "metadata": {},
   "outputs": [],
   "source": [
    "a = 'python'\n",
    "b = 'Python'\n",
    "if a == b: #False\n",
    "    print('both strings are same')"
   ]
  },
  {
   "cell_type": "code",
   "execution_count": 8,
   "id": "6c1bc67f",
   "metadata": {},
   "outputs": [
    {
     "name": "stdout",
     "output_type": "stream",
     "text": [
      "both strings are same\n"
     ]
    }
   ],
   "source": [
    "a = 'Python'\n",
    "b = 'Python'\n",
    "if a == b: \n",
    "    print('both strings are same')"
   ]
  },
  {
   "cell_type": "code",
   "execution_count": 9,
   "id": "a7bafda1",
   "metadata": {},
   "outputs": [
    {
     "data": {
      "text/plain": [
       "False"
      ]
     },
     "execution_count": 9,
     "metadata": {},
     "output_type": "execute_result"
    }
   ],
   "source": [
    "a = 'python'\n",
    "b = 'Python' \n",
    "a == b"
   ]
  },
  {
   "cell_type": "code",
   "execution_count": 10,
   "id": "08af4d20",
   "metadata": {},
   "outputs": [
    {
     "name": "stdout",
     "output_type": "stream",
     "text": [
      "both numbers are same\n"
     ]
    }
   ],
   "source": [
    "a = 5\n",
    "b = 5\n",
    "if a == b: \n",
    "    print('both numbers are same')"
   ]
  },
  {
   "cell_type": "code",
   "execution_count": 11,
   "id": "c228a349",
   "metadata": {},
   "outputs": [
    {
     "data": {
      "text/plain": [
       "False"
      ]
     },
     "execution_count": 11,
     "metadata": {},
     "output_type": "execute_result"
    }
   ],
   "source": [
    "a = 80\n",
    "b = 90\n",
    "a == b"
   ]
  },
  {
   "cell_type": "code",
   "execution_count": 12,
   "id": "451936b2",
   "metadata": {},
   "outputs": [
    {
     "data": {
      "text/plain": [
       "True"
      ]
     },
     "execution_count": 12,
     "metadata": {},
     "output_type": "execute_result"
    }
   ],
   "source": [
    "a = 80\n",
    "b = 80\n",
    "a == b"
   ]
  },
  {
   "cell_type": "code",
   "execution_count": 13,
   "id": "8659e3ce",
   "metadata": {},
   "outputs": [
    {
     "data": {
      "text/plain": [
       "False"
      ]
     },
     "execution_count": 13,
     "metadata": {},
     "output_type": "execute_result"
    }
   ],
   "source": [
    "a = 80\n",
    "b = 80\n",
    "a != b"
   ]
  },
  {
   "cell_type": "code",
   "execution_count": 14,
   "id": "ef7a86bc",
   "metadata": {},
   "outputs": [
    {
     "data": {
      "text/plain": [
       "True"
      ]
     },
     "execution_count": 14,
     "metadata": {},
     "output_type": "execute_result"
    }
   ],
   "source": [
    "a = 70\n",
    "b = 80\n",
    "a != b"
   ]
  },
  {
   "cell_type": "code",
   "execution_count": 15,
   "id": "d79dd3fc",
   "metadata": {},
   "outputs": [
    {
     "data": {
      "text/plain": [
       "False"
      ]
     },
     "execution_count": 15,
     "metadata": {},
     "output_type": "execute_result"
    }
   ],
   "source": [
    "a = 70\n",
    "b = 80\n",
    "a > b"
   ]
  },
  {
   "cell_type": "code",
   "execution_count": 16,
   "id": "a44c55de",
   "metadata": {},
   "outputs": [
    {
     "data": {
      "text/plain": [
       "True"
      ]
     },
     "execution_count": 16,
     "metadata": {},
     "output_type": "execute_result"
    }
   ],
   "source": [
    "a = 90\n",
    "b = 80\n",
    "a > b"
   ]
  },
  {
   "cell_type": "code",
   "execution_count": 17,
   "id": "873d88bd",
   "metadata": {},
   "outputs": [
    {
     "data": {
      "text/plain": [
       "True"
      ]
     },
     "execution_count": 17,
     "metadata": {},
     "output_type": "execute_result"
    }
   ],
   "source": [
    "a = 80\n",
    "b = 80\n",
    "a >= b"
   ]
  },
  {
   "cell_type": "code",
   "execution_count": 18,
   "id": "bee816f9",
   "metadata": {},
   "outputs": [
    {
     "data": {
      "text/plain": [
       "True"
      ]
     },
     "execution_count": 18,
     "metadata": {},
     "output_type": "execute_result"
    }
   ],
   "source": [
    "a = 90\n",
    "b = 80\n",
    "a >= b"
   ]
  },
  {
   "cell_type": "code",
   "execution_count": 19,
   "id": "f1c34d04",
   "metadata": {},
   "outputs": [
    {
     "data": {
      "text/plain": [
       "True"
      ]
     },
     "execution_count": 19,
     "metadata": {},
     "output_type": "execute_result"
    }
   ],
   "source": [
    "a = 80\n",
    "b = 80\n",
    "a <= b"
   ]
  },
  {
   "cell_type": "code",
   "execution_count": 20,
   "id": "07a2dd2c",
   "metadata": {},
   "outputs": [
    {
     "data": {
      "text/plain": [
       "True"
      ]
     },
     "execution_count": 20,
     "metadata": {},
     "output_type": "execute_result"
    }
   ],
   "source": [
    "a = 50\n",
    "b = 80\n",
    "a <= b"
   ]
  },
  {
   "cell_type": "code",
   "execution_count": 21,
   "id": "ccd56b5c",
   "metadata": {},
   "outputs": [
    {
     "data": {
      "text/plain": [
       "True"
      ]
     },
     "execution_count": 21,
     "metadata": {},
     "output_type": "execute_result"
    }
   ],
   "source": [
    "a = 50.8\n",
    "b = 80.5\n",
    "a <= b"
   ]
  },
  {
   "cell_type": "code",
   "execution_count": 22,
   "id": "fc8fa5b5",
   "metadata": {},
   "outputs": [
    {
     "data": {
      "text/plain": [
       "True"
      ]
     },
     "execution_count": 22,
     "metadata": {},
     "output_type": "execute_result"
    }
   ],
   "source": [
    "a = 10.6\n",
    "b = 10.9\n",
    "a<=b"
   ]
  },
  {
   "cell_type": "code",
   "execution_count": 23,
   "id": "c2066360",
   "metadata": {},
   "outputs": [
    {
     "data": {
      "text/plain": [
       "False"
      ]
     },
     "execution_count": 23,
     "metadata": {},
     "output_type": "execute_result"
    }
   ],
   "source": [
    "a = 10.6\n",
    "b = 10.9\n",
    "a>=b"
   ]
  },
  {
   "cell_type": "code",
   "execution_count": 24,
   "id": "c944e038",
   "metadata": {},
   "outputs": [
    {
     "data": {
      "text/plain": [
       "True"
      ]
     },
     "execution_count": 24,
     "metadata": {},
     "output_type": "execute_result"
    }
   ],
   "source": [
    "str1 = 'python'\n",
    "str2 = 'python'\n",
    "str1 == str2"
   ]
  },
  {
   "cell_type": "code",
   "execution_count": 25,
   "id": "6138c529",
   "metadata": {},
   "outputs": [
    {
     "data": {
      "text/plain": [
       "False"
      ]
     },
     "execution_count": 25,
     "metadata": {},
     "output_type": "execute_result"
    }
   ],
   "source": [
    "str1 = 'python'\n",
    "str2 = 'class'\n",
    "str1 == str2"
   ]
  },
  {
   "cell_type": "code",
   "execution_count": 26,
   "id": "4e061ac6",
   "metadata": {},
   "outputs": [
    {
     "data": {
      "text/plain": [
       "False"
      ]
     },
     "execution_count": 26,
     "metadata": {},
     "output_type": "execute_result"
    }
   ],
   "source": [
    "str1 = 'python'\n",
    "str2 = 'class'\n",
    "len(str1) == len(str2)"
   ]
  },
  {
   "cell_type": "code",
   "execution_count": 27,
   "id": "6e556792",
   "metadata": {},
   "outputs": [
    {
     "data": {
      "text/plain": [
       "True"
      ]
     },
     "execution_count": 27,
     "metadata": {},
     "output_type": "execute_result"
    }
   ],
   "source": [
    "str1 = 'python'\n",
    "str2 = 'PYTHON'\n",
    "len(str1) == len(str2)"
   ]
  },
  {
   "cell_type": "markdown",
   "id": "5fd588f0",
   "metadata": {},
   "source": [
    "### Logical operator"
   ]
  },
  {
   "cell_type": "code",
   "execution_count": null,
   "id": "9ca68228",
   "metadata": {},
   "outputs": [],
   "source": [
    "1. and\n",
    "2. or\n",
    "3. not"
   ]
  },
  {
   "cell_type": "markdown",
   "id": "47dbf84b",
   "metadata": {},
   "source": [
    "#### 1. and"
   ]
  },
  {
   "cell_type": "code",
   "execution_count": null,
   "id": "de96de71",
   "metadata": {},
   "outputs": [],
   "source": [
    "True and True >> True\n",
    "True and False >> False\n",
    "False and True >> False\n",
    "False and False >> False"
   ]
  },
  {
   "cell_type": "markdown",
   "id": "556e4922",
   "metadata": {},
   "source": [
    "#### 2. or operator"
   ]
  },
  {
   "cell_type": "code",
   "execution_count": null,
   "id": "6badb94c",
   "metadata": {},
   "outputs": [],
   "source": [
    "True and True >> True\n",
    "True and False >> True\n",
    "False and True >> True\n",
    "False and False >> False"
   ]
  },
  {
   "cell_type": "code",
   "execution_count": null,
   "id": "ef26c113",
   "metadata": {},
   "outputs": [],
   "source": []
  },
  {
   "cell_type": "markdown",
   "id": "be7e364c",
   "metadata": {},
   "source": [
    "#### Largest Number"
   ]
  },
  {
   "cell_type": "code",
   "execution_count": 28,
   "id": "9bb8f643",
   "metadata": {},
   "outputs": [],
   "source": [
    "a = 100\n",
    "b = 30\n",
    "c = 500\n",
    "if a >b and a >c: #True and False >> False\n",
    "    print('a is the largest number')"
   ]
  },
  {
   "cell_type": "code",
   "execution_count": 29,
   "id": "2893d95e",
   "metadata": {},
   "outputs": [
    {
     "name": "stdout",
     "output_type": "stream",
     "text": [
      "a is the largest number\n"
     ]
    }
   ],
   "source": [
    "a = 800\n",
    "b = 30\n",
    "c = 500\n",
    "if a >b and a >c: #True and True >> True\n",
    "    print('a is the largest number')"
   ]
  },
  {
   "cell_type": "code",
   "execution_count": 30,
   "id": "f6d8466f",
   "metadata": {},
   "outputs": [
    {
     "name": "stdout",
     "output_type": "stream",
     "text": [
      "c is the largest number\n"
     ]
    }
   ],
   "source": [
    "a = 100\n",
    "b = 30\n",
    "c = 500\n",
    "if a >b and a >c:\n",
    "    print('a is the largest number')\n",
    "else:\n",
    "    print('c is the largest number')"
   ]
  },
  {
   "cell_type": "code",
   "execution_count": 31,
   "id": "419946de",
   "metadata": {},
   "outputs": [
    {
     "name": "stdout",
     "output_type": "stream",
     "text": [
      "a is the largest number\n"
     ]
    }
   ],
   "source": [
    "a = 600\n",
    "b = 30\n",
    "c = 500\n",
    "if a >b and a >c:\n",
    "    print('a is the largest number')\n",
    "else:\n",
    "    print('c is the largest number')"
   ]
  },
  {
   "cell_type": "markdown",
   "id": "34e77f2b",
   "metadata": {},
   "source": [
    "# User Input"
   ]
  },
  {
   "cell_type": "code",
   "execution_count": null,
   "id": "0887f9d3",
   "metadata": {},
   "outputs": [],
   "source": [
    "we can take inputs from user by using input functions\n",
    "this function will return string"
   ]
  },
  {
   "cell_type": "code",
   "execution_count": 33,
   "id": "f1255cdb",
   "metadata": {},
   "outputs": [
    {
     "name": "stdout",
     "output_type": "stream",
     "text": [
      "45\n"
     ]
    }
   ],
   "source": [
    "a =input()"
   ]
  },
  {
   "cell_type": "code",
   "execution_count": 34,
   "id": "73ceb17d",
   "metadata": {},
   "outputs": [
    {
     "data": {
      "text/plain": [
       "str"
      ]
     },
     "execution_count": 34,
     "metadata": {},
     "output_type": "execute_result"
    }
   ],
   "source": [
    "type(a)"
   ]
  },
  {
   "cell_type": "code",
   "execution_count": 35,
   "id": "611ef068",
   "metadata": {},
   "outputs": [
    {
     "name": "stdout",
     "output_type": "stream",
     "text": [
      "50\n"
     ]
    }
   ],
   "source": [
    "b = int(input())"
   ]
  },
  {
   "cell_type": "code",
   "execution_count": 36,
   "id": "8469422b",
   "metadata": {},
   "outputs": [
    {
     "data": {
      "text/plain": [
       "int"
      ]
     },
     "execution_count": 36,
     "metadata": {},
     "output_type": "execute_result"
    }
   ],
   "source": [
    "type(b)"
   ]
  },
  {
   "cell_type": "code",
   "execution_count": 37,
   "id": "ad5ff3d9",
   "metadata": {},
   "outputs": [
    {
     "name": "stdout",
     "output_type": "stream",
     "text": [
      "Enter the value of x:  60\n",
      "Enter the value of y:  45\n",
      "x = 60, type = <class 'str'>\n",
      "y = 45, type = <class 'str'>\n"
     ]
    }
   ],
   "source": [
    "x= input('Enter the value of x:  ')\n",
    "y= input('Enter the value of y:  ')\n",
    "\n",
    "print(f\"x = {x}, type = {type(x)}\")\n",
    "print(f\"y = {y}, type = {type(y)}\")"
   ]
  },
  {
   "cell_type": "code",
   "execution_count": 41,
   "id": "c2038170",
   "metadata": {},
   "outputs": [
    {
     "name": "stdout",
     "output_type": "stream",
     "text": [
      "Enter the value of x >>  89\n",
      "Enter the value of y:  6\n",
      "x = 89, type = <class 'int'>\n",
      "y = 6, type = <class 'str'>\n"
     ]
    }
   ],
   "source": [
    "x= int(input('Enter the value of x >>  '))\n",
    "y= input('Enter the value of y:  ')\n",
    "\n",
    "print(f\"x = {x}, type = {type(x)}\")\n",
    "print(f\"y = {y}, type = {type(y)}\")"
   ]
  },
  {
   "cell_type": "code",
   "execution_count": 42,
   "id": "b3998f2c",
   "metadata": {},
   "outputs": [
    {
     "name": "stdout",
     "output_type": "stream",
     "text": [
      "Enter the value of a: 10\n",
      "Enter the value of b: 20\n",
      "Enter the value of c: 30\n",
      "c is the largest number\n"
     ]
    }
   ],
   "source": [
    "a = int(input('Enter the value of a: '))\n",
    "b = int(input('Enter the value of b: '))\n",
    "c = int(input('Enter the value of c: '))\n",
    "\n",
    "if a > b and a > c:\n",
    "    print('a is the largest number')\n",
    "elif b > a and b > c:\n",
    "    print('b is the largest number')\n",
    "else:\n",
    "    print('c is the largest number')"
   ]
  },
  {
   "cell_type": "code",
   "execution_count": 43,
   "id": "66e9dab5",
   "metadata": {},
   "outputs": [
    {
     "name": "stdout",
     "output_type": "stream",
     "text": [
      "Enter the value of a: 6\n",
      "Enter the value of b: 5\n",
      "Enter the value of c: 4\n",
      "a is the largest number\n"
     ]
    }
   ],
   "source": [
    "a = int(input('Enter the value of a: '))\n",
    "b = int(input('Enter the value of b: '))\n",
    "c = int(input('Enter the value of c: '))\n",
    "\n",
    "if a > b and a > c:\n",
    "    print('a is the largest number')\n",
    "elif b > a and b > c:\n",
    "    print('b is the largest number')\n",
    "else:\n",
    "    print('c is the largest number')"
   ]
  },
  {
   "cell_type": "code",
   "execution_count": 44,
   "id": "bc16a531",
   "metadata": {},
   "outputs": [
    {
     "name": "stdout",
     "output_type": "stream",
     "text": [
      "Enter the value of a: 89\n",
      "Enter the value of b: 100\n",
      "Enter the value of c: 70\n",
      "b is the largest number\n"
     ]
    }
   ],
   "source": [
    "a = int(input('Enter the value of a: '))\n",
    "b = int(input('Enter the value of b: '))\n",
    "c = int(input('Enter the value of c: '))\n",
    "\n",
    "if a > b and a > c:\n",
    "    print('a is the largest number')\n",
    "elif b > a and b > c:\n",
    "    print('b is the largest number')\n",
    "else:\n",
    "    print('c is the largest number')"
   ]
  },
  {
   "cell_type": "code",
   "execution_count": 45,
   "id": "31c851e6",
   "metadata": {},
   "outputs": [
    {
     "name": "stdout",
     "output_type": "stream",
     "text": [
      "Enter the value of a: 89\n",
      "Enter the value of b: 100\n",
      "Enter the value of c: 70\n",
      "100 is the largest number\n"
     ]
    }
   ],
   "source": [
    "a = int(input('Enter the value of a: '))\n",
    "b = int(input('Enter the value of b: '))\n",
    "c = int(input('Enter the value of c: '))\n",
    "\n",
    "if a > b and a > c:\n",
    "    print(f'{a} is the largest number')\n",
    "elif b > a and b > c:\n",
    "    print(f'{b} is the largest number')\n",
    "else:\n",
    "    print(f'{c} is the largest number')"
   ]
  },
  {
   "cell_type": "code",
   "execution_count": 46,
   "id": "c4d4a806",
   "metadata": {},
   "outputs": [
    {
     "name": "stdout",
     "output_type": "stream",
     "text": [
      "Enter the value of a: 6\n",
      "Enter the value of b: 7\n",
      "Enter the value of c: 9\n",
      "9 is the largest number\n"
     ]
    }
   ],
   "source": [
    "a = int(input('Enter the value of a: '))\n",
    "b = int(input('Enter the value of b: '))\n",
    "c = int(input('Enter the value of c: '))\n",
    "\n",
    "if a > b and a > c:\n",
    "    print(f'{a} is the largest number')\n",
    "elif b > a and b > c:\n",
    "    print(f'{b} is the largest number')\n",
    "else:\n",
    "    print(f'{c} is the largest number')"
   ]
  },
  {
   "cell_type": "code",
   "execution_count": 47,
   "id": "48ccfa7c",
   "metadata": {},
   "outputs": [
    {
     "name": "stdout",
     "output_type": "stream",
     "text": [
      "Enter the value of a: 56\n",
      "Enter the value of b: 45\n",
      "Enter the value of c: 78\n",
      "78 is the largest number\n"
     ]
    }
   ],
   "source": [
    "a = int(input('Enter the value of a: '))\n",
    "b = int(input('Enter the value of b: '))\n",
    "c = int(input('Enter the value of c: '))\n",
    "\n",
    "if a > b and a > c:\n",
    "    print(f'{a} is the largest number')\n",
    "elif b > a and b > c:\n",
    "    print(f'{b} is the largest number')\n",
    "else:\n",
    "    print(f'{c} is the largest number')"
   ]
  },
  {
   "cell_type": "markdown",
   "id": "31c36a70",
   "metadata": {},
   "source": [
    "# Short Hand if statement"
   ]
  },
  {
   "cell_type": "code",
   "execution_count": 48,
   "id": "8c423138",
   "metadata": {},
   "outputs": [
    {
     "name": "stdout",
     "output_type": "stream",
     "text": [
      "a is equal to b\n"
     ]
    }
   ],
   "source": [
    "a = 5\n",
    "b = 5\n",
    "if a == b:\n",
    "    print('a is equal to b')"
   ]
  },
  {
   "cell_type": "code",
   "execution_count": 49,
   "id": "09c061eb",
   "metadata": {},
   "outputs": [
    {
     "name": "stdout",
     "output_type": "stream",
     "text": [
      "a is equal to b\n"
     ]
    }
   ],
   "source": [
    "a = 5\n",
    "b = 5\n",
    "if a == b: print('a is equal to b')"
   ]
  },
  {
   "cell_type": "markdown",
   "id": "a4429090",
   "metadata": {},
   "source": [
    "# Short Hand if- else Statement"
   ]
  },
  {
   "cell_type": "code",
   "execution_count": 50,
   "id": "6486d89d",
   "metadata": {},
   "outputs": [
    {
     "name": "stdout",
     "output_type": "stream",
     "text": [
      "a is greater than b\n"
     ]
    }
   ],
   "source": [
    "a = 6\n",
    "b = 5\n",
    "if a > b:\n",
    "    print('a is greater than b')\n",
    "else:\n",
    "    print(' a is less than or equal to b')"
   ]
  },
  {
   "cell_type": "code",
   "execution_count": 51,
   "id": "0d8148fe",
   "metadata": {},
   "outputs": [
    {
     "name": "stdout",
     "output_type": "stream",
     "text": [
      " a is less than or equal to b\n"
     ]
    }
   ],
   "source": [
    "a = 6\n",
    "b = 9\n",
    "if a > b:\n",
    "    print('a is greater than b')\n",
    "else:\n",
    "    print(' a is less than or equal to b')"
   ]
  },
  {
   "cell_type": "code",
   "execution_count": 52,
   "id": "bdeae832",
   "metadata": {},
   "outputs": [
    {
     "name": "stdout",
     "output_type": "stream",
     "text": [
      "a is greater than b\n"
     ]
    }
   ],
   "source": [
    "a = 6\n",
    "b = 5\n",
    "print('a is greater than b') if a > b else print('a is less than or equal to b')"
   ]
  },
  {
   "cell_type": "code",
   "execution_count": 53,
   "id": "510a1db1",
   "metadata": {},
   "outputs": [
    {
     "name": "stdout",
     "output_type": "stream",
     "text": [
      "20\n",
      "56\n",
      "a is less than or equal to b\n"
     ]
    }
   ],
   "source": [
    "a = int(input())\n",
    "b = int(input())\n",
    "print('a is greater than b') if a > b else print('a is less than or equal to b')"
   ]
  },
  {
   "cell_type": "code",
   "execution_count": 55,
   "id": "2e2e15e9",
   "metadata": {},
   "outputs": [
    {
     "name": "stdout",
     "output_type": "stream",
     "text": [
      "a is greater than b\n"
     ]
    }
   ],
   "source": [
    "a = 6\n",
    "b = 5\n",
    "print('a is greater than b') if a > b else print('a is less than or equal to b')"
   ]
  },
  {
   "cell_type": "markdown",
   "id": "6a615920",
   "metadata": {},
   "source": [
    "# pass statement"
   ]
  },
  {
   "cell_type": "code",
   "execution_count": null,
   "id": "eddbbd64",
   "metadata": {},
   "outputs": [],
   "source": [
    "it is used to avoid an errors in program while execution"
   ]
  },
  {
   "cell_type": "code",
   "execution_count": 56,
   "id": "63b1bf84",
   "metadata": {},
   "outputs": [
    {
     "name": "stdout",
     "output_type": "stream",
     "text": [
      "a is less than or equal to b\n"
     ]
    }
   ],
   "source": [
    "a = 6\n",
    "b = 6\n",
    "if a > b:\n",
    "    print('a is greater than b')\n",
    "else:\n",
    "    print('a is less than or equal to b')"
   ]
  },
  {
   "cell_type": "code",
   "execution_count": 57,
   "id": "4b653522",
   "metadata": {},
   "outputs": [
    {
     "ename": "SyntaxError",
     "evalue": "unexpected EOF while parsing (<ipython-input-57-7ce08af0903f>, line 6)",
     "output_type": "error",
     "traceback": [
      "\u001b[1;36m  File \u001b[1;32m\"<ipython-input-57-7ce08af0903f>\"\u001b[1;36m, line \u001b[1;32m6\u001b[0m\n\u001b[1;33m    #print('a is less than or equal to b')\u001b[0m\n\u001b[1;37m                                          ^\u001b[0m\n\u001b[1;31mSyntaxError\u001b[0m\u001b[1;31m:\u001b[0m unexpected EOF while parsing\n"
     ]
    }
   ],
   "source": [
    "a = 6\n",
    "b = 6\n",
    "if a > b:\n",
    "    print('a is greater than b')\n",
    "else:\n",
    "    #print('a is less than or equal to b')"
   ]
  },
  {
   "cell_type": "code",
   "execution_count": 58,
   "id": "6821de24",
   "metadata": {},
   "outputs": [],
   "source": [
    "a = 6\n",
    "b = 6\n",
    "if a > b:\n",
    "    print('a is greater than b')\n",
    "else:\n",
    "    #print('a is less than or equal to b')\n",
    "    pass"
   ]
  },
  {
   "cell_type": "code",
   "execution_count": 60,
   "id": "5293e81f",
   "metadata": {},
   "outputs": [
    {
     "name": "stdout",
     "output_type": "stream",
     "text": [
      "a is less than or equal to b\n"
     ]
    }
   ],
   "source": [
    "a = 6\n",
    "b = 6\n",
    "if a > b:\n",
    "    print('a is greater than b')\n",
    "    pass\n",
    "else:\n",
    "    pass\n",
    "    print('a is less than or equal to b')\n",
    "    "
   ]
  },
  {
   "cell_type": "code",
   "execution_count": 72,
   "id": "278da841",
   "metadata": {},
   "outputs": [
    {
     "name": "stdout",
     "output_type": "stream",
     "text": [
      "a is less than or equal to b\n"
     ]
    }
   ],
   "source": [
    "a = 66\n",
    "b = 6\n",
    "if a > b:\n",
    "    pass\n",
    "    \n",
    "else:\n",
    "    pass\n",
    "\n",
    "print('a is less than or equal to b')"
   ]
  },
  {
   "cell_type": "markdown",
   "id": "19c7106b",
   "metadata": {},
   "source": [
    "# Nested if else statement"
   ]
  },
  {
   "cell_type": "code",
   "execution_count": null,
   "id": "bb1bf4a7",
   "metadata": {},
   "outputs": [],
   "source": [
    "if block inside the if block"
   ]
  },
  {
   "cell_type": "code",
   "execution_count": 73,
   "id": "9ba5e801",
   "metadata": {},
   "outputs": [
    {
     "name": "stdout",
     "output_type": "stream",
     "text": [
      "a is greater than b\n",
      "x is greater than y\n"
     ]
    }
   ],
   "source": [
    "a = 60\n",
    "b = 20\n",
    "if a > b:\n",
    "    print('a is greater than b')\n",
    "    x = 100\n",
    "    y = 45\n",
    "    if x > y:\n",
    "        print('x is greater than y')\n",
    "else:\n",
    "    pass"
   ]
  },
  {
   "cell_type": "code",
   "execution_count": null,
   "id": "91d76ea6",
   "metadata": {},
   "outputs": [],
   "source": []
  }
 ],
 "metadata": {
  "kernelspec": {
   "display_name": "Python 3",
   "language": "python",
   "name": "python3"
  },
  "language_info": {
   "codemirror_mode": {
    "name": "ipython",
    "version": 3
   },
   "file_extension": ".py",
   "mimetype": "text/x-python",
   "name": "python",
   "nbconvert_exporter": "python",
   "pygments_lexer": "ipython3",
   "version": "3.8.8"
  }
 },
 "nbformat": 4,
 "nbformat_minor": 5
}
