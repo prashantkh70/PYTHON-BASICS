{
 "cells": [
  {
   "cell_type": "code",
   "execution_count": null,
   "id": "778144af",
   "metadata": {},
   "outputs": [],
   "source": [
    "variable are used to store data / hold values\n",
    "python is dynamically typed language i.e. no need to define data types."
   ]
  },
  {
   "cell_type": "markdown",
   "id": "e0d6f0e3",
   "metadata": {},
   "source": [
    "# Data Types"
   ]
  },
  {
   "cell_type": "code",
   "execution_count": null,
   "id": "19479e3b",
   "metadata": {},
   "outputs": [],
   "source": [
    "Numeric >> int, float, complex.\n",
    "text >> str\n",
    "sequence >> list, tuple,range, set, frozenset\n",
    "mapping >> dict >> { 'Name': \"Rahul\", 'age': 19}\n",
    "set datatypes >>set, frozenset\n",
    "boolean >> bool (True/ False)\n",
    "Nonetype>> None"
   ]
  },
  {
   "cell_type": "code",
   "execution_count": 1,
   "id": "451e8571",
   "metadata": {},
   "outputs": [
    {
     "data": {
      "text/plain": [
       "str"
      ]
     },
     "execution_count": 1,
     "metadata": {},
     "output_type": "execute_result"
    }
   ],
   "source": [
    "x = \"Velocity Python & DS\"\n",
    "type(x) #str"
   ]
  },
  {
   "cell_type": "code",
   "execution_count": 2,
   "id": "92ff60e2",
   "metadata": {},
   "outputs": [
    {
     "data": {
      "text/plain": [
       "int"
      ]
     },
     "execution_count": 2,
     "metadata": {},
     "output_type": "execute_result"
    }
   ],
   "source": [
    "a = 20\n",
    "type(a) # int"
   ]
  },
  {
   "cell_type": "code",
   "execution_count": 3,
   "id": "4945da6f",
   "metadata": {},
   "outputs": [
    {
     "data": {
      "text/plain": [
       "float"
      ]
     },
     "execution_count": 3,
     "metadata": {},
     "output_type": "execute_result"
    }
   ],
   "source": [
    "b = 20.5\n",
    "type(b)"
   ]
  },
  {
   "cell_type": "code",
   "execution_count": 4,
   "id": "aa305f67",
   "metadata": {},
   "outputs": [
    {
     "data": {
      "text/plain": [
       "complex"
      ]
     },
     "execution_count": 4,
     "metadata": {},
     "output_type": "execute_result"
    }
   ],
   "source": [
    "c = 6+8j\n",
    "type(c)"
   ]
  },
  {
   "cell_type": "code",
   "execution_count": 5,
   "id": "876de534",
   "metadata": {},
   "outputs": [
    {
     "data": {
      "text/plain": [
       "list"
      ]
     },
     "execution_count": 5,
     "metadata": {},
     "output_type": "execute_result"
    }
   ],
   "source": [
    "v = ['mango', 'tree',20]\n",
    "type(v)"
   ]
  },
  {
   "cell_type": "code",
   "execution_count": 6,
   "id": "7b1c9d5f",
   "metadata": {},
   "outputs": [
    {
     "data": {
      "text/plain": [
       "tuple"
      ]
     },
     "execution_count": 6,
     "metadata": {},
     "output_type": "execute_result"
    }
   ],
   "source": [
    "n = ('mango', 'tree',20)\n",
    "type(n)"
   ]
  },
  {
   "cell_type": "code",
   "execution_count": 7,
   "id": "c15cd9ab",
   "metadata": {},
   "outputs": [
    {
     "data": {
      "text/plain": [
       "range"
      ]
     },
     "execution_count": 7,
     "metadata": {},
     "output_type": "execute_result"
    }
   ],
   "source": [
    "z = range(10)\n",
    "type(z)"
   ]
  },
  {
   "cell_type": "code",
   "execution_count": 8,
   "id": "0723862c",
   "metadata": {},
   "outputs": [
    {
     "data": {
      "text/plain": [
       "dict"
      ]
     },
     "execution_count": 8,
     "metadata": {},
     "output_type": "execute_result"
    }
   ],
   "source": [
    "s = {'Name': \"Rahul\", 'age': 19}\n",
    "type(s)"
   ]
  },
  {
   "cell_type": "code",
   "execution_count": 9,
   "id": "a34aadd2",
   "metadata": {},
   "outputs": [
    {
     "data": {
      "text/plain": [
       "set"
      ]
     },
     "execution_count": 9,
     "metadata": {},
     "output_type": "execute_result"
    }
   ],
   "source": [
    "rahul = {'mango', 'tree',20}\n",
    "type(rahul)"
   ]
  },
  {
   "cell_type": "code",
   "execution_count": 10,
   "id": "8b8fc969",
   "metadata": {},
   "outputs": [
    {
     "data": {
      "text/plain": [
       "frozenset"
      ]
     },
     "execution_count": 10,
     "metadata": {},
     "output_type": "execute_result"
    }
   ],
   "source": [
    "g = frozenset({'mango', 'tree',20})\n",
    "type(g)"
   ]
  },
  {
   "cell_type": "code",
   "execution_count": 16,
   "id": "c2866b31",
   "metadata": {},
   "outputs": [
    {
     "name": "stdout",
     "output_type": "stream",
     "text": [
      "<class 'bool'>\n"
     ]
    }
   ],
   "source": [
    "w = False\n",
    "print(type(w))"
   ]
  },
  {
   "cell_type": "code",
   "execution_count": 13,
   "id": "66f8c047",
   "metadata": {},
   "outputs": [
    {
     "data": {
      "text/plain": [
       "NoneType"
      ]
     },
     "execution_count": 13,
     "metadata": {},
     "output_type": "execute_result"
    }
   ],
   "source": [
    "var = None\n",
    "type(var)"
   ]
  },
  {
   "cell_type": "markdown",
   "id": "c6d4549f",
   "metadata": {},
   "source": [
    "# Python Type Casting"
   ]
  },
  {
   "cell_type": "code",
   "execution_count": null,
   "id": "77b6d089",
   "metadata": {},
   "outputs": [],
   "source": [
    ">> used to specify variable type\n",
    ">> to change data type of variable"
   ]
  },
  {
   "cell_type": "code",
   "execution_count": null,
   "id": "9435d3c5",
   "metadata": {},
   "outputs": [],
   "source": [
    "int\n",
    "float\n",
    "complex\n",
    "\n",
    "int to float\n",
    "float to int\n",
    "int to complex \n",
    "float to complex\n"
   ]
  },
  {
   "cell_type": "markdown",
   "id": "c4fda96c",
   "metadata": {},
   "source": [
    "# 1. int to float"
   ]
  },
  {
   "cell_type": "code",
   "execution_count": 15,
   "id": "bb50d7a5",
   "metadata": {},
   "outputs": [
    {
     "name": "stdout",
     "output_type": "stream",
     "text": [
      "a= 45 <class 'int'>\n",
      "b= 45.0 <class 'float'>\n"
     ]
    }
   ],
   "source": [
    "a= 45\n",
    "b = float(a)\n",
    "print('a=',a, type(a)) #  a=45 int\n",
    "print('b=',b, type(b)) # b= 45.0 float"
   ]
  },
  {
   "cell_type": "code",
   "execution_count": 24,
   "id": "5836cd23",
   "metadata": {},
   "outputs": [
    {
     "name": "stdout",
     "output_type": "stream",
     "text": [
      "A >>  12457895 <class 'int'>\n",
      "b=== 12457895.0 <class 'float'>\n"
     ]
    }
   ],
   "source": [
    "A= 12457895\n",
    "b = float(A)\n",
    "print('A >> ',A, type(A)) \n",
    "print('b===',b, type(b)) "
   ]
  },
  {
   "cell_type": "markdown",
   "id": "757404a6",
   "metadata": {},
   "source": [
    "# 2. float to int"
   ]
  },
  {
   "cell_type": "code",
   "execution_count": 30,
   "id": "03ca5bff",
   "metadata": {},
   "outputs": [
    {
     "name": "stdout",
     "output_type": "stream",
     "text": [
      "a= 45.9999999999999 <class 'float'>\n",
      "b= 45 <class 'int'>\n"
     ]
    }
   ],
   "source": [
    "a= 45.9999999999999\n",
    "b= int(a)\n",
    "print('a=',a, type(a))\n",
    "print('b=',b, type(b))"
   ]
  },
  {
   "cell_type": "code",
   "execution_count": 29,
   "id": "d3d97e4d",
   "metadata": {},
   "outputs": [
    {
     "name": "stdout",
     "output_type": "stream",
     "text": [
      "a= 3.14 <class 'float'>\n",
      "b= 3 <class 'int'>\n"
     ]
    }
   ],
   "source": [
    "a= 3.14\n",
    "b= int(a)\n",
    "print('a=',a, type(a))\n",
    "print('b=',b, type(b))"
   ]
  },
  {
   "cell_type": "markdown",
   "id": "85e5106c",
   "metadata": {},
   "source": [
    "# 3. int to complex"
   ]
  },
  {
   "cell_type": "code",
   "execution_count": 31,
   "id": "97328358",
   "metadata": {},
   "outputs": [
    {
     "name": "stdout",
     "output_type": "stream",
     "text": [
      "a= 4 <class 'int'>\n",
      "b= (4+0j) <class 'complex'>\n"
     ]
    }
   ],
   "source": [
    "a= 4\n",
    "b= complex(a)\n",
    "print('a=',a, type(a))  #4, int\n",
    "print('b=',b, type(b))  # 4+0j,   4+j   complex"
   ]
  },
  {
   "cell_type": "code",
   "execution_count": 32,
   "id": "d960216b",
   "metadata": {},
   "outputs": [
    {
     "name": "stdout",
     "output_type": "stream",
     "text": [
      "a= -44 <class 'int'>\n",
      "b= (-44+0j) <class 'complex'>\n"
     ]
    }
   ],
   "source": [
    "a= -44\n",
    "b= complex(a)\n",
    "print('a=',a, type(a))\n",
    "print('b=',b, type(b))"
   ]
  },
  {
   "cell_type": "markdown",
   "id": "1892aad0",
   "metadata": {},
   "source": [
    "# 4. float to complex"
   ]
  },
  {
   "cell_type": "code",
   "execution_count": 34,
   "id": "0e42a468",
   "metadata": {},
   "outputs": [
    {
     "name": "stdout",
     "output_type": "stream",
     "text": [
      "a= -56.5 <class 'float'>\n",
      "b= (-56.5+0j) <class 'complex'>\n"
     ]
    }
   ],
   "source": [
    "a= -56.5\n",
    "b= complex(a)\n",
    "print('a=',a, type(a))\n",
    "print('b=',b, type(b))"
   ]
  },
  {
   "cell_type": "code",
   "execution_count": 38,
   "id": "7a8f8849",
   "metadata": {},
   "outputs": [
    {
     "name": "stdout",
     "output_type": "stream",
     "text": [
      "a= 56.5 <class 'float'>\n",
      "b= (56.5+0j) <class 'complex'>\n"
     ]
    }
   ],
   "source": [
    "a= 56.5\n",
    "b= complex(a)\n",
    "print('a=',a, type(a))\n",
    "print('b=',b, type(b))"
   ]
  },
  {
   "cell_type": "markdown",
   "id": "65f6f80c",
   "metadata": {},
   "source": [
    "# 5. complex to int"
   ]
  },
  {
   "cell_type": "code",
   "execution_count": 36,
   "id": "b8e48c7a",
   "metadata": {},
   "outputs": [
    {
     "data": {
      "text/plain": [
       "complex"
      ]
     },
     "execution_count": 36,
     "metadata": {},
     "output_type": "execute_result"
    }
   ],
   "source": [
    "TypeError: can't convert complex to int"
   ]
  },
  {
   "cell_type": "code",
   "execution_count": null,
   "id": "8b9b1e74",
   "metadata": {},
   "outputs": [],
   "source": []
  },
  {
   "cell_type": "code",
   "execution_count": 39,
   "id": "b632e9e3",
   "metadata": {},
   "outputs": [
    {
     "ename": "TypeError",
     "evalue": "can't convert complex to int",
     "output_type": "error",
     "traceback": [
      "\u001b[1;31m---------------------------------------------------------------------------\u001b[0m",
      "\u001b[1;31mTypeError\u001b[0m                                 Traceback (most recent call last)",
      "\u001b[1;32m<ipython-input-39-f724940d64a6>\u001b[0m in \u001b[0;36m<module>\u001b[1;34m\u001b[0m\n\u001b[0;32m      1\u001b[0m \u001b[0ma\u001b[0m\u001b[1;33m=\u001b[0m \u001b[1;36m5\u001b[0m\u001b[1;33m+\u001b[0m\u001b[1;36m6j\u001b[0m\u001b[1;33m\u001b[0m\u001b[1;33m\u001b[0m\u001b[0m\n\u001b[1;32m----> 2\u001b[1;33m \u001b[0mb\u001b[0m\u001b[1;33m=\u001b[0m \u001b[0mint\u001b[0m\u001b[1;33m(\u001b[0m\u001b[0ma\u001b[0m\u001b[1;33m)\u001b[0m\u001b[1;33m\u001b[0m\u001b[1;33m\u001b[0m\u001b[0m\n\u001b[0m\u001b[0;32m      3\u001b[0m \u001b[0mprint\u001b[0m\u001b[1;33m(\u001b[0m\u001b[1;34m'a='\u001b[0m\u001b[1;33m,\u001b[0m\u001b[0ma\u001b[0m\u001b[1;33m,\u001b[0m \u001b[0mtype\u001b[0m\u001b[1;33m(\u001b[0m\u001b[0ma\u001b[0m\u001b[1;33m)\u001b[0m\u001b[1;33m)\u001b[0m\u001b[1;33m\u001b[0m\u001b[1;33m\u001b[0m\u001b[0m\n\u001b[0;32m      4\u001b[0m \u001b[0mprint\u001b[0m\u001b[1;33m(\u001b[0m\u001b[1;34m'b='\u001b[0m\u001b[1;33m,\u001b[0m\u001b[0mb\u001b[0m\u001b[1;33m,\u001b[0m \u001b[0mtype\u001b[0m\u001b[1;33m(\u001b[0m\u001b[0mb\u001b[0m\u001b[1;33m)\u001b[0m\u001b[1;33m)\u001b[0m\u001b[1;33m\u001b[0m\u001b[1;33m\u001b[0m\u001b[0m\n",
      "\u001b[1;31mTypeError\u001b[0m: can't convert complex to int"
     ]
    }
   ],
   "source": [
    "a= 5+6j\n",
    "b= int(a)\n",
    "print('a=',a, type(a))\n",
    "print('b=',b, type(b))"
   ]
  },
  {
   "cell_type": "markdown",
   "id": "7798e325",
   "metadata": {},
   "source": [
    "# 6. complex to float"
   ]
  },
  {
   "cell_type": "code",
   "execution_count": 40,
   "id": "247f9af8",
   "metadata": {},
   "outputs": [
    {
     "ename": "TypeError",
     "evalue": "can't convert complex to float",
     "output_type": "error",
     "traceback": [
      "\u001b[1;31m---------------------------------------------------------------------------\u001b[0m",
      "\u001b[1;31mTypeError\u001b[0m                                 Traceback (most recent call last)",
      "\u001b[1;32m<ipython-input-40-ae3b8cb3cfc0>\u001b[0m in \u001b[0;36m<module>\u001b[1;34m\u001b[0m\n\u001b[0;32m      1\u001b[0m \u001b[0ma\u001b[0m\u001b[1;33m=\u001b[0m \u001b[1;36m5\u001b[0m\u001b[1;33m+\u001b[0m\u001b[1;36m6j\u001b[0m\u001b[1;33m\u001b[0m\u001b[1;33m\u001b[0m\u001b[0m\n\u001b[1;32m----> 2\u001b[1;33m \u001b[0mb\u001b[0m\u001b[1;33m=\u001b[0m \u001b[0mfloat\u001b[0m\u001b[1;33m(\u001b[0m\u001b[0ma\u001b[0m\u001b[1;33m)\u001b[0m\u001b[1;33m\u001b[0m\u001b[1;33m\u001b[0m\u001b[0m\n\u001b[0m\u001b[0;32m      3\u001b[0m \u001b[0mprint\u001b[0m\u001b[1;33m(\u001b[0m\u001b[1;34m'a='\u001b[0m\u001b[1;33m,\u001b[0m\u001b[0ma\u001b[0m\u001b[1;33m,\u001b[0m \u001b[0mtype\u001b[0m\u001b[1;33m(\u001b[0m\u001b[0ma\u001b[0m\u001b[1;33m)\u001b[0m\u001b[1;33m)\u001b[0m\u001b[1;33m\u001b[0m\u001b[1;33m\u001b[0m\u001b[0m\n\u001b[0;32m      4\u001b[0m \u001b[0mprint\u001b[0m\u001b[1;33m(\u001b[0m\u001b[1;34m'b='\u001b[0m\u001b[1;33m,\u001b[0m\u001b[0mb\u001b[0m\u001b[1;33m,\u001b[0m \u001b[0mtype\u001b[0m\u001b[1;33m(\u001b[0m\u001b[0mb\u001b[0m\u001b[1;33m)\u001b[0m\u001b[1;33m)\u001b[0m\u001b[1;33m\u001b[0m\u001b[1;33m\u001b[0m\u001b[0m\n",
      "\u001b[1;31mTypeError\u001b[0m: can't convert complex to float"
     ]
    }
   ],
   "source": [
    "a= 5+6j\n",
    "b= float(a)\n",
    "print('a=',a, type(a))\n",
    "print('b=',b, type(b))"
   ]
  },
  {
   "cell_type": "markdown",
   "id": "f2409ba3",
   "metadata": {},
   "source": [
    "# 7. int to string"
   ]
  },
  {
   "cell_type": "code",
   "execution_count": 41,
   "id": "c3459a7e",
   "metadata": {},
   "outputs": [
    {
     "name": "stdout",
     "output_type": "stream",
     "text": [
      "a= 55 <class 'int'>\n",
      "b= 55 <class 'str'>\n"
     ]
    }
   ],
   "source": [
    "a= 55\n",
    "b= str(a)\n",
    "print('a=',a, type(a)) #55,int\n",
    "print('b=',b, type(b)) #'55', str"
   ]
  },
  {
   "cell_type": "code",
   "execution_count": 44,
   "id": "abd6a3ff",
   "metadata": {},
   "outputs": [
    {
     "name": "stdout",
     "output_type": "stream",
     "text": [
      "a= 124578953 <class 'int'>\n",
      "b= 124578953 <class 'str'>\n"
     ]
    }
   ],
   "source": [
    "a= 124578953\n",
    "b= str(a)\n",
    "print('a=',a, type(a))\n",
    "print('b=',b, type(b))"
   ]
  },
  {
   "cell_type": "markdown",
   "id": "36bff771",
   "metadata": {},
   "source": [
    "# 8. float to string"
   ]
  },
  {
   "cell_type": "code",
   "execution_count": 46,
   "id": "a06d28b4",
   "metadata": {},
   "outputs": [
    {
     "name": "stdout",
     "output_type": "stream",
     "text": [
      "a= 55.6 <class 'float'>\n",
      "b= 55.6 <class 'str'>\n"
     ]
    },
    {
     "data": {
      "text/plain": [
       "'55.6'"
      ]
     },
     "execution_count": 46,
     "metadata": {},
     "output_type": "execute_result"
    }
   ],
   "source": [
    "a= 55.6\n",
    "b= str(a)\n",
    "print('a=',a, type(a))\n",
    "print('b=',b, type(b))\n",
    "b"
   ]
  },
  {
   "cell_type": "code",
   "execution_count": 48,
   "id": "58062cb8",
   "metadata": {},
   "outputs": [
    {
     "name": "stdout",
     "output_type": "stream",
     "text": [
      "a= (5+6j) <class 'complex'>\n",
      "b= (5+6j) <class 'str'>\n"
     ]
    },
    {
     "data": {
      "text/plain": [
       "'(5+6j)'"
      ]
     },
     "execution_count": 48,
     "metadata": {},
     "output_type": "execute_result"
    }
   ],
   "source": [
    "a= 5+6j\n",
    "b= str(a)\n",
    "print('a=',a, type(a))\n",
    "print('b=',b, type(b))\n",
    "b"
   ]
  },
  {
   "cell_type": "markdown",
   "id": "5dd25f12",
   "metadata": {},
   "source": [
    "# 9. string to int"
   ]
  },
  {
   "cell_type": "code",
   "execution_count": 50,
   "id": "439757be",
   "metadata": {},
   "outputs": [
    {
     "name": "stdout",
     "output_type": "stream",
     "text": [
      "a= 1234 <class 'str'>\n",
      "b= 1234 <class 'int'>\n"
     ]
    }
   ],
   "source": [
    "string1 = '1234'\n",
    "b = int(string1)\n",
    "print('a=',string1, type(string1))\n",
    "print('b=',b, type(b))"
   ]
  },
  {
   "cell_type": "code",
   "execution_count": 56,
   "id": "06b54ace",
   "metadata": {},
   "outputs": [
    {
     "name": "stdout",
     "output_type": "stream",
     "text": [
      "a= 1234 <class 'str'>\n",
      "b= 1234 <class 'int'>\n"
     ]
    }
   ],
   "source": [
    "string1 = '1234'\n",
    "b = int(string1)\n",
    "print('a=',string1, type(string1))\n",
    "print('b=',b, type(b))"
   ]
  },
  {
   "cell_type": "code",
   "execution_count": 62,
   "id": "720f3ca0",
   "metadata": {},
   "outputs": [
    {
     "data": {
      "text/plain": [
       "'54'"
      ]
     },
     "execution_count": 62,
     "metadata": {},
     "output_type": "execute_result"
    }
   ],
   "source": [
    "d= '4'\n",
    "g= '5'\n",
    "g+d #45 #error"
   ]
  },
  {
   "cell_type": "code",
   "execution_count": 58,
   "id": "5c896363",
   "metadata": {},
   "outputs": [
    {
     "data": {
      "text/plain": [
       "9"
      ]
     },
     "execution_count": 58,
     "metadata": {},
     "output_type": "execute_result"
    }
   ],
   "source": [
    "d= '4'\n",
    "g= '5'\n",
    "int(d)+int(g)"
   ]
  },
  {
   "cell_type": "markdown",
   "id": "5828065b",
   "metadata": {},
   "source": [
    "# string to float"
   ]
  },
  {
   "cell_type": "code",
   "execution_count": 63,
   "id": "41266719",
   "metadata": {},
   "outputs": [
    {
     "name": "stdout",
     "output_type": "stream",
     "text": [
      "a= 3.145 <class 'str'>\n",
      "b= 3.145 <class 'float'>\n"
     ]
    }
   ],
   "source": [
    "a= '3.145'\n",
    "b = float(a)\n",
    "print('a=',a, type(a))\n",
    "print('b=',b, type(b))"
   ]
  },
  {
   "cell_type": "code",
   "execution_count": 64,
   "id": "d3e69c80",
   "metadata": {},
   "outputs": [
    {
     "name": "stdout",
     "output_type": "stream",
     "text": [
      "a= 3145 <class 'str'>\n",
      "b= 3145.0 <class 'float'>\n"
     ]
    }
   ],
   "source": [
    "a= '3145'\n",
    "b = float(a)\n",
    "print('a=',a, type(a))\n",
    "print('b=',b, type(b))"
   ]
  },
  {
   "cell_type": "code",
   "execution_count": null,
   "id": "66a8c7e5",
   "metadata": {},
   "outputs": [],
   "source": []
  }
 ],
 "metadata": {
  "kernelspec": {
   "display_name": "Python 3",
   "language": "python",
   "name": "python3"
  },
  "language_info": {
   "codemirror_mode": {
    "name": "ipython",
    "version": 3
   },
   "file_extension": ".py",
   "mimetype": "text/x-python",
   "name": "python",
   "nbconvert_exporter": "python",
   "pygments_lexer": "ipython3",
   "version": "3.8.8"
  }
 },
 "nbformat": 4,
 "nbformat_minor": 5
}
