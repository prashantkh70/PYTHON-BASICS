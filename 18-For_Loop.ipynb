{
 "cells": [
  {
   "cell_type": "markdown",
   "id": "aba91cff",
   "metadata": {},
   "source": [
    "# For Loop\n",
    "Loop control statements"
   ]
  },
  {
   "cell_type": "code",
   "execution_count": null,
   "id": "da857b27",
   "metadata": {},
   "outputs": [],
   "source": [
    "1. break\n",
    "2. continue\n",
    "3. pass"
   ]
  },
  {
   "cell_type": "code",
   "execution_count": 1,
   "id": "e76ad50c",
   "metadata": {},
   "outputs": [
    {
     "name": "stdout",
     "output_type": "stream",
     "text": [
      "Int_List     :  [4, 5, 100, 200, 500]\n",
      "Float_List   :  [3.5, 9.8]\n",
      "Str_List     :  ['python', 'data']\n"
     ]
    }
   ],
   "source": [
    "list1 = [4,5,3.5,'python',100,200,9.8,500,'data']\n",
    "int_list,float_list, str_list = [],[],[]\n",
    "\n",
    "for item in list1:\n",
    "    if type(item)==int:\n",
    "        int_list.append(item)\n",
    "    elif type(item)==float:\n",
    "        float_list.append(item)\n",
    "    else:\n",
    "        str_list.append(item)\n",
    "        \n",
    "print(\"Int_List     : \",int_list) \n",
    "print(\"Float_List   : \",float_list)\n",
    "print(\"Str_List     : \",str_list)"
   ]
  },
  {
   "cell_type": "code",
   "execution_count": 4,
   "id": "32e45a60",
   "metadata": {},
   "outputs": [
    {
     "name": "stdout",
     "output_type": "stream",
     "text": [
      "Int_List     :  [5]\n",
      "Float_List   :  [4.5]\n",
      "Str_List     :  []\n"
     ]
    }
   ],
   "source": [
    "list1 = [4.5,5,3.5,'python',100,200,9.8,500,'data']\n",
    "int_list,float_list, str_list = [],[],[]\n",
    "\n",
    "for item in list1:\n",
    "    if type(item)==int:\n",
    "        int_list.append(item)\n",
    "        break\n",
    "    elif type(item)==float:\n",
    "        float_list.append(item)\n",
    "    else:\n",
    "        str_list.append(item)\n",
    "        \n",
    "print(\"Int_List     : \",int_list) #[4]\n",
    "print(\"Float_List   : \",float_list)#[]\n",
    "print(\"Str_List     : \",str_list)#[]"
   ]
  },
  {
   "cell_type": "code",
   "execution_count": 3,
   "id": "32e6865c",
   "metadata": {},
   "outputs": [
    {
     "name": "stdout",
     "output_type": "stream",
     "text": [
      "Int_List     :  [4, 5]\n",
      "Float_List   :  [3.5]\n",
      "Str_List     :  ['python']\n"
     ]
    }
   ],
   "source": [
    "list1 = [4,5,3.5,'python',100,200,9.8,500,'data']\n",
    "int_list,float_list, str_list = [],[],[]\n",
    "\n",
    "for item in list1:\n",
    "    if type(item)==int:\n",
    "        int_list.append(item)\n",
    "    elif type(item)==float:\n",
    "        float_list.append(item)\n",
    "    else:\n",
    "        str_list.append(item)\n",
    "        break\n",
    "        \n",
    "print(\"Int_List     : \",int_list) #[4,5]\n",
    "print(\"Float_List   : \",float_list)#[3.5]\n",
    "print(\"Str_List     : \",str_list)#['python']"
   ]
  },
  {
   "cell_type": "code",
   "execution_count": 5,
   "id": "d662b3b0",
   "metadata": {},
   "outputs": [
    {
     "name": "stdout",
     "output_type": "stream",
     "text": [
      "Int_List     :  [4, 5] 2\n",
      "Float_List   :  [3.5] 1\n",
      "Str_List     :  [] 0\n"
     ]
    }
   ],
   "source": [
    "list1 = [4,5,3.5,'python',100,200,9.8,500,'data']\n",
    "int_list,float_list, str_list = [],[],[]\n",
    "\n",
    "for item in list1:\n",
    "    if type(item)==int:\n",
    "        int_list.append(item)\n",
    "    elif type(item)==float:\n",
    "        float_list.append(item)\n",
    "    else:\n",
    "        break\n",
    "        str_list.append(item)\n",
    "        \n",
    "print(\"Int_List     : \",int_list,len(int_list)) #[4,5], 2\n",
    "print(\"Float_List   : \",float_list,len(float_list)) #[3.5], 1\n",
    "print(\"Str_List     : \",str_list,len(str_list))#[], 0"
   ]
  },
  {
   "cell_type": "code",
   "execution_count": 8,
   "id": "a7167572",
   "metadata": {},
   "outputs": [
    {
     "name": "stdout",
     "output_type": "stream",
     "text": [
      "Int_List     :  [4, 5, 100, 200, 500]\n",
      "Float_List   :  [3.5, 9.8]\n",
      "Str_List     :  []\n"
     ]
    }
   ],
   "source": [
    "list1 = [4,5,3.5,'python',100,200,9.8,500,'data']\n",
    "int_list,float_list, str_list = [],[],[]\n",
    "\n",
    "for item in list1:\n",
    "    if type(item)==int:\n",
    "        int_list.append(item)\n",
    "    elif type(item)==float:\n",
    "        float_list.append(item)\n",
    "    else:\n",
    "        continue\n",
    "        str_list.append(item)\n",
    "        \n",
    "print(\"Int_List     : \",int_list) #[4,5,100,200,500]\n",
    "print(\"Float_List   : \",float_list) #[3.5,9.8]\n",
    "print(\"Str_List     : \",str_list)#[]"
   ]
  },
  {
   "cell_type": "code",
   "execution_count": 9,
   "id": "e173a4f5",
   "metadata": {},
   "outputs": [
    {
     "name": "stdout",
     "output_type": "stream",
     "text": [
      "Int_List     :  [4, 5, 100, 200, 500]\n",
      "Float_List   :  [3.5, 9.8]\n",
      "Str_List     :  []\n"
     ]
    }
   ],
   "source": [
    "list1 = [4,5,3.5,'python',100,200,9.8,500,'data']\n",
    "int_list,float_list, str_list = [],[],[]\n",
    "\n",
    "for item in list1:\n",
    "    if type(item)==int:\n",
    "        int_list.append(item)\n",
    "    elif type(item)==float:\n",
    "        float_list.append(item)\n",
    "        continue\n",
    "    else:\n",
    "        continue\n",
    "        str_list.append(item)\n",
    "        \n",
    "print(\"Int_List     : \",int_list) #[4,5,100,200,500]\n",
    "print(\"Float_List   : \",float_list)#[3.5,9.8]\n",
    "print(\"Str_List     : \",str_list)#[]"
   ]
  },
  {
   "cell_type": "code",
   "execution_count": 10,
   "id": "bda23532",
   "metadata": {},
   "outputs": [
    {
     "name": "stdout",
     "output_type": "stream",
     "text": [
      "Int_List     :  [4, 5]\n",
      "Float_List   :  [3.5]\n",
      "Str_List     :  []\n"
     ]
    }
   ],
   "source": [
    "list1 = [4,5,3.5,'python',100,200,9.8,500,'data']\n",
    "int_list,float_list, str_list = [],[],[]\n",
    "\n",
    "for item in list1:\n",
    "    if type(item)==int:\n",
    "        int_list.append(item)\n",
    "    elif type(item)==float:\n",
    "        float_list.append(item)\n",
    "        break\n",
    "    else:\n",
    "        str_list.append(item)\n",
    "        continue\n",
    "        \n",
    "print(\"Int_List     : \",int_list)  #[4,5]\n",
    "print(\"Float_List   : \",float_list) #[3.5]\n",
    "print(\"Str_List     : \",str_list)# []"
   ]
  },
  {
   "cell_type": "markdown",
   "id": "23da447f",
   "metadata": {},
   "source": [
    "# For-else"
   ]
  },
  {
   "cell_type": "code",
   "execution_count": null,
   "id": "88236317",
   "metadata": {},
   "outputs": [],
   "source": [
    "else block will execute only when the loop completes its all iteration"
   ]
  },
  {
   "cell_type": "code",
   "execution_count": null,
   "id": "1ad71797",
   "metadata": {},
   "outputs": [],
   "source": [
    "for var in sequence:\n",
    "    statement1\n",
    "    statement2\n",
    "else:\n",
    "    print('else block')"
   ]
  },
  {
   "cell_type": "code",
   "execution_count": 11,
   "id": "5d370c54",
   "metadata": {},
   "outputs": [
    {
     "name": "stdout",
     "output_type": "stream",
     "text": [
      "i ==  5\n",
      "i ==  6\n",
      "i ==  7\n",
      "i ==  8\n",
      "i ==  9\n",
      "loop completed\n"
     ]
    }
   ],
   "source": [
    "for i in range(5,10): #5 times\n",
    "    print('i == ',i)\n",
    "else:\n",
    "    print('loop completed')"
   ]
  },
  {
   "cell_type": "code",
   "execution_count": 12,
   "id": "8cbdc172",
   "metadata": {},
   "outputs": [
    {
     "name": "stdout",
     "output_type": "stream",
     "text": [
      "i ==  5\n",
      "i ==  6\n",
      "i ==  7\n",
      "i ==  8\n",
      "number is :8\n"
     ]
    }
   ],
   "source": [
    "for i in range(5,10): #5 times\n",
    "    print('i == ',i)\n",
    "    if i ==8:\n",
    "        print('number is :8')\n",
    "        break\n",
    "else:\n",
    "    print('loop completed')"
   ]
  },
  {
   "cell_type": "code",
   "execution_count": 14,
   "id": "4bca6ae7",
   "metadata": {},
   "outputs": [
    {
     "name": "stdout",
     "output_type": "stream",
     "text": [
      "i ==  5\n",
      "hello\n",
      "i ==  6\n",
      "number is :6\n"
     ]
    }
   ],
   "source": [
    "for i in range(5,10): #5 times\n",
    "    print('i == ',i) # 5\n",
    "    if i ==6:\n",
    "        print('number is :6')\n",
    "        break\n",
    "    print('hello')\n",
    "else:\n",
    "    print('loop completed')"
   ]
  },
  {
   "cell_type": "code",
   "execution_count": 15,
   "id": "a0fc180e",
   "metadata": {},
   "outputs": [
    {
     "name": "stdout",
     "output_type": "stream",
     "text": [
      "i ==  5\n",
      "i ==  6\n",
      "number found\n",
      "i ==  7\n",
      "i ==  8\n",
      "i ==  9\n",
      "loop completed\n"
     ]
    }
   ],
   "source": [
    "for i in range(5,10): #5 times\n",
    "    print('i == ',i) # 5\n",
    "    if i ==6:\n",
    "        print('number found')\n",
    "        continue\n",
    "else:\n",
    "    print('loop completed')"
   ]
  },
  {
   "cell_type": "markdown",
   "id": "21cb0d0d",
   "metadata": {},
   "source": [
    "# Factorial"
   ]
  },
  {
   "cell_type": "code",
   "execution_count": null,
   "id": "db7a015d",
   "metadata": {},
   "outputs": [],
   "source": [
    "5! >> 5*4*3*2*1\n",
    "4! >> 4*3*2*1\n",
    "3! >> 3*2*1\n",
    "2! >> 2*1\n",
    "1! >> 1\n",
    "0! >> 1"
   ]
  },
  {
   "cell_type": "code",
   "execution_count": 17,
   "id": "e9872fec",
   "metadata": {},
   "outputs": [
    {
     "name": "stdout",
     "output_type": "stream",
     "text": [
      "Factorial of 5 is 120\n"
     ]
    }
   ],
   "source": [
    "n =5\n",
    "fact =1\n",
    "for i in range(1,n+1): \n",
    "    fact*=i\n",
    "print(f\"Factorial of {n} is {fact}\")"
   ]
  },
  {
   "cell_type": "code",
   "execution_count": 18,
   "id": "216a4154",
   "metadata": {},
   "outputs": [
    {
     "data": {
      "text/plain": [
       "120"
      ]
     },
     "execution_count": 18,
     "metadata": {},
     "output_type": "execute_result"
    }
   ],
   "source": [
    "5*4*3*2*1"
   ]
  },
  {
   "cell_type": "code",
   "execution_count": 19,
   "id": "4b175303",
   "metadata": {},
   "outputs": [
    {
     "name": "stdout",
     "output_type": "stream",
     "text": [
      "Factorial of 8 is 40320\n"
     ]
    }
   ],
   "source": [
    "n =8\n",
    "fact =1\n",
    "for i in range(1,n+1): \n",
    "    fact*=i\n",
    "print(f\"Factorial of {n} is {fact}\")"
   ]
  },
  {
   "cell_type": "code",
   "execution_count": 20,
   "id": "6ac4fdc3",
   "metadata": {},
   "outputs": [
    {
     "name": "stdout",
     "output_type": "stream",
     "text": [
      "Enter the value of n : 7\n",
      "Factorial of 7 is 5040\n"
     ]
    }
   ],
   "source": [
    "n =int(input('Enter the value of n : '))\n",
    "fact =1\n",
    "for i in range(1,n+1): \n",
    "    fact*=i\n",
    "print(f\"Factorial of {n} is {fact}\")"
   ]
  },
  {
   "cell_type": "code",
   "execution_count": 21,
   "id": "659edff4",
   "metadata": {},
   "outputs": [
    {
     "name": "stdout",
     "output_type": "stream",
     "text": [
      "Enter the value of n : 0\n",
      "Factorial of 0 is 1\n"
     ]
    }
   ],
   "source": [
    "n =int(input('Enter the value of n : '))\n",
    "fact =1\n",
    "for i in range(1,n+1): \n",
    "    fact*=i\n",
    "print(f\"Factorial of {n} is {fact}\")"
   ]
  },
  {
   "cell_type": "code",
   "execution_count": 23,
   "id": "91157ab7",
   "metadata": {},
   "outputs": [
    {
     "name": "stdout",
     "output_type": "stream",
     "text": [
      "Enter the value of n : -6\n",
      "Factorial does not exists\n"
     ]
    }
   ],
   "source": [
    "n =int(input('Enter the value of n : '))\n",
    "fact =1\n",
    "if n >0:\n",
    "    for i in range(1,n+1): \n",
    "        fact*=i\n",
    "    print(f\"Factorial of {n} is {fact}\")\n",
    "else:\n",
    "    print(\"Factorial does not exists\")"
   ]
  },
  {
   "cell_type": "markdown",
   "id": "e07eedf4",
   "metadata": {},
   "source": [
    "# Prime Number"
   ]
  },
  {
   "cell_type": "code",
   "execution_count": null,
   "id": "5a11b1bd",
   "metadata": {},
   "outputs": [],
   "source": [
    "Prime numbers >> if number is divisible by only 1 and itself.\n",
    "7 >> 2, 3, 5, 7"
   ]
  },
  {
   "cell_type": "code",
   "execution_count": 25,
   "id": "197c1571",
   "metadata": {},
   "outputs": [
    {
     "name": "stdout",
     "output_type": "stream",
     "text": [
      "9 is not prime number\n"
     ]
    }
   ],
   "source": [
    "n = 9\n",
    "for i in range(2,n):\n",
    "    if n%i ==0:\n",
    "        print(f\"{n} is not prime number\")\n",
    "        break\n",
    "    \n",
    "else:\n",
    "    print(f\"{n} is prime number\")"
   ]
  },
  {
   "cell_type": "markdown",
   "id": "94b45e87",
   "metadata": {},
   "source": [
    "# Fibonacci Series"
   ]
  },
  {
   "cell_type": "code",
   "execution_count": null,
   "id": "88961b8d",
   "metadata": {},
   "outputs": [],
   "source": [
    "the fibonacci series is a type of series where each number is the sum of the two that precede it.\n",
    "\n",
    "0,1,1,2,3,5,8,13,21,34.........."
   ]
  },
  {
   "cell_type": "code",
   "execution_count": 26,
   "id": "cd049af8",
   "metadata": {},
   "outputs": [
    {
     "name": "stdout",
     "output_type": "stream",
     "text": [
      "Fibonacci series 0 1\n",
      "1\n",
      "2\n",
      "3\n",
      "5\n",
      "8\n",
      "13\n"
     ]
    }
   ],
   "source": [
    "n= 8\n",
    "first = 0\n",
    "second = 1\n",
    "print('Fibonacci series',first,second)\n",
    "\n",
    "for i in range(0,n-2):\n",
    "    new = first + second\n",
    "    print(new)\n",
    "    first = second\n",
    "    second = new\n",
    "    "
   ]
  },
  {
   "cell_type": "code",
   "execution_count": 28,
   "id": "07f6e5ff",
   "metadata": {},
   "outputs": [
    {
     "name": "stdout",
     "output_type": "stream",
     "text": [
      "Fibonacci series 0 1 1 2 3 5 8 13 "
     ]
    }
   ],
   "source": [
    "n= 8\n",
    "first = 0\n",
    "second = 1\n",
    "print('Fibonacci series',first,second,end =' ')\n",
    "\n",
    "for i in range(0,n-2):\n",
    "    new = first + second\n",
    "    print(new,end =' ')\n",
    "    first = second\n",
    "    second = new"
   ]
  },
  {
   "cell_type": "code",
   "execution_count": 29,
   "id": "129947ce",
   "metadata": {},
   "outputs": [
    {
     "name": "stdout",
     "output_type": "stream",
     "text": [
      "6 5\n"
     ]
    }
   ],
   "source": [
    "x = 6\n",
    "y = 5\n",
    "print(x,y)"
   ]
  },
  {
   "cell_type": "code",
   "execution_count": 30,
   "id": "15484176",
   "metadata": {},
   "outputs": [
    {
     "name": "stdout",
     "output_type": "stream",
     "text": [
      "6-5\n"
     ]
    }
   ],
   "source": [
    "x = 6\n",
    "y = 5\n",
    "print(x,y,sep ='-')"
   ]
  },
  {
   "cell_type": "code",
   "execution_count": 31,
   "id": "847bc76e",
   "metadata": {},
   "outputs": [
    {
     "name": "stdout",
     "output_type": "stream",
     "text": [
      "python-class\n"
     ]
    }
   ],
   "source": [
    "x = 'python'\n",
    "y = 'class'\n",
    "print(x,y,sep ='-')"
   ]
  },
  {
   "cell_type": "code",
   "execution_count": 32,
   "id": "617d8db4",
   "metadata": {},
   "outputs": [
    {
     "name": "stdout",
     "output_type": "stream",
     "text": [
      "python+class\n"
     ]
    }
   ],
   "source": [
    "x = 'python'\n",
    "y = 'class'\n",
    "print(x,y,sep ='+')"
   ]
  },
  {
   "cell_type": "code",
   "execution_count": 33,
   "id": "843a116c",
   "metadata": {},
   "outputs": [
    {
     "name": "stdout",
     "output_type": "stream",
     "text": [
      "python\n",
      "class\n"
     ]
    }
   ],
   "source": [
    "x = 'python'\n",
    "y = 'class'\n",
    "print(x,y,sep ='\\n')"
   ]
  },
  {
   "cell_type": "code",
   "execution_count": null,
   "id": "05333f3c",
   "metadata": {},
   "outputs": [],
   "source": []
  }
 ],
 "metadata": {
  "kernelspec": {
   "display_name": "Python 3",
   "language": "python",
   "name": "python3"
  },
  "language_info": {
   "codemirror_mode": {
    "name": "ipython",
    "version": 3
   },
   "file_extension": ".py",
   "mimetype": "text/x-python",
   "name": "python",
   "nbconvert_exporter": "python",
   "pygments_lexer": "ipython3",
   "version": "3.8.8"
  }
 },
 "nbformat": 4,
 "nbformat_minor": 5
}
