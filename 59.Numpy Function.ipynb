{
 "cells": [
  {
   "cell_type": "markdown",
   "id": "d33fb186",
   "metadata": {},
   "source": [
    "# Numpy Function"
   ]
  },
  {
   "cell_type": "code",
   "execution_count": 1,
   "id": "d0af73fe",
   "metadata": {},
   "outputs": [],
   "source": [
    "import numpy as np"
   ]
  },
  {
   "cell_type": "markdown",
   "id": "8b026965",
   "metadata": {},
   "source": [
    "# 1. shape"
   ]
  },
  {
   "cell_type": "code",
   "execution_count": 2,
   "id": "ba50abdc",
   "metadata": {},
   "outputs": [
    {
     "data": {
      "text/plain": [
       "7"
      ]
     },
     "execution_count": 2,
     "metadata": {},
     "output_type": "execute_result"
    }
   ],
   "source": [
    "list1 = [1,2,45,3,5,4,5]\n",
    "len(list1)"
   ]
  },
  {
   "cell_type": "code",
   "execution_count": 3,
   "id": "c50be4aa",
   "metadata": {},
   "outputs": [
    {
     "data": {
      "text/plain": [
       "7"
      ]
     },
     "execution_count": 3,
     "metadata": {},
     "output_type": "execute_result"
    }
   ],
   "source": [
    "array1 =np.array([1,2,45,3,5,4,5])\n",
    "len(array1)"
   ]
  },
  {
   "cell_type": "code",
   "execution_count": 4,
   "id": "858330ed",
   "metadata": {},
   "outputs": [
    {
     "data": {
      "text/plain": [
       "(7,)"
      ]
     },
     "execution_count": 4,
     "metadata": {},
     "output_type": "execute_result"
    }
   ],
   "source": [
    "array1 =np.array([1,2,45,3,5,4,5])\n",
    "array1.shape"
   ]
  },
  {
   "cell_type": "code",
   "execution_count": 22,
   "id": "f8a2faaa",
   "metadata": {},
   "outputs": [
    {
     "name": "stdout",
     "output_type": "stream",
     "text": [
      "[[[[[[5 4 2 7 8 6 4 6 8 7 8 9]]]]]]\n",
      "Number of dimension:  6\n",
      "shape of array is : (1, 1, 1, 1, 1, 12)\n"
     ]
    }
   ],
   "source": [
    "array2 = np.array([5,4,2,7,8,6,4,6,8,7,8,9],ndmin=6)\n",
    "print(array2)\n",
    "print(\"Number of dimension: \",array2.ndim)\n",
    "print(\"shape of array is :\",array2.shape)"
   ]
  },
  {
   "cell_type": "code",
   "execution_count": 9,
   "id": "651bf7f5",
   "metadata": {
    "scrolled": true
   },
   "outputs": [
    {
     "name": "stdout",
     "output_type": "stream",
     "text": [
      "[[[  2   3   4]\n",
      "  [ 10  20  30]\n",
      "  [100 200 300]]\n",
      "\n",
      " [[ 20  30  40]\n",
      "  [ 50  40  60]\n",
      "  [500 400 600]]]\n",
      "Number of dimension:  3\n",
      "shape of array is : (2, 3, 3)\n"
     ]
    }
   ],
   "source": [
    "array3 = np.array([[[2,3,4],[10,20, 9]]]]]]30],[100,200,300]],[[20,30,40],[50,40,60],[500,400,600]]])\n",
    "print(array3)\n",
    "print(\"Number of dimension: \",array3.ndim)\n",
    "print(\"shape of array is :\",array3.shape)"
   ]
  },
  {
   "cell_type": "code",
   "execution_count": 11,
   "id": "1fb3463d",
   "metadata": {},
   "outputs": [
    {
     "name": "stdout",
     "output_type": "stream",
     "text": [
      "[[[ 2  3  4]\n",
      "  [10 20 30]]\n",
      "\n",
      " [[20 30 40]\n",
      "  [50 40 60]]]\n",
      "Number of dimension:  3\n",
      "shape of array is : (2, 2, 3)\n"
     ]
    }
   ],
   "source": [
    "array3 = np.array([[[2,3,4],[10,20,30]],[[20,30,40],[50,40,60]]])\n",
    "print(array3)\n",
    "print(\"Number of dimension: \",array3.ndim)\n",
    "print(\"shape of array is :\",array3.shape)"
   ]
  },
  {
   "cell_type": "code",
   "execution_count": 12,
   "id": "32989a25",
   "metadata": {},
   "outputs": [
    {
     "name": "stdout",
     "output_type": "stream",
     "text": [
      "[[[ 2  3  4  9]\n",
      "  [10 20 30 96]]\n",
      "\n",
      " [[20 30 40 51]\n",
      "  [50 40 60 78]]]\n",
      "Number of dimension:  3\n",
      "shape of array is : (2, 2, 4)\n"
     ]
    }
   ],
   "source": [
    "array3 = np.array([[[2,3,4,9],[10,20,30,96]],[[20,30,40,51],[50,40,60,78]]])\n",
    "print(array3)\n",
    "print(\"Number of dimension: \",array3.ndim)\n",
    "print(\"shape of array is :\",array3.shape)"
   ]
  },
  {
   "cell_type": "code",
   "execution_count": 13,
   "id": "328f7258",
   "metadata": {},
   "outputs": [
    {
     "name": "stdout",
     "output_type": "stream",
     "text": [
      "[[[[ 2  3  4  9]\n",
      "   [10 20 30 96]]\n",
      "\n",
      "  [[20 30 40 51]\n",
      "   [50 40 60 78]]]]\n",
      "Number of dimension:  4\n",
      "shape of array is : (1, 2, 2, 4)\n"
     ]
    }
   ],
   "source": [
    "array3 = np.array([[[[2,3,4,9],[10,20,30,96]],[[20,30,40,51],[50,40,60,78]]]])\n",
    "print(array3)\n",
    "print(\"Number of dimension: \",array3.ndim)\n",
    "print(\"shape of array is :\",array3.shape)"
   ]
  },
  {
   "cell_type": "code",
   "execution_count": 15,
   "id": "fa904c06",
   "metadata": {},
   "outputs": [
    {
     "name": "stdout",
     "output_type": "stream",
     "text": [
      "[[[[[ 2  3  4  9]\n",
      "    [10 20 30 96]]\n",
      "\n",
      "   [[20 30 40 51]\n",
      "    [50 40 60 78]]]]]\n",
      "Number of dimension:  5\n",
      "shape of array is : (1, 1, 2, 2, 4)\n"
     ]
    }
   ],
   "source": [
    "array3 = np.array([[[[[2,3,4,9],[10,20,30,96]],[[20,30,40,51],[50,40,60,78]]]]])\n",
    "print(array3)\n",
    "print(\"Number of dimension: \",array3.ndim)\n",
    "print(\"shape of array is :\",array3.shape)"
   ]
  },
  {
   "cell_type": "markdown",
   "id": "a69065d1",
   "metadata": {},
   "source": [
    "# 2. Reshape"
   ]
  },
  {
   "cell_type": "code",
   "execution_count": null,
   "id": "88c35db1",
   "metadata": {},
   "outputs": [],
   "source": [
    "used to convert array into n-D array"
   ]
  },
  {
   "cell_type": "code",
   "execution_count": 24,
   "id": "861677b7",
   "metadata": {},
   "outputs": [
    {
     "name": "stdout",
     "output_type": "stream",
     "text": [
      "array is:  [ 2  3  4  5  6  7  8  9 10 20 16 45]\n",
      "dimension is:  1\n",
      "shape is  (12,)\n"
     ]
    }
   ],
   "source": [
    "array1 = np.array([2,3,4,5,6,7,8,9,10,20,16,45]) #1D\n",
    "print(\"array is: \",array1)\n",
    "print(\"dimension is: \",array1.ndim)\n",
    "print(\"shape is \",array1.shape)"
   ]
  },
  {
   "cell_type": "markdown",
   "id": "495d0688",
   "metadata": {},
   "source": [
    "### 1D into 2D"
   ]
  },
  {
   "cell_type": "code",
   "execution_count": null,
   "id": "b00f18ab",
   "metadata": {},
   "outputs": [],
   "source": [
    "1*12=12\n",
    "2*6 =12\n",
    "3*4 =12\n",
    "4*3 =12\n",
    "6*2 =12\n",
    "12*1=12"
   ]
  },
  {
   "cell_type": "code",
   "execution_count": 25,
   "id": "bfd11bbb",
   "metadata": {},
   "outputs": [
    {
     "name": "stdout",
     "output_type": "stream",
     "text": [
      "array is:  [ 2  3  4  5  6  7  8  9 10 20 16 45]\n"
     ]
    },
    {
     "data": {
      "text/plain": [
       "array([[ 2,  3,  4,  5,  6,  7],\n",
       "       [ 8,  9, 10, 20, 16, 45]])"
      ]
     },
     "execution_count": 25,
     "metadata": {},
     "output_type": "execute_result"
    }
   ],
   "source": [
    "array1 = np.array([2,3,4,5,6,7,8,9,10,20,16,45]) #1D\n",
    "print(\"array is: \",array1)\n",
    "array1.reshape(2,6)"
   ]
  },
  {
   "cell_type": "code",
   "execution_count": 26,
   "id": "dc4a1fe6",
   "metadata": {},
   "outputs": [
    {
     "name": "stdout",
     "output_type": "stream",
     "text": [
      "array is:  [ 2  3  4  5  6  7  8  9 10 20 16 45]\n"
     ]
    },
    {
     "data": {
      "text/plain": [
       "array([[ 2],\n",
       "       [ 3],\n",
       "       [ 4],\n",
       "       [ 5],\n",
       "       [ 6],\n",
       "       [ 7],\n",
       "       [ 8],\n",
       "       [ 9],\n",
       "       [10],\n",
       "       [20],\n",
       "       [16],\n",
       "       [45]])"
      ]
     },
     "execution_count": 26,
     "metadata": {},
     "output_type": "execute_result"
    }
   ],
   "source": [
    "array1 = np.array([2,3,4,5,6,7,8,9,10,20,16,45]) #1D\n",
    "print(\"array is: \",array1)\n",
    "array1.reshape(12,1)"
   ]
  },
  {
   "cell_type": "code",
   "execution_count": 27,
   "id": "d408dea4",
   "metadata": {},
   "outputs": [
    {
     "name": "stdout",
     "output_type": "stream",
     "text": [
      "array is:  [ 2  3  4  5  6  7  8  9 10 20 16 45]\n"
     ]
    },
    {
     "data": {
      "text/plain": [
       "array([[ 2,  3,  4],\n",
       "       [ 5,  6,  7],\n",
       "       [ 8,  9, 10],\n",
       "       [20, 16, 45]])"
      ]
     },
     "execution_count": 27,
     "metadata": {},
     "output_type": "execute_result"
    }
   ],
   "source": [
    "array1 = np.array([2,3,4,5,6,7,8,9,10,20,16,45]) #1D\n",
    "print(\"array is: \",array1)\n",
    "array1.reshape(4,3)"
   ]
  },
  {
   "cell_type": "code",
   "execution_count": 28,
   "id": "d0437a46",
   "metadata": {},
   "outputs": [
    {
     "name": "stdout",
     "output_type": "stream",
     "text": [
      "array is:  [ 2  3  4  5  6  7  8  9 10 20 16 45]\n"
     ]
    },
    {
     "data": {
      "text/plain": [
       "array([[ 2,  3,  4,  5],\n",
       "       [ 6,  7,  8,  9],\n",
       "       [10, 20, 16, 45]])"
      ]
     },
     "execution_count": 28,
     "metadata": {},
     "output_type": "execute_result"
    }
   ],
   "source": [
    "array1 = np.array([2,3,4,5,6,7,8,9,10,20,16,45]) #1D\n",
    "print(\"array is: \",array1)\n",
    "array1.reshape(3,4)"
   ]
  },
  {
   "cell_type": "code",
   "execution_count": 29,
   "id": "d4563140",
   "metadata": {},
   "outputs": [
    {
     "name": "stdout",
     "output_type": "stream",
     "text": [
      "array is:  [ 2  3  4  5  6  7  8  9 10 20 16 45]\n"
     ]
    },
    {
     "data": {
      "text/plain": [
       "array([[ 2,  3],\n",
       "       [ 4,  5],\n",
       "       [ 6,  7],\n",
       "       [ 8,  9],\n",
       "       [10, 20],\n",
       "       [16, 45]])"
      ]
     },
     "execution_count": 29,
     "metadata": {},
     "output_type": "execute_result"
    }
   ],
   "source": [
    "array1 = np.array([2,3,4,5,6,7,8,9,10,20,16,45]) #1D\n",
    "print(\"array is: \",array1)\n",
    "array1.reshape(6,2)"
   ]
  },
  {
   "cell_type": "code",
   "execution_count": 30,
   "id": "4570f5d7",
   "metadata": {},
   "outputs": [
    {
     "name": "stdout",
     "output_type": "stream",
     "text": [
      "array is:  [ 2  3  4  5  6  7  8  9 10 20 16 45]\n"
     ]
    },
    {
     "data": {
      "text/plain": [
       "array([[ 2,  3,  4,  5,  6,  7],\n",
       "       [ 8,  9, 10, 20, 16, 45]])"
      ]
     },
     "execution_count": 30,
     "metadata": {},
     "output_type": "execute_result"
    }
   ],
   "source": [
    "array1 = np.array([2,3,4,5,6,7,8,9,10,20,16,45]) #1D\n",
    "print(\"array is: \",array1)\n",
    "array1.reshape(2,6)"
   ]
  },
  {
   "cell_type": "markdown",
   "id": "d9ccad43",
   "metadata": {},
   "source": [
    "## 1D to 3D"
   ]
  },
  {
   "cell_type": "code",
   "execution_count": 31,
   "id": "cf8e4a4a",
   "metadata": {},
   "outputs": [
    {
     "name": "stdout",
     "output_type": "stream",
     "text": [
      "array is:  [ 2  3  4  5  6  7  8  9 10 20 16 45]\n",
      "dimension is:  1\n",
      "shape is  (12,)\n"
     ]
    }
   ],
   "source": [
    "array1 = np.array([2,3,4,5,6,7,8,9,10,20,16,45]) #1D\n",
    "print(\"array is: \",array1)\n",
    "print(\"dimension is: \",array1.ndim)\n",
    "print(\"shape is \",array1.shape)"
   ]
  },
  {
   "cell_type": "code",
   "execution_count": null,
   "id": "abbad711",
   "metadata": {},
   "outputs": [],
   "source": [
    "1*1*12\n",
    "2*2*3\n",
    "3*2*2\n",
    "1*4*3\n",
    "1*3*4\n",
    "1*2*6"
   ]
  },
  {
   "cell_type": "code",
   "execution_count": 32,
   "id": "396fe4a5",
   "metadata": {},
   "outputs": [
    {
     "name": "stdout",
     "output_type": "stream",
     "text": [
      "array is:  [ 2  3  4  5  6  7  8  9 10 20 16 45]\n"
     ]
    },
    {
     "data": {
      "text/plain": [
       "array([[[ 2,  3,  4],\n",
       "        [ 5,  6,  7]],\n",
       "\n",
       "       [[ 8,  9, 10],\n",
       "        [20, 16, 45]]])"
      ]
     },
     "execution_count": 32,
     "metadata": {},
     "output_type": "execute_result"
    }
   ],
   "source": [
    "array1 = np.array([2,3,4,5,6,7,8,9,10,20,16,45]) #1D\n",
    "print(\"array is: \",array1)\n",
    "array1.reshape(2,2,3)"
   ]
  },
  {
   "cell_type": "code",
   "execution_count": 33,
   "id": "0b097a34",
   "metadata": {},
   "outputs": [
    {
     "name": "stdout",
     "output_type": "stream",
     "text": [
      "array is:  [ 2  3  4  5  6  7  8  9 10 20 16 45]\n"
     ]
    },
    {
     "data": {
      "text/plain": [
       "array([[[ 2,  3,  4],\n",
       "        [ 5,  6,  7],\n",
       "        [ 8,  9, 10],\n",
       "        [20, 16, 45]]])"
      ]
     },
     "execution_count": 33,
     "metadata": {},
     "output_type": "execute_result"
    }
   ],
   "source": [
    "array1 = np.array([2,3,4,5,6,7,8,9,10,20,16,45]) #1D\n",
    "print(\"array is: \",array1)\n",
    "array1.reshape(1,4,3)"
   ]
  },
  {
   "cell_type": "code",
   "execution_count": 34,
   "id": "4eb2c0cc",
   "metadata": {},
   "outputs": [
    {
     "name": "stdout",
     "output_type": "stream",
     "text": [
      "array is:  [ 2  3  4  5  6  7  8  9 10 20 16 45]\n"
     ]
    },
    {
     "data": {
      "text/plain": [
       "array([[[ 2,  3,  4,  5,  6,  7],\n",
       "        [ 8,  9, 10, 20, 16, 45]]])"
      ]
     },
     "execution_count": 34,
     "metadata": {},
     "output_type": "execute_result"
    }
   ],
   "source": [
    "array1 = np.array([2,3,4,5,6,7,8,9,10,20,16,45]) #1D\n",
    "print(\"array is: \",array1)\n",
    "array1.reshape(1,2,6)"
   ]
  },
  {
   "cell_type": "code",
   "execution_count": null,
   "id": "f79d5aaa",
   "metadata": {},
   "outputs": [],
   "source": []
  }
 ],
 "metadata": {
  "kernelspec": {
   "display_name": "Python 3",
   "language": "python",
   "name": "python3"
  },
  "language_info": {
   "codemirror_mode": {
    "name": "ipython",
    "version": 3
   },
   "file_extension": ".py",
   "mimetype": "text/x-python",
   "name": "python",
   "nbconvert_exporter": "python",
   "pygments_lexer": "ipython3",
   "version": "3.8.8"
  }
 },
 "nbformat": 4,
 "nbformat_minor": 5
}
