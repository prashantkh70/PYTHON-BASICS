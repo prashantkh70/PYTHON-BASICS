{
 "cells": [
  {
   "cell_type": "code",
   "execution_count": null,
   "id": "05007a7e",
   "metadata": {},
   "outputs": [],
   "source": [
    "string:\n",
    "    join()\n",
    "    "
   ]
  },
  {
   "cell_type": "code",
   "execution_count": 1,
   "id": "c1bc52eb",
   "metadata": {},
   "outputs": [
    {
     "name": "stdout",
     "output_type": "stream",
     "text": [
      "Data science is an interdisciplinary field that uses scientific methods, \n",
      "processes, algorithms and systems to extract knowledge and insights from noisy, \n",
      "structured and unstructured data, and apply knowledge from \n",
      "data across a broad range of application domains\n"
     ]
    }
   ],
   "source": [
    "string = \"\"\"Data science is an interdisciplinary field that uses scientific methods, \n",
    "processes, algorithms and systems to extract knowledge and insights from noisy, \n",
    "structured and unstructured data, and apply knowledge from \n",
    "data across a broad range of application domains\"\"\"\n",
    "print(string)"
   ]
  },
  {
   "cell_type": "code",
   "execution_count": 3,
   "id": "cc81d646",
   "metadata": {},
   "outputs": [
    {
     "name": "stdout",
     "output_type": "stream",
     "text": [
      "['Data', 'science', 'is', 'an', 'interdisciplinary', 'field', 'that', 'uses', 'scientific', 'methods,', 'processes,', 'algorithms', 'and', 'systems', 'to', 'extract', 'knowledge', 'and', 'insights', 'from', 'noisy,', 'structured', 'and', 'unstructured', 'data,', 'and', 'apply', 'knowledge', 'from', 'data', 'across', 'a', 'broad', 'range', 'of', 'application', 'domains']\n"
     ]
    }
   ],
   "source": [
    "list1 = string.split()\n",
    "print(list1)"
   ]
  },
  {
   "cell_type": "code",
   "execution_count": null,
   "id": "b2c09f71",
   "metadata": {},
   "outputs": [],
   "source": [
    "convert this list into string >>> join()\n"
   ]
  },
  {
   "cell_type": "code",
   "execution_count": 6,
   "id": "cada3b24",
   "metadata": {},
   "outputs": [
    {
     "name": "stdout",
     "output_type": "stream",
     "text": [
      "Data science is an interdisciplinary field that uses scientific methods, processes, algorithms and systems to extract knowledge and insights from noisy, structured and unstructured data, and apply knowledge from data across a broad range of application domains\n"
     ]
    }
   ],
   "source": [
    "str1 = \" \".join(list1)\n",
    "print(str1)"
   ]
  },
  {
   "cell_type": "code",
   "execution_count": null,
   "id": "7b735630",
   "metadata": {},
   "outputs": [],
   "source": [
    "string = \"data science\"\n"
   ]
  },
  {
   "cell_type": "code",
   "execution_count": null,
   "id": "b99d8a4b",
   "metadata": {},
   "outputs": [],
   "source": []
  },
  {
   "cell_type": "code",
   "execution_count": null,
   "id": "857b9cdd",
   "metadata": {},
   "outputs": [],
   "source": [
    "str     : immutable,ordered,duplicates are allowed, '', \"\"\"\"\"\",\n",
    "list:     mutable ,ordered, duplicates are allowed, []\n",
    "tuple   : immutable,ordered, duplicates are allowed,()\n",
    "set     : mutable, unordered,duplicates are not allowed, indexing is not allowed,set(),{}\n",
    "frozenset: immutable, unordered,duplicates are not allowed, indexing is not allowed,frozensetset(),{}"
   ]
  },
  {
   "cell_type": "markdown",
   "id": "668e29f8",
   "metadata": {},
   "source": [
    "# Dictionary\n",
    "used to store data in key : value pairs"
   ]
  },
  {
   "cell_type": "code",
   "execution_count": null,
   "id": "b61419ab",
   "metadata": {},
   "outputs": [],
   "source": [
    "1. Mutable\n",
    "2. it is collection of key and value pairs\n",
    "3. we can not use indexing\n",
    "4. duplicate keys are not allowed.\n",
    "5. duplicate values are allowed.\n",
    "6. are enclosed by {}\n",
    "\n",
    "key >> int, float, str,complex,tuple,frozenset(Immutable data type)\n",
    "values >> int, float, str,complex,tuple,frozenset,set, list, dict\n",
    "\n",
    "ordered or not?\n",
    "Ordered : if python version >=3.7\n",
    "Unordered: if python version <3.7"
   ]
  },
  {
   "cell_type": "code",
   "execution_count": null,
   "id": "6c72da4a",
   "metadata": {},
   "outputs": [],
   "source": [
    "dict1 = {'A': 20,'B':30}  #key >>> A and B , Value>> 20,30"
   ]
  },
  {
   "cell_type": "code",
   "execution_count": 7,
   "id": "d1ff9ff0",
   "metadata": {},
   "outputs": [
    {
     "data": {
      "text/plain": [
       "dict"
      ]
     },
     "execution_count": 7,
     "metadata": {},
     "output_type": "execute_result"
    }
   ],
   "source": [
    "dict1 = {'A': 20,'B':30}\n",
    "type(dict1)"
   ]
  },
  {
   "cell_type": "code",
   "execution_count": 8,
   "id": "073d3940",
   "metadata": {},
   "outputs": [
    {
     "name": "stdout",
     "output_type": "stream",
     "text": [
      "{'A': 20, 'B': 30}\n"
     ]
    }
   ],
   "source": [
    "dict1 = {'A': 20,'B':30}\n",
    "print(dict1)"
   ]
  },
  {
   "cell_type": "code",
   "execution_count": 9,
   "id": "732bc0f5",
   "metadata": {},
   "outputs": [
    {
     "data": {
      "text/plain": [
       "dict"
      ]
     },
     "execution_count": 9,
     "metadata": {},
     "output_type": "execute_result"
    }
   ],
   "source": [
    "dict1 = {1:35,3.5:'python',\"L\": 45, \"data\": \"science\"}\n",
    "type(dict1)"
   ]
  },
  {
   "cell_type": "code",
   "execution_count": 10,
   "id": "2e1e989f",
   "metadata": {},
   "outputs": [
    {
     "name": "stdout",
     "output_type": "stream",
     "text": [
      "{1: 35, 3.5: 'python', 'L': 45, 'data': 'science'}\n"
     ]
    }
   ],
   "source": [
    "dict1 = {1:35,3.5:'python',\"L\": 45, \"data\": \"science\"}\n",
    "print(dict1)"
   ]
  },
  {
   "cell_type": "code",
   "execution_count": 13,
   "id": "ba2fb042",
   "metadata": {},
   "outputs": [
    {
     "data": {
      "text/plain": [
       "dict"
      ]
     },
     "execution_count": 13,
     "metadata": {},
     "output_type": "execute_result"
    }
   ],
   "source": [
    "dict1 = {1:{35,'python'},3.5:'python',\"L\": [45,25,56,456], \"data\": \"science\",3.6:'python'}\n",
    "type(dict1)"
   ]
  },
  {
   "cell_type": "code",
   "execution_count": 14,
   "id": "053ad115",
   "metadata": {},
   "outputs": [
    {
     "name": "stdout",
     "output_type": "stream",
     "text": [
      "{1: {35, 'python'}, 3.5: 'python', 'L': [45, 25, 56, 456], 'data': 'science', 3.6: 'python'}\n"
     ]
    }
   ],
   "source": [
    "dict1 = {1:{35,'python'},3.5:'python',\"L\": [45,25,56,456], \"data\": \"science\",3.6:'python'}\n",
    "print(dict1)"
   ]
  },
  {
   "cell_type": "code",
   "execution_count": 15,
   "id": "ddc017a0",
   "metadata": {},
   "outputs": [
    {
     "name": "stdout",
     "output_type": "stream",
     "text": [
      "{1: {35, 'python'}, 3.5: 'class', 'L': [45, 25, 56, 456], 'data': 'science'}\n"
     ]
    }
   ],
   "source": [
    "dict1 = {1:{35,'python'},3.5:'python',\"L\": [45,25,56,456], \"data\": \"science\",3.5:'class'}\n",
    "print(dict1)"
   ]
  },
  {
   "cell_type": "code",
   "execution_count": 16,
   "id": "b2526ddc",
   "metadata": {},
   "outputs": [
    {
     "ename": "TypeError",
     "evalue": "unhashable type: 'list'",
     "output_type": "error",
     "traceback": [
      "\u001b[1;31m---------------------------------------------------------------------------\u001b[0m",
      "\u001b[1;31mTypeError\u001b[0m                                 Traceback (most recent call last)",
      "\u001b[1;32m<ipython-input-16-b5a501b5e987>\u001b[0m in \u001b[0;36m<module>\u001b[1;34m\u001b[0m\n\u001b[1;32m----> 1\u001b[1;33m \u001b[0mdict1\u001b[0m \u001b[1;33m=\u001b[0m \u001b[1;33m{\u001b[0m\u001b[1;36m1\u001b[0m\u001b[1;33m:\u001b[0m\u001b[1;33m{\u001b[0m\u001b[1;36m35\u001b[0m\u001b[1;33m,\u001b[0m\u001b[1;34m'python'\u001b[0m\u001b[1;33m}\u001b[0m\u001b[1;33m,\u001b[0m\u001b[1;33m[\u001b[0m\u001b[1;36m3.5\u001b[0m\u001b[1;33m]\u001b[0m\u001b[1;33m:\u001b[0m\u001b[1;34m'python'\u001b[0m\u001b[1;33m,\u001b[0m\u001b[1;34m\"L\"\u001b[0m\u001b[1;33m:\u001b[0m \u001b[1;33m[\u001b[0m\u001b[1;36m45\u001b[0m\u001b[1;33m,\u001b[0m\u001b[1;36m25\u001b[0m\u001b[1;33m,\u001b[0m\u001b[1;36m56\u001b[0m\u001b[1;33m,\u001b[0m\u001b[1;36m456\u001b[0m\u001b[1;33m]\u001b[0m\u001b[1;33m,\u001b[0m \u001b[1;34m\"data\"\u001b[0m\u001b[1;33m:\u001b[0m \u001b[1;34m\"science\"\u001b[0m\u001b[1;33m,\u001b[0m\u001b[1;36m3.5\u001b[0m\u001b[1;33m:\u001b[0m\u001b[1;34m'class'\u001b[0m\u001b[1;33m}\u001b[0m\u001b[1;33m\u001b[0m\u001b[1;33m\u001b[0m\u001b[0m\n\u001b[0m\u001b[0;32m      2\u001b[0m \u001b[0mprint\u001b[0m\u001b[1;33m(\u001b[0m\u001b[0mdict1\u001b[0m\u001b[1;33m)\u001b[0m\u001b[1;33m\u001b[0m\u001b[1;33m\u001b[0m\u001b[0m\n",
      "\u001b[1;31mTypeError\u001b[0m: unhashable type: 'list'"
     ]
    }
   ],
   "source": [
    "dict1 = {1:{35,'python'},[3.5]:'python',\"L\": [45,25,56,456], \"data\": \"science\",3.5:'class'}\n",
    "print(dict1)"
   ]
  },
  {
   "cell_type": "code",
   "execution_count": 19,
   "id": "83a65e58",
   "metadata": {},
   "outputs": [
    {
     "name": "stdout",
     "output_type": "stream",
     "text": [
      "{1: {35, 'python'}, 3.5: 'xlass', 'L': [45, 25, 56, 456], 'data': 'science'}\n"
     ]
    }
   ],
   "source": [
    "dict1 = {1:{35,'python'},(3.5):'python',\"L\": [45,25,56,456], \"data\": \"science\",3.5:'xlass'}\n",
    "print(dict1)"
   ]
  },
  {
   "cell_type": "code",
   "execution_count": 18,
   "id": "acfd8dfd",
   "metadata": {},
   "outputs": [
    {
     "name": "stdout",
     "output_type": "stream",
     "text": [
      "{'A': 100, 'B': 100, 'C': 100, 'D': 100}\n"
     ]
    }
   ],
   "source": [
    "dict2 = {'A':100,'B':100,'C':100,'D':100}\n",
    "print(dict2)"
   ]
  },
  {
   "cell_type": "markdown",
   "id": "c7bb28eb",
   "metadata": {},
   "source": [
    "# Dictionary Function"
   ]
  },
  {
   "cell_type": "code",
   "execution_count": null,
   "id": "664ac422",
   "metadata": {},
   "outputs": [],
   "source": [
    "1. get()\n",
    "2. keys()\n",
    "3. values()\n",
    "4. items()\n",
    "5. update()\n",
    "6. pop()\n",
    "7. popitem()\n",
    "8. clear()\n",
    "9. fromkeys()\n",
    "10. setdefault()\n",
    "11. copy()"
   ]
  },
  {
   "cell_type": "code",
   "execution_count": 20,
   "id": "39e9cee1",
   "metadata": {},
   "outputs": [
    {
     "ename": "KeyError",
     "evalue": "0",
     "output_type": "error",
     "traceback": [
      "\u001b[1;31m---------------------------------------------------------------------------\u001b[0m",
      "\u001b[1;31mKeyError\u001b[0m                                  Traceback (most recent call last)",
      "\u001b[1;32m<ipython-input-20-d36fdab7776e>\u001b[0m in \u001b[0;36m<module>\u001b[1;34m\u001b[0m\n\u001b[0;32m      1\u001b[0m \u001b[0mdict2\u001b[0m \u001b[1;33m=\u001b[0m \u001b[1;33m{\u001b[0m\u001b[1;34m'A'\u001b[0m\u001b[1;33m:\u001b[0m\u001b[1;36m100\u001b[0m\u001b[1;33m,\u001b[0m\u001b[1;34m'B'\u001b[0m\u001b[1;33m:\u001b[0m\u001b[1;36m100\u001b[0m\u001b[1;33m,\u001b[0m\u001b[1;34m'C'\u001b[0m\u001b[1;33m:\u001b[0m\u001b[1;36m100\u001b[0m\u001b[1;33m,\u001b[0m\u001b[1;34m'D'\u001b[0m\u001b[1;33m:\u001b[0m\u001b[1;36m100\u001b[0m\u001b[1;33m}\u001b[0m\u001b[1;33m\u001b[0m\u001b[1;33m\u001b[0m\u001b[0m\n\u001b[1;32m----> 2\u001b[1;33m \u001b[0mdict2\u001b[0m\u001b[1;33m[\u001b[0m\u001b[1;36m0\u001b[0m\u001b[1;33m]\u001b[0m\u001b[1;33m\u001b[0m\u001b[1;33m\u001b[0m\u001b[0m\n\u001b[0m",
      "\u001b[1;31mKeyError\u001b[0m: 0"
     ]
    }
   ],
   "source": [
    "dict2 = {'A':100,'B':100,'C':100,'D':100}\n",
    "dict2[0]"
   ]
  },
  {
   "cell_type": "code",
   "execution_count": 21,
   "id": "82e1714d",
   "metadata": {},
   "outputs": [
    {
     "data": {
      "text/plain": [
       "100"
      ]
     },
     "execution_count": 21,
     "metadata": {},
     "output_type": "execute_result"
    }
   ],
   "source": [
    "dict2 = {'A':100,'B':100,'C':100,'D':100}\n",
    "dict2['A']"
   ]
  },
  {
   "cell_type": "code",
   "execution_count": 23,
   "id": "a2bb8f42",
   "metadata": {},
   "outputs": [
    {
     "data": {
      "text/plain": [
       "{35, 'python'}"
      ]
     },
     "execution_count": 23,
     "metadata": {},
     "output_type": "execute_result"
    }
   ],
   "source": [
    "dict1 = {1:{35,'python'},(3.5):'python',\"L\": [45,25,56,456], \"data\": \"science\",3.5:'xlass'}\n",
    "dict1[1] # 1 is key"
   ]
  },
  {
   "cell_type": "code",
   "execution_count": 24,
   "id": "4508909e",
   "metadata": {},
   "outputs": [
    {
     "data": {
      "text/plain": [
       "[45, 25, 56, 456]"
      ]
     },
     "execution_count": 24,
     "metadata": {},
     "output_type": "execute_result"
    }
   ],
   "source": [
    "dict1 = {1:{35,'python'},(3.5):'python',\"L\": [45,25,56,456], \"data\": \"science\",3.5:'xlass'}\n",
    "dict1['L']\n"
   ]
  },
  {
   "cell_type": "code",
   "execution_count": 2,
   "id": "bb6ea3ba",
   "metadata": {},
   "outputs": [
    {
     "data": {
      "text/plain": [
       "{1: {35, 'python'}, 3.5: 'xlass', 'L': [45, 25, 56, 456], 'data': 'science'}"
      ]
     },
     "execution_count": 2,
     "metadata": {},
     "output_type": "execute_result"
    }
   ],
   "source": [
    "dict1 = {1:{35,'python'},(3.5):'python',\"L\": [45,25,56,456], \"data\": \"science\",3.5:'xlass'}\n",
    "dict1\n"
   ]
  },
  {
   "cell_type": "code",
   "execution_count": 4,
   "id": "363a235f",
   "metadata": {},
   "outputs": [
    {
     "data": {
      "text/plain": [
       "{frozenset({35, 'python'}): {36, 'hon'},\n",
       " 3.5: 'xlass',\n",
       " 'L': [45, 25, 56, 456],\n",
       " 'data': 'science'}"
      ]
     },
     "execution_count": 4,
     "metadata": {},
     "output_type": "execute_result"
    }
   ],
   "source": [
    "dict1 = {frozenset({35,'python'}):{36,'hon'},(3.5):'python',\"L\": [45,25,56,456], \"data\": \"science\",3.5:'xlass'}\n",
    "dict1"
   ]
  },
  {
   "cell_type": "code",
   "execution_count": 5,
   "id": "f98786d5",
   "metadata": {},
   "outputs": [
    {
     "ename": "TypeError",
     "evalue": "unhashable type: 'set'",
     "output_type": "error",
     "traceback": [
      "\u001b[1;31m---------------------------------------------------------------------------\u001b[0m",
      "\u001b[1;31mTypeError\u001b[0m                                 Traceback (most recent call last)",
      "\u001b[1;32m<ipython-input-5-8bcbc6872899>\u001b[0m in \u001b[0;36m<module>\u001b[1;34m\u001b[0m\n\u001b[1;32m----> 1\u001b[1;33m \u001b[0mdict1\u001b[0m \u001b[1;33m=\u001b[0m \u001b[1;33m{\u001b[0m\u001b[1;33m{\u001b[0m\u001b[1;36m35\u001b[0m\u001b[1;33m,\u001b[0m\u001b[1;34m'python'\u001b[0m\u001b[1;33m}\u001b[0m\u001b[1;33m:\u001b[0m\u001b[1;33m{\u001b[0m\u001b[1;36m36\u001b[0m\u001b[1;33m,\u001b[0m\u001b[1;34m'hon'\u001b[0m\u001b[1;33m}\u001b[0m\u001b[1;33m,\u001b[0m\u001b[1;33m(\u001b[0m\u001b[1;36m3.5\u001b[0m\u001b[1;33m)\u001b[0m\u001b[1;33m:\u001b[0m\u001b[1;34m'python'\u001b[0m\u001b[1;33m,\u001b[0m\u001b[1;34m\"L\"\u001b[0m\u001b[1;33m:\u001b[0m \u001b[1;33m[\u001b[0m\u001b[1;36m45\u001b[0m\u001b[1;33m,\u001b[0m\u001b[1;36m25\u001b[0m\u001b[1;33m,\u001b[0m\u001b[1;36m56\u001b[0m\u001b[1;33m,\u001b[0m\u001b[1;36m456\u001b[0m\u001b[1;33m]\u001b[0m\u001b[1;33m,\u001b[0m \u001b[1;34m\"data\"\u001b[0m\u001b[1;33m:\u001b[0m \u001b[1;34m\"science\"\u001b[0m\u001b[1;33m,\u001b[0m\u001b[1;36m3.5\u001b[0m\u001b[1;33m:\u001b[0m\u001b[1;34m'xlass'\u001b[0m\u001b[1;33m}\u001b[0m\u001b[1;33m\u001b[0m\u001b[1;33m\u001b[0m\u001b[0m\n\u001b[0m\u001b[0;32m      2\u001b[0m \u001b[0mdict1\u001b[0m\u001b[1;33m\u001b[0m\u001b[1;33m\u001b[0m\u001b[0m\n",
      "\u001b[1;31mTypeError\u001b[0m: unhashable type: 'set'"
     ]
    }
   ],
   "source": [
    "dict1 = {{35,'python'}:{36,'hon'},(3.5):'python',\"L\": [45,25,56,456], \"data\": \"science\",3.5:'xlass'}\n",
    "dict1"
   ]
  },
  {
   "cell_type": "markdown",
   "id": "923e24a7",
   "metadata": {},
   "source": [
    "### 1. get"
   ]
  },
  {
   "cell_type": "code",
   "execution_count": null,
   "id": "6c32cb7a",
   "metadata": {},
   "outputs": [],
   "source": [
    "returns the value of specified key"
   ]
  },
  {
   "cell_type": "code",
   "execution_count": 26,
   "id": "aaf82d46",
   "metadata": {},
   "outputs": [
    {
     "data": {
      "text/plain": [
       "[45, 25, 56, 456]"
      ]
     },
     "execution_count": 26,
     "metadata": {},
     "output_type": "execute_result"
    }
   ],
   "source": [
    "dict1 = {1:{35,'python'},(3.5):'python',\"L\": [45,25,56,456], \"data\": \"science\",3.5:'xlass'}\n",
    "dict1.get('L')"
   ]
  },
  {
   "cell_type": "code",
   "execution_count": 27,
   "id": "c3808a2d",
   "metadata": {},
   "outputs": [
    {
     "data": {
      "text/plain": [
       "'science'"
      ]
     },
     "execution_count": 27,
     "metadata": {},
     "output_type": "execute_result"
    }
   ],
   "source": [
    "dict1 = {1:{35,'python'},(3.5):'python',\"L\": [45,25,56,456], \"data\": \"science\",3.5:'xlass'}\n",
    "dict1.get('data')"
   ]
  },
  {
   "cell_type": "code",
   "execution_count": 30,
   "id": "dd98e915",
   "metadata": {},
   "outputs": [
    {
     "data": {
      "text/plain": [
       "'xlass'"
      ]
     },
     "execution_count": 30,
     "metadata": {},
     "output_type": "execute_result"
    }
   ],
   "source": [
    "dict1 = {1:{35,'python'},(3.5):'python',\"L\": [45,25,56,456], \"data\": \"science\",3.5:'xlass'}\n",
    "dict1.get(3.5)"
   ]
  },
  {
   "cell_type": "markdown",
   "id": "f7df89a8",
   "metadata": {},
   "source": [
    "### 2. keys"
   ]
  },
  {
   "cell_type": "code",
   "execution_count": null,
   "id": "a845e096",
   "metadata": {},
   "outputs": [],
   "source": [
    "returns the list of dictionary keys"
   ]
  },
  {
   "cell_type": "code",
   "execution_count": 75,
   "id": "5739e96c",
   "metadata": {},
   "outputs": [],
   "source": [
    "dict1 = {1:{35,'python'},(3.5,):'python',\"L\": [45,25,56,456], \"data\": \"science\",3.5:'xlass'}\n"
   ]
  },
  {
   "cell_type": "code",
   "execution_count": 81,
   "id": "a6587dce",
   "metadata": {},
   "outputs": [],
   "source": [
    "dict1 = {1:{35,'python'},(3.5,):'python',\"K\":None , \"data\": \"science\",3.5:'xlass'}\n",
    "dict1.get('K')"
   ]
  },
  {
   "cell_type": "code",
   "execution_count": 34,
   "id": "f0ea9759",
   "metadata": {},
   "outputs": [
    {
     "data": {
      "text/plain": [
       "'python'"
      ]
     },
     "execution_count": 34,
     "metadata": {},
     "output_type": "execute_result"
    }
   ],
   "source": [
    "dict1.get((3.5,))"
   ]
  },
  {
   "cell_type": "code",
   "execution_count": 35,
   "id": "a057623c",
   "metadata": {},
   "outputs": [
    {
     "data": {
      "text/plain": [
       "dict_keys([1, (3.5,), 'L', 'data', 3.5])"
      ]
     },
     "execution_count": 35,
     "metadata": {},
     "output_type": "execute_result"
    }
   ],
   "source": [
    "dict1 = {1:{35,'python'},(3.5,):'python',\"L\": [45,25,56,456], \"data\": \"science\",3.5:'xlass'}\n",
    "x = dict1.keys()\n",
    "x"
   ]
  },
  {
   "cell_type": "code",
   "execution_count": 38,
   "id": "d09ad48b",
   "metadata": {},
   "outputs": [
    {
     "data": {
      "text/plain": [
       "dict_keys(['Name', 'Age', 'Team', 'Score'])"
      ]
     },
     "execution_count": 38,
     "metadata": {},
     "output_type": "execute_result"
    }
   ],
   "source": [
    "player = {'Name': 'Virat Kohli','Age': 35, 'Team':'India','Score': True}\n",
    "x= player.keys()\n",
    "x"
   ]
  },
  {
   "cell_type": "code",
   "execution_count": 39,
   "id": "28faef8d",
   "metadata": {},
   "outputs": [
    {
     "name": "stdout",
     "output_type": "stream",
     "text": [
      "{'Name': 'Virat Kohli', 'Age': 35, False: 'India', 'Score': True}\n"
     ]
    }
   ],
   "source": [
    "player = {'Name': 'Virat Kohli','Age': 35, False:'India','Score': True}\n",
    "print(player)"
   ]
  },
  {
   "cell_type": "code",
   "execution_count": 42,
   "id": "852fcd81",
   "metadata": {},
   "outputs": [
    {
     "name": "stdout",
     "output_type": "stream",
     "text": [
      "Key Is  :   Name\n",
      "Key Is  :   Age\n",
      "Key Is  :   Team\n",
      "Key Is  :   Score\n"
     ]
    }
   ],
   "source": [
    "player = {'Name': 'Virat Kohli','Age': 35, 'Team':'India','Score': 100}\n",
    "\n",
    "for key in player.keys():\n",
    "    print('Key Is  :  ',key)"
   ]
  },
  {
   "cell_type": "code",
   "execution_count": 43,
   "id": "d21ac700",
   "metadata": {},
   "outputs": [
    {
     "name": "stdout",
     "output_type": "stream",
     "text": [
      "Key Is  :   Name\n",
      "Key Is  :   Age\n",
      "Key Is  :   Team\n",
      "Key Is  :   Score\n"
     ]
    }
   ],
   "source": [
    "player = {'Name': 'Virat Kohli','Age': 35, 'Team':'India','Score': 100}\n",
    "\n",
    "for key in player:\n",
    "    print('Key Is  :  ',key)"
   ]
  },
  {
   "cell_type": "markdown",
   "id": "23c89299",
   "metadata": {},
   "source": [
    "### 3. Values"
   ]
  },
  {
   "cell_type": "code",
   "execution_count": null,
   "id": "04128fea",
   "metadata": {},
   "outputs": [],
   "source": [
    "returns list of dict values"
   ]
  },
  {
   "cell_type": "code",
   "execution_count": 44,
   "id": "d68124d1",
   "metadata": {},
   "outputs": [
    {
     "data": {
      "text/plain": [
       "dict_values(['Virat Kohli', 35, 'India', 100])"
      ]
     },
     "execution_count": 44,
     "metadata": {},
     "output_type": "execute_result"
    }
   ],
   "source": [
    "player = {'Name': 'Virat Kohli','Age': 35, 'Team':'India','Score': 100}\n",
    "player.values()"
   ]
  },
  {
   "cell_type": "code",
   "execution_count": 45,
   "id": "81d3dbd5",
   "metadata": {},
   "outputs": [
    {
     "name": "stdout",
     "output_type": "stream",
     "text": [
      "value Is  :   Virat Kohli\n",
      "value Is  :   35\n",
      "value Is  :   India\n",
      "value Is  :   100\n"
     ]
    }
   ],
   "source": [
    "player = {'Name': 'Virat Kohli','Age': 35, 'Team':'India','Score': 100}\n",
    "\n",
    "for value in player.values():\n",
    "    print('value Is  :  ',value)"
   ]
  },
  {
   "cell_type": "markdown",
   "id": "0c122b6f",
   "metadata": {},
   "source": [
    "### 4. items()"
   ]
  },
  {
   "cell_type": "code",
   "execution_count": null,
   "id": "4c07f29c",
   "metadata": {},
   "outputs": [],
   "source": [
    "returns list of tuple of key value pair"
   ]
  },
  {
   "cell_type": "code",
   "execution_count": 46,
   "id": "8137fcaf",
   "metadata": {},
   "outputs": [
    {
     "data": {
      "text/plain": [
       "dict_items([('Name', 'Virat Kohli'), ('Age', 35), ('Team', 'India'), ('Score', 100)])"
      ]
     },
     "execution_count": 46,
     "metadata": {},
     "output_type": "execute_result"
    }
   ],
   "source": [
    "player = {'Name': 'Virat Kohli','Age': 35, 'Team':'India','Score': 100}\n",
    "player.items()"
   ]
  },
  {
   "cell_type": "code",
   "execution_count": 49,
   "id": "ec7c1dd8",
   "metadata": {},
   "outputs": [
    {
     "name": "stdout",
     "output_type": "stream",
     "text": [
      "key is:    Name    :and value is:    Virat Kohli\n",
      "key is:    Age    :and value is:    35\n",
      "key is:    Team    :and value is:    India\n",
      "key is:    Score    :and value is:    100\n"
     ]
    }
   ],
   "source": [
    "player = {'Name': 'Virat Kohli','Age': 35, 'Team':'India','Score': 100}\n",
    "\n",
    "for key,value in player.items():\n",
    "    print(f\"key is:    {key}    :and value is:    {value}\")"
   ]
  },
  {
   "cell_type": "markdown",
   "id": "cb8c56b3",
   "metadata": {},
   "source": [
    "### 5. update()\n",
    "it updates the dictionary with specified key value pair"
   ]
  },
  {
   "cell_type": "code",
   "execution_count": 50,
   "id": "6a701620",
   "metadata": {},
   "outputs": [
    {
     "data": {
      "text/plain": [
       "{4: 16, 5: 20, 6: 25}"
      ]
     },
     "execution_count": 50,
     "metadata": {},
     "output_type": "execute_result"
    }
   ],
   "source": [
    "d1 = {}\n",
    "d2 ={4:16,5:20,6:25}\n",
    "d1.update(d2)\n",
    "d1"
   ]
  },
  {
   "cell_type": "code",
   "execution_count": 51,
   "id": "d459d135",
   "metadata": {},
   "outputs": [
    {
     "data": {
      "text/plain": [
       "{'A': 16, 5: 20, 'data': 25, 3.5: 98}"
      ]
     },
     "execution_count": 51,
     "metadata": {},
     "output_type": "execute_result"
    }
   ],
   "source": [
    "d1 = {'A':16,5:20,\"data\":25}\n",
    "d2 ={3.5:98}\n",
    "d1.update(d2)\n",
    "d1"
   ]
  },
  {
   "cell_type": "code",
   "execution_count": 52,
   "id": "8bb177aa",
   "metadata": {},
   "outputs": [
    {
     "data": {
      "text/plain": [
       "{'Name': 'Virat Kohli',\n",
       " 'Age': 35,\n",
       " 'Team': 'India',\n",
       " 'Score': 100,\n",
       " 'City': 'Mumbai'}"
      ]
     },
     "execution_count": 52,
     "metadata": {},
     "output_type": "execute_result"
    }
   ],
   "source": [
    "player = {'Name': 'Virat Kohli','Age': 35, 'Team':'India','Score': 100}\n",
    "player.update({'City':\"Mumbai\"})\n",
    "player"
   ]
  },
  {
   "cell_type": "code",
   "execution_count": 53,
   "id": "00ea1c73",
   "metadata": {},
   "outputs": [
    {
     "data": {
      "text/plain": [
       "{'Name': 'Virat Kohli',\n",
       " 'Age': 35,\n",
       " 'Team': 'India',\n",
       " 'Score': 100,\n",
       " 'Country': 'IND'}"
      ]
     },
     "execution_count": 53,
     "metadata": {},
     "output_type": "execute_result"
    }
   ],
   "source": [
    "player = {'Name': 'Virat Kohli','Age': 35, 'Team':'India','Score': 100}\n",
    "player.update({'Country':\"IND\"})\n",
    "player"
   ]
  },
  {
   "cell_type": "code",
   "execution_count": 55,
   "id": "78856723",
   "metadata": {},
   "outputs": [
    {
     "data": {
      "text/plain": [
       "{'Name': 'Virat Kohli', 'Age': 36, 'Team': 'India', 'Score': 100}"
      ]
     },
     "execution_count": 55,
     "metadata": {},
     "output_type": "execute_result"
    }
   ],
   "source": [
    "player = {'Name': 'Virat Kohli','Age': 35, 'Team':'India','Score': 100}\n",
    "\n",
    "player['Age']=36\n",
    "player"
   ]
  },
  {
   "cell_type": "code",
   "execution_count": 57,
   "id": "503c5bff",
   "metadata": {},
   "outputs": [
    {
     "name": "stdout",
     "output_type": "stream",
     "text": [
      "{'Rohit': 35}\n",
      "{'Rohit': 35, 'Sachin': 45}\n",
      "{'Rohit': 35, 'Sachin': 45, 'Virat': 34}\n",
      "{'Rohit': 35, 'Sachin': 45, 'Virat': 34, 'Dhoni': 44}\n"
     ]
    },
    {
     "data": {
      "text/plain": [
       "dict"
      ]
     },
     "execution_count": 57,
     "metadata": {},
     "output_type": "execute_result"
    }
   ],
   "source": [
    "names = ['Rohit', 'Sachin', 'Virat', 'Dhoni']    #{'Rohit':35,}\n",
    "age   = [35,45,34,44]\n",
    "\n",
    "result ={}\n",
    "for i, name in enumerate(names):\n",
    "    result.update({name:age[i]})\n",
    "    print(result)\n",
    "    \n",
    "type(result)"
   ]
  },
  {
   "cell_type": "code",
   "execution_count": 58,
   "id": "39b7eeb7",
   "metadata": {},
   "outputs": [
    {
     "name": "stdout",
     "output_type": "stream",
     "text": [
      "D1   : {'a': 97, 'b': 56, 'c': 98, 'd': 57}\n",
      "D2   : {'c': 98, 'd': 57}\n"
     ]
    }
   ],
   "source": [
    "d1 = {'a':97,'b':56}\n",
    "d2 = {'c':98,'d':57}\n",
    "d1.update(d2)\n",
    "print('D1   :',d1)\n",
    "print('D2   :',d2)"
   ]
  },
  {
   "cell_type": "code",
   "execution_count": 59,
   "id": "24042485",
   "metadata": {},
   "outputs": [
    {
     "name": "stdout",
     "output_type": "stream",
     "text": [
      "D1   : {'a': 97, 'b': 56}\n",
      "D2   : {'c': 98, 'd': 57, 'a': 97, 'b': 56}\n"
     ]
    }
   ],
   "source": [
    "d1 = {'a':97,'b':56}\n",
    "d2 = {'c':98,'d':57}\n",
    "d2.update(d1)\n",
    "print('D1   :',d1)\n",
    "print('D2   :',d2)"
   ]
  },
  {
   "cell_type": "markdown",
   "id": "d34e9d18",
   "metadata": {},
   "source": [
    "### How to delete items from dict"
   ]
  },
  {
   "cell_type": "code",
   "execution_count": null,
   "id": "e964dafe",
   "metadata": {},
   "outputs": [],
   "source": [
    "1. pop()\n",
    "2. popitem()\n",
    "3. clear()"
   ]
  },
  {
   "cell_type": "code",
   "execution_count": 62,
   "id": "a4f59d6e",
   "metadata": {},
   "outputs": [
    {
     "data": {
      "text/plain": [
       "{'Name': 'Vishal',\n",
       " 'Age': 28,\n",
       " 'Company': 'Wipro',\n",
       " 'Designation': 'Data Scientist',\n",
       " 'Location': 'Pune',\n",
       " 'Salary': 95000}"
      ]
     },
     "execution_count": 62,
     "metadata": {},
     "output_type": "execute_result"
    }
   ],
   "source": [
    "employee_details = {'Name': 'Vishal',\n",
    "                    'Age' : 28,\n",
    "                    'Company': 'Wipro',\n",
    "                    'Designation': 'Data Scientist',\n",
    "                    'Location': 'Pune',\n",
    "                    'Salary': 95000}\n",
    "# print(employee_details)\n",
    "employee_details"
   ]
  },
  {
   "cell_type": "markdown",
   "id": "86887da1",
   "metadata": {},
   "source": [
    "### 1. pop()"
   ]
  },
  {
   "cell_type": "code",
   "execution_count": null,
   "id": "f3b20518",
   "metadata": {},
   "outputs": [],
   "source": [
    "removes element with specified key"
   ]
  },
  {
   "cell_type": "code",
   "execution_count": 63,
   "id": "64760970",
   "metadata": {},
   "outputs": [
    {
     "data": {
      "text/plain": [
       "{'Name': 'Vishal',\n",
       " 'Age': 28,\n",
       " 'Company': 'Wipro',\n",
       " 'Designation': 'Data Scientist',\n",
       " 'Salary': 95000}"
      ]
     },
     "execution_count": 63,
     "metadata": {},
     "output_type": "execute_result"
    }
   ],
   "source": [
    "employee_details = {'Name': 'Vishal',\n",
    "                    'Age' : 28,\n",
    "                    'Company': 'Wipro',\n",
    "                    'Designation': 'Data Scientist',\n",
    "                    'Location': 'Pune',\n",
    "                    'Salary': 95000}   #remove Location\n",
    "\n",
    "employee_details.pop('Location')\n",
    "employee_details"
   ]
  },
  {
   "cell_type": "code",
   "execution_count": 64,
   "id": "ddf4e38b",
   "metadata": {},
   "outputs": [
    {
     "data": {
      "text/plain": [
       "{'Name': 'Vishal',\n",
       " 'Age': 28,\n",
       " 'Company': 'Wipro',\n",
       " 'Designation': 'Data Scientist',\n",
       " 'Location': 'Pune'}"
      ]
     },
     "execution_count": 64,
     "metadata": {},
     "output_type": "execute_result"
    }
   ],
   "source": [
    "employee_details = {'Name': 'Vishal',\n",
    "                    'Age' : 28,\n",
    "                    'Company': 'Wipro',\n",
    "                    'Designation': 'Data Scientist',\n",
    "                    'Location': 'Pune',\n",
    "                    'Salary': 95000}  \n",
    "\n",
    "employee_details.pop('Salary')\n",
    "employee_details"
   ]
  },
  {
   "cell_type": "code",
   "execution_count": 65,
   "id": "abfe7b93",
   "metadata": {},
   "outputs": [
    {
     "ename": "KeyError",
     "evalue": "'age'",
     "output_type": "error",
     "traceback": [
      "\u001b[1;31m---------------------------------------------------------------------------\u001b[0m",
      "\u001b[1;31mKeyError\u001b[0m                                  Traceback (most recent call last)",
      "\u001b[1;32m<ipython-input-65-8d7e5e596ad8>\u001b[0m in \u001b[0;36m<module>\u001b[1;34m\u001b[0m\n\u001b[0;32m      6\u001b[0m                     'Salary': 95000}  \n\u001b[0;32m      7\u001b[0m \u001b[1;33m\u001b[0m\u001b[0m\n\u001b[1;32m----> 8\u001b[1;33m \u001b[0memployee_details\u001b[0m\u001b[1;33m.\u001b[0m\u001b[0mpop\u001b[0m\u001b[1;33m(\u001b[0m\u001b[1;34m'age'\u001b[0m\u001b[1;33m)\u001b[0m\u001b[1;33m\u001b[0m\u001b[1;33m\u001b[0m\u001b[0m\n\u001b[0m\u001b[0;32m      9\u001b[0m \u001b[0memployee_details\u001b[0m\u001b[1;33m\u001b[0m\u001b[1;33m\u001b[0m\u001b[0m\n",
      "\u001b[1;31mKeyError\u001b[0m: 'age'"
     ]
    }
   ],
   "source": [
    "employee_details = {'Name': 'Vishal',\n",
    "                    'Age' : 28,\n",
    "                    'Company': 'Wipro',\n",
    "                    'Designation': 'Data Scientist',\n",
    "                    'Location': 'Pune',\n",
    "                    'Salary': 95000}  \n",
    "\n",
    "employee_details.pop('age')\n",
    "employee_details"
   ]
  },
  {
   "cell_type": "code",
   "execution_count": 69,
   "id": "5720fa33",
   "metadata": {},
   "outputs": [
    {
     "name": "stdout",
     "output_type": "stream",
     "text": [
      "len of dict before poping is:  6\n",
      "len of dict after poping is :  5\n"
     ]
    },
    {
     "data": {
      "text/plain": [
       "{'Name': 'Vishal',\n",
       " 'Company': 'Wipro',\n",
       " 'Designation': 'Data Scientist',\n",
       " 'Location': 'Pune',\n",
       " 'Salary': 95000}"
      ]
     },
     "execution_count": 69,
     "metadata": {},
     "output_type": "execute_result"
    }
   ],
   "source": [
    "employee_details = {'Name': 'Vishal',\n",
    "                    'Age' : 28,\n",
    "                    'Company': 'Wipro',\n",
    "                    'Designation': 'Data Scientist',\n",
    "                    'Location': 'Pune',\n",
    "                    'Salary': 95000}  \n",
    "print('len of dict before poping is: ',len(employee_details))\n",
    "\n",
    "employee_details.pop('Age')\n",
    "print('len of dict after poping is : ',len(employee_details))\n",
    "employee_details"
   ]
  },
  {
   "cell_type": "markdown",
   "id": "3f1405e0",
   "metadata": {},
   "source": [
    "### 2. popitem()"
   ]
  },
  {
   "cell_type": "code",
   "execution_count": null,
   "id": "90b06eef",
   "metadata": {},
   "outputs": [],
   "source": [
    "used to remove/delete last inserted item"
   ]
  },
  {
   "cell_type": "code",
   "execution_count": 70,
   "id": "63bfc95b",
   "metadata": {},
   "outputs": [
    {
     "data": {
      "text/plain": [
       "{'Name': 'Vishal',\n",
       " 'Age': 28,\n",
       " 'Company': 'Wipro',\n",
       " 'Designation': 'Data Scientist',\n",
       " 'Location': 'Pune'}"
      ]
     },
     "execution_count": 70,
     "metadata": {},
     "output_type": "execute_result"
    }
   ],
   "source": [
    "employee_details = {'Name': 'Vishal',\n",
    "                    'Age' : 28,\n",
    "                    'Company': 'Wipro',\n",
    "                    'Designation': 'Data Scientist',\n",
    "                    'Location': 'Pune',\n",
    "                    'Salary': 95000}  \n",
    "\n",
    "employee_details.popitem()\n",
    "employee_details"
   ]
  },
  {
   "cell_type": "code",
   "execution_count": 71,
   "id": "d5636b27",
   "metadata": {},
   "outputs": [
    {
     "name": "stdout",
     "output_type": "stream",
     "text": [
      "len of dict before popitem is:  6\n",
      "len of dict after popitem is :  5\n"
     ]
    },
    {
     "data": {
      "text/plain": [
       "{'Name': 'Vishal',\n",
       " 'Age': 28,\n",
       " 'Company': 'Wipro',\n",
       " 'Designation': 'Data Scientist',\n",
       " 'Location': 'Pune'}"
      ]
     },
     "execution_count": 71,
     "metadata": {},
     "output_type": "execute_result"
    }
   ],
   "source": [
    "employee_details = {'Name': 'Vishal',\n",
    "                    'Age' : 28,\n",
    "                    'Company': 'Wipro',\n",
    "                    'Designation': 'Data Scientist',\n",
    "                    'Location': 'Pune',\n",
    "                    'Salary': 95000}  \n",
    "print('len of dict before popitem is: ',len(employee_details))\n",
    "\n",
    "employee_details.popitem()\n",
    "print('len of dict after popitem is : ',len(employee_details))\n",
    "employee_details"
   ]
  },
  {
   "cell_type": "markdown",
   "id": "6a5b1793",
   "metadata": {},
   "source": [
    "### 3. clear()"
   ]
  },
  {
   "cell_type": "code",
   "execution_count": null,
   "id": "3a2c2b4d",
   "metadata": {},
   "outputs": [],
   "source": [
    "remove all element from dict"
   ]
  },
  {
   "cell_type": "code",
   "execution_count": 72,
   "id": "ee82f3f4",
   "metadata": {},
   "outputs": [
    {
     "data": {
      "text/plain": [
       "{}"
      ]
     },
     "execution_count": 72,
     "metadata": {},
     "output_type": "execute_result"
    }
   ],
   "source": [
    "employee_details = {'Name': 'Vishal',\n",
    "                    'Age' : 28,\n",
    "                    'Company': 'Wipro',\n",
    "                    'Designation': 'Data Scientist',\n",
    "                    'Location': 'Pune',\n",
    "                    'Salary': 95000}  \n",
    "\n",
    "employee_details.clear()\n",
    "employee_details"
   ]
  },
  {
   "cell_type": "markdown",
   "id": "722bb163",
   "metadata": {},
   "source": [
    "### 4. del keyword"
   ]
  },
  {
   "cell_type": "code",
   "execution_count": 73,
   "id": "045cbc43",
   "metadata": {},
   "outputs": [
    {
     "ename": "NameError",
     "evalue": "name 'employee_details' is not defined",
     "output_type": "error",
     "traceback": [
      "\u001b[1;31m---------------------------------------------------------------------------\u001b[0m",
      "\u001b[1;31mNameError\u001b[0m                                 Traceback (most recent call last)",
      "\u001b[1;32m<ipython-input-73-ebfdfad615cb>\u001b[0m in \u001b[0;36m<module>\u001b[1;34m\u001b[0m\n\u001b[0;32m      7\u001b[0m \u001b[1;33m\u001b[0m\u001b[0m\n\u001b[0;32m      8\u001b[0m \u001b[1;32mdel\u001b[0m \u001b[0memployee_details\u001b[0m\u001b[1;33m\u001b[0m\u001b[1;33m\u001b[0m\u001b[0m\n\u001b[1;32m----> 9\u001b[1;33m \u001b[0memployee_details\u001b[0m\u001b[1;33m\u001b[0m\u001b[1;33m\u001b[0m\u001b[0m\n\u001b[0m",
      "\u001b[1;31mNameError\u001b[0m: name 'employee_details' is not defined"
     ]
    }
   ],
   "source": [
    "employee_details = {'Name': 'Vishal',\n",
    "                    'Age' : 28,\n",
    "                    'Company': 'Wipro',\n",
    "                    'Designation': 'Data Scientist',\n",
    "                    'Location': 'Pune',\n",
    "                    'Salary': 95000}  \n",
    "\n",
    "del employee_details\n",
    "employee_details"
   ]
  },
  {
   "cell_type": "code",
   "execution_count": 74,
   "id": "e0210576",
   "metadata": {},
   "outputs": [
    {
     "data": {
      "text/plain": [
       "{'Name': 'Vishal',\n",
       " 'Company': 'Wipro',\n",
       " 'Designation': 'Data Scientist',\n",
       " 'Location': 'Pune',\n",
       " 'Salary': 95000}"
      ]
     },
     "execution_count": 74,
     "metadata": {},
     "output_type": "execute_result"
    }
   ],
   "source": [
    "employee_details = {'Name': 'Vishal',\n",
    "                    'Age' : 28,\n",
    "                    'Company': 'Wipro',\n",
    "                    'Designation': 'Data Scientist',\n",
    "                    'Location': 'Pune',\n",
    "                    'Salary': 95000}  \n",
    "\n",
    "del employee_details['Age']\n",
    "employee_details"
   ]
  },
  {
   "cell_type": "markdown",
   "id": "f79feb61",
   "metadata": {},
   "source": [
    "## Nested Dictionary"
   ]
  },
  {
   "cell_type": "code",
   "execution_count": null,
   "id": "61fe3d0c",
   "metadata": {},
   "outputs": [],
   "source": [
    "Dict in dict"
   ]
  },
  {
   "cell_type": "code",
   "execution_count": 6,
   "id": "02e1ab88",
   "metadata": {},
   "outputs": [
    {
     "data": {
      "text/plain": [
       "6"
      ]
     },
     "execution_count": 6,
     "metadata": {},
     "output_type": "execute_result"
    }
   ],
   "source": [
    "employee_details = {'Name': 'Vishal',\n",
    "                    'Age' : 28,\n",
    "                    'Company': 'Wipro',\n",
    "                    'Designation': 'Data Scientist',\n",
    "                    'Location': 'Pune',\n",
    "                    'Salary': 95000}  \n",
    "len(employee_details)"
   ]
  },
  {
   "cell_type": "code",
   "execution_count": 8,
   "id": "f07b98c7",
   "metadata": {},
   "outputs": [
    {
     "data": {
      "text/plain": [
       "3"
      ]
     },
     "execution_count": 8,
     "metadata": {},
     "output_type": "execute_result"
    }
   ],
   "source": [
    "employee_details = {\"TCS10005\": {'Name': 'Vishal',\n",
    "                                'Age' : 28,\n",
    "                                'Designation': 'Data Scientist',\n",
    "                                'Location': 'Pune',\n",
    "                                'Salary': 95000},\n",
    "                    \"TCS10006\" :{'Name': 'Pravin',\n",
    "                                'Age' : 27,\n",
    "                                'Designation': 'Python Developer',\n",
    "                                'Location': 'Mumbai',\n",
    "                                'Salary': 80000},\n",
    "                    \"TCS10007\" :{'Name': 'Anand',\n",
    "                                'Age' : 29,\n",
    "                                'Designation': 'Data Analyst',\n",
    "                                'Location': 'Banglore',\n",
    "                                'Salary': 90000}}\n",
    "len(employee_details)"
   ]
  },
  {
   "cell_type": "code",
   "execution_count": 9,
   "id": "bf5e7f79",
   "metadata": {},
   "outputs": [
    {
     "data": {
      "text/plain": [
       "1"
      ]
     },
     "execution_count": 9,
     "metadata": {},
     "output_type": "execute_result"
    }
   ],
   "source": [
    "employee_details = {\"TCS10005\": {'Name': 'Vishal',\n",
    "                                'Age' : 28,\n",
    "                                'Designation': 'Data Scientist',\n",
    "                                'Location': 'Pune',\n",
    "                                'Salary': 95000}}\n",
    "len(employee_details)"
   ]
  },
  {
   "cell_type": "code",
   "execution_count": 11,
   "id": "83a3a631",
   "metadata": {},
   "outputs": [
    {
     "data": {
      "text/plain": [
       "{'TCS10005': {'Name': 'Vishal',\n",
       "  'Age': 28,\n",
       "  'Designation': 'Data Scientist',\n",
       "  'Location': 'Pune',\n",
       "  'Salary': 95000},\n",
       " 'TCS10006': {'Name': 'Pravin',\n",
       "  'Age': 27,\n",
       "  'Designation': 'Python Developer',\n",
       "  'Location': 'Mumbai',\n",
       "  'Salary': 80000},\n",
       " 'TCS10007': {'Name': 'Anand',\n",
       "  'Age': 29,\n",
       "  'Designation': 'Data Analyst',\n",
       "  'Location': 'Banglore',\n",
       "  'Salary': 90000}}"
      ]
     },
     "execution_count": 11,
     "metadata": {},
     "output_type": "execute_result"
    }
   ],
   "source": [
    "employee_details = {\"TCS10005\": {'Name': 'Vishal',\n",
    "                                'Age' : 28,\n",
    "                                'Designation': 'Data Scientist',\n",
    "                                'Location': 'Pune',\n",
    "                                'Salary': 95000},\n",
    "                    \"TCS10006\" :{'Name': 'Pravin',\n",
    "                                'Age' : 27,\n",
    "                                'Designation': 'Python Developer',\n",
    "                                'Location': 'Mumbai',\n",
    "                                'Salary': 80000},\n",
    "                    \"TCS10007\" :{'Name': 'Anand',\n",
    "                                'Age' : 29,\n",
    "                                'Designation': 'Data Analyst',\n",
    "                                'Location': 'Banglore',\n",
    "                                'Salary': 90000}}\n",
    "employee_details"
   ]
  },
  {
   "cell_type": "code",
   "execution_count": 12,
   "id": "b5d85110",
   "metadata": {},
   "outputs": [
    {
     "data": {
      "text/plain": [
       "'Vishal'"
      ]
     },
     "execution_count": 12,
     "metadata": {},
     "output_type": "execute_result"
    }
   ],
   "source": [
    "employee_details = {\"TCS10005\": {'Name': 'Vishal',\n",
    "                                'Age' : 28,\n",
    "                                'Designation': 'Data Scientist',\n",
    "                                'Location': 'Pune',\n",
    "                                'Salary': 95000},\n",
    "                    \"TCS10006\" :{'Name': 'Pravin',\n",
    "                                'Age' : 27,\n",
    "                                'Designation': 'Python Developer',\n",
    "                                'Location': 'Mumbai',\n",
    "                                'Salary': 80000},\n",
    "                    \"TCS10007\" :{'Name': 'Anand',\n",
    "                                'Age' : 29,\n",
    "                                'Designation': 'Data Analyst',\n",
    "                                'Location': 'Banglore',\n",
    "                                'Salary': 90000}}\n",
    "\n",
    "employee_details['TCS10005']['Name'] #dict"
   ]
  },
  {
   "cell_type": "code",
   "execution_count": 13,
   "id": "3f344c94",
   "metadata": {},
   "outputs": [
    {
     "data": {
      "text/plain": [
       "'Pravin'"
      ]
     },
     "execution_count": 13,
     "metadata": {},
     "output_type": "execute_result"
    }
   ],
   "source": [
    "employee_details = {\"TCS10005\": {'Name': 'Vishal',\n",
    "                                'Age' : 28,\n",
    "                                'Designation': 'Data Scientist',\n",
    "                                'Location': 'Pune',\n",
    "                                'Salary': 95000},\n",
    "                    \"TCS10006\" :{'Name': 'Pravin',\n",
    "                                'Age' : 27,\n",
    "                                'Designation': 'Python Developer',\n",
    "                                'Location': 'Mumbai',\n",
    "                                'Salary': 80000},\n",
    "                    \"TCS10007\" :{'Name': 'Anand',\n",
    "                                'Age' : 29,\n",
    "                                'Designation': 'Data Analyst',\n",
    "                                'Location': 'Banglore',\n",
    "                                'Salary': 90000}}\n",
    "\n",
    "employee_details['TCS10006']['Name'] # dict"
   ]
  },
  {
   "cell_type": "code",
   "execution_count": 14,
   "id": "04cc616f",
   "metadata": {},
   "outputs": [
    {
     "data": {
      "text/plain": [
       "[80000, 40000, 60000, 70000]"
      ]
     },
     "execution_count": 14,
     "metadata": {},
     "output_type": "execute_result"
    }
   ],
   "source": [
    "employee_details = {\"TCS10005\": {'Name': 'Vishal',\n",
    "                                'Age' : 28,\n",
    "                                'Designation': 'Data Scientist',\n",
    "                                'Location': 'Pune',\n",
    "                                'Salary': 95000},\n",
    "                    \"TCS10006\" :{'Name': 'Pravin',\n",
    "                                'Age' : 27,\n",
    "                                'Designation': 'Python Developer',\n",
    "                                'Location': 'Mumbai',\n",
    "                                'Salary': [80000,40000,60000,70000]},\n",
    "                    \"TCS10007\" :{'Name': 'Anand',\n",
    "                                'Age' : 29,\n",
    "                                'Designation': 'Data Analyst',\n",
    "                                'Location': 'Banglore',\n",
    "                                'Salary': 90000}}\n",
    "\n",
    "employee_details['TCS10006']['Salary'] #list"
   ]
  },
  {
   "cell_type": "code",
   "execution_count": 15,
   "id": "825de249",
   "metadata": {},
   "outputs": [
    {
     "data": {
      "text/plain": [
       "40000"
      ]
     },
     "execution_count": 15,
     "metadata": {},
     "output_type": "execute_result"
    }
   ],
   "source": [
    "employee_details = {\"TCS10005\": {'Name': 'Vishal',\n",
    "                                'Age' : 28,\n",
    "                                'Designation': 'Data Scientist',\n",
    "                                'Location': 'Pune',\n",
    "                                'Salary': 95000},\n",
    "                    \"TCS10006\" :{'Name': 'Pravin',\n",
    "                                'Age' : 27,\n",
    "                                'Designation': 'Python Developer',\n",
    "                                'Location': 'Mumbai',\n",
    "                                'Salary': [80000,40000,60000,70000]},\n",
    "                    \"TCS10007\" :{'Name': 'Anand',\n",
    "                                'Age' : 29,\n",
    "                                'Designation': 'Data Analyst',\n",
    "                                'Location': 'Banglore',\n",
    "                                'Salary': 90000}}\n",
    "\n",
    "employee_details['TCS10006']['Salary'][1]"
   ]
  },
  {
   "cell_type": "code",
   "execution_count": 16,
   "id": "031465a4",
   "metadata": {},
   "outputs": [
    {
     "data": {
      "text/plain": [
       "{'TCS10005': {'Name': 'Vishal',\n",
       "  'Age': 28,\n",
       "  'Designation': 'Data Scientist',\n",
       "  'Location': 'Pune',\n",
       "  'Salary': 95000},\n",
       " 'TCS10006': {'Name': 'Pravin',\n",
       "  'Age': 27,\n",
       "  'Designation': 'Python Developer',\n",
       "  'Location': 'Mumbai',\n",
       "  'Salary': [80000, 40000, 60000, 70000, 120000]},\n",
       " 'TCS10007': {'Name': 'Anand',\n",
       "  'Age': 29,\n",
       "  'Designation': 'Data Analyst',\n",
       "  'Location': 'Banglore',\n",
       "  'Salary': 90000}}"
      ]
     },
     "execution_count": 16,
     "metadata": {},
     "output_type": "execute_result"
    }
   ],
   "source": [
    "employee_details = {\"TCS10005\": {'Name': 'Vishal',\n",
    "                                'Age' : 28,\n",
    "                                'Designation': 'Data Scientist',\n",
    "                                'Location': 'Pune',\n",
    "                                'Salary': 95000},\n",
    "                    \"TCS10006\" :{'Name': 'Pravin',\n",
    "                                'Age' : 27,\n",
    "                                'Designation': 'Python Developer',\n",
    "                                'Location': 'Mumbai',\n",
    "                                'Salary': [80000,40000,60000,70000]},\n",
    "                    \"TCS10007\" :{'Name': 'Anand',\n",
    "                                'Age' : 29,\n",
    "                                'Designation': 'Data Analyst',\n",
    "                                'Location': 'Banglore',\n",
    "                                'Salary': 90000}}\n",
    "\n",
    "employee_details['TCS10006'].get('Salary').append(120000)\n",
    "employee_details"
   ]
  },
  {
   "cell_type": "code",
   "execution_count": 17,
   "id": "f995c582",
   "metadata": {},
   "outputs": [
    {
     "data": {
      "text/plain": [
       "{'TCS10005': {'Name': 'Vishal',\n",
       "  'Age': 28,\n",
       "  'Designation': 'Data Scientist',\n",
       "  'Location': 'Pune',\n",
       "  'Salary': 95000},\n",
       " 'TCS10006': {'Name': 'Pravin',\n",
       "  'Age': 27,\n",
       "  'Designation': 'Application Developer',\n",
       "  'Location': 'Mumbai',\n",
       "  'Salary': [80000, 40000, 60000, 70000]},\n",
       " 'TCS10007': {'Name': 'Anand',\n",
       "  'Age': 29,\n",
       "  'Designation': 'Data Analyst',\n",
       "  'Location': 'Banglore',\n",
       "  'Salary': 90000}}"
      ]
     },
     "execution_count": 17,
     "metadata": {},
     "output_type": "execute_result"
    }
   ],
   "source": [
    "employee_details = {\"TCS10005\": {'Name': 'Vishal',\n",
    "                                'Age' : 28,\n",
    "                                'Designation': 'Data Scientist',\n",
    "                                'Location': 'Pune',\n",
    "                                'Salary': 95000},\n",
    "                    \"TCS10006\" :{'Name': 'Pravin',\n",
    "                                'Age' : 27,\n",
    "                                'Designation': 'Python Developer', #aplication developer\n",
    "                                'Location': 'Mumbai',\n",
    "                                'Salary': [80000,40000,60000,70000]},\n",
    "                    \"TCS10007\" :{'Name': 'Anand',\n",
    "                                'Age' : 29,\n",
    "                                'Designation': 'Data Analyst',\n",
    "                                'Location': 'Banglore',\n",
    "                                'Salary': 90000}}\n",
    "\n",
    "employee_details['TCS10006']['Designation'] = \"Application Developer\"\n",
    "employee_details"
   ]
  },
  {
   "cell_type": "markdown",
   "id": "f6625c21",
   "metadata": {},
   "source": [
    "### fromkeys"
   ]
  },
  {
   "cell_type": "code",
   "execution_count": null,
   "id": "e86e9734",
   "metadata": {},
   "outputs": [],
   "source": [
    "returns a dict with the specified keys and values"
   ]
  },
  {
   "cell_type": "code",
   "execution_count": null,
   "id": "17d06453",
   "metadata": {},
   "outputs": [],
   "source": [
    "dict.fromkeys(sequence,value)\n",
    "default value is None"
   ]
  },
  {
   "cell_type": "code",
   "execution_count": 18,
   "id": "300fc677",
   "metadata": {},
   "outputs": [
    {
     "data": {
      "text/plain": [
       "{'Phy': 90, 'Che': 90, 'Math': 90, 'Eng': 90, 'Bio': 90}"
      ]
     },
     "execution_count": 18,
     "metadata": {},
     "output_type": "execute_result"
    }
   ],
   "source": [
    "list1 = ['Phy','Che','Math','Eng','Bio']  #90\n",
    "dict1 = {'Phy':90,'Che':90,'Math':90,'Eng':90,'Bio':90}\n",
    "dict1"
   ]
  },
  {
   "cell_type": "code",
   "execution_count": 19,
   "id": "3e49e578",
   "metadata": {},
   "outputs": [
    {
     "name": "stdout",
     "output_type": "stream",
     "text": [
      "{'Phy': 90}\n",
      "{'Phy': 90, 'Che': 90}\n",
      "{'Phy': 90, 'Che': 90, 'Math': 90}\n",
      "{'Phy': 90, 'Che': 90, 'Math': 90, 'Eng': 90}\n",
      "{'Phy': 90, 'Che': 90, 'Math': 90, 'Eng': 90, 'Bio': 90}\n"
     ]
    }
   ],
   "source": [
    "list1 = ['Phy','Che','Math','Eng','Bio']\n",
    "d1 = {}\n",
    "for sub in list1:\n",
    "    d1.update({sub:90})\n",
    "    print(d1)"
   ]
  },
  {
   "cell_type": "code",
   "execution_count": 20,
   "id": "5db6b2fc",
   "metadata": {},
   "outputs": [
    {
     "data": {
      "text/plain": [
       "{'Phy': None, 'Che': None, 'Math': None, 'Eng': None, 'Bio': None}"
      ]
     },
     "execution_count": 20,
     "metadata": {},
     "output_type": "execute_result"
    }
   ],
   "source": [
    "list1 = ['Phy','Che','Math','Eng','Bio']\n",
    "result = dict.fromkeys(list1)\n",
    "result"
   ]
  },
  {
   "cell_type": "code",
   "execution_count": 21,
   "id": "63da3239",
   "metadata": {},
   "outputs": [
    {
     "data": {
      "text/plain": [
       "{'Phy': 90, 'Che': 90, 'Math': 90, 'Eng': 90, 'Bio': 90}"
      ]
     },
     "execution_count": 21,
     "metadata": {},
     "output_type": "execute_result"
    }
   ],
   "source": [
    "list1 = ['Phy','Che','Math','Eng','Bio']\n",
    "result = dict.fromkeys(list1,90)\n",
    "result"
   ]
  },
  {
   "cell_type": "code",
   "execution_count": 22,
   "id": "5c8688c4",
   "metadata": {},
   "outputs": [
    {
     "data": {
      "text/plain": [
       "{'Phy': [90, 50, 40],\n",
       " 'Che': [90, 50, 40],\n",
       " 'Math': [90, 50, 40],\n",
       " 'Eng': [90, 50, 40],\n",
       " 'Bio': [90, 50, 40]}"
      ]
     },
     "execution_count": 22,
     "metadata": {},
     "output_type": "execute_result"
    }
   ],
   "source": [
    "list1 = ['Phy','Che','Math','Eng','Bio']\n",
    "result = dict.fromkeys(list1,[90,50,40])\n",
    "result"
   ]
  },
  {
   "cell_type": "code",
   "execution_count": 23,
   "id": "86df975b",
   "metadata": {},
   "outputs": [],
   "source": [
    "list1 = ['Phy','Che','Math','Eng','Bio']\n",
    "mark  = [80,85,90,87,95]\n",
    "# {'Phy': 80, 'Che': 85, 'Math': 90, 'Eng': 87, 'Bio': 95}"
   ]
  },
  {
   "cell_type": "code",
   "execution_count": 24,
   "id": "899ff3c8",
   "metadata": {},
   "outputs": [
    {
     "data": {
      "text/plain": [
       "{'Phy': 80, 'Che': 85, 'Math': 90, 'Eng': 87, 'Bio': 95}"
      ]
     },
     "execution_count": 24,
     "metadata": {},
     "output_type": "execute_result"
    }
   ],
   "source": [
    "dict(zip(list1,mark))"
   ]
  },
  {
   "cell_type": "code",
   "execution_count": 25,
   "id": "fc9c7fcf",
   "metadata": {},
   "outputs": [
    {
     "data": {
      "text/plain": [
       "{'Phy': 1000, 'Che': 1000, 'Math': 1000, 'Eng': 1000, 'Bio': 1000}"
      ]
     },
     "execution_count": 25,
     "metadata": {},
     "output_type": "execute_result"
    }
   ],
   "source": [
    "list1 = ['Phy','Che','Math','Eng','Bio']\n",
    "result = dict.fromkeys(list1,1000)\n",
    "result"
   ]
  },
  {
   "cell_type": "code",
   "execution_count": 26,
   "id": "eae139c7",
   "metadata": {},
   "outputs": [
    {
     "data": {
      "text/plain": [
       "{'p': 50, 'y': 50, 't': 50, 'h': 50, 'o': 50, 'n': 50}"
      ]
     },
     "execution_count": 26,
     "metadata": {},
     "output_type": "execute_result"
    }
   ],
   "source": [
    "\n",
    "result = dict.fromkeys('python',50)\n",
    "result"
   ]
  },
  {
   "cell_type": "code",
   "execution_count": 27,
   "id": "bf5db5b4",
   "metadata": {},
   "outputs": [
    {
     "data": {
      "text/plain": [
       "{'p': 1000, 'y': 1000, 't': 1000, 'h': 1000, 'o': 1000, 'n': 1000}"
      ]
     },
     "execution_count": 27,
     "metadata": {},
     "output_type": "execute_result"
    }
   ],
   "source": [
    "result = dict.fromkeys('python',1000)\n",
    "result"
   ]
  },
  {
   "cell_type": "markdown",
   "id": "9e3c6d2a",
   "metadata": {},
   "source": [
    "### setdefault"
   ]
  },
  {
   "cell_type": "code",
   "execution_count": null,
   "id": "eef0f7f1",
   "metadata": {},
   "outputs": [],
   "source": [
    "gives value of specified key,\n",
    "if key does not exists >> insert the key with value \n",
    "default value is None"
   ]
  },
  {
   "cell_type": "code",
   "execution_count": 30,
   "id": "a0ad3de5",
   "metadata": {},
   "outputs": [
    {
     "data": {
      "text/plain": [
       "95000"
      ]
     },
     "execution_count": 30,
     "metadata": {},
     "output_type": "execute_result"
    }
   ],
   "source": [
    "employee_details = { 'Name': 'Vishal',\n",
    "                                'Age' : 28,\n",
    "                                'Designation': 'Data Scientist',\n",
    "                                'Location': 'Pune',\n",
    "                                'Salary': 95000}\n",
    "\n",
    "employee_details.get('Salary')"
   ]
  },
  {
   "cell_type": "code",
   "execution_count": 31,
   "id": "e90fd9f2",
   "metadata": {},
   "outputs": [
    {
     "data": {
      "text/plain": [
       "95000"
      ]
     },
     "execution_count": 31,
     "metadata": {},
     "output_type": "execute_result"
    }
   ],
   "source": [
    "employee_details = { 'Name': 'Vishal',\n",
    "                                'Age' : 28,\n",
    "                                'Designation': 'Data Scientist',\n",
    "                                'Location': 'Pune',\n",
    "                                'Salary': 95000}\n",
    "\n",
    "employee_details.setdefault('Salary')"
   ]
  },
  {
   "cell_type": "code",
   "execution_count": 35,
   "id": "82f7bf53",
   "metadata": {},
   "outputs": [],
   "source": [
    "employee_details = { 'Name': 'Vishal',\n",
    "                                'Age' : 28,\n",
    "                                'Designation': 'Data Scientist',\n",
    "                                'Location': 'Pune',\n",
    "                                'Salary': 95000}\n",
    "\n",
    "employee_details.get('Loca')"
   ]
  },
  {
   "cell_type": "code",
   "execution_count": 37,
   "id": "c8a1bd49",
   "metadata": {},
   "outputs": [
    {
     "data": {
      "text/plain": [
       "{'Name': 'Vishal',\n",
       " 'Age': 28,\n",
       " 'Designation': 'Data Scientist',\n",
       " 'Location': 'Pune',\n",
       " 'Salary': 95000,\n",
       " 'Gender': None}"
      ]
     },
     "execution_count": 37,
     "metadata": {},
     "output_type": "execute_result"
    }
   ],
   "source": [
    "employee_details = { 'Name': 'Vishal',\n",
    "                                'Age' : 28,\n",
    "                                'Designation': 'Data Scientist',\n",
    "                                'Location': 'Pune',\n",
    "                                'Salary': 95000}\n",
    "\n",
    "employee_details.setdefault('Gender')\n",
    "employee_details"
   ]
  },
  {
   "cell_type": "code",
   "execution_count": 38,
   "id": "24278a40",
   "metadata": {},
   "outputs": [
    {
     "data": {
      "text/plain": [
       "{'Name': 'Vishal',\n",
       " 'Age': 28,\n",
       " 'Designation': 'Data Scientist',\n",
       " 'Location': 'Pune',\n",
       " 'Salary': 95000,\n",
       " 'Gender': 'Male'}"
      ]
     },
     "execution_count": 38,
     "metadata": {},
     "output_type": "execute_result"
    }
   ],
   "source": [
    "employee_details = { 'Name': 'Vishal',\n",
    "                                'Age' : 28,\n",
    "                                'Designation': 'Data Scientist',\n",
    "                                'Location': 'Pune',\n",
    "                                'Salary': 95000}\n",
    "\n",
    "employee_details.setdefault('Gender','Male')\n",
    "employee_details"
   ]
  },
  {
   "cell_type": "code",
   "execution_count": 39,
   "id": "e2564b03",
   "metadata": {},
   "outputs": [
    {
     "data": {
      "text/plain": [
       "{'Name': 'Vishal',\n",
       " 'Age': 28,\n",
       " 'Designation': 'Data Scientist',\n",
       " 'Location': 'Pune',\n",
       " 'Salary': 95000,\n",
       " 'Company': None}"
      ]
     },
     "execution_count": 39,
     "metadata": {},
     "output_type": "execute_result"
    }
   ],
   "source": [
    "employee_details = { 'Name': 'Vishal',\n",
    "                                'Age' : 28,\n",
    "                                'Designation': 'Data Scientist',\n",
    "                                'Location': 'Pune',\n",
    "                                'Salary': 95000}\n",
    "\n",
    "employee_details.setdefault('Company')\n",
    "employee_details"
   ]
  },
  {
   "cell_type": "code",
   "execution_count": 40,
   "id": "24c2e125",
   "metadata": {},
   "outputs": [
    {
     "data": {
      "text/plain": [
       "{'Name': 'Vishal',\n",
       " 'Age': 28,\n",
       " 'Designation': 'Data Scientist',\n",
       " 'Location': 'Pune',\n",
       " 'Salary': 95000,\n",
       " 'Company': 'Capgemini'}"
      ]
     },
     "execution_count": 40,
     "metadata": {},
     "output_type": "execute_result"
    }
   ],
   "source": [
    "employee_details = { 'Name': 'Vishal',\n",
    "                                'Age' : 28,\n",
    "                                'Designation': 'Data Scientist',\n",
    "                                'Location': 'Pune',\n",
    "                                'Salary': 95000}\n",
    "\n",
    "employee_details.setdefault('Company','Capgemini')\n",
    "employee_details"
   ]
  },
  {
   "cell_type": "markdown",
   "id": "3ad86d29",
   "metadata": {},
   "source": [
    "### copy"
   ]
  },
  {
   "cell_type": "code",
   "execution_count": null,
   "id": "9384102d",
   "metadata": {},
   "outputs": [],
   "source": [
    "gives copy of new dict"
   ]
  },
  {
   "cell_type": "code",
   "execution_count": 41,
   "id": "a6b633d8",
   "metadata": {},
   "outputs": [
    {
     "name": "stdout",
     "output_type": "stream",
     "text": [
      "Employee_details   :  {'Name': 'Vishal', 'Age': 28, 'Designation': 'Data Scientist', 'Location': 'Pune', 'Salary': 95000}\n",
      "New_Dict   :  {'Name': 'Vishal', 'Age': 28, 'Designation': 'Data Scientist', 'Location': 'Pune', 'Salary': 60000}\n"
     ]
    }
   ],
   "source": [
    "employee_details = { 'Name': 'Vishal',\n",
    "                                'Age' : 28,\n",
    "                                'Designation': 'Data Scientist',\n",
    "                                'Location': 'Pune',\n",
    "                                'Salary': 95000}\n",
    "\n",
    "new_dict = employee_details.copy()\n",
    "new_dict.update({'Salary':60000})\n",
    "\n",
    "print('Employee_details   : ',employee_details)\n",
    "print('New_Dict   : ',new_dict)"
   ]
  },
  {
   "cell_type": "markdown",
   "id": "ef209c3e",
   "metadata": {},
   "source": [
    "# ASCII Values"
   ]
  },
  {
   "cell_type": "code",
   "execution_count": null,
   "id": "891e3ee6",
   "metadata": {},
   "outputs": [],
   "source": [
    "# dict1 ={'A':65,'B':66,.......'Z':90}\n",
    "# dict1 ={'a':97,'b':98,.......'z':122}"
   ]
  },
  {
   "cell_type": "code",
   "execution_count": 42,
   "id": "ead67c05",
   "metadata": {},
   "outputs": [
    {
     "name": "stdout",
     "output_type": "stream",
     "text": [
      "{'A': 65, 'B': 66, 'C': 67, 'D': 68, 'E': 69, 'F': 70, 'G': 71, 'H': 72, 'I': 73, 'J': 74, 'K': 75, 'L': 76, 'M': 77, 'N': 78, 'O': 79, 'P': 80, 'Q': 81, 'R': 82, 'S': 83, 'T': 84, 'U': 85, 'V': 86, 'W': 87, 'X': 88, 'Y': 89, 'Z': 90}\n"
     ]
    }
   ],
   "source": [
    "result = {}\n",
    "for i in range(65,91):\n",
    "    result.update({chr(i):i})\n",
    "print(result)"
   ]
  },
  {
   "cell_type": "code",
   "execution_count": 45,
   "id": "1e0a0fec",
   "metadata": {},
   "outputs": [
    {
     "name": "stdout",
     "output_type": "stream",
     "text": [
      "{'a': 97, 'b': 98, 'c': 99, 'd': 100, 'e': 101, 'f': 102, 'g': 103, 'h': 104, 'i': 105, 'j': 106, 'k': 107, 'l': 108, 'm': 109, 'n': 110, 'o': 111, 'p': 112, 'q': 113, 'r': 114, 's': 115, 't': 116, 'u': 117, 'v': 118, 'w': 119, 'x': 120, 'y': 121, 'z': 122}\n"
     ]
    }
   ],
   "source": [
    "result = {}\n",
    "for i in range(97,123):\n",
    "    result.update({chr(i):i})\n",
    "print(result)"
   ]
  },
  {
   "cell_type": "code",
   "execution_count": 46,
   "id": "19966da3",
   "metadata": {},
   "outputs": [
    {
     "name": "stdout",
     "output_type": "stream",
     "text": [
      "{'A': 65, 'B': 66, 'C': 67, 'D': 68, 'E': 69, 'F': 70, 'G': 71, 'H': 72, 'I': 73, 'J': 74, 'K': 75, 'L': 76, 'M': 77, 'N': 78, 'O': 79, 'P': 80, 'Q': 81, 'R': 82, 'S': 83, 'T': 84, 'U': 85, 'V': 86, 'W': 87, 'X': 88, 'Y': 89, 'Z': 90}\n"
     ]
    }
   ],
   "source": [
    "result = {}\n",
    "for i in range(65,91):\n",
    "    result[chr(i)]=i\n",
    "print(result)"
   ]
  },
  {
   "cell_type": "markdown",
   "id": "0dc86371",
   "metadata": {},
   "source": [
    "# cubes"
   ]
  },
  {
   "cell_type": "code",
   "execution_count": null,
   "id": "fe1b39e6",
   "metadata": {},
   "outputs": [],
   "source": [
    "# cube = {1:1,2:8,......10:1000}"
   ]
  },
  {
   "cell_type": "code",
   "execution_count": 47,
   "id": "b23bb3a6",
   "metadata": {},
   "outputs": [
    {
     "name": "stdout",
     "output_type": "stream",
     "text": [
      "{1: 1, 2: 8, 3: 27, 4: 64, 5: 125, 6: 216, 7: 343, 8: 512, 9: 729, 10: 1000}\n"
     ]
    }
   ],
   "source": [
    "cube= {}\n",
    "for i in range(1,11):\n",
    "    cube.update({i:i**3})\n",
    "print(cube)"
   ]
  },
  {
   "cell_type": "code",
   "execution_count": 48,
   "id": "2123992e",
   "metadata": {},
   "outputs": [
    {
     "name": "stdout",
     "output_type": "stream",
     "text": [
      "{1: 1, 2: 4, 3: 9, 4: 16, 5: 25, 6: 36, 7: 49, 8: 64, 9: 81, 10: 100}\n"
     ]
    }
   ],
   "source": [
    "sqr= {}\n",
    "for i in range(1,11):\n",
    "    sqr.update({i:i**2})\n",
    "print(sqr)"
   ]
  },
  {
   "cell_type": "code",
   "execution_count": 49,
   "id": "341780b4",
   "metadata": {},
   "outputs": [
    {
     "name": "stdout",
     "output_type": "stream",
     "text": [
      "Data science is an interdisciplinary field that uses \n",
      "scientific methods, processes, algorithms and systems to extract knowledge and \n",
      "insights from noisy, structured and unstructured data, and apply knowledge \n",
      "from data across a broad range of application domains\n"
     ]
    }
   ],
   "source": [
    "string = '''Data science is an interdisciplinary field that uses \n",
    "scientific methods, processes, algorithms and systems to extract knowledge and \n",
    "insights from noisy, structured and unstructured data, and apply knowledge \n",
    "from data across a broad range of application domains'''\n",
    "print(string)"
   ]
  },
  {
   "cell_type": "code",
   "execution_count": 50,
   "id": "8c2d7d4a",
   "metadata": {},
   "outputs": [
    {
     "name": "stdout",
     "output_type": "stream",
     "text": [
      "['Data', 'science', 'is', 'an', 'interdisciplinary', 'field', 'that', 'uses', 'scientific', 'methods,', 'processes,', 'algorithms', 'and', 'systems', 'to', 'extract', 'knowledge', 'and', 'insights', 'from', 'noisy,', 'structured', 'and', 'unstructured', 'data,', 'and', 'apply', 'knowledge', 'from', 'data', 'across', 'a', 'broad', 'range', 'of', 'application', 'domains'] 37\n"
     ]
    }
   ],
   "source": [
    "list1 = string.split()\n",
    "print(list1,len(list1))"
   ]
  },
  {
   "cell_type": "code",
   "execution_count": 51,
   "id": "943014d9",
   "metadata": {},
   "outputs": [
    {
     "name": "stdout",
     "output_type": "stream",
     "text": [
      "{'Data': 1, 'science': 1, 'is': 1, 'an': 1, 'interdisciplinary': 1, 'field': 1, 'that': 1, 'uses': 1, 'scientific': 1, 'methods,': 1, 'processes,': 1, 'algorithms': 1, 'and': 4, 'systems': 1, 'to': 1, 'extract': 1, 'knowledge': 2, 'insights': 1, 'from': 2, 'noisy,': 1, 'structured': 1, 'unstructured': 1, 'data,': 1, 'apply': 1, 'data': 1, 'across': 1, 'a': 1, 'broad': 1, 'range': 1, 'of': 1, 'application': 1, 'domains': 1}\n"
     ]
    }
   ],
   "source": [
    "result = {}\n",
    "for word in list1:\n",
    "    count=list1.count(word)\n",
    "    result.update({word:count})\n",
    "print(result)"
   ]
  },
  {
   "cell_type": "code",
   "execution_count": 52,
   "id": "98414ec8",
   "metadata": {},
   "outputs": [
    {
     "name": "stdout",
     "output_type": "stream",
     "text": [
      "{'is': 1, 'domains': 1, 'Data': 1, 'data': 1, 'to': 1, 'uses': 1, 'field': 1, 'unstructured': 1, 'data,': 1, 'processes,': 1, 'noisy,': 1, 'and': 4, 'extract': 1, 'interdisciplinary': 1, 'apply': 1, 'application': 1, 'science': 1, 'insights': 1, 'from': 2, 'of': 1, 'algorithms': 1, 'range': 1, 'systems': 1, 'broad': 1, 'methods,': 1, 'across': 1, 'a': 1, 'an': 1, 'that': 1, 'structured': 1, 'knowledge': 2, 'scientific': 1}\n"
     ]
    }
   ],
   "source": [
    "result = {}\n",
    "for word in set(list1):\n",
    "    count=list1.count(word)\n",
    "    result.update({word:count})\n",
    "print(result)"
   ]
  },
  {
   "cell_type": "markdown",
   "id": "78f7aa23",
   "metadata": {},
   "source": [
    "# Sorting"
   ]
  },
  {
   "cell_type": "code",
   "execution_count": 53,
   "id": "bf5c638d",
   "metadata": {},
   "outputs": [
    {
     "data": {
      "text/plain": [
       "{'Phy': 80, 'Che': 85, 'Math': 90, 'Eng': 87, 'Bio': 95}"
      ]
     },
     "execution_count": 53,
     "metadata": {},
     "output_type": "execute_result"
    }
   ],
   "source": [
    "sub_marks = {'Phy': 80, 'Che': 85, 'Math': 90, 'Eng': 87, 'Bio': 95}\n",
    "sub_marks"
   ]
  },
  {
   "cell_type": "code",
   "execution_count": null,
   "id": "ac6ec41a",
   "metadata": {},
   "outputs": [],
   "source": [
    "# {bio,che,eng,math,phy}"
   ]
  },
  {
   "cell_type": "markdown",
   "id": "b0f94b8f",
   "metadata": {},
   "source": [
    "### 1. sort dict by using keys"
   ]
  },
  {
   "cell_type": "code",
   "execution_count": 54,
   "id": "b0e9e8b7",
   "metadata": {},
   "outputs": [
    {
     "name": "stdout",
     "output_type": "stream",
     "text": [
      "{'Bio': 95}\n",
      "{'Bio': 95, 'Che': 85}\n",
      "{'Bio': 95, 'Che': 85, 'Eng': 87}\n",
      "{'Bio': 95, 'Che': 85, 'Eng': 87, 'Math': 90}\n",
      "{'Bio': 95, 'Che': 85, 'Eng': 87, 'Math': 90, 'Phy': 80}\n"
     ]
    }
   ],
   "source": [
    "sub_marks = {'Phy': 80, 'Che': 85, 'Math': 90, 'Eng': 87, 'Bio': 95}\n",
    "# result = # {bio,che,eng,math,phy}\n",
    "\n",
    "result = {}\n",
    "for sub in sorted(sub_marks.keys()):\n",
    "    result.update({sub:sub_marks[sub]})\n",
    "    print(result)"
   ]
  },
  {
   "cell_type": "markdown",
   "id": "b98126ca",
   "metadata": {},
   "source": [
    "### 1. sort dict by using values"
   ]
  },
  {
   "cell_type": "code",
   "execution_count": 55,
   "id": "abc2d7b9",
   "metadata": {},
   "outputs": [
    {
     "name": "stdout",
     "output_type": "stream",
     "text": [
      "Marks:  80\n",
      "Sub is :  Phy\n",
      "{'Phy': 80}\n",
      "\n",
      "Marks:  85\n",
      "Sub is :  Phy\n",
      "Sub is :  Che\n",
      "{'Phy': 80, 'Che': 85}\n",
      "\n",
      "Marks:  87\n",
      "Sub is :  Phy\n",
      "Sub is :  Che\n",
      "Sub is :  Math\n",
      "Sub is :  Eng\n",
      "{'Phy': 80, 'Che': 85, 'Eng': 87}\n",
      "\n",
      "Marks:  90\n",
      "Sub is :  Phy\n",
      "Sub is :  Che\n",
      "Sub is :  Math\n",
      "{'Phy': 80, 'Che': 85, 'Eng': 87, 'Math': 90}\n",
      "\n",
      "Marks:  95\n",
      "Sub is :  Phy\n",
      "Sub is :  Che\n",
      "Sub is :  Math\n",
      "Sub is :  Eng\n",
      "Sub is :  Bio\n",
      "{'Phy': 80, 'Che': 85, 'Eng': 87, 'Math': 90, 'Bio': 95}\n",
      "\n"
     ]
    }
   ],
   "source": [
    "sub_marks = {'Phy': 80, 'Che': 85, 'Math': 90, 'Eng': 87, 'Bio': 95}\n",
    "# result = {80,85,87,90,95}\n",
    "\n",
    "result = {}\n",
    "for marks in sorted(sub_marks.values()):\n",
    "    print('Marks: ',marks)\n",
    "    for sub in sub_marks:   #5 times\n",
    "        print('Sub is : ',sub)\n",
    "        if marks == sub_marks[sub]:  #90==90\n",
    "            result.update({sub:marks})\n",
    "            print(result)\n",
    "            break\n",
    "    print()"
   ]
  },
  {
   "cell_type": "code",
   "execution_count": 57,
   "id": "4c83b794",
   "metadata": {},
   "outputs": [
    {
     "name": "stdout",
     "output_type": "stream",
     "text": [
      "Marks:  80\n",
      "Sub is :  Phy\n",
      "{'Phy': 80}\n",
      "\n",
      "Marks:  81\n",
      "Sub is :  Phy\n",
      "Sub is :  Che\n",
      "{'Phy': 80, 'Che': 81}\n",
      "\n",
      "Marks:  87\n",
      "Sub is :  Phy\n",
      "Sub is :  Che\n",
      "Sub is :  Math\n",
      "Sub is :  Eng\n",
      "{'Phy': 80, 'Che': 81, 'Eng': 87}\n",
      "\n",
      "Marks:  90\n",
      "Sub is :  Phy\n",
      "Sub is :  Che\n",
      "Sub is :  Math\n",
      "{'Phy': 80, 'Che': 81, 'Eng': 87, 'Math': 90}\n",
      "\n",
      "Marks:  95\n",
      "Sub is :  Phy\n",
      "Sub is :  Che\n",
      "Sub is :  Math\n",
      "Sub is :  Eng\n",
      "Sub is :  Bio\n",
      "{'Phy': 80, 'Che': 81, 'Eng': 87, 'Math': 90, 'Bio': 95}\n",
      "\n"
     ]
    }
   ],
   "source": [
    "sub_marks = {'Phy': 80, 'Che': 81, 'Math': 90, 'Eng': 87, 'Bio': 95}\n",
    "# result = {80,85,87,90,95}\n",
    "\n",
    "result = {}\n",
    "for marks in sorted(sub_marks.values()):\n",
    "    print('Marks: ',marks)\n",
    "    for sub in sub_marks:   #5 times\n",
    "        print('Sub is : ',sub)\n",
    "        if marks == sub_marks[sub]:  #90==90\n",
    "            result.update({sub:marks})\n",
    "            print(result)\n",
    "            break\n",
    "    print()"
   ]
  },
  {
   "cell_type": "code",
   "execution_count": 58,
   "id": "6b5b9fbe",
   "metadata": {},
   "outputs": [
    {
     "data": {
      "text/plain": [
       "{'Phy': 80, 'Che': 81, 'Eng': 87, 'Math': 90, 'Bio': 95}"
      ]
     },
     "execution_count": 58,
     "metadata": {},
     "output_type": "execute_result"
    }
   ],
   "source": [
    "sub_marks = {'Phy': 80, 'Che': 81, 'Math': 90, 'Eng': 87, 'Bio': 95}\n",
    "\n",
    "result = {}\n",
    "for marks in sorted(sub_marks.values()):\n",
    "    \n",
    "    for sub in sub_marks:   #5 times\n",
    "        \n",
    "        if marks == sub_marks[sub]:  #90==90\n",
    "            result.update({sub:marks})\n",
    "            \n",
    "            break\n",
    "result"
   ]
  },
  {
   "cell_type": "code",
   "execution_count": null,
   "id": "cfe94d00",
   "metadata": {},
   "outputs": [],
   "source": []
  }
 ],
 "metadata": {
  "kernelspec": {
   "display_name": "Python 3",
   "language": "python",
   "name": "python3"
  },
  "language_info": {
   "codemirror_mode": {
    "name": "ipython",
    "version": 3
   },
   "file_extension": ".py",
   "mimetype": "text/x-python",
   "name": "python",
   "nbconvert_exporter": "python",
   "pygments_lexer": "ipython3",
   "version": "3.8.8"
  }
 },
 "nbformat": 4,
 "nbformat_minor": 5
}
