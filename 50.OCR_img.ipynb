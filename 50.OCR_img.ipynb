{
 "cells": [
  {
   "cell_type": "code",
   "execution_count": null,
   "id": "8fd06b81",
   "metadata": {},
   "outputs": [],
   "source": [
    "extract data from images \n",
    "image >> string\n",
    "\n",
    "OCRs >> Optical Character Recog.\n",
    "\n",
    "pytresseract  >> free and open source\n",
    "google vision   >> paid\n",
    "AWS textract    >> paid\n",
    "\n"
   ]
  },
  {
   "cell_type": "code",
   "execution_count": null,
   "id": "b19666f9",
   "metadata": {},
   "outputs": [],
   "source": [
    "'''#1. Install tesseract using windows installer available at: https://github.com/UB-Mannheim/tesseract/wiki\n",
    " \t- The latest installers can be downloaded here:\n",
    "\n",
    "\ttesseract-ocr-w32-setup-v5.2.0.20220712.exe (32 bit) and\n",
    "\ttesseract-ocr-w64-setup-v5.2.0.20220712.exe (64 bit) resp.\n",
    "\tselect 64 bit or 32 bit according to your system\n",
    "\n",
    "\n",
    "\n",
    "#2. Note the tesseract path from the installation. for ex. C:\\Users\\USER\\AppData\\Local\\Tesseract-OCR\\tesseract.exe\n",
    "\n",
    "#3. pip install pytesseract\n",
    "\n",
    "#4. Set the tesseract path in the script before calling image_to_string:\n",
    "\n",
    "pytesseract.pytesseract.tesseract_cmd = r'C:\\Users\\USER\\AppData\\Local\\Tesseract-OCR\\tesseract.exe'\n",
    "\n",
    "\n",
    "\n",
    "#### For PDF to IMAGE ####\n",
    "\n",
    "1. download poppler for windows from:\n",
    "    https://blog.alivate.com.au/poppler-windows/\n",
    "2. Download\n",
    "    Latest binary : poppler-0.68.0_x86\n",
    "3. Unzip it into C drive like C:\\poppler-0.68.0\n",
    "4. Specify the Poppler path in jupyer notebook like this:\n",
    "\tpoppler_path=r'C:\\poppler-0.68.0\\bin'\n",
    "\n",
    "5. use  pip install pdf2image\n",
    "6. use from pdf2image import convert_from_path\n",
    "7. use conda install -c conda-forge poppler\n",
    "\n",
    "\n",
    "8. syntax :\n",
    "   images = convert_from_path('filename/path.pdf',poppler_path=r'C:\\poppler-0.68.0\\bin')\n",
    "   for i, page in enumerate(images):\n",
    "   image_name = f'filename/path_page{i}.jpg'\n",
    "   page.save(image_name)\n",
    "'''"
   ]
  },
  {
   "cell_type": "code",
   "execution_count": 2,
   "id": "21a08f93",
   "metadata": {},
   "outputs": [
    {
     "data": {
      "text/plain": [
       "'C:\\\\Program Files\\\\Tesseract-OCR\\\\tesseract.exe'"
      ]
     },
     "execution_count": 2,
     "metadata": {},
     "output_type": "execute_result"
    }
   ],
   "source": [
    "path = r\"C:\\Program Files\\Tesseract-OCR\\tesseract.exe\"\n",
    "path"
   ]
  },
  {
   "cell_type": "code",
   "execution_count": 4,
   "id": "400a2679",
   "metadata": {},
   "outputs": [
    {
     "name": "stdout",
     "output_type": "stream",
     "text": [
      "Requirement already satisfied: pytesseract in c:\\users\\vaibhav\\anaconda3\\lib\\site-packages (0.3.10)\n",
      "Requirement already satisfied: packaging>=21.3 in c:\\users\\vaibhav\\anaconda3\\lib\\site-packages (from pytesseract) (21.3)\n",
      "Requirement already satisfied: Pillow>=8.0.0 in c:\\users\\vaibhav\\anaconda3\\lib\\site-packages (from pytesseract) (8.2.0)\n",
      "Requirement already satisfied: pyparsing!=3.0.5,>=2.0.2 in c:\\users\\vaibhav\\anaconda3\\lib\\site-packages (from packaging>=21.3->pytesseract) (2.4.7)\n",
      "Note: you may need to restart the kernel to use updated packages.\n"
     ]
    }
   ],
   "source": [
    "pip install pytesseract"
   ]
  },
  {
   "cell_type": "code",
   "execution_count": 7,
   "id": "df9dbd5d",
   "metadata": {},
   "outputs": [],
   "source": [
    "import pytesseract\n",
    "\n",
    "pytesseract.pytesseract.tesseract_cmd=path"
   ]
  },
  {
   "cell_type": "code",
   "execution_count": 8,
   "id": "e26079f0",
   "metadata": {},
   "outputs": [
    {
     "name": "stdout",
     "output_type": "stream",
     "text": [
      "&\n",
      "\n",
      "ster ferst\n",
      "\n",
      "INCOME TAX DEPARTMENT. J\n",
      "D MANIKANDAN\n",
      "DURAISAMY\n",
      "16/07/1986\n",
      "ari eld:\n",
      "BNZPM2501F\n",
      "/\n",
      "\n",
      "Signature £ ¥\n",
      "\n"
     ]
    }
   ],
   "source": [
    "image_path = 'pancard1.jpg'\n",
    "pan = pytesseract.image_to_string(image_path)\n",
    "print(pan)"
   ]
  },
  {
   "cell_type": "code",
   "execution_count": null,
   "id": "bb8f4c20",
   "metadata": {},
   "outputs": [],
   "source": [
    "'''#### For PDF to IMAGE ####\n",
    "\n",
    "1. download poppler for windows from:\n",
    "    https://blog.alivate.com.au/poppler-windows/\n",
    "2. Download\n",
    "    Latest binary : poppler-0.68.0_x86\n",
    "3. Unzip it into C drive like C:\\poppler-0.68.0\n",
    "4. Specify the Poppler path in jupyer notebook like this:\n",
    "\tpoppler_path=r'C:\\poppler-0.68.0\\bin'\n",
    "\n",
    "5. use  pip install pdf2image\n",
    "6. use from pdf2image import convert_from_path\n",
    "7. use conda install -c conda-forge poppler\n",
    "\n",
    "\n",
    "8. syntax :\n",
    "   images = convert_from_path('filename/path.pdf',poppler_path=r'C:\\poppler-0.68.0\\bin')\n",
    "   for i, page in enumerate(images):\n",
    "   image_name = f'filename/path_page{i}.jpg'\n",
    "   page.save(image_name)\n",
    "''''''"
   ]
  },
  {
   "cell_type": "code",
   "execution_count": 9,
   "id": "34cb8a74",
   "metadata": {},
   "outputs": [
    {
     "data": {
      "text/plain": [
       "'C:\\\\poppler-0.68.0\\\\bin'"
      ]
     },
     "execution_count": 9,
     "metadata": {},
     "output_type": "execute_result"
    }
   ],
   "source": [
    "poppler_path = r'C:\\poppler-0.68.0\\bin'\n",
    "poppler_path"
   ]
  },
  {
   "cell_type": "code",
   "execution_count": null,
   "id": "be606d8f",
   "metadata": {},
   "outputs": [],
   "source": [
    "pip install pdf2image"
   ]
  },
  {
   "cell_type": "code",
   "execution_count": null,
   "id": "a532f641",
   "metadata": {},
   "outputs": [],
   "source": []
  },
  {
   "cell_type": "code",
   "execution_count": null,
   "id": "e1d3e41d",
   "metadata": {},
   "outputs": [],
   "source": [
    "conda install -c conda-forge poppler"
   ]
  },
  {
   "cell_type": "code",
   "execution_count": 10,
   "id": "75b42f52",
   "metadata": {},
   "outputs": [],
   "source": [
    "from pdf2image import convert_from_path"
   ]
  },
  {
   "cell_type": "code",
   "execution_count": 11,
   "id": "81389133",
   "metadata": {},
   "outputs": [],
   "source": [
    "images = convert_from_path('97_134_bank_statement21.pdf',poppler_path = r'C:\\poppler-0.68.0\\bin')\n",
    "\n",
    "for i,page in enumerate(images):\n",
    "    image_name = f\"97_134_bank_statement21_page{i}.jpg\"    #naming image\n",
    "    page.save(image_name)  #saving image"
   ]
  },
  {
   "cell_type": "code",
   "execution_count": null,
   "id": "4dc4dd55",
   "metadata": {},
   "outputs": [],
   "source": [
    "pdf to image\n",
    "image to string\n",
    "string to actual data with regex i.e. re"
   ]
  },
  {
   "cell_type": "code",
   "execution_count": 12,
   "id": "5305a2c5",
   "metadata": {},
   "outputs": [],
   "source": [
    "import os\n",
    "import re\n",
    "import pytesseract"
   ]
  },
  {
   "cell_type": "code",
   "execution_count": 14,
   "id": "452ffebc",
   "metadata": {},
   "outputs": [],
   "source": [
    "folder_path = r\"data\\aadhar\\images\"\n",
    "tesseract_path = r\"C:\\Program Files\\Tesseract-OCR\\tesseract.exe\"\n",
    "text_folder_path = r\"data\\aadhar\\text\""
   ]
  },
  {
   "cell_type": "code",
   "execution_count": 15,
   "id": "f7c987bd",
   "metadata": {},
   "outputs": [],
   "source": [
    "import pytesseract\n",
    "\n",
    "pytesseract.pytesseract.tesseract_cmd=tesseract_path"
   ]
  },
  {
   "cell_type": "code",
   "execution_count": 25,
   "id": "c9b2fb98",
   "metadata": {},
   "outputs": [
    {
     "name": "stdout",
     "output_type": "stream",
     "text": [
      "Aadhar Number is :  0000 0000 0000\n",
      "Date of birth :  2/06/1985\n",
      "Aadhar Number is :  0000 0000 0000\n",
      "Date of birth :  2/06/1985\n",
      "Aadhar Number is :  0000 0000 0000\n",
      "Date of birth :  2/06/1985\n",
      "Aadhar Number is :  0000 0000 0000\n",
      "Date of birth :  2/06/1985\n",
      "Aadhar Number is :  0000 0000 0000\n",
      "Date of birth :  2/06/1985\n",
      "Aadhar Number is :  0000 0000 0000\n",
      "Date of birth :  2/06/1985\n"
     ]
    }
   ],
   "source": [
    "image_list =os.listdir(folder_path)\n",
    "# image_list\n",
    "for image_name in image_list:\n",
    "    image_path=os.path.join(folder_path,image_name)\n",
    "    text = pytesseract.image_to_string(image_path)\n",
    "#     print(image_name)  #aadhar1.jpg    when we want save it in text name: aadhar1.txt\n",
    "#     print(text) \n",
    "    image_name =image_name.split('.')[0]  #['aadhar1', 'jpg']\n",
    "    image_name = text_folder_path+ '\\\\'+ image_name   #data\\aadhar\\text\\image_name >>aadhar1,2,3\n",
    "    with open (f'{image_name}.txt','w')as f:\n",
    "        f.write(text)\n",
    "        \n",
    "        aadhar_number = re.findall('\\d{4}\\s\\d{4}\\s\\d{4}',text)\n",
    "        if aadhar_number:\n",
    "            print(\"Aadhar Number is : \",aadhar_number[0])\n",
    "        else:\n",
    "            print(\"Aadhar Number not found \")\n",
    "            \n",
    "        dob = re.findall('[0-3][/]\\d{2}[/]\\d{4}',text)\n",
    "            \n",
    "        if dob:\n",
    "            print(\"Date of birth : \", dob[0])\n",
    "        else:\n",
    "            print(\"Date of birth not found\")\n",
    "    \n",
    "    "
   ]
  },
  {
   "cell_type": "code",
   "execution_count": 26,
   "id": "576838de",
   "metadata": {},
   "outputs": [
    {
     "name": "stdout",
     "output_type": "stream",
     "text": [
      "Aadhar Number is :  0000 0000 0000\n",
      "Date of birth :  2/06/1985\n",
      "Aadhar Number is :  0000 0000 0000\n",
      "Date of birth :  2/06/1985\n",
      "Aadhar Number is :  0000 0000 0000\n",
      "Date of birth :  2/06/1985\n",
      "Aadhar Number is :  0000 0000 0000\n",
      "Date of birth :  2/06/1985\n",
      "Aadhar Number is :  0000 0000 0000\n",
      "Date of birth :  2/06/1985\n",
      "Aadhar Number is :  0000 0000 0000\n",
      "Date of birth :  2/06/1985\n"
     ]
    }
   ],
   "source": [
    "image_list =os.listdir(folder_path)\n",
    "# image_list\n",
    "image_name_list = []\n",
    "Aadhar_num_list = []\n",
    "Dob_list = []\n",
    "\n",
    "for image_name in image_list:\n",
    "    image_path=os.path.join(folder_path,image_name)\n",
    "    text = pytesseract.image_to_string(image_path)\n",
    "#     print(image_name)  #aadhar1.jpg    when we want save it in text name: aadhar1.txt\n",
    "#     print(text) \n",
    "    image_name =image_name.split('.')[0]  #['aadhar1', 'jpg']\n",
    "    image_name_list.append(image_name)\n",
    "    image_name = text_folder_path+ '\\\\'+ image_name   #data\\aadhar\\text\\image_name >>aadhar1,2,3\n",
    "    with open (f'{image_name}.txt','w')as f:\n",
    "        f.write(text)\n",
    "        \n",
    "        aadhar_number = re.findall('\\d{4}\\s\\d{4}\\s\\d{4}',text)\n",
    "        if aadhar_number:\n",
    "            print(\"Aadhar Number is : \",aadhar_number[0])\n",
    "            Aadhar_num_list.append(aadhar_number[0])\n",
    "        else:\n",
    "            print(\"Aadhar Number not found \")\n",
    "            Aadhar_num_list.append('')\n",
    "            \n",
    "        dob = re.findall('[0-3][/]\\d{2}[/]\\d{4}',text)\n",
    "            \n",
    "        if dob:\n",
    "            print(\"Date of birth : \", dob[0])\n",
    "            Dob_list.append(dob[0])\n",
    "        else:\n",
    "            print(\"Date of birth not found\")\n",
    "            Dob_list.append('')\n",
    "    \n",
    "result = {\"Image_Names\":image_name_list,\n",
    "         \"Aadhar_Number\":Aadhar_num_list,\n",
    "         \"DOB\":Dob_list}"
   ]
  },
  {
   "cell_type": "code",
   "execution_count": 27,
   "id": "cc3451fc",
   "metadata": {},
   "outputs": [],
   "source": [
    "import pandas as pd"
   ]
  },
  {
   "cell_type": "code",
   "execution_count": 28,
   "id": "ba9be0a3",
   "metadata": {},
   "outputs": [
    {
     "data": {
      "text/html": [
       "<div>\n",
       "<style scoped>\n",
       "    .dataframe tbody tr th:only-of-type {\n",
       "        vertical-align: middle;\n",
       "    }\n",
       "\n",
       "    .dataframe tbody tr th {\n",
       "        vertical-align: top;\n",
       "    }\n",
       "\n",
       "    .dataframe thead th {\n",
       "        text-align: right;\n",
       "    }\n",
       "</style>\n",
       "<table border=\"1\" class=\"dataframe\">\n",
       "  <thead>\n",
       "    <tr style=\"text-align: right;\">\n",
       "      <th></th>\n",
       "      <th>Image_Names</th>\n",
       "      <th>Aadhar_Number</th>\n",
       "      <th>DOB</th>\n",
       "    </tr>\n",
       "  </thead>\n",
       "  <tbody>\n",
       "    <tr>\n",
       "      <th>0</th>\n",
       "      <td>aadhar1</td>\n",
       "      <td>0000 0000 0000</td>\n",
       "      <td>2/06/1985</td>\n",
       "    </tr>\n",
       "    <tr>\n",
       "      <th>1</th>\n",
       "      <td>aadhar2</td>\n",
       "      <td>0000 0000 0000</td>\n",
       "      <td>2/06/1985</td>\n",
       "    </tr>\n",
       "    <tr>\n",
       "      <th>2</th>\n",
       "      <td>aadhar3</td>\n",
       "      <td>0000 0000 0000</td>\n",
       "      <td>2/06/1985</td>\n",
       "    </tr>\n",
       "    <tr>\n",
       "      <th>3</th>\n",
       "      <td>aadhar4</td>\n",
       "      <td>0000 0000 0000</td>\n",
       "      <td>2/06/1985</td>\n",
       "    </tr>\n",
       "    <tr>\n",
       "      <th>4</th>\n",
       "      <td>aadhar5</td>\n",
       "      <td>0000 0000 0000</td>\n",
       "      <td>2/06/1985</td>\n",
       "    </tr>\n",
       "    <tr>\n",
       "      <th>5</th>\n",
       "      <td>aadhar6</td>\n",
       "      <td>0000 0000 0000</td>\n",
       "      <td>2/06/1985</td>\n",
       "    </tr>\n",
       "  </tbody>\n",
       "</table>\n",
       "</div>"
      ],
      "text/plain": [
       "  Image_Names   Aadhar_Number        DOB\n",
       "0     aadhar1  0000 0000 0000  2/06/1985\n",
       "1     aadhar2  0000 0000 0000  2/06/1985\n",
       "2     aadhar3  0000 0000 0000  2/06/1985\n",
       "3     aadhar4  0000 0000 0000  2/06/1985\n",
       "4     aadhar5  0000 0000 0000  2/06/1985\n",
       "5     aadhar6  0000 0000 0000  2/06/1985"
      ]
     },
     "execution_count": 28,
     "metadata": {},
     "output_type": "execute_result"
    }
   ],
   "source": [
    "df=pd.DataFrame(result)\n",
    "df"
   ]
  },
  {
   "cell_type": "code",
   "execution_count": 30,
   "id": "ad592ee8",
   "metadata": {},
   "outputs": [],
   "source": [
    "df.to_csv('My_AAdhar_Details.csv',index=False)"
   ]
  },
  {
   "cell_type": "code",
   "execution_count": null,
   "id": "96beb297",
   "metadata": {},
   "outputs": [],
   "source": [
    "image to string\n",
    "pdf to image\n",
    "string to re >> pattern"
   ]
  }
 ],
 "metadata": {
  "kernelspec": {
   "display_name": "Python 3",
   "language": "python",
   "name": "python3"
  },
  "language_info": {
   "codemirror_mode": {
    "name": "ipython",
    "version": 3
   },
   "file_extension": ".py",
   "mimetype": "text/x-python",
   "name": "python",
   "nbconvert_exporter": "python",
   "pygments_lexer": "ipython3",
   "version": "3.8.8"
  }
 },
 "nbformat": 4,
 "nbformat_minor": 5
}
