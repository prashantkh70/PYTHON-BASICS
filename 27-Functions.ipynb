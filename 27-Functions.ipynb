{
 "cells": [
  {
   "cell_type": "markdown",
   "id": "d34fb498",
   "metadata": {},
   "source": [
    "# Functions"
   ]
  },
  {
   "cell_type": "code",
   "execution_count": null,
   "id": "e697e3d8",
   "metadata": {},
   "outputs": [],
   "source": [
    "Functions are resuable block of code\n",
    "function run when it is called\n",
    "def keyword is used to define a function\n",
    "def function_name\n",
    "\n",
    "function_name >> we need to follow identifier rules\n",
    "to call the function use >> function_name()\n",
    "\n",
    "def function_name(parameters):\n",
    "\n",
    "    \n",
    "parameters >>> optional\n",
    "colon >> mandatory\n",
    "docstring >> Documentation string , used to describe functionality of function >> optional\n",
    "\n",
    "return >> optional\n",
    "\n",
    "Return >> used at the end of function\n",
    ">> if we want to continue with the result of our function and want to do some operation on result\n",
    "then we need to use return statement"
   ]
  },
  {
   "cell_type": "markdown",
   "id": "59db3776",
   "metadata": {},
   "source": [
    "# syntax"
   ]
  },
  {
   "cell_type": "code",
   "execution_count": null,
   "id": "a387fd28",
   "metadata": {},
   "outputs": [],
   "source": [
    "def function_name(parameter):\n",
    "    \"\"\"Documentation string >> functionality \"\"\"\n",
    "    statement1\n",
    "    statement2\n",
    "    .\n",
    "    .\n",
    "    .\n",
    "    statementN\n",
    "    \n",
    "    return value\n",
    "\n",
    "function_name(argument)"
   ]
  },
  {
   "cell_type": "code",
   "execution_count": null,
   "id": "2c3cf370",
   "metadata": {},
   "outputs": [],
   "source": [
    "def function_name(a,b):\n",
    "    \"\"\"Documentation string >> functionality \"\"\"\n",
    "    statement1\n",
    "    statement2\n",
    "    .\n",
    "    .\n",
    "    .\n",
    "    statementN\n",
    "    \n",
    "    return value\n",
    "\n",
    "function_name(a,b)"
   ]
  },
  {
   "cell_type": "code",
   "execution_count": 1,
   "id": "9e6dba8c",
   "metadata": {},
   "outputs": [
    {
     "name": "stdout",
     "output_type": "stream",
     "text": [
      "hello python\n"
     ]
    }
   ],
   "source": [
    "print('hello python')"
   ]
  },
  {
   "cell_type": "code",
   "execution_count": 2,
   "id": "fb62eb4b",
   "metadata": {},
   "outputs": [
    {
     "name": "stdout",
     "output_type": "stream",
     "text": [
      "hello python\n"
     ]
    }
   ],
   "source": [
    "print('hello python')"
   ]
  },
  {
   "cell_type": "code",
   "execution_count": 3,
   "id": "a82fdd27",
   "metadata": {},
   "outputs": [
    {
     "name": "stdout",
     "output_type": "stream",
     "text": [
      "hello python\n",
      "we are learning functions\n"
     ]
    }
   ],
   "source": [
    "print('hello python')\n",
    "print('we are learning functions')"
   ]
  },
  {
   "cell_type": "code",
   "execution_count": 4,
   "id": "4aeda338",
   "metadata": {},
   "outputs": [
    {
     "name": "stdout",
     "output_type": "stream",
     "text": [
      "hello python\n",
      "we are learning functions\n",
      "Machine Learning\n",
      "Python and Data Science\n",
      "********************************************************************************\n",
      "hello python\n",
      "we are learning functions\n",
      "Machine Learning\n",
      "Python and Data Science\n",
      "********************************************************************************\n",
      "hello python\n",
      "we are learning functions\n",
      "Machine Learning\n",
      "Python and Data Science\n"
     ]
    }
   ],
   "source": [
    "print('hello python')\n",
    "print('we are learning functions')\n",
    "print('Machine Learning')\n",
    "print('Python and Data Science')\n",
    "\n",
    "print('*'*80)\n",
    "\n",
    "x = 4\n",
    "y = 10\n",
    "\n",
    "print('hello python')\n",
    "print('we are learning functions')\n",
    "print('Machine Learning')\n",
    "print('Python and Data Science')\n",
    "\n",
    "x = 5\n",
    "y = 11\n",
    "\n",
    "print('*'*80)\n",
    "\n",
    "print('hello python')\n",
    "print('we are learning functions')\n",
    "print('Machine Learning')\n",
    "print('Python and Data Science')"
   ]
  },
  {
   "cell_type": "code",
   "execution_count": 5,
   "id": "2cc2e1b3",
   "metadata": {},
   "outputs": [
    {
     "name": "stdout",
     "output_type": "stream",
     "text": [
      "Deep Learning\n"
     ]
    }
   ],
   "source": [
    "def testing():\n",
    "    print('hello python')\n",
    "    print('we are learning functions')\n",
    "    print('Machine Learning')\n",
    "    print('Python and Data Science')\n",
    "\n",
    "print('Deep Learning')"
   ]
  },
  {
   "cell_type": "code",
   "execution_count": 6,
   "id": "4099982e",
   "metadata": {},
   "outputs": [
    {
     "name": "stdout",
     "output_type": "stream",
     "text": [
      "Deep Learning\n",
      "hello python\n",
      "we are learning functions\n",
      "Machine Learning\n",
      "Python and Data Science\n"
     ]
    }
   ],
   "source": [
    "def testing():\n",
    "    print('hello python')\n",
    "    print('we are learning functions')\n",
    "    print('Machine Learning')\n",
    "    print('Python and Data Science')\n",
    "\n",
    "print('Deep Learning')\n",
    "\n",
    "testing()"
   ]
  },
  {
   "cell_type": "code",
   "execution_count": 7,
   "id": "b25d778e",
   "metadata": {},
   "outputs": [
    {
     "name": "stdout",
     "output_type": "stream",
     "text": [
      "hello python\n",
      "we are learning functions\n",
      "Machine Learning\n",
      "Python and Data Science\n"
     ]
    }
   ],
   "source": [
    "testing()"
   ]
  },
  {
   "cell_type": "code",
   "execution_count": 8,
   "id": "dd0229f0",
   "metadata": {},
   "outputs": [
    {
     "name": "stdout",
     "output_type": "stream",
     "text": [
      "hello python\n",
      "we are learning functions\n",
      "Machine Learning\n",
      "Python and Data Science\n"
     ]
    }
   ],
   "source": [
    "testing()"
   ]
  },
  {
   "cell_type": "code",
   "execution_count": 9,
   "id": "68acb3eb",
   "metadata": {},
   "outputs": [
    {
     "name": "stdout",
     "output_type": "stream",
     "text": [
      "we are in my_function\n"
     ]
    }
   ],
   "source": [
    "def my_function():\n",
    "    print('we are in my_function')\n",
    "    \n",
    "my_function()"
   ]
  },
  {
   "cell_type": "code",
   "execution_count": 10,
   "id": "0c5c8888",
   "metadata": {},
   "outputs": [],
   "source": [
    "def linear_regression():\n",
    "    print('Linear_regression_function')\n",
    "\n",
    "def logistic_regression():\n",
    "    print('logistic_regression_function')\n",
    "    \n",
    "def decision_tree_classifier():\n",
    "    print('decision_tree_classifier_function')\n",
    "    \n",
    "def random_forest_classifier():\n",
    "    print('random_forest_classifier')\n"
   ]
  },
  {
   "cell_type": "code",
   "execution_count": 11,
   "id": "1d2a9dc7",
   "metadata": {},
   "outputs": [
    {
     "name": "stdout",
     "output_type": "stream",
     "text": [
      "logistic_regression_function\n"
     ]
    }
   ],
   "source": [
    "logistic_regression()"
   ]
  },
  {
   "cell_type": "code",
   "execution_count": 12,
   "id": "d530b254",
   "metadata": {},
   "outputs": [
    {
     "name": "stdout",
     "output_type": "stream",
     "text": [
      "decision_tree_classifier_function\n"
     ]
    }
   ],
   "source": [
    "decision_tree_classifier()"
   ]
  },
  {
   "cell_type": "code",
   "execution_count": 13,
   "id": "0fb48e08",
   "metadata": {},
   "outputs": [
    {
     "name": "stdout",
     "output_type": "stream",
     "text": [
      "random_forest_classifier\n"
     ]
    }
   ],
   "source": [
    "random_forest_classifier()"
   ]
  },
  {
   "cell_type": "code",
   "execution_count": 14,
   "id": "6d94640a",
   "metadata": {},
   "outputs": [
    {
     "name": "stdout",
     "output_type": "stream",
     "text": [
      "Linear_regression_function\n"
     ]
    }
   ],
   "source": [
    "linear_regression()"
   ]
  },
  {
   "cell_type": "code",
   "execution_count": 17,
   "id": "28632153",
   "metadata": {},
   "outputs": [
    {
     "name": "stdout",
     "output_type": "stream",
     "text": [
      "a == 10, b == 20, c == 50\n",
      "average of 3 number is:  26.666666666666668\n",
      "a == 52, b == 26, c == 59\n",
      "average of 3 number is:  45.666666666666664\n",
      "a == 152, b == 208, c == 500\n",
      "average of 3 number is:  286.6666666666667\n"
     ]
    }
   ],
   "source": [
    "a = 10\n",
    "b = 20\n",
    "c = 50\n",
    "\n",
    "print(f\"a == {a}, b == {b}, c == {c}\")\n",
    "\n",
    "avg = (a+b+c)/3\n",
    "\n",
    "print('average of 3 number is: ',avg)\n",
    "\n",
    "a = 52\n",
    "b = 26\n",
    "c = 59\n",
    "\n",
    "print(f\"a == {a}, b == {b}, c == {c}\")\n",
    "\n",
    "avg = (a+b+c)/3\n",
    "\n",
    "print('average of 3 number is: ',avg)\n",
    "a = 152\n",
    "b = 208\n",
    "c = 500\n",
    "\n",
    "print(f\"a == {a}, b == {b}, c == {c}\")\n",
    "\n",
    "avg = (a+b+c)/3\n",
    "\n",
    "print('average of 3 number is: ',avg)"
   ]
  },
  {
   "cell_type": "code",
   "execution_count": 22,
   "id": "1a0281ce",
   "metadata": {},
   "outputs": [
    {
     "name": "stdout",
     "output_type": "stream",
     "text": [
      "a == 10, b == 20, c == 50\n",
      "average of 3 number is:  26.666666666666668\n",
      "a == 52, b == 26, c == 59\n",
      "average of 3 number is:  45.666666666666664\n",
      "a == 152, b == 208, c == 500\n",
      "average of 3 number is:  286.6666666666667\n"
     ]
    }
   ],
   "source": [
    "def average(a,b,c):\n",
    "    print(f\"a == {a}, b == {b}, c == {c}\")\n",
    "    avg = (a+b+c)/3\n",
    "    print('average of 3 number is: ',avg)\n",
    "\n",
    "average(10,20,50)\n",
    "average(52,26,59)\n",
    "average(152,208,500)"
   ]
  },
  {
   "cell_type": "code",
   "execution_count": 23,
   "id": "4dc0e232",
   "metadata": {},
   "outputs": [
    {
     "name": "stdout",
     "output_type": "stream",
     "text": [
      "a == 10, b == 20, c == 50\n"
     ]
    },
    {
     "data": {
      "text/plain": [
       "26.666666666666668"
      ]
     },
     "execution_count": 23,
     "metadata": {},
     "output_type": "execute_result"
    }
   ],
   "source": [
    "def average(a,b,c):\n",
    "    print(f\"a == {a}, b == {b}, c == {c}\")\n",
    "    avg = (a+b+c)/3\n",
    "    return avg\n",
    "\n",
    "average(10,20,50)\n",
    "# average(52,26,59)\n",
    "# average(152,208,500)"
   ]
  },
  {
   "cell_type": "code",
   "execution_count": 26,
   "id": "f46c0d05",
   "metadata": {},
   "outputs": [
    {
     "name": "stdout",
     "output_type": "stream",
     "text": [
      "a == 10, b == 20, c == 50\n"
     ]
    },
    {
     "data": {
      "text/plain": [
       "85"
      ]
     },
     "execution_count": 26,
     "metadata": {},
     "output_type": "execute_result"
    }
   ],
   "source": [
    "def addition(a,b,c):\n",
    "    print(f\"a == {a}, b == {b}, c == {c}\")\n",
    "    add = (a+b+c)\n",
    "    return add +5\n",
    "\n",
    "addition(10,20,50)"
   ]
  },
  {
   "cell_type": "code",
   "execution_count": 28,
   "id": "d59ad2e1",
   "metadata": {},
   "outputs": [
    {
     "name": "stdout",
     "output_type": "stream",
     "text": [
      "**************************************************\n",
      "a == 10, b == 20, c == 50\n"
     ]
    },
    {
     "data": {
      "text/plain": [
       "75"
      ]
     },
     "execution_count": 28,
     "metadata": {},
     "output_type": "execute_result"
    }
   ],
   "source": [
    "def addition(a,b,c):\n",
    "    print('*'*50)\n",
    "    print(f\"a == {a}, b == {b}, c == {c}\")\n",
    "    add = (a+b+c)\n",
    "    return add - 5\n",
    "\n",
    "addition(10,20,50)"
   ]
  },
  {
   "cell_type": "code",
   "execution_count": 29,
   "id": "ed3bb217",
   "metadata": {},
   "outputs": [
    {
     "ename": "IndentationError",
     "evalue": "expected an indented block (<ipython-input-29-36deafa1f578>, line 3)",
     "output_type": "error",
     "traceback": [
      "\u001b[1;36m  File \u001b[1;32m\"<ipython-input-29-36deafa1f578>\"\u001b[1;36m, line \u001b[1;32m3\u001b[0m\n\u001b[1;33m    my_fun()\u001b[0m\n\u001b[1;37m    ^\u001b[0m\n\u001b[1;31mIndentationError\u001b[0m\u001b[1;31m:\u001b[0m expected an indented block\n"
     ]
    }
   ],
   "source": [
    "def my_fun():\n",
    "    \n",
    "my_fun()"
   ]
  },
  {
   "cell_type": "code",
   "execution_count": 30,
   "id": "f25fd2ef",
   "metadata": {},
   "outputs": [],
   "source": [
    "def my_fun():\n",
    "    pass\n",
    "    \n",
    "my_fun()"
   ]
  },
  {
   "cell_type": "markdown",
   "id": "30229af2",
   "metadata": {},
   "source": [
    "# factorial"
   ]
  },
  {
   "cell_type": "code",
   "execution_count": 32,
   "id": "50ba00b4",
   "metadata": {},
   "outputs": [
    {
     "name": "stdout",
     "output_type": "stream",
     "text": [
      "Factorial of 5 is : 120\n"
     ]
    }
   ],
   "source": [
    "num =5\n",
    "fact =1\n",
    "if num <0:\n",
    "    print('Factorial does not exists')\n",
    "else:\n",
    "    for i in range(1,num+1):\n",
    "        fact*=i\n",
    "    print(f\"Factorial of {num} is : {fact}\")"
   ]
  },
  {
   "cell_type": "code",
   "execution_count": 39,
   "id": "3c2137bb",
   "metadata": {},
   "outputs": [
    {
     "name": "stdout",
     "output_type": "stream",
     "text": [
      "Factorial of 5 is : 120\n",
      "Factorial of 9 is : 362880\n",
      "Factorial of 4 is : 24\n",
      "Factorial of 2 is : 2\n",
      "Factorial of 7 is : 5040\n"
     ]
    }
   ],
   "source": [
    "num =5\n",
    "fact =1\n",
    "if num <0:\n",
    "    print('Factorial does not exists')\n",
    "else:\n",
    "    for i in range(1,num+1):\n",
    "        fact*=i\n",
    "    print(f\"Factorial of {num} is : {fact}\")\n",
    "    \n",
    "num =9\n",
    "fact =1\n",
    "if num <0:\n",
    "    print('Factorial does not exists')\n",
    "else:\n",
    "    for i in range(1,num+1):\n",
    "        fact*=i\n",
    "    print(f\"Factorial of {num} is : {fact}\")\n",
    "    \n",
    "num =4\n",
    "fact =1\n",
    "if num <0:\n",
    "    print('Factorial does not exists')\n",
    "else:\n",
    "    for i in range(1,num+1):\n",
    "        fact*=i\n",
    "    print(f\"Factorial of {num} is : {fact}\")\n",
    "\n",
    "num =2\n",
    "fact =1\n",
    "if num <0:\n",
    "    print('Factorial does not exists')\n",
    "else:\n",
    "    for i in range(1,num+1):\n",
    "        fact*=i\n",
    "    print(f\"Factorial of {num} is : {fact}\")\n",
    "    \n",
    "num =7\n",
    "fact =1\n",
    "if num <0:\n",
    "    print('Factorial does not exists')\n",
    "else:\n",
    "    for i in range(1,num+1):\n",
    "        fact*=i\n",
    "    print(f\"Factorial of {num} is : {fact}\")"
   ]
  },
  {
   "cell_type": "code",
   "execution_count": 50,
   "id": "0c8a1d08",
   "metadata": {},
   "outputs": [
    {
     "name": "stdout",
     "output_type": "stream",
     "text": [
      "Factorial of 5 is : 120\n",
      "Factorial of 9 is : 362880\n",
      "Factorial of 4 is : 24\n",
      "Factorial of 2 is : 2\n",
      "Factorial of 7 is : 5040\n"
     ]
    }
   ],
   "source": [
    "def factorial(num):\n",
    "    fact =1\n",
    "    if num <0:\n",
    "        print('Factorial does not exists')\n",
    "    else:\n",
    "        for i in range(1,num+1):\n",
    "            fact*=i\n",
    "    print(f\"Factorial of {num} is : {fact}\")\n",
    "\n",
    "factorial(5)\n",
    "factorial(9)\n",
    "factorial(4)\n",
    "factorial(2)\n",
    "factorial(7)"
   ]
  },
  {
   "cell_type": "markdown",
   "id": "eed7a45a",
   "metadata": {},
   "source": [
    "# sum()"
   ]
  },
  {
   "cell_type": "code",
   "execution_count": 51,
   "id": "12706581",
   "metadata": {},
   "outputs": [
    {
     "name": "stdout",
     "output_type": "stream",
     "text": [
      "25\n",
      "21\n",
      "24\n"
     ]
    }
   ],
   "source": [
    "list1 = [3,4,5,6,7]\n",
    "tuple1 = (1,2,4,5,9)\n",
    "set1= {4,5,8,7}\n",
    "\n",
    "x = sum(list1)\n",
    "y = sum(tuple1)\n",
    "z = sum(set1)\n",
    "print(x)\n",
    "print(y)\n",
    "print(z)"
   ]
  },
  {
   "cell_type": "code",
   "execution_count": 52,
   "id": "30a0f538",
   "metadata": {},
   "outputs": [
    {
     "name": "stdout",
     "output_type": "stream",
     "text": [
      "PYTHON\n",
      "PYTHON\n",
      "PYTHON\n"
     ]
    }
   ],
   "source": [
    "list1 = [3,4,5,6,7]\n",
    "tuple1 = (1,2,4,5,9)\n",
    "set1= {4,5,8,7}\n",
    "\n",
    "def get_sum(iterable):\n",
    "    \"\"\"This function is used to find sum of iterable items\"\"\"\n",
    "    sum1 =0\n",
    "    for i in iterable:\n",
    "        sum1+=i\n",
    "    return 'PYTHON'\n",
    "    \n",
    "x =get_sum(list1)\n",
    "y =get_sum(tuple1)\n",
    "z =get_sum(set1)   \n",
    "    \n",
    "print(x)\n",
    "print(y)\n",
    "print(z)"
   ]
  },
  {
   "cell_type": "code",
   "execution_count": 55,
   "id": "51067c6d",
   "metadata": {},
   "outputs": [
    {
     "name": "stdout",
     "output_type": "stream",
     "text": [
      "7\n",
      "9\n",
      "7\n"
     ]
    }
   ],
   "source": [
    "list1 = [3,4,5,6,7]\n",
    "tuple1 = (1,2,4,5,9)\n",
    "set1= {4,5,8,7}\n",
    "\n",
    "def get_sum(iterable):\n",
    "    \"\"\"This function is used to find sum of iterable items\"\"\"\n",
    "    sum1 =0\n",
    "    for i in iterable:\n",
    "        sum1+=i\n",
    "    return i\n",
    "    \n",
    "x =get_sum(list1)\n",
    "y =get_sum(tuple1)\n",
    "z =get_sum(set1)   \n",
    "    \n",
    "print(x)\n",
    "print(y)\n",
    "print(z)"
   ]
  },
  {
   "cell_type": "code",
   "execution_count": 57,
   "id": "ff5b67c5",
   "metadata": {},
   "outputs": [
    {
     "name": "stdout",
     "output_type": "stream",
     "text": [
      "25\n",
      "21\n",
      "24\n",
      "This function is used to find sum of iterable items\n"
     ]
    }
   ],
   "source": [
    "list1 = [3,4,5,6,7]\n",
    "tuple1 = (1,2,4,5,9)\n",
    "set1= {4,5,8,7}\n",
    "\n",
    "def get_sum(iterable):\n",
    "    \"\"\"This function is used to find sum of iterable items\"\"\"\n",
    "    sum1 =0\n",
    "    for i in iterable:\n",
    "        sum1+=i\n",
    "    return sum1\n",
    "    \n",
    "x =get_sum(list1)\n",
    "y =get_sum(tuple1)\n",
    "z =get_sum(set1)   \n",
    "    \n",
    "print(x)\n",
    "print(y)\n",
    "print(z)\n",
    "print(get_sum.__doc__)"
   ]
  },
  {
   "cell_type": "code",
   "execution_count": 59,
   "id": "7120ff37",
   "metadata": {},
   "outputs": [
    {
     "name": "stdout",
     "output_type": "stream",
     "text": [
      "25\n",
      "21\n",
      "24\n",
      "PYTHON\n",
      "PYTHON\n",
      "PYTHON\n",
      "This function is used to find sum of iterable items\n"
     ]
    }
   ],
   "source": [
    "list1 = [3,4,5,6,7]\n",
    "tuple1 = (1,2,4,5,9)\n",
    "set1= {4,5,8,7}\n",
    "\n",
    "def get_sum(iterable):\n",
    "    \"\"\"This function is used to find sum of iterable items\"\"\"\n",
    "    sum1 =0\n",
    "    for i in iterable:\n",
    "        sum1+=i\n",
    "    print(sum1)\n",
    "    return 'PYTHON'\n",
    "    \n",
    "x =get_sum(list1)\n",
    "y =get_sum(tuple1)\n",
    "z =get_sum(set1)   \n",
    "    \n",
    "print(x)\n",
    "print(y)\n",
    "print(z)\n",
    "print(get_sum.__doc__)"
   ]
  },
  {
   "cell_type": "code",
   "execution_count": 60,
   "id": "2da71663",
   "metadata": {},
   "outputs": [
    {
     "name": "stdout",
     "output_type": "stream",
     "text": [
      "This function is used to find sum of iterable items\n"
     ]
    }
   ],
   "source": [
    "print(get_sum.__doc__)"
   ]
  },
  {
   "cell_type": "code",
   "execution_count": 63,
   "id": "04b4c3c6",
   "metadata": {},
   "outputs": [
    {
     "name": "stdout",
     "output_type": "stream",
     "text": [
      "25\n",
      "21\n",
      "24\n",
      "PYTHON\n",
      "PYTHON\n",
      "PYTHON\n",
      "Data science is an interdisciplinary field that uses scientific methods, processes, algorithms and systems to extract knowledge and insights from noisy, structured and unstructured data, and apply knowledge from data across a broad range of application domains\n"
     ]
    }
   ],
   "source": [
    "list1 = [3,4,5,6,7]\n",
    "tuple1 = (1,2,4,5,9)\n",
    "set1= {4,5,8,7}\n",
    "\n",
    "def get_sum(iterable):\n",
    "    \"\"\"Data science is an interdisciplinary field that uses scientific methods, processes, algorithms and systems to extract knowledge and insights from noisy, structured and unstructured data, and apply knowledge from data across a broad range of application domains\"\"\"\n",
    "    sum1 =0\n",
    "    for i in iterable:\n",
    "        sum1+=i\n",
    "    print(sum1)\n",
    "        \n",
    "    return 'PYTHON'\n",
    "\n",
    "    \n",
    "x =get_sum(list1)\n",
    "y =get_sum(tuple1)\n",
    "z =get_sum(set1)   \n",
    "    \n",
    "print(x)\n",
    "print(y)\n",
    "print(z)\n",
    "print(get_sum.__doc__)"
   ]
  },
  {
   "cell_type": "code",
   "execution_count": 70,
   "id": "343a348f",
   "metadata": {},
   "outputs": [
    {
     "data": {
      "text/plain": [
       "28"
      ]
     },
     "execution_count": 70,
     "metadata": {},
     "output_type": "execute_result"
    }
   ],
   "source": [
    "def calculation(iterable):\n",
    "    sum1 =0\n",
    "    mul = 1\n",
    "    for i in iterable:\n",
    "        sum1+= i\n",
    "        mul*= i\n",
    "    return sum1,mul\n",
    "\n",
    "list1 = [3,4,8,6,7]\n",
    "tuple1 = (1,2,4,5,9)\n",
    "set1= {4,5,8,7}\n",
    "\n",
    "s1,m1 = calculation(list1)\n",
    "s1"
   ]
  },
  {
   "cell_type": "code",
   "execution_count": 71,
   "id": "9b8496f0",
   "metadata": {},
   "outputs": [
    {
     "data": {
      "text/plain": [
       "4032"
      ]
     },
     "execution_count": 71,
     "metadata": {},
     "output_type": "execute_result"
    }
   ],
   "source": [
    "def calculation(iterable):\n",
    "    sum1 =0\n",
    "    mul = 1\n",
    "    for i in iterable:\n",
    "        sum1+= i\n",
    "        mul*= i\n",
    "    return sum1,mul\n",
    "\n",
    "list1 = [3,4,8,6,7]\n",
    "tuple1 = (1,2,4,5,9)\n",
    "set1= {4,5,8,7}\n",
    "\n",
    "s1,m1 = calculation(list1)\n",
    "m1"
   ]
  },
  {
   "cell_type": "code",
   "execution_count": 72,
   "id": "69d0cb62",
   "metadata": {},
   "outputs": [
    {
     "data": {
      "text/plain": [
       "(28, 4032)"
      ]
     },
     "execution_count": 72,
     "metadata": {},
     "output_type": "execute_result"
    }
   ],
   "source": [
    "def calculation(iterable):\n",
    "    sum1 =0\n",
    "    mul = 1\n",
    "    for i in iterable:\n",
    "        sum1+= i\n",
    "        mul*= i\n",
    "    return sum1,mul\n",
    "\n",
    "list1 = [3,4,8,6,7]\n",
    "tuple1 = (1,2,4,5,9)\n",
    "set1= {4,5,8,7}\n",
    "\n",
    "calculation(list1)\n"
   ]
  },
  {
   "cell_type": "code",
   "execution_count": 74,
   "id": "9001d091",
   "metadata": {},
   "outputs": [],
   "source": [
    "def calculation(iterable):\n",
    "    sum1 =0\n",
    "    mul = 1\n",
    "    for i in iterable:\n",
    "        sum1+= i\n",
    "        mul*= i\n",
    "    return sum1,mul\n",
    "\n",
    "\n",
    "list1 = [3,4,8,6,7]\n",
    "tuple1 = (1,2,4,5,9)\n",
    "set1= {4,5,8,7}\n",
    "\n",
    "s1,m1 = calculation(list1)\n",
    "s2,m2 = calculation(tuple1)\n",
    "s3,m3 = calculation(set1)"
   ]
  },
  {
   "cell_type": "code",
   "execution_count": 75,
   "id": "53096728",
   "metadata": {},
   "outputs": [
    {
     "data": {
      "text/plain": [
       "24"
      ]
     },
     "execution_count": 75,
     "metadata": {},
     "output_type": "execute_result"
    }
   ],
   "source": [
    "s3"
   ]
  },
  {
   "cell_type": "code",
   "execution_count": 76,
   "id": "8abd7422",
   "metadata": {},
   "outputs": [
    {
     "data": {
      "text/plain": [
       "1120"
      ]
     },
     "execution_count": 76,
     "metadata": {},
     "output_type": "execute_result"
    }
   ],
   "source": [
    "m3"
   ]
  },
  {
   "cell_type": "code",
   "execution_count": 83,
   "id": "7fda4b1d",
   "metadata": {},
   "outputs": [
    {
     "data": {
      "text/plain": [
       "(28, 4032)"
      ]
     },
     "execution_count": 83,
     "metadata": {},
     "output_type": "execute_result"
    }
   ],
   "source": [
    "def calculation(iterable):\n",
    "    sum1 =0\n",
    "    mul = 1\n",
    "    for i in iterable:\n",
    "        sum1+= i\n",
    "        mul*= i\n",
    "    return sum1,mul\n",
    "\n",
    "list1 = [3,4,8,6,7]\n",
    "tuple1 = (1,2,4,5,9)\n",
    "set1= {4,5,8,7}\n",
    "\n",
    "calculation(list1)\n",
    "# calculation(tuple1)\n",
    "# calculation(set1)"
   ]
  },
  {
   "cell_type": "code",
   "execution_count": 80,
   "id": "b331f7d4",
   "metadata": {},
   "outputs": [
    {
     "data": {
      "text/plain": [
       "(21, 360)"
      ]
     },
     "execution_count": 80,
     "metadata": {},
     "output_type": "execute_result"
    }
   ],
   "source": [
    "calculation(tuple1)\n"
   ]
  },
  {
   "cell_type": "code",
   "execution_count": 81,
   "id": "7bdcb90c",
   "metadata": {},
   "outputs": [
    {
     "data": {
      "text/plain": [
       "(24, 1120)"
      ]
     },
     "execution_count": 81,
     "metadata": {},
     "output_type": "execute_result"
    }
   ],
   "source": [
    "\n",
    "calculation(set1)"
   ]
  },
  {
   "cell_type": "code",
   "execution_count": 84,
   "id": "9ec15077",
   "metadata": {},
   "outputs": [
    {
     "name": "stdout",
     "output_type": "stream",
     "text": [
      "Hello\n"
     ]
    },
    {
     "data": {
      "text/plain": [
       "(28, 4032)"
      ]
     },
     "execution_count": 84,
     "metadata": {},
     "output_type": "execute_result"
    }
   ],
   "source": [
    "def calculation(iterable):\n",
    "    sum1 =0\n",
    "    mul = 1\n",
    "    for i in iterable:\n",
    "        sum1+= i\n",
    "        mul*= i\n",
    "    return sum1,mul\n",
    "\n",
    "print('Hello')\n",
    "list1 = [3,4,8,6,7]\n",
    "tuple1 = (1,2,4,5,9)\n",
    "set1= {4,5,8,7}\n",
    "\n",
    "calculation(list1)"
   ]
  },
  {
   "cell_type": "code",
   "execution_count": 85,
   "id": "a25ae1f2",
   "metadata": {},
   "outputs": [
    {
     "ename": "NameError",
     "evalue": "name 'sum1' is not defined",
     "output_type": "error",
     "traceback": [
      "\u001b[1;31m---------------------------------------------------------------------------\u001b[0m",
      "\u001b[1;31mNameError\u001b[0m                                 Traceback (most recent call last)",
      "\u001b[1;32m<ipython-input-85-e45b06c4d0e5>\u001b[0m in \u001b[0;36m<module>\u001b[1;34m\u001b[0m\n\u001b[0;32m     16\u001b[0m \u001b[0ms3\u001b[0m\u001b[1;33m,\u001b[0m\u001b[0mm3\u001b[0m \u001b[1;33m=\u001b[0m \u001b[0mcalculation\u001b[0m\u001b[1;33m(\u001b[0m\u001b[0mset1\u001b[0m\u001b[1;33m)\u001b[0m\u001b[1;33m\u001b[0m\u001b[1;33m\u001b[0m\u001b[0m\n\u001b[0;32m     17\u001b[0m \u001b[1;33m\u001b[0m\u001b[0m\n\u001b[1;32m---> 18\u001b[1;33m \u001b[0mprint\u001b[0m\u001b[1;33m(\u001b[0m\u001b[0msum1\u001b[0m\u001b[1;33m)\u001b[0m\u001b[1;33m\u001b[0m\u001b[1;33m\u001b[0m\u001b[0m\n\u001b[0m",
      "\u001b[1;31mNameError\u001b[0m: name 'sum1' is not defined"
     ]
    }
   ],
   "source": [
    "def calculation(iterable):\n",
    "    sum1 =0\n",
    "    mul = 1\n",
    "    for i in iterable:\n",
    "        sum1+= i\n",
    "        mul*= i\n",
    "    return sum1,mul\n",
    "\n",
    "\n",
    "list1 = [3,4,8,6,7]\n",
    "tuple1 = (1,2,4,5,9)\n",
    "set1= {4,5,8,7}\n",
    "\n",
    "s1,m1 = calculation(list1)\n",
    "s2,m2 = calculation(tuple1)\n",
    "s3,m3 = calculation(set1)\n",
    "\n",
    "print(sum1)"
   ]
  },
  {
   "cell_type": "code",
   "execution_count": 86,
   "id": "4090f426",
   "metadata": {},
   "outputs": [
    {
     "name": "stdout",
     "output_type": "stream",
     "text": [
      "10\n"
     ]
    }
   ],
   "source": [
    "glob = 10\n",
    "def calculation(iterable):\n",
    "    sum1 =0\n",
    "    mul = 1\n",
    "    for i in iterable:\n",
    "        sum1+= i\n",
    "        mul*= i\n",
    "    return sum1,mul\n",
    "\n",
    "\n",
    "list1 = [3,4,8,6,7]\n",
    "tuple1 = (1,2,4,5,9)\n",
    "set1= {4,5,8,7}\n",
    "\n",
    "s1,m1 = calculation(list1)\n",
    "s2,m2 = calculation(tuple1)\n",
    "s3,m3 = calculation(set1)\n",
    "\n",
    "print(glob)"
   ]
  },
  {
   "cell_type": "code",
   "execution_count": 88,
   "id": "419f9c7b",
   "metadata": {},
   "outputs": [
    {
     "ename": "NameError",
     "evalue": "name 'local' is not defined",
     "output_type": "error",
     "traceback": [
      "\u001b[1;31m---------------------------------------------------------------------------\u001b[0m",
      "\u001b[1;31mNameError\u001b[0m                                 Traceback (most recent call last)",
      "\u001b[1;32m<ipython-input-88-0fa763684340>\u001b[0m in \u001b[0;36m<module>\u001b[1;34m\u001b[0m\n\u001b[0;32m     17\u001b[0m \u001b[0ms3\u001b[0m\u001b[1;33m,\u001b[0m\u001b[0mm3\u001b[0m \u001b[1;33m=\u001b[0m \u001b[0mcalculation\u001b[0m\u001b[1;33m(\u001b[0m\u001b[0mset1\u001b[0m\u001b[1;33m)\u001b[0m\u001b[1;33m\u001b[0m\u001b[1;33m\u001b[0m\u001b[0m\n\u001b[0;32m     18\u001b[0m \u001b[1;33m\u001b[0m\u001b[0m\n\u001b[1;32m---> 19\u001b[1;33m \u001b[0mprint\u001b[0m\u001b[1;33m(\u001b[0m\u001b[0mlocal\u001b[0m\u001b[1;33m)\u001b[0m\u001b[1;33m\u001b[0m\u001b[1;33m\u001b[0m\u001b[0m\n\u001b[0m",
      "\u001b[1;31mNameError\u001b[0m: name 'local' is not defined"
     ]
    }
   ],
   "source": [
    "\n",
    "def calculation(iterable):\n",
    "    local =10\n",
    "    sum1 =0\n",
    "    mul = 1\n",
    "    for i in iterable:\n",
    "        sum1+= i\n",
    "        mul*= i\n",
    "    return sum1,mul\n",
    "\n",
    "\n",
    "list1 = [3,4,8,6,7]\n",
    "tuple1 = (1,2,4,5,9)\n",
    "set1= {4,5,8,7}\n",
    "\n",
    "s1,m1 = calculation(list1)\n",
    "s2,m2 = calculation(tuple1)\n",
    "s3,m3 = calculation(set1)\n",
    "\n",
    "print(local)"
   ]
  },
  {
   "cell_type": "code",
   "execution_count": 90,
   "id": "53503f00",
   "metadata": {},
   "outputs": [
    {
     "data": {
      "text/plain": [
       "(28, 4032)"
      ]
     },
     "execution_count": 90,
     "metadata": {},
     "output_type": "execute_result"
    }
   ],
   "source": [
    "def calculation(iterable):\n",
    "    local =10\n",
    "    sum1 =0\n",
    "    mul = 1\n",
    "    for i in iterable:\n",
    "        sum1+= i\n",
    "        mul*= i\n",
    "    return sum1,mul\n",
    "\n",
    "\n",
    "list1 = [3,4,8,6,7]\n",
    "tuple1 = (1,2,4,5,9)\n",
    "set1= {4,5,8,7}\n",
    "\n",
    "calculation(list1)"
   ]
  },
  {
   "cell_type": "code",
   "execution_count": null,
   "id": "3ad71485",
   "metadata": {},
   "outputs": [],
   "source": []
  }
 ],
 "metadata": {
  "kernelspec": {
   "display_name": "Python 3",
   "language": "python",
   "name": "python3"
  },
  "language_info": {
   "codemirror_mode": {
    "name": "ipython",
    "version": 3
   },
   "file_extension": ".py",
   "mimetype": "text/x-python",
   "name": "python",
   "nbconvert_exporter": "python",
   "pygments_lexer": "ipython3",
   "version": "3.8.8"
  }
 },
 "nbformat": 4,
 "nbformat_minor": 5
}
