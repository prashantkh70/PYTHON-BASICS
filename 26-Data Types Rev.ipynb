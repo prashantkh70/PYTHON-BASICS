{
 "cells": [
  {
   "cell_type": "markdown",
   "id": "fabea880",
   "metadata": {},
   "source": [
    "# Data Types Rev"
   ]
  },
  {
   "cell_type": "markdown",
   "id": "ba0da493",
   "metadata": {},
   "source": [
    "### Numeric\n",
    "1. int\n",
    "2. float\n",
    "3. complex"
   ]
  },
  {
   "cell_type": "markdown",
   "id": "135edca9",
   "metadata": {},
   "source": [
    "## String"
   ]
  },
  {
   "cell_type": "raw",
   "id": "599b542c",
   "metadata": {},
   "source": [
    "1. ordered\n",
    "2. immutable\n",
    "3. duplicates are allowed\n",
    "4. single, double , triple(single,double)"
   ]
  },
  {
   "cell_type": "markdown",
   "id": "9a11f375",
   "metadata": {},
   "source": [
    "### String Functions"
   ]
  },
  {
   "cell_type": "code",
   "execution_count": null,
   "id": "e67e7e04",
   "metadata": {},
   "outputs": [],
   "source": [
    "captilize\n",
    "lower\n",
    "upper\n",
    "title\n",
    "strip\n",
    "lstrip\n",
    "rstrip\n",
    "replace\n",
    "count\n",
    "index\n",
    "find\n",
    "split  >> string > list\n",
    "join\n",
    "isalnum\n",
    "isnumeric  >> digit,subscript,superscript,vulgar fractions\n",
    "isdigit    >> digit,subscript,superscript\n",
    "isdecimal  >> digits\n",
    "islower\n",
    "isupper\n",
    "istitle\n",
    "endswith\n",
    "startswith\n",
    "zfill\n",
    "center\n",
    "swapcase\n",
    "isspace\n",
    "\n"
   ]
  },
  {
   "cell_type": "markdown",
   "id": "9f2c86a4",
   "metadata": {},
   "source": [
    "## List"
   ]
  },
  {
   "cell_type": "code",
   "execution_count": null,
   "id": "501fd57d",
   "metadata": {},
   "outputs": [],
   "source": [
    "1. ordered\n",
    "2. mutable\n",
    "3. duplicates are allowed\n",
    "4. enclosed by []\n",
    "5. comma seperated"
   ]
  },
  {
   "cell_type": "markdown",
   "id": "d102cc59",
   "metadata": {},
   "source": [
    "### List Functions"
   ]
  },
  {
   "cell_type": "code",
   "execution_count": null,
   "id": "2c5f525a",
   "metadata": {},
   "outputs": [],
   "source": [
    "append\n",
    "extend\n",
    "insert\n",
    "remove\n",
    "pop\n",
    "clear\n",
    "sort\n",
    "reverse\n",
    "count\n",
    "index\n",
    "copy\n",
    "\n",
    "Built in fn:\n",
    "    sorted\n",
    "    reversed\n",
    "    min\n",
    "    max\n",
    "    sum\n",
    "    "
   ]
  },
  {
   "cell_type": "markdown",
   "id": "6774e128",
   "metadata": {},
   "source": [
    "### Tuple"
   ]
  },
  {
   "cell_type": "code",
   "execution_count": null,
   "id": "7382dc1a",
   "metadata": {},
   "outputs": [],
   "source": [
    "1. ordered\n",
    "2. Immutable\n",
    "3. Duplicates are allowed\n",
    "4. enclosed by ()\n",
    "\n",
    "function:\n",
    "    index\n",
    "    count\n",
    "Built in fn:\n",
    "    sorted\n",
    "    reversed\n",
    "    min\n",
    "    max\n",
    "    sum"
   ]
  },
  {
   "cell_type": "markdown",
   "id": "81502b51",
   "metadata": {},
   "source": [
    "### Set"
   ]
  },
  {
   "cell_type": "code",
   "execution_count": null,
   "id": "c400f5ac",
   "metadata": {},
   "outputs": [],
   "source": [
    "1. unordered\n",
    "2. mutable\n",
    "3. duplicates are not allowed\n",
    "4. enclosed by {}\n",
    "5. indexing is not allowed\n",
    "\n",
    "initialised with set()"
   ]
  },
  {
   "cell_type": "markdown",
   "id": "05e7c57b",
   "metadata": {},
   "source": [
    "### Set Functions"
   ]
  },
  {
   "cell_type": "code",
   "execution_count": null,
   "id": "34c7bf05",
   "metadata": {},
   "outputs": [],
   "source": [
    "add\n",
    "update\n",
    "union\n",
    "remove\n",
    "discard\n",
    "pop\n",
    "clear\n",
    "\n",
    "intersection\n",
    "intersection_upadte\n",
    "difference\n",
    "difference_update\n",
    "symmetric_difference\n",
    "symmetric_difference_update\n",
    "\n",
    "issuperset\n",
    "issubset\n",
    "isdisjoint\n",
    "copy"
   ]
  },
  {
   "cell_type": "markdown",
   "id": "29c99496",
   "metadata": {},
   "source": [
    "### Frozenset"
   ]
  },
  {
   "cell_type": "code",
   "execution_count": null,
   "id": "e9956acc",
   "metadata": {},
   "outputs": [],
   "source": [
    "1. unordered\n",
    "2. immutable\n",
    "3. duplicates are not allowed\n",
    "4. indexing is not allowed\n",
    "5. enclosed by {}\n",
    "\n",
    "initialised with frozenset()\n",
    "\n",
    "functions:\n",
    "    union\n",
    "    intersection\n",
    "    difference\n",
    "    symmetric_difference\n",
    "    issuperset\n",
    "    issubset\n",
    "    isdisjoint\n",
    "    copy"
   ]
  },
  {
   "cell_type": "markdown",
   "id": "6fb4ed0f",
   "metadata": {},
   "source": [
    "## Dict"
   ]
  },
  {
   "cell_type": "code",
   "execution_count": null,
   "id": "c1653dcd",
   "metadata": {},
   "outputs": [],
   "source": [
    "1. Mutable\n",
    "2. ordered >> if puython > 3.7\n",
    "3. duplicate:\n",
    "    keys: not allowed\n",
    "    value: allowed\n",
    "4. indexing is not allowed\n",
    "5. enclosed by {}\n",
    "\n",
    "\n",
    "dict >>{key:value}\n",
    "key >> Immutable data types\n",
    "value>> any data type\n",
    "\n"
   ]
  },
  {
   "cell_type": "markdown",
   "id": "3a0586da",
   "metadata": {},
   "source": [
    "## Dict Functions"
   ]
  },
  {
   "cell_type": "code",
   "execution_count": null,
   "id": "21077916",
   "metadata": {},
   "outputs": [],
   "source": [
    "get\n",
    "keys\n",
    "values\n",
    "items\n",
    "update\n",
    "pop\n",
    "popitem\n",
    "clear\n",
    "fromkeys\n",
    "setdefault\n",
    "copy"
   ]
  }
 ],
 "metadata": {
  "kernelspec": {
   "display_name": "Python 3",
   "language": "python",
   "name": "python3"
  },
  "language_info": {
   "codemirror_mode": {
    "name": "ipython",
    "version": 3
   },
   "file_extension": ".py",
   "mimetype": "text/x-python",
   "name": "python",
   "nbconvert_exporter": "python",
   "pygments_lexer": "ipython3",
   "version": "3.8.8"
  }
 },
 "nbformat": 4,
 "nbformat_minor": 5
}
