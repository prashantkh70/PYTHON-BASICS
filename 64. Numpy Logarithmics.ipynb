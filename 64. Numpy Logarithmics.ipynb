{
 "cells": [
  {
   "cell_type": "markdown",
   "id": "350aa117",
   "metadata": {},
   "source": [
    "# Numpy Logs"
   ]
  },
  {
   "cell_type": "code",
   "execution_count": 1,
   "id": "c6feb9d3",
   "metadata": {},
   "outputs": [],
   "source": [
    "import numpy as np"
   ]
  },
  {
   "cell_type": "code",
   "execution_count": null,
   "id": "c0c3d633",
   "metadata": {},
   "outputs": [],
   "source": [
    "1. np.log()\n",
    "2. np.log2()\n",
    "3. np.log10()"
   ]
  },
  {
   "cell_type": "markdown",
   "id": "f1dad127",
   "metadata": {},
   "source": [
    "## 1. np.log()"
   ]
  },
  {
   "cell_type": "code",
   "execution_count": null,
   "id": "b5dbab1e",
   "metadata": {},
   "outputs": [],
   "source": [
    "natural log >> base e\n",
    "it is the inverse of exponential function >>> log(exp(x))= x"
   ]
  },
  {
   "cell_type": "code",
   "execution_count": 2,
   "id": "bd764cbf",
   "metadata": {},
   "outputs": [
    {
     "data": {
      "text/plain": [
       "array([17, 19, 14, 21, 37, 19, 37, 39, 27, 19])"
      ]
     },
     "execution_count": 2,
     "metadata": {},
     "output_type": "execute_result"
    }
   ],
   "source": [
    "array1=np.random.randint(10,40,size=10)\n",
    "array1"
   ]
  },
  {
   "cell_type": "code",
   "execution_count": 3,
   "id": "7494f880",
   "metadata": {},
   "outputs": [
    {
     "data": {
      "text/plain": [
       "array([2.83321334, 2.94443898, 2.63905733, 3.04452244, 3.61091791,\n",
       "       2.94443898, 3.61091791, 3.66356165, 3.29583687, 2.94443898])"
      ]
     },
     "execution_count": 3,
     "metadata": {},
     "output_type": "execute_result"
    }
   ],
   "source": [
    "array1=np.random.randint(10,40,size=10)\n",
    "array1"
   ]
  },
  {
   "cell_type": "code",
   "execution_count": 4,
   "id": "42f6c05c",
   "metadata": {},
   "outputs": [
    {
     "data": {
      "text/plain": [
       "3.1780538303479458"
      ]
     },
     "execution_count": 4,
     "metadata": {},
     "output_type": "execute_result"
    }
   ],
   "source": [
    "np.log(24)"
   ]
  },
  {
   "cell_type": "code",
   "execution_count": 5,
   "id": "001d3a0f",
   "metadata": {},
   "outputs": [
    {
     "data": {
      "text/plain": [
       "5.5093883366279774"
      ]
     },
     "execution_count": 5,
     "metadata": {},
     "output_type": "execute_result"
    }
   ],
   "source": [
    "np.log(247)"
   ]
  },
  {
   "cell_type": "markdown",
   "id": "c0f076c1",
   "metadata": {},
   "source": [
    "### log transformation"
   ]
  },
  {
   "cell_type": "code",
   "execution_count": 8,
   "id": "96bbafe4",
   "metadata": {},
   "outputs": [
    {
     "name": "stdout",
     "output_type": "stream",
     "text": [
      "[696 453 610 398 527 201 265 256 599 376]\n",
      "******************************\n",
      "[6.54534966 6.11589213 6.41345896 5.98645201 6.26720055 5.30330491\n",
      " 5.57972983 5.54517744 6.3952616  5.92958914]\n"
     ]
    }
   ],
   "source": [
    "array1=np.random.randint(100,700,size=10)\n",
    "print(array1)\n",
    "print('*'*30)\n",
    "print(np.log(array1))"
   ]
  },
  {
   "cell_type": "code",
   "execution_count": 9,
   "id": "2ef24cbe",
   "metadata": {},
   "outputs": [
    {
     "data": {
      "text/plain": [
       "0.0"
      ]
     },
     "execution_count": 9,
     "metadata": {},
     "output_type": "execute_result"
    }
   ],
   "source": [
    "np.log(1)"
   ]
  },
  {
   "cell_type": "markdown",
   "id": "ba34a328",
   "metadata": {},
   "source": [
    "## 2. np.log2()"
   ]
  },
  {
   "cell_type": "code",
   "execution_count": 10,
   "id": "26b992e0",
   "metadata": {},
   "outputs": [
    {
     "data": {
      "text/plain": [
       "5.087462841250339"
      ]
     },
     "execution_count": 10,
     "metadata": {},
     "output_type": "execute_result"
    }
   ],
   "source": [
    "np.log2(34)"
   ]
  },
  {
   "cell_type": "code",
   "execution_count": 11,
   "id": "06f4c90a",
   "metadata": {},
   "outputs": [
    {
     "data": {
      "text/plain": [
       "0.0"
      ]
     },
     "execution_count": 11,
     "metadata": {},
     "output_type": "execute_result"
    }
   ],
   "source": [
    "np.log(1)"
   ]
  },
  {
   "cell_type": "code",
   "execution_count": 12,
   "id": "5607233b",
   "metadata": {},
   "outputs": [
    {
     "name": "stdout",
     "output_type": "stream",
     "text": [
      "[382 411 292 275 570 168 390 569 358 485]\n",
      "******************************\n",
      "[8.57742883 8.68299458 8.18982456 8.10328781 9.15481811 7.39231742\n",
      " 8.60733031 9.15228484 8.48381578 8.92184094]\n"
     ]
    }
   ],
   "source": [
    "array1=np.random.randint(100,700,size=10)\n",
    "print(array1)\n",
    "print('*'*30)\n",
    "print(np.log2(array1))"
   ]
  },
  {
   "cell_type": "markdown",
   "id": "ccf1b6ac",
   "metadata": {},
   "source": [
    "## 3. np.log10()"
   ]
  },
  {
   "cell_type": "code",
   "execution_count": 14,
   "id": "7f182fb3",
   "metadata": {},
   "outputs": [
    {
     "data": {
      "text/plain": [
       "1.5314789170422551"
      ]
     },
     "execution_count": 14,
     "metadata": {},
     "output_type": "execute_result"
    }
   ],
   "source": [
    "np.log10(34)"
   ]
  },
  {
   "cell_type": "code",
   "execution_count": 15,
   "id": "dd3a9e4e",
   "metadata": {},
   "outputs": [
    {
     "data": {
      "text/plain": [
       "5.087462841250339"
      ]
     },
     "execution_count": 15,
     "metadata": {},
     "output_type": "execute_result"
    }
   ],
   "source": [
    "np.log2(34)"
   ]
  },
  {
   "cell_type": "code",
   "execution_count": 16,
   "id": "6426e00e",
   "metadata": {},
   "outputs": [
    {
     "data": {
      "text/plain": [
       "3.5263605246161616"
      ]
     },
     "execution_count": 16,
     "metadata": {},
     "output_type": "execute_result"
    }
   ],
   "source": [
    "np.log(34)"
   ]
  },
  {
   "cell_type": "code",
   "execution_count": 17,
   "id": "83f648f5",
   "metadata": {
    "scrolled": true
   },
   "outputs": [
    {
     "name": "stdout",
     "output_type": "stream",
     "text": [
      "[632 257 507 490 280 514 235 415 494 203]\n",
      "******************************\n",
      "[2.80071708 2.40993312 2.70500796 2.69019608 2.44715803 2.71096312\n",
      " 2.37106786 2.6180481  2.69372695 2.30749604]\n"
     ]
    }
   ],
   "source": [
    "array1=np.random.randint(100,700,size=10)\n",
    "print(array1)\n",
    "print('*'*30)\n",
    "print(np.log10(array1))"
   ]
  },
  {
   "cell_type": "code",
   "execution_count": null,
   "id": "c5af4f2b",
   "metadata": {},
   "outputs": [],
   "source": []
  }
 ],
 "metadata": {
  "kernelspec": {
   "display_name": "Python 3 (ipykernel)",
   "language": "python",
   "name": "python3"
  },
  "language_info": {
   "codemirror_mode": {
    "name": "ipython",
    "version": 3
   },
   "file_extension": ".py",
   "mimetype": "text/x-python",
   "name": "python",
   "nbconvert_exporter": "python",
   "pygments_lexer": "ipython3",
   "version": "3.9.12"
  }
 },
 "nbformat": 4,
 "nbformat_minor": 5
}
