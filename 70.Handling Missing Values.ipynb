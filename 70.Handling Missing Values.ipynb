{
 "cells": [
  {
   "cell_type": "code",
   "execution_count": 1,
   "id": "6892aab4",
   "metadata": {},
   "outputs": [],
   "source": [
    "import numpy as np\n",
    "import pandas as pd"
   ]
  },
  {
   "cell_type": "code",
   "execution_count": null,
   "id": "119a7956",
   "metadata": {},
   "outputs": [],
   "source": [
    "1. Detect Missing Values:\n",
    "    1. df.isna()\n",
    "    2. df.isnull()\n",
    "    3. df.isna().sum()\n",
    "    3. df.isna().mean()*100\n",
    "    4. df.isnull().sum()\n",
    "    \n",
    "    \n",
    "2. Drop Null values:\n",
    "    1. df.dropna(thresh=count,axis=0,inplace=False)\n",
    "    2. df.drop('cil_name',axis=1,inplace=True)\n",
    "    3. df.drop([col1,col2,,,,,colN],axis=1,inplace=True)\n",
    "    4. df.drop('row_name',axis=0,inplace=True)\n",
    "    5. df.drop(['row1,row2,...rowN'],axis=0,inplace=True)\n",
    "\n",
    "3. Impute missing values:\n",
    "    1. df.fillna(value,inplace=True)\n",
    "    \n",
    "    Statistical Methods:\n",
    "        1. df['col_name'].mean()\n",
    "        2. df['col_name'].median()\n",
    "        3. df['cil_name'].mode()[0]\n",
    "        \n",
    "mean  >> If the outliters are not present in data  \n",
    "median >>> If outliers are present in data\n",
    "mode   >>> categorical columns\n",
    "          (male, feamle) "
   ]
  },
  {
   "cell_type": "markdown",
   "id": "08ea334f",
   "metadata": {},
   "source": [
    "# Pandas Statistics"
   ]
  },
  {
   "cell_type": "code",
   "execution_count": null,
   "id": "bba63b9d",
   "metadata": {},
   "outputs": [],
   "source": [
    "1. df['col_name'].mean()\n",
    "2. df['col_name'].median()\n",
    "3. df['col_name'].mode()[0]\n",
    "4. df['col_name'].std()\n",
    "5. df['col_name'].var()\n",
    "6. df['col_name'].min()\n",
    "7. df['col_name'].max()\n",
    "8. df['col_name'].quantile(0.25)\n",
    "9. df['col_name'].quantile(0.5)  #median value\n",
    "10 df['col_name'].quantile(0.75)\n"
   ]
  },
  {
   "cell_type": "code",
   "execution_count": null,
   "id": "c404f5ee",
   "metadata": {},
   "outputs": [],
   "source": [
    "quantile >>> quantity\n",
    "it is the point where samples are divided into two subgroups"
   ]
  },
  {
   "cell_type": "code",
   "execution_count": null,
   "id": "4258f093",
   "metadata": {},
   "outputs": [],
   "source": [
    "[1,2,3,4,5,6,7,8,9,10]  median=5.5    \n",
    "the median quantile or 50% or 0.5 quantile >>> exactly half of data is lower than median\n",
    "and half of data is greater than median"
   ]
  },
  {
   "cell_type": "code",
   "execution_count": null,
   "id": "7abb73d9",
   "metadata": {},
   "outputs": [],
   "source": [
    "quant= q(n+1)\n",
    "q=== 0.5\n",
    "q=0.25 for 25%\n",
    "q= 0.75"
   ]
  },
  {
   "cell_type": "code",
   "execution_count": 2,
   "id": "bf2a4d89",
   "metadata": {},
   "outputs": [
    {
     "data": {
      "text/plain": [
       "array([17, 15, 20, 14, 11, 18, 18, 19, 17, 17])"
      ]
     },
     "execution_count": 2,
     "metadata": {},
     "output_type": "execute_result"
    }
   ],
   "source": [
    "arr=np.random.randint(11,21,size=10)\n",
    "arr"
   ]
  },
  {
   "cell_type": "code",
   "execution_count": 3,
   "id": "36079759",
   "metadata": {},
   "outputs": [
    {
     "data": {
      "text/plain": [
       "array([11, 14, 15, 17, 17, 17, 18, 18, 19, 20])"
      ]
     },
     "execution_count": 3,
     "metadata": {},
     "output_type": "execute_result"
    }
   ],
   "source": [
    "np.sort(arr)"
   ]
  },
  {
   "cell_type": "code",
   "execution_count": 10,
   "id": "a551d67a",
   "metadata": {},
   "outputs": [
    {
     "data": {
      "text/plain": [
       "5.5"
      ]
     },
     "execution_count": 10,
     "metadata": {},
     "output_type": "execute_result"
    }
   ],
   "source": [
    "#0.25 or 25% quantile\n",
    "0.5*(11)"
   ]
  },
  {
   "cell_type": "code",
   "execution_count": 7,
   "id": "c04309be",
   "metadata": {},
   "outputs": [
    {
     "data": {
      "text/html": [
       "<div>\n",
       "<style scoped>\n",
       "    .dataframe tbody tr th:only-of-type {\n",
       "        vertical-align: middle;\n",
       "    }\n",
       "\n",
       "    .dataframe tbody tr th {\n",
       "        vertical-align: top;\n",
       "    }\n",
       "\n",
       "    .dataframe thead th {\n",
       "        text-align: right;\n",
       "    }\n",
       "</style>\n",
       "<table border=\"1\" class=\"dataframe\">\n",
       "  <thead>\n",
       "    <tr style=\"text-align: right;\">\n",
       "      <th></th>\n",
       "      <th>0</th>\n",
       "    </tr>\n",
       "  </thead>\n",
       "  <tbody>\n",
       "    <tr>\n",
       "      <th>0</th>\n",
       "      <td>17</td>\n",
       "    </tr>\n",
       "    <tr>\n",
       "      <th>1</th>\n",
       "      <td>15</td>\n",
       "    </tr>\n",
       "    <tr>\n",
       "      <th>2</th>\n",
       "      <td>20</td>\n",
       "    </tr>\n",
       "    <tr>\n",
       "      <th>3</th>\n",
       "      <td>14</td>\n",
       "    </tr>\n",
       "    <tr>\n",
       "      <th>4</th>\n",
       "      <td>11</td>\n",
       "    </tr>\n",
       "    <tr>\n",
       "      <th>5</th>\n",
       "      <td>18</td>\n",
       "    </tr>\n",
       "    <tr>\n",
       "      <th>6</th>\n",
       "      <td>18</td>\n",
       "    </tr>\n",
       "    <tr>\n",
       "      <th>7</th>\n",
       "      <td>19</td>\n",
       "    </tr>\n",
       "    <tr>\n",
       "      <th>8</th>\n",
       "      <td>17</td>\n",
       "    </tr>\n",
       "    <tr>\n",
       "      <th>9</th>\n",
       "      <td>17</td>\n",
       "    </tr>\n",
       "  </tbody>\n",
       "</table>\n",
       "</div>"
      ],
      "text/plain": [
       "    0\n",
       "0  17\n",
       "1  15\n",
       "2  20\n",
       "3  14\n",
       "4  11\n",
       "5  18\n",
       "6  18\n",
       "7  19\n",
       "8  17\n",
       "9  17"
      ]
     },
     "execution_count": 7,
     "metadata": {},
     "output_type": "execute_result"
    }
   ],
   "source": [
    "df=pd.DataFrame(arr)\n",
    "df"
   ]
  },
  {
   "cell_type": "code",
   "execution_count": 12,
   "id": "1dfedbc8",
   "metadata": {},
   "outputs": [
    {
     "data": {
      "text/plain": [
       "0    13.7\n",
       "Name: 0.1, dtype: float64"
      ]
     },
     "execution_count": 12,
     "metadata": {},
     "output_type": "execute_result"
    }
   ],
   "source": [
    "df.quantile(0.10)"
   ]
  },
  {
   "cell_type": "code",
   "execution_count": null,
   "id": "14c64d39",
   "metadata": {},
   "outputs": [],
   "source": []
  }
 ],
 "metadata": {
  "kernelspec": {
   "display_name": "Python 3",
   "language": "python",
   "name": "python3"
  },
  "language_info": {
   "codemirror_mode": {
    "name": "ipython",
    "version": 3
   },
   "file_extension": ".py",
   "mimetype": "text/x-python",
   "name": "python",
   "nbconvert_exporter": "python",
   "pygments_lexer": "ipython3",
   "version": "3.8.8"
  }
 },
 "nbformat": 4,
 "nbformat_minor": 5
}
