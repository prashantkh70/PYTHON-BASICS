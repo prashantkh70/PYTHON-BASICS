{
 "cells": [
  {
   "cell_type": "code",
   "execution_count": 1,
   "id": "25244dd7",
   "metadata": {},
   "outputs": [
    {
     "name": "stdout",
     "output_type": "stream",
     "text": [
      "you are nothing\n",
      "John snowie\n"
     ]
    }
   ],
   "source": [
    "# String concatenation\n",
    "print('you are nothing', end=\"\\n\")\n",
    "print('John snowie')"
   ]
  },
  {
   "cell_type": "code",
   "execution_count": 2,
   "id": "3a855627",
   "metadata": {},
   "outputs": [
    {
     "name": "stdout",
     "output_type": "stream",
     "text": [
      "you are nothing,  John snowie\n"
     ]
    }
   ],
   "source": [
    "print('you are nothing', end=\",  \")\n",
    "print('John snowie')"
   ]
  },
  {
   "cell_type": "code",
   "execution_count": 3,
   "id": "123c319b",
   "metadata": {},
   "outputs": [
    {
     "data": {
      "text/plain": [
       "True"
      ]
     },
     "execution_count": 3,
     "metadata": {},
     "output_type": "execute_result"
    }
   ],
   "source": [
    "a=256\n",
    "b=256\n",
    "id(a)==id(b)"
   ]
  },
  {
   "cell_type": "code",
   "execution_count": 4,
   "id": "f928dc7d",
   "metadata": {},
   "outputs": [
    {
     "data": {
      "text/plain": [
       "False"
      ]
     },
     "execution_count": 4,
     "metadata": {},
     "output_type": "execute_result"
    }
   ],
   "source": [
    "a=257\n",
    "b=257\n",
    "id(a)==id(b)"
   ]
  },
  {
   "cell_type": "code",
   "execution_count": 5,
   "id": "fb70d2cc",
   "metadata": {},
   "outputs": [],
   "source": [
    "# above scenario is differnet as python already store -5 to 256 digit in memory and it pre-allocated. i.e internal catching \n"
   ]
  },
  {
   "cell_type": "code",
   "execution_count": 6,
   "id": "10456451",
   "metadata": {},
   "outputs": [],
   "source": [
    "# python list"
   ]
  },
  {
   "cell_type": "code",
   "execution_count": 7,
   "id": "20b9df73",
   "metadata": {},
   "outputs": [],
   "source": [
    "x=[1,2,3]"
   ]
  },
  {
   "cell_type": "code",
   "execution_count": 9,
   "id": "a1f35e53",
   "metadata": {},
   "outputs": [
    {
     "data": {
      "text/plain": [
       "list"
      ]
     },
     "execution_count": 9,
     "metadata": {},
     "output_type": "execute_result"
    }
   ],
   "source": [
    "type(x)"
   ]
  },
  {
   "cell_type": "code",
   "execution_count": 10,
   "id": "7537d5e8",
   "metadata": {},
   "outputs": [],
   "source": [
    "y=[]  # hetegrenous list"
   ]
  },
  {
   "cell_type": "code",
   "execution_count": 15,
   "id": "0bf51ec3",
   "metadata": {},
   "outputs": [],
   "source": [
    "y=[\"a\",1, 1.2, True]    # all data type different space"
   ]
  },
  {
   "cell_type": "code",
   "execution_count": 19,
   "id": "b6265238",
   "metadata": {},
   "outputs": [
    {
     "data": {
      "text/plain": [
       "1827144795776"
      ]
     },
     "execution_count": 19,
     "metadata": {},
     "output_type": "execute_result"
    }
   ],
   "source": [
    "id(y)"
   ]
  },
  {
   "cell_type": "code",
   "execution_count": 17,
   "id": "eb473062",
   "metadata": {},
   "outputs": [
    {
     "data": {
      "text/plain": [
       "1827154779696"
      ]
     },
     "execution_count": 17,
     "metadata": {},
     "output_type": "execute_result"
    }
   ],
   "source": [
    "id(y[2])"
   ]
  },
  {
   "cell_type": "code",
   "execution_count": 20,
   "id": "d61f7d13",
   "metadata": {},
   "outputs": [],
   "source": [
    "y[2]='anant'"
   ]
  },
  {
   "cell_type": "code",
   "execution_count": 21,
   "id": "2b6d2950",
   "metadata": {},
   "outputs": [
    {
     "data": {
      "text/plain": [
       "1827147423088"
      ]
     },
     "execution_count": 21,
     "metadata": {},
     "output_type": "execute_result"
    }
   ],
   "source": [
    "id(y[2])"
   ]
  },
  {
   "cell_type": "code",
   "execution_count": 22,
   "id": "d4088713",
   "metadata": {},
   "outputs": [
    {
     "data": {
      "text/plain": [
       "1827144795776"
      ]
     },
     "execution_count": 22,
     "metadata": {},
     "output_type": "execute_result"
    }
   ],
   "source": [
    "id(y)"
   ]
  },
  {
   "cell_type": "code",
   "execution_count": 23,
   "id": "6ddf1538",
   "metadata": {},
   "outputs": [],
   "source": [
    "# so python get slower here, because it allocated new address as list is mutuable , \n",
    "#but remember elements in sied list are not mutable"
   ]
  },
  {
   "cell_type": "code",
   "execution_count": 25,
   "id": "47a6e923",
   "metadata": {},
   "outputs": [],
   "source": [
    "#range function"
   ]
  },
  {
   "cell_type": "code",
   "execution_count": 26,
   "id": "d9172105",
   "metadata": {},
   "outputs": [
    {
     "data": {
      "text/plain": [
       "range(1, 10, 2)"
      ]
     },
     "execution_count": 26,
     "metadata": {},
     "output_type": "execute_result"
    }
   ],
   "source": [
    "range(1,10,2)   # lazy evaluation   #  generating number when it is needed  # similar to iter approach"
   ]
  },
  {
   "cell_type": "code",
   "execution_count": 27,
   "id": "196b68df",
   "metadata": {},
   "outputs": [
    {
     "name": "stdout",
     "output_type": "stream",
     "text": [
      "1\n",
      "3\n",
      "5\n",
      "7\n",
      "9\n"
     ]
    }
   ],
   "source": [
    "for element in range(1,10,2):\n",
    "    print(element)"
   ]
  },
  {
   "cell_type": "code",
   "execution_count": 28,
   "id": "a3eea57f",
   "metadata": {},
   "outputs": [],
   "source": [
    "# for loop is used when we know many time it will be run like 10 times\n",
    "# but we use while loop untill condition is mate"
   ]
  },
  {
   "cell_type": "code",
   "execution_count": 29,
   "id": "ec350572",
   "metadata": {},
   "outputs": [
    {
     "name": "stdout",
     "output_type": "stream",
     "text": [
      " enter command:   ls\n"
     ]
    }
   ],
   "source": [
    "cmd= input(\" enter command:   \")"
   ]
  },
  {
   "cell_type": "code",
   "execution_count": 31,
   "id": "d3932317",
   "metadata": {},
   "outputs": [
    {
     "name": "stdout",
     "output_type": "stream",
     "text": [
      "ls\n",
      " enter command:   abc\n",
      "abc\n",
      " enter command:   prash\n",
      "prash\n",
      " enter command:   quit\n"
     ]
    }
   ],
   "source": [
    "while cmd!=\"quit\":\n",
    "    print(cmd)\n",
    "    cmd=input(\" enter command:   \")"
   ]
  },
  {
   "cell_type": "code",
   "execution_count": 34,
   "id": "5dc1f721",
   "metadata": {},
   "outputs": [
    {
     "name": "stdout",
     "output_type": "stream",
     "text": [
      "Scalar"
     ]
    }
   ],
   "source": [
    "# break\n",
    "x= \"Scalarverse\"\n",
    "\n",
    "i=0\n",
    "\n",
    "while i < len(x):\n",
    "    print(x[i], end='')\n",
    "    if x[i]==\"r\":\n",
    "        break\n",
    "    i= i+1"
   ]
  },
  {
   "cell_type": "code",
   "execution_count": 35,
   "id": "b24604fa",
   "metadata": {},
   "outputs": [],
   "source": [
    "marks= [90,100,30,85,60,\"absent\"]"
   ]
  },
  {
   "cell_type": "code",
   "execution_count": 36,
   "id": "0898766c",
   "metadata": {},
   "outputs": [
    {
     "data": {
      "text/plain": [
       "[90, 100, 30, 85, 60, 'absent']"
      ]
     },
     "execution_count": 36,
     "metadata": {},
     "output_type": "execute_result"
    }
   ],
   "source": [
    "marks"
   ]
  },
  {
   "cell_type": "code",
   "execution_count": 37,
   "id": "1985e200",
   "metadata": {},
   "outputs": [
    {
     "data": {
      "text/plain": [
       "90"
      ]
     },
     "execution_count": 37,
     "metadata": {},
     "output_type": "execute_result"
    }
   ],
   "source": [
    "marks[0]"
   ]
  },
  {
   "cell_type": "code",
   "execution_count": 38,
   "id": "06740264",
   "metadata": {},
   "outputs": [
    {
     "data": {
      "text/plain": [
       "'absent'"
      ]
     },
     "execution_count": 38,
     "metadata": {},
     "output_type": "execute_result"
    }
   ],
   "source": [
    "marks[5]"
   ]
  },
  {
   "cell_type": "code",
   "execution_count": 39,
   "id": "1bc90b83",
   "metadata": {},
   "outputs": [
    {
     "data": {
      "text/plain": [
       "'absent'"
      ]
     },
     "execution_count": 39,
     "metadata": {},
     "output_type": "execute_result"
    }
   ],
   "source": [
    "marks[-1]"
   ]
  },
  {
   "cell_type": "code",
   "execution_count": 40,
   "id": "df59fc45",
   "metadata": {},
   "outputs": [
    {
     "data": {
      "text/plain": [
       "60"
      ]
     },
     "execution_count": 40,
     "metadata": {},
     "output_type": "execute_result"
    }
   ],
   "source": [
    "marks[-2]"
   ]
  },
  {
   "cell_type": "code",
   "execution_count": 41,
   "id": "ac0f4f5c",
   "metadata": {},
   "outputs": [
    {
     "data": {
      "text/plain": [
       "[100, 30, 85]"
      ]
     },
     "execution_count": 41,
     "metadata": {},
     "output_type": "execute_result"
    }
   ],
   "source": [
    "marks[1:4]"
   ]
  },
  {
   "cell_type": "code",
   "execution_count": 42,
   "id": "d3245e3b",
   "metadata": {},
   "outputs": [
    {
     "name": "stdout",
     "output_type": "stream",
     "text": [
      "90\n",
      "100\n",
      "30\n",
      "85\n",
      "60\n",
      "absent\n"
     ]
    }
   ],
   "source": [
    "for mark in marks:\n",
    "    print(mark)"
   ]
  },
  {
   "cell_type": "code",
   "execution_count": 43,
   "id": "dbcc672d",
   "metadata": {},
   "outputs": [
    {
     "ename": "TypeError",
     "evalue": "unsupported operand type(s) for +: 'int' and 'str'",
     "output_type": "error",
     "traceback": [
      "\u001b[1;31m---------------------------------------------------------------------------\u001b[0m",
      "\u001b[1;31mTypeError\u001b[0m                                 Traceback (most recent call last)",
      "\u001b[1;32m<ipython-input-43-17b8bb49a36b>\u001b[0m in \u001b[0;36m<module>\u001b[1;34m\u001b[0m\n\u001b[1;32m----> 1\u001b[1;33m \u001b[0msum\u001b[0m\u001b[1;33m(\u001b[0m\u001b[0mmarks\u001b[0m\u001b[1;33m)\u001b[0m\u001b[1;33m\u001b[0m\u001b[1;33m\u001b[0m\u001b[0m\n\u001b[0m",
      "\u001b[1;31mTypeError\u001b[0m: unsupported operand type(s) for +: 'int' and 'str'"
     ]
    }
   ],
   "source": [
    "sum(marks)"
   ]
  },
  {
   "cell_type": "code",
   "execution_count": 45,
   "id": "bac8c65a",
   "metadata": {},
   "outputs": [
    {
     "data": {
      "text/plain": [
       "365"
      ]
     },
     "execution_count": 45,
     "metadata": {},
     "output_type": "execute_result"
    }
   ],
   "source": [
    "sum(marks[0:5])"
   ]
  },
  {
   "cell_type": "code",
   "execution_count": 59,
   "id": "2f03bf6e",
   "metadata": {},
   "outputs": [],
   "source": [
    "# use of set in NLP    # used to get unique charecters"
   ]
  },
  {
   "cell_type": "code",
   "execution_count": 53,
   "id": "9dcec98d",
   "metadata": {},
   "outputs": [
    {
     "name": "stdout",
     "output_type": "stream",
     "text": [
      "I am so full of businesses, I cannot answer thee\n",
      "acutely. I will return perfect courtier; in the\n",
      "which, my instruction shall serve to naturalize\n",
      "thee, so thou wilt be capable of a courtier's\n",
      "counsel and understand what advice shall thrust upon\n",
      "thee; else thou diest in thine unthankfulness, and\n",
      "thine ignorance makes thee away: farewell. When\n",
      "thou hast leisure, say thy prayers; when thou hast\n",
      "none, remember thy friends; get thee a good husband,\n",
      "and use him as he uses thee; so, farewell.\n"
     ]
    }
   ],
   "source": [
    "quotes=\"\"\"I am so full of businesses, I cannot answer thee\n",
    "acutely. I will return perfect courtier; in the\n",
    "which, my instruction shall serve to naturalize\n",
    "thee, so thou wilt be capable of a courtier's\n",
    "counsel and understand what advice shall thrust upon\n",
    "thee; else thou diest in thine unthankfulness, and\n",
    "thine ignorance makes thee away: farewell. When\n",
    "thou hast leisure, say thy prayers; when thou hast\n",
    "none, remember thy friends; get thee a good husband,\n",
    "and use him as he uses thee; so, farewell.\"\"\"\n",
    "print(quotes)"
   ]
  },
  {
   "cell_type": "code",
   "execution_count": 54,
   "id": "961f855d",
   "metadata": {},
   "outputs": [
    {
     "name": "stdout",
     "output_type": "stream",
     "text": [
      "{'?', '&', '^', '_', '/', ']', ';', '\"', '}', '#', '.', '|', ':', '`', '@', '<', ',', '$', '!', '+', '(', '%', \"'\", '>', '[', '\\\\', '-', '~', '{', '=', ')', '*'}\n"
     ]
    }
   ],
   "source": [
    "import string\n",
    "exclude=set(string.punctuation)\n",
    "print(exclude)"
   ]
  },
  {
   "cell_type": "code",
   "execution_count": 55,
   "id": "97f792a1",
   "metadata": {},
   "outputs": [],
   "source": [
    "for punctuation in exclude:\n",
    "    quotes= quotes.replace(punctuation,\"\")\n",
    "    \n",
    "quotes=quotes.replace(\"\\n\", \"\")\n",
    "quotes=quotes.replace('\"', \"\")\n"
   ]
  },
  {
   "cell_type": "code",
   "execution_count": 56,
   "id": "32bb007f",
   "metadata": {},
   "outputs": [],
   "source": [
    "words= quotes.split()"
   ]
  },
  {
   "cell_type": "code",
   "execution_count": 57,
   "id": "3da1aad3",
   "metadata": {},
   "outputs": [
    {
     "data": {
      "text/plain": [
       "75"
      ]
     },
     "execution_count": 57,
     "metadata": {},
     "output_type": "execute_result"
    }
   ],
   "source": [
    "len(words)"
   ]
  },
  {
   "cell_type": "code",
   "execution_count": 58,
   "id": "0e9af55e",
   "metadata": {},
   "outputs": [
    {
     "data": {
      "text/plain": [
       "61"
      ]
     },
     "execution_count": 58,
     "metadata": {},
     "output_type": "execute_result"
    }
   ],
   "source": [
    "len(set(words))"
   ]
  },
  {
   "cell_type": "code",
   "execution_count": null,
   "id": "7e2187d1",
   "metadata": {},
   "outputs": [],
   "source": []
  }
 ],
 "metadata": {
  "kernelspec": {
   "display_name": "Python 3",
   "language": "python",
   "name": "python3"
  },
  "language_info": {
   "codemirror_mode": {
    "name": "ipython",
    "version": 3
   },
   "file_extension": ".py",
   "mimetype": "text/x-python",
   "name": "python",
   "nbconvert_exporter": "python",
   "pygments_lexer": "ipython3",
   "version": "3.8.8"
  }
 },
 "nbformat": 4,
 "nbformat_minor": 5
}
