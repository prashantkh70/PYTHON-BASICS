{
 "cells": [
  {
   "cell_type": "markdown",
   "id": "0282d442",
   "metadata": {},
   "source": [
    "# Loops in python"
   ]
  },
  {
   "cell_type": "code",
   "execution_count": null,
   "id": "0bb7ad4d",
   "metadata": {},
   "outputs": [],
   "source": [
    "1. for loop\n",
    "2. while loop\n",
    "\n",
    "\n",
    "same functionality with different syntax"
   ]
  },
  {
   "cell_type": "markdown",
   "id": "e8dd59df",
   "metadata": {},
   "source": [
    "# For Loop"
   ]
  },
  {
   "cell_type": "code",
   "execution_count": null,
   "id": "1a8f90c4",
   "metadata": {},
   "outputs": [],
   "source": [
    "For loop works like an iterator\n",
    "\n",
    "iterable(sequence): string, list, tuple, range,dict, set, frozenset\n",
    "                    numpy array, pandas df, series"
   ]
  },
  {
   "cell_type": "code",
   "execution_count": null,
   "id": "099d78bb",
   "metadata": {},
   "outputs": [],
   "source": [
    "for variable in sequence:\n",
    "    statement1\n",
    "    statement2\n",
    "    statement3\n",
    "\n",
    "for var in sequence:\n",
    "    statement1\n",
    "    statement2\n",
    "    statement3\n",
    "\n",
    "for val in sequence:\n",
    "    statement1\n",
    "    statement2\n",
    "    statement3\n",
    "    \n",
    "for i in sequence:\n",
    "    statement1\n",
    "    statement2\n",
    "    statement3\n",
    "    \n",
    "for j in sequence:\n",
    "    statement1\n",
    "    statement2\n",
    "    statement3"
   ]
  },
  {
   "cell_type": "code",
   "execution_count": null,
   "id": "5952605a",
   "metadata": {},
   "outputs": [],
   "source": [
    "for index, value in enumerate(sequence):\n",
    "    print(index, value)\n",
    "    \n",
    "for i, v in enumerate(sequence):\n",
    "    print(i, v)\n",
    "    \n",
    "    \n",
    "for ind, val in enumerate(sequence):\n",
    "    print(ind, val)"
   ]
  },
  {
   "cell_type": "code",
   "execution_count": 2,
   "id": "b8055160",
   "metadata": {},
   "outputs": [
    {
     "name": "stdout",
     "output_type": "stream",
     "text": [
      "We are learning for loop\n",
      "We are learning for loop\n",
      "We are learning for loop\n",
      "We are learning for loop\n",
      "We are learning for loop\n",
      "We are learning for loop\n",
      "We are learning for loop\n",
      "We are learning for loop\n"
     ]
    }
   ],
   "source": [
    "print('We are learning for loop') # statement\n",
    "print('We are learning for loop')\n",
    "print('We are learning for loop')\n",
    "print('We are learning for loop')\n",
    "print('We are learning for loop')\n",
    "print('We are learning for loop')\n",
    "print('We are learning for loop')\n",
    "print('We are learning for loop')"
   ]
  },
  {
   "cell_type": "markdown",
   "id": "3b19284d",
   "metadata": {},
   "source": [
    "### range()"
   ]
  },
  {
   "cell_type": "code",
   "execution_count": 3,
   "id": "a85e9a5d",
   "metadata": {},
   "outputs": [
    {
     "name": "stdout",
     "output_type": "stream",
     "text": [
      "We are learning for loop\n",
      "We are learning for loop\n",
      "We are learning for loop\n",
      "We are learning for loop\n",
      "We are learning for loop\n",
      "We are learning for loop\n",
      "We are learning for loop\n",
      "We are learning for loop\n",
      "We are learning for loop\n",
      "We are learning for loop\n"
     ]
    }
   ],
   "source": [
    "for i in range(10):\n",
    "    print('We are learning for loop')"
   ]
  },
  {
   "cell_type": "code",
   "execution_count": 4,
   "id": "21ab8edb",
   "metadata": {},
   "outputs": [
    {
     "name": "stdout",
     "output_type": "stream",
     "text": [
      "We are learning for loop >>   0\n",
      "We are learning for loop >>   1\n",
      "We are learning for loop >>   2\n",
      "We are learning for loop >>   3\n",
      "We are learning for loop >>   4\n",
      "We are learning for loop >>   5\n",
      "We are learning for loop >>   6\n",
      "We are learning for loop >>   7\n",
      "We are learning for loop >>   8\n",
      "We are learning for loop >>   9\n"
     ]
    }
   ],
   "source": [
    "for i in range(10):\n",
    "    print('We are learning for loop >>  ',i)"
   ]
  },
  {
   "cell_type": "code",
   "execution_count": 5,
   "id": "c027874c",
   "metadata": {},
   "outputs": [
    {
     "name": "stdout",
     "output_type": "stream",
     "text": [
      "We are learning for loop >>   0\n",
      "**************************************************\n",
      "We are learning for loop >>   1\n",
      "**************************************************\n",
      "We are learning for loop >>   2\n",
      "**************************************************\n",
      "We are learning for loop >>   3\n",
      "**************************************************\n",
      "We are learning for loop >>   4\n",
      "**************************************************\n"
     ]
    }
   ],
   "source": [
    "for i in range(5):\n",
    "    print('We are learning for loop >>  ',i)\n",
    "    print('*'*50)"
   ]
  },
  {
   "cell_type": "markdown",
   "id": "841b1851",
   "metadata": {},
   "source": [
    "### string"
   ]
  },
  {
   "cell_type": "code",
   "execution_count": 6,
   "id": "99247ff4",
   "metadata": {},
   "outputs": [
    {
     "name": "stdout",
     "output_type": "stream",
     "text": [
      "Character is >>   p\n",
      "Character is >>   y\n",
      "Character is >>   t\n",
      "Character is >>   h\n",
      "Character is >>   o\n",
      "Character is >>   n\n"
     ]
    }
   ],
   "source": [
    "for char in 'python':\n",
    "    print('Character is >>  ',char)"
   ]
  },
  {
   "cell_type": "code",
   "execution_count": 7,
   "id": "2f89a028",
   "metadata": {},
   "outputs": [
    {
     "name": "stdout",
     "output_type": "stream",
     "text": [
      "Character is >>   p\n",
      "$$$$$$$$$$$$$$$$$$$$$$$$$$$$$$$$$$$$$$$$$$$$$$$$$$\n",
      "Character is >>   y\n",
      "$$$$$$$$$$$$$$$$$$$$$$$$$$$$$$$$$$$$$$$$$$$$$$$$$$\n",
      "Character is >>   t\n",
      "$$$$$$$$$$$$$$$$$$$$$$$$$$$$$$$$$$$$$$$$$$$$$$$$$$\n",
      "Character is >>   h\n",
      "$$$$$$$$$$$$$$$$$$$$$$$$$$$$$$$$$$$$$$$$$$$$$$$$$$\n",
      "Character is >>   o\n",
      "$$$$$$$$$$$$$$$$$$$$$$$$$$$$$$$$$$$$$$$$$$$$$$$$$$\n",
      "Character is >>   n\n",
      "$$$$$$$$$$$$$$$$$$$$$$$$$$$$$$$$$$$$$$$$$$$$$$$$$$\n"
     ]
    }
   ],
   "source": [
    "for char in 'python':\n",
    "    print('Character is >>  ',char)\n",
    "    print('$'*50)"
   ]
  },
  {
   "cell_type": "code",
   "execution_count": 8,
   "id": "1eaefb82",
   "metadata": {},
   "outputs": [
    {
     "name": "stdout",
     "output_type": "stream",
     "text": [
      "Character at index 0 is p\n",
      "\n",
      "Character at index 1 is y\n",
      "\n",
      "Character at index 2 is t\n",
      "\n",
      "Character at index 3 is h\n",
      "\n",
      "Character at index 4 is o\n",
      "\n",
      "Character at index 5 is n\n",
      "\n"
     ]
    }
   ],
   "source": [
    "for index, char in enumerate('python'):\n",
    "    print(f\"Character at index {index} is {char}\")\n",
    "    print()"
   ]
  },
  {
   "cell_type": "markdown",
   "id": "4e32c367",
   "metadata": {},
   "source": [
    "### list"
   ]
  },
  {
   "cell_type": "code",
   "execution_count": 11,
   "id": "92347bf9",
   "metadata": {},
   "outputs": [],
   "source": [
    "city_names = ['pune', 'mumbai', 'chennai', 'panji', 'delhi','srinagr']\n"
   ]
  },
  {
   "cell_type": "code",
   "execution_count": 12,
   "id": "88d87d06",
   "metadata": {},
   "outputs": [
    {
     "name": "stdout",
     "output_type": "stream",
     "text": [
      "pune\n",
      "mumbai\n",
      "chennai\n",
      "panji\n",
      "delhi\n",
      "srinagr\n"
     ]
    }
   ],
   "source": [
    "for city in city_names:\n",
    "    print(city)"
   ]
  },
  {
   "cell_type": "code",
   "execution_count": 13,
   "id": "eb12e82f",
   "metadata": {},
   "outputs": [
    {
     "name": "stdout",
     "output_type": "stream",
     "text": [
      "City at Index 0 is pune\n",
      "City at Index 1 is mumbai\n",
      "City at Index 2 is chennai\n",
      "City at Index 3 is panji\n",
      "City at Index 4 is delhi\n",
      "City at Index 5 is srinagr\n"
     ]
    }
   ],
   "source": [
    "for index, city in enumerate(city_names):\n",
    "    print(f\"City at Index {index} is {city}\")\n"
   ]
  },
  {
   "cell_type": "code",
   "execution_count": 14,
   "id": "00a2b8fd",
   "metadata": {},
   "outputs": [
    {
     "name": "stdout",
     "output_type": "stream",
     "text": [
      "City at Index 0 is pune\n",
      "0 PUNE\n",
      "City at Index 1 is mumbai\n",
      "1 MUMBAI\n",
      "City at Index 2 is chennai\n",
      "2 CHENNAI\n",
      "City at Index 3 is panji\n",
      "3 PANJI\n",
      "City at Index 4 is delhi\n",
      "4 DELHI\n",
      "City at Index 5 is srinagr\n",
      "5 SRINAGR\n"
     ]
    }
   ],
   "source": [
    "for index, city in enumerate(city_names):\n",
    "    print(f\"City at Index {index} is {city}\")\n",
    "    print(index,city.upper())\n"
   ]
  },
  {
   "cell_type": "code",
   "execution_count": 16,
   "id": "6e9e5eff",
   "metadata": {},
   "outputs": [
    {
     "name": "stdout",
     "output_type": "stream",
     "text": [
      "['pune', 2, 10, 6.4, 'mumbai', 3.5, 4, 'chennai', 'panji', 2.5, 'delhi', 'srinagr', 3]\n"
     ]
    }
   ],
   "source": [
    "all_list = ['pune',2,10,6.4, 'mumbai',3.5,4, 'chennai', 'panji', 2.5,'delhi','srinagr',3]\n",
    "print(all_list)"
   ]
  },
  {
   "cell_type": "code",
   "execution_count": 17,
   "id": "3f138ede",
   "metadata": {},
   "outputs": [
    {
     "name": "stdout",
     "output_type": "stream",
     "text": [
      "Integer:  [2, 10, 4, 3]\n",
      "Float:  [6.4, 3.5, 2.5]\n",
      "String:  ['pune', 'mumbai', 'chennai', 'panji', 'delhi', 'srinagr']\n"
     ]
    }
   ],
   "source": [
    "int_list=[]\n",
    "float_list=[]\n",
    "str_list = []\n",
    "for i in all_list:\n",
    "    if type(i)==int:\n",
    "        int_list.append(i)\n",
    "    elif type(i)==float:\n",
    "        float_list.append(i)\n",
    "    else:\n",
    "        str_list.append(i)\n",
    "\n",
    "print(\"Integer: \",int_list)\n",
    "print(\"Float: \",float_list)\n",
    "print(\"String: \",str_list)"
   ]
  },
  {
   "cell_type": "markdown",
   "id": "ece2357b",
   "metadata": {},
   "source": [
    "# Loop Control Statements:\n",
    "    1. break\n",
    "    2. continue\n",
    "    3. pass\n"
   ]
  },
  {
   "cell_type": "markdown",
   "id": "2732ea49",
   "metadata": {},
   "source": [
    "### 1. break statement"
   ]
  },
  {
   "cell_type": "code",
   "execution_count": 18,
   "id": "8ce87b78",
   "metadata": {},
   "outputs": [
    {
     "name": "stdout",
     "output_type": "stream",
     "text": [
      "5\n",
      "6\n",
      "7\n",
      "8\n",
      "9\n"
     ]
    }
   ],
   "source": [
    "for i in range(5,10):\n",
    "    print(i)"
   ]
  },
  {
   "cell_type": "code",
   "execution_count": 21,
   "id": "62d40f95",
   "metadata": {},
   "outputs": [
    {
     "name": "stdout",
     "output_type": "stream",
     "text": [
      "i == 5\n",
      "i == 6\n",
      "i == 7\n",
      "Number Found\n",
      "i == 8\n",
      "i == 9\n",
      "\n",
      "Completed\n"
     ]
    }
   ],
   "source": [
    "for i in range(5,10):\n",
    "    print(f'i == {i}')\n",
    "    if i == 7:\n",
    "        print(\"Number Found\") #I want to end at 7\n",
    "print()\n",
    "    \n",
    "print(\"Completed\")"
   ]
  },
  {
   "cell_type": "code",
   "execution_count": 24,
   "id": "f3cac426",
   "metadata": {},
   "outputs": [
    {
     "name": "stdout",
     "output_type": "stream",
     "text": [
      "i == 5\n",
      "i == 6\n",
      "i == 7\n",
      "Number Found\n",
      "\n",
      "Completed\n"
     ]
    }
   ],
   "source": [
    "for i in range(5,10):\n",
    "    print(f'i == {i}')\n",
    "    if i == 7:\n",
    "        print(\"Number Found\") #I want to end at 7\n",
    "        break\n",
    "        print('python')\n",
    "print()    \n",
    "print(\"Completed\")"
   ]
  },
  {
   "cell_type": "code",
   "execution_count": 25,
   "id": "acc031fd",
   "metadata": {},
   "outputs": [
    {
     "name": "stdout",
     "output_type": "stream",
     "text": [
      "i == 5\n",
      "i == 6\n",
      "i == 7\n",
      "python\n",
      "\n",
      "Completed\n"
     ]
    }
   ],
   "source": [
    "for i in range(5,10):\n",
    "    print(f'i == {i}')\n",
    "    if i == 7:\n",
    "        print('python') \n",
    "        break\n",
    "        print(\"Number Found\")\n",
    "print()    \n",
    "print(\"Completed\")"
   ]
  },
  {
   "cell_type": "code",
   "execution_count": 26,
   "id": "2cea8cfd",
   "metadata": {},
   "outputs": [
    {
     "name": "stdout",
     "output_type": "stream",
     "text": [
      "Hello Python\n",
      "Mission Completed\n",
      "Hello Python\n",
      "Mission Completed\n",
      "Hello Python\n",
      "Mission Completed\n",
      "Hello Python\n",
      "Mission Completed\n",
      "Hello Python\n",
      "Mission Completed\n"
     ]
    }
   ],
   "source": [
    "for i in range(5,10):\n",
    "    print('Hello Python')\n",
    "    print('Mission Completed')"
   ]
  },
  {
   "cell_type": "code",
   "execution_count": 27,
   "id": "b388acc2",
   "metadata": {},
   "outputs": [
    {
     "name": "stdout",
     "output_type": "stream",
     "text": [
      "Hello Python\n",
      "Mission Completed\n"
     ]
    }
   ],
   "source": [
    "for i in range(5,10):\n",
    "    print('Hello Python')\n",
    "    print('Mission Completed')\n",
    "    break"
   ]
  },
  {
   "cell_type": "markdown",
   "id": "8f92fe16",
   "metadata": {},
   "source": [
    "### 2. continue"
   ]
  },
  {
   "cell_type": "code",
   "execution_count": null,
   "id": "77166787",
   "metadata": {},
   "outputs": [],
   "source": [
    "it is used to  stop current iteration,\n",
    "continue with next iteration"
   ]
  },
  {
   "cell_type": "code",
   "execution_count": 28,
   "id": "3beb7b6a",
   "metadata": {},
   "outputs": [
    {
     "name": "stdout",
     "output_type": "stream",
     "text": [
      "i == 5\n",
      "i == 6\n",
      "i == 7\n",
      "python\n",
      "i == 8\n",
      "i == 9\n",
      "\n",
      "Completed\n"
     ]
    }
   ],
   "source": [
    "for i in range(5,10):\n",
    "    print(f'i == {i}')\n",
    "    if i == 7:\n",
    "        print('python') \n",
    "        continue\n",
    "        print(\"Number Found\")\n",
    "print()    \n",
    "print(\"Completed\")"
   ]
  },
  {
   "cell_type": "code",
   "execution_count": 31,
   "id": "c122c044",
   "metadata": {},
   "outputs": [
    {
     "name": "stdout",
     "output_type": "stream",
     "text": [
      "i == 5\n",
      "i == 6\n",
      "i == 7\n",
      "i == 8\n",
      "i == 9\n",
      "completed\n"
     ]
    }
   ],
   "source": [
    "for i in range(5,10):\n",
    "    print(f'i == {i}')\n",
    "    if i == 11:\n",
    "        print('python')\n",
    "        continue\n",
    "        \n",
    "print('completed')"
   ]
  },
  {
   "cell_type": "code",
   "execution_count": 33,
   "id": "487a64aa",
   "metadata": {},
   "outputs": [
    {
     "name": "stdout",
     "output_type": "stream",
     "text": [
      "i == 5\n",
      "hello\n",
      "i == 6\n",
      "hello\n",
      "i == 7\n",
      "hello\n",
      "i == 8\n",
      "hello\n",
      "i == 9\n",
      "hello\n"
     ]
    }
   ],
   "source": [
    "for i in range(5,10):\n",
    "    print(f'i == {i}')\n",
    "    if i == 11:\n",
    "        print('python')\n",
    "        continue\n",
    "    print(\"hello\")"
   ]
  },
  {
   "cell_type": "code",
   "execution_count": null,
   "id": "69ba7039",
   "metadata": {},
   "outputs": [],
   "source": [
    "for i in range(5,10):\n",
    "    print(f'i == {i}')\n",
    "    if i == 11:\n",
    "        print('python')\n",
    "        continue\n",
    "    print(\"hello\")"
   ]
  },
  {
   "cell_type": "markdown",
   "id": "e15ea6dc",
   "metadata": {},
   "source": [
    "### 3. pass"
   ]
  },
  {
   "cell_type": "code",
   "execution_count": null,
   "id": "f137b846",
   "metadata": {},
   "outputs": [],
   "source": [
    "it is used to avoid error"
   ]
  },
  {
   "cell_type": "code",
   "execution_count": 34,
   "id": "83df84c0",
   "metadata": {},
   "outputs": [
    {
     "name": "stdout",
     "output_type": "stream",
     "text": [
      "i == 5\n",
      "Loop completed\n",
      "i == 6\n",
      "Loop completed\n",
      "i == 7\n",
      "Loop completed\n",
      "i == 8\n",
      "Loop completed\n",
      "i == 9\n",
      "Loop completed\n"
     ]
    }
   ],
   "source": [
    "for i in range(5,10):\n",
    "    print(f'i == {i}')\n",
    "    if i == 7:\n",
    "        pass\n",
    "    print('Loop completed')"
   ]
  },
  {
   "cell_type": "code",
   "execution_count": 35,
   "id": "ea3494ab",
   "metadata": {},
   "outputs": [
    {
     "name": "stdout",
     "output_type": "stream",
     "text": [
      "5\n",
      "6\n",
      "7\n",
      "8\n",
      "9\n"
     ]
    }
   ],
   "source": [
    "for i in range(5,10):\n",
    "    print(i)"
   ]
  },
  {
   "cell_type": "code",
   "execution_count": 36,
   "id": "39b679d4",
   "metadata": {},
   "outputs": [
    {
     "ename": "SyntaxError",
     "evalue": "unexpected EOF while parsing (<ipython-input-36-61fa86d6240a>, line 2)",
     "output_type": "error",
     "traceback": [
      "\u001b[1;36m  File \u001b[1;32m\"<ipython-input-36-61fa86d6240a>\"\u001b[1;36m, line \u001b[1;32m2\u001b[0m\n\u001b[1;33m    #     print(i)\u001b[0m\n\u001b[1;37m                  ^\u001b[0m\n\u001b[1;31mSyntaxError\u001b[0m\u001b[1;31m:\u001b[0m unexpected EOF while parsing\n"
     ]
    }
   ],
   "source": [
    "for i in range(5,10):\n",
    "#     print(i)"
   ]
  },
  {
   "cell_type": "code",
   "execution_count": 37,
   "id": "43975ac6",
   "metadata": {},
   "outputs": [],
   "source": [
    "for i in range(5,10):\n",
    "#     print(i)  statement1\n",
    "    pass"
   ]
  },
  {
   "cell_type": "code",
   "execution_count": null,
   "id": "1c0c6e31",
   "metadata": {},
   "outputs": [],
   "source": []
  }
 ],
 "metadata": {
  "kernelspec": {
   "display_name": "Python 3",
   "language": "python",
   "name": "python3"
  },
  "language_info": {
   "codemirror_mode": {
    "name": "ipython",
    "version": 3
   },
   "file_extension": ".py",
   "mimetype": "text/x-python",
   "name": "python",
   "nbconvert_exporter": "python",
   "pygments_lexer": "ipython3",
   "version": "3.8.8"
  }
 },
 "nbformat": 4,
 "nbformat_minor": 5
}
