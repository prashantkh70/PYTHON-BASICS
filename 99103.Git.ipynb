{
 "cells": [
  {
   "cell_type": "code",
   "execution_count": null,
   "id": "07cc878f",
   "metadata": {},
   "outputs": [],
   "source": [
    "local >>>>> cloud,virtual pc,code repository"
   ]
  },
  {
   "cell_type": "markdown",
   "id": "1a696807",
   "metadata": {},
   "source": [
    "# JIRA"
   ]
  },
  {
   "cell_type": "code",
   "execution_count": null,
   "id": "58856818",
   "metadata": {},
   "outputs": [],
   "source": [
    "epic >>> 3 months >>> project plan\n",
    "     sprint1 >>>> 2 week or 15 days or 10 working days\n",
    "            story1 >>> pipeline\n",
    "            story2 >>> EDA:\n",
    "                        encoding:\n",
    "            issue>>>"
   ]
  },
  {
   "cell_type": "markdown",
   "id": "9eaa72e9",
   "metadata": {},
   "source": [
    "# Git"
   ]
  },
  {
   "cell_type": "code",
   "execution_count": null,
   "id": "86826f96",
   "metadata": {},
   "outputs": [],
   "source": [
    "GitHub\n",
    "GitLab\n",
    "GitBucket"
   ]
  },
  {
   "cell_type": "markdown",
   "id": "8b75609f",
   "metadata": {},
   "source": [
    "# Clone Repo"
   ]
  },
  {
   "cell_type": "code",
   "execution_count": null,
   "id": "3487ab5e",
   "metadata": {},
   "outputs": [],
   "source": [
    "git clone url"
   ]
  },
  {
   "cell_type": "code",
   "execution_count": null,
   "id": "efe0dede",
   "metadata": {},
   "outputs": [],
   "source": []
  },
  {
   "cell_type": "code",
   "execution_count": null,
   "id": "e029a302",
   "metadata": {},
   "outputs": [],
   "source": []
  },
  {
   "cell_type": "code",
   "execution_count": null,
   "id": "da423f86",
   "metadata": {},
   "outputs": [],
   "source": []
  }
 ],
 "metadata": {
  "kernelspec": {
   "display_name": "Python 3",
   "language": "python",
   "name": "python3"
  },
  "language_info": {
   "codemirror_mode": {
    "name": "ipython",
    "version": 3
   },
   "file_extension": ".py",
   "mimetype": "text/x-python",
   "name": "python",
   "nbconvert_exporter": "python",
   "pygments_lexer": "ipython3",
   "version": "3.8.8"
  }
 },
 "nbformat": 4,
 "nbformat_minor": 5
}
