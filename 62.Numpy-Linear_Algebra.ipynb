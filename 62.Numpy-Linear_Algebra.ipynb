{
 "cells": [
  {
   "cell_type": "markdown",
   "id": "b0fda9f9",
   "metadata": {},
   "source": [
    "# Linear Algebra"
   ]
  },
  {
   "cell_type": "code",
   "execution_count": null,
   "id": "be6b5ab7",
   "metadata": {},
   "outputs": [],
   "source": [
    "2x + 5y = 10\n",
    "3x + 8y = 20\n",
    "\n",
    "x=-20\n",
    "y= 10"
   ]
  },
  {
   "cell_type": "code",
   "execution_count": 1,
   "id": "2e86f688",
   "metadata": {},
   "outputs": [
    {
     "data": {
      "text/plain": [
       "10"
      ]
     },
     "execution_count": 1,
     "metadata": {},
     "output_type": "execute_result"
    }
   ],
   "source": [
    "2*-20 + 5*10"
   ]
  },
  {
   "cell_type": "code",
   "execution_count": 2,
   "id": "a28f40cc",
   "metadata": {},
   "outputs": [
    {
     "data": {
      "text/plain": [
       "20"
      ]
     },
     "execution_count": 2,
     "metadata": {},
     "output_type": "execute_result"
    }
   ],
   "source": [
    "3*-20 + 8*10"
   ]
  },
  {
   "cell_type": "code",
   "execution_count": null,
   "id": "884ab9a6",
   "metadata": {},
   "outputs": [],
   "source": [
    "2x + 5y + 4z = 10\n",
    "3x + 8y + 6z = 20\n",
    "4x + 6y + 2z = 15"
   ]
  },
  {
   "cell_type": "code",
   "execution_count": 3,
   "id": "952282a9",
   "metadata": {},
   "outputs": [],
   "source": [
    "import numpy as np"
   ]
  },
  {
   "cell_type": "code",
   "execution_count": null,
   "id": "50f0b108",
   "metadata": {},
   "outputs": [],
   "source": [
    "2x + 5y = 10\n",
    "3x + 8y = 20"
   ]
  },
  {
   "cell_type": "code",
   "execution_count": 4,
   "id": "539e812b",
   "metadata": {},
   "outputs": [
    {
     "name": "stdout",
     "output_type": "stream",
     "text": [
      "array1 is\n",
      " [[2 5]\n",
      " [3 8]]\n",
      "array2 is\n",
      " [10 20]\n"
     ]
    }
   ],
   "source": [
    "array1 = np.array([[2,5],[3,8]])\n",
    "array2 = np.array([10,20])\n",
    "print(\"array1 is\\n\",array1)\n",
    "print(\"array2 is\\n\",array2)"
   ]
  },
  {
   "cell_type": "code",
   "execution_count": 5,
   "id": "50f6a865",
   "metadata": {},
   "outputs": [
    {
     "data": {
      "text/plain": [
       "array([-20.,  10.])"
      ]
     },
     "execution_count": 5,
     "metadata": {},
     "output_type": "execute_result"
    }
   ],
   "source": [
    "result =np.linalg.solve(array1,array2)\n",
    "result"
   ]
  },
  {
   "cell_type": "code",
   "execution_count": null,
   "id": "2c9123c5",
   "metadata": {},
   "outputs": [],
   "source": [
    "2x + 5y + 4z = 10\n",
    "3x + 8y + 6z = 20\n",
    "4x + 6y + 2z = 15"
   ]
  },
  {
   "cell_type": "code",
   "execution_count": 6,
   "id": "01be285c",
   "metadata": {},
   "outputs": [
    {
     "name": "stdout",
     "output_type": "stream",
     "text": [
      "arrayA is\n",
      " [[2 5 4]\n",
      " [3 8 6]\n",
      " [4 6 2]]\n",
      "arrayB is\n",
      " [10 20 15]\n",
      "******************************\n"
     ]
    },
    {
     "data": {
      "text/plain": [
       "array([-8.33333333, 10.        , -5.83333333])"
      ]
     },
     "execution_count": 6,
     "metadata": {},
     "output_type": "execute_result"
    }
   ],
   "source": [
    "arrayA = np.array([[2,5,4],[3,8,6],[4,6,2]])\n",
    "arrayB = np.array([10,20,15])\n",
    "print(\"arrayA is\\n\",arrayA)\n",
    "print(\"arrayB is\\n\",arrayB)\n",
    "print('*'*30)\n",
    "result =np.linalg.solve(arrayA,arrayB)\n",
    "result"
   ]
  },
  {
   "cell_type": "markdown",
   "id": "d97fac1d",
   "metadata": {},
   "source": [
    "# Inverse of matrix"
   ]
  },
  {
   "cell_type": "code",
   "execution_count": null,
   "id": "30ab835a",
   "metadata": {},
   "outputs": [],
   "source": [
    "Adjoint  =  transpose of cofactor matrix    |A| != 0\n",
    "\n",
    "\n",
    "2  5\n",
    "3  8        "
   ]
  },
  {
   "cell_type": "code",
   "execution_count": null,
   "id": "02bb80f2",
   "metadata": {},
   "outputs": [],
   "source": [
    "8  -5\n",
    "-3  2"
   ]
  },
  {
   "cell_type": "code",
   "execution_count": 7,
   "id": "a81a78ba",
   "metadata": {},
   "outputs": [
    {
     "data": {
      "text/plain": [
       "array([[2, 5],\n",
       "       [3, 8]])"
      ]
     },
     "execution_count": 7,
     "metadata": {},
     "output_type": "execute_result"
    }
   ],
   "source": [
    "array_A = np.array([[2,5],[3,8]])\n",
    "array_A"
   ]
  },
  {
   "cell_type": "code",
   "execution_count": 8,
   "id": "03de3124",
   "metadata": {},
   "outputs": [
    {
     "data": {
      "text/plain": [
       "array([[ 8., -5.],\n",
       "       [-3.,  2.]])"
      ]
     },
     "execution_count": 8,
     "metadata": {},
     "output_type": "execute_result"
    }
   ],
   "source": [
    "np.linalg.inv(array_A)"
   ]
  },
  {
   "cell_type": "code",
   "execution_count": 9,
   "id": "4e2681b2",
   "metadata": {},
   "outputs": [
    {
     "data": {
      "text/plain": [
       "array([[ 3.33333333e+00, -2.33333333e+00,  3.33333333e-01],\n",
       "       [-3.00000000e+00,  2.00000000e+00, -6.34413157e-17],\n",
       "       [ 2.33333333e+00, -1.33333333e+00, -1.66666667e-01]])"
      ]
     },
     "execution_count": 9,
     "metadata": {},
     "output_type": "execute_result"
    }
   ],
   "source": [
    "array_a=np.array([[2,5,4],[3,8,6],[4,6,2]])\n",
    "np.linalg.inv(array_a)"
   ]
  },
  {
   "cell_type": "code",
   "execution_count": null,
   "id": "87ff33d0",
   "metadata": {},
   "outputs": [],
   "source": []
  }
 ],
 "metadata": {
  "kernelspec": {
   "display_name": "Python 3",
   "language": "python",
   "name": "python3"
  },
  "language_info": {
   "codemirror_mode": {
    "name": "ipython",
    "version": 3
   },
   "file_extension": ".py",
   "mimetype": "text/x-python",
   "name": "python",
   "nbconvert_exporter": "python",
   "pygments_lexer": "ipython3",
   "version": "3.8.8"
  }
 },
 "nbformat": 4,
 "nbformat_minor": 5
}
