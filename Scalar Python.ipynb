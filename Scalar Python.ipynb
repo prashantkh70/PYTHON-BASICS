{
 "cells": [
  {
   "cell_type": "code",
   "execution_count": 24,
   "id": "29f64901",
   "metadata": {},
   "outputs": [
    {
     "name": "stdout",
     "output_type": "stream",
     "text": [
      "Hello Print\n"
     ]
    }
   ],
   "source": [
    "print('Hello Print')     # python is interpreter language and dynamic language.\n"
   ]
  },
  {
   "cell_type": "code",
   "execution_count": 25,
   "id": "eea94fd6",
   "metadata": {},
   "outputs": [],
   "source": [
    "random_var= \"random_value\""
   ]
  },
  {
   "cell_type": "code",
   "execution_count": 26,
   "id": "ca863a09",
   "metadata": {},
   "outputs": [],
   "source": [
    "random_var= 100\n"
   ]
  },
  {
   "cell_type": "markdown",
   "id": "3a7f3845",
   "metadata": {},
   "source": [
    "### Every thing in python is object type.\n",
    "tuples , boolean, int, string, functions, classes, lists, dicatories  alll are object.\n",
    " "
   ]
  },
  {
   "cell_type": "code",
   "execution_count": 6,
   "id": "e5dad7cd",
   "metadata": {},
   "outputs": [
    {
     "data": {
      "text/plain": [
       "True"
      ]
     },
     "execution_count": 6,
     "metadata": {},
     "output_type": "execute_result"
    }
   ],
   "source": [
    "# to prove above statement     # isinstance is used to check it.\n",
    "isinstance(45,int)    # if 45 is int then it is a object"
   ]
  },
  {
   "cell_type": "code",
   "execution_count": 7,
   "id": "d75d23c9",
   "metadata": {},
   "outputs": [
    {
     "data": {
      "text/plain": [
       "False"
      ]
     },
     "execution_count": 7,
     "metadata": {},
     "output_type": "execute_result"
    }
   ],
   "source": [
    "isinstance(45,str)"
   ]
  },
  {
   "cell_type": "code",
   "execution_count": 9,
   "id": "c2472a82",
   "metadata": {},
   "outputs": [
    {
     "data": {
      "text/plain": [
       "True"
      ]
     },
     "execution_count": 9,
     "metadata": {},
     "output_type": "execute_result"
    }
   ],
   "source": [
    "isinstance(45,object)   # hence we can see , 45 which is integer is object."
   ]
  },
  {
   "cell_type": "code",
   "execution_count": 10,
   "id": "03de4573",
   "metadata": {},
   "outputs": [
    {
     "data": {
      "text/plain": [
       "True"
      ]
     },
     "execution_count": 10,
     "metadata": {},
     "output_type": "execute_result"
    }
   ],
   "source": [
    "isinstance(print,object)  # print is also object"
   ]
  },
  {
   "cell_type": "code",
   "execution_count": 11,
   "id": "cafb2334",
   "metadata": {},
   "outputs": [],
   "source": [
    "# so we can say that python is object oriented programming language"
   ]
  },
  {
   "cell_type": "code",
   "execution_count": 12,
   "id": "967958c6",
   "metadata": {},
   "outputs": [],
   "source": [
    "# Homework - floating point number in python.\n",
    "# Decimal --> binary"
   ]
  },
  {
   "cell_type": "markdown",
   "id": "3ed5bb6d",
   "metadata": {},
   "source": [
    "### Variable naming rule\n",
    "1. Variable name can start with aplhabets and _\n",
    "2. variable name can have aplhabets, numbers and _ in in the middle"
   ]
  },
  {
   "cell_type": "code",
   "execution_count": 15,
   "id": "3a5dffc4",
   "metadata": {},
   "outputs": [],
   "source": [
    "_abc=123   # is valid variable name"
   ]
  },
  {
   "cell_type": "code",
   "execution_count": 18,
   "id": "4cf6b052",
   "metadata": {},
   "outputs": [
    {
     "ename": "SyntaxError",
     "evalue": "invalid syntax (<ipython-input-18-024cade195b8>, line 1)",
     "output_type": "error",
     "traceback": [
      "\u001b[1;36m  File \u001b[1;32m\"<ipython-input-18-024cade195b8>\"\u001b[1;36m, line \u001b[1;32m1\u001b[0m\n\u001b[1;33m    123abc= 123   # variable cant start with number\u001b[0m\n\u001b[1;37m       ^\u001b[0m\n\u001b[1;31mSyntaxError\u001b[0m\u001b[1;31m:\u001b[0m invalid syntax\n"
     ]
    }
   ],
   "source": [
    "123abc= 123   # variable cant start with number"
   ]
  },
  {
   "cell_type": "code",
   "execution_count": 19,
   "id": "4d86140b",
   "metadata": {},
   "outputs": [
    {
     "data": {
      "text/plain": [
       "True"
      ]
     },
     "execution_count": 19,
     "metadata": {},
     "output_type": "execute_result"
    }
   ],
   "source": [
    "_    # underscore is very special variable in python    , it scores value of previous expression  \n",
    "        #it is know as through away value    # it is developed for scienfic calculation so to make it easy and faster"
   ]
  },
  {
   "cell_type": "code",
   "execution_count": 20,
   "id": "adf271ca",
   "metadata": {},
   "outputs": [
    {
     "data": {
      "text/plain": [
       "9"
      ]
     },
     "execution_count": 20,
     "metadata": {},
     "output_type": "execute_result"
    }
   ],
   "source": [
    "   4+5    # 4+5 is 9 "
   ]
  },
  {
   "cell_type": "code",
   "execution_count": 21,
   "id": "ce46f93f",
   "metadata": {},
   "outputs": [
    {
     "data": {
      "text/plain": [
       "9"
      ]
     },
     "execution_count": 21,
     "metadata": {},
     "output_type": "execute_result"
    }
   ],
   "source": [
    "_        # here _ stored the value 9  "
   ]
  },
  {
   "cell_type": "code",
   "execution_count": 23,
   "id": "f65e3f46",
   "metadata": {},
   "outputs": [
    {
     "data": {
      "text/plain": [
       "19"
      ]
     },
     "execution_count": 23,
     "metadata": {},
     "output_type": "execute_result"
    }
   ],
   "source": [
    "_ + 10     # here _ is 9   and plus 10 is 14   "
   ]
  },
  {
   "cell_type": "markdown",
   "id": "01d9945c",
   "metadata": {},
   "source": [
    "### Mutable and unmutaable\n"
   ]
  },
  {
   "cell_type": "code",
   "execution_count": 28,
   "id": "09682172",
   "metadata": {},
   "outputs": [],
   "source": [
    "#Mutuable  "
   ]
  },
  {
   "cell_type": "code",
   "execution_count": 29,
   "id": "82fc8ffd",
   "metadata": {},
   "outputs": [],
   "source": [
    "a= 5"
   ]
  },
  {
   "cell_type": "code",
   "execution_count": 30,
   "id": "9ed88675",
   "metadata": {},
   "outputs": [],
   "source": [
    "a=6"
   ]
  },
  {
   "cell_type": "code",
   "execution_count": 32,
   "id": "eb0b4908",
   "metadata": {},
   "outputs": [
    {
     "data": {
      "text/plain": [
       "'internally , python maintain global register, ther is variable a and also memory stack having addresses, every memory\\n   is connected to a address.   when a= 5   , python store address of 5 to a, if a=6 then address of 6 is allocated to a.\\n   so it is not mutable.\\n   integers are not mutable in python. '"
      ]
     },
     "execution_count": 32,
     "metadata": {},
     "output_type": "execute_result"
    }
   ],
   "source": [
    "\"\"\"internally , python maintain global register, ther is variable a and also memory stack having addresses, every memory\n",
    "   is connected to a address.   when a= 5   , python store address of 5 to a, if a=6 then address of 6 is allocated to a.\n",
    "   so it is not mutable.\n",
    "   integers are immutable in python. \"\"\""
   ]
  },
  {
   "cell_type": "code",
   "execution_count": 33,
   "id": "d1cccb7a",
   "metadata": {},
   "outputs": [],
   "source": [
    "# list , sets and dictionaries    # all are mutable"
   ]
  },
  {
   "cell_type": "code",
   "execution_count": 34,
   "id": "3a65eba0",
   "metadata": {},
   "outputs": [],
   "source": [
    "a=5\n"
   ]
  },
  {
   "cell_type": "code",
   "execution_count": 35,
   "id": "03030e10",
   "metadata": {},
   "outputs": [
    {
     "data": {
      "text/plain": [
       "140721626752944"
      ]
     },
     "execution_count": 35,
     "metadata": {},
     "output_type": "execute_result"
    }
   ],
   "source": [
    "id(a)  # id gives the perticular memory address where it is stored"
   ]
  },
  {
   "cell_type": "code",
   "execution_count": 36,
   "id": "82ba556b",
   "metadata": {},
   "outputs": [],
   "source": [
    "a=6"
   ]
  },
  {
   "cell_type": "code",
   "execution_count": 37,
   "id": "14b2467e",
   "metadata": {},
   "outputs": [
    {
     "data": {
      "text/plain": [
       "140721626752976"
      ]
     },
     "execution_count": 37,
     "metadata": {},
     "output_type": "execute_result"
    }
   ],
   "source": [
    "id(a)"
   ]
  },
  {
   "cell_type": "code",
   "execution_count": 38,
   "id": "8a15dbf2",
   "metadata": {},
   "outputs": [],
   "source": [
    "a=5\n",
    "b=5"
   ]
  },
  {
   "cell_type": "code",
   "execution_count": 39,
   "id": "840d9646",
   "metadata": {},
   "outputs": [
    {
     "data": {
      "text/plain": [
       "True"
      ]
     },
     "execution_count": 39,
     "metadata": {},
     "output_type": "execute_result"
    }
   ],
   "source": [
    "id(a) ==id(b)    # It is true "
   ]
  },
  {
   "cell_type": "code",
   "execution_count": 40,
   "id": "405e82f3",
   "metadata": {},
   "outputs": [],
   "source": [
    "# Homework\n",
    "# Small integer caching   -5 to 256  are commely used number, as soon as python proh=gram are started ,these address are \n",
    "    # already assigned,  so it make faster to access the numbers.\n",
    "    # - 5 to 256 are pre-stored in memory."
   ]
  },
  {
   "cell_type": "markdown",
   "id": "73ad38e1",
   "metadata": {},
   "source": [
    "### iteration"
   ]
  },
  {
   "cell_type": "code",
   "execution_count": 41,
   "id": "6a7849c1",
   "metadata": {},
   "outputs": [
    {
     "ename": "TypeError",
     "evalue": "'int' object is not iterable",
     "output_type": "error",
     "traceback": [
      "\u001b[1;31m---------------------------------------------------------------------------\u001b[0m",
      "\u001b[1;31mTypeError\u001b[0m                                 Traceback (most recent call last)",
      "\u001b[1;32m<ipython-input-41-b5733fb4dc52>\u001b[0m in \u001b[0;36m<module>\u001b[1;34m\u001b[0m\n\u001b[1;32m----> 1\u001b[1;33m \u001b[1;32mfor\u001b[0m \u001b[0mi\u001b[0m \u001b[1;32min\u001b[0m \u001b[1;36m45\u001b[0m\u001b[1;33m:\u001b[0m\u001b[1;33m\u001b[0m\u001b[1;33m\u001b[0m\u001b[0m\n\u001b[0m\u001b[0;32m      2\u001b[0m     \u001b[0mprint\u001b[0m\u001b[1;33m(\u001b[0m\u001b[0mi\u001b[0m\u001b[1;33m)\u001b[0m\u001b[1;33m\u001b[0m\u001b[1;33m\u001b[0m\u001b[0m\n",
      "\u001b[1;31mTypeError\u001b[0m: 'int' object is not iterable"
     ]
    }
   ],
   "source": [
    "for i in 45:\n",
    "    print(i)"
   ]
  },
  {
   "cell_type": "code",
   "execution_count": 42,
   "id": "9cc70b2b",
   "metadata": {},
   "outputs": [],
   "source": [
    "# some data structure are iterable , some are not"
   ]
  },
  {
   "cell_type": "markdown",
   "id": "3625d963",
   "metadata": {},
   "source": [
    "### Iteration Protocol"
   ]
  },
  {
   "cell_type": "code",
   "execution_count": 44,
   "id": "f89ecc58",
   "metadata": {},
   "outputs": [],
   "source": [
    "# a=python\n",
    "# iterable- set of iteration\n",
    "# python says , gives special fucntion iter\n",
    "# whenever pass iterbale to iter , it will give iterater \n",
    "#  can you loop through the string without using itertor?? anser is below\n"
   ]
  },
  {
   "cell_type": "code",
   "execution_count": 45,
   "id": "80c888f7",
   "metadata": {},
   "outputs": [],
   "source": [
    "a=\"python\""
   ]
  },
  {
   "cell_type": "code",
   "execution_count": 46,
   "id": "98133ffd",
   "metadata": {},
   "outputs": [],
   "source": [
    "it= iter(a)"
   ]
  },
  {
   "cell_type": "code",
   "execution_count": 47,
   "id": "122223a7",
   "metadata": {},
   "outputs": [
    {
     "data": {
      "text/plain": [
       "<str_iterator at 0x292de0d4a60>"
      ]
     },
     "execution_count": 47,
     "metadata": {},
     "output_type": "execute_result"
    }
   ],
   "source": [
    "it"
   ]
  },
  {
   "cell_type": "code",
   "execution_count": 48,
   "id": "9ab9f983",
   "metadata": {},
   "outputs": [
    {
     "data": {
      "text/plain": [
       "'p'"
      ]
     },
     "execution_count": 48,
     "metadata": {},
     "output_type": "execute_result"
    }
   ],
   "source": [
    "next(it)   # when pass iterable to nect , give next element"
   ]
  },
  {
   "cell_type": "code",
   "execution_count": 49,
   "id": "16bdb3b0",
   "metadata": {},
   "outputs": [
    {
     "data": {
      "text/plain": [
       "'y'"
      ]
     },
     "execution_count": 49,
     "metadata": {},
     "output_type": "execute_result"
    }
   ],
   "source": [
    "next(it)   # iterator goes element by element"
   ]
  },
  {
   "cell_type": "code",
   "execution_count": 50,
   "id": "e5a51aa1",
   "metadata": {},
   "outputs": [
    {
     "data": {
      "text/plain": [
       "'t'"
      ]
     },
     "execution_count": 50,
     "metadata": {},
     "output_type": "execute_result"
    }
   ],
   "source": [
    "next(it)"
   ]
  },
  {
   "cell_type": "code",
   "execution_count": 51,
   "id": "157bf0fc",
   "metadata": {},
   "outputs": [
    {
     "data": {
      "text/plain": [
       "'h'"
      ]
     },
     "execution_count": 51,
     "metadata": {},
     "output_type": "execute_result"
    }
   ],
   "source": [
    "next(it)"
   ]
  },
  {
   "cell_type": "code",
   "execution_count": 52,
   "id": "bb7b777b",
   "metadata": {},
   "outputs": [
    {
     "data": {
      "text/plain": [
       "'o'"
      ]
     },
     "execution_count": 52,
     "metadata": {},
     "output_type": "execute_result"
    }
   ],
   "source": [
    "next(it)"
   ]
  },
  {
   "cell_type": "code",
   "execution_count": 53,
   "id": "c2576a96",
   "metadata": {},
   "outputs": [
    {
     "data": {
      "text/plain": [
       "'n'"
      ]
     },
     "execution_count": 53,
     "metadata": {},
     "output_type": "execute_result"
    }
   ],
   "source": [
    "next(it)"
   ]
  },
  {
   "cell_type": "code",
   "execution_count": 54,
   "id": "749086e6",
   "metadata": {},
   "outputs": [
    {
     "ename": "StopIteration",
     "evalue": "",
     "output_type": "error",
     "traceback": [
      "\u001b[1;31m---------------------------------------------------------------------------\u001b[0m",
      "\u001b[1;31mStopIteration\u001b[0m                             Traceback (most recent call last)",
      "\u001b[1;32m<ipython-input-54-bc1ab118995a>\u001b[0m in \u001b[0;36m<module>\u001b[1;34m\u001b[0m\n\u001b[1;32m----> 1\u001b[1;33m \u001b[0mnext\u001b[0m\u001b[1;33m(\u001b[0m\u001b[0mit\u001b[0m\u001b[1;33m)\u001b[0m\u001b[1;33m\u001b[0m\u001b[1;33m\u001b[0m\u001b[0m\n\u001b[0m",
      "\u001b[1;31mStopIteration\u001b[0m: "
     ]
    }
   ],
   "source": [
    "next(it)"
   ]
  },
  {
   "cell_type": "code",
   "execution_count": 55,
   "id": "e880a100",
   "metadata": {},
   "outputs": [],
   "source": [
    "# for loops also uses this concept in python.\n",
    "# so it is poosible using this concept to iterate without using loop."
   ]
  },
  {
   "cell_type": "markdown",
   "id": "3d9a59db",
   "metadata": {},
   "source": [
    "# Range"
   ]
  },
  {
   "cell_type": "code",
   "execution_count": 56,
   "id": "e309a84f",
   "metadata": {},
   "outputs": [
    {
     "name": "stdout",
     "output_type": "stream",
     "text": [
      "1\n",
      "2\n",
      "3\n",
      "4\n",
      "5\n",
      "6\n",
      "7\n",
      "8\n",
      "9\n"
     ]
    }
   ],
   "source": [
    "# [start, end]\n",
    "for i in range(1,10):\n",
    "    print(i)"
   ]
  },
  {
   "cell_type": "code",
   "execution_count": 57,
   "id": "8b509751",
   "metadata": {},
   "outputs": [],
   "source": [
    "a=range(0,10)"
   ]
  },
  {
   "cell_type": "code",
   "execution_count": 58,
   "id": "f4ad1042",
   "metadata": {},
   "outputs": [],
   "source": [
    "it=iter(a)"
   ]
  },
  {
   "cell_type": "code",
   "execution_count": 59,
   "id": "487e847e",
   "metadata": {},
   "outputs": [
    {
     "data": {
      "text/plain": [
       "<range_iterator at 0x292ddad7d90>"
      ]
     },
     "execution_count": 59,
     "metadata": {},
     "output_type": "execute_result"
    }
   ],
   "source": [
    "it"
   ]
  },
  {
   "cell_type": "code",
   "execution_count": 68,
   "id": "206154ed",
   "metadata": {},
   "outputs": [
    {
     "data": {
      "text/plain": [
       "8"
      ]
     },
     "execution_count": 68,
     "metadata": {},
     "output_type": "execute_result"
    }
   ],
   "source": [
    "next(it)"
   ]
  },
  {
   "cell_type": "code",
   "execution_count": 69,
   "id": "bc20e511",
   "metadata": {},
   "outputs": [
    {
     "data": {
      "text/plain": [
       "9"
      ]
     },
     "execution_count": 69,
     "metadata": {},
     "output_type": "execute_result"
    }
   ],
   "source": [
    "next(it)"
   ]
  },
  {
   "cell_type": "code",
   "execution_count": 70,
   "id": "1d1bdf2d",
   "metadata": {},
   "outputs": [
    {
     "ename": "StopIteration",
     "evalue": "",
     "output_type": "error",
     "traceback": [
      "\u001b[1;31m---------------------------------------------------------------------------\u001b[0m",
      "\u001b[1;31mStopIteration\u001b[0m                             Traceback (most recent call last)",
      "\u001b[1;32m<ipython-input-70-bc1ab118995a>\u001b[0m in \u001b[0;36m<module>\u001b[1;34m\u001b[0m\n\u001b[1;32m----> 1\u001b[1;33m \u001b[0mnext\u001b[0m\u001b[1;33m(\u001b[0m\u001b[0mit\u001b[0m\u001b[1;33m)\u001b[0m\u001b[1;33m\u001b[0m\u001b[1;33m\u001b[0m\u001b[0m\n\u001b[0m",
      "\u001b[1;31mStopIteration\u001b[0m: "
     ]
    }
   ],
   "source": [
    "next(it)"
   ]
  },
  {
   "cell_type": "markdown",
   "id": "676bb9e5",
   "metadata": {},
   "source": [
    "###  Tuple is faster than lists."
   ]
  },
  {
   "cell_type": "code",
   "execution_count": null,
   "id": "6e36603f",
   "metadata": {},
   "outputs": [],
   "source": []
  }
 ],
 "metadata": {
  "kernelspec": {
   "display_name": "Python 3",
   "language": "python",
   "name": "python3"
  },
  "language_info": {
   "codemirror_mode": {
    "name": "ipython",
    "version": 3
   },
   "file_extension": ".py",
   "mimetype": "text/x-python",
   "name": "python",
   "nbconvert_exporter": "python",
   "pygments_lexer": "ipython3",
   "version": "3.8.8"
  }
 },
 "nbformat": 4,
 "nbformat_minor": 5
}
